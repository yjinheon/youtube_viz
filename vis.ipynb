{
 "cells": [
  {
   "cell_type": "markdown",
   "metadata": {},
   "source": [
    "## Meta Data\n",
    "\n",
    "### DATA Description\n",
    "\n",
    "- video_id\t영상의 비디오 아이디\n",
    "- channel_id\t영상이 업로드 되어있는 채널 아이디\n",
    "- published_date\t영 상이 유튜브에 업로드된 날짜\n",
    "- category_name\t영상/채널의 카테고리\n",
    "- duration\t영상 길이 (PT1H13M25S == 1시간13분25초)\n",
    "- tags\t영상에 사용된 해시태그\n",
    "- description\t영상부연설명\n",
    "- on_trending_date\t인기 동영상에서 처음 포착된 날짜\n",
    "- off_trending_date\t인기 동영상에서 사라진 날짜\n",
    "- on_rank\t인기 동영상에서 처음 기록된 순위\n",
    "- off_rank\t인기 동영상에서 사라지기전 기록된 순위\n",
    "- on_views\t인기 동영상에서 처음 기록된 조회수\n",
    "- off_views\t인기 동영상에서 사라지기전 기록된 조회수\n",
    "- on_likes\t인기 동영상에서 처음 기록된 좋아요수\n",
    "- off_likes\t인기 동영상에서 사라지기전 기록된 좋아요수\n",
    "- on_dislikes\t인기 동영상에서 처음 기록된 싫어요수\n",
    "- off_dislikes\t인기 동영상에서 사라지기전 기록된 싫어요수\n",
    "- on_comments\t인기 동영상에서 처음 기록된 댓글수\n",
    "- off_comments\t인기 동영상에서 사라지기전 기록된 댓글수\n",
    "- on_channel_subscribers\t인기 동영상에서 처음 기록된 채널의 구독자수\n",
    "- off_channel_subscribers\t인기 동영상에서 사라지기전 기록된 채널의 구독자수\n",
    "- on_channel_total_views\t인기 동영상에서 처음 기록된 채널의 전체 비디오 조회수의 합\n",
    "- off_channel_total_views\t인기 동영상에서 사라지기전 기록된 채널의 전체 비디오\n",
    "조회수의 합\n",
    "- on_channel_total_videos\t인기 동영상에서 처음 기록된 채널의 비디오 개수\n",
    "- off_channel_total_videos\t인기 동영상에서 사라지기전 기록된 채널의 비디오 개수\n",
    "\n",
    "### TASK"
   ]
  },
  {
   "cell_type": "markdown",
   "metadata": {},
   "source": [
    "## EDA & Preprocess"
   ]
  },
  {
   "cell_type": "code",
   "execution_count": 1,
   "metadata": {},
   "outputs": [],
   "source": [
    "import numpy as np\n",
    "import pandas as pd\n",
    "import matplotlib as mpl\n",
    "import matplotlib.pyplot as plt\n",
    "import seaborn as sns\n",
    "import warnings; \n",
    "warnings.filterwarnings(action='ignore')\n",
    "\n",
    "\n",
    "# warning 삭제용\n",
    "from matplotlib.axes._axes import _log as matplotlib_axes_logger\n",
    "matplotlib_axes_logger.setLevel('ERROR')\n",
    "\n",
    "large = 22; med = 16; small = 12\n",
    "params = {'axes.titlesize': large,\n",
    "          'legend.fontsize': med,\n",
    "          'figure.figsize': (16, 10),\n",
    "          'axes.labelsize': med,\n",
    "          'axes.titlesize': med,\n",
    "          'xtick.labelsize': med,\n",
    "          'ytick.labelsize': med,\n",
    "          'figure.titlesize': large}\n",
    "plt.rcParams.update(params)\n",
    "plt.style.use('seaborn-whitegrid')\n",
    "sns.set_style(\"white\")\n",
    "%matplotlib inline"
   ]
  },
  {
   "cell_type": "code",
   "execution_count": 2,
   "metadata": {},
   "outputs": [
    {
     "data": {
      "text/html": [
       "<div>\n",
       "<style scoped>\n",
       "    .dataframe tbody tr th:only-of-type {\n",
       "        vertical-align: middle;\n",
       "    }\n",
       "\n",
       "    .dataframe tbody tr th {\n",
       "        vertical-align: top;\n",
       "    }\n",
       "\n",
       "    .dataframe thead th {\n",
       "        text-align: right;\n",
       "    }\n",
       "</style>\n",
       "<table border=\"1\" class=\"dataframe\">\n",
       "  <thead>\n",
       "    <tr style=\"text-align: right;\">\n",
       "      <th></th>\n",
       "      <th>video_id</th>\n",
       "      <th>channel_id</th>\n",
       "      <th>published_date</th>\n",
       "      <th>category_name</th>\n",
       "      <th>duration</th>\n",
       "      <th>tags</th>\n",
       "      <th>description</th>\n",
       "      <th>on_trending_date</th>\n",
       "      <th>off_trending_date</th>\n",
       "      <th>on_rank</th>\n",
       "      <th>...</th>\n",
       "      <th>on_dislikes</th>\n",
       "      <th>off_dislikes</th>\n",
       "      <th>on_comments</th>\n",
       "      <th>off_comments</th>\n",
       "      <th>on_channel_subscribers</th>\n",
       "      <th>off_channel_subscribers</th>\n",
       "      <th>on_channel_total_views</th>\n",
       "      <th>off_channel_total_views</th>\n",
       "      <th>on_channel_total_videos</th>\n",
       "      <th>off_channel_total_videos</th>\n",
       "    </tr>\n",
       "  </thead>\n",
       "  <tbody>\n",
       "    <tr>\n",
       "      <th>0</th>\n",
       "      <td>V-0db</td>\n",
       "      <td>CH49ta0</td>\n",
       "      <td>2021-07-01</td>\n",
       "      <td>Entertainment</td>\n",
       "      <td>PT8M20S</td>\n",
       "      <td>SiriusXM|Sirius XM|Sirius|SXM|BIGHIT|빅히트|방탄소년단...</td>\n",
       "      <td>BTS performs their hit songs ‘Dynamite’ and ‘B...</td>\n",
       "      <td>2021-07-03</td>\n",
       "      <td>2021-07-04</td>\n",
       "      <td>13</td>\n",
       "      <td>...</td>\n",
       "      <td>792</td>\n",
       "      <td>1014</td>\n",
       "      <td>10373</td>\n",
       "      <td>10720</td>\n",
       "      <td>1080000</td>\n",
       "      <td>1080000</td>\n",
       "      <td>685992413</td>\n",
       "      <td>687485021</td>\n",
       "      <td>5947</td>\n",
       "      <td>5950</td>\n",
       "    </tr>\n",
       "    <tr>\n",
       "      <th>1</th>\n",
       "      <td>V-1XL</td>\n",
       "      <td>CHZVD--</td>\n",
       "      <td>2021-06-24</td>\n",
       "      <td>Entertainment</td>\n",
       "      <td>PT9M17S</td>\n",
       "      <td>치킨불냉면|치킨|불냉면|냉면</td>\n",
       "      <td>영상에 나오는 캐릭터의 이름은 파도비 입니다. 고양이가 아니라 파란 도깨비입니다. ...</td>\n",
       "      <td>2021-06-26</td>\n",
       "      <td>2021-06-27</td>\n",
       "      <td>28</td>\n",
       "      <td>...</td>\n",
       "      <td>121</td>\n",
       "      <td>154</td>\n",
       "      <td>1083</td>\n",
       "      <td>1173</td>\n",
       "      <td>627000</td>\n",
       "      <td>628000</td>\n",
       "      <td>75327083</td>\n",
       "      <td>75685030</td>\n",
       "      <td>70</td>\n",
       "      <td>70</td>\n",
       "    </tr>\n",
       "    <tr>\n",
       "      <th>2</th>\n",
       "      <td>V-4fa</td>\n",
       "      <td>CH9w-h_</td>\n",
       "      <td>2021-07-17</td>\n",
       "      <td>Entertainment</td>\n",
       "      <td>PT7M39S</td>\n",
       "      <td>NaN</td>\n",
       "      <td>거세 구형, 성 충동 제거를 위한 엄벌 치료 VS 인권 보호해야고민 끝에 내린 강요...</td>\n",
       "      <td>2021-07-19</td>\n",
       "      <td>2021-07-22</td>\n",
       "      <td>1</td>\n",
       "      <td>...</td>\n",
       "      <td>162</td>\n",
       "      <td>233</td>\n",
       "      <td>696</td>\n",
       "      <td>1006</td>\n",
       "      <td>5750000</td>\n",
       "      <td>5750000</td>\n",
       "      <td>5424167911</td>\n",
       "      <td>5431617741</td>\n",
       "      <td>34270</td>\n",
       "      <td>34341</td>\n",
       "    </tr>\n",
       "    <tr>\n",
       "      <th>3</th>\n",
       "      <td>V-5ip</td>\n",
       "      <td>CHUQVGX</td>\n",
       "      <td>2021-06-02</td>\n",
       "      <td>Sports</td>\n",
       "      <td>PT6M40S</td>\n",
       "      <td>News Network|SBS SPORTSMUG|SPORTSMUG|스포츠머그|축구|...</td>\n",
       "      <td>세계 최초 9회 연속 올림픽 본선 진출! 그동안 한국 축구의 역사를 써내려 간 올림...</td>\n",
       "      <td>2021-06-04</td>\n",
       "      <td>2021-06-04</td>\n",
       "      <td>18</td>\n",
       "      <td>...</td>\n",
       "      <td>30</td>\n",
       "      <td>30</td>\n",
       "      <td>416</td>\n",
       "      <td>416</td>\n",
       "      <td>94200</td>\n",
       "      <td>94200</td>\n",
       "      <td>71160125</td>\n",
       "      <td>71160125</td>\n",
       "      <td>224</td>\n",
       "      <td>224</td>\n",
       "    </tr>\n",
       "    <tr>\n",
       "      <th>4</th>\n",
       "      <td>V-5jn</td>\n",
       "      <td>CHhI3EX</td>\n",
       "      <td>2021-07-06</td>\n",
       "      <td>Sports</td>\n",
       "      <td>PT11M27S</td>\n",
       "      <td>이천수|심판도전기|축구심판</td>\n",
       "      <td>찾아 뵐 심판분들이 이제 18명정도 남았네요</td>\n",
       "      <td>2021-07-08</td>\n",
       "      <td>2021-07-09</td>\n",
       "      <td>11</td>\n",
       "      <td>...</td>\n",
       "      <td>112</td>\n",
       "      <td>143</td>\n",
       "      <td>687</td>\n",
       "      <td>772</td>\n",
       "      <td>47600</td>\n",
       "      <td>49200</td>\n",
       "      <td>6993451</td>\n",
       "      <td>7607123</td>\n",
       "      <td>21</td>\n",
       "      <td>21</td>\n",
       "    </tr>\n",
       "  </tbody>\n",
       "</table>\n",
       "<p>5 rows × 25 columns</p>\n",
       "</div>"
      ],
      "text/plain": [
       "  video_id channel_id published_date  category_name  duration  \\\n",
       "0    V-0db    CH49ta0     2021-07-01  Entertainment   PT8M20S   \n",
       "1    V-1XL    CHZVD--     2021-06-24  Entertainment   PT9M17S   \n",
       "2    V-4fa    CH9w-h_     2021-07-17  Entertainment   PT7M39S   \n",
       "3    V-5ip    CHUQVGX     2021-06-02         Sports   PT6M40S   \n",
       "4    V-5jn    CHhI3EX     2021-07-06         Sports  PT11M27S   \n",
       "\n",
       "                                                tags  \\\n",
       "0  SiriusXM|Sirius XM|Sirius|SXM|BIGHIT|빅히트|방탄소년단...   \n",
       "1                                    치킨불냉면|치킨|불냉면|냉면   \n",
       "2                                                NaN   \n",
       "3  News Network|SBS SPORTSMUG|SPORTSMUG|스포츠머그|축구|...   \n",
       "4                                     이천수|심판도전기|축구심판   \n",
       "\n",
       "                                         description on_trending_date  \\\n",
       "0  BTS performs their hit songs ‘Dynamite’ and ‘B...       2021-07-03   \n",
       "1  영상에 나오는 캐릭터의 이름은 파도비 입니다. 고양이가 아니라 파란 도깨비입니다. ...       2021-06-26   \n",
       "2  거세 구형, 성 충동 제거를 위한 엄벌 치료 VS 인권 보호해야고민 끝에 내린 강요...       2021-07-19   \n",
       "3  세계 최초 9회 연속 올림픽 본선 진출! 그동안 한국 축구의 역사를 써내려 간 올림...       2021-06-04   \n",
       "4                           찾아 뵐 심판분들이 이제 18명정도 남았네요       2021-07-08   \n",
       "\n",
       "  off_trending_date  on_rank  ...  on_dislikes  off_dislikes  on_comments  \\\n",
       "0        2021-07-04       13  ...          792          1014        10373   \n",
       "1        2021-06-27       28  ...          121           154         1083   \n",
       "2        2021-07-22        1  ...          162           233          696   \n",
       "3        2021-06-04       18  ...           30            30          416   \n",
       "4        2021-07-09       11  ...          112           143          687   \n",
       "\n",
       "   off_comments  on_channel_subscribers  off_channel_subscribers  \\\n",
       "0         10720                 1080000                  1080000   \n",
       "1          1173                  627000                   628000   \n",
       "2          1006                 5750000                  5750000   \n",
       "3           416                   94200                    94200   \n",
       "4           772                   47600                    49200   \n",
       "\n",
       "   on_channel_total_views  off_channel_total_views  on_channel_total_videos  \\\n",
       "0               685992413                687485021                     5947   \n",
       "1                75327083                 75685030                       70   \n",
       "2              5424167911               5431617741                    34270   \n",
       "3                71160125                 71160125                      224   \n",
       "4                 6993451                  7607123                       21   \n",
       "\n",
       "   off_channel_total_videos  \n",
       "0                      5950  \n",
       "1                        70  \n",
       "2                     34341  \n",
       "3                       224  \n",
       "4                        21  \n",
       "\n",
       "[5 rows x 25 columns]"
      ]
     },
     "execution_count": 2,
     "metadata": {},
     "output_type": "execute_result"
    }
   ],
   "source": [
    "import pandas as pd\n",
    "import numpy as np\n",
    "\n",
    "df = pd.read_csv('data/pretest_data.csv')\n",
    "df.head()"
   ]
  },
  {
   "cell_type": "code",
   "execution_count": 3,
   "metadata": {},
   "outputs": [],
   "source": [
    "# \n",
    "\n",
    "df['published_date'] = pd.to_datetime(df['published_date'])"
   ]
  },
  {
   "cell_type": "code",
   "execution_count": 4,
   "metadata": {},
   "outputs": [
    {
     "data": {
      "text/plain": [
       "array(['2021-07', '2021-06', '2021-04', '2021-05', '2021-03'],\n",
       "      dtype=object)"
      ]
     },
     "execution_count": 4,
     "metadata": {},
     "output_type": "execute_result"
    }
   ],
   "source": [
    "# month, year column \n",
    "#df['month'] = df['published_date'].dt.month\n",
    "#df['year'] = df['published_date'].dt.year\n",
    "df['year_month'] = df['published_date'].dt.strftime('%Y-%m')\n",
    "\n",
    "pd.unique(df['year_month'])"
   ]
  },
  {
   "cell_type": "code",
   "execution_count": null,
   "metadata": {},
   "outputs": [],
   "source": [
    "# string matching\n",
    "\n",
    "import sys\n",
    "\n",
    "str_list = []\n",
    "\n",
    "# \n",
    "n = int(sys.stdin.readline())\n",
    "\n",
    "for i in range(n):\n",
    "    str_list.append(list(map(int,sys.stdin.readLine().split())))\n",
    "\n",
    "# number of matching strings\n",
    "\n",
    "n_match = int(sys.stdin.readline())\n",
    "\n",
    "match_list = []\n",
    "\n",
    "for i in range(n_match):\n",
    "    match_list.append(list(map(int,sys.stdin.readline().split())))\n",
    "\n",
    "\n",
    "# Q1\n",
    "def str_match(match_list,str_list):\n",
    "    for i in match_list:\n",
    "            res = [\"YES\" if j in i else \"NO\" for j in str_list]\n",
    "            print(\" \".join(res))\n",
    "\n",
    "\n"
   ]
  },
  {
   "cell_type": "markdown",
   "metadata": {},
   "source": [
    "### 중복 record 처리"
   ]
  },
  {
   "cell_type": "code",
   "execution_count": 5,
   "metadata": {},
   "outputs": [
    {
     "data": {
      "text/html": [
       "<div>\n",
       "<style scoped>\n",
       "    .dataframe tbody tr th:only-of-type {\n",
       "        vertical-align: middle;\n",
       "    }\n",
       "\n",
       "    .dataframe tbody tr th {\n",
       "        vertical-align: top;\n",
       "    }\n",
       "\n",
       "    .dataframe thead th {\n",
       "        text-align: right;\n",
       "    }\n",
       "</style>\n",
       "<table border=\"1\" class=\"dataframe\">\n",
       "  <thead>\n",
       "    <tr style=\"text-align: right;\">\n",
       "      <th></th>\n",
       "      <th>video_id</th>\n",
       "      <th>channel_id</th>\n",
       "      <th>category_name</th>\n",
       "    </tr>\n",
       "  </thead>\n",
       "  <tbody>\n",
       "    <tr>\n",
       "      <th>count</th>\n",
       "      <td>2644</td>\n",
       "      <td>2644</td>\n",
       "      <td>2644</td>\n",
       "    </tr>\n",
       "    <tr>\n",
       "      <th>unique</th>\n",
       "      <td>2643</td>\n",
       "      <td>940</td>\n",
       "      <td>15</td>\n",
       "    </tr>\n",
       "    <tr>\n",
       "      <th>top</th>\n",
       "      <td>VBSBm</td>\n",
       "      <td>CHQ2O-i</td>\n",
       "      <td>Entertainment</td>\n",
       "    </tr>\n",
       "    <tr>\n",
       "      <th>freq</th>\n",
       "      <td>2</td>\n",
       "      <td>17</td>\n",
       "      <td>954</td>\n",
       "    </tr>\n",
       "  </tbody>\n",
       "</table>\n",
       "</div>"
      ],
      "text/plain": [
       "       video_id channel_id  category_name\n",
       "count      2644       2644           2644\n",
       "unique     2643        940             15\n",
       "top       VBSBm    CHQ2O-i  Entertainment\n",
       "freq          2         17            954"
      ]
     },
     "execution_count": 5,
     "metadata": {},
     "output_type": "execute_result"
    }
   ],
   "source": [
    "### 주요변수 선택\n",
    "\n",
    "df[['video_id','channel_id','category_name']].describe()"
   ]
  },
  {
   "cell_type": "markdown",
   "metadata": {},
   "source": [
    "- video_id의 unique value가 전체 count 보다 1개 모자라므로 video_id가 중복된 것으로 보임 "
   ]
  },
  {
   "cell_type": "code",
   "execution_count": 6,
   "metadata": {},
   "outputs": [
    {
     "data": {
      "text/html": [
       "<div>\n",
       "<style scoped>\n",
       "    .dataframe tbody tr th:only-of-type {\n",
       "        vertical-align: middle;\n",
       "    }\n",
       "\n",
       "    .dataframe tbody tr th {\n",
       "        vertical-align: top;\n",
       "    }\n",
       "\n",
       "    .dataframe thead th {\n",
       "        text-align: right;\n",
       "    }\n",
       "</style>\n",
       "<table border=\"1\" class=\"dataframe\">\n",
       "  <thead>\n",
       "    <tr style=\"text-align: right;\">\n",
       "      <th></th>\n",
       "      <th>video_id</th>\n",
       "      <th>channel_id</th>\n",
       "      <th>published_date</th>\n",
       "      <th>category_name</th>\n",
       "      <th>duration</th>\n",
       "      <th>tags</th>\n",
       "      <th>description</th>\n",
       "      <th>on_trending_date</th>\n",
       "      <th>off_trending_date</th>\n",
       "      <th>on_rank</th>\n",
       "      <th>...</th>\n",
       "      <th>off_dislikes</th>\n",
       "      <th>on_comments</th>\n",
       "      <th>off_comments</th>\n",
       "      <th>on_channel_subscribers</th>\n",
       "      <th>off_channel_subscribers</th>\n",
       "      <th>on_channel_total_views</th>\n",
       "      <th>off_channel_total_views</th>\n",
       "      <th>on_channel_total_videos</th>\n",
       "      <th>off_channel_total_videos</th>\n",
       "      <th>year_month</th>\n",
       "    </tr>\n",
       "  </thead>\n",
       "  <tbody>\n",
       "    <tr>\n",
       "      <th>535</th>\n",
       "      <td>VBSBm</td>\n",
       "      <td>CHF4Wxd</td>\n",
       "      <td>2021-07-09</td>\n",
       "      <td>News &amp; Politics</td>\n",
       "      <td>PT1M56S</td>\n",
       "      <td>MBC|MBC뉴스|뉴스데스크|newsdesk|뉴스투데이|newstoday|8시뉴스|...</td>\n",
       "      <td>전남 순천의 한 어린이집에서 원생을 마중 나온 선생님이 경사로에 밀린 학부모의 차량...</td>\n",
       "      <td>2021-07-11</td>\n",
       "      <td>2021-07-14</td>\n",
       "      <td>3</td>\n",
       "      <td>...</td>\n",
       "      <td>765</td>\n",
       "      <td>16067</td>\n",
       "      <td>17655</td>\n",
       "      <td>1430000</td>\n",
       "      <td>1440000</td>\n",
       "      <td>3130819202</td>\n",
       "      <td>3151554338</td>\n",
       "      <td>112154</td>\n",
       "      <td>112456</td>\n",
       "      <td>2021-07</td>\n",
       "    </tr>\n",
       "  </tbody>\n",
       "</table>\n",
       "<p>1 rows × 26 columns</p>\n",
       "</div>"
      ],
      "text/plain": [
       "    video_id channel_id published_date    category_name duration  \\\n",
       "535    VBSBm    CHF4Wxd     2021-07-09  News & Politics  PT1M56S   \n",
       "\n",
       "                                                  tags  \\\n",
       "535  MBC|MBC뉴스|뉴스데스크|newsdesk|뉴스투데이|newstoday|8시뉴스|...   \n",
       "\n",
       "                                           description on_trending_date  \\\n",
       "535  전남 순천의 한 어린이집에서 원생을 마중 나온 선생님이 경사로에 밀린 학부모의 차량...       2021-07-11   \n",
       "\n",
       "    off_trending_date  on_rank  ...  off_dislikes  on_comments  off_comments  \\\n",
       "535        2021-07-14        3  ...           765        16067         17655   \n",
       "\n",
       "     on_channel_subscribers  off_channel_subscribers  on_channel_total_views  \\\n",
       "535                 1430000                  1440000              3130819202   \n",
       "\n",
       "     off_channel_total_views  on_channel_total_videos  \\\n",
       "535               3151554338                   112154   \n",
       "\n",
       "     off_channel_total_videos  year_month  \n",
       "535                    112456     2021-07  \n",
       "\n",
       "[1 rows x 26 columns]"
      ]
     },
     "execution_count": 6,
     "metadata": {},
     "output_type": "execute_result"
    }
   ],
   "source": [
    "df[df.duplicated(['video_id'])]"
   ]
  },
  {
   "cell_type": "code",
   "execution_count": 98,
   "metadata": {},
   "outputs": [
    {
     "data": {
      "text/html": [
       "<div>\n",
       "<style scoped>\n",
       "    .dataframe tbody tr th:only-of-type {\n",
       "        vertical-align: middle;\n",
       "    }\n",
       "\n",
       "    .dataframe tbody tr th {\n",
       "        vertical-align: top;\n",
       "    }\n",
       "\n",
       "    .dataframe thead th {\n",
       "        text-align: right;\n",
       "    }\n",
       "</style>\n",
       "<table border=\"1\" class=\"dataframe\">\n",
       "  <thead>\n",
       "    <tr style=\"text-align: right;\">\n",
       "      <th></th>\n",
       "      <th>video_id</th>\n",
       "      <th>channel_id</th>\n",
       "      <th>published_date</th>\n",
       "      <th>category_name</th>\n",
       "      <th>duration</th>\n",
       "      <th>tags</th>\n",
       "      <th>description</th>\n",
       "      <th>on_trending_date</th>\n",
       "      <th>off_trending_date</th>\n",
       "      <th>on_rank</th>\n",
       "      <th>...</th>\n",
       "      <th>off_comments</th>\n",
       "      <th>on_channel_subscribers</th>\n",
       "      <th>off_channel_subscribers</th>\n",
       "      <th>on_channel_total_views</th>\n",
       "      <th>off_channel_total_views</th>\n",
       "      <th>on_channel_total_videos</th>\n",
       "      <th>off_channel_total_videos</th>\n",
       "      <th>month</th>\n",
       "      <th>year</th>\n",
       "      <th>year_month</th>\n",
       "    </tr>\n",
       "  </thead>\n",
       "  <tbody>\n",
       "    <tr>\n",
       "      <th>534</th>\n",
       "      <td>VBSBm</td>\n",
       "      <td>CH0VR2v</td>\n",
       "      <td>2021-05-07</td>\n",
       "      <td>Entertainment</td>\n",
       "      <td>PT11M6S</td>\n",
       "      <td>요리|레시피|육식|고기|육식맨|고기요리|YOOXICMAN|짜장면|자장면|짜장|고기짜...</td>\n",
       "      <td>※ 오늘 영상에 등장하는 모든 식재료, 조리도구, 업장, TV프로그램, 브랜드, 서...</td>\n",
       "      <td>2021-05-09</td>\n",
       "      <td>2021-05-10</td>\n",
       "      <td>40</td>\n",
       "      <td>...</td>\n",
       "      <td>1568</td>\n",
       "      <td>652000</td>\n",
       "      <td>652000</td>\n",
       "      <td>94094934</td>\n",
       "      <td>94383615</td>\n",
       "      <td>90</td>\n",
       "      <td>90</td>\n",
       "      <td>5</td>\n",
       "      <td>2021</td>\n",
       "      <td>2021-05</td>\n",
       "    </tr>\n",
       "  </tbody>\n",
       "</table>\n",
       "<p>1 rows × 28 columns</p>\n",
       "</div>"
      ],
      "text/plain": [
       "    video_id channel_id published_date  category_name duration  \\\n",
       "534    VBSBm    CH0VR2v     2021-05-07  Entertainment  PT11M6S   \n",
       "\n",
       "                                                  tags  \\\n",
       "534  요리|레시피|육식|고기|육식맨|고기요리|YOOXICMAN|짜장면|자장면|짜장|고기짜...   \n",
       "\n",
       "                                           description on_trending_date  \\\n",
       "534  ※ 오늘 영상에 등장하는 모든 식재료, 조리도구, 업장, TV프로그램, 브랜드, 서...       2021-05-09   \n",
       "\n",
       "    off_trending_date  on_rank  ...  off_comments  on_channel_subscribers  \\\n",
       "534        2021-05-10       40  ...          1568                  652000   \n",
       "\n",
       "     off_channel_subscribers  on_channel_total_views  off_channel_total_views  \\\n",
       "534                   652000                94094934                 94383615   \n",
       "\n",
       "     on_channel_total_videos  off_channel_total_videos  month  year  \\\n",
       "534                       90                        90      5  2021   \n",
       "\n",
       "     year_month  \n",
       "534     2021-05  \n",
       "\n",
       "[1 rows x 28 columns]"
      ]
     },
     "execution_count": 98,
     "metadata": {},
     "output_type": "execute_result"
    }
   ],
   "source": [
    "df[df['video_id']=='VBSBm']"
   ]
  },
  {
   "cell_type": "markdown",
   "metadata": {},
   "source": [
    "video_id가 중복된 두 레코드가 내용상 서로 다르기에 이후 분석은 아래쪽 레코드의 video_id값을 변경하여 진행함\n"
   ]
  },
  {
   "cell_type": "code",
   "execution_count": 7,
   "metadata": {},
   "outputs": [],
   "source": [
    "cond = (df['video_id']=='VBSBm') & (df['category_name']=='News & Politics')\n",
    "df.loc[cond,'video_id'] = 'VBSBm_News_Politics'"
   ]
  },
  {
   "cell_type": "code",
   "execution_count": 100,
   "metadata": {},
   "outputs": [
    {
     "data": {
      "text/html": [
       "<div>\n",
       "<style scoped>\n",
       "    .dataframe tbody tr th:only-of-type {\n",
       "        vertical-align: middle;\n",
       "    }\n",
       "\n",
       "    .dataframe tbody tr th {\n",
       "        vertical-align: top;\n",
       "    }\n",
       "\n",
       "    .dataframe thead th {\n",
       "        text-align: right;\n",
       "    }\n",
       "</style>\n",
       "<table border=\"1\" class=\"dataframe\">\n",
       "  <thead>\n",
       "    <tr style=\"text-align: right;\">\n",
       "      <th></th>\n",
       "      <th>video_id</th>\n",
       "      <th>channel_id</th>\n",
       "      <th>category_name</th>\n",
       "    </tr>\n",
       "  </thead>\n",
       "  <tbody>\n",
       "    <tr>\n",
       "      <th>count</th>\n",
       "      <td>2644</td>\n",
       "      <td>2644</td>\n",
       "      <td>2644</td>\n",
       "    </tr>\n",
       "    <tr>\n",
       "      <th>unique</th>\n",
       "      <td>2644</td>\n",
       "      <td>940</td>\n",
       "      <td>15</td>\n",
       "    </tr>\n",
       "    <tr>\n",
       "      <th>top</th>\n",
       "      <td>V-0db</td>\n",
       "      <td>CHQ2O-i</td>\n",
       "      <td>Entertainment</td>\n",
       "    </tr>\n",
       "    <tr>\n",
       "      <th>freq</th>\n",
       "      <td>1</td>\n",
       "      <td>17</td>\n",
       "      <td>954</td>\n",
       "    </tr>\n",
       "  </tbody>\n",
       "</table>\n",
       "</div>"
      ],
      "text/plain": [
       "       video_id channel_id  category_name\n",
       "count      2644       2644           2644\n",
       "unique     2644        940             15\n",
       "top       V-0db    CHQ2O-i  Entertainment\n",
       "freq          1         17            954"
      ]
     },
     "execution_count": 100,
     "metadata": {},
     "output_type": "execute_result"
    }
   ],
   "source": [
    "df[['video_id','channel_id','category_name']].describe()"
   ]
  },
  {
   "cell_type": "code",
   "execution_count": 8,
   "metadata": {},
   "outputs": [
    {
     "data": {
      "text/html": [
       "<div>\n",
       "<style scoped>\n",
       "    .dataframe tbody tr th:only-of-type {\n",
       "        vertical-align: middle;\n",
       "    }\n",
       "\n",
       "    .dataframe tbody tr th {\n",
       "        vertical-align: top;\n",
       "    }\n",
       "\n",
       "    .dataframe thead th {\n",
       "        text-align: right;\n",
       "    }\n",
       "</style>\n",
       "<table border=\"1\" class=\"dataframe\">\n",
       "  <thead>\n",
       "    <tr style=\"text-align: right;\">\n",
       "      <th></th>\n",
       "      <th>video_id</th>\n",
       "      <th>channel_id</th>\n",
       "      <th>published_date</th>\n",
       "      <th>category_name</th>\n",
       "      <th>duration</th>\n",
       "      <th>tags</th>\n",
       "      <th>description</th>\n",
       "      <th>on_trending_date</th>\n",
       "      <th>off_trending_date</th>\n",
       "      <th>on_rank</th>\n",
       "      <th>...</th>\n",
       "      <th>off_dislikes</th>\n",
       "      <th>on_comments</th>\n",
       "      <th>off_comments</th>\n",
       "      <th>on_channel_subscribers</th>\n",
       "      <th>off_channel_subscribers</th>\n",
       "      <th>on_channel_total_views</th>\n",
       "      <th>off_channel_total_views</th>\n",
       "      <th>on_channel_total_videos</th>\n",
       "      <th>off_channel_total_videos</th>\n",
       "      <th>year_month</th>\n",
       "    </tr>\n",
       "  </thead>\n",
       "  <tbody>\n",
       "    <tr>\n",
       "      <th>535</th>\n",
       "      <td>VBSBm_News_Politics</td>\n",
       "      <td>CHF4Wxd</td>\n",
       "      <td>2021-07-09</td>\n",
       "      <td>News &amp; Politics</td>\n",
       "      <td>PT1M56S</td>\n",
       "      <td>MBC|MBC뉴스|뉴스데스크|newsdesk|뉴스투데이|newstoday|8시뉴스|...</td>\n",
       "      <td>전남 순천의 한 어린이집에서 원생을 마중 나온 선생님이 경사로에 밀린 학부모의 차량...</td>\n",
       "      <td>2021-07-11</td>\n",
       "      <td>2021-07-14</td>\n",
       "      <td>3</td>\n",
       "      <td>...</td>\n",
       "      <td>765</td>\n",
       "      <td>16067</td>\n",
       "      <td>17655</td>\n",
       "      <td>1430000</td>\n",
       "      <td>1440000</td>\n",
       "      <td>3130819202</td>\n",
       "      <td>3151554338</td>\n",
       "      <td>112154</td>\n",
       "      <td>112456</td>\n",
       "      <td>2021-07</td>\n",
       "    </tr>\n",
       "  </tbody>\n",
       "</table>\n",
       "<p>1 rows × 26 columns</p>\n",
       "</div>"
      ],
      "text/plain": [
       "                video_id channel_id published_date    category_name duration  \\\n",
       "535  VBSBm_News_Politics    CHF4Wxd     2021-07-09  News & Politics  PT1M56S   \n",
       "\n",
       "                                                  tags  \\\n",
       "535  MBC|MBC뉴스|뉴스데스크|newsdesk|뉴스투데이|newstoday|8시뉴스|...   \n",
       "\n",
       "                                           description on_trending_date  \\\n",
       "535  전남 순천의 한 어린이집에서 원생을 마중 나온 선생님이 경사로에 밀린 학부모의 차량...       2021-07-11   \n",
       "\n",
       "    off_trending_date  on_rank  ...  off_dislikes  on_comments  off_comments  \\\n",
       "535        2021-07-14        3  ...           765        16067         17655   \n",
       "\n",
       "     on_channel_subscribers  off_channel_subscribers  on_channel_total_views  \\\n",
       "535                 1430000                  1440000              3130819202   \n",
       "\n",
       "     off_channel_total_views  on_channel_total_videos  \\\n",
       "535               3151554338                   112154   \n",
       "\n",
       "     off_channel_total_videos  year_month  \n",
       "535                    112456     2021-07  \n",
       "\n",
       "[1 rows x 26 columns]"
      ]
     },
     "execution_count": 8,
     "metadata": {},
     "output_type": "execute_result"
    }
   ],
   "source": [
    "df[cond]"
   ]
  },
  {
   "cell_type": "markdown",
   "metadata": {},
   "source": [
    "## Q1 Visualization\n",
    "\n",
    "### Ideation\n",
    "\n",
    "- 카테고리단위 로 나눠서 채널별 차트 생성\n",
    "- 색상은 기본차트 제외 다른 걸로\n",
    "\n",
    "### Q1-1 전체 카테고리 채널-> 비디오 개수\n",
    "\n",
    "- Q1. 데이터 타입별 시각화 (자유양식) \n",
    "  - 전체기간 카테고리->채널->비디오 개수\n",
    "  - 월별 카테고리->채널->비디오 개수\n",
    "  - 월별 TOP10 채널 (분류 기준은 비디오 개수)\n",
    "  - 주별 TOP5 채널 (분류 기준은 비디오 개수)\n",
    "  - 월별 카테고리별 태그 키워드 순위\n",
    "- Q2. 각각의 비디오는 시청자의 호응도(engagement)를 판단할수 있는 객관적인 지표들이\n",
    "있음\n",
    "ex) views, likes, dislikes, comments,...\n",
    "  - 비디오를 인기 동영상 기준에 부합하도록 분류할수 있는 새로운 지표를 개발하고\n",
    "  - 이 지표를 사용하여 engagement 와 어떤 상관관계가 있는지 설명하시오."
   ]
  },
  {
   "cell_type": "code",
   "execution_count": 117,
   "metadata": {},
   "outputs": [],
   "source": [
    "# make class \n",
    "import plotly.express as px\n",
    "\n",
    "#fig = px.bar(q1_1, y='video_id',x='channel_id' ,color='category_name',orientation='v',barmode='stack')\n",
    "\n",
    "\n",
    "class YoutubeViz():\n",
    "    def __init__(self,df):\n",
    "        self.df = df\n",
    "        self.df['published_date'] = pd.to_datetime(self.df['published_date'])\n",
    "        self.df['week_num'] = self.df['published_date'].dt.week\n",
    "        self.q1_1 = self.df[['video_id','category_name','channel_id','week_num']].groupby(['category_name','channel_id']). \\\n",
    "            count().\\\n",
    "            sort_values(by='video_id',ascending=False).\\\n",
    "            reset_index(drop=False)\n",
    "        \n",
    "    def get_video_id(self):\n",
    "        return self.df['video_id']\n",
    "    \n",
    "    def get_channel_id(self):\n",
    "        return self.df['channel_id']\n",
    "    \n",
    "    # 카테고리별 채널별 비디오 개수\n",
    "    def solve_q1_1(self):\n",
    "        fig = px.bar(self.q1_1, y='video_id',x='channel_id' ,color='category_name',\n",
    "                     orientation='v',barmode='stack',\n",
    "                     color_discrete_sequence=px.colors.qualitative.Dark24)\n",
    "        fig.update_layout(title_text='Video Count by Category and Channel',\n",
    "                        xaxis_title='Channel',\n",
    "                        yaxis_title='Video Count',\n",
    "                        width=1600,\n",
    "                        height=800)\n",
    "            \n",
    "        return fig\n",
    "    \n",
    "    # 월멸 카텍고리별 채널별 비디오 개수\n",
    "    def solve_q1_2(self):\n",
    "        fig = px.bar(self.q1_1, y='video_id',x='channel_id' ,color='category_name',facet_row=\"year_month\",\n",
    "                     orientation='v',barmode='stack',facet_col_wrap=2,\n",
    "                     color_discrete_sequence=px.colors.qualitative.Dark24)\n",
    "\n",
    "        fig.for_each_annotation(lambda a: a.update(text=a.text.split(\"=\")[-1]))\n",
    "        fig.for_each_yaxis(lambda y: y.update(title='Video Count'))\n",
    "        fig.update_layout(title_text='Video Count by Category and Channel by Month',\n",
    "                        xaxis_title='Channel',\n",
    "                        yaxis_title='Video Count',\n",
    "                        width=1600,\n",
    "                        height=800)\n",
    "        return fig\n",
    "    \n",
    "    def solve_q1_1_new(self):\n",
    "        fig = px.bar(self.q1_1, y='video_id',x='channel_id' ,facet_row='category_name',\n",
    "                     orientation='v',\n",
    "                     color_discrete_sequence=px.colors.qualitative.Dark24)\n",
    "        fig.update_xaxes(matches=None)\n",
    "        fig.update_layout(title_text='Video Count by Category and Channel',\n",
    "                        xaxis_title='Channel',\n",
    "                        yaxis_title='Video Count',\n",
    "                        width=1600,\n",
    "                        height=800)\n",
    "        \n",
    "        return fig    \n",
    "    # 월별 비디오 개수 기준 Top5 채널\n",
    "    def solve_q1_3(self):\n",
    "        top5=self.q1_1.sort_values(['year_month','video_id'],ascending=[True,False]).groupby('year_month'). \\\n",
    "            head(5)\n",
    "        fig = px.bar(top5, y='video_id',x='channel_id' ,facet_col=\"year_month\")\n",
    "        fig.for_each_annotation(lambda a: a.update(text=a.text.split(\"=\")[-1]))\n",
    "        fig.update_xaxes(showticklabels=True , matches=None)\n",
    "        fig.update_layout(title_text='Top 5 Channel by Month',\n",
    "                          yaxis_title='Video Count',\n",
    "                          xaxis_title='Channel')\n",
    "    \n",
    "        return fig\n",
    "        \n",
    "    # 주별 비디오 개수 기준 Top5 채널\n",
    "    def solve_q1_4(self):\n",
    "        top5=self.q1_1.sort_values(['week_num','video_id'],ascending=[True,False]).groupby('week_num'). \\\n",
    "            head(5)\n",
    "        fig = px.bar(top5, y='video_id',x='channel_id' ,facet_col=\"week_num\")\n",
    "        fig.for_each_annotation(lambda a: a.update(text=a.text.split(\"=\")[-1]))\n",
    "        fig.update_xaxes(showticklabels=True , matches=None)\n",
    "        fig.update_layout(title_text='Top 5 Channel by Week',\n",
    "                          yaxis_title='Video Count',\n",
    "                          xaxis_title=None)\n",
    "        \n",
    "        return fig\n",
    "\n",
    "        \n",
    "        \n"
   ]
  },
  {
   "cell_type": "code",
   "execution_count": null,
   "metadata": {},
   "outputs": [],
   "source": [
    "fig.update_yaxes(showticklabels=True , matches=None)\n",
    "fig.update_xaxes(showticklabels=True , matches=None)"
   ]
  },
  {
   "cell_type": "code",
   "execution_count": 121,
   "metadata": {},
   "outputs": [
    {
     "data": {
      "text/html": [
       "<div>\n",
       "<style scoped>\n",
       "    .dataframe tbody tr th:only-of-type {\n",
       "        vertical-align: middle;\n",
       "    }\n",
       "\n",
       "    .dataframe tbody tr th {\n",
       "        vertical-align: top;\n",
       "    }\n",
       "\n",
       "    .dataframe thead th {\n",
       "        text-align: right;\n",
       "    }\n",
       "</style>\n",
       "<table border=\"1\" class=\"dataframe\">\n",
       "  <thead>\n",
       "    <tr style=\"text-align: right;\">\n",
       "      <th></th>\n",
       "      <th>category_name</th>\n",
       "      <th>channel_id</th>\n",
       "      <th>video_id</th>\n",
       "      <th>week_num</th>\n",
       "    </tr>\n",
       "  </thead>\n",
       "  <tbody>\n",
       "    <tr>\n",
       "      <th>0</th>\n",
       "      <td>Entertainment</td>\n",
       "      <td>CHQ2O-i</td>\n",
       "      <td>17</td>\n",
       "      <td>17</td>\n",
       "    </tr>\n",
       "    <tr>\n",
       "      <th>1</th>\n",
       "      <td>Sports</td>\n",
       "      <td>CHtybqq</td>\n",
       "      <td>15</td>\n",
       "      <td>15</td>\n",
       "    </tr>\n",
       "    <tr>\n",
       "      <th>2</th>\n",
       "      <td>Entertainment</td>\n",
       "      <td>CHlzB2i</td>\n",
       "      <td>14</td>\n",
       "      <td>14</td>\n",
       "    </tr>\n",
       "    <tr>\n",
       "      <th>3</th>\n",
       "      <td>Comedy</td>\n",
       "      <td>CHmzMtX</td>\n",
       "      <td>14</td>\n",
       "      <td>14</td>\n",
       "    </tr>\n",
       "    <tr>\n",
       "      <th>4</th>\n",
       "      <td>People &amp; Blogs</td>\n",
       "      <td>CHIG4gr</td>\n",
       "      <td>14</td>\n",
       "      <td>14</td>\n",
       "    </tr>\n",
       "    <tr>\n",
       "      <th>...</th>\n",
       "      <td>...</td>\n",
       "      <td>...</td>\n",
       "      <td>...</td>\n",
       "      <td>...</td>\n",
       "    </tr>\n",
       "    <tr>\n",
       "      <th>965</th>\n",
       "      <td>Gaming</td>\n",
       "      <td>CHpDtPd</td>\n",
       "      <td>1</td>\n",
       "      <td>1</td>\n",
       "    </tr>\n",
       "    <tr>\n",
       "      <th>966</th>\n",
       "      <td>Gaming</td>\n",
       "      <td>CHpYaDy</td>\n",
       "      <td>1</td>\n",
       "      <td>1</td>\n",
       "    </tr>\n",
       "    <tr>\n",
       "      <th>967</th>\n",
       "      <td>Gaming</td>\n",
       "      <td>CHta_NR</td>\n",
       "      <td>1</td>\n",
       "      <td>1</td>\n",
       "    </tr>\n",
       "    <tr>\n",
       "      <th>968</th>\n",
       "      <td>Gaming</td>\n",
       "      <td>CHuOUU4</td>\n",
       "      <td>1</td>\n",
       "      <td>1</td>\n",
       "    </tr>\n",
       "    <tr>\n",
       "      <th>969</th>\n",
       "      <td>Travel &amp; Events</td>\n",
       "      <td>CHsLoTw</td>\n",
       "      <td>1</td>\n",
       "      <td>1</td>\n",
       "    </tr>\n",
       "  </tbody>\n",
       "</table>\n",
       "<p>970 rows × 4 columns</p>\n",
       "</div>"
      ],
      "text/plain": [
       "       category_name channel_id  video_id  week_num\n",
       "0      Entertainment    CHQ2O-i        17        17\n",
       "1             Sports    CHtybqq        15        15\n",
       "2      Entertainment    CHlzB2i        14        14\n",
       "3             Comedy    CHmzMtX        14        14\n",
       "4     People & Blogs    CHIG4gr        14        14\n",
       "..               ...        ...       ...       ...\n",
       "965           Gaming    CHpDtPd         1         1\n",
       "966           Gaming    CHpYaDy         1         1\n",
       "967           Gaming    CHta_NR         1         1\n",
       "968           Gaming    CHuOUU4         1         1\n",
       "969  Travel & Events    CHsLoTw         1         1\n",
       "\n",
       "[970 rows x 4 columns]"
      ]
     },
     "execution_count": 121,
     "metadata": {},
     "output_type": "execute_result"
    }
   ],
   "source": [
    "temp_q1_1 = temp.q1_1\n",
    "\n",
    "temp_q1_1"
   ]
  },
  {
   "cell_type": "code",
   "execution_count": 77,
   "metadata": {},
   "outputs": [
    {
     "data": {
      "text/plain": [
       "0       26\n",
       "1       25\n",
       "2       28\n",
       "3       22\n",
       "4       27\n",
       "        ..\n",
       "2639    18\n",
       "2640    30\n",
       "2641    16\n",
       "2642    17\n",
       "2643    22\n",
       "Name: week_number, Length: 2644, dtype: int64"
      ]
     },
     "execution_count": 77,
     "metadata": {},
     "output_type": "execute_result"
    }
   ],
   "source": [
    "# get weeknumber\n",
    "import datetime\n",
    "df['week_number'] = df['published_date'].dt.week\n",
    "df['week_number'] "
   ]
  },
  {
   "cell_type": "code",
   "execution_count": 60,
   "metadata": {},
   "outputs": [
    {
     "data": {
      "text/plain": [
       "'\\nfig_q1_2 = px.bar(q1_2, y=\\'video_id\\',x=\\'channel_id\\' ,color=\\'category_name\\',facet_row=\"year_month\",orientation=\\'v\\',barmode=\\'stack\\',facet_col_wrap=2)\\nfig_q1_2.for_each_annotation(lambda a: a.update(text=a.text.split(\"=\")[-1]))\\nfig_q1_2.for_each_yaxis(lambda y: y.update(title=\\'Video Count\\'))\\nfig_q1_2.update_layout(title_text=\\'Video Count by Category and Channel\\',\\n                       xaxis_title=\\'Channel\\',\\n                       width=1600,\\n                       height=800)\\nfig_q1_2.show()\\n'"
      ]
     },
     "execution_count": 60,
     "metadata": {},
     "output_type": "execute_result"
    }
   ],
   "source": [
    "\"\"\"\n",
    "fig_q1_2 = px.bar(q1_2, y='video_id',x='channel_id' ,color='category_name',facet_row=\"year_month\",orientation='v',barmode='stack',facet_col_wrap=2)\n",
    "fig_q1_2.for_each_annotation(lambda a: a.update(text=a.text.split(\"=\")[-1]))\n",
    "fig_q1_2.for_each_yaxis(lambda y: y.update(title='Video Count'))\n",
    "fig_q1_2.update_layout(title_text='Video Count by Category and Channel',\n",
    "                       xaxis_title='Channel',\n",
    "                       width=1600,\n",
    "                       height=800)\n",
    "fig_q1_2.show()\n",
    "\"\"\""
   ]
  },
  {
   "cell_type": "code",
   "execution_count": 118,
   "metadata": {},
   "outputs": [
    {
     "data": {
      "application/vnd.plotly.v1+json": {
       "config": {
        "plotlyServerURL": "https://plot.ly"
       },
       "data": [
        {
         "alignmentgroup": "True",
         "hovertemplate": "week_num=1<br>channel_id=%{x}<br>video_id=%{y}<extra></extra>",
         "legendgroup": "",
         "marker": {
          "color": "#636efa",
          "pattern": {
           "shape": ""
          }
         },
         "name": "",
         "offsetgroup": "",
         "orientation": "v",
         "showlegend": false,
         "textposition": "auto",
         "type": "bar",
         "x": [
          "CH7bRo3",
          "CH9pdRy",
          "CHG-Q7s",
          "CHD902z",
          "CHET00Y"
         ],
         "xaxis": "x",
         "y": [
          1,
          1,
          1,
          1,
          1
         ],
         "yaxis": "y"
        },
        {
         "alignmentgroup": "True",
         "hovertemplate": "week_num=2<br>channel_id=%{x}<br>video_id=%{y}<extra></extra>",
         "legendgroup": "",
         "marker": {
          "color": "#636efa",
          "pattern": {
           "shape": ""
          }
         },
         "name": "",
         "offsetgroup": "",
         "orientation": "v",
         "showlegend": false,
         "textposition": "auto",
         "type": "bar",
         "x": [
          "CHBA9Xa",
          "CH-Bsa2",
          "CHAOTbN",
          "CHWlV3L",
          "CHMGn0N"
         ],
         "xaxis": "x2",
         "y": [
          2,
          2,
          2,
          2,
          2
         ],
         "yaxis": "y2"
        },
        {
         "alignmentgroup": "True",
         "hovertemplate": "week_num=3<br>channel_id=%{x}<br>video_id=%{y}<extra></extra>",
         "legendgroup": "",
         "marker": {
          "color": "#636efa",
          "pattern": {
           "shape": ""
          }
         },
         "name": "",
         "offsetgroup": "",
         "orientation": "v",
         "showlegend": false,
         "textposition": "auto",
         "type": "bar",
         "x": [
          "CHkbJc8",
          "CHmONdw",
          "CHsNVs6",
          "CHmgt7e",
          "CHSB5FO"
         ],
         "xaxis": "x3",
         "y": [
          3,
          3,
          3,
          3,
          3
         ],
         "yaxis": "y3"
        },
        {
         "alignmentgroup": "True",
         "hovertemplate": "week_num=4<br>channel_id=%{x}<br>video_id=%{y}<extra></extra>",
         "legendgroup": "",
         "marker": {
          "color": "#636efa",
          "pattern": {
           "shape": ""
          }
         },
         "name": "",
         "offsetgroup": "",
         "orientation": "v",
         "showlegend": false,
         "textposition": "auto",
         "type": "bar",
         "x": [
          "CHxQXvv",
          "CH9idb-",
          "CHOp66V",
          "CH6lNIb",
          "CH5bUcn"
         ],
         "xaxis": "x4",
         "y": [
          4,
          4,
          4,
          4,
          4
         ],
         "yaxis": "y4"
        },
        {
         "alignmentgroup": "True",
         "hovertemplate": "week_num=5<br>channel_id=%{x}<br>video_id=%{y}<extra></extra>",
         "legendgroup": "",
         "marker": {
          "color": "#636efa",
          "pattern": {
           "shape": ""
          }
         },
         "name": "",
         "offsetgroup": "",
         "orientation": "v",
         "showlegend": false,
         "textposition": "auto",
         "type": "bar",
         "x": [
          "CH920m3",
          "CHdWgRS",
          "CHeSHil",
          "CH69l_r",
          "CHAhKKb"
         ],
         "xaxis": "x5",
         "y": [
          5,
          5,
          5,
          5,
          5
         ],
         "yaxis": "y5"
        },
        {
         "alignmentgroup": "True",
         "hovertemplate": "week_num=6<br>channel_id=%{x}<br>video_id=%{y}<extra></extra>",
         "legendgroup": "",
         "marker": {
          "color": "#636efa",
          "pattern": {
           "shape": ""
          }
         },
         "name": "",
         "offsetgroup": "",
         "orientation": "v",
         "showlegend": false,
         "textposition": "auto",
         "type": "bar",
         "x": [
          "CHsRIHt",
          "CHeLPm9",
          "CHIA-LP",
          "CHEbRSm",
          "CHdrBnB"
         ],
         "xaxis": "x6",
         "y": [
          6,
          6,
          6,
          6,
          6
         ],
         "yaxis": "y6"
        },
        {
         "alignmentgroup": "True",
         "hovertemplate": "week_num=7<br>channel_id=%{x}<br>video_id=%{y}<extra></extra>",
         "legendgroup": "",
         "marker": {
          "color": "#636efa",
          "pattern": {
           "shape": ""
          }
         },
         "name": "",
         "offsetgroup": "",
         "orientation": "v",
         "showlegend": false,
         "textposition": "auto",
         "type": "bar",
         "x": [
          "CHpjOmw",
          "CHwNVDl",
          "CH1L79y",
          "CHviI9l",
          "CHIUfR-"
         ],
         "xaxis": "x7",
         "y": [
          7,
          7,
          7,
          7,
          7
         ],
         "yaxis": "y7"
        },
        {
         "alignmentgroup": "True",
         "hovertemplate": "week_num=8<br>channel_id=%{x}<br>video_id=%{y}<extra></extra>",
         "legendgroup": "",
         "marker": {
          "color": "#636efa",
          "pattern": {
           "shape": ""
          }
         },
         "name": "",
         "offsetgroup": "",
         "orientation": "v",
         "showlegend": false,
         "textposition": "auto",
         "type": "bar",
         "x": [
          "CHtkRVa",
          "CHtCiO5",
          "CH3IZKs",
          "CHPx-7A",
          "CH9GtSL"
         ],
         "xaxis": "x8",
         "y": [
          8,
          8,
          8,
          8,
          8
         ],
         "yaxis": "y8"
        },
        {
         "alignmentgroup": "True",
         "hovertemplate": "week_num=9<br>channel_id=%{x}<br>video_id=%{y}<extra></extra>",
         "legendgroup": "",
         "marker": {
          "color": "#636efa",
          "pattern": {
           "shape": ""
          }
         },
         "name": "",
         "offsetgroup": "",
         "orientation": "v",
         "showlegend": false,
         "textposition": "auto",
         "type": "bar",
         "x": [
          "CHzCedB",
          "CHkxbPw",
          "CHoQy2w",
          "CHunsfa",
          "CHyCL5k"
         ],
         "xaxis": "x9",
         "y": [
          9,
          9,
          9,
          9,
          9
         ],
         "yaxis": "y9"
        },
        {
         "alignmentgroup": "True",
         "hovertemplate": "week_num=10<br>channel_id=%{x}<br>video_id=%{y}<extra></extra>",
         "legendgroup": "",
         "marker": {
          "color": "#636efa",
          "pattern": {
           "shape": ""
          }
         },
         "name": "",
         "offsetgroup": "",
         "orientation": "v",
         "showlegend": false,
         "textposition": "auto",
         "type": "bar",
         "x": [
          "CHicKQU",
          "CHg-p3l",
          "CHRuSxV",
          "CHZ1wYQ",
          "CHfpaSr"
         ],
         "xaxis": "x10",
         "y": [
          10,
          10,
          10,
          10,
          10
         ],
         "yaxis": "y10"
        },
        {
         "alignmentgroup": "True",
         "hovertemplate": "week_num=11<br>channel_id=%{x}<br>video_id=%{y}<extra></extra>",
         "legendgroup": "",
         "marker": {
          "color": "#636efa",
          "pattern": {
           "shape": ""
          }
         },
         "name": "",
         "offsetgroup": "",
         "orientation": "v",
         "showlegend": false,
         "textposition": "auto",
         "type": "bar",
         "x": [
          "CHhbE5O",
          "CHaKod3",
          "CHsU-I-",
          "CHEf_Bc"
         ],
         "xaxis": "x11",
         "y": [
          11,
          11,
          11,
          11
         ],
         "yaxis": "y11"
        },
        {
         "alignmentgroup": "True",
         "hovertemplate": "week_num=12<br>channel_id=%{x}<br>video_id=%{y}<extra></extra>",
         "legendgroup": "",
         "marker": {
          "color": "#636efa",
          "pattern": {
           "shape": ""
          }
         },
         "name": "",
         "offsetgroup": "",
         "orientation": "v",
         "showlegend": false,
         "textposition": "auto",
         "type": "bar",
         "x": [
          "CHtm_Qo"
         ],
         "xaxis": "x12",
         "y": [
          12
         ],
         "yaxis": "y12"
        },
        {
         "alignmentgroup": "True",
         "hovertemplate": "week_num=13<br>channel_id=%{x}<br>video_id=%{y}<extra></extra>",
         "legendgroup": "",
         "marker": {
          "color": "#636efa",
          "pattern": {
           "shape": ""
          }
         },
         "name": "",
         "offsetgroup": "",
         "orientation": "v",
         "showlegend": false,
         "textposition": "auto",
         "type": "bar",
         "x": [
          "CHtfriF",
          "CHLkAep",
          "CHszFjh"
         ],
         "xaxis": "x13",
         "y": [
          13,
          13,
          13
         ],
         "yaxis": "y13"
        },
        {
         "alignmentgroup": "True",
         "hovertemplate": "week_num=14<br>channel_id=%{x}<br>video_id=%{y}<extra></extra>",
         "legendgroup": "",
         "marker": {
          "color": "#636efa",
          "pattern": {
           "shape": ""
          }
         },
         "name": "",
         "offsetgroup": "",
         "orientation": "v",
         "showlegend": false,
         "textposition": "auto",
         "type": "bar",
         "x": [
          "CHlzB2i",
          "CHmzMtX",
          "CHIG4gr",
          "CHiwQRG"
         ],
         "xaxis": "x14",
         "y": [
          14,
          14,
          14,
          14
         ],
         "yaxis": "y14"
        },
        {
         "alignmentgroup": "True",
         "hovertemplate": "week_num=15<br>channel_id=%{x}<br>video_id=%{y}<extra></extra>",
         "legendgroup": "",
         "marker": {
          "color": "#636efa",
          "pattern": {
           "shape": ""
          }
         },
         "name": "",
         "offsetgroup": "",
         "orientation": "v",
         "showlegend": false,
         "textposition": "auto",
         "type": "bar",
         "x": [
          "CHtybqq"
         ],
         "xaxis": "x15",
         "y": [
          15
         ],
         "yaxis": "y15"
        },
        {
         "alignmentgroup": "True",
         "hovertemplate": "week_num=17<br>channel_id=%{x}<br>video_id=%{y}<extra></extra>",
         "legendgroup": "",
         "marker": {
          "color": "#636efa",
          "pattern": {
           "shape": ""
          }
         },
         "name": "",
         "offsetgroup": "",
         "orientation": "v",
         "showlegend": false,
         "textposition": "auto",
         "type": "bar",
         "x": [
          "CHQ2O-i"
         ],
         "xaxis": "x16",
         "y": [
          17
         ],
         "yaxis": "y16"
        }
       ],
       "layout": {
        "annotations": [
         {
          "font": {},
          "showarrow": false,
          "text": "1",
          "x": 0.021875,
          "xanchor": "center",
          "xref": "paper",
          "y": 1,
          "yanchor": "bottom",
          "yref": "paper"
         },
         {
          "font": {},
          "showarrow": false,
          "text": "2",
          "x": 0.085625,
          "xanchor": "center",
          "xref": "paper",
          "y": 1,
          "yanchor": "bottom",
          "yref": "paper"
         },
         {
          "font": {},
          "showarrow": false,
          "text": "3",
          "x": 0.149375,
          "xanchor": "center",
          "xref": "paper",
          "y": 1,
          "yanchor": "bottom",
          "yref": "paper"
         },
         {
          "font": {},
          "showarrow": false,
          "text": "4",
          "x": 0.21312499999999998,
          "xanchor": "center",
          "xref": "paper",
          "y": 1,
          "yanchor": "bottom",
          "yref": "paper"
         },
         {
          "font": {},
          "showarrow": false,
          "text": "5",
          "x": 0.276875,
          "xanchor": "center",
          "xref": "paper",
          "y": 1,
          "yanchor": "bottom",
          "yref": "paper"
         },
         {
          "font": {},
          "showarrow": false,
          "text": "6",
          "x": 0.34062499999999996,
          "xanchor": "center",
          "xref": "paper",
          "y": 1,
          "yanchor": "bottom",
          "yref": "paper"
         },
         {
          "font": {},
          "showarrow": false,
          "text": "7",
          "x": 0.40437500000000004,
          "xanchor": "center",
          "xref": "paper",
          "y": 1,
          "yanchor": "bottom",
          "yref": "paper"
         },
         {
          "font": {},
          "showarrow": false,
          "text": "8",
          "x": 0.468125,
          "xanchor": "center",
          "xref": "paper",
          "y": 1,
          "yanchor": "bottom",
          "yref": "paper"
         },
         {
          "font": {},
          "showarrow": false,
          "text": "9",
          "x": 0.531875,
          "xanchor": "center",
          "xref": "paper",
          "y": 1,
          "yanchor": "bottom",
          "yref": "paper"
         },
         {
          "font": {},
          "showarrow": false,
          "text": "10",
          "x": 0.595625,
          "xanchor": "center",
          "xref": "paper",
          "y": 1,
          "yanchor": "bottom",
          "yref": "paper"
         },
         {
          "font": {},
          "showarrow": false,
          "text": "11",
          "x": 0.659375,
          "xanchor": "center",
          "xref": "paper",
          "y": 1,
          "yanchor": "bottom",
          "yref": "paper"
         },
         {
          "font": {},
          "showarrow": false,
          "text": "12",
          "x": 0.723125,
          "xanchor": "center",
          "xref": "paper",
          "y": 1,
          "yanchor": "bottom",
          "yref": "paper"
         },
         {
          "font": {},
          "showarrow": false,
          "text": "13",
          "x": 0.786875,
          "xanchor": "center",
          "xref": "paper",
          "y": 1,
          "yanchor": "bottom",
          "yref": "paper"
         },
         {
          "font": {},
          "showarrow": false,
          "text": "14",
          "x": 0.850625,
          "xanchor": "center",
          "xref": "paper",
          "y": 1,
          "yanchor": "bottom",
          "yref": "paper"
         },
         {
          "font": {},
          "showarrow": false,
          "text": "15",
          "x": 0.9143749999999999,
          "xanchor": "center",
          "xref": "paper",
          "y": 1,
          "yanchor": "bottom",
          "yref": "paper"
         },
         {
          "font": {},
          "showarrow": false,
          "text": "17",
          "x": 0.9781249999999998,
          "xanchor": "center",
          "xref": "paper",
          "y": 1,
          "yanchor": "bottom",
          "yref": "paper"
         }
        ],
        "barmode": "relative",
        "legend": {
         "tracegroupgap": 0
        },
        "margin": {
         "t": 60
        },
        "template": {
         "data": {
          "bar": [
           {
            "error_x": {
             "color": "#2a3f5f"
            },
            "error_y": {
             "color": "#2a3f5f"
            },
            "marker": {
             "line": {
              "color": "#E5ECF6",
              "width": 0.5
             },
             "pattern": {
              "fillmode": "overlay",
              "size": 10,
              "solidity": 0.2
             }
            },
            "type": "bar"
           }
          ],
          "barpolar": [
           {
            "marker": {
             "line": {
              "color": "#E5ECF6",
              "width": 0.5
             },
             "pattern": {
              "fillmode": "overlay",
              "size": 10,
              "solidity": 0.2
             }
            },
            "type": "barpolar"
           }
          ],
          "carpet": [
           {
            "aaxis": {
             "endlinecolor": "#2a3f5f",
             "gridcolor": "white",
             "linecolor": "white",
             "minorgridcolor": "white",
             "startlinecolor": "#2a3f5f"
            },
            "baxis": {
             "endlinecolor": "#2a3f5f",
             "gridcolor": "white",
             "linecolor": "white",
             "minorgridcolor": "white",
             "startlinecolor": "#2a3f5f"
            },
            "type": "carpet"
           }
          ],
          "choropleth": [
           {
            "colorbar": {
             "outlinewidth": 0,
             "ticks": ""
            },
            "type": "choropleth"
           }
          ],
          "contour": [
           {
            "colorbar": {
             "outlinewidth": 0,
             "ticks": ""
            },
            "colorscale": [
             [
              0,
              "#0d0887"
             ],
             [
              0.1111111111111111,
              "#46039f"
             ],
             [
              0.2222222222222222,
              "#7201a8"
             ],
             [
              0.3333333333333333,
              "#9c179e"
             ],
             [
              0.4444444444444444,
              "#bd3786"
             ],
             [
              0.5555555555555556,
              "#d8576b"
             ],
             [
              0.6666666666666666,
              "#ed7953"
             ],
             [
              0.7777777777777778,
              "#fb9f3a"
             ],
             [
              0.8888888888888888,
              "#fdca26"
             ],
             [
              1,
              "#f0f921"
             ]
            ],
            "type": "contour"
           }
          ],
          "contourcarpet": [
           {
            "colorbar": {
             "outlinewidth": 0,
             "ticks": ""
            },
            "type": "contourcarpet"
           }
          ],
          "heatmap": [
           {
            "colorbar": {
             "outlinewidth": 0,
             "ticks": ""
            },
            "colorscale": [
             [
              0,
              "#0d0887"
             ],
             [
              0.1111111111111111,
              "#46039f"
             ],
             [
              0.2222222222222222,
              "#7201a8"
             ],
             [
              0.3333333333333333,
              "#9c179e"
             ],
             [
              0.4444444444444444,
              "#bd3786"
             ],
             [
              0.5555555555555556,
              "#d8576b"
             ],
             [
              0.6666666666666666,
              "#ed7953"
             ],
             [
              0.7777777777777778,
              "#fb9f3a"
             ],
             [
              0.8888888888888888,
              "#fdca26"
             ],
             [
              1,
              "#f0f921"
             ]
            ],
            "type": "heatmap"
           }
          ],
          "heatmapgl": [
           {
            "colorbar": {
             "outlinewidth": 0,
             "ticks": ""
            },
            "colorscale": [
             [
              0,
              "#0d0887"
             ],
             [
              0.1111111111111111,
              "#46039f"
             ],
             [
              0.2222222222222222,
              "#7201a8"
             ],
             [
              0.3333333333333333,
              "#9c179e"
             ],
             [
              0.4444444444444444,
              "#bd3786"
             ],
             [
              0.5555555555555556,
              "#d8576b"
             ],
             [
              0.6666666666666666,
              "#ed7953"
             ],
             [
              0.7777777777777778,
              "#fb9f3a"
             ],
             [
              0.8888888888888888,
              "#fdca26"
             ],
             [
              1,
              "#f0f921"
             ]
            ],
            "type": "heatmapgl"
           }
          ],
          "histogram": [
           {
            "marker": {
             "pattern": {
              "fillmode": "overlay",
              "size": 10,
              "solidity": 0.2
             }
            },
            "type": "histogram"
           }
          ],
          "histogram2d": [
           {
            "colorbar": {
             "outlinewidth": 0,
             "ticks": ""
            },
            "colorscale": [
             [
              0,
              "#0d0887"
             ],
             [
              0.1111111111111111,
              "#46039f"
             ],
             [
              0.2222222222222222,
              "#7201a8"
             ],
             [
              0.3333333333333333,
              "#9c179e"
             ],
             [
              0.4444444444444444,
              "#bd3786"
             ],
             [
              0.5555555555555556,
              "#d8576b"
             ],
             [
              0.6666666666666666,
              "#ed7953"
             ],
             [
              0.7777777777777778,
              "#fb9f3a"
             ],
             [
              0.8888888888888888,
              "#fdca26"
             ],
             [
              1,
              "#f0f921"
             ]
            ],
            "type": "histogram2d"
           }
          ],
          "histogram2dcontour": [
           {
            "colorbar": {
             "outlinewidth": 0,
             "ticks": ""
            },
            "colorscale": [
             [
              0,
              "#0d0887"
             ],
             [
              0.1111111111111111,
              "#46039f"
             ],
             [
              0.2222222222222222,
              "#7201a8"
             ],
             [
              0.3333333333333333,
              "#9c179e"
             ],
             [
              0.4444444444444444,
              "#bd3786"
             ],
             [
              0.5555555555555556,
              "#d8576b"
             ],
             [
              0.6666666666666666,
              "#ed7953"
             ],
             [
              0.7777777777777778,
              "#fb9f3a"
             ],
             [
              0.8888888888888888,
              "#fdca26"
             ],
             [
              1,
              "#f0f921"
             ]
            ],
            "type": "histogram2dcontour"
           }
          ],
          "mesh3d": [
           {
            "colorbar": {
             "outlinewidth": 0,
             "ticks": ""
            },
            "type": "mesh3d"
           }
          ],
          "parcoords": [
           {
            "line": {
             "colorbar": {
              "outlinewidth": 0,
              "ticks": ""
             }
            },
            "type": "parcoords"
           }
          ],
          "pie": [
           {
            "automargin": true,
            "type": "pie"
           }
          ],
          "scatter": [
           {
            "marker": {
             "colorbar": {
              "outlinewidth": 0,
              "ticks": ""
             }
            },
            "type": "scatter"
           }
          ],
          "scatter3d": [
           {
            "line": {
             "colorbar": {
              "outlinewidth": 0,
              "ticks": ""
             }
            },
            "marker": {
             "colorbar": {
              "outlinewidth": 0,
              "ticks": ""
             }
            },
            "type": "scatter3d"
           }
          ],
          "scattercarpet": [
           {
            "marker": {
             "colorbar": {
              "outlinewidth": 0,
              "ticks": ""
             }
            },
            "type": "scattercarpet"
           }
          ],
          "scattergeo": [
           {
            "marker": {
             "colorbar": {
              "outlinewidth": 0,
              "ticks": ""
             }
            },
            "type": "scattergeo"
           }
          ],
          "scattergl": [
           {
            "marker": {
             "colorbar": {
              "outlinewidth": 0,
              "ticks": ""
             }
            },
            "type": "scattergl"
           }
          ],
          "scattermapbox": [
           {
            "marker": {
             "colorbar": {
              "outlinewidth": 0,
              "ticks": ""
             }
            },
            "type": "scattermapbox"
           }
          ],
          "scatterpolar": [
           {
            "marker": {
             "colorbar": {
              "outlinewidth": 0,
              "ticks": ""
             }
            },
            "type": "scatterpolar"
           }
          ],
          "scatterpolargl": [
           {
            "marker": {
             "colorbar": {
              "outlinewidth": 0,
              "ticks": ""
             }
            },
            "type": "scatterpolargl"
           }
          ],
          "scatterternary": [
           {
            "marker": {
             "colorbar": {
              "outlinewidth": 0,
              "ticks": ""
             }
            },
            "type": "scatterternary"
           }
          ],
          "surface": [
           {
            "colorbar": {
             "outlinewidth": 0,
             "ticks": ""
            },
            "colorscale": [
             [
              0,
              "#0d0887"
             ],
             [
              0.1111111111111111,
              "#46039f"
             ],
             [
              0.2222222222222222,
              "#7201a8"
             ],
             [
              0.3333333333333333,
              "#9c179e"
             ],
             [
              0.4444444444444444,
              "#bd3786"
             ],
             [
              0.5555555555555556,
              "#d8576b"
             ],
             [
              0.6666666666666666,
              "#ed7953"
             ],
             [
              0.7777777777777778,
              "#fb9f3a"
             ],
             [
              0.8888888888888888,
              "#fdca26"
             ],
             [
              1,
              "#f0f921"
             ]
            ],
            "type": "surface"
           }
          ],
          "table": [
           {
            "cells": {
             "fill": {
              "color": "#EBF0F8"
             },
             "line": {
              "color": "white"
             }
            },
            "header": {
             "fill": {
              "color": "#C8D4E3"
             },
             "line": {
              "color": "white"
             }
            },
            "type": "table"
           }
          ]
         },
         "layout": {
          "annotationdefaults": {
           "arrowcolor": "#2a3f5f",
           "arrowhead": 0,
           "arrowwidth": 1
          },
          "autotypenumbers": "strict",
          "coloraxis": {
           "colorbar": {
            "outlinewidth": 0,
            "ticks": ""
           }
          },
          "colorscale": {
           "diverging": [
            [
             0,
             "#8e0152"
            ],
            [
             0.1,
             "#c51b7d"
            ],
            [
             0.2,
             "#de77ae"
            ],
            [
             0.3,
             "#f1b6da"
            ],
            [
             0.4,
             "#fde0ef"
            ],
            [
             0.5,
             "#f7f7f7"
            ],
            [
             0.6,
             "#e6f5d0"
            ],
            [
             0.7,
             "#b8e186"
            ],
            [
             0.8,
             "#7fbc41"
            ],
            [
             0.9,
             "#4d9221"
            ],
            [
             1,
             "#276419"
            ]
           ],
           "sequential": [
            [
             0,
             "#0d0887"
            ],
            [
             0.1111111111111111,
             "#46039f"
            ],
            [
             0.2222222222222222,
             "#7201a8"
            ],
            [
             0.3333333333333333,
             "#9c179e"
            ],
            [
             0.4444444444444444,
             "#bd3786"
            ],
            [
             0.5555555555555556,
             "#d8576b"
            ],
            [
             0.6666666666666666,
             "#ed7953"
            ],
            [
             0.7777777777777778,
             "#fb9f3a"
            ],
            [
             0.8888888888888888,
             "#fdca26"
            ],
            [
             1,
             "#f0f921"
            ]
           ],
           "sequentialminus": [
            [
             0,
             "#0d0887"
            ],
            [
             0.1111111111111111,
             "#46039f"
            ],
            [
             0.2222222222222222,
             "#7201a8"
            ],
            [
             0.3333333333333333,
             "#9c179e"
            ],
            [
             0.4444444444444444,
             "#bd3786"
            ],
            [
             0.5555555555555556,
             "#d8576b"
            ],
            [
             0.6666666666666666,
             "#ed7953"
            ],
            [
             0.7777777777777778,
             "#fb9f3a"
            ],
            [
             0.8888888888888888,
             "#fdca26"
            ],
            [
             1,
             "#f0f921"
            ]
           ]
          },
          "colorway": [
           "#636efa",
           "#EF553B",
           "#00cc96",
           "#ab63fa",
           "#FFA15A",
           "#19d3f3",
           "#FF6692",
           "#B6E880",
           "#FF97FF",
           "#FECB52"
          ],
          "font": {
           "color": "#2a3f5f"
          },
          "geo": {
           "bgcolor": "white",
           "lakecolor": "white",
           "landcolor": "#E5ECF6",
           "showlakes": true,
           "showland": true,
           "subunitcolor": "white"
          },
          "hoverlabel": {
           "align": "left"
          },
          "hovermode": "closest",
          "mapbox": {
           "style": "light"
          },
          "paper_bgcolor": "white",
          "plot_bgcolor": "#E5ECF6",
          "polar": {
           "angularaxis": {
            "gridcolor": "white",
            "linecolor": "white",
            "ticks": ""
           },
           "bgcolor": "#E5ECF6",
           "radialaxis": {
            "gridcolor": "white",
            "linecolor": "white",
            "ticks": ""
           }
          },
          "scene": {
           "xaxis": {
            "backgroundcolor": "#E5ECF6",
            "gridcolor": "white",
            "gridwidth": 2,
            "linecolor": "white",
            "showbackground": true,
            "ticks": "",
            "zerolinecolor": "white"
           },
           "yaxis": {
            "backgroundcolor": "#E5ECF6",
            "gridcolor": "white",
            "gridwidth": 2,
            "linecolor": "white",
            "showbackground": true,
            "ticks": "",
            "zerolinecolor": "white"
           },
           "zaxis": {
            "backgroundcolor": "#E5ECF6",
            "gridcolor": "white",
            "gridwidth": 2,
            "linecolor": "white",
            "showbackground": true,
            "ticks": "",
            "zerolinecolor": "white"
           }
          },
          "shapedefaults": {
           "line": {
            "color": "#2a3f5f"
           }
          },
          "ternary": {
           "aaxis": {
            "gridcolor": "white",
            "linecolor": "white",
            "ticks": ""
           },
           "baxis": {
            "gridcolor": "white",
            "linecolor": "white",
            "ticks": ""
           },
           "bgcolor": "#E5ECF6",
           "caxis": {
            "gridcolor": "white",
            "linecolor": "white",
            "ticks": ""
           }
          },
          "title": {
           "x": 0.05
          },
          "xaxis": {
           "automargin": true,
           "gridcolor": "white",
           "linecolor": "white",
           "ticks": "",
           "title": {
            "standoff": 15
           },
           "zerolinecolor": "white",
           "zerolinewidth": 2
          },
          "yaxis": {
           "automargin": true,
           "gridcolor": "white",
           "linecolor": "white",
           "ticks": "",
           "title": {
            "standoff": 15
           },
           "zerolinecolor": "white",
           "zerolinewidth": 2
          }
         }
        },
        "title": {
         "text": "Top 5 Channel by Week"
        },
        "xaxis": {
         "anchor": "y",
         "domain": [
          0,
          0.04375
         ],
         "showticklabels": true,
         "title": {}
        },
        "xaxis10": {
         "anchor": "y10",
         "domain": [
          0.57375,
          0.6174999999999999
         ],
         "showticklabels": true,
         "title": {
          "text": "channel_id"
         }
        },
        "xaxis11": {
         "anchor": "y11",
         "domain": [
          0.6375000000000001,
          0.68125
         ],
         "showticklabels": true,
         "title": {
          "text": "channel_id"
         }
        },
        "xaxis12": {
         "anchor": "y12",
         "domain": [
          0.70125,
          0.745
         ],
         "showticklabels": true,
         "title": {
          "text": "channel_id"
         }
        },
        "xaxis13": {
         "anchor": "y13",
         "domain": [
          0.765,
          0.80875
         ],
         "showticklabels": true,
         "title": {
          "text": "channel_id"
         }
        },
        "xaxis14": {
         "anchor": "y14",
         "domain": [
          0.82875,
          0.8724999999999999
         ],
         "showticklabels": true,
         "title": {
          "text": "channel_id"
         }
        },
        "xaxis15": {
         "anchor": "y15",
         "domain": [
          0.8925,
          0.9362499999999999
         ],
         "showticklabels": true,
         "title": {
          "text": "channel_id"
         }
        },
        "xaxis16": {
         "anchor": "y16",
         "domain": [
          0.9562499999999998,
          0.9999999999999998
         ],
         "showticklabels": true,
         "title": {
          "text": "channel_id"
         }
        },
        "xaxis2": {
         "anchor": "y2",
         "domain": [
          0.06375,
          0.1075
         ],
         "showticklabels": true,
         "title": {
          "text": "channel_id"
         }
        },
        "xaxis3": {
         "anchor": "y3",
         "domain": [
          0.1275,
          0.17125
         ],
         "showticklabels": true,
         "title": {
          "text": "channel_id"
         }
        },
        "xaxis4": {
         "anchor": "y4",
         "domain": [
          0.19124999999999998,
          0.235
         ],
         "showticklabels": true,
         "title": {
          "text": "channel_id"
         }
        },
        "xaxis5": {
         "anchor": "y5",
         "domain": [
          0.255,
          0.29875
         ],
         "showticklabels": true,
         "title": {
          "text": "channel_id"
         }
        },
        "xaxis6": {
         "anchor": "y6",
         "domain": [
          0.31875,
          0.3625
         ],
         "showticklabels": true,
         "title": {
          "text": "channel_id"
         }
        },
        "xaxis7": {
         "anchor": "y7",
         "domain": [
          0.3825,
          0.42625
         ],
         "showticklabels": true,
         "title": {
          "text": "channel_id"
         }
        },
        "xaxis8": {
         "anchor": "y8",
         "domain": [
          0.44625000000000004,
          0.49000000000000005
         ],
         "showticklabels": true,
         "title": {
          "text": "channel_id"
         }
        },
        "xaxis9": {
         "anchor": "y9",
         "domain": [
          0.51,
          0.55375
         ],
         "showticklabels": true,
         "title": {
          "text": "channel_id"
         }
        },
        "yaxis": {
         "anchor": "x",
         "domain": [
          0,
          1
         ],
         "title": {
          "text": "Video Count"
         }
        },
        "yaxis10": {
         "anchor": "x10",
         "domain": [
          0,
          1
         ],
         "matches": "y",
         "showticklabels": false
        },
        "yaxis11": {
         "anchor": "x11",
         "domain": [
          0,
          1
         ],
         "matches": "y",
         "showticklabels": false
        },
        "yaxis12": {
         "anchor": "x12",
         "domain": [
          0,
          1
         ],
         "matches": "y",
         "showticklabels": false
        },
        "yaxis13": {
         "anchor": "x13",
         "domain": [
          0,
          1
         ],
         "matches": "y",
         "showticklabels": false
        },
        "yaxis14": {
         "anchor": "x14",
         "domain": [
          0,
          1
         ],
         "matches": "y",
         "showticklabels": false
        },
        "yaxis15": {
         "anchor": "x15",
         "domain": [
          0,
          1
         ],
         "matches": "y",
         "showticklabels": false
        },
        "yaxis16": {
         "anchor": "x16",
         "domain": [
          0,
          1
         ],
         "matches": "y",
         "showticklabels": false
        },
        "yaxis2": {
         "anchor": "x2",
         "domain": [
          0,
          1
         ],
         "matches": "y",
         "showticklabels": false
        },
        "yaxis3": {
         "anchor": "x3",
         "domain": [
          0,
          1
         ],
         "matches": "y",
         "showticklabels": false
        },
        "yaxis4": {
         "anchor": "x4",
         "domain": [
          0,
          1
         ],
         "matches": "y",
         "showticklabels": false
        },
        "yaxis5": {
         "anchor": "x5",
         "domain": [
          0,
          1
         ],
         "matches": "y",
         "showticklabels": false
        },
        "yaxis6": {
         "anchor": "x6",
         "domain": [
          0,
          1
         ],
         "matches": "y",
         "showticklabels": false
        },
        "yaxis7": {
         "anchor": "x7",
         "domain": [
          0,
          1
         ],
         "matches": "y",
         "showticklabels": false
        },
        "yaxis8": {
         "anchor": "x8",
         "domain": [
          0,
          1
         ],
         "matches": "y",
         "showticklabels": false
        },
        "yaxis9": {
         "anchor": "x9",
         "domain": [
          0,
          1
         ],
         "matches": "y",
         "showticklabels": false
        }
       }
      },
      "text/html": [
       "<div>                            <div id=\"474a900c-2f1c-4e5e-9416-db9a0013c63a\" class=\"plotly-graph-div\" style=\"height:525px; width:100%;\"></div>            <script type=\"text/javascript\">                require([\"plotly\"], function(Plotly) {                    window.PLOTLYENV=window.PLOTLYENV || {};                                    if (document.getElementById(\"474a900c-2f1c-4e5e-9416-db9a0013c63a\")) {                    Plotly.newPlot(                        \"474a900c-2f1c-4e5e-9416-db9a0013c63a\",                        [{\"alignmentgroup\":\"True\",\"hovertemplate\":\"week_num=1<br>channel_id=%{x}<br>video_id=%{y}<extra></extra>\",\"legendgroup\":\"\",\"marker\":{\"color\":\"#636efa\",\"pattern\":{\"shape\":\"\"}},\"name\":\"\",\"offsetgroup\":\"\",\"orientation\":\"v\",\"showlegend\":false,\"textposition\":\"auto\",\"x\":[\"CH7bRo3\",\"CH9pdRy\",\"CHG-Q7s\",\"CHD902z\",\"CHET00Y\"],\"xaxis\":\"x\",\"y\":[1,1,1,1,1],\"yaxis\":\"y\",\"type\":\"bar\"},{\"alignmentgroup\":\"True\",\"hovertemplate\":\"week_num=2<br>channel_id=%{x}<br>video_id=%{y}<extra></extra>\",\"legendgroup\":\"\",\"marker\":{\"color\":\"#636efa\",\"pattern\":{\"shape\":\"\"}},\"name\":\"\",\"offsetgroup\":\"\",\"orientation\":\"v\",\"showlegend\":false,\"textposition\":\"auto\",\"x\":[\"CHBA9Xa\",\"CH-Bsa2\",\"CHAOTbN\",\"CHWlV3L\",\"CHMGn0N\"],\"xaxis\":\"x2\",\"y\":[2,2,2,2,2],\"yaxis\":\"y2\",\"type\":\"bar\"},{\"alignmentgroup\":\"True\",\"hovertemplate\":\"week_num=3<br>channel_id=%{x}<br>video_id=%{y}<extra></extra>\",\"legendgroup\":\"\",\"marker\":{\"color\":\"#636efa\",\"pattern\":{\"shape\":\"\"}},\"name\":\"\",\"offsetgroup\":\"\",\"orientation\":\"v\",\"showlegend\":false,\"textposition\":\"auto\",\"x\":[\"CHkbJc8\",\"CHmONdw\",\"CHsNVs6\",\"CHmgt7e\",\"CHSB5FO\"],\"xaxis\":\"x3\",\"y\":[3,3,3,3,3],\"yaxis\":\"y3\",\"type\":\"bar\"},{\"alignmentgroup\":\"True\",\"hovertemplate\":\"week_num=4<br>channel_id=%{x}<br>video_id=%{y}<extra></extra>\",\"legendgroup\":\"\",\"marker\":{\"color\":\"#636efa\",\"pattern\":{\"shape\":\"\"}},\"name\":\"\",\"offsetgroup\":\"\",\"orientation\":\"v\",\"showlegend\":false,\"textposition\":\"auto\",\"x\":[\"CHxQXvv\",\"CH9idb-\",\"CHOp66V\",\"CH6lNIb\",\"CH5bUcn\"],\"xaxis\":\"x4\",\"y\":[4,4,4,4,4],\"yaxis\":\"y4\",\"type\":\"bar\"},{\"alignmentgroup\":\"True\",\"hovertemplate\":\"week_num=5<br>channel_id=%{x}<br>video_id=%{y}<extra></extra>\",\"legendgroup\":\"\",\"marker\":{\"color\":\"#636efa\",\"pattern\":{\"shape\":\"\"}},\"name\":\"\",\"offsetgroup\":\"\",\"orientation\":\"v\",\"showlegend\":false,\"textposition\":\"auto\",\"x\":[\"CH920m3\",\"CHdWgRS\",\"CHeSHil\",\"CH69l_r\",\"CHAhKKb\"],\"xaxis\":\"x5\",\"y\":[5,5,5,5,5],\"yaxis\":\"y5\",\"type\":\"bar\"},{\"alignmentgroup\":\"True\",\"hovertemplate\":\"week_num=6<br>channel_id=%{x}<br>video_id=%{y}<extra></extra>\",\"legendgroup\":\"\",\"marker\":{\"color\":\"#636efa\",\"pattern\":{\"shape\":\"\"}},\"name\":\"\",\"offsetgroup\":\"\",\"orientation\":\"v\",\"showlegend\":false,\"textposition\":\"auto\",\"x\":[\"CHsRIHt\",\"CHeLPm9\",\"CHIA-LP\",\"CHEbRSm\",\"CHdrBnB\"],\"xaxis\":\"x6\",\"y\":[6,6,6,6,6],\"yaxis\":\"y6\",\"type\":\"bar\"},{\"alignmentgroup\":\"True\",\"hovertemplate\":\"week_num=7<br>channel_id=%{x}<br>video_id=%{y}<extra></extra>\",\"legendgroup\":\"\",\"marker\":{\"color\":\"#636efa\",\"pattern\":{\"shape\":\"\"}},\"name\":\"\",\"offsetgroup\":\"\",\"orientation\":\"v\",\"showlegend\":false,\"textposition\":\"auto\",\"x\":[\"CHpjOmw\",\"CHwNVDl\",\"CH1L79y\",\"CHviI9l\",\"CHIUfR-\"],\"xaxis\":\"x7\",\"y\":[7,7,7,7,7],\"yaxis\":\"y7\",\"type\":\"bar\"},{\"alignmentgroup\":\"True\",\"hovertemplate\":\"week_num=8<br>channel_id=%{x}<br>video_id=%{y}<extra></extra>\",\"legendgroup\":\"\",\"marker\":{\"color\":\"#636efa\",\"pattern\":{\"shape\":\"\"}},\"name\":\"\",\"offsetgroup\":\"\",\"orientation\":\"v\",\"showlegend\":false,\"textposition\":\"auto\",\"x\":[\"CHtkRVa\",\"CHtCiO5\",\"CH3IZKs\",\"CHPx-7A\",\"CH9GtSL\"],\"xaxis\":\"x8\",\"y\":[8,8,8,8,8],\"yaxis\":\"y8\",\"type\":\"bar\"},{\"alignmentgroup\":\"True\",\"hovertemplate\":\"week_num=9<br>channel_id=%{x}<br>video_id=%{y}<extra></extra>\",\"legendgroup\":\"\",\"marker\":{\"color\":\"#636efa\",\"pattern\":{\"shape\":\"\"}},\"name\":\"\",\"offsetgroup\":\"\",\"orientation\":\"v\",\"showlegend\":false,\"textposition\":\"auto\",\"x\":[\"CHzCedB\",\"CHkxbPw\",\"CHoQy2w\",\"CHunsfa\",\"CHyCL5k\"],\"xaxis\":\"x9\",\"y\":[9,9,9,9,9],\"yaxis\":\"y9\",\"type\":\"bar\"},{\"alignmentgroup\":\"True\",\"hovertemplate\":\"week_num=10<br>channel_id=%{x}<br>video_id=%{y}<extra></extra>\",\"legendgroup\":\"\",\"marker\":{\"color\":\"#636efa\",\"pattern\":{\"shape\":\"\"}},\"name\":\"\",\"offsetgroup\":\"\",\"orientation\":\"v\",\"showlegend\":false,\"textposition\":\"auto\",\"x\":[\"CHicKQU\",\"CHg-p3l\",\"CHRuSxV\",\"CHZ1wYQ\",\"CHfpaSr\"],\"xaxis\":\"x10\",\"y\":[10,10,10,10,10],\"yaxis\":\"y10\",\"type\":\"bar\"},{\"alignmentgroup\":\"True\",\"hovertemplate\":\"week_num=11<br>channel_id=%{x}<br>video_id=%{y}<extra></extra>\",\"legendgroup\":\"\",\"marker\":{\"color\":\"#636efa\",\"pattern\":{\"shape\":\"\"}},\"name\":\"\",\"offsetgroup\":\"\",\"orientation\":\"v\",\"showlegend\":false,\"textposition\":\"auto\",\"x\":[\"CHhbE5O\",\"CHaKod3\",\"CHsU-I-\",\"CHEf_Bc\"],\"xaxis\":\"x11\",\"y\":[11,11,11,11],\"yaxis\":\"y11\",\"type\":\"bar\"},{\"alignmentgroup\":\"True\",\"hovertemplate\":\"week_num=12<br>channel_id=%{x}<br>video_id=%{y}<extra></extra>\",\"legendgroup\":\"\",\"marker\":{\"color\":\"#636efa\",\"pattern\":{\"shape\":\"\"}},\"name\":\"\",\"offsetgroup\":\"\",\"orientation\":\"v\",\"showlegend\":false,\"textposition\":\"auto\",\"x\":[\"CHtm_Qo\"],\"xaxis\":\"x12\",\"y\":[12],\"yaxis\":\"y12\",\"type\":\"bar\"},{\"alignmentgroup\":\"True\",\"hovertemplate\":\"week_num=13<br>channel_id=%{x}<br>video_id=%{y}<extra></extra>\",\"legendgroup\":\"\",\"marker\":{\"color\":\"#636efa\",\"pattern\":{\"shape\":\"\"}},\"name\":\"\",\"offsetgroup\":\"\",\"orientation\":\"v\",\"showlegend\":false,\"textposition\":\"auto\",\"x\":[\"CHtfriF\",\"CHLkAep\",\"CHszFjh\"],\"xaxis\":\"x13\",\"y\":[13,13,13],\"yaxis\":\"y13\",\"type\":\"bar\"},{\"alignmentgroup\":\"True\",\"hovertemplate\":\"week_num=14<br>channel_id=%{x}<br>video_id=%{y}<extra></extra>\",\"legendgroup\":\"\",\"marker\":{\"color\":\"#636efa\",\"pattern\":{\"shape\":\"\"}},\"name\":\"\",\"offsetgroup\":\"\",\"orientation\":\"v\",\"showlegend\":false,\"textposition\":\"auto\",\"x\":[\"CHlzB2i\",\"CHmzMtX\",\"CHIG4gr\",\"CHiwQRG\"],\"xaxis\":\"x14\",\"y\":[14,14,14,14],\"yaxis\":\"y14\",\"type\":\"bar\"},{\"alignmentgroup\":\"True\",\"hovertemplate\":\"week_num=15<br>channel_id=%{x}<br>video_id=%{y}<extra></extra>\",\"legendgroup\":\"\",\"marker\":{\"color\":\"#636efa\",\"pattern\":{\"shape\":\"\"}},\"name\":\"\",\"offsetgroup\":\"\",\"orientation\":\"v\",\"showlegend\":false,\"textposition\":\"auto\",\"x\":[\"CHtybqq\"],\"xaxis\":\"x15\",\"y\":[15],\"yaxis\":\"y15\",\"type\":\"bar\"},{\"alignmentgroup\":\"True\",\"hovertemplate\":\"week_num=17<br>channel_id=%{x}<br>video_id=%{y}<extra></extra>\",\"legendgroup\":\"\",\"marker\":{\"color\":\"#636efa\",\"pattern\":{\"shape\":\"\"}},\"name\":\"\",\"offsetgroup\":\"\",\"orientation\":\"v\",\"showlegend\":false,\"textposition\":\"auto\",\"x\":[\"CHQ2O-i\"],\"xaxis\":\"x16\",\"y\":[17],\"yaxis\":\"y16\",\"type\":\"bar\"}],                        {\"template\":{\"data\":{\"bar\":[{\"error_x\":{\"color\":\"#2a3f5f\"},\"error_y\":{\"color\":\"#2a3f5f\"},\"marker\":{\"line\":{\"color\":\"#E5ECF6\",\"width\":0.5},\"pattern\":{\"fillmode\":\"overlay\",\"size\":10,\"solidity\":0.2}},\"type\":\"bar\"}],\"barpolar\":[{\"marker\":{\"line\":{\"color\":\"#E5ECF6\",\"width\":0.5},\"pattern\":{\"fillmode\":\"overlay\",\"size\":10,\"solidity\":0.2}},\"type\":\"barpolar\"}],\"carpet\":[{\"aaxis\":{\"endlinecolor\":\"#2a3f5f\",\"gridcolor\":\"white\",\"linecolor\":\"white\",\"minorgridcolor\":\"white\",\"startlinecolor\":\"#2a3f5f\"},\"baxis\":{\"endlinecolor\":\"#2a3f5f\",\"gridcolor\":\"white\",\"linecolor\":\"white\",\"minorgridcolor\":\"white\",\"startlinecolor\":\"#2a3f5f\"},\"type\":\"carpet\"}],\"choropleth\":[{\"colorbar\":{\"outlinewidth\":0,\"ticks\":\"\"},\"type\":\"choropleth\"}],\"contour\":[{\"colorbar\":{\"outlinewidth\":0,\"ticks\":\"\"},\"colorscale\":[[0.0,\"#0d0887\"],[0.1111111111111111,\"#46039f\"],[0.2222222222222222,\"#7201a8\"],[0.3333333333333333,\"#9c179e\"],[0.4444444444444444,\"#bd3786\"],[0.5555555555555556,\"#d8576b\"],[0.6666666666666666,\"#ed7953\"],[0.7777777777777778,\"#fb9f3a\"],[0.8888888888888888,\"#fdca26\"],[1.0,\"#f0f921\"]],\"type\":\"contour\"}],\"contourcarpet\":[{\"colorbar\":{\"outlinewidth\":0,\"ticks\":\"\"},\"type\":\"contourcarpet\"}],\"heatmap\":[{\"colorbar\":{\"outlinewidth\":0,\"ticks\":\"\"},\"colorscale\":[[0.0,\"#0d0887\"],[0.1111111111111111,\"#46039f\"],[0.2222222222222222,\"#7201a8\"],[0.3333333333333333,\"#9c179e\"],[0.4444444444444444,\"#bd3786\"],[0.5555555555555556,\"#d8576b\"],[0.6666666666666666,\"#ed7953\"],[0.7777777777777778,\"#fb9f3a\"],[0.8888888888888888,\"#fdca26\"],[1.0,\"#f0f921\"]],\"type\":\"heatmap\"}],\"heatmapgl\":[{\"colorbar\":{\"outlinewidth\":0,\"ticks\":\"\"},\"colorscale\":[[0.0,\"#0d0887\"],[0.1111111111111111,\"#46039f\"],[0.2222222222222222,\"#7201a8\"],[0.3333333333333333,\"#9c179e\"],[0.4444444444444444,\"#bd3786\"],[0.5555555555555556,\"#d8576b\"],[0.6666666666666666,\"#ed7953\"],[0.7777777777777778,\"#fb9f3a\"],[0.8888888888888888,\"#fdca26\"],[1.0,\"#f0f921\"]],\"type\":\"heatmapgl\"}],\"histogram\":[{\"marker\":{\"pattern\":{\"fillmode\":\"overlay\",\"size\":10,\"solidity\":0.2}},\"type\":\"histogram\"}],\"histogram2d\":[{\"colorbar\":{\"outlinewidth\":0,\"ticks\":\"\"},\"colorscale\":[[0.0,\"#0d0887\"],[0.1111111111111111,\"#46039f\"],[0.2222222222222222,\"#7201a8\"],[0.3333333333333333,\"#9c179e\"],[0.4444444444444444,\"#bd3786\"],[0.5555555555555556,\"#d8576b\"],[0.6666666666666666,\"#ed7953\"],[0.7777777777777778,\"#fb9f3a\"],[0.8888888888888888,\"#fdca26\"],[1.0,\"#f0f921\"]],\"type\":\"histogram2d\"}],\"histogram2dcontour\":[{\"colorbar\":{\"outlinewidth\":0,\"ticks\":\"\"},\"colorscale\":[[0.0,\"#0d0887\"],[0.1111111111111111,\"#46039f\"],[0.2222222222222222,\"#7201a8\"],[0.3333333333333333,\"#9c179e\"],[0.4444444444444444,\"#bd3786\"],[0.5555555555555556,\"#d8576b\"],[0.6666666666666666,\"#ed7953\"],[0.7777777777777778,\"#fb9f3a\"],[0.8888888888888888,\"#fdca26\"],[1.0,\"#f0f921\"]],\"type\":\"histogram2dcontour\"}],\"mesh3d\":[{\"colorbar\":{\"outlinewidth\":0,\"ticks\":\"\"},\"type\":\"mesh3d\"}],\"parcoords\":[{\"line\":{\"colorbar\":{\"outlinewidth\":0,\"ticks\":\"\"}},\"type\":\"parcoords\"}],\"pie\":[{\"automargin\":true,\"type\":\"pie\"}],\"scatter\":[{\"marker\":{\"colorbar\":{\"outlinewidth\":0,\"ticks\":\"\"}},\"type\":\"scatter\"}],\"scatter3d\":[{\"line\":{\"colorbar\":{\"outlinewidth\":0,\"ticks\":\"\"}},\"marker\":{\"colorbar\":{\"outlinewidth\":0,\"ticks\":\"\"}},\"type\":\"scatter3d\"}],\"scattercarpet\":[{\"marker\":{\"colorbar\":{\"outlinewidth\":0,\"ticks\":\"\"}},\"type\":\"scattercarpet\"}],\"scattergeo\":[{\"marker\":{\"colorbar\":{\"outlinewidth\":0,\"ticks\":\"\"}},\"type\":\"scattergeo\"}],\"scattergl\":[{\"marker\":{\"colorbar\":{\"outlinewidth\":0,\"ticks\":\"\"}},\"type\":\"scattergl\"}],\"scattermapbox\":[{\"marker\":{\"colorbar\":{\"outlinewidth\":0,\"ticks\":\"\"}},\"type\":\"scattermapbox\"}],\"scatterpolar\":[{\"marker\":{\"colorbar\":{\"outlinewidth\":0,\"ticks\":\"\"}},\"type\":\"scatterpolar\"}],\"scatterpolargl\":[{\"marker\":{\"colorbar\":{\"outlinewidth\":0,\"ticks\":\"\"}},\"type\":\"scatterpolargl\"}],\"scatterternary\":[{\"marker\":{\"colorbar\":{\"outlinewidth\":0,\"ticks\":\"\"}},\"type\":\"scatterternary\"}],\"surface\":[{\"colorbar\":{\"outlinewidth\":0,\"ticks\":\"\"},\"colorscale\":[[0.0,\"#0d0887\"],[0.1111111111111111,\"#46039f\"],[0.2222222222222222,\"#7201a8\"],[0.3333333333333333,\"#9c179e\"],[0.4444444444444444,\"#bd3786\"],[0.5555555555555556,\"#d8576b\"],[0.6666666666666666,\"#ed7953\"],[0.7777777777777778,\"#fb9f3a\"],[0.8888888888888888,\"#fdca26\"],[1.0,\"#f0f921\"]],\"type\":\"surface\"}],\"table\":[{\"cells\":{\"fill\":{\"color\":\"#EBF0F8\"},\"line\":{\"color\":\"white\"}},\"header\":{\"fill\":{\"color\":\"#C8D4E3\"},\"line\":{\"color\":\"white\"}},\"type\":\"table\"}]},\"layout\":{\"annotationdefaults\":{\"arrowcolor\":\"#2a3f5f\",\"arrowhead\":0,\"arrowwidth\":1},\"autotypenumbers\":\"strict\",\"coloraxis\":{\"colorbar\":{\"outlinewidth\":0,\"ticks\":\"\"}},\"colorscale\":{\"diverging\":[[0,\"#8e0152\"],[0.1,\"#c51b7d\"],[0.2,\"#de77ae\"],[0.3,\"#f1b6da\"],[0.4,\"#fde0ef\"],[0.5,\"#f7f7f7\"],[0.6,\"#e6f5d0\"],[0.7,\"#b8e186\"],[0.8,\"#7fbc41\"],[0.9,\"#4d9221\"],[1,\"#276419\"]],\"sequential\":[[0.0,\"#0d0887\"],[0.1111111111111111,\"#46039f\"],[0.2222222222222222,\"#7201a8\"],[0.3333333333333333,\"#9c179e\"],[0.4444444444444444,\"#bd3786\"],[0.5555555555555556,\"#d8576b\"],[0.6666666666666666,\"#ed7953\"],[0.7777777777777778,\"#fb9f3a\"],[0.8888888888888888,\"#fdca26\"],[1.0,\"#f0f921\"]],\"sequentialminus\":[[0.0,\"#0d0887\"],[0.1111111111111111,\"#46039f\"],[0.2222222222222222,\"#7201a8\"],[0.3333333333333333,\"#9c179e\"],[0.4444444444444444,\"#bd3786\"],[0.5555555555555556,\"#d8576b\"],[0.6666666666666666,\"#ed7953\"],[0.7777777777777778,\"#fb9f3a\"],[0.8888888888888888,\"#fdca26\"],[1.0,\"#f0f921\"]]},\"colorway\":[\"#636efa\",\"#EF553B\",\"#00cc96\",\"#ab63fa\",\"#FFA15A\",\"#19d3f3\",\"#FF6692\",\"#B6E880\",\"#FF97FF\",\"#FECB52\"],\"font\":{\"color\":\"#2a3f5f\"},\"geo\":{\"bgcolor\":\"white\",\"lakecolor\":\"white\",\"landcolor\":\"#E5ECF6\",\"showlakes\":true,\"showland\":true,\"subunitcolor\":\"white\"},\"hoverlabel\":{\"align\":\"left\"},\"hovermode\":\"closest\",\"mapbox\":{\"style\":\"light\"},\"paper_bgcolor\":\"white\",\"plot_bgcolor\":\"#E5ECF6\",\"polar\":{\"angularaxis\":{\"gridcolor\":\"white\",\"linecolor\":\"white\",\"ticks\":\"\"},\"bgcolor\":\"#E5ECF6\",\"radialaxis\":{\"gridcolor\":\"white\",\"linecolor\":\"white\",\"ticks\":\"\"}},\"scene\":{\"xaxis\":{\"backgroundcolor\":\"#E5ECF6\",\"gridcolor\":\"white\",\"gridwidth\":2,\"linecolor\":\"white\",\"showbackground\":true,\"ticks\":\"\",\"zerolinecolor\":\"white\"},\"yaxis\":{\"backgroundcolor\":\"#E5ECF6\",\"gridcolor\":\"white\",\"gridwidth\":2,\"linecolor\":\"white\",\"showbackground\":true,\"ticks\":\"\",\"zerolinecolor\":\"white\"},\"zaxis\":{\"backgroundcolor\":\"#E5ECF6\",\"gridcolor\":\"white\",\"gridwidth\":2,\"linecolor\":\"white\",\"showbackground\":true,\"ticks\":\"\",\"zerolinecolor\":\"white\"}},\"shapedefaults\":{\"line\":{\"color\":\"#2a3f5f\"}},\"ternary\":{\"aaxis\":{\"gridcolor\":\"white\",\"linecolor\":\"white\",\"ticks\":\"\"},\"baxis\":{\"gridcolor\":\"white\",\"linecolor\":\"white\",\"ticks\":\"\"},\"bgcolor\":\"#E5ECF6\",\"caxis\":{\"gridcolor\":\"white\",\"linecolor\":\"white\",\"ticks\":\"\"}},\"title\":{\"x\":0.05},\"xaxis\":{\"automargin\":true,\"gridcolor\":\"white\",\"linecolor\":\"white\",\"ticks\":\"\",\"title\":{\"standoff\":15},\"zerolinecolor\":\"white\",\"zerolinewidth\":2},\"yaxis\":{\"automargin\":true,\"gridcolor\":\"white\",\"linecolor\":\"white\",\"ticks\":\"\",\"title\":{\"standoff\":15},\"zerolinecolor\":\"white\",\"zerolinewidth\":2}}},\"xaxis\":{\"anchor\":\"y\",\"domain\":[0.0,0.04375],\"title\":{},\"showticklabels\":true},\"yaxis\":{\"anchor\":\"x\",\"domain\":[0.0,1.0],\"title\":{\"text\":\"Video Count\"}},\"xaxis2\":{\"anchor\":\"y2\",\"domain\":[0.06375,0.1075],\"title\":{\"text\":\"channel_id\"},\"showticklabels\":true},\"yaxis2\":{\"anchor\":\"x2\",\"domain\":[0.0,1.0],\"matches\":\"y\",\"showticklabels\":false},\"xaxis3\":{\"anchor\":\"y3\",\"domain\":[0.1275,0.17125],\"title\":{\"text\":\"channel_id\"},\"showticklabels\":true},\"yaxis3\":{\"anchor\":\"x3\",\"domain\":[0.0,1.0],\"matches\":\"y\",\"showticklabels\":false},\"xaxis4\":{\"anchor\":\"y4\",\"domain\":[0.19124999999999998,0.235],\"title\":{\"text\":\"channel_id\"},\"showticklabels\":true},\"yaxis4\":{\"anchor\":\"x4\",\"domain\":[0.0,1.0],\"matches\":\"y\",\"showticklabels\":false},\"xaxis5\":{\"anchor\":\"y5\",\"domain\":[0.255,0.29875],\"title\":{\"text\":\"channel_id\"},\"showticklabels\":true},\"yaxis5\":{\"anchor\":\"x5\",\"domain\":[0.0,1.0],\"matches\":\"y\",\"showticklabels\":false},\"xaxis6\":{\"anchor\":\"y6\",\"domain\":[0.31875,0.3625],\"title\":{\"text\":\"channel_id\"},\"showticklabels\":true},\"yaxis6\":{\"anchor\":\"x6\",\"domain\":[0.0,1.0],\"matches\":\"y\",\"showticklabels\":false},\"xaxis7\":{\"anchor\":\"y7\",\"domain\":[0.3825,0.42625],\"title\":{\"text\":\"channel_id\"},\"showticklabels\":true},\"yaxis7\":{\"anchor\":\"x7\",\"domain\":[0.0,1.0],\"matches\":\"y\",\"showticklabels\":false},\"xaxis8\":{\"anchor\":\"y8\",\"domain\":[0.44625000000000004,0.49000000000000005],\"title\":{\"text\":\"channel_id\"},\"showticklabels\":true},\"yaxis8\":{\"anchor\":\"x8\",\"domain\":[0.0,1.0],\"matches\":\"y\",\"showticklabels\":false},\"xaxis9\":{\"anchor\":\"y9\",\"domain\":[0.51,0.55375],\"title\":{\"text\":\"channel_id\"},\"showticklabels\":true},\"yaxis9\":{\"anchor\":\"x9\",\"domain\":[0.0,1.0],\"matches\":\"y\",\"showticklabels\":false},\"xaxis10\":{\"anchor\":\"y10\",\"domain\":[0.57375,0.6174999999999999],\"title\":{\"text\":\"channel_id\"},\"showticklabels\":true},\"yaxis10\":{\"anchor\":\"x10\",\"domain\":[0.0,1.0],\"matches\":\"y\",\"showticklabels\":false},\"xaxis11\":{\"anchor\":\"y11\",\"domain\":[0.6375000000000001,0.68125],\"title\":{\"text\":\"channel_id\"},\"showticklabels\":true},\"yaxis11\":{\"anchor\":\"x11\",\"domain\":[0.0,1.0],\"matches\":\"y\",\"showticklabels\":false},\"xaxis12\":{\"anchor\":\"y12\",\"domain\":[0.70125,0.745],\"title\":{\"text\":\"channel_id\"},\"showticklabels\":true},\"yaxis12\":{\"anchor\":\"x12\",\"domain\":[0.0,1.0],\"matches\":\"y\",\"showticklabels\":false},\"xaxis13\":{\"anchor\":\"y13\",\"domain\":[0.765,0.80875],\"title\":{\"text\":\"channel_id\"},\"showticklabels\":true},\"yaxis13\":{\"anchor\":\"x13\",\"domain\":[0.0,1.0],\"matches\":\"y\",\"showticklabels\":false},\"xaxis14\":{\"anchor\":\"y14\",\"domain\":[0.82875,0.8724999999999999],\"title\":{\"text\":\"channel_id\"},\"showticklabels\":true},\"yaxis14\":{\"anchor\":\"x14\",\"domain\":[0.0,1.0],\"matches\":\"y\",\"showticklabels\":false},\"xaxis15\":{\"anchor\":\"y15\",\"domain\":[0.8925,0.9362499999999999],\"title\":{\"text\":\"channel_id\"},\"showticklabels\":true},\"yaxis15\":{\"anchor\":\"x15\",\"domain\":[0.0,1.0],\"matches\":\"y\",\"showticklabels\":false},\"xaxis16\":{\"anchor\":\"y16\",\"domain\":[0.9562499999999998,0.9999999999999998],\"title\":{\"text\":\"channel_id\"},\"showticklabels\":true},\"yaxis16\":{\"anchor\":\"x16\",\"domain\":[0.0,1.0],\"matches\":\"y\",\"showticklabels\":false},\"annotations\":[{\"font\":{},\"showarrow\":false,\"text\":\"1\",\"x\":0.021875,\"xanchor\":\"center\",\"xref\":\"paper\",\"y\":1.0,\"yanchor\":\"bottom\",\"yref\":\"paper\"},{\"font\":{},\"showarrow\":false,\"text\":\"2\",\"x\":0.085625,\"xanchor\":\"center\",\"xref\":\"paper\",\"y\":1.0,\"yanchor\":\"bottom\",\"yref\":\"paper\"},{\"font\":{},\"showarrow\":false,\"text\":\"3\",\"x\":0.149375,\"xanchor\":\"center\",\"xref\":\"paper\",\"y\":1.0,\"yanchor\":\"bottom\",\"yref\":\"paper\"},{\"font\":{},\"showarrow\":false,\"text\":\"4\",\"x\":0.21312499999999998,\"xanchor\":\"center\",\"xref\":\"paper\",\"y\":1.0,\"yanchor\":\"bottom\",\"yref\":\"paper\"},{\"font\":{},\"showarrow\":false,\"text\":\"5\",\"x\":0.276875,\"xanchor\":\"center\",\"xref\":\"paper\",\"y\":1.0,\"yanchor\":\"bottom\",\"yref\":\"paper\"},{\"font\":{},\"showarrow\":false,\"text\":\"6\",\"x\":0.34062499999999996,\"xanchor\":\"center\",\"xref\":\"paper\",\"y\":1.0,\"yanchor\":\"bottom\",\"yref\":\"paper\"},{\"font\":{},\"showarrow\":false,\"text\":\"7\",\"x\":0.40437500000000004,\"xanchor\":\"center\",\"xref\":\"paper\",\"y\":1.0,\"yanchor\":\"bottom\",\"yref\":\"paper\"},{\"font\":{},\"showarrow\":false,\"text\":\"8\",\"x\":0.468125,\"xanchor\":\"center\",\"xref\":\"paper\",\"y\":1.0,\"yanchor\":\"bottom\",\"yref\":\"paper\"},{\"font\":{},\"showarrow\":false,\"text\":\"9\",\"x\":0.531875,\"xanchor\":\"center\",\"xref\":\"paper\",\"y\":1.0,\"yanchor\":\"bottom\",\"yref\":\"paper\"},{\"font\":{},\"showarrow\":false,\"text\":\"10\",\"x\":0.595625,\"xanchor\":\"center\",\"xref\":\"paper\",\"y\":1.0,\"yanchor\":\"bottom\",\"yref\":\"paper\"},{\"font\":{},\"showarrow\":false,\"text\":\"11\",\"x\":0.659375,\"xanchor\":\"center\",\"xref\":\"paper\",\"y\":1.0,\"yanchor\":\"bottom\",\"yref\":\"paper\"},{\"font\":{},\"showarrow\":false,\"text\":\"12\",\"x\":0.723125,\"xanchor\":\"center\",\"xref\":\"paper\",\"y\":1.0,\"yanchor\":\"bottom\",\"yref\":\"paper\"},{\"font\":{},\"showarrow\":false,\"text\":\"13\",\"x\":0.786875,\"xanchor\":\"center\",\"xref\":\"paper\",\"y\":1.0,\"yanchor\":\"bottom\",\"yref\":\"paper\"},{\"font\":{},\"showarrow\":false,\"text\":\"14\",\"x\":0.850625,\"xanchor\":\"center\",\"xref\":\"paper\",\"y\":1.0,\"yanchor\":\"bottom\",\"yref\":\"paper\"},{\"font\":{},\"showarrow\":false,\"text\":\"15\",\"x\":0.9143749999999999,\"xanchor\":\"center\",\"xref\":\"paper\",\"y\":1.0,\"yanchor\":\"bottom\",\"yref\":\"paper\"},{\"font\":{},\"showarrow\":false,\"text\":\"17\",\"x\":0.9781249999999998,\"xanchor\":\"center\",\"xref\":\"paper\",\"y\":1.0,\"yanchor\":\"bottom\",\"yref\":\"paper\"}],\"legend\":{\"tracegroupgap\":0},\"margin\":{\"t\":60},\"barmode\":\"relative\",\"title\":{\"text\":\"Top 5 Channel by Week\"}},                        {\"responsive\": true}                    ).then(function(){\n",
       "                            \n",
       "var gd = document.getElementById('474a900c-2f1c-4e5e-9416-db9a0013c63a');\n",
       "var x = new MutationObserver(function (mutations, observer) {{\n",
       "        var display = window.getComputedStyle(gd).display;\n",
       "        if (!display || display === 'none') {{\n",
       "            console.log([gd, 'removed!']);\n",
       "            Plotly.purge(gd);\n",
       "            observer.disconnect();\n",
       "        }}\n",
       "}});\n",
       "\n",
       "// Listen for the removal of the full notebook cells\n",
       "var notebookContainer = gd.closest('#notebook-container');\n",
       "if (notebookContainer) {{\n",
       "    x.observe(notebookContainer, {childList: true});\n",
       "}}\n",
       "\n",
       "// Listen for the clearing of the current output cell\n",
       "var outputEl = gd.closest('.output');\n",
       "if (outputEl) {{\n",
       "    x.observe(outputEl, {childList: true});\n",
       "}}\n",
       "\n",
       "                        })                };                });            </script>        </div>"
      ]
     },
     "metadata": {},
     "output_type": "display_data"
    }
   ],
   "source": [
    "temp = YoutubeViz(df)\n",
    "\n",
    "fig_1 = temp.solve_q1_4()\n",
    "fig_1.show()"
   ]
  },
  {
   "cell_type": "code",
   "execution_count": null,
   "metadata": {},
   "outputs": [],
   "source": [
    "# get dictionary key = category, value = channel_id\n",
    "\n",
    "for i in q1_1['category_name'].unique():\n",
    "    \n",
    "    \n"
   ]
  },
  {
   "cell_type": "code",
   "execution_count": 120,
   "metadata": {},
   "outputs": [
    {
     "data": {
      "text/html": [
       "<div>\n",
       "<style scoped>\n",
       "    .dataframe tbody tr th:only-of-type {\n",
       "        vertical-align: middle;\n",
       "    }\n",
       "\n",
       "    .dataframe tbody tr th {\n",
       "        vertical-align: top;\n",
       "    }\n",
       "\n",
       "    .dataframe thead th {\n",
       "        text-align: right;\n",
       "    }\n",
       "</style>\n",
       "<table border=\"1\" class=\"dataframe\">\n",
       "  <thead>\n",
       "    <tr style=\"text-align: right;\">\n",
       "      <th></th>\n",
       "      <th>category_name</th>\n",
       "      <th>channel_id</th>\n",
       "      <th>video_id</th>\n",
       "    </tr>\n",
       "  </thead>\n",
       "  <tbody>\n",
       "    <tr>\n",
       "      <th>0</th>\n",
       "      <td>Autos &amp; Vehicles</td>\n",
       "      <td>CH-IBt8</td>\n",
       "      <td>1</td>\n",
       "    </tr>\n",
       "    <tr>\n",
       "      <th>1</th>\n",
       "      <td>Autos &amp; Vehicles</td>\n",
       "      <td>CHyF14S</td>\n",
       "      <td>1</td>\n",
       "    </tr>\n",
       "    <tr>\n",
       "      <th>2</th>\n",
       "      <td>Autos &amp; Vehicles</td>\n",
       "      <td>CHs2TmE</td>\n",
       "      <td>1</td>\n",
       "    </tr>\n",
       "    <tr>\n",
       "      <th>3</th>\n",
       "      <td>Autos &amp; Vehicles</td>\n",
       "      <td>CHrXkDA</td>\n",
       "      <td>2</td>\n",
       "    </tr>\n",
       "    <tr>\n",
       "      <th>4</th>\n",
       "      <td>Autos &amp; Vehicles</td>\n",
       "      <td>CHrOl7I</td>\n",
       "      <td>3</td>\n",
       "    </tr>\n",
       "    <tr>\n",
       "      <th>...</th>\n",
       "      <td>...</td>\n",
       "      <td>...</td>\n",
       "      <td>...</td>\n",
       "    </tr>\n",
       "    <tr>\n",
       "      <th>965</th>\n",
       "      <td>Travel &amp; Events</td>\n",
       "      <td>CHFCtZJ</td>\n",
       "      <td>2</td>\n",
       "    </tr>\n",
       "    <tr>\n",
       "      <th>966</th>\n",
       "      <td>Travel &amp; Events</td>\n",
       "      <td>CH4KYnI</td>\n",
       "      <td>2</td>\n",
       "    </tr>\n",
       "    <tr>\n",
       "      <th>967</th>\n",
       "      <td>Travel &amp; Events</td>\n",
       "      <td>CHlRNDV</td>\n",
       "      <td>7</td>\n",
       "    </tr>\n",
       "    <tr>\n",
       "      <th>968</th>\n",
       "      <td>Travel &amp; Events</td>\n",
       "      <td>CHFw4M1</td>\n",
       "      <td>3</td>\n",
       "    </tr>\n",
       "    <tr>\n",
       "      <th>969</th>\n",
       "      <td>Travel &amp; Events</td>\n",
       "      <td>CHsLoTw</td>\n",
       "      <td>1</td>\n",
       "    </tr>\n",
       "  </tbody>\n",
       "</table>\n",
       "<p>970 rows × 3 columns</p>\n",
       "</div>"
      ],
      "text/plain": [
       "        category_name channel_id  video_id\n",
       "0    Autos & Vehicles    CH-IBt8         1\n",
       "1    Autos & Vehicles    CHyF14S         1\n",
       "2    Autos & Vehicles    CHs2TmE         1\n",
       "3    Autos & Vehicles    CHrXkDA         2\n",
       "4    Autos & Vehicles    CHrOl7I         3\n",
       "..                ...        ...       ...\n",
       "965   Travel & Events    CHFCtZJ         2\n",
       "966   Travel & Events    CH4KYnI         2\n",
       "967   Travel & Events    CHlRNDV         7\n",
       "968   Travel & Events    CHFw4M1         3\n",
       "969   Travel & Events    CHsLoTw         1\n",
       "\n",
       "[970 rows x 3 columns]"
      ]
     },
     "execution_count": 120,
     "metadata": {},
     "output_type": "execute_result"
    }
   ],
   "source": [
    "# cat\n",
    "\n",
    "q1_1 = df[['video_id','category_name','channel_id']].groupby(['category_name','channel_id']). \\\n",
    "    count().\\\n",
    "    sort_values(by='video_id',ascending=False).\\\n",
    "    reset_index(drop=False)\n",
    "q1_1"
   ]
  },
  {
   "cell_type": "code",
   "execution_count": 70,
   "metadata": {},
   "outputs": [
    {
     "data": {
      "text/html": [
       "<div>\n",
       "<style scoped>\n",
       "    .dataframe tbody tr th:only-of-type {\n",
       "        vertical-align: middle;\n",
       "    }\n",
       "\n",
       "    .dataframe tbody tr th {\n",
       "        vertical-align: top;\n",
       "    }\n",
       "\n",
       "    .dataframe thead th {\n",
       "        text-align: right;\n",
       "    }\n",
       "</style>\n",
       "<table border=\"1\" class=\"dataframe\">\n",
       "  <thead>\n",
       "    <tr style=\"text-align: right;\">\n",
       "      <th></th>\n",
       "      <th>category_name</th>\n",
       "      <th>channel_id</th>\n",
       "      <th>year_month</th>\n",
       "      <th>video_id</th>\n",
       "    </tr>\n",
       "  </thead>\n",
       "  <tbody>\n",
       "    <tr>\n",
       "      <th>0</th>\n",
       "      <td>Sports</td>\n",
       "      <td>CHtybqq</td>\n",
       "      <td>2021-06</td>\n",
       "      <td>15</td>\n",
       "    </tr>\n",
       "    <tr>\n",
       "      <th>1</th>\n",
       "      <td>Entertainment</td>\n",
       "      <td>CHQ2O-i</td>\n",
       "      <td>2021-05</td>\n",
       "      <td>9</td>\n",
       "    </tr>\n",
       "    <tr>\n",
       "      <th>2</th>\n",
       "      <td>Sports</td>\n",
       "      <td>CHYRrUD</td>\n",
       "      <td>2021-07</td>\n",
       "      <td>8</td>\n",
       "    </tr>\n",
       "    <tr>\n",
       "      <th>3</th>\n",
       "      <td>People &amp; Blogs</td>\n",
       "      <td>CHIG4gr</td>\n",
       "      <td>2021-05</td>\n",
       "      <td>7</td>\n",
       "    </tr>\n",
       "    <tr>\n",
       "      <th>4</th>\n",
       "      <td>People &amp; Blogs</td>\n",
       "      <td>CHDV9zg</td>\n",
       "      <td>2021-05</td>\n",
       "      <td>7</td>\n",
       "    </tr>\n",
       "    <tr>\n",
       "      <th>...</th>\n",
       "      <td>...</td>\n",
       "      <td>...</td>\n",
       "      <td>...</td>\n",
       "      <td>...</td>\n",
       "    </tr>\n",
       "    <tr>\n",
       "      <th>1675</th>\n",
       "      <td>Entertainment</td>\n",
       "      <td>CHtDcEb</td>\n",
       "      <td>2021-04</td>\n",
       "      <td>1</td>\n",
       "    </tr>\n",
       "    <tr>\n",
       "      <th>1676</th>\n",
       "      <td>Entertainment</td>\n",
       "      <td>CHtCW8q</td>\n",
       "      <td>2021-04</td>\n",
       "      <td>1</td>\n",
       "    </tr>\n",
       "    <tr>\n",
       "      <th>1677</th>\n",
       "      <td>Entertainment</td>\n",
       "      <td>CHseQwR</td>\n",
       "      <td>2021-05</td>\n",
       "      <td>1</td>\n",
       "    </tr>\n",
       "    <tr>\n",
       "      <th>1678</th>\n",
       "      <td>Entertainment</td>\n",
       "      <td>CHsU2Rl</td>\n",
       "      <td>2021-07</td>\n",
       "      <td>1</td>\n",
       "    </tr>\n",
       "    <tr>\n",
       "      <th>1679</th>\n",
       "      <td>Travel &amp; Events</td>\n",
       "      <td>CHsLoTw</td>\n",
       "      <td>2021-05</td>\n",
       "      <td>1</td>\n",
       "    </tr>\n",
       "  </tbody>\n",
       "</table>\n",
       "<p>1680 rows × 4 columns</p>\n",
       "</div>"
      ],
      "text/plain": [
       "        category_name channel_id year_month  video_id\n",
       "0              Sports    CHtybqq    2021-06        15\n",
       "1       Entertainment    CHQ2O-i    2021-05         9\n",
       "2              Sports    CHYRrUD    2021-07         8\n",
       "3      People & Blogs    CHIG4gr    2021-05         7\n",
       "4      People & Blogs    CHDV9zg    2021-05         7\n",
       "...               ...        ...        ...       ...\n",
       "1675    Entertainment    CHtDcEb    2021-04         1\n",
       "1676    Entertainment    CHtCW8q    2021-04         1\n",
       "1677    Entertainment    CHseQwR    2021-05         1\n",
       "1678    Entertainment    CHsU2Rl    2021-07         1\n",
       "1679  Travel & Events    CHsLoTw    2021-05         1\n",
       "\n",
       "[1680 rows x 4 columns]"
      ]
     },
     "execution_count": 70,
     "metadata": {},
     "output_type": "execute_result"
    }
   ],
   "source": [
    "q1_2 = df[['video_id','category_name','channel_id','year_month']].groupby(['category_name','channel_id','year_month']). \\\n",
    "    count().\\\n",
    "    sort_values(by='video_id', ascending=False).\\\n",
    "    reset_index(drop=False)\n",
    "q1_2"
   ]
  },
  {
   "cell_type": "code",
   "execution_count": 91,
   "metadata": {},
   "outputs": [
    {
     "name": "stdout",
     "output_type": "stream",
     "text": [
      "(25, 4)\n"
     ]
    },
    {
     "data": {
      "text/html": [
       "<div>\n",
       "<style scoped>\n",
       "    .dataframe tbody tr th:only-of-type {\n",
       "        vertical-align: middle;\n",
       "    }\n",
       "\n",
       "    .dataframe tbody tr th {\n",
       "        vertical-align: top;\n",
       "    }\n",
       "\n",
       "    .dataframe thead th {\n",
       "        text-align: right;\n",
       "    }\n",
       "</style>\n",
       "<table border=\"1\" class=\"dataframe\">\n",
       "  <thead>\n",
       "    <tr style=\"text-align: right;\">\n",
       "      <th></th>\n",
       "      <th>category_name</th>\n",
       "      <th>channel_id</th>\n",
       "      <th>year_month</th>\n",
       "      <th>video_id</th>\n",
       "    </tr>\n",
       "  </thead>\n",
       "  <tbody>\n",
       "    <tr>\n",
       "      <th>222</th>\n",
       "      <td>Entertainment</td>\n",
       "      <td>CHaKod3</td>\n",
       "      <td>2021-03</td>\n",
       "      <td>2</td>\n",
       "    </tr>\n",
       "    <tr>\n",
       "      <th>268</th>\n",
       "      <td>People &amp; Blogs</td>\n",
       "      <td>CHnet0I</td>\n",
       "      <td>2021-03</td>\n",
       "      <td>2</td>\n",
       "    </tr>\n",
       "    <tr>\n",
       "      <th>370</th>\n",
       "      <td>People &amp; Blogs</td>\n",
       "      <td>CHaZS_X</td>\n",
       "      <td>2021-03</td>\n",
       "      <td>2</td>\n",
       "    </tr>\n",
       "    <tr>\n",
       "      <th>432</th>\n",
       "      <td>Education</td>\n",
       "      <td>CHicKQU</td>\n",
       "      <td>2021-03</td>\n",
       "      <td>2</td>\n",
       "    </tr>\n",
       "    <tr>\n",
       "      <th>460</th>\n",
       "      <td>Entertainment</td>\n",
       "      <td>CH5BMQO</td>\n",
       "      <td>2021-03</td>\n",
       "      <td>2</td>\n",
       "    </tr>\n",
       "    <tr>\n",
       "      <th>11</th>\n",
       "      <td>Comedy</td>\n",
       "      <td>CHmzMtX</td>\n",
       "      <td>2021-04</td>\n",
       "      <td>6</td>\n",
       "    </tr>\n",
       "    <tr>\n",
       "      <th>13</th>\n",
       "      <td>Music</td>\n",
       "      <td>CHLkAep</td>\n",
       "      <td>2021-04</td>\n",
       "      <td>5</td>\n",
       "    </tr>\n",
       "    <tr>\n",
       "      <th>16</th>\n",
       "      <td>Entertainment</td>\n",
       "      <td>CHUyfkq</td>\n",
       "      <td>2021-04</td>\n",
       "      <td>5</td>\n",
       "    </tr>\n",
       "    <tr>\n",
       "      <th>17</th>\n",
       "      <td>Music</td>\n",
       "      <td>CHfkXDY</td>\n",
       "      <td>2021-04</td>\n",
       "      <td>5</td>\n",
       "    </tr>\n",
       "    <tr>\n",
       "      <th>19</th>\n",
       "      <td>People &amp; Blogs</td>\n",
       "      <td>CHXTyJZ</td>\n",
       "      <td>2021-04</td>\n",
       "      <td>5</td>\n",
       "    </tr>\n",
       "    <tr>\n",
       "      <th>1</th>\n",
       "      <td>Entertainment</td>\n",
       "      <td>CHQ2O-i</td>\n",
       "      <td>2021-05</td>\n",
       "      <td>9</td>\n",
       "    </tr>\n",
       "    <tr>\n",
       "      <th>3</th>\n",
       "      <td>People &amp; Blogs</td>\n",
       "      <td>CHIG4gr</td>\n",
       "      <td>2021-05</td>\n",
       "      <td>7</td>\n",
       "    </tr>\n",
       "    <tr>\n",
       "      <th>4</th>\n",
       "      <td>People &amp; Blogs</td>\n",
       "      <td>CHDV9zg</td>\n",
       "      <td>2021-05</td>\n",
       "      <td>7</td>\n",
       "    </tr>\n",
       "    <tr>\n",
       "      <th>5</th>\n",
       "      <td>Music</td>\n",
       "      <td>CH9GtSL</td>\n",
       "      <td>2021-05</td>\n",
       "      <td>6</td>\n",
       "    </tr>\n",
       "    <tr>\n",
       "      <th>8</th>\n",
       "      <td>News &amp; Politics</td>\n",
       "      <td>CHsU-I-</td>\n",
       "      <td>2021-05</td>\n",
       "      <td>6</td>\n",
       "    </tr>\n",
       "    <tr>\n",
       "      <th>0</th>\n",
       "      <td>Sports</td>\n",
       "      <td>CHtybqq</td>\n",
       "      <td>2021-06</td>\n",
       "      <td>15</td>\n",
       "    </tr>\n",
       "    <tr>\n",
       "      <th>6</th>\n",
       "      <td>Sports</td>\n",
       "      <td>CHpjOmw</td>\n",
       "      <td>2021-06</td>\n",
       "      <td>6</td>\n",
       "    </tr>\n",
       "    <tr>\n",
       "      <th>10</th>\n",
       "      <td>People &amp; Blogs</td>\n",
       "      <td>CHtfriF</td>\n",
       "      <td>2021-06</td>\n",
       "      <td>6</td>\n",
       "    </tr>\n",
       "    <tr>\n",
       "      <th>18</th>\n",
       "      <td>Entertainment</td>\n",
       "      <td>CHUyfkq</td>\n",
       "      <td>2021-06</td>\n",
       "      <td>5</td>\n",
       "    </tr>\n",
       "    <tr>\n",
       "      <th>25</th>\n",
       "      <td>People &amp; Blogs</td>\n",
       "      <td>CHuDLnJ</td>\n",
       "      <td>2021-06</td>\n",
       "      <td>5</td>\n",
       "    </tr>\n",
       "    <tr>\n",
       "      <th>2</th>\n",
       "      <td>Sports</td>\n",
       "      <td>CHYRrUD</td>\n",
       "      <td>2021-07</td>\n",
       "      <td>8</td>\n",
       "    </tr>\n",
       "    <tr>\n",
       "      <th>7</th>\n",
       "      <td>Pets &amp; Animals</td>\n",
       "      <td>CH29-Il</td>\n",
       "      <td>2021-07</td>\n",
       "      <td>6</td>\n",
       "    </tr>\n",
       "    <tr>\n",
       "      <th>9</th>\n",
       "      <td>Sports</td>\n",
       "      <td>CHk4XjB</td>\n",
       "      <td>2021-07</td>\n",
       "      <td>6</td>\n",
       "    </tr>\n",
       "    <tr>\n",
       "      <th>12</th>\n",
       "      <td>Sports</td>\n",
       "      <td>CHUQVGX</td>\n",
       "      <td>2021-07</td>\n",
       "      <td>6</td>\n",
       "    </tr>\n",
       "    <tr>\n",
       "      <th>14</th>\n",
       "      <td>Film &amp; Animation</td>\n",
       "      <td>CHszFjh</td>\n",
       "      <td>2021-07</td>\n",
       "      <td>5</td>\n",
       "    </tr>\n",
       "  </tbody>\n",
       "</table>\n",
       "</div>"
      ],
      "text/plain": [
       "        category_name channel_id year_month  video_id\n",
       "222     Entertainment    CHaKod3    2021-03         2\n",
       "268    People & Blogs    CHnet0I    2021-03         2\n",
       "370    People & Blogs    CHaZS_X    2021-03         2\n",
       "432         Education    CHicKQU    2021-03         2\n",
       "460     Entertainment    CH5BMQO    2021-03         2\n",
       "11             Comedy    CHmzMtX    2021-04         6\n",
       "13              Music    CHLkAep    2021-04         5\n",
       "16      Entertainment    CHUyfkq    2021-04         5\n",
       "17              Music    CHfkXDY    2021-04         5\n",
       "19     People & Blogs    CHXTyJZ    2021-04         5\n",
       "1       Entertainment    CHQ2O-i    2021-05         9\n",
       "3      People & Blogs    CHIG4gr    2021-05         7\n",
       "4      People & Blogs    CHDV9zg    2021-05         7\n",
       "5               Music    CH9GtSL    2021-05         6\n",
       "8     News & Politics    CHsU-I-    2021-05         6\n",
       "0              Sports    CHtybqq    2021-06        15\n",
       "6              Sports    CHpjOmw    2021-06         6\n",
       "10     People & Blogs    CHtfriF    2021-06         6\n",
       "18      Entertainment    CHUyfkq    2021-06         5\n",
       "25     People & Blogs    CHuDLnJ    2021-06         5\n",
       "2              Sports    CHYRrUD    2021-07         8\n",
       "7      Pets & Animals    CH29-Il    2021-07         6\n",
       "9              Sports    CHk4XjB    2021-07         6\n",
       "12             Sports    CHUQVGX    2021-07         6\n",
       "14   Film & Animation    CHszFjh    2021-07         5"
      ]
     },
     "execution_count": 91,
     "metadata": {},
     "output_type": "execute_result"
    }
   ],
   "source": [
    "#top 5 channel by month\n",
    "top5=q1_2.sort_values(['year_month','video_id'],ascending=[True,False]).groupby('year_month'). \\\n",
    "    head(5)\n",
    "print(top5.shape)\n",
    "top5\n"
   ]
  },
  {
   "cell_type": "code",
   "execution_count": 102,
   "metadata": {},
   "outputs": [
    {
     "data": {
      "application/vnd.plotly.v1+json": {
       "config": {
        "plotlyServerURL": "https://plot.ly"
       },
       "data": [
        {
         "alignmentgroup": "True",
         "hovertemplate": "year_month=2021-03<br>channel_id=%{x}<br>video_id=%{y}<extra></extra>",
         "legendgroup": "",
         "marker": {
          "color": "#636efa",
          "pattern": {
           "shape": ""
          }
         },
         "name": "",
         "offsetgroup": "",
         "orientation": "v",
         "showlegend": false,
         "textposition": "auto",
         "type": "bar",
         "x": [
          "CHaKod3",
          "CHnet0I",
          "CHaZS_X",
          "CHicKQU",
          "CH5BMQO"
         ],
         "xaxis": "x",
         "y": [
          2,
          2,
          2,
          2,
          2
         ],
         "yaxis": "y"
        },
        {
         "alignmentgroup": "True",
         "hovertemplate": "year_month=2021-04<br>channel_id=%{x}<br>video_id=%{y}<extra></extra>",
         "legendgroup": "",
         "marker": {
          "color": "#636efa",
          "pattern": {
           "shape": ""
          }
         },
         "name": "",
         "offsetgroup": "",
         "orientation": "v",
         "showlegend": false,
         "textposition": "auto",
         "type": "bar",
         "x": [
          "CHmzMtX",
          "CHLkAep",
          "CHUyfkq",
          "CHfkXDY",
          "CHXTyJZ"
         ],
         "xaxis": "x2",
         "y": [
          6,
          5,
          5,
          5,
          5
         ],
         "yaxis": "y2"
        },
        {
         "alignmentgroup": "True",
         "hovertemplate": "year_month=2021-05<br>channel_id=%{x}<br>video_id=%{y}<extra></extra>",
         "legendgroup": "",
         "marker": {
          "color": "#636efa",
          "pattern": {
           "shape": ""
          }
         },
         "name": "",
         "offsetgroup": "",
         "orientation": "v",
         "showlegend": false,
         "textposition": "auto",
         "type": "bar",
         "x": [
          "CHQ2O-i",
          "CHIG4gr",
          "CHDV9zg",
          "CH9GtSL",
          "CHsU-I-"
         ],
         "xaxis": "x3",
         "y": [
          9,
          7,
          7,
          6,
          6
         ],
         "yaxis": "y3"
        },
        {
         "alignmentgroup": "True",
         "hovertemplate": "year_month=2021-06<br>channel_id=%{x}<br>video_id=%{y}<extra></extra>",
         "legendgroup": "",
         "marker": {
          "color": "#636efa",
          "pattern": {
           "shape": ""
          }
         },
         "name": "",
         "offsetgroup": "",
         "orientation": "v",
         "showlegend": false,
         "textposition": "auto",
         "type": "bar",
         "x": [
          "CHtybqq",
          "CHpjOmw",
          "CHtfriF",
          "CHUyfkq",
          "CHuDLnJ"
         ],
         "xaxis": "x4",
         "y": [
          15,
          6,
          6,
          5,
          5
         ],
         "yaxis": "y4"
        },
        {
         "alignmentgroup": "True",
         "hovertemplate": "year_month=2021-07<br>channel_id=%{x}<br>video_id=%{y}<extra></extra>",
         "legendgroup": "",
         "marker": {
          "color": "#636efa",
          "pattern": {
           "shape": ""
          }
         },
         "name": "",
         "offsetgroup": "",
         "orientation": "v",
         "showlegend": false,
         "textposition": "auto",
         "type": "bar",
         "x": [
          "CHYRrUD",
          "CH29-Il",
          "CHk4XjB",
          "CHUQVGX",
          "CHszFjh"
         ],
         "xaxis": "x5",
         "y": [
          8,
          6,
          6,
          6,
          5
         ],
         "yaxis": "y5"
        }
       ],
       "layout": {
        "annotations": [
         {
          "font": {},
          "showarrow": false,
          "text": "2021-03",
          "x": 0.09200000000000001,
          "xanchor": "center",
          "xref": "paper",
          "y": 1,
          "yanchor": "bottom",
          "yref": "paper"
         },
         {
          "font": {},
          "showarrow": false,
          "text": "2021-04",
          "x": 0.29600000000000004,
          "xanchor": "center",
          "xref": "paper",
          "y": 1,
          "yanchor": "bottom",
          "yref": "paper"
         },
         {
          "font": {},
          "showarrow": false,
          "text": "2021-05",
          "x": 0.5,
          "xanchor": "center",
          "xref": "paper",
          "y": 1,
          "yanchor": "bottom",
          "yref": "paper"
         },
         {
          "font": {},
          "showarrow": false,
          "text": "2021-06",
          "x": 0.7040000000000002,
          "xanchor": "center",
          "xref": "paper",
          "y": 1,
          "yanchor": "bottom",
          "yref": "paper"
         },
         {
          "font": {},
          "showarrow": false,
          "text": "2021-07",
          "x": 0.908,
          "xanchor": "center",
          "xref": "paper",
          "y": 1,
          "yanchor": "bottom",
          "yref": "paper"
         }
        ],
        "barmode": "relative",
        "legend": {
         "tracegroupgap": 0
        },
        "margin": {
         "t": 60
        },
        "template": {
         "data": {
          "bar": [
           {
            "error_x": {
             "color": "#2a3f5f"
            },
            "error_y": {
             "color": "#2a3f5f"
            },
            "marker": {
             "line": {
              "color": "#E5ECF6",
              "width": 0.5
             },
             "pattern": {
              "fillmode": "overlay",
              "size": 10,
              "solidity": 0.2
             }
            },
            "type": "bar"
           }
          ],
          "barpolar": [
           {
            "marker": {
             "line": {
              "color": "#E5ECF6",
              "width": 0.5
             },
             "pattern": {
              "fillmode": "overlay",
              "size": 10,
              "solidity": 0.2
             }
            },
            "type": "barpolar"
           }
          ],
          "carpet": [
           {
            "aaxis": {
             "endlinecolor": "#2a3f5f",
             "gridcolor": "white",
             "linecolor": "white",
             "minorgridcolor": "white",
             "startlinecolor": "#2a3f5f"
            },
            "baxis": {
             "endlinecolor": "#2a3f5f",
             "gridcolor": "white",
             "linecolor": "white",
             "minorgridcolor": "white",
             "startlinecolor": "#2a3f5f"
            },
            "type": "carpet"
           }
          ],
          "choropleth": [
           {
            "colorbar": {
             "outlinewidth": 0,
             "ticks": ""
            },
            "type": "choropleth"
           }
          ],
          "contour": [
           {
            "colorbar": {
             "outlinewidth": 0,
             "ticks": ""
            },
            "colorscale": [
             [
              0,
              "#0d0887"
             ],
             [
              0.1111111111111111,
              "#46039f"
             ],
             [
              0.2222222222222222,
              "#7201a8"
             ],
             [
              0.3333333333333333,
              "#9c179e"
             ],
             [
              0.4444444444444444,
              "#bd3786"
             ],
             [
              0.5555555555555556,
              "#d8576b"
             ],
             [
              0.6666666666666666,
              "#ed7953"
             ],
             [
              0.7777777777777778,
              "#fb9f3a"
             ],
             [
              0.8888888888888888,
              "#fdca26"
             ],
             [
              1,
              "#f0f921"
             ]
            ],
            "type": "contour"
           }
          ],
          "contourcarpet": [
           {
            "colorbar": {
             "outlinewidth": 0,
             "ticks": ""
            },
            "type": "contourcarpet"
           }
          ],
          "heatmap": [
           {
            "colorbar": {
             "outlinewidth": 0,
             "ticks": ""
            },
            "colorscale": [
             [
              0,
              "#0d0887"
             ],
             [
              0.1111111111111111,
              "#46039f"
             ],
             [
              0.2222222222222222,
              "#7201a8"
             ],
             [
              0.3333333333333333,
              "#9c179e"
             ],
             [
              0.4444444444444444,
              "#bd3786"
             ],
             [
              0.5555555555555556,
              "#d8576b"
             ],
             [
              0.6666666666666666,
              "#ed7953"
             ],
             [
              0.7777777777777778,
              "#fb9f3a"
             ],
             [
              0.8888888888888888,
              "#fdca26"
             ],
             [
              1,
              "#f0f921"
             ]
            ],
            "type": "heatmap"
           }
          ],
          "heatmapgl": [
           {
            "colorbar": {
             "outlinewidth": 0,
             "ticks": ""
            },
            "colorscale": [
             [
              0,
              "#0d0887"
             ],
             [
              0.1111111111111111,
              "#46039f"
             ],
             [
              0.2222222222222222,
              "#7201a8"
             ],
             [
              0.3333333333333333,
              "#9c179e"
             ],
             [
              0.4444444444444444,
              "#bd3786"
             ],
             [
              0.5555555555555556,
              "#d8576b"
             ],
             [
              0.6666666666666666,
              "#ed7953"
             ],
             [
              0.7777777777777778,
              "#fb9f3a"
             ],
             [
              0.8888888888888888,
              "#fdca26"
             ],
             [
              1,
              "#f0f921"
             ]
            ],
            "type": "heatmapgl"
           }
          ],
          "histogram": [
           {
            "marker": {
             "pattern": {
              "fillmode": "overlay",
              "size": 10,
              "solidity": 0.2
             }
            },
            "type": "histogram"
           }
          ],
          "histogram2d": [
           {
            "colorbar": {
             "outlinewidth": 0,
             "ticks": ""
            },
            "colorscale": [
             [
              0,
              "#0d0887"
             ],
             [
              0.1111111111111111,
              "#46039f"
             ],
             [
              0.2222222222222222,
              "#7201a8"
             ],
             [
              0.3333333333333333,
              "#9c179e"
             ],
             [
              0.4444444444444444,
              "#bd3786"
             ],
             [
              0.5555555555555556,
              "#d8576b"
             ],
             [
              0.6666666666666666,
              "#ed7953"
             ],
             [
              0.7777777777777778,
              "#fb9f3a"
             ],
             [
              0.8888888888888888,
              "#fdca26"
             ],
             [
              1,
              "#f0f921"
             ]
            ],
            "type": "histogram2d"
           }
          ],
          "histogram2dcontour": [
           {
            "colorbar": {
             "outlinewidth": 0,
             "ticks": ""
            },
            "colorscale": [
             [
              0,
              "#0d0887"
             ],
             [
              0.1111111111111111,
              "#46039f"
             ],
             [
              0.2222222222222222,
              "#7201a8"
             ],
             [
              0.3333333333333333,
              "#9c179e"
             ],
             [
              0.4444444444444444,
              "#bd3786"
             ],
             [
              0.5555555555555556,
              "#d8576b"
             ],
             [
              0.6666666666666666,
              "#ed7953"
             ],
             [
              0.7777777777777778,
              "#fb9f3a"
             ],
             [
              0.8888888888888888,
              "#fdca26"
             ],
             [
              1,
              "#f0f921"
             ]
            ],
            "type": "histogram2dcontour"
           }
          ],
          "mesh3d": [
           {
            "colorbar": {
             "outlinewidth": 0,
             "ticks": ""
            },
            "type": "mesh3d"
           }
          ],
          "parcoords": [
           {
            "line": {
             "colorbar": {
              "outlinewidth": 0,
              "ticks": ""
             }
            },
            "type": "parcoords"
           }
          ],
          "pie": [
           {
            "automargin": true,
            "type": "pie"
           }
          ],
          "scatter": [
           {
            "marker": {
             "colorbar": {
              "outlinewidth": 0,
              "ticks": ""
             }
            },
            "type": "scatter"
           }
          ],
          "scatter3d": [
           {
            "line": {
             "colorbar": {
              "outlinewidth": 0,
              "ticks": ""
             }
            },
            "marker": {
             "colorbar": {
              "outlinewidth": 0,
              "ticks": ""
             }
            },
            "type": "scatter3d"
           }
          ],
          "scattercarpet": [
           {
            "marker": {
             "colorbar": {
              "outlinewidth": 0,
              "ticks": ""
             }
            },
            "type": "scattercarpet"
           }
          ],
          "scattergeo": [
           {
            "marker": {
             "colorbar": {
              "outlinewidth": 0,
              "ticks": ""
             }
            },
            "type": "scattergeo"
           }
          ],
          "scattergl": [
           {
            "marker": {
             "colorbar": {
              "outlinewidth": 0,
              "ticks": ""
             }
            },
            "type": "scattergl"
           }
          ],
          "scattermapbox": [
           {
            "marker": {
             "colorbar": {
              "outlinewidth": 0,
              "ticks": ""
             }
            },
            "type": "scattermapbox"
           }
          ],
          "scatterpolar": [
           {
            "marker": {
             "colorbar": {
              "outlinewidth": 0,
              "ticks": ""
             }
            },
            "type": "scatterpolar"
           }
          ],
          "scatterpolargl": [
           {
            "marker": {
             "colorbar": {
              "outlinewidth": 0,
              "ticks": ""
             }
            },
            "type": "scatterpolargl"
           }
          ],
          "scatterternary": [
           {
            "marker": {
             "colorbar": {
              "outlinewidth": 0,
              "ticks": ""
             }
            },
            "type": "scatterternary"
           }
          ],
          "surface": [
           {
            "colorbar": {
             "outlinewidth": 0,
             "ticks": ""
            },
            "colorscale": [
             [
              0,
              "#0d0887"
             ],
             [
              0.1111111111111111,
              "#46039f"
             ],
             [
              0.2222222222222222,
              "#7201a8"
             ],
             [
              0.3333333333333333,
              "#9c179e"
             ],
             [
              0.4444444444444444,
              "#bd3786"
             ],
             [
              0.5555555555555556,
              "#d8576b"
             ],
             [
              0.6666666666666666,
              "#ed7953"
             ],
             [
              0.7777777777777778,
              "#fb9f3a"
             ],
             [
              0.8888888888888888,
              "#fdca26"
             ],
             [
              1,
              "#f0f921"
             ]
            ],
            "type": "surface"
           }
          ],
          "table": [
           {
            "cells": {
             "fill": {
              "color": "#EBF0F8"
             },
             "line": {
              "color": "white"
             }
            },
            "header": {
             "fill": {
              "color": "#C8D4E3"
             },
             "line": {
              "color": "white"
             }
            },
            "type": "table"
           }
          ]
         },
         "layout": {
          "annotationdefaults": {
           "arrowcolor": "#2a3f5f",
           "arrowhead": 0,
           "arrowwidth": 1
          },
          "autotypenumbers": "strict",
          "coloraxis": {
           "colorbar": {
            "outlinewidth": 0,
            "ticks": ""
           }
          },
          "colorscale": {
           "diverging": [
            [
             0,
             "#8e0152"
            ],
            [
             0.1,
             "#c51b7d"
            ],
            [
             0.2,
             "#de77ae"
            ],
            [
             0.3,
             "#f1b6da"
            ],
            [
             0.4,
             "#fde0ef"
            ],
            [
             0.5,
             "#f7f7f7"
            ],
            [
             0.6,
             "#e6f5d0"
            ],
            [
             0.7,
             "#b8e186"
            ],
            [
             0.8,
             "#7fbc41"
            ],
            [
             0.9,
             "#4d9221"
            ],
            [
             1,
             "#276419"
            ]
           ],
           "sequential": [
            [
             0,
             "#0d0887"
            ],
            [
             0.1111111111111111,
             "#46039f"
            ],
            [
             0.2222222222222222,
             "#7201a8"
            ],
            [
             0.3333333333333333,
             "#9c179e"
            ],
            [
             0.4444444444444444,
             "#bd3786"
            ],
            [
             0.5555555555555556,
             "#d8576b"
            ],
            [
             0.6666666666666666,
             "#ed7953"
            ],
            [
             0.7777777777777778,
             "#fb9f3a"
            ],
            [
             0.8888888888888888,
             "#fdca26"
            ],
            [
             1,
             "#f0f921"
            ]
           ],
           "sequentialminus": [
            [
             0,
             "#0d0887"
            ],
            [
             0.1111111111111111,
             "#46039f"
            ],
            [
             0.2222222222222222,
             "#7201a8"
            ],
            [
             0.3333333333333333,
             "#9c179e"
            ],
            [
             0.4444444444444444,
             "#bd3786"
            ],
            [
             0.5555555555555556,
             "#d8576b"
            ],
            [
             0.6666666666666666,
             "#ed7953"
            ],
            [
             0.7777777777777778,
             "#fb9f3a"
            ],
            [
             0.8888888888888888,
             "#fdca26"
            ],
            [
             1,
             "#f0f921"
            ]
           ]
          },
          "colorway": [
           "#636efa",
           "#EF553B",
           "#00cc96",
           "#ab63fa",
           "#FFA15A",
           "#19d3f3",
           "#FF6692",
           "#B6E880",
           "#FF97FF",
           "#FECB52"
          ],
          "font": {
           "color": "#2a3f5f"
          },
          "geo": {
           "bgcolor": "white",
           "lakecolor": "white",
           "landcolor": "#E5ECF6",
           "showlakes": true,
           "showland": true,
           "subunitcolor": "white"
          },
          "hoverlabel": {
           "align": "left"
          },
          "hovermode": "closest",
          "mapbox": {
           "style": "light"
          },
          "paper_bgcolor": "white",
          "plot_bgcolor": "#E5ECF6",
          "polar": {
           "angularaxis": {
            "gridcolor": "white",
            "linecolor": "white",
            "ticks": ""
           },
           "bgcolor": "#E5ECF6",
           "radialaxis": {
            "gridcolor": "white",
            "linecolor": "white",
            "ticks": ""
           }
          },
          "scene": {
           "xaxis": {
            "backgroundcolor": "#E5ECF6",
            "gridcolor": "white",
            "gridwidth": 2,
            "linecolor": "white",
            "showbackground": true,
            "ticks": "",
            "zerolinecolor": "white"
           },
           "yaxis": {
            "backgroundcolor": "#E5ECF6",
            "gridcolor": "white",
            "gridwidth": 2,
            "linecolor": "white",
            "showbackground": true,
            "ticks": "",
            "zerolinecolor": "white"
           },
           "zaxis": {
            "backgroundcolor": "#E5ECF6",
            "gridcolor": "white",
            "gridwidth": 2,
            "linecolor": "white",
            "showbackground": true,
            "ticks": "",
            "zerolinecolor": "white"
           }
          },
          "shapedefaults": {
           "line": {
            "color": "#2a3f5f"
           }
          },
          "ternary": {
           "aaxis": {
            "gridcolor": "white",
            "linecolor": "white",
            "ticks": ""
           },
           "baxis": {
            "gridcolor": "white",
            "linecolor": "white",
            "ticks": ""
           },
           "bgcolor": "#E5ECF6",
           "caxis": {
            "gridcolor": "white",
            "linecolor": "white",
            "ticks": ""
           }
          },
          "title": {
           "x": 0.05
          },
          "xaxis": {
           "automargin": true,
           "gridcolor": "white",
           "linecolor": "white",
           "ticks": "",
           "title": {
            "standoff": 15
           },
           "zerolinecolor": "white",
           "zerolinewidth": 2
          },
          "yaxis": {
           "automargin": true,
           "gridcolor": "white",
           "linecolor": "white",
           "ticks": "",
           "title": {
            "standoff": 15
           },
           "zerolinecolor": "white",
           "zerolinewidth": 2
          }
         }
        },
        "title": {
         "text": "Top 5 Channel by Month"
        },
        "xaxis": {
         "anchor": "y",
         "domain": [
          0,
          0.18400000000000002
         ],
         "showticklabels": true,
         "title": {
          "text": "channel_id"
         }
        },
        "xaxis2": {
         "anchor": "y2",
         "domain": [
          0.20400000000000001,
          0.388
         ],
         "showticklabels": true,
         "title": {
          "text": "channel_id"
         }
        },
        "xaxis3": {
         "anchor": "y3",
         "domain": [
          0.40800000000000003,
          0.5920000000000001
         ],
         "showticklabels": true,
         "title": {
          "text": "channel_id"
         }
        },
        "xaxis4": {
         "anchor": "y4",
         "domain": [
          0.6120000000000001,
          0.7960000000000002
         ],
         "showticklabels": true,
         "title": {
          "text": "channel_id"
         }
        },
        "xaxis5": {
         "anchor": "y5",
         "domain": [
          0.8160000000000001,
          1
         ],
         "showticklabels": true,
         "title": {
          "text": "channel_id"
         }
        },
        "yaxis": {
         "anchor": "x",
         "domain": [
          0,
          1
         ],
         "title": {
          "text": "video_id"
         }
        },
        "yaxis2": {
         "anchor": "x2",
         "domain": [
          0,
          1
         ],
         "matches": "y",
         "showticklabels": false
        },
        "yaxis3": {
         "anchor": "x3",
         "domain": [
          0,
          1
         ],
         "matches": "y",
         "showticklabels": false
        },
        "yaxis4": {
         "anchor": "x4",
         "domain": [
          0,
          1
         ],
         "matches": "y",
         "showticklabels": false
        },
        "yaxis5": {
         "anchor": "x5",
         "domain": [
          0,
          1
         ],
         "matches": "y",
         "showticklabels": false
        }
       }
      },
      "text/html": [
       "<div>                            <div id=\"c03b65bb-6e30-4764-8938-a2410c240c58\" class=\"plotly-graph-div\" style=\"height:525px; width:100%;\"></div>            <script type=\"text/javascript\">                require([\"plotly\"], function(Plotly) {                    window.PLOTLYENV=window.PLOTLYENV || {};                                    if (document.getElementById(\"c03b65bb-6e30-4764-8938-a2410c240c58\")) {                    Plotly.newPlot(                        \"c03b65bb-6e30-4764-8938-a2410c240c58\",                        [{\"alignmentgroup\":\"True\",\"hovertemplate\":\"year_month=2021-03<br>channel_id=%{x}<br>video_id=%{y}<extra></extra>\",\"legendgroup\":\"\",\"marker\":{\"color\":\"#636efa\",\"pattern\":{\"shape\":\"\"}},\"name\":\"\",\"offsetgroup\":\"\",\"orientation\":\"v\",\"showlegend\":false,\"textposition\":\"auto\",\"x\":[\"CHaKod3\",\"CHnet0I\",\"CHaZS_X\",\"CHicKQU\",\"CH5BMQO\"],\"xaxis\":\"x\",\"y\":[2,2,2,2,2],\"yaxis\":\"y\",\"type\":\"bar\"},{\"alignmentgroup\":\"True\",\"hovertemplate\":\"year_month=2021-04<br>channel_id=%{x}<br>video_id=%{y}<extra></extra>\",\"legendgroup\":\"\",\"marker\":{\"color\":\"#636efa\",\"pattern\":{\"shape\":\"\"}},\"name\":\"\",\"offsetgroup\":\"\",\"orientation\":\"v\",\"showlegend\":false,\"textposition\":\"auto\",\"x\":[\"CHmzMtX\",\"CHLkAep\",\"CHUyfkq\",\"CHfkXDY\",\"CHXTyJZ\"],\"xaxis\":\"x2\",\"y\":[6,5,5,5,5],\"yaxis\":\"y2\",\"type\":\"bar\"},{\"alignmentgroup\":\"True\",\"hovertemplate\":\"year_month=2021-05<br>channel_id=%{x}<br>video_id=%{y}<extra></extra>\",\"legendgroup\":\"\",\"marker\":{\"color\":\"#636efa\",\"pattern\":{\"shape\":\"\"}},\"name\":\"\",\"offsetgroup\":\"\",\"orientation\":\"v\",\"showlegend\":false,\"textposition\":\"auto\",\"x\":[\"CHQ2O-i\",\"CHIG4gr\",\"CHDV9zg\",\"CH9GtSL\",\"CHsU-I-\"],\"xaxis\":\"x3\",\"y\":[9,7,7,6,6],\"yaxis\":\"y3\",\"type\":\"bar\"},{\"alignmentgroup\":\"True\",\"hovertemplate\":\"year_month=2021-06<br>channel_id=%{x}<br>video_id=%{y}<extra></extra>\",\"legendgroup\":\"\",\"marker\":{\"color\":\"#636efa\",\"pattern\":{\"shape\":\"\"}},\"name\":\"\",\"offsetgroup\":\"\",\"orientation\":\"v\",\"showlegend\":false,\"textposition\":\"auto\",\"x\":[\"CHtybqq\",\"CHpjOmw\",\"CHtfriF\",\"CHUyfkq\",\"CHuDLnJ\"],\"xaxis\":\"x4\",\"y\":[15,6,6,5,5],\"yaxis\":\"y4\",\"type\":\"bar\"},{\"alignmentgroup\":\"True\",\"hovertemplate\":\"year_month=2021-07<br>channel_id=%{x}<br>video_id=%{y}<extra></extra>\",\"legendgroup\":\"\",\"marker\":{\"color\":\"#636efa\",\"pattern\":{\"shape\":\"\"}},\"name\":\"\",\"offsetgroup\":\"\",\"orientation\":\"v\",\"showlegend\":false,\"textposition\":\"auto\",\"x\":[\"CHYRrUD\",\"CH29-Il\",\"CHk4XjB\",\"CHUQVGX\",\"CHszFjh\"],\"xaxis\":\"x5\",\"y\":[8,6,6,6,5],\"yaxis\":\"y5\",\"type\":\"bar\"}],                        {\"template\":{\"data\":{\"bar\":[{\"error_x\":{\"color\":\"#2a3f5f\"},\"error_y\":{\"color\":\"#2a3f5f\"},\"marker\":{\"line\":{\"color\":\"#E5ECF6\",\"width\":0.5},\"pattern\":{\"fillmode\":\"overlay\",\"size\":10,\"solidity\":0.2}},\"type\":\"bar\"}],\"barpolar\":[{\"marker\":{\"line\":{\"color\":\"#E5ECF6\",\"width\":0.5},\"pattern\":{\"fillmode\":\"overlay\",\"size\":10,\"solidity\":0.2}},\"type\":\"barpolar\"}],\"carpet\":[{\"aaxis\":{\"endlinecolor\":\"#2a3f5f\",\"gridcolor\":\"white\",\"linecolor\":\"white\",\"minorgridcolor\":\"white\",\"startlinecolor\":\"#2a3f5f\"},\"baxis\":{\"endlinecolor\":\"#2a3f5f\",\"gridcolor\":\"white\",\"linecolor\":\"white\",\"minorgridcolor\":\"white\",\"startlinecolor\":\"#2a3f5f\"},\"type\":\"carpet\"}],\"choropleth\":[{\"colorbar\":{\"outlinewidth\":0,\"ticks\":\"\"},\"type\":\"choropleth\"}],\"contour\":[{\"colorbar\":{\"outlinewidth\":0,\"ticks\":\"\"},\"colorscale\":[[0.0,\"#0d0887\"],[0.1111111111111111,\"#46039f\"],[0.2222222222222222,\"#7201a8\"],[0.3333333333333333,\"#9c179e\"],[0.4444444444444444,\"#bd3786\"],[0.5555555555555556,\"#d8576b\"],[0.6666666666666666,\"#ed7953\"],[0.7777777777777778,\"#fb9f3a\"],[0.8888888888888888,\"#fdca26\"],[1.0,\"#f0f921\"]],\"type\":\"contour\"}],\"contourcarpet\":[{\"colorbar\":{\"outlinewidth\":0,\"ticks\":\"\"},\"type\":\"contourcarpet\"}],\"heatmap\":[{\"colorbar\":{\"outlinewidth\":0,\"ticks\":\"\"},\"colorscale\":[[0.0,\"#0d0887\"],[0.1111111111111111,\"#46039f\"],[0.2222222222222222,\"#7201a8\"],[0.3333333333333333,\"#9c179e\"],[0.4444444444444444,\"#bd3786\"],[0.5555555555555556,\"#d8576b\"],[0.6666666666666666,\"#ed7953\"],[0.7777777777777778,\"#fb9f3a\"],[0.8888888888888888,\"#fdca26\"],[1.0,\"#f0f921\"]],\"type\":\"heatmap\"}],\"heatmapgl\":[{\"colorbar\":{\"outlinewidth\":0,\"ticks\":\"\"},\"colorscale\":[[0.0,\"#0d0887\"],[0.1111111111111111,\"#46039f\"],[0.2222222222222222,\"#7201a8\"],[0.3333333333333333,\"#9c179e\"],[0.4444444444444444,\"#bd3786\"],[0.5555555555555556,\"#d8576b\"],[0.6666666666666666,\"#ed7953\"],[0.7777777777777778,\"#fb9f3a\"],[0.8888888888888888,\"#fdca26\"],[1.0,\"#f0f921\"]],\"type\":\"heatmapgl\"}],\"histogram\":[{\"marker\":{\"pattern\":{\"fillmode\":\"overlay\",\"size\":10,\"solidity\":0.2}},\"type\":\"histogram\"}],\"histogram2d\":[{\"colorbar\":{\"outlinewidth\":0,\"ticks\":\"\"},\"colorscale\":[[0.0,\"#0d0887\"],[0.1111111111111111,\"#46039f\"],[0.2222222222222222,\"#7201a8\"],[0.3333333333333333,\"#9c179e\"],[0.4444444444444444,\"#bd3786\"],[0.5555555555555556,\"#d8576b\"],[0.6666666666666666,\"#ed7953\"],[0.7777777777777778,\"#fb9f3a\"],[0.8888888888888888,\"#fdca26\"],[1.0,\"#f0f921\"]],\"type\":\"histogram2d\"}],\"histogram2dcontour\":[{\"colorbar\":{\"outlinewidth\":0,\"ticks\":\"\"},\"colorscale\":[[0.0,\"#0d0887\"],[0.1111111111111111,\"#46039f\"],[0.2222222222222222,\"#7201a8\"],[0.3333333333333333,\"#9c179e\"],[0.4444444444444444,\"#bd3786\"],[0.5555555555555556,\"#d8576b\"],[0.6666666666666666,\"#ed7953\"],[0.7777777777777778,\"#fb9f3a\"],[0.8888888888888888,\"#fdca26\"],[1.0,\"#f0f921\"]],\"type\":\"histogram2dcontour\"}],\"mesh3d\":[{\"colorbar\":{\"outlinewidth\":0,\"ticks\":\"\"},\"type\":\"mesh3d\"}],\"parcoords\":[{\"line\":{\"colorbar\":{\"outlinewidth\":0,\"ticks\":\"\"}},\"type\":\"parcoords\"}],\"pie\":[{\"automargin\":true,\"type\":\"pie\"}],\"scatter\":[{\"marker\":{\"colorbar\":{\"outlinewidth\":0,\"ticks\":\"\"}},\"type\":\"scatter\"}],\"scatter3d\":[{\"line\":{\"colorbar\":{\"outlinewidth\":0,\"ticks\":\"\"}},\"marker\":{\"colorbar\":{\"outlinewidth\":0,\"ticks\":\"\"}},\"type\":\"scatter3d\"}],\"scattercarpet\":[{\"marker\":{\"colorbar\":{\"outlinewidth\":0,\"ticks\":\"\"}},\"type\":\"scattercarpet\"}],\"scattergeo\":[{\"marker\":{\"colorbar\":{\"outlinewidth\":0,\"ticks\":\"\"}},\"type\":\"scattergeo\"}],\"scattergl\":[{\"marker\":{\"colorbar\":{\"outlinewidth\":0,\"ticks\":\"\"}},\"type\":\"scattergl\"}],\"scattermapbox\":[{\"marker\":{\"colorbar\":{\"outlinewidth\":0,\"ticks\":\"\"}},\"type\":\"scattermapbox\"}],\"scatterpolar\":[{\"marker\":{\"colorbar\":{\"outlinewidth\":0,\"ticks\":\"\"}},\"type\":\"scatterpolar\"}],\"scatterpolargl\":[{\"marker\":{\"colorbar\":{\"outlinewidth\":0,\"ticks\":\"\"}},\"type\":\"scatterpolargl\"}],\"scatterternary\":[{\"marker\":{\"colorbar\":{\"outlinewidth\":0,\"ticks\":\"\"}},\"type\":\"scatterternary\"}],\"surface\":[{\"colorbar\":{\"outlinewidth\":0,\"ticks\":\"\"},\"colorscale\":[[0.0,\"#0d0887\"],[0.1111111111111111,\"#46039f\"],[0.2222222222222222,\"#7201a8\"],[0.3333333333333333,\"#9c179e\"],[0.4444444444444444,\"#bd3786\"],[0.5555555555555556,\"#d8576b\"],[0.6666666666666666,\"#ed7953\"],[0.7777777777777778,\"#fb9f3a\"],[0.8888888888888888,\"#fdca26\"],[1.0,\"#f0f921\"]],\"type\":\"surface\"}],\"table\":[{\"cells\":{\"fill\":{\"color\":\"#EBF0F8\"},\"line\":{\"color\":\"white\"}},\"header\":{\"fill\":{\"color\":\"#C8D4E3\"},\"line\":{\"color\":\"white\"}},\"type\":\"table\"}]},\"layout\":{\"annotationdefaults\":{\"arrowcolor\":\"#2a3f5f\",\"arrowhead\":0,\"arrowwidth\":1},\"autotypenumbers\":\"strict\",\"coloraxis\":{\"colorbar\":{\"outlinewidth\":0,\"ticks\":\"\"}},\"colorscale\":{\"diverging\":[[0,\"#8e0152\"],[0.1,\"#c51b7d\"],[0.2,\"#de77ae\"],[0.3,\"#f1b6da\"],[0.4,\"#fde0ef\"],[0.5,\"#f7f7f7\"],[0.6,\"#e6f5d0\"],[0.7,\"#b8e186\"],[0.8,\"#7fbc41\"],[0.9,\"#4d9221\"],[1,\"#276419\"]],\"sequential\":[[0.0,\"#0d0887\"],[0.1111111111111111,\"#46039f\"],[0.2222222222222222,\"#7201a8\"],[0.3333333333333333,\"#9c179e\"],[0.4444444444444444,\"#bd3786\"],[0.5555555555555556,\"#d8576b\"],[0.6666666666666666,\"#ed7953\"],[0.7777777777777778,\"#fb9f3a\"],[0.8888888888888888,\"#fdca26\"],[1.0,\"#f0f921\"]],\"sequentialminus\":[[0.0,\"#0d0887\"],[0.1111111111111111,\"#46039f\"],[0.2222222222222222,\"#7201a8\"],[0.3333333333333333,\"#9c179e\"],[0.4444444444444444,\"#bd3786\"],[0.5555555555555556,\"#d8576b\"],[0.6666666666666666,\"#ed7953\"],[0.7777777777777778,\"#fb9f3a\"],[0.8888888888888888,\"#fdca26\"],[1.0,\"#f0f921\"]]},\"colorway\":[\"#636efa\",\"#EF553B\",\"#00cc96\",\"#ab63fa\",\"#FFA15A\",\"#19d3f3\",\"#FF6692\",\"#B6E880\",\"#FF97FF\",\"#FECB52\"],\"font\":{\"color\":\"#2a3f5f\"},\"geo\":{\"bgcolor\":\"white\",\"lakecolor\":\"white\",\"landcolor\":\"#E5ECF6\",\"showlakes\":true,\"showland\":true,\"subunitcolor\":\"white\"},\"hoverlabel\":{\"align\":\"left\"},\"hovermode\":\"closest\",\"mapbox\":{\"style\":\"light\"},\"paper_bgcolor\":\"white\",\"plot_bgcolor\":\"#E5ECF6\",\"polar\":{\"angularaxis\":{\"gridcolor\":\"white\",\"linecolor\":\"white\",\"ticks\":\"\"},\"bgcolor\":\"#E5ECF6\",\"radialaxis\":{\"gridcolor\":\"white\",\"linecolor\":\"white\",\"ticks\":\"\"}},\"scene\":{\"xaxis\":{\"backgroundcolor\":\"#E5ECF6\",\"gridcolor\":\"white\",\"gridwidth\":2,\"linecolor\":\"white\",\"showbackground\":true,\"ticks\":\"\",\"zerolinecolor\":\"white\"},\"yaxis\":{\"backgroundcolor\":\"#E5ECF6\",\"gridcolor\":\"white\",\"gridwidth\":2,\"linecolor\":\"white\",\"showbackground\":true,\"ticks\":\"\",\"zerolinecolor\":\"white\"},\"zaxis\":{\"backgroundcolor\":\"#E5ECF6\",\"gridcolor\":\"white\",\"gridwidth\":2,\"linecolor\":\"white\",\"showbackground\":true,\"ticks\":\"\",\"zerolinecolor\":\"white\"}},\"shapedefaults\":{\"line\":{\"color\":\"#2a3f5f\"}},\"ternary\":{\"aaxis\":{\"gridcolor\":\"white\",\"linecolor\":\"white\",\"ticks\":\"\"},\"baxis\":{\"gridcolor\":\"white\",\"linecolor\":\"white\",\"ticks\":\"\"},\"bgcolor\":\"#E5ECF6\",\"caxis\":{\"gridcolor\":\"white\",\"linecolor\":\"white\",\"ticks\":\"\"}},\"title\":{\"x\":0.05},\"xaxis\":{\"automargin\":true,\"gridcolor\":\"white\",\"linecolor\":\"white\",\"ticks\":\"\",\"title\":{\"standoff\":15},\"zerolinecolor\":\"white\",\"zerolinewidth\":2},\"yaxis\":{\"automargin\":true,\"gridcolor\":\"white\",\"linecolor\":\"white\",\"ticks\":\"\",\"title\":{\"standoff\":15},\"zerolinecolor\":\"white\",\"zerolinewidth\":2}}},\"xaxis\":{\"anchor\":\"y\",\"domain\":[0.0,0.18400000000000002],\"title\":{\"text\":\"channel_id\"},\"showticklabels\":true},\"yaxis\":{\"anchor\":\"x\",\"domain\":[0.0,1.0],\"title\":{\"text\":\"video_id\"}},\"xaxis2\":{\"anchor\":\"y2\",\"domain\":[0.20400000000000001,0.388],\"title\":{\"text\":\"channel_id\"},\"showticklabels\":true},\"yaxis2\":{\"anchor\":\"x2\",\"domain\":[0.0,1.0],\"matches\":\"y\",\"showticklabels\":false},\"xaxis3\":{\"anchor\":\"y3\",\"domain\":[0.40800000000000003,0.5920000000000001],\"title\":{\"text\":\"channel_id\"},\"showticklabels\":true},\"yaxis3\":{\"anchor\":\"x3\",\"domain\":[0.0,1.0],\"matches\":\"y\",\"showticklabels\":false},\"xaxis4\":{\"anchor\":\"y4\",\"domain\":[0.6120000000000001,0.7960000000000002],\"title\":{\"text\":\"channel_id\"},\"showticklabels\":true},\"yaxis4\":{\"anchor\":\"x4\",\"domain\":[0.0,1.0],\"matches\":\"y\",\"showticklabels\":false},\"xaxis5\":{\"anchor\":\"y5\",\"domain\":[0.8160000000000001,1.0],\"title\":{\"text\":\"channel_id\"},\"showticklabels\":true},\"yaxis5\":{\"anchor\":\"x5\",\"domain\":[0.0,1.0],\"matches\":\"y\",\"showticklabels\":false},\"annotations\":[{\"font\":{},\"showarrow\":false,\"text\":\"2021-03\",\"x\":0.09200000000000001,\"xanchor\":\"center\",\"xref\":\"paper\",\"y\":1.0,\"yanchor\":\"bottom\",\"yref\":\"paper\"},{\"font\":{},\"showarrow\":false,\"text\":\"2021-04\",\"x\":0.29600000000000004,\"xanchor\":\"center\",\"xref\":\"paper\",\"y\":1.0,\"yanchor\":\"bottom\",\"yref\":\"paper\"},{\"font\":{},\"showarrow\":false,\"text\":\"2021-05\",\"x\":0.5,\"xanchor\":\"center\",\"xref\":\"paper\",\"y\":1.0,\"yanchor\":\"bottom\",\"yref\":\"paper\"},{\"font\":{},\"showarrow\":false,\"text\":\"2021-06\",\"x\":0.7040000000000002,\"xanchor\":\"center\",\"xref\":\"paper\",\"y\":1.0,\"yanchor\":\"bottom\",\"yref\":\"paper\"},{\"font\":{},\"showarrow\":false,\"text\":\"2021-07\",\"x\":0.908,\"xanchor\":\"center\",\"xref\":\"paper\",\"y\":1.0,\"yanchor\":\"bottom\",\"yref\":\"paper\"}],\"legend\":{\"tracegroupgap\":0},\"margin\":{\"t\":60},\"barmode\":\"relative\",\"title\":{\"text\":\"Top 5 Channel by Month\"}},                        {\"responsive\": true}                    ).then(function(){\n",
       "                            \n",
       "var gd = document.getElementById('c03b65bb-6e30-4764-8938-a2410c240c58');\n",
       "var x = new MutationObserver(function (mutations, observer) {{\n",
       "        var display = window.getComputedStyle(gd).display;\n",
       "        if (!display || display === 'none') {{\n",
       "            console.log([gd, 'removed!']);\n",
       "            Plotly.purge(gd);\n",
       "            observer.disconnect();\n",
       "        }}\n",
       "}});\n",
       "\n",
       "// Listen for the removal of the full notebook cells\n",
       "var notebookContainer = gd.closest('#notebook-container');\n",
       "if (notebookContainer) {{\n",
       "    x.observe(notebookContainer, {childList: true});\n",
       "}}\n",
       "\n",
       "// Listen for the clearing of the current output cell\n",
       "var outputEl = gd.closest('.output');\n",
       "if (outputEl) {{\n",
       "    x.observe(outputEl, {childList: true});\n",
       "}}\n",
       "\n",
       "                        })                };                });            </script>        </div>"
      ]
     },
     "metadata": {},
     "output_type": "display_data"
    }
   ],
   "source": [
    "# visuzlize top5\n",
    "\n",
    "fig_top5 = px.bar(top5, y='video_id',x='channel_id' ,facet_col=\"year_month\")\n",
    "fig_top5.for_each_annotation(lambda a: a.update(text=a.text.split(\"=\")[-1]))\n",
    "fig_top5.update_xaxes(showticklabels=True , matches=None)\n",
    "fig_top5.update_layout(title_text='Top 5 Channel by Month')"
   ]
  },
  {
   "cell_type": "code",
   "execution_count": 99,
   "metadata": {},
   "outputs": [
    {
     "ename": "TypeError",
     "evalue": "'AxesSubplot' object is not callable",
     "output_type": "error",
     "traceback": [
      "\u001b[0;31m---------------------------------------------------------------------------\u001b[0m",
      "\u001b[0;31mTypeError\u001b[0m                                 Traceback (most recent call last)",
      "\u001b[0;32m/tmp/ipykernel_1995675/3007105645.py\u001b[0m in \u001b[0;36m<module>\u001b[0;34m\u001b[0m\n\u001b[1;32m      2\u001b[0m \u001b[0;31m# seaborn facetgrid\u001b[0m\u001b[0;34m\u001b[0m\u001b[0;34m\u001b[0m\u001b[0;34m\u001b[0m\u001b[0m\n\u001b[1;32m      3\u001b[0m \u001b[0mfig\u001b[0m \u001b[0;34m,\u001b[0m \u001b[0max\u001b[0m \u001b[0;34m=\u001b[0m \u001b[0mplt\u001b[0m\u001b[0;34m.\u001b[0m\u001b[0msubplots\u001b[0m\u001b[0;34m(\u001b[0m\u001b[0mfigsize\u001b[0m\u001b[0;34m=\u001b[0m\u001b[0;34m(\u001b[0m\u001b[0;36m16\u001b[0m\u001b[0;34m,\u001b[0m\u001b[0;36m10\u001b[0m\u001b[0;34m)\u001b[0m\u001b[0;34m)\u001b[0m\u001b[0;34m\u001b[0m\u001b[0;34m\u001b[0m\u001b[0m\n\u001b[0;32m----> 4\u001b[0;31m \u001b[0msns\u001b[0m\u001b[0;34m.\u001b[0m\u001b[0mFacetGrid\u001b[0m\u001b[0;34m(\u001b[0m\u001b[0mq1_2\u001b[0m\u001b[0;34m,\u001b[0m\u001b[0mhue\u001b[0m\u001b[0;34m=\u001b[0m\u001b[0;34m'year_month'\u001b[0m\u001b[0;34m,\u001b[0m\u001b[0msize\u001b[0m\u001b[0;34m=\u001b[0m\u001b[0;36m5\u001b[0m\u001b[0;34m)\u001b[0m\u001b[0;34m.\u001b[0m\u001b[0mmap\u001b[0m\u001b[0;34m(\u001b[0m\u001b[0msns\u001b[0m\u001b[0;34m.\u001b[0m\u001b[0mbarplot\u001b[0m\u001b[0;34m(\u001b[0m\u001b[0;34m)\u001b[0m\u001b[0;34m,\u001b[0m\u001b[0;34m'channel_id'\u001b[0m\u001b[0;34m,\u001b[0m\u001b[0;34m'video_id'\u001b[0m\u001b[0;34m)\u001b[0m\u001b[0;34m.\u001b[0m\u001b[0madd_legend\u001b[0m\u001b[0;34m(\u001b[0m\u001b[0;34m)\u001b[0m\u001b[0;34m\u001b[0m\u001b[0;34m\u001b[0m\u001b[0m\n\u001b[0m",
      "\u001b[0;32m~/anaconda3/envs/datamind/lib/python3.8/site-packages/seaborn/axisgrid.py\u001b[0m in \u001b[0;36mmap\u001b[0;34m(self, func, *args, **kwargs)\u001b[0m\n\u001b[1;32m    708\u001b[0m \u001b[0;34m\u001b[0m\u001b[0m\n\u001b[1;32m    709\u001b[0m             \u001b[0;31m# Draw the plot\u001b[0m\u001b[0;34m\u001b[0m\u001b[0;34m\u001b[0m\u001b[0;34m\u001b[0m\u001b[0m\n\u001b[0;32m--> 710\u001b[0;31m             \u001b[0mself\u001b[0m\u001b[0;34m.\u001b[0m\u001b[0m_facet_plot\u001b[0m\u001b[0;34m(\u001b[0m\u001b[0mfunc\u001b[0m\u001b[0;34m,\u001b[0m \u001b[0max\u001b[0m\u001b[0;34m,\u001b[0m \u001b[0mplot_args\u001b[0m\u001b[0;34m,\u001b[0m \u001b[0mkwargs\u001b[0m\u001b[0;34m)\u001b[0m\u001b[0;34m\u001b[0m\u001b[0;34m\u001b[0m\u001b[0m\n\u001b[0m\u001b[1;32m    711\u001b[0m \u001b[0;34m\u001b[0m\u001b[0m\n\u001b[1;32m    712\u001b[0m         \u001b[0;31m# Finalize the annotations and layout\u001b[0m\u001b[0;34m\u001b[0m\u001b[0;34m\u001b[0m\u001b[0;34m\u001b[0m\u001b[0m\n",
      "\u001b[0;32m~/anaconda3/envs/datamind/lib/python3.8/site-packages/seaborn/axisgrid.py\u001b[0m in \u001b[0;36m_facet_plot\u001b[0;34m(self, func, ax, plot_args, plot_kwargs)\u001b[0m\n\u001b[1;32m    804\u001b[0m             \u001b[0mplot_args\u001b[0m \u001b[0;34m=\u001b[0m \u001b[0;34m[\u001b[0m\u001b[0;34m]\u001b[0m\u001b[0;34m\u001b[0m\u001b[0;34m\u001b[0m\u001b[0m\n\u001b[1;32m    805\u001b[0m             \u001b[0mplot_kwargs\u001b[0m\u001b[0;34m[\u001b[0m\u001b[0;34m\"ax\"\u001b[0m\u001b[0;34m]\u001b[0m \u001b[0;34m=\u001b[0m \u001b[0max\u001b[0m\u001b[0;34m\u001b[0m\u001b[0;34m\u001b[0m\u001b[0m\n\u001b[0;32m--> 806\u001b[0;31m         \u001b[0mfunc\u001b[0m\u001b[0;34m(\u001b[0m\u001b[0;34m*\u001b[0m\u001b[0mplot_args\u001b[0m\u001b[0;34m,\u001b[0m \u001b[0;34m**\u001b[0m\u001b[0mplot_kwargs\u001b[0m\u001b[0;34m)\u001b[0m\u001b[0;34m\u001b[0m\u001b[0;34m\u001b[0m\u001b[0m\n\u001b[0m\u001b[1;32m    807\u001b[0m \u001b[0;34m\u001b[0m\u001b[0m\n\u001b[1;32m    808\u001b[0m         \u001b[0;31m# Sort out the supporting information\u001b[0m\u001b[0;34m\u001b[0m\u001b[0;34m\u001b[0m\u001b[0;34m\u001b[0m\u001b[0m\n",
      "\u001b[0;31mTypeError\u001b[0m: 'AxesSubplot' object is not callable"
     ]
    },
    {
     "data": {
      "image/png": "[encoded data removed]",
      "text/plain": [
       "<Figure size 1152x720 with 1 Axes>"
      ]
     },
     "metadata": {
      "needs_background": "light"
     },
     "output_type": "display_data"
    },
    {
     "data": {
      "image/png": "[encoded data removed]",
      "text/plain": [
       "<Figure size 360x360 with 1 Axes>"
      ]
     },
     "metadata": {
      "needs_background": "light"
     },
     "output_type": "display_data"
    }
   ],
   "source": [
    "# top5 by month\n",
    "# seaborn facetgrid\n",
    "fig , ax = plt.subplots(figsize=(16,10))\n",
    "sns.FacetGrid(q1_2,hue='year_month',size=5).map(sns.barplot(),'channel_id','video_id').add_legend()\n"
   ]
  },
  {
   "cell_type": "code",
   "execution_count": 82,
   "metadata": {},
   "outputs": [
    {
     "data": {
      "text/html": [
       "<div>\n",
       "<style scoped>\n",
       "    .dataframe tbody tr th:only-of-type {\n",
       "        vertical-align: middle;\n",
       "    }\n",
       "\n",
       "    .dataframe tbody tr th {\n",
       "        vertical-align: top;\n",
       "    }\n",
       "\n",
       "    .dataframe thead th {\n",
       "        text-align: right;\n",
       "    }\n",
       "</style>\n",
       "<table border=\"1\" class=\"dataframe\">\n",
       "  <thead>\n",
       "    <tr style=\"text-align: right;\">\n",
       "      <th></th>\n",
       "      <th>category_name</th>\n",
       "      <th>channel_id</th>\n",
       "      <th>year_month</th>\n",
       "      <th>video_id</th>\n",
       "    </tr>\n",
       "  </thead>\n",
       "  <tbody>\n",
       "    <tr>\n",
       "      <th>11</th>\n",
       "      <td>Comedy</td>\n",
       "      <td>CHmzMtX</td>\n",
       "      <td>2021-04</td>\n",
       "      <td>6</td>\n",
       "    </tr>\n",
       "    <tr>\n",
       "      <th>13</th>\n",
       "      <td>Music</td>\n",
       "      <td>CHLkAep</td>\n",
       "      <td>2021-04</td>\n",
       "      <td>5</td>\n",
       "    </tr>\n",
       "    <tr>\n",
       "      <th>16</th>\n",
       "      <td>Entertainment</td>\n",
       "      <td>CHUyfkq</td>\n",
       "      <td>2021-04</td>\n",
       "      <td>5</td>\n",
       "    </tr>\n",
       "    <tr>\n",
       "      <th>17</th>\n",
       "      <td>Music</td>\n",
       "      <td>CHfkXDY</td>\n",
       "      <td>2021-04</td>\n",
       "      <td>5</td>\n",
       "    </tr>\n",
       "    <tr>\n",
       "      <th>19</th>\n",
       "      <td>People &amp; Blogs</td>\n",
       "      <td>CHXTyJZ</td>\n",
       "      <td>2021-04</td>\n",
       "      <td>5</td>\n",
       "    </tr>\n",
       "    <tr>\n",
       "      <th>...</th>\n",
       "      <td>...</td>\n",
       "      <td>...</td>\n",
       "      <td>...</td>\n",
       "      <td>...</td>\n",
       "    </tr>\n",
       "    <tr>\n",
       "      <th>1664</th>\n",
       "      <td>Entertainment</td>\n",
       "      <td>CHuw1hx</td>\n",
       "      <td>2021-04</td>\n",
       "      <td>1</td>\n",
       "    </tr>\n",
       "    <tr>\n",
       "      <th>1669</th>\n",
       "      <td>Entertainment</td>\n",
       "      <td>CHtkQiK</td>\n",
       "      <td>2021-04</td>\n",
       "      <td>1</td>\n",
       "    </tr>\n",
       "    <tr>\n",
       "      <th>1673</th>\n",
       "      <td>Entertainment</td>\n",
       "      <td>CHtckgm</td>\n",
       "      <td>2021-04</td>\n",
       "      <td>1</td>\n",
       "    </tr>\n",
       "    <tr>\n",
       "      <th>1675</th>\n",
       "      <td>Entertainment</td>\n",
       "      <td>CHtDcEb</td>\n",
       "      <td>2021-04</td>\n",
       "      <td>1</td>\n",
       "    </tr>\n",
       "    <tr>\n",
       "      <th>1676</th>\n",
       "      <td>Entertainment</td>\n",
       "      <td>CHtCW8q</td>\n",
       "      <td>2021-04</td>\n",
       "      <td>1</td>\n",
       "    </tr>\n",
       "  </tbody>\n",
       "</table>\n",
       "<p>423 rows × 4 columns</p>\n",
       "</div>"
      ],
      "text/plain": [
       "       category_name channel_id year_month  video_id\n",
       "11            Comedy    CHmzMtX    2021-04         6\n",
       "13             Music    CHLkAep    2021-04         5\n",
       "16     Entertainment    CHUyfkq    2021-04         5\n",
       "17             Music    CHfkXDY    2021-04         5\n",
       "19    People & Blogs    CHXTyJZ    2021-04         5\n",
       "...              ...        ...        ...       ...\n",
       "1664   Entertainment    CHuw1hx    2021-04         1\n",
       "1669   Entertainment    CHtkQiK    2021-04         1\n",
       "1673   Entertainment    CHtckgm    2021-04         1\n",
       "1675   Entertainment    CHtDcEb    2021-04         1\n",
       "1676   Entertainment    CHtCW8q    2021-04         1\n",
       "\n",
       "[423 rows x 4 columns]"
      ]
     },
     "execution_count": 82,
     "metadata": {},
     "output_type": "execute_result"
    }
   ],
   "source": [
    "q1_2[q1_2['year_month']=='2021-04']"
   ]
  },
  {
   "cell_type": "markdown",
   "metadata": {},
   "source": [
    "- 차트 \n",
    "- 요약통계량\n",
    "- "
   ]
  },
  {
   "cell_type": "code",
   "execution_count": 142,
   "metadata": {},
   "outputs": [
    {
     "data": {
      "text/html": [
       "<div>\n",
       "<style scoped>\n",
       "    .dataframe tbody tr th:only-of-type {\n",
       "        vertical-align: middle;\n",
       "    }\n",
       "\n",
       "    .dataframe tbody tr th {\n",
       "        vertical-align: top;\n",
       "    }\n",
       "\n",
       "    .dataframe thead tr th {\n",
       "        text-align: left;\n",
       "    }\n",
       "</style>\n",
       "<table border=\"1\" class=\"dataframe\">\n",
       "  <thead>\n",
       "    <tr>\n",
       "      <th></th>\n",
       "      <th>category_name</th>\n",
       "      <th colspan=\"4\" halign=\"left\">video_id</th>\n",
       "    </tr>\n",
       "    <tr>\n",
       "      <th></th>\n",
       "      <th></th>\n",
       "      <th>size</th>\n",
       "      <th>mean</th>\n",
       "      <th>max</th>\n",
       "      <th>min</th>\n",
       "    </tr>\n",
       "  </thead>\n",
       "  <tbody>\n",
       "    <tr>\n",
       "      <th>0</th>\n",
       "      <td>Autos &amp; Vehicles</td>\n",
       "      <td>19</td>\n",
       "      <td>1.63</td>\n",
       "      <td>3</td>\n",
       "      <td>1</td>\n",
       "    </tr>\n",
       "    <tr>\n",
       "      <th>1</th>\n",
       "      <td>Comedy</td>\n",
       "      <td>50</td>\n",
       "      <td>3.34</td>\n",
       "      <td>14</td>\n",
       "      <td>1</td>\n",
       "    </tr>\n",
       "    <tr>\n",
       "      <th>2</th>\n",
       "      <td>Education</td>\n",
       "      <td>27</td>\n",
       "      <td>2.41</td>\n",
       "      <td>10</td>\n",
       "      <td>1</td>\n",
       "    </tr>\n",
       "    <tr>\n",
       "      <th>3</th>\n",
       "      <td>Entertainment</td>\n",
       "      <td>312</td>\n",
       "      <td>3.06</td>\n",
       "      <td>17</td>\n",
       "      <td>1</td>\n",
       "    </tr>\n",
       "    <tr>\n",
       "      <th>4</th>\n",
       "      <td>Film &amp; Animation</td>\n",
       "      <td>27</td>\n",
       "      <td>2.74</td>\n",
       "      <td>13</td>\n",
       "      <td>1</td>\n",
       "    </tr>\n",
       "    <tr>\n",
       "      <th>5</th>\n",
       "      <td>Gaming</td>\n",
       "      <td>47</td>\n",
       "      <td>1.70</td>\n",
       "      <td>7</td>\n",
       "      <td>1</td>\n",
       "    </tr>\n",
       "    <tr>\n",
       "      <th>6</th>\n",
       "      <td>Howto &amp; Style</td>\n",
       "      <td>44</td>\n",
       "      <td>2.70</td>\n",
       "      <td>8</td>\n",
       "      <td>1</td>\n",
       "    </tr>\n",
       "    <tr>\n",
       "      <th>7</th>\n",
       "      <td>Music</td>\n",
       "      <td>98</td>\n",
       "      <td>2.39</td>\n",
       "      <td>13</td>\n",
       "      <td>1</td>\n",
       "    </tr>\n",
       "    <tr>\n",
       "      <th>8</th>\n",
       "      <td>News &amp; Politics</td>\n",
       "      <td>56</td>\n",
       "      <td>2.89</td>\n",
       "      <td>11</td>\n",
       "      <td>1</td>\n",
       "    </tr>\n",
       "    <tr>\n",
       "      <th>9</th>\n",
       "      <td>Nonprofits &amp; Activism</td>\n",
       "      <td>1</td>\n",
       "      <td>1.00</td>\n",
       "      <td>1</td>\n",
       "      <td>1</td>\n",
       "    </tr>\n",
       "    <tr>\n",
       "      <th>10</th>\n",
       "      <td>People &amp; Blogs</td>\n",
       "      <td>166</td>\n",
       "      <td>2.48</td>\n",
       "      <td>14</td>\n",
       "      <td>1</td>\n",
       "    </tr>\n",
       "    <tr>\n",
       "      <th>11</th>\n",
       "      <td>Pets &amp; Animals</td>\n",
       "      <td>27</td>\n",
       "      <td>2.41</td>\n",
       "      <td>6</td>\n",
       "      <td>1</td>\n",
       "    </tr>\n",
       "    <tr>\n",
       "      <th>12</th>\n",
       "      <td>Science &amp; Technology</td>\n",
       "      <td>20</td>\n",
       "      <td>1.80</td>\n",
       "      <td>7</td>\n",
       "      <td>1</td>\n",
       "    </tr>\n",
       "    <tr>\n",
       "      <th>13</th>\n",
       "      <td>Sports</td>\n",
       "      <td>66</td>\n",
       "      <td>3.36</td>\n",
       "      <td>15</td>\n",
       "      <td>1</td>\n",
       "    </tr>\n",
       "    <tr>\n",
       "      <th>14</th>\n",
       "      <td>Travel &amp; Events</td>\n",
       "      <td>10</td>\n",
       "      <td>2.30</td>\n",
       "      <td>7</td>\n",
       "      <td>1</td>\n",
       "    </tr>\n",
       "  </tbody>\n",
       "</table>\n",
       "</div>"
      ],
      "text/plain": [
       "            category_name video_id              \n",
       "                              size  mean max min\n",
       "0        Autos & Vehicles       19  1.63   3   1\n",
       "1                  Comedy       50  3.34  14   1\n",
       "2               Education       27  2.41  10   1\n",
       "3           Entertainment      312  3.06  17   1\n",
       "4        Film & Animation       27  2.74  13   1\n",
       "5                  Gaming       47  1.70   7   1\n",
       "6           Howto & Style       44  2.70   8   1\n",
       "7                   Music       98  2.39  13   1\n",
       "8         News & Politics       56  2.89  11   1\n",
       "9   Nonprofits & Activism        1  1.00   1   1\n",
       "10         People & Blogs      166  2.48  14   1\n",
       "11         Pets & Animals       27  2.41   6   1\n",
       "12   Science & Technology       20  1.80   7   1\n",
       "13                 Sports       66  3.36  15   1\n",
       "14        Travel & Events       10  2.30   7   1"
      ]
     },
     "execution_count": 142,
     "metadata": {},
     "output_type": "execute_result"
    }
   ],
   "source": [
    "# \n",
    "\n",
    "calc_list = ['size','mean','max','min']\n",
    "\n",
    "\n",
    "q1_1_agg = q1_1.groupby(['category_name']).agg({'video_id':calc_list}). \\\n",
    "    reset_index(drop=False). \\\n",
    "    round(2)\n",
    "q1_1_agg_2 = q1_1.groupby(['category_name','channel_id']).agg({'video_id':calc_list}).round(2)\n",
    "q1_1_agg"
   ]
  },
  {
   "cell_type": "code",
   "execution_count": 145,
   "metadata": {},
   "outputs": [
    {
     "data": {
      "text/html": [
       "<div>\n",
       "<style scoped>\n",
       "    .dataframe tbody tr th:only-of-type {\n",
       "        vertical-align: middle;\n",
       "    }\n",
       "\n",
       "    .dataframe tbody tr th {\n",
       "        vertical-align: top;\n",
       "    }\n",
       "\n",
       "    .dataframe thead th {\n",
       "        text-align: right;\n",
       "    }\n",
       "</style>\n",
       "<table border=\"1\" class=\"dataframe\">\n",
       "  <thead>\n",
       "    <tr style=\"text-align: right;\">\n",
       "      <th></th>\n",
       "      <th>category_name</th>\n",
       "      <th>count</th>\n",
       "      <th>mean</th>\n",
       "      <th>max</th>\n",
       "      <th>min</th>\n",
       "    </tr>\n",
       "  </thead>\n",
       "  <tbody>\n",
       "    <tr>\n",
       "      <th>3</th>\n",
       "      <td>Entertainment</td>\n",
       "      <td>312</td>\n",
       "      <td>3.06</td>\n",
       "      <td>17</td>\n",
       "      <td>1</td>\n",
       "    </tr>\n",
       "    <tr>\n",
       "      <th>10</th>\n",
       "      <td>People &amp; Blogs</td>\n",
       "      <td>166</td>\n",
       "      <td>2.48</td>\n",
       "      <td>14</td>\n",
       "      <td>1</td>\n",
       "    </tr>\n",
       "    <tr>\n",
       "      <th>7</th>\n",
       "      <td>Music</td>\n",
       "      <td>98</td>\n",
       "      <td>2.39</td>\n",
       "      <td>13</td>\n",
       "      <td>1</td>\n",
       "    </tr>\n",
       "    <tr>\n",
       "      <th>13</th>\n",
       "      <td>Sports</td>\n",
       "      <td>66</td>\n",
       "      <td>3.36</td>\n",
       "      <td>15</td>\n",
       "      <td>1</td>\n",
       "    </tr>\n",
       "    <tr>\n",
       "      <th>8</th>\n",
       "      <td>News &amp; Politics</td>\n",
       "      <td>56</td>\n",
       "      <td>2.89</td>\n",
       "      <td>11</td>\n",
       "      <td>1</td>\n",
       "    </tr>\n",
       "    <tr>\n",
       "      <th>1</th>\n",
       "      <td>Comedy</td>\n",
       "      <td>50</td>\n",
       "      <td>3.34</td>\n",
       "      <td>14</td>\n",
       "      <td>1</td>\n",
       "    </tr>\n",
       "    <tr>\n",
       "      <th>5</th>\n",
       "      <td>Gaming</td>\n",
       "      <td>47</td>\n",
       "      <td>1.70</td>\n",
       "      <td>7</td>\n",
       "      <td>1</td>\n",
       "    </tr>\n",
       "    <tr>\n",
       "      <th>6</th>\n",
       "      <td>Howto &amp; Style</td>\n",
       "      <td>44</td>\n",
       "      <td>2.70</td>\n",
       "      <td>8</td>\n",
       "      <td>1</td>\n",
       "    </tr>\n",
       "    <tr>\n",
       "      <th>2</th>\n",
       "      <td>Education</td>\n",
       "      <td>27</td>\n",
       "      <td>2.41</td>\n",
       "      <td>10</td>\n",
       "      <td>1</td>\n",
       "    </tr>\n",
       "    <tr>\n",
       "      <th>4</th>\n",
       "      <td>Film &amp; Animation</td>\n",
       "      <td>27</td>\n",
       "      <td>2.74</td>\n",
       "      <td>13</td>\n",
       "      <td>1</td>\n",
       "    </tr>\n",
       "    <tr>\n",
       "      <th>11</th>\n",
       "      <td>Pets &amp; Animals</td>\n",
       "      <td>27</td>\n",
       "      <td>2.41</td>\n",
       "      <td>6</td>\n",
       "      <td>1</td>\n",
       "    </tr>\n",
       "    <tr>\n",
       "      <th>12</th>\n",
       "      <td>Science &amp; Technology</td>\n",
       "      <td>20</td>\n",
       "      <td>1.80</td>\n",
       "      <td>7</td>\n",
       "      <td>1</td>\n",
       "    </tr>\n",
       "    <tr>\n",
       "      <th>0</th>\n",
       "      <td>Autos &amp; Vehicles</td>\n",
       "      <td>19</td>\n",
       "      <td>1.63</td>\n",
       "      <td>3</td>\n",
       "      <td>1</td>\n",
       "    </tr>\n",
       "    <tr>\n",
       "      <th>14</th>\n",
       "      <td>Travel &amp; Events</td>\n",
       "      <td>10</td>\n",
       "      <td>2.30</td>\n",
       "      <td>7</td>\n",
       "      <td>1</td>\n",
       "    </tr>\n",
       "    <tr>\n",
       "      <th>9</th>\n",
       "      <td>Nonprofits &amp; Activism</td>\n",
       "      <td>1</td>\n",
       "      <td>1.00</td>\n",
       "      <td>1</td>\n",
       "      <td>1</td>\n",
       "    </tr>\n",
       "  </tbody>\n",
       "</table>\n",
       "</div>"
      ],
      "text/plain": [
       "            category_name  count  mean  max  min\n",
       "3           Entertainment    312  3.06   17    1\n",
       "10         People & Blogs    166  2.48   14    1\n",
       "7                   Music     98  2.39   13    1\n",
       "13                 Sports     66  3.36   15    1\n",
       "8         News & Politics     56  2.89   11    1\n",
       "1                  Comedy     50  3.34   14    1\n",
       "5                  Gaming     47  1.70    7    1\n",
       "6           Howto & Style     44  2.70    8    1\n",
       "2               Education     27  2.41   10    1\n",
       "4        Film & Animation     27  2.74   13    1\n",
       "11         Pets & Animals     27  2.41    6    1\n",
       "12   Science & Technology     20  1.80    7    1\n",
       "0        Autos & Vehicles     19  1.63    3    1\n",
       "14        Travel & Events     10  2.30    7    1\n",
       "9   Nonprofits & Activism      1  1.00    1    1"
      ]
     },
     "execution_count": 145,
     "metadata": {},
     "output_type": "execute_result"
    }
   ],
   "source": [
    "# remove stacked column\n",
    "q1_1_agg.columns = [' '.join(col).strip() for col in q1_1_agg.columns.values]\n",
    "q1_1_agg.columns = ['category_name'] + ['count','mean','max','min']\n",
    "q1_1_agg.sort_values(by='count',ascending=False)"
   ]
  },
  {
   "cell_type": "code",
   "execution_count": 148,
   "metadata": {},
   "outputs": [],
   "source": [
    "# table\n",
    "fig_table = go.Figure(data=[go.Table(\n",
    "    header=dict(values=list(q1_1_agg.columns),\n",
    "                fill_color='paleturquoise',\n",
    "                align='left'),\n",
    "    cells=dict(values=[q1_1_agg[k].tolist() for k in q1_1_agg.columns],\n",
    "            fill_color='lavender',\n",
    "            align='left'))])\n"
   ]
  },
  {
   "cell_type": "code",
   "execution_count": 155,
   "metadata": {},
   "outputs": [
    {
     "data": {
      "application/vnd.plotly.v1+json": {
       "config": {
        "plotlyServerURL": "https://plot.ly"
       },
       "data": [
        {
         "alignmentgroup": "True",
         "hovertemplate": "category_name=Autos & Vehicles<br>channel_id=%{x}<br>video_id=%{y}<extra></extra>",
         "legendgroup": "Autos & Vehicles",
         "marker": {
          "color": "#636efa",
          "pattern": {
           "shape": ""
          }
         },
         "name": "Autos & Vehicles",
         "offsetgroup": "Autos & Vehicles",
         "orientation": "v",
         "showlegend": true,
         "textposition": "auto",
         "type": "bar",
         "x": [
          "CH-IBt8",
          "CHyF14S",
          "CHs2TmE",
          "CHrXkDA",
          "CHrOl7I",
          "CHkGHfa",
          "CHiubh7",
          "CHd5CdY",
          "CH_rBRr",
          "CHp0B9n",
          "CHWY41Q",
          "CHSkpiP",
          "CHPbxBh",
          "CHKnKi2",
          "CHH5U89",
          "CHDpnvN",
          "CH5f97D",
          "CH2xkO7",
          "CHYVZ6z"
         ],
         "xaxis": "x",
         "y": [
          1,
          1,
          1,
          2,
          3,
          1,
          3,
          2,
          1,
          1,
          1,
          1,
          3,
          1,
          2,
          2,
          2,
          2,
          1
         ],
         "yaxis": "y"
        },
        {
         "alignmentgroup": "True",
         "hovertemplate": "category_name=Comedy<br>channel_id=%{x}<br>video_id=%{y}<extra></extra>",
         "legendgroup": "Comedy",
         "marker": {
          "color": "#EF553B",
          "pattern": {
           "shape": ""
          }
         },
         "name": "Comedy",
         "offsetgroup": "Comedy",
         "orientation": "v",
         "showlegend": true,
         "textposition": "auto",
         "type": "bar",
         "x": [
          "CHghP93",
          "CHgBLs7",
          "CHg8U-Z",
          "CHg-p3l",
          "CH_gaUd",
          "CHe9f9M",
          "CHd-Sfb",
          "CHbGXAe",
          "CHhbE5O",
          "CHfU6o0",
          "CHhvXm5",
          "CHyCL5k",
          "CHmCNgL",
          "CHmHMsJ",
          "CHmzMtX",
          "CHoe_Vp",
          "CHqsPmf",
          "CHr9-Mp",
          "CHsJ6Ru",
          "CHt_UFh",
          "CHZ0dIs",
          "CHyh4ZG",
          "CHzjiRW",
          "CHivkx6",
          "CHYACix",
          "CHRykAt",
          "CHV3i3l",
          "CH0SoPw",
          "CH20WKI",
          "CH2o_y8",
          "CH69uMh",
          "CH6KwCU",
          "CHVsBCf",
          "CH9ZLv1",
          "CH9nFMA",
          "CHCjJV_",
          "CHD2YO_",
          "CHDCAyS",
          "CH8-Th8",
          "CHGX5sP",
          "CHIuFnJ",
          "CHJpGg1",
          "CHK3p1w",
          "CHMVC92",
          "CHN8CPz",
          "CHPwGQu",
          "CHQmu3U",
          "CHR-qpX",
          "CHSc2Dc",
          "CHEUL40"
         ],
         "xaxis": "x",
         "y": [
          2,
          5,
          1,
          10,
          1,
          4,
          1,
          1,
          11,
          1,
          3,
          9,
          1,
          1,
          14,
          1,
          5,
          1,
          2,
          5,
          9,
          1,
          2,
          1,
          1,
          5,
          2,
          3,
          4,
          1,
          1,
          3,
          2,
          4,
          5,
          1,
          1,
          1,
          3,
          7,
          4,
          1,
          2,
          1,
          3,
          2,
          1,
          5,
          7,
          5
         ],
         "yaxis": "y"
        },
        {
         "alignmentgroup": "True",
         "hovertemplate": "category_name=Education<br>channel_id=%{x}<br>video_id=%{y}<extra></extra>",
         "legendgroup": "Education",
         "marker": {
          "color": "#00cc96",
          "pattern": {
           "shape": ""
          }
         },
         "name": "Education",
         "offsetgroup": "Education",
         "orientation": "v",
         "showlegend": true,
         "textposition": "auto",
         "type": "bar",
         "x": [
          "CHcWXel",
          "CHgheNM",
          "CHicKQU",
          "CHjPqSb",
          "CHl7MKZ",
          "CHznImS",
          "CHnLO88",
          "CHnaGfD",
          "CHuh6Br",
          "CHvW8no",
          "CHZ4T91",
          "CHma37f",
          "CHPvwqh",
          "CHiV4_c",
          "CHMFk5S",
          "CHO0OSA",
          "CH-9RQC",
          "CH1-lwA",
          "CH5YHB-",
          "CH7F6UD",
          "CHBJs8l",
          "CH6xugt",
          "CHCt6iN",
          "CHD902z",
          "CHHpIHu",
          "CHJ7LVh",
          "CHBM86J"
         ],
         "xaxis": "x",
         "y": [
          1,
          1,
          10,
          1,
          7,
          1,
          1,
          3,
          7,
          3,
          1,
          1,
          1,
          1,
          1,
          1,
          1,
          2,
          1,
          4,
          3,
          2,
          2,
          2,
          3,
          3,
          1
         ],
         "yaxis": "y"
        },
        {
         "alignmentgroup": "True",
         "hovertemplate": "category_name=Entertainment<br>channel_id=%{x}<br>video_id=%{y}<extra></extra>",
         "legendgroup": "Entertainment",
         "marker": {
          "color": "#ab63fa",
          "pattern": {
           "shape": ""
          }
         },
         "name": "Entertainment",
         "offsetgroup": "Entertainment",
         "orientation": "v",
         "showlegend": true,
         "textposition": "auto",
         "type": "bar",
         "x": [
          "CHffY-g",
          "CHgZlBR",
          "CHg8U-Z",
          "CHg3Ydm",
          "CHfugxK",
          "CHfnMSb",
          "CHfela5",
          "CHe_oTY",
          "CHfWZns",
          "CHepUWU",
          "CHem8l1",
          "CHed3O-",
          "CHgeeQu",
          "CHeSHil",
          "CHe-gh0",
          "CHfdYUR",
          "CHgiO7K",
          "CHhgOgR",
          "CHhE5nZ",
          "CHjGoJb",
          "CHj28Fv",
          "CHj-dur",
          "CHiwQRG",
          "CHid83o",
          "CHiP6DC",
          "CHiEEF5",
          "CHgsffS",
          "CHiBr0b",
          "CHi9Sl8",
          "CHhqMfc",
          "CHhpiLQ",
          "CHdWgRS",
          "CHhY4PX",
          "CHhLGxP",
          "CHhK2Dh",
          "CHiBKp3",
          "CHdUlCa",
          "CHbY7nf",
          "CHchRZl",
          "CHZVD--",
          "CHZTPmB",
          "CHZECMC",
          "CHZCH_G",
          "CHYyLIl",
          "CHYtjW8",
          "CHYn09y",
          "CHZf4ZE",
          "CHYmo0H",
          "CHYeeEw",
          "CHYZv9v",
          "CHYSjF7",
          "CHYIxlZ",
          "CHYC3ZZ",
          "CHY2uWQ",
          "CHjToDB",
          "CHYgUhR",
          "CHclwLh",
          "CHZtpUg",
          "CH_Fxf0",
          "CHcTWmz",
          "CHcOYEm",
          "CHbuks6",
          "CHbs5PG",
          "CHbVRtq",
          "CHbEp_Z",
          "CHbD8Ep",
          "CH_6zPf",
          "CHbCr1d",
          "CHb-y7Y",
          "CHaZS_X",
          "CHaNGiz",
          "CHaKod3",
          "CHa56qk",
          "CH_plsx",
          "CH_pOKL",
          "CHb2wZp",
          "CHjkoqt",
          "CHsU2Rl",
          "CHk6bX-",
          "CHuTKrQ",
          "CHu9BCt",
          "CHtp1ok",
          "CHtkQiK",
          "CHtgggh",
          "CHtckgm",
          "CHtDcEb",
          "CHtCW8q",
          "CHseQwR",
          "CHXiyTP",
          "CHsRIHt",
          "CHsOW9T",
          "CHsNVs6",
          "CHsM07d",
          "CHs8R3n",
          "CHudezj",
          "CHuw1hx",
          "CHvAewW",
          "CHvScwM",
          "CHzt24f",
          "CHyozK5",
          "CHybzQL",
          "CHybPxZ",
          "CHy1fru",
          "CHy-swB",
          "CHy-NrX",
          "CHs1R9z",
          "CHxmBxN",
          "CHxQXvv",
          "CHxLc0z",
          "CHx6jsZ",
          "CHwx6n_",
          "CHweOkP",
          "CHwZTee",
          "CHwNVDl",
          "CHxjERP",
          "CHrnPse",
          "CHrjVVh",
          "CHriPmQ",
          "CHnNfsL",
          "CHnNNN_",
          "CHnLeqv",
          "CHmjNKt",
          "CHmgt7e",
          "CHmbGE7",
          "CHmONdw",
          "CHnx4Fi",
          "CHmApNd",
          "CHlzB2i",
          "CHl_tB4",
          "CHkxbPw",
          "CHkjXq1",
          "CHkbJc8",
          "CHkQCwn",
          "CHkPp7P",
          "CHm2PiW",
          "CHk5bhZ",
          "CHoCvTl",
          "CHoUDrz",
          "CHrhgVH",
          "CHrhH1d",
          "CHreX6A",
          "CHrSase",
          "CHrLUuZ",
          "CHr0ade",
          "CHqq-ov",
          "CHoQIdt",
          "CHqHP70",
          "CHpPXYy",
          "CHpK0ae",
          "CHpBkdV",
          "CHp0hYY",
          "CHod5V2",
          "CHoXoV4",
          "CHoW9qW",
          "CHpjm6R",
          "CHXaYpH",
          "CHXZx95",
          "CHWstBK",
          "CH9HNi_",
          "CH920m3",
          "CH8WoHU",
          "CH8RGSE",
          "CH8OUSY",
          "CH88r6m",
          "CH81Kll",
          "CH7QX2Y",
          "CH7Krez",
          "CH78PMQ",
          "CH73yn5",
          "CH6wiUw",
          "CH6erID",
          "CH68buD",
          "CH5zXl0",
          "CH9idb-",
          "CH9kUsu",
          "CH9nLq3",
          "CH9w-h_",
          "CHEX1cZ",
          "CHEIi7z",
          "CHEI4rb",
          "CHDih-8",
          "CHDhM2k",
          "CHDb1t5",
          "CHCfQK8",
          "CH5q0PI",
          "CHCCjbf",
          "CHBwCGr",
          "CHBpzJv",
          "CHBOs39",
          "CHBI8xZ",
          "CHB9e3p",
          "CHB-ogY",
          "CHAP8OK",
          "CHC1LvV",
          "CHEkcg9",
          "CH5bUcn",
          "CH5BMQO",
          "CH2-Lri",
          "CH1cWTE",
          "CH1LWEy",
          "CH1L79y",
          "CH1HHeT",
          "CH18g7g",
          "CH12YJZ",
          "CH1-lwA",
          "CH0VR2v",
          "CH0PsUG",
          "CH-giR4",
          "CH-VbFg",
          "CH-VOS6",
          "CH-Jblc",
          "CH-BqPA",
          "CH271vX",
          "CH2DHU9",
          "CH2DoAr",
          "CH2E-9A",
          "CH4qc3p",
          "CH4nEQI",
          "CH4LW3s",
          "CH4JAFO",
          "CH49ta0",
          "CH46BbE",
          "CH3m0s5",
          "CH5Ida8",
          "CH3W3kE",
          "CH3Ea2-",
          "CH35HKv",
          "CH2tfQf",
          "CH2qjHK",
          "CH2aMxQ",
          "CH2KEmF",
          "CH2IIBY",
          "CH3SyT4",
          "CHEwOn7",
          "CH3re3u",
          "CHF3UEV",
          "CHSQ55i",
          "CHSB5FO",
          "CHRWzK4",
          "CHRMA_N",
          "CHRLM0M",
          "CHR5cyf",
          "CHQNRHp",
          "CHQ2O-i",
          "CHPx-7A",
          "CHPde4g",
          "CHPKNKl",
          "CHPECLB",
          "CHOtCBu",
          "CHObJpv",
          "CHOJplh",
          "CHS_hnp",
          "CHT2X19",
          "CHTOUUd",
          "CHTQVIX",
          "CHExw7_",
          "CHWhiqH",
          "CHWYzc_",
          "CHWJg0Q",
          "CHVyhgR",
          "CHVXN28",
          "CHVWmCR",
          "CHOHM2N",
          "CHUyfkq",
          "CHUj6rr",
          "CHUXYT0",
          "CHU8MOm",
          "CHTuthm",
          "CHTnafh",
          "CHTmrCB",
          "CHTS3Lw",
          "CHUnSdg",
          "CHNl-TU",
          "CHOzWaj",
          "CHNIiH_",
          "CHIUfR-",
          "CHIA-LP",
          "CHI5WgF",
          "CHNQL3R",
          "CHHlSeJ",
          "CHHcDLO",
          "CHH1oRy",
          "CHGsJRp",
          "CHGrfaH",
          "CHGrAnV",
          "CHGnfBj",
          "CHGWhMp",
          "CHGMHKj",
          "CHG0Jec",
          "CHFg6o2",
          "CHFL1sC",
          "CHF8W68",
          "CHIY5oU",
          "CHIn1p2",
          "CHHzW_7",
          "CHIuteB",
          "CHNE1pY",
          "CHMtFAi",
          "CHMGn0N",
          "CHIueAL",
          "CHLynj-",
          "CHLtOnh",
          "CHLVwgJ",
          "CHM31rB",
          "CHLF1hN",
          "CHKxLXX",
          "CHKuwp5",
          "CHJmcPV",
          "CHKdfNL",
          "CHK3p1w",
          "CHK1sVu",
          "CHLKugl"
         ],
         "xaxis": "x",
         "y": [
          1,
          3,
          2,
          2,
          1,
          1,
          1,
          1,
          2,
          3,
          2,
          1,
          3,
          5,
          2,
          1,
          3,
          8,
          6,
          3,
          2,
          5,
          14,
          1,
          1,
          5,
          3,
          4,
          3,
          1,
          1,
          5,
          4,
          3,
          1,
          7,
          1,
          1,
          1,
          4,
          1,
          1,
          3,
          5,
          6,
          4,
          7,
          1,
          1,
          5,
          2,
          1,
          2,
          3,
          3,
          4,
          1,
          1,
          3,
          2,
          6,
          4,
          1,
          2,
          4,
          6,
          1,
          7,
          2,
          2,
          3,
          11,
          1,
          2,
          3,
          1,
          1,
          1,
          8,
          3,
          2,
          1,
          1,
          1,
          3,
          7,
          1,
          1,
          1,
          6,
          3,
          3,
          1,
          5,
          2,
          1,
          2,
          1,
          1,
          7,
          1,
          4,
          4,
          8,
          4,
          5,
          2,
          4,
          2,
          10,
          8,
          4,
          1,
          7,
          1,
          1,
          1,
          5,
          2,
          2,
          5,
          8,
          3,
          4,
          3,
          7,
          2,
          14,
          2,
          9,
          3,
          3,
          2,
          1,
          4,
          3,
          3,
          3,
          2,
          3,
          2,
          4,
          2,
          3,
          7,
          2,
          7,
          4,
          1,
          1,
          2,
          2,
          4,
          2,
          9,
          4,
          5,
          1,
          4,
          5,
          3,
          1,
          6,
          1,
          2,
          1,
          1,
          7,
          2,
          1,
          5,
          2,
          1,
          4,
          1,
          3,
          2,
          3,
          6,
          3,
          2,
          2,
          3,
          6,
          1,
          1,
          1,
          1,
          1,
          2,
          2,
          1,
          1,
          1,
          1,
          4,
          2,
          1,
          6,
          1,
          7,
          2,
          1,
          1,
          1,
          9,
          9,
          2,
          3,
          1,
          1,
          2,
          1,
          1,
          1,
          5,
          1,
          2,
          1,
          2,
          1,
          4,
          3,
          5,
          1,
          1,
          1,
          2,
          3,
          1,
          1,
          2,
          5,
          8,
          6,
          4,
          1,
          1,
          1,
          4,
          2,
          2,
          5,
          17,
          8,
          6,
          1,
          1,
          1,
          4,
          1,
          2,
          1,
          1,
          4,
          5,
          3,
          8,
          1,
          2,
          1,
          8,
          6,
          10,
          2,
          2,
          1,
          5,
          5,
          1,
          1,
          3,
          1,
          1,
          6,
          7,
          6,
          1,
          2,
          2,
          1,
          3,
          3,
          3,
          1,
          1,
          1,
          1,
          1,
          1,
          7,
          4,
          3,
          1,
          5,
          1,
          1,
          2,
          4,
          3,
          2,
          1,
          3,
          2,
          1,
          8,
          1,
          5,
          3,
          1,
          5,
          2
         ],
         "yaxis": "y"
        },
        {
         "alignmentgroup": "True",
         "hovertemplate": "category_name=Film & Animation<br>channel_id=%{x}<br>video_id=%{y}<extra></extra>",
         "legendgroup": "Film & Animation",
         "marker": {
          "color": "#FFA15A",
          "pattern": {
           "shape": ""
          }
         },
         "name": "Film & Animation",
         "offsetgroup": "Film & Animation",
         "orientation": "v",
         "showlegend": true,
         "textposition": "auto",
         "type": "bar",
         "x": [
          "CHgmmc5",
          "CHi-XI2",
          "CHlN3o2",
          "CHs0P4G",
          "CHszFjh",
          "CHxDsmO",
          "CHuRZ7_",
          "CHxlv4a",
          "CHym553",
          "CHdq61m",
          "CHz2Kbg",
          "CHuKKkB",
          "CHaT8jY",
          "CHRuSxV",
          "CHW0gUN",
          "CHY2wHB",
          "CH6q6s6",
          "CH6u3fo",
          "CHCcE8B",
          "CHFnuC4",
          "CH3zQwS",
          "CHHj3qb",
          "CHK9PdJ",
          "CHRI5Ze",
          "CHSB5FO",
          "CHUK4Yj",
          "CHH3mJ-"
         ],
         "xaxis": "x",
         "y": [
          2,
          5,
          1,
          1,
          13,
          1,
          1,
          1,
          1,
          1,
          4,
          1,
          2,
          10,
          1,
          1,
          3,
          7,
          1,
          1,
          1,
          3,
          2,
          1,
          3,
          5,
          1
         ],
         "yaxis": "y"
        },
        {
         "alignmentgroup": "True",
         "hovertemplate": "category_name=Gaming<br>channel_id=%{x}<br>video_id=%{y}<extra></extra>",
         "legendgroup": "Gaming",
         "marker": {
          "color": "#19d3f3",
          "pattern": {
           "shape": ""
          }
         },
         "name": "Gaming",
         "offsetgroup": "Gaming",
         "orientation": "v",
         "showlegend": true,
         "textposition": "auto",
         "type": "bar",
         "x": [
          "CHms8Ge",
          "CHeHFCf",
          "CHefUNE",
          "CHfycsf",
          "CHg7rkx",
          "CHj-6sZ",
          "CHlJspS",
          "CHmCNgL",
          "CHmMxEF",
          "CHnss3B",
          "CHta_NR",
          "CHooLkG",
          "CHoyaxd",
          "CHpDtPd",
          "CHpYaDy",
          "CHdrBnB",
          "CHuOUU4",
          "CHw1Dsw",
          "CHxM_h0",
          "CHyTB7U",
          "CHzgNzU",
          "CHom6Yh",
          "CHcum1r",
          "CHeudxd",
          "CHU_hKD",
          "CHY9pEH",
          "CH2NFRq",
          "CH31ypO",
          "CH48NSS",
          "CH8C0Yd",
          "CH8CIM3",
          "CH9_093",
          "CH9aEa6",
          "CHAOTbN",
          "CHBA9Xa",
          "CH9-LID",
          "CHBrb8H",
          "CHBUNoF",
          "CHOKQpm",
          "CHNzcxC",
          "CHMPM0h",
          "CHK3p1w",
          "CHSOeJW",
          "CHGIY_O",
          "CHDyc0_",
          "CHDBAVz",
          "CHHxKSi"
         ],
         "xaxis": "x",
         "y": [
          1,
          1,
          3,
          1,
          1,
          1,
          1,
          2,
          1,
          1,
          1,
          3,
          1,
          1,
          1,
          6,
          1,
          3,
          3,
          1,
          3,
          2,
          1,
          1,
          2,
          1,
          1,
          2,
          1,
          1,
          7,
          3,
          1,
          2,
          2,
          1,
          1,
          3,
          1,
          1,
          1,
          1,
          1,
          1,
          1,
          3,
          1
         ],
         "yaxis": "y"
        },
        {
         "alignmentgroup": "True",
         "hovertemplate": "category_name=Howto & Style<br>channel_id=%{x}<br>video_id=%{y}<extra></extra>",
         "legendgroup": "Howto & Style",
         "marker": {
          "color": "#FF6692",
          "pattern": {
           "shape": ""
          }
         },
         "name": "Howto & Style",
         "offsetgroup": "Howto & Style",
         "orientation": "v",
         "showlegend": true,
         "textposition": "auto",
         "type": "bar",
         "x": [
          "CHnekLi",
          "CHcTWmz",
          "CHd4Fmc",
          "CHiNS0K",
          "CHj8zZ1",
          "CHkxvX8",
          "CHn64fS",
          "CHnCyCL",
          "CHnZ8qy",
          "CHp94pz",
          "CHayVh6",
          "CHrpB5P",
          "CHrxSR4",
          "CHuFGPh",
          "CHvil4O",
          "CHxjZ0G",
          "CHy2WX3",
          "CHyn7ao",
          "CHz72_x",
          "CHzIOIS",
          "CHpg89Y",
          "CHZCvbW",
          "CH1g9Ja",
          "CHWrh9h",
          "CH1EEpE",
          "CH1UebY",
          "CHXGh59",
          "CH2DHU9",
          "CH2gasv",
          "CH5q0PI",
          "CH5xK2X",
          "CH6LBdA",
          "CH8wHwv",
          "CH2xkO7",
          "CHCG6BE",
          "CHBTytr",
          "CHWRb5Q",
          "CHVXx89",
          "CHLduRr",
          "CHWdmhZ",
          "CHKrhyP",
          "CHKm-cu",
          "CHIZ5rC",
          "CHL01un"
         ],
         "xaxis": "x",
         "y": [
          1,
          1,
          8,
          3,
          4,
          2,
          7,
          1,
          1,
          4,
          1,
          2,
          1,
          2,
          2,
          1,
          5,
          3,
          1,
          5,
          2,
          4,
          2,
          5,
          1,
          1,
          1,
          1,
          4,
          1,
          1,
          3,
          3,
          2,
          1,
          6,
          1,
          6,
          1,
          1,
          6,
          3,
          6,
          2
         ],
         "yaxis": "y"
        },
        {
         "alignmentgroup": "True",
         "hovertemplate": "category_name=Music<br>channel_id=%{x}<br>video_id=%{y}<extra></extra>",
         "legendgroup": "Music",
         "marker": {
          "color": "#B6E880",
          "pattern": {
           "shape": ""
          }
         },
         "name": "Music",
         "offsetgroup": "Music",
         "orientation": "v",
         "showlegend": true,
         "textposition": "auto",
         "type": "bar",
         "x": [
          "CHeQlMQ",
          "CHkYFO5",
          "CHkJ1rb",
          "CHk9Gmd",
          "CHk2E0d",
          "CHhu7d9",
          "CHhm_d4",
          "CHfkXDY",
          "CHe_56k",
          "CHeLPm9",
          "CHTEWSE",
          "CHdNMDR",
          "CHcVEkH",
          "CHcM_a-",
          "CHabon8",
          "CHaO6TY",
          "CHaEIlQ",
          "CH_pwIX",
          "CHYDmx2",
          "CHY7unn",
          "CHlYq3P",
          "CHe52oe",
          "CHmQdC1",
          "CHtCiO5",
          "CHo-E2l",
          "CHzxXBQ",
          "CHzgxx_",
          "CHzCedB",
          "CHyPwRg",
          "CHxOZuU",
          "CHwzCuK",
          "CHwgtOR",
          "CHwZMmI",
          "CHvolP1",
          "CHviI9l",
          "CHvNA_f",
          "CHuhAUM",
          "CHuKdaT",
          "CHRp-tG",
          "CHsXigG",
          "CHsVcse",
          "CHritGV",
          "CHq4isO",
          "CHpbTKp",
          "CHoRXPc",
          "CHoNq-k",
          "CHmTdAl",
          "CHRQ7Rw",
          "CHXIF1a",
          "CHPENYt",
          "CH9vrvN",
          "CH9LcN9",
          "CH9GtSL",
          "CH8qO5r",
          "CH7Qts0",
          "CH6tU41",
          "CH6nxfR",
          "CH6c5iD",
          "CH6TJkB",
          "CH66yQ1",
          "CHACsUr",
          "CH4htMX",
          "CH3QWks",
          "CH3IZKs",
          "CH3-ec2",
          "CH2TjEZ",
          "CH2KmG_",
          "CH0D7tP",
          "CH-qYkz",
          "CH-jHB5",
          "CH-IG_h",
          "CH-FQUI",
          "CHR5cyf",
          "CHACvSk",
          "CH3WZlO",
          "CHAq0pF",
          "CHAkWpy",
          "CHNk_Ik",
          "CHMIUx2",
          "CHLkAep",
          "CHKNZsA",
          "CHIcXK1",
          "CHI3Z79",
          "CHHX_FN",
          "CHHGJwr",
          "CHGrAnV",
          "CHJVA-s",
          "CHG1kwS",
          "CHFipx4",
          "CHFEVXX",
          "CHEf_Bc",
          "CHEdZAd",
          "CHEbRSm",
          "CHEUX9t",
          "CHDPM_n",
          "CHCEi5r",
          "CHGdZ_-",
          "CHArTAX"
         ],
         "xaxis": "x",
         "y": [
          1,
          1,
          3,
          2,
          3,
          1,
          1,
          8,
          1,
          6,
          1,
          2,
          1,
          1,
          6,
          8,
          1,
          2,
          2,
          1,
          2,
          5,
          2,
          8,
          1,
          1,
          1,
          9,
          3,
          1,
          1,
          3,
          1,
          1,
          7,
          1,
          3,
          4,
          1,
          2,
          1,
          1,
          1,
          2,
          5,
          1,
          1,
          3,
          1,
          2,
          2,
          1,
          8,
          1,
          1,
          1,
          3,
          1,
          1,
          3,
          1,
          1,
          1,
          8,
          1,
          1,
          2,
          1,
          2,
          1,
          1,
          3,
          1,
          1,
          5,
          1,
          1,
          1,
          1,
          13,
          1,
          3,
          1,
          1,
          3,
          1,
          1,
          1,
          2,
          1,
          11,
          1,
          6,
          1,
          1,
          1,
          1,
          1
         ],
         "yaxis": "y"
        },
        {
         "alignmentgroup": "True",
         "hovertemplate": "category_name=News & Politics<br>channel_id=%{x}<br>video_id=%{y}<extra></extra>",
         "legendgroup": "News & Politics",
         "marker": {
          "color": "#FF97FF",
          "pattern": {
           "shape": ""
          }
         },
         "name": "News & Politics",
         "offsetgroup": "News & Politics",
         "orientation": "v",
         "showlegend": true,
         "textposition": "auto",
         "type": "bar",
         "x": [
          "CHfq4V1",
          "CHeFUGS",
          "CHcQTRi",
          "CHbMjg2",
          "CHawCv9",
          "CHWlV3L",
          "CHZQj9d",
          "CHYRrUD",
          "CHWskYk",
          "CHTTmtS",
          "CHhlgI3",
          "CH_U34U",
          "CHizGMt",
          "CHwRljh",
          "CHjg8Yu",
          "CHkinYT",
          "CHliLFb",
          "CHnfwIK",
          "CHomhAm",
          "CHoxT1k",
          "CHsU-I-",
          "CHu35od",
          "CHwCrPg",
          "CHy-6oZ",
          "CHzz58-",
          "CHTHCOP",
          "CHj3_t5",
          "CHQabOR",
          "CHAySce",
          "CHPTy0B",
          "CHPfxQo",
          "CH-0C8y",
          "CH0imOR",
          "CH1aS5C",
          "CH2fNt6",
          "CH5GZQW",
          "CH7cF2Z",
          "CH88r6m",
          "CH8d0Zg",
          "CH9thBC",
          "CHF4Wxd",
          "CHF8AeL",
          "CH4Aa3O",
          "CHGCGxs",
          "CHG9aFJ",
          "CHMGn0N",
          "CHMEbRp",
          "CHMLJc_",
          "CHKhcMX",
          "CHIipmg",
          "CHLKugl",
          "CHIIpmD",
          "CHIDOGT",
          "CHHBvfB",
          "CHH3mJ-",
          "CHIMOyt"
         ],
         "xaxis": "x",
         "y": [
          4,
          1,
          6,
          1,
          2,
          2,
          1,
          3,
          1,
          1,
          8,
          6,
          3,
          2,
          1,
          6,
          1,
          2,
          1,
          3,
          11,
          1,
          1,
          2,
          2,
          3,
          5,
          4,
          6,
          3,
          1,
          7,
          3,
          3,
          1,
          1,
          1,
          1,
          3,
          1,
          9,
          2,
          1,
          1,
          4,
          2,
          7,
          2,
          1,
          1,
          1,
          1,
          4,
          6,
          4,
          1
         ],
         "yaxis": "y"
        },
        {
         "alignmentgroup": "True",
         "hovertemplate": "category_name=Nonprofits & Activism<br>channel_id=%{x}<br>video_id=%{y}<extra></extra>",
         "legendgroup": "Nonprofits & Activism",
         "marker": {
          "color": "#FECB52",
          "pattern": {
           "shape": ""
          }
         },
         "name": "Nonprofits & Activism",
         "offsetgroup": "Nonprofits & Activism",
         "orientation": "v",
         "showlegend": true,
         "textposition": "auto",
         "type": "bar",
         "x": [
          "CHSsWdU"
         ],
         "xaxis": "x",
         "y": [
          1
         ],
         "yaxis": "y"
        },
        {
         "alignmentgroup": "True",
         "hovertemplate": "category_name=People & Blogs<br>channel_id=%{x}<br>video_id=%{y}<extra></extra>",
         "legendgroup": "People & Blogs",
         "marker": {
          "color": "#636efa",
          "pattern": {
           "shape": ""
          }
         },
         "name": "People & Blogs",
         "offsetgroup": "People & Blogs",
         "orientation": "v",
         "showlegend": true,
         "textposition": "auto",
         "type": "bar",
         "x": [
          "CHfpaSr",
          "CHemKWU",
          "CHzhyI5",
          "CHfqVrM",
          "CHh-1iA",
          "CHhK2Dh",
          "CHheR9R",
          "CHjn-Vb",
          "CHhna8l",
          "CHhtdyq",
          "CHiMq04",
          "CHicKQU",
          "CHjHn_O",
          "CHjpCOk",
          "CHelPbn",
          "CHkJNt3",
          "CHhji-o",
          "CHdfhK0",
          "CH_EngQ",
          "CHd1TDy",
          "CHXXlcP",
          "CHYDyvq",
          "CHYnfy2",
          "CHYt4St",
          "CHZ1wYQ",
          "CHZwG8g",
          "CHkh6Tl",
          "CH_Fq5K",
          "CHdQk6g",
          "CHaPILm",
          "CHaZS_X",
          "CHa_ZCX",
          "CHbFzvz",
          "CHb_-Xu",
          "CHbzDJ6",
          "CHc7een",
          "CHcQ3rs",
          "CHcxK1U",
          "CHaPqda",
          "CHkkWd0",
          "CHqsPmf",
          "CHl-tyx",
          "CHtkRVa",
          "CHtn-l7",
          "CHu38Cq",
          "CHuDLnJ",
          "CHuZu8N",
          "CHv0QY4",
          "CHvG7co",
          "CHvjhQp",
          "CHwW_qU",
          "CHx_kYu",
          "CHyG7zA",
          "CHychoc",
          "CHyje3j",
          "CHyn-K7",
          "CHyuL_X",
          "CHzRDCw",
          "CHXURHJ",
          "CHtfriF",
          "CHtfGLm",
          "CHtctOX",
          "CHsP57H",
          "CHlSUMM",
          "CHld0ct",
          "CHmfVvm",
          "CHmt37g",
          "CHnet0I",
          "CHoLQZ4",
          "CHoPTIa",
          "CHoQy2w",
          "CHknfGX",
          "CHpH3rU",
          "CHqNN-b",
          "CHrFlv9",
          "CHrIxxm",
          "CHrLQ0o",
          "CHrRn4V",
          "CHrh6bu",
          "CHs29NQ",
          "CHs9H--",
          "CHppou5",
          "CHXTyJZ",
          "CHKkxVS",
          "CHWycwu",
          "CH4MfUq",
          "CH4sIlW",
          "CH5QSBl",
          "CH5RION",
          "CH680xb",
          "CH6lNIb",
          "CH7Krez",
          "CH7bRo3",
          "CH8MVMe",
          "CH9G7V6",
          "CH9gxOp",
          "CHA6KBB",
          "CHASfMq",
          "CHBHJlM",
          "CHBkXIe",
          "CHBoQ8_",
          "CHC4Qcw",
          "CH4DnB5",
          "CHCJ2b2",
          "CH48NSS",
          "CH31-nU",
          "CHXTQWs",
          "CH-Bsa2",
          "CH-KafR",
          "CH-YRx5",
          "CH-swYD",
          "CH0PsUG",
          "CH0ssa8",
          "CH0wNau",
          "CH0wTMg",
          "CH1EiHI",
          "CH1GHhg",
          "CH26M8b",
          "CH26QQC",
          "CH2KUew",
          "CH2Q9aM",
          "CH2XG0i",
          "CH2tbZf",
          "CH47HAk",
          "CHD2KRO",
          "CHAhKKb",
          "CHE8SAl",
          "CHONPqk",
          "CHOOKj-",
          "CHPZ4e8",
          "CHDV9zg",
          "CHQTqoE",
          "CHQWylD",
          "CHRofX4",
          "CHRzS1N",
          "CHSiGNr",
          "CHTx3aC",
          "CHUWU2s",
          "CHUsoow",
          "CHUyr50",
          "CHVyMrl",
          "CHW945U",
          "CHW9DtK",
          "CHWqWR1",
          "CHNYi_z",
          "CHNBfRy",
          "CHPhHBE",
          "CHLJNGm",
          "CHET3I7",
          "CHEu_YK",
          "CHF8W68",
          "CHM64Ik",
          "CHGInHR",
          "CHGiqkg",
          "CHH7JoV",
          "CHHR4kW",
          "CHFLlNL",
          "CHJfDSu",
          "CHJko7d",
          "CHK72hq",
          "CHKFvox",
          "CHKUz_7",
          "CHKmQlV",
          "CHL-AUQ",
          "CHIG4gr",
          "CHLItMt"
         ],
         "xaxis": "x",
         "y": [
          10,
          1,
          1,
          3,
          2,
          3,
          2,
          1,
          1,
          1,
          1,
          1,
          1,
          2,
          1,
          1,
          1,
          2,
          2,
          2,
          3,
          1,
          7,
          3,
          10,
          1,
          3,
          1,
          1,
          1,
          4,
          1,
          6,
          1,
          1,
          1,
          1,
          2,
          1,
          10,
          2,
          1,
          8,
          2,
          2,
          5,
          1,
          1,
          1,
          1,
          2,
          1,
          3,
          3,
          1,
          1,
          1,
          4,
          3,
          13,
          1,
          1,
          4,
          1,
          2,
          1,
          2,
          2,
          2,
          4,
          9,
          1,
          8,
          4,
          3,
          1,
          2,
          3,
          3,
          1,
          4,
          5,
          8,
          1,
          1,
          4,
          4,
          2,
          2,
          4,
          4,
          1,
          1,
          1,
          1,
          1,
          4,
          4,
          1,
          2,
          2,
          1,
          3,
          1,
          2,
          4,
          4,
          2,
          1,
          1,
          1,
          1,
          2,
          2,
          1,
          3,
          1,
          2,
          4,
          3,
          1,
          1,
          1,
          1,
          2,
          2,
          2,
          3,
          4,
          4,
          8,
          1,
          1,
          3,
          6,
          3,
          1,
          1,
          1,
          4,
          1,
          1,
          1,
          1,
          1,
          3,
          2,
          2,
          2,
          1,
          1,
          2,
          1,
          1,
          1,
          3,
          1,
          1,
          1,
          4,
          4,
          4,
          1,
          1,
          14,
          1
         ],
         "yaxis": "y"
        },
        {
         "alignmentgroup": "True",
         "hovertemplate": "category_name=Pets & Animals<br>channel_id=%{x}<br>video_id=%{y}<extra></extra>",
         "legendgroup": "Pets & Animals",
         "marker": {
          "color": "#EF553B",
          "pattern": {
           "shape": ""
          }
         },
         "name": "Pets & Animals",
         "offsetgroup": "Pets & Animals",
         "orientation": "v",
         "showlegend": true,
         "textposition": "auto",
         "type": "bar",
         "x": [
          "CHP1CQH",
          "CHPTM-N",
          "CHX2laR",
          "CHa2LU4",
          "CHd1TDy",
          "CHkuA_g",
          "CHi_IoQ",
          "CHj-rqv",
          "CHtbOb9",
          "CHzjDgV",
          "CHOv1v2",
          "CHgsgpE",
          "CHOp66V",
          "CHf0Mkc",
          "CHHXnna",
          "CHHgL0B",
          "CH-IYpd",
          "CH22go5",
          "CH29-Il",
          "CH3PSZi",
          "CH04-af",
          "CH69l_r",
          "CH89A41",
          "CHAhKKb",
          "CHETBLy",
          "CHHLDBh",
          "CH5AAf4"
         ],
         "xaxis": "x",
         "y": [
          1,
          3,
          1,
          1,
          1,
          3,
          4,
          1,
          1,
          1,
          3,
          4,
          4,
          1,
          2,
          1,
          1,
          4,
          6,
          3,
          1,
          5,
          2,
          5,
          2,
          3,
          1
         ],
         "yaxis": "y"
        },
        {
         "alignmentgroup": "True",
         "hovertemplate": "category_name=Science & Technology<br>channel_id=%{x}<br>video_id=%{y}<extra></extra>",
         "legendgroup": "Science & Technology",
         "marker": {
          "color": "#00cc96",
          "pattern": {
           "shape": ""
          }
         },
         "name": "Science & Technology",
         "offsetgroup": "Science & Technology",
         "orientation": "v",
         "showlegend": true,
         "textposition": "auto",
         "type": "bar",
         "x": [
          "CHWnC1r",
          "CHj-MI9",
          "CHdpbqw",
          "CHdUcjk",
          "CHb-Abq",
          "CH_0oo0",
          "CHYAvG7",
          "CHWwgaK",
          "CHUkuuo",
          "CHrBpV_",
          "CHJiv3w",
          "CHJKZoV",
          "CHJJ_n7",
          "CHIk1-y",
          "CHFX6ad",
          "CHE_M8A",
          "CHB11SA",
          "CH5aNQ6",
          "CH3dJKw",
          "CHO4RG1"
         ],
         "xaxis": "x",
         "y": [
          1,
          1,
          1,
          7,
          1,
          2,
          1,
          1,
          2,
          1,
          1,
          1,
          3,
          2,
          2,
          2,
          2,
          1,
          3,
          1
         ],
         "yaxis": "y"
        },
        {
         "alignmentgroup": "True",
         "hovertemplate": "category_name=Sports<br>channel_id=%{x}<br>video_id=%{y}<extra></extra>",
         "legendgroup": "Sports",
         "marker": {
          "color": "#ab63fa",
          "pattern": {
           "shape": ""
          }
         },
         "name": "Sports",
         "offsetgroup": "Sports",
         "orientation": "v",
         "showlegend": true,
         "textposition": "auto",
         "type": "bar",
         "x": [
          "CHhb4gt",
          "CHhI3EX",
          "CHh4APi",
          "CHvMwK5",
          "CHgp0KT",
          "CHgIArN",
          "CHdTDdy",
          "CHdtRAc",
          "CHdhukF",
          "CHhg51l",
          "CHcQTRi",
          "CHc7o0O",
          "CHbhuEJ",
          "CHfHsXd",
          "CHi84e1",
          "CHnXNuk",
          "CHkFGfv",
          "CHZeHMS",
          "CHunsfa",
          "CHtybqq",
          "CHtm_Qo",
          "CHtctOX",
          "CHt8iRt",
          "CHk4XjB",
          "CHt7dVd",
          "CHpjOmw",
          "CHoe-0E",
          "CHoLrcj",
          "CHoHirU",
          "CHn9mJ4",
          "CHmKTwX",
          "CHqsKWT",
          "CHZSNhO",
          "CHP6Cn6",
          "CHYJDUe",
          "CH218FQ",
          "CH2qVOO",
          "CH3GEDF",
          "CH4_uws",
          "CH4yq3F",
          "CH7JbUm",
          "CH7YF5m",
          "CH9LQwH",
          "CH9pdRy",
          "CHArK9M",
          "CHYRrUD",
          "CHCA4-e",
          "CHChcWq",
          "CHD902z",
          "CHDIB1D",
          "CHBKMc4",
          "CHEg25r",
          "CHX0xc2",
          "CHET00Y",
          "CHUQVGX",
          "CHTv-Xv",
          "CHTqenv",
          "CHRDowc",
          "CHUXDKi",
          "CHQ2TX8",
          "CHPxCAB",
          "CHKHLAo",
          "CHINRJx",
          "CHI0FxD",
          "CHG-Q7s",
          "CHQ4eZw"
         ],
         "xaxis": "x",
         "y": [
          5,
          2,
          2,
          2,
          6,
          1,
          7,
          6,
          5,
          7,
          4,
          4,
          1,
          2,
          1,
          7,
          6,
          3,
          9,
          15,
          12,
          2,
          1,
          6,
          1,
          7,
          5,
          6,
          2,
          2,
          1,
          5,
          1,
          1,
          1,
          4,
          7,
          1,
          1,
          1,
          2,
          1,
          1,
          1,
          6,
          8,
          2,
          1,
          1,
          5,
          1,
          3,
          1,
          1,
          10,
          1,
          1,
          2,
          1,
          2,
          1,
          1,
          1,
          1,
          1,
          4
         ],
         "yaxis": "y"
        },
        {
         "alignmentgroup": "True",
         "hovertemplate": "category_name=Travel & Events<br>channel_id=%{x}<br>video_id=%{y}<extra></extra>",
         "legendgroup": "Travel & Events",
         "marker": {
          "color": "#FFA15A",
          "pattern": {
           "shape": ""
          }
         },
         "name": "Travel & Events",
         "offsetgroup": "Travel & Events",
         "orientation": "v",
         "showlegend": true,
         "textposition": "auto",
         "type": "bar",
         "x": [
          "CHa0aTy",
          "CHPll9Z",
          "CHPDdt9",
          "CHMZO-3",
          "CH673sG",
          "CHFCtZJ",
          "CH4KYnI",
          "CHlRNDV",
          "CHFw4M1",
          "CHsLoTw"
         ],
         "xaxis": "x",
         "y": [
          2,
          2,
          2,
          1,
          1,
          2,
          2,
          7,
          3,
          1
         ],
         "yaxis": "y"
        }
       ],
       "layout": {
        "barmode": "stack",
        "legend": {
         "title": {
          "text": "category_name"
         },
         "tracegroupgap": 0
        },
        "margin": {
         "t": 60
        },
        "template": {
         "data": {
          "bar": [
           {
            "error_x": {
             "color": "#2a3f5f"
            },
            "error_y": {
             "color": "#2a3f5f"
            },
            "marker": {
             "line": {
              "color": "#E5ECF6",
              "width": 0.5
             },
             "pattern": {
              "fillmode": "overlay",
              "size": 10,
              "solidity": 0.2
             }
            },
            "type": "bar"
           }
          ],
          "barpolar": [
           {
            "marker": {
             "line": {
              "color": "#E5ECF6",
              "width": 0.5
             },
             "pattern": {
              "fillmode": "overlay",
              "size": 10,
              "solidity": 0.2
             }
            },
            "type": "barpolar"
           }
          ],
          "carpet": [
           {
            "aaxis": {
             "endlinecolor": "#2a3f5f",
             "gridcolor": "white",
             "linecolor": "white",
             "minorgridcolor": "white",
             "startlinecolor": "#2a3f5f"
            },
            "baxis": {
             "endlinecolor": "#2a3f5f",
             "gridcolor": "white",
             "linecolor": "white",
             "minorgridcolor": "white",
             "startlinecolor": "#2a3f5f"
            },
            "type": "carpet"
           }
          ],
          "choropleth": [
           {
            "colorbar": {
             "outlinewidth": 0,
             "ticks": ""
            },
            "type": "choropleth"
           }
          ],
          "contour": [
           {
            "colorbar": {
             "outlinewidth": 0,
             "ticks": ""
            },
            "colorscale": [
             [
              0,
              "#0d0887"
             ],
             [
              0.1111111111111111,
              "#46039f"
             ],
             [
              0.2222222222222222,
              "#7201a8"
             ],
             [
              0.3333333333333333,
              "#9c179e"
             ],
             [
              0.4444444444444444,
              "#bd3786"
             ],
             [
              0.5555555555555556,
              "#d8576b"
             ],
             [
              0.6666666666666666,
              "#ed7953"
             ],
             [
              0.7777777777777778,
              "#fb9f3a"
             ],
             [
              0.8888888888888888,
              "#fdca26"
             ],
             [
              1,
              "#f0f921"
             ]
            ],
            "type": "contour"
           }
          ],
          "contourcarpet": [
           {
            "colorbar": {
             "outlinewidth": 0,
             "ticks": ""
            },
            "type": "contourcarpet"
           }
          ],
          "heatmap": [
           {
            "colorbar": {
             "outlinewidth": 0,
             "ticks": ""
            },
            "colorscale": [
             [
              0,
              "#0d0887"
             ],
             [
              0.1111111111111111,
              "#46039f"
             ],
             [
              0.2222222222222222,
              "#7201a8"
             ],
             [
              0.3333333333333333,
              "#9c179e"
             ],
             [
              0.4444444444444444,
              "#bd3786"
             ],
             [
              0.5555555555555556,
              "#d8576b"
             ],
             [
              0.6666666666666666,
              "#ed7953"
             ],
             [
              0.7777777777777778,
              "#fb9f3a"
             ],
             [
              0.8888888888888888,
              "#fdca26"
             ],
             [
              1,
              "#f0f921"
             ]
            ],
            "type": "heatmap"
           }
          ],
          "heatmapgl": [
           {
            "colorbar": {
             "outlinewidth": 0,
             "ticks": ""
            },
            "colorscale": [
             [
              0,
              "#0d0887"
             ],
             [
              0.1111111111111111,
              "#46039f"
             ],
             [
              0.2222222222222222,
              "#7201a8"
             ],
             [
              0.3333333333333333,
              "#9c179e"
             ],
             [
              0.4444444444444444,
              "#bd3786"
             ],
             [
              0.5555555555555556,
              "#d8576b"
             ],
             [
              0.6666666666666666,
              "#ed7953"
             ],
             [
              0.7777777777777778,
              "#fb9f3a"
             ],
             [
              0.8888888888888888,
              "#fdca26"
             ],
             [
              1,
              "#f0f921"
             ]
            ],
            "type": "heatmapgl"
           }
          ],
          "histogram": [
           {
            "marker": {
             "pattern": {
              "fillmode": "overlay",
              "size": 10,
              "solidity": 0.2
             }
            },
            "type": "histogram"
           }
          ],
          "histogram2d": [
           {
            "colorbar": {
             "outlinewidth": 0,
             "ticks": ""
            },
            "colorscale": [
             [
              0,
              "#0d0887"
             ],
             [
              0.1111111111111111,
              "#46039f"
             ],
             [
              0.2222222222222222,
              "#7201a8"
             ],
             [
              0.3333333333333333,
              "#9c179e"
             ],
             [
              0.4444444444444444,
              "#bd3786"
             ],
             [
              0.5555555555555556,
              "#d8576b"
             ],
             [
              0.6666666666666666,
              "#ed7953"
             ],
             [
              0.7777777777777778,
              "#fb9f3a"
             ],
             [
              0.8888888888888888,
              "#fdca26"
             ],
             [
              1,
              "#f0f921"
             ]
            ],
            "type": "histogram2d"
           }
          ],
          "histogram2dcontour": [
           {
            "colorbar": {
             "outlinewidth": 0,
             "ticks": ""
            },
            "colorscale": [
             [
              0,
              "#0d0887"
             ],
             [
              0.1111111111111111,
              "#46039f"
             ],
             [
              0.2222222222222222,
              "#7201a8"
             ],
             [
              0.3333333333333333,
              "#9c179e"
             ],
             [
              0.4444444444444444,
              "#bd3786"
             ],
             [
              0.5555555555555556,
              "#d8576b"
             ],
             [
              0.6666666666666666,
              "#ed7953"
             ],
             [
              0.7777777777777778,
              "#fb9f3a"
             ],
             [
              0.8888888888888888,
              "#fdca26"
             ],
             [
              1,
              "#f0f921"
             ]
            ],
            "type": "histogram2dcontour"
           }
          ],
          "mesh3d": [
           {
            "colorbar": {
             "outlinewidth": 0,
             "ticks": ""
            },
            "type": "mesh3d"
           }
          ],
          "parcoords": [
           {
            "line": {
             "colorbar": {
              "outlinewidth": 0,
              "ticks": ""
             }
            },
            "type": "parcoords"
           }
          ],
          "pie": [
           {
            "automargin": true,
            "type": "pie"
           }
          ],
          "scatter": [
           {
            "marker": {
             "colorbar": {
              "outlinewidth": 0,
              "ticks": ""
             }
            },
            "type": "scatter"
           }
          ],
          "scatter3d": [
           {
            "line": {
             "colorbar": {
              "outlinewidth": 0,
              "ticks": ""
             }
            },
            "marker": {
             "colorbar": {
              "outlinewidth": 0,
              "ticks": ""
             }
            },
            "type": "scatter3d"
           }
          ],
          "scattercarpet": [
           {
            "marker": {
             "colorbar": {
              "outlinewidth": 0,
              "ticks": ""
             }
            },
            "type": "scattercarpet"
           }
          ],
          "scattergeo": [
           {
            "marker": {
             "colorbar": {
              "outlinewidth": 0,
              "ticks": ""
             }
            },
            "type": "scattergeo"
           }
          ],
          "scattergl": [
           {
            "marker": {
             "colorbar": {
              "outlinewidth": 0,
              "ticks": ""
             }
            },
            "type": "scattergl"
           }
          ],
          "scattermapbox": [
           {
            "marker": {
             "colorbar": {
              "outlinewidth": 0,
              "ticks": ""
             }
            },
            "type": "scattermapbox"
           }
          ],
          "scatterpolar": [
           {
            "marker": {
             "colorbar": {
              "outlinewidth": 0,
              "ticks": ""
             }
            },
            "type": "scatterpolar"
           }
          ],
          "scatterpolargl": [
           {
            "marker": {
             "colorbar": {
              "outlinewidth": 0,
              "ticks": ""
             }
            },
            "type": "scatterpolargl"
           }
          ],
          "scatterternary": [
           {
            "marker": {
             "colorbar": {
              "outlinewidth": 0,
              "ticks": ""
             }
            },
            "type": "scatterternary"
           }
          ],
          "surface": [
           {
            "colorbar": {
             "outlinewidth": 0,
             "ticks": ""
            },
            "colorscale": [
             [
              0,
              "#0d0887"
             ],
             [
              0.1111111111111111,
              "#46039f"
             ],
             [
              0.2222222222222222,
              "#7201a8"
             ],
             [
              0.3333333333333333,
              "#9c179e"
             ],
             [
              0.4444444444444444,
              "#bd3786"
             ],
             [
              0.5555555555555556,
              "#d8576b"
             ],
             [
              0.6666666666666666,
              "#ed7953"
             ],
             [
              0.7777777777777778,
              "#fb9f3a"
             ],
             [
              0.8888888888888888,
              "#fdca26"
             ],
             [
              1,
              "#f0f921"
             ]
            ],
            "type": "surface"
           }
          ],
          "table": [
           {
            "cells": {
             "fill": {
              "color": "#EBF0F8"
             },
             "line": {
              "color": "white"
             }
            },
            "header": {
             "fill": {
              "color": "#C8D4E3"
             },
             "line": {
              "color": "white"
             }
            },
            "type": "table"
           }
          ]
         },
         "layout": {
          "annotationdefaults": {
           "arrowcolor": "#2a3f5f",
           "arrowhead": 0,
           "arrowwidth": 1
          },
          "autotypenumbers": "strict",
          "coloraxis": {
           "colorbar": {
            "outlinewidth": 0,
            "ticks": ""
           }
          },
          "colorscale": {
           "diverging": [
            [
             0,
             "#8e0152"
            ],
            [
             0.1,
             "#c51b7d"
            ],
            [
             0.2,
             "#de77ae"
            ],
            [
             0.3,
             "#f1b6da"
            ],
            [
             0.4,
             "#fde0ef"
            ],
            [
             0.5,
             "#f7f7f7"
            ],
            [
             0.6,
             "#e6f5d0"
            ],
            [
             0.7,
             "#b8e186"
            ],
            [
             0.8,
             "#7fbc41"
            ],
            [
             0.9,
             "#4d9221"
            ],
            [
             1,
             "#276419"
            ]
           ],
           "sequential": [
            [
             0,
             "#0d0887"
            ],
            [
             0.1111111111111111,
             "#46039f"
            ],
            [
             0.2222222222222222,
             "#7201a8"
            ],
            [
             0.3333333333333333,
             "#9c179e"
            ],
            [
             0.4444444444444444,
             "#bd3786"
            ],
            [
             0.5555555555555556,
             "#d8576b"
            ],
            [
             0.6666666666666666,
             "#ed7953"
            ],
            [
             0.7777777777777778,
             "#fb9f3a"
            ],
            [
             0.8888888888888888,
             "#fdca26"
            ],
            [
             1,
             "#f0f921"
            ]
           ],
           "sequentialminus": [
            [
             0,
             "#0d0887"
            ],
            [
             0.1111111111111111,
             "#46039f"
            ],
            [
             0.2222222222222222,
             "#7201a8"
            ],
            [
             0.3333333333333333,
             "#9c179e"
            ],
            [
             0.4444444444444444,
             "#bd3786"
            ],
            [
             0.5555555555555556,
             "#d8576b"
            ],
            [
             0.6666666666666666,
             "#ed7953"
            ],
            [
             0.7777777777777778,
             "#fb9f3a"
            ],
            [
             0.8888888888888888,
             "#fdca26"
            ],
            [
             1,
             "#f0f921"
            ]
           ]
          },
          "colorway": [
           "#636efa",
           "#EF553B",
           "#00cc96",
           "#ab63fa",
           "#FFA15A",
           "#19d3f3",
           "#FF6692",
           "#B6E880",
           "#FF97FF",
           "#FECB52"
          ],
          "font": {
           "color": "#2a3f5f"
          },
          "geo": {
           "bgcolor": "white",
           "lakecolor": "white",
           "landcolor": "#E5ECF6",
           "showlakes": true,
           "showland": true,
           "subunitcolor": "white"
          },
          "hoverlabel": {
           "align": "left"
          },
          "hovermode": "closest",
          "mapbox": {
           "style": "light"
          },
          "paper_bgcolor": "white",
          "plot_bgcolor": "#E5ECF6",
          "polar": {
           "angularaxis": {
            "gridcolor": "white",
            "linecolor": "white",
            "ticks": ""
           },
           "bgcolor": "#E5ECF6",
           "radialaxis": {
            "gridcolor": "white",
            "linecolor": "white",
            "ticks": ""
           }
          },
          "scene": {
           "xaxis": {
            "backgroundcolor": "#E5ECF6",
            "gridcolor": "white",
            "gridwidth": 2,
            "linecolor": "white",
            "showbackground": true,
            "ticks": "",
            "zerolinecolor": "white"
           },
           "yaxis": {
            "backgroundcolor": "#E5ECF6",
            "gridcolor": "white",
            "gridwidth": 2,
            "linecolor": "white",
            "showbackground": true,
            "ticks": "",
            "zerolinecolor": "white"
           },
           "zaxis": {
            "backgroundcolor": "#E5ECF6",
            "gridcolor": "white",
            "gridwidth": 2,
            "linecolor": "white",
            "showbackground": true,
            "ticks": "",
            "zerolinecolor": "white"
           }
          },
          "shapedefaults": {
           "line": {
            "color": "#2a3f5f"
           }
          },
          "ternary": {
           "aaxis": {
            "gridcolor": "white",
            "linecolor": "white",
            "ticks": ""
           },
           "baxis": {
            "gridcolor": "white",
            "linecolor": "white",
            "ticks": ""
           },
           "bgcolor": "#E5ECF6",
           "caxis": {
            "gridcolor": "white",
            "linecolor": "white",
            "ticks": ""
           }
          },
          "title": {
           "x": 0.05
          },
          "xaxis": {
           "automargin": true,
           "gridcolor": "white",
           "linecolor": "white",
           "ticks": "",
           "title": {
            "standoff": 15
           },
           "zerolinecolor": "white",
           "zerolinewidth": 2
          },
          "yaxis": {
           "automargin": true,
           "gridcolor": "white",
           "linecolor": "white",
           "ticks": "",
           "title": {
            "standoff": 15
           },
           "zerolinecolor": "white",
           "zerolinewidth": 2
          }
         }
        },
        "xaxis": {
         "anchor": "y",
         "domain": [
          0,
          1
         ],
         "title": {
          "text": "channel_id"
         }
        },
        "yaxis": {
         "anchor": "x",
         "domain": [
          0,
          1
         ],
         "title": {
          "text": "video_id"
         }
        }
       }
      },
      "text/html": [
       "<div>                            <div id=\"19df33d5-1f89-467e-a7bc-79988a553472\" class=\"plotly-graph-div\" style=\"height:525px; width:100%;\"></div>            <script type=\"text/javascript\">                require([\"plotly\"], function(Plotly) {                    window.PLOTLYENV=window.PLOTLYENV || {};                                    if (document.getElementById(\"19df33d5-1f89-467e-a7bc-79988a553472\")) {                    Plotly.newPlot(                        \"19df33d5-1f89-467e-a7bc-79988a553472\",                        [{\"alignmentgroup\":\"True\",\"hovertemplate\":\"category_name=Autos & Vehicles<br>channel_id=%{x}<br>video_id=%{y}<extra></extra>\",\"legendgroup\":\"Autos & Vehicles\",\"marker\":{\"color\":\"#636efa\",\"pattern\":{\"shape\":\"\"}},\"name\":\"Autos & Vehicles\",\"offsetgroup\":\"Autos & Vehicles\",\"orientation\":\"v\",\"showlegend\":true,\"textposition\":\"auto\",\"x\":[\"CH-IBt8\",\"CHyF14S\",\"CHs2TmE\",\"CHrXkDA\",\"CHrOl7I\",\"CHkGHfa\",\"CHiubh7\",\"CHd5CdY\",\"CH_rBRr\",\"CHp0B9n\",\"CHWY41Q\",\"CHSkpiP\",\"CHPbxBh\",\"CHKnKi2\",\"CHH5U89\",\"CHDpnvN\",\"CH5f97D\",\"CH2xkO7\",\"CHYVZ6z\"],\"xaxis\":\"x\",\"y\":[1,1,1,2,3,1,3,2,1,1,1,1,3,1,2,2,2,2,1],\"yaxis\":\"y\",\"type\":\"bar\"},{\"alignmentgroup\":\"True\",\"hovertemplate\":\"category_name=Comedy<br>channel_id=%{x}<br>video_id=%{y}<extra></extra>\",\"legendgroup\":\"Comedy\",\"marker\":{\"color\":\"#EF553B\",\"pattern\":{\"shape\":\"\"}},\"name\":\"Comedy\",\"offsetgroup\":\"Comedy\",\"orientation\":\"v\",\"showlegend\":true,\"textposition\":\"auto\",\"x\":[\"CHghP93\",\"CHgBLs7\",\"CHg8U-Z\",\"CHg-p3l\",\"CH_gaUd\",\"CHe9f9M\",\"CHd-Sfb\",\"CHbGXAe\",\"CHhbE5O\",\"CHfU6o0\",\"CHhvXm5\",\"CHyCL5k\",\"CHmCNgL\",\"CHmHMsJ\",\"CHmzMtX\",\"CHoe_Vp\",\"CHqsPmf\",\"CHr9-Mp\",\"CHsJ6Ru\",\"CHt_UFh\",\"CHZ0dIs\",\"CHyh4ZG\",\"CHzjiRW\",\"CHivkx6\",\"CHYACix\",\"CHRykAt\",\"CHV3i3l\",\"CH0SoPw\",\"CH20WKI\",\"CH2o_y8\",\"CH69uMh\",\"CH6KwCU\",\"CHVsBCf\",\"CH9ZLv1\",\"CH9nFMA\",\"CHCjJV_\",\"CHD2YO_\",\"CHDCAyS\",\"CH8-Th8\",\"CHGX5sP\",\"CHIuFnJ\",\"CHJpGg1\",\"CHK3p1w\",\"CHMVC92\",\"CHN8CPz\",\"CHPwGQu\",\"CHQmu3U\",\"CHR-qpX\",\"CHSc2Dc\",\"CHEUL40\"],\"xaxis\":\"x\",\"y\":[2,5,1,10,1,4,1,1,11,1,3,9,1,1,14,1,5,1,2,5,9,1,2,1,1,5,2,3,4,1,1,3,2,4,5,1,1,1,3,7,4,1,2,1,3,2,1,5,7,5],\"yaxis\":\"y\",\"type\":\"bar\"},{\"alignmentgroup\":\"True\",\"hovertemplate\":\"category_name=Education<br>channel_id=%{x}<br>video_id=%{y}<extra></extra>\",\"legendgroup\":\"Education\",\"marker\":{\"color\":\"#00cc96\",\"pattern\":{\"shape\":\"\"}},\"name\":\"Education\",\"offsetgroup\":\"Education\",\"orientation\":\"v\",\"showlegend\":true,\"textposition\":\"auto\",\"x\":[\"CHcWXel\",\"CHgheNM\",\"CHicKQU\",\"CHjPqSb\",\"CHl7MKZ\",\"CHznImS\",\"CHnLO88\",\"CHnaGfD\",\"CHuh6Br\",\"CHvW8no\",\"CHZ4T91\",\"CHma37f\",\"CHPvwqh\",\"CHiV4_c\",\"CHMFk5S\",\"CHO0OSA\",\"CH-9RQC\",\"CH1-lwA\",\"CH5YHB-\",\"CH7F6UD\",\"CHBJs8l\",\"CH6xugt\",\"CHCt6iN\",\"CHD902z\",\"CHHpIHu\",\"CHJ7LVh\",\"CHBM86J\"],\"xaxis\":\"x\",\"y\":[1,1,10,1,7,1,1,3,7,3,1,1,1,1,1,1,1,2,1,4,3,2,2,2,3,3,1],\"yaxis\":\"y\",\"type\":\"bar\"},{\"alignmentgroup\":\"True\",\"hovertemplate\":\"category_name=Entertainment<br>channel_id=%{x}<br>video_id=%{y}<extra></extra>\",\"legendgroup\":\"Entertainment\",\"marker\":{\"color\":\"#ab63fa\",\"pattern\":{\"shape\":\"\"}},\"name\":\"Entertainment\",\"offsetgroup\":\"Entertainment\",\"orientation\":\"v\",\"showlegend\":true,\"textposition\":\"auto\",\"x\":[\"CHffY-g\",\"CHgZlBR\",\"CHg8U-Z\",\"CHg3Ydm\",\"CHfugxK\",\"CHfnMSb\",\"CHfela5\",\"CHe_oTY\",\"CHfWZns\",\"CHepUWU\",\"CHem8l1\",\"CHed3O-\",\"CHgeeQu\",\"CHeSHil\",\"CHe-gh0\",\"CHfdYUR\",\"CHgiO7K\",\"CHhgOgR\",\"CHhE5nZ\",\"CHjGoJb\",\"CHj28Fv\",\"CHj-dur\",\"CHiwQRG\",\"CHid83o\",\"CHiP6DC\",\"CHiEEF5\",\"CHgsffS\",\"CHiBr0b\",\"CHi9Sl8\",\"CHhqMfc\",\"CHhpiLQ\",\"CHdWgRS\",\"CHhY4PX\",\"CHhLGxP\",\"CHhK2Dh\",\"CHiBKp3\",\"CHdUlCa\",\"CHbY7nf\",\"CHchRZl\",\"CHZVD--\",\"CHZTPmB\",\"CHZECMC\",\"CHZCH_G\",\"CHYyLIl\",\"CHYtjW8\",\"CHYn09y\",\"CHZf4ZE\",\"CHYmo0H\",\"CHYeeEw\",\"CHYZv9v\",\"CHYSjF7\",\"CHYIxlZ\",\"CHYC3ZZ\",\"CHY2uWQ\",\"CHjToDB\",\"CHYgUhR\",\"CHclwLh\",\"CHZtpUg\",\"CH_Fxf0\",\"CHcTWmz\",\"CHcOYEm\",\"CHbuks6\",\"CHbs5PG\",\"CHbVRtq\",\"CHbEp_Z\",\"CHbD8Ep\",\"CH_6zPf\",\"CHbCr1d\",\"CHb-y7Y\",\"CHaZS_X\",\"CHaNGiz\",\"CHaKod3\",\"CHa56qk\",\"CH_plsx\",\"CH_pOKL\",\"CHb2wZp\",\"CHjkoqt\",\"CHsU2Rl\",\"CHk6bX-\",\"CHuTKrQ\",\"CHu9BCt\",\"CHtp1ok\",\"CHtkQiK\",\"CHtgggh\",\"CHtckgm\",\"CHtDcEb\",\"CHtCW8q\",\"CHseQwR\",\"CHXiyTP\",\"CHsRIHt\",\"CHsOW9T\",\"CHsNVs6\",\"CHsM07d\",\"CHs8R3n\",\"CHudezj\",\"CHuw1hx\",\"CHvAewW\",\"CHvScwM\",\"CHzt24f\",\"CHyozK5\",\"CHybzQL\",\"CHybPxZ\",\"CHy1fru\",\"CHy-swB\",\"CHy-NrX\",\"CHs1R9z\",\"CHxmBxN\",\"CHxQXvv\",\"CHxLc0z\",\"CHx6jsZ\",\"CHwx6n_\",\"CHweOkP\",\"CHwZTee\",\"CHwNVDl\",\"CHxjERP\",\"CHrnPse\",\"CHrjVVh\",\"CHriPmQ\",\"CHnNfsL\",\"CHnNNN_\",\"CHnLeqv\",\"CHmjNKt\",\"CHmgt7e\",\"CHmbGE7\",\"CHmONdw\",\"CHnx4Fi\",\"CHmApNd\",\"CHlzB2i\",\"CHl_tB4\",\"CHkxbPw\",\"CHkjXq1\",\"CHkbJc8\",\"CHkQCwn\",\"CHkPp7P\",\"CHm2PiW\",\"CHk5bhZ\",\"CHoCvTl\",\"CHoUDrz\",\"CHrhgVH\",\"CHrhH1d\",\"CHreX6A\",\"CHrSase\",\"CHrLUuZ\",\"CHr0ade\",\"CHqq-ov\",\"CHoQIdt\",\"CHqHP70\",\"CHpPXYy\",\"CHpK0ae\",\"CHpBkdV\",\"CHp0hYY\",\"CHod5V2\",\"CHoXoV4\",\"CHoW9qW\",\"CHpjm6R\",\"CHXaYpH\",\"CHXZx95\",\"CHWstBK\",\"CH9HNi_\",\"CH920m3\",\"CH8WoHU\",\"CH8RGSE\",\"CH8OUSY\",\"CH88r6m\",\"CH81Kll\",\"CH7QX2Y\",\"CH7Krez\",\"CH78PMQ\",\"CH73yn5\",\"CH6wiUw\",\"CH6erID\",\"CH68buD\",\"CH5zXl0\",\"CH9idb-\",\"CH9kUsu\",\"CH9nLq3\",\"CH9w-h_\",\"CHEX1cZ\",\"CHEIi7z\",\"CHEI4rb\",\"CHDih-8\",\"CHDhM2k\",\"CHDb1t5\",\"CHCfQK8\",\"CH5q0PI\",\"CHCCjbf\",\"CHBwCGr\",\"CHBpzJv\",\"CHBOs39\",\"CHBI8xZ\",\"CHB9e3p\",\"CHB-ogY\",\"CHAP8OK\",\"CHC1LvV\",\"CHEkcg9\",\"CH5bUcn\",\"CH5BMQO\",\"CH2-Lri\",\"CH1cWTE\",\"CH1LWEy\",\"CH1L79y\",\"CH1HHeT\",\"CH18g7g\",\"CH12YJZ\",\"CH1-lwA\",\"CH0VR2v\",\"CH0PsUG\",\"CH-giR4\",\"CH-VbFg\",\"CH-VOS6\",\"CH-Jblc\",\"CH-BqPA\",\"CH271vX\",\"CH2DHU9\",\"CH2DoAr\",\"CH2E-9A\",\"CH4qc3p\",\"CH4nEQI\",\"CH4LW3s\",\"CH4JAFO\",\"CH49ta0\",\"CH46BbE\",\"CH3m0s5\",\"CH5Ida8\",\"CH3W3kE\",\"CH3Ea2-\",\"CH35HKv\",\"CH2tfQf\",\"CH2qjHK\",\"CH2aMxQ\",\"CH2KEmF\",\"CH2IIBY\",\"CH3SyT4\",\"CHEwOn7\",\"CH3re3u\",\"CHF3UEV\",\"CHSQ55i\",\"CHSB5FO\",\"CHRWzK4\",\"CHRMA_N\",\"CHRLM0M\",\"CHR5cyf\",\"CHQNRHp\",\"CHQ2O-i\",\"CHPx-7A\",\"CHPde4g\",\"CHPKNKl\",\"CHPECLB\",\"CHOtCBu\",\"CHObJpv\",\"CHOJplh\",\"CHS_hnp\",\"CHT2X19\",\"CHTOUUd\",\"CHTQVIX\",\"CHExw7_\",\"CHWhiqH\",\"CHWYzc_\",\"CHWJg0Q\",\"CHVyhgR\",\"CHVXN28\",\"CHVWmCR\",\"CHOHM2N\",\"CHUyfkq\",\"CHUj6rr\",\"CHUXYT0\",\"CHU8MOm\",\"CHTuthm\",\"CHTnafh\",\"CHTmrCB\",\"CHTS3Lw\",\"CHUnSdg\",\"CHNl-TU\",\"CHOzWaj\",\"CHNIiH_\",\"CHIUfR-\",\"CHIA-LP\",\"CHI5WgF\",\"CHNQL3R\",\"CHHlSeJ\",\"CHHcDLO\",\"CHH1oRy\",\"CHGsJRp\",\"CHGrfaH\",\"CHGrAnV\",\"CHGnfBj\",\"CHGWhMp\",\"CHGMHKj\",\"CHG0Jec\",\"CHFg6o2\",\"CHFL1sC\",\"CHF8W68\",\"CHIY5oU\",\"CHIn1p2\",\"CHHzW_7\",\"CHIuteB\",\"CHNE1pY\",\"CHMtFAi\",\"CHMGn0N\",\"CHIueAL\",\"CHLynj-\",\"CHLtOnh\",\"CHLVwgJ\",\"CHM31rB\",\"CHLF1hN\",\"CHKxLXX\",\"CHKuwp5\",\"CHJmcPV\",\"CHKdfNL\",\"CHK3p1w\",\"CHK1sVu\",\"CHLKugl\"],\"xaxis\":\"x\",\"y\":[1,3,2,2,1,1,1,1,2,3,2,1,3,5,2,1,3,8,6,3,2,5,14,1,1,5,3,4,3,1,1,5,4,3,1,7,1,1,1,4,1,1,3,5,6,4,7,1,1,5,2,1,2,3,3,4,1,1,3,2,6,4,1,2,4,6,1,7,2,2,3,11,1,2,3,1,1,1,8,3,2,1,1,1,3,7,1,1,1,6,3,3,1,5,2,1,2,1,1,7,1,4,4,8,4,5,2,4,2,10,8,4,1,7,1,1,1,5,2,2,5,8,3,4,3,7,2,14,2,9,3,3,2,1,4,3,3,3,2,3,2,4,2,3,7,2,7,4,1,1,2,2,4,2,9,4,5,1,4,5,3,1,6,1,2,1,1,7,2,1,5,2,1,4,1,3,2,3,6,3,2,2,3,6,1,1,1,1,1,2,2,1,1,1,1,4,2,1,6,1,7,2,1,1,1,9,9,2,3,1,1,2,1,1,1,5,1,2,1,2,1,4,3,5,1,1,1,2,3,1,1,2,5,8,6,4,1,1,1,4,2,2,5,17,8,6,1,1,1,4,1,2,1,1,4,5,3,8,1,2,1,8,6,10,2,2,1,5,5,1,1,3,1,1,6,7,6,1,2,2,1,3,3,3,1,1,1,1,1,1,7,4,3,1,5,1,1,2,4,3,2,1,3,2,1,8,1,5,3,1,5,2],\"yaxis\":\"y\",\"type\":\"bar\"},{\"alignmentgroup\":\"True\",\"hovertemplate\":\"category_name=Film & Animation<br>channel_id=%{x}<br>video_id=%{y}<extra></extra>\",\"legendgroup\":\"Film & Animation\",\"marker\":{\"color\":\"#FFA15A\",\"pattern\":{\"shape\":\"\"}},\"name\":\"Film & Animation\",\"offsetgroup\":\"Film & Animation\",\"orientation\":\"v\",\"showlegend\":true,\"textposition\":\"auto\",\"x\":[\"CHgmmc5\",\"CHi-XI2\",\"CHlN3o2\",\"CHs0P4G\",\"CHszFjh\",\"CHxDsmO\",\"CHuRZ7_\",\"CHxlv4a\",\"CHym553\",\"CHdq61m\",\"CHz2Kbg\",\"CHuKKkB\",\"CHaT8jY\",\"CHRuSxV\",\"CHW0gUN\",\"CHY2wHB\",\"CH6q6s6\",\"CH6u3fo\",\"CHCcE8B\",\"CHFnuC4\",\"CH3zQwS\",\"CHHj3qb\",\"CHK9PdJ\",\"CHRI5Ze\",\"CHSB5FO\",\"CHUK4Yj\",\"CHH3mJ-\"],\"xaxis\":\"x\",\"y\":[2,5,1,1,13,1,1,1,1,1,4,1,2,10,1,1,3,7,1,1,1,3,2,1,3,5,1],\"yaxis\":\"y\",\"type\":\"bar\"},{\"alignmentgroup\":\"True\",\"hovertemplate\":\"category_name=Gaming<br>channel_id=%{x}<br>video_id=%{y}<extra></extra>\",\"legendgroup\":\"Gaming\",\"marker\":{\"color\":\"#19d3f3\",\"pattern\":{\"shape\":\"\"}},\"name\":\"Gaming\",\"offsetgroup\":\"Gaming\",\"orientation\":\"v\",\"showlegend\":true,\"textposition\":\"auto\",\"x\":[\"CHms8Ge\",\"CHeHFCf\",\"CHefUNE\",\"CHfycsf\",\"CHg7rkx\",\"CHj-6sZ\",\"CHlJspS\",\"CHmCNgL\",\"CHmMxEF\",\"CHnss3B\",\"CHta_NR\",\"CHooLkG\",\"CHoyaxd\",\"CHpDtPd\",\"CHpYaDy\",\"CHdrBnB\",\"CHuOUU4\",\"CHw1Dsw\",\"CHxM_h0\",\"CHyTB7U\",\"CHzgNzU\",\"CHom6Yh\",\"CHcum1r\",\"CHeudxd\",\"CHU_hKD\",\"CHY9pEH\",\"CH2NFRq\",\"CH31ypO\",\"CH48NSS\",\"CH8C0Yd\",\"CH8CIM3\",\"CH9_093\",\"CH9aEa6\",\"CHAOTbN\",\"CHBA9Xa\",\"CH9-LID\",\"CHBrb8H\",\"CHBUNoF\",\"CHOKQpm\",\"CHNzcxC\",\"CHMPM0h\",\"CHK3p1w\",\"CHSOeJW\",\"CHGIY_O\",\"CHDyc0_\",\"CHDBAVz\",\"CHHxKSi\"],\"xaxis\":\"x\",\"y\":[1,1,3,1,1,1,1,2,1,1,1,3,1,1,1,6,1,3,3,1,3,2,1,1,2,1,1,2,1,1,7,3,1,2,2,1,1,3,1,1,1,1,1,1,1,3,1],\"yaxis\":\"y\",\"type\":\"bar\"},{\"alignmentgroup\":\"True\",\"hovertemplate\":\"category_name=Howto & Style<br>channel_id=%{x}<br>video_id=%{y}<extra></extra>\",\"legendgroup\":\"Howto & Style\",\"marker\":{\"color\":\"#FF6692\",\"pattern\":{\"shape\":\"\"}},\"name\":\"Howto & Style\",\"offsetgroup\":\"Howto & Style\",\"orientation\":\"v\",\"showlegend\":true,\"textposition\":\"auto\",\"x\":[\"CHnekLi\",\"CHcTWmz\",\"CHd4Fmc\",\"CHiNS0K\",\"CHj8zZ1\",\"CHkxvX8\",\"CHn64fS\",\"CHnCyCL\",\"CHnZ8qy\",\"CHp94pz\",\"CHayVh6\",\"CHrpB5P\",\"CHrxSR4\",\"CHuFGPh\",\"CHvil4O\",\"CHxjZ0G\",\"CHy2WX3\",\"CHyn7ao\",\"CHz72_x\",\"CHzIOIS\",\"CHpg89Y\",\"CHZCvbW\",\"CH1g9Ja\",\"CHWrh9h\",\"CH1EEpE\",\"CH1UebY\",\"CHXGh59\",\"CH2DHU9\",\"CH2gasv\",\"CH5q0PI\",\"CH5xK2X\",\"CH6LBdA\",\"CH8wHwv\",\"CH2xkO7\",\"CHCG6BE\",\"CHBTytr\",\"CHWRb5Q\",\"CHVXx89\",\"CHLduRr\",\"CHWdmhZ\",\"CHKrhyP\",\"CHKm-cu\",\"CHIZ5rC\",\"CHL01un\"],\"xaxis\":\"x\",\"y\":[1,1,8,3,4,2,7,1,1,4,1,2,1,2,2,1,5,3,1,5,2,4,2,5,1,1,1,1,4,1,1,3,3,2,1,6,1,6,1,1,6,3,6,2],\"yaxis\":\"y\",\"type\":\"bar\"},{\"alignmentgroup\":\"True\",\"hovertemplate\":\"category_name=Music<br>channel_id=%{x}<br>video_id=%{y}<extra></extra>\",\"legendgroup\":\"Music\",\"marker\":{\"color\":\"#B6E880\",\"pattern\":{\"shape\":\"\"}},\"name\":\"Music\",\"offsetgroup\":\"Music\",\"orientation\":\"v\",\"showlegend\":true,\"textposition\":\"auto\",\"x\":[\"CHeQlMQ\",\"CHkYFO5\",\"CHkJ1rb\",\"CHk9Gmd\",\"CHk2E0d\",\"CHhu7d9\",\"CHhm_d4\",\"CHfkXDY\",\"CHe_56k\",\"CHeLPm9\",\"CHTEWSE\",\"CHdNMDR\",\"CHcVEkH\",\"CHcM_a-\",\"CHabon8\",\"CHaO6TY\",\"CHaEIlQ\",\"CH_pwIX\",\"CHYDmx2\",\"CHY7unn\",\"CHlYq3P\",\"CHe52oe\",\"CHmQdC1\",\"CHtCiO5\",\"CHo-E2l\",\"CHzxXBQ\",\"CHzgxx_\",\"CHzCedB\",\"CHyPwRg\",\"CHxOZuU\",\"CHwzCuK\",\"CHwgtOR\",\"CHwZMmI\",\"CHvolP1\",\"CHviI9l\",\"CHvNA_f\",\"CHuhAUM\",\"CHuKdaT\",\"CHRp-tG\",\"CHsXigG\",\"CHsVcse\",\"CHritGV\",\"CHq4isO\",\"CHpbTKp\",\"CHoRXPc\",\"CHoNq-k\",\"CHmTdAl\",\"CHRQ7Rw\",\"CHXIF1a\",\"CHPENYt\",\"CH9vrvN\",\"CH9LcN9\",\"CH9GtSL\",\"CH8qO5r\",\"CH7Qts0\",\"CH6tU41\",\"CH6nxfR\",\"CH6c5iD\",\"CH6TJkB\",\"CH66yQ1\",\"CHACsUr\",\"CH4htMX\",\"CH3QWks\",\"CH3IZKs\",\"CH3-ec2\",\"CH2TjEZ\",\"CH2KmG_\",\"CH0D7tP\",\"CH-qYkz\",\"CH-jHB5\",\"CH-IG_h\",\"CH-FQUI\",\"CHR5cyf\",\"CHACvSk\",\"CH3WZlO\",\"CHAq0pF\",\"CHAkWpy\",\"CHNk_Ik\",\"CHMIUx2\",\"CHLkAep\",\"CHKNZsA\",\"CHIcXK1\",\"CHI3Z79\",\"CHHX_FN\",\"CHHGJwr\",\"CHGrAnV\",\"CHJVA-s\",\"CHG1kwS\",\"CHFipx4\",\"CHFEVXX\",\"CHEf_Bc\",\"CHEdZAd\",\"CHEbRSm\",\"CHEUX9t\",\"CHDPM_n\",\"CHCEi5r\",\"CHGdZ_-\",\"CHArTAX\"],\"xaxis\":\"x\",\"y\":[1,1,3,2,3,1,1,8,1,6,1,2,1,1,6,8,1,2,2,1,2,5,2,8,1,1,1,9,3,1,1,3,1,1,7,1,3,4,1,2,1,1,1,2,5,1,1,3,1,2,2,1,8,1,1,1,3,1,1,3,1,1,1,8,1,1,2,1,2,1,1,3,1,1,5,1,1,1,1,13,1,3,1,1,3,1,1,1,2,1,11,1,6,1,1,1,1,1],\"yaxis\":\"y\",\"type\":\"bar\"},{\"alignmentgroup\":\"True\",\"hovertemplate\":\"category_name=News & Politics<br>channel_id=%{x}<br>video_id=%{y}<extra></extra>\",\"legendgroup\":\"News & Politics\",\"marker\":{\"color\":\"#FF97FF\",\"pattern\":{\"shape\":\"\"}},\"name\":\"News & Politics\",\"offsetgroup\":\"News & Politics\",\"orientation\":\"v\",\"showlegend\":true,\"textposition\":\"auto\",\"x\":[\"CHfq4V1\",\"CHeFUGS\",\"CHcQTRi\",\"CHbMjg2\",\"CHawCv9\",\"CHWlV3L\",\"CHZQj9d\",\"CHYRrUD\",\"CHWskYk\",\"CHTTmtS\",\"CHhlgI3\",\"CH_U34U\",\"CHizGMt\",\"CHwRljh\",\"CHjg8Yu\",\"CHkinYT\",\"CHliLFb\",\"CHnfwIK\",\"CHomhAm\",\"CHoxT1k\",\"CHsU-I-\",\"CHu35od\",\"CHwCrPg\",\"CHy-6oZ\",\"CHzz58-\",\"CHTHCOP\",\"CHj3_t5\",\"CHQabOR\",\"CHAySce\",\"CHPTy0B\",\"CHPfxQo\",\"CH-0C8y\",\"CH0imOR\",\"CH1aS5C\",\"CH2fNt6\",\"CH5GZQW\",\"CH7cF2Z\",\"CH88r6m\",\"CH8d0Zg\",\"CH9thBC\",\"CHF4Wxd\",\"CHF8AeL\",\"CH4Aa3O\",\"CHGCGxs\",\"CHG9aFJ\",\"CHMGn0N\",\"CHMEbRp\",\"CHMLJc_\",\"CHKhcMX\",\"CHIipmg\",\"CHLKugl\",\"CHIIpmD\",\"CHIDOGT\",\"CHHBvfB\",\"CHH3mJ-\",\"CHIMOyt\"],\"xaxis\":\"x\",\"y\":[4,1,6,1,2,2,1,3,1,1,8,6,3,2,1,6,1,2,1,3,11,1,1,2,2,3,5,4,6,3,1,7,3,3,1,1,1,1,3,1,9,2,1,1,4,2,7,2,1,1,1,1,4,6,4,1],\"yaxis\":\"y\",\"type\":\"bar\"},{\"alignmentgroup\":\"True\",\"hovertemplate\":\"category_name=Nonprofits & Activism<br>channel_id=%{x}<br>video_id=%{y}<extra></extra>\",\"legendgroup\":\"Nonprofits & Activism\",\"marker\":{\"color\":\"#FECB52\",\"pattern\":{\"shape\":\"\"}},\"name\":\"Nonprofits & Activism\",\"offsetgroup\":\"Nonprofits & Activism\",\"orientation\":\"v\",\"showlegend\":true,\"textposition\":\"auto\",\"x\":[\"CHSsWdU\"],\"xaxis\":\"x\",\"y\":[1],\"yaxis\":\"y\",\"type\":\"bar\"},{\"alignmentgroup\":\"True\",\"hovertemplate\":\"category_name=People & Blogs<br>channel_id=%{x}<br>video_id=%{y}<extra></extra>\",\"legendgroup\":\"People & Blogs\",\"marker\":{\"color\":\"#636efa\",\"pattern\":{\"shape\":\"\"}},\"name\":\"People & Blogs\",\"offsetgroup\":\"People & Blogs\",\"orientation\":\"v\",\"showlegend\":true,\"textposition\":\"auto\",\"x\":[\"CHfpaSr\",\"CHemKWU\",\"CHzhyI5\",\"CHfqVrM\",\"CHh-1iA\",\"CHhK2Dh\",\"CHheR9R\",\"CHjn-Vb\",\"CHhna8l\",\"CHhtdyq\",\"CHiMq04\",\"CHicKQU\",\"CHjHn_O\",\"CHjpCOk\",\"CHelPbn\",\"CHkJNt3\",\"CHhji-o\",\"CHdfhK0\",\"CH_EngQ\",\"CHd1TDy\",\"CHXXlcP\",\"CHYDyvq\",\"CHYnfy2\",\"CHYt4St\",\"CHZ1wYQ\",\"CHZwG8g\",\"CHkh6Tl\",\"CH_Fq5K\",\"CHdQk6g\",\"CHaPILm\",\"CHaZS_X\",\"CHa_ZCX\",\"CHbFzvz\",\"CHb_-Xu\",\"CHbzDJ6\",\"CHc7een\",\"CHcQ3rs\",\"CHcxK1U\",\"CHaPqda\",\"CHkkWd0\",\"CHqsPmf\",\"CHl-tyx\",\"CHtkRVa\",\"CHtn-l7\",\"CHu38Cq\",\"CHuDLnJ\",\"CHuZu8N\",\"CHv0QY4\",\"CHvG7co\",\"CHvjhQp\",\"CHwW_qU\",\"CHx_kYu\",\"CHyG7zA\",\"CHychoc\",\"CHyje3j\",\"CHyn-K7\",\"CHyuL_X\",\"CHzRDCw\",\"CHXURHJ\",\"CHtfriF\",\"CHtfGLm\",\"CHtctOX\",\"CHsP57H\",\"CHlSUMM\",\"CHld0ct\",\"CHmfVvm\",\"CHmt37g\",\"CHnet0I\",\"CHoLQZ4\",\"CHoPTIa\",\"CHoQy2w\",\"CHknfGX\",\"CHpH3rU\",\"CHqNN-b\",\"CHrFlv9\",\"CHrIxxm\",\"CHrLQ0o\",\"CHrRn4V\",\"CHrh6bu\",\"CHs29NQ\",\"CHs9H--\",\"CHppou5\",\"CHXTyJZ\",\"CHKkxVS\",\"CHWycwu\",\"CH4MfUq\",\"CH4sIlW\",\"CH5QSBl\",\"CH5RION\",\"CH680xb\",\"CH6lNIb\",\"CH7Krez\",\"CH7bRo3\",\"CH8MVMe\",\"CH9G7V6\",\"CH9gxOp\",\"CHA6KBB\",\"CHASfMq\",\"CHBHJlM\",\"CHBkXIe\",\"CHBoQ8_\",\"CHC4Qcw\",\"CH4DnB5\",\"CHCJ2b2\",\"CH48NSS\",\"CH31-nU\",\"CHXTQWs\",\"CH-Bsa2\",\"CH-KafR\",\"CH-YRx5\",\"CH-swYD\",\"CH0PsUG\",\"CH0ssa8\",\"CH0wNau\",\"CH0wTMg\",\"CH1EiHI\",\"CH1GHhg\",\"CH26M8b\",\"CH26QQC\",\"CH2KUew\",\"CH2Q9aM\",\"CH2XG0i\",\"CH2tbZf\",\"CH47HAk\",\"CHD2KRO\",\"CHAhKKb\",\"CHE8SAl\",\"CHONPqk\",\"CHOOKj-\",\"CHPZ4e8\",\"CHDV9zg\",\"CHQTqoE\",\"CHQWylD\",\"CHRofX4\",\"CHRzS1N\",\"CHSiGNr\",\"CHTx3aC\",\"CHUWU2s\",\"CHUsoow\",\"CHUyr50\",\"CHVyMrl\",\"CHW945U\",\"CHW9DtK\",\"CHWqWR1\",\"CHNYi_z\",\"CHNBfRy\",\"CHPhHBE\",\"CHLJNGm\",\"CHET3I7\",\"CHEu_YK\",\"CHF8W68\",\"CHM64Ik\",\"CHGInHR\",\"CHGiqkg\",\"CHH7JoV\",\"CHHR4kW\",\"CHFLlNL\",\"CHJfDSu\",\"CHJko7d\",\"CHK72hq\",\"CHKFvox\",\"CHKUz_7\",\"CHKmQlV\",\"CHL-AUQ\",\"CHIG4gr\",\"CHLItMt\"],\"xaxis\":\"x\",\"y\":[10,1,1,3,2,3,2,1,1,1,1,1,1,2,1,1,1,2,2,2,3,1,7,3,10,1,3,1,1,1,4,1,6,1,1,1,1,2,1,10,2,1,8,2,2,5,1,1,1,1,2,1,3,3,1,1,1,4,3,13,1,1,4,1,2,1,2,2,2,4,9,1,8,4,3,1,2,3,3,1,4,5,8,1,1,4,4,2,2,4,4,1,1,1,1,1,4,4,1,2,2,1,3,1,2,4,4,2,1,1,1,1,2,2,1,3,1,2,4,3,1,1,1,1,2,2,2,3,4,4,8,1,1,3,6,3,1,1,1,4,1,1,1,1,1,3,2,2,2,1,1,2,1,1,1,3,1,1,1,4,4,4,1,1,14,1],\"yaxis\":\"y\",\"type\":\"bar\"},{\"alignmentgroup\":\"True\",\"hovertemplate\":\"category_name=Pets & Animals<br>channel_id=%{x}<br>video_id=%{y}<extra></extra>\",\"legendgroup\":\"Pets & Animals\",\"marker\":{\"color\":\"#EF553B\",\"pattern\":{\"shape\":\"\"}},\"name\":\"Pets & Animals\",\"offsetgroup\":\"Pets & Animals\",\"orientation\":\"v\",\"showlegend\":true,\"textposition\":\"auto\",\"x\":[\"CHP1CQH\",\"CHPTM-N\",\"CHX2laR\",\"CHa2LU4\",\"CHd1TDy\",\"CHkuA_g\",\"CHi_IoQ\",\"CHj-rqv\",\"CHtbOb9\",\"CHzjDgV\",\"CHOv1v2\",\"CHgsgpE\",\"CHOp66V\",\"CHf0Mkc\",\"CHHXnna\",\"CHHgL0B\",\"CH-IYpd\",\"CH22go5\",\"CH29-Il\",\"CH3PSZi\",\"CH04-af\",\"CH69l_r\",\"CH89A41\",\"CHAhKKb\",\"CHETBLy\",\"CHHLDBh\",\"CH5AAf4\"],\"xaxis\":\"x\",\"y\":[1,3,1,1,1,3,4,1,1,1,3,4,4,1,2,1,1,4,6,3,1,5,2,5,2,3,1],\"yaxis\":\"y\",\"type\":\"bar\"},{\"alignmentgroup\":\"True\",\"hovertemplate\":\"category_name=Science & Technology<br>channel_id=%{x}<br>video_id=%{y}<extra></extra>\",\"legendgroup\":\"Science & Technology\",\"marker\":{\"color\":\"#00cc96\",\"pattern\":{\"shape\":\"\"}},\"name\":\"Science & Technology\",\"offsetgroup\":\"Science & Technology\",\"orientation\":\"v\",\"showlegend\":true,\"textposition\":\"auto\",\"x\":[\"CHWnC1r\",\"CHj-MI9\",\"CHdpbqw\",\"CHdUcjk\",\"CHb-Abq\",\"CH_0oo0\",\"CHYAvG7\",\"CHWwgaK\",\"CHUkuuo\",\"CHrBpV_\",\"CHJiv3w\",\"CHJKZoV\",\"CHJJ_n7\",\"CHIk1-y\",\"CHFX6ad\",\"CHE_M8A\",\"CHB11SA\",\"CH5aNQ6\",\"CH3dJKw\",\"CHO4RG1\"],\"xaxis\":\"x\",\"y\":[1,1,1,7,1,2,1,1,2,1,1,1,3,2,2,2,2,1,3,1],\"yaxis\":\"y\",\"type\":\"bar\"},{\"alignmentgroup\":\"True\",\"hovertemplate\":\"category_name=Sports<br>channel_id=%{x}<br>video_id=%{y}<extra></extra>\",\"legendgroup\":\"Sports\",\"marker\":{\"color\":\"#ab63fa\",\"pattern\":{\"shape\":\"\"}},\"name\":\"Sports\",\"offsetgroup\":\"Sports\",\"orientation\":\"v\",\"showlegend\":true,\"textposition\":\"auto\",\"x\":[\"CHhb4gt\",\"CHhI3EX\",\"CHh4APi\",\"CHvMwK5\",\"CHgp0KT\",\"CHgIArN\",\"CHdTDdy\",\"CHdtRAc\",\"CHdhukF\",\"CHhg51l\",\"CHcQTRi\",\"CHc7o0O\",\"CHbhuEJ\",\"CHfHsXd\",\"CHi84e1\",\"CHnXNuk\",\"CHkFGfv\",\"CHZeHMS\",\"CHunsfa\",\"CHtybqq\",\"CHtm_Qo\",\"CHtctOX\",\"CHt8iRt\",\"CHk4XjB\",\"CHt7dVd\",\"CHpjOmw\",\"CHoe-0E\",\"CHoLrcj\",\"CHoHirU\",\"CHn9mJ4\",\"CHmKTwX\",\"CHqsKWT\",\"CHZSNhO\",\"CHP6Cn6\",\"CHYJDUe\",\"CH218FQ\",\"CH2qVOO\",\"CH3GEDF\",\"CH4_uws\",\"CH4yq3F\",\"CH7JbUm\",\"CH7YF5m\",\"CH9LQwH\",\"CH9pdRy\",\"CHArK9M\",\"CHYRrUD\",\"CHCA4-e\",\"CHChcWq\",\"CHD902z\",\"CHDIB1D\",\"CHBKMc4\",\"CHEg25r\",\"CHX0xc2\",\"CHET00Y\",\"CHUQVGX\",\"CHTv-Xv\",\"CHTqenv\",\"CHRDowc\",\"CHUXDKi\",\"CHQ2TX8\",\"CHPxCAB\",\"CHKHLAo\",\"CHINRJx\",\"CHI0FxD\",\"CHG-Q7s\",\"CHQ4eZw\"],\"xaxis\":\"x\",\"y\":[5,2,2,2,6,1,7,6,5,7,4,4,1,2,1,7,6,3,9,15,12,2,1,6,1,7,5,6,2,2,1,5,1,1,1,4,7,1,1,1,2,1,1,1,6,8,2,1,1,5,1,3,1,1,10,1,1,2,1,2,1,1,1,1,1,4],\"yaxis\":\"y\",\"type\":\"bar\"},{\"alignmentgroup\":\"True\",\"hovertemplate\":\"category_name=Travel & Events<br>channel_id=%{x}<br>video_id=%{y}<extra></extra>\",\"legendgroup\":\"Travel & Events\",\"marker\":{\"color\":\"#FFA15A\",\"pattern\":{\"shape\":\"\"}},\"name\":\"Travel & Events\",\"offsetgroup\":\"Travel & Events\",\"orientation\":\"v\",\"showlegend\":true,\"textposition\":\"auto\",\"x\":[\"CHa0aTy\",\"CHPll9Z\",\"CHPDdt9\",\"CHMZO-3\",\"CH673sG\",\"CHFCtZJ\",\"CH4KYnI\",\"CHlRNDV\",\"CHFw4M1\",\"CHsLoTw\"],\"xaxis\":\"x\",\"y\":[2,2,2,1,1,2,2,7,3,1],\"yaxis\":\"y\",\"type\":\"bar\"}],                        {\"template\":{\"data\":{\"bar\":[{\"error_x\":{\"color\":\"#2a3f5f\"},\"error_y\":{\"color\":\"#2a3f5f\"},\"marker\":{\"line\":{\"color\":\"#E5ECF6\",\"width\":0.5},\"pattern\":{\"fillmode\":\"overlay\",\"size\":10,\"solidity\":0.2}},\"type\":\"bar\"}],\"barpolar\":[{\"marker\":{\"line\":{\"color\":\"#E5ECF6\",\"width\":0.5},\"pattern\":{\"fillmode\":\"overlay\",\"size\":10,\"solidity\":0.2}},\"type\":\"barpolar\"}],\"carpet\":[{\"aaxis\":{\"endlinecolor\":\"#2a3f5f\",\"gridcolor\":\"white\",\"linecolor\":\"white\",\"minorgridcolor\":\"white\",\"startlinecolor\":\"#2a3f5f\"},\"baxis\":{\"endlinecolor\":\"#2a3f5f\",\"gridcolor\":\"white\",\"linecolor\":\"white\",\"minorgridcolor\":\"white\",\"startlinecolor\":\"#2a3f5f\"},\"type\":\"carpet\"}],\"choropleth\":[{\"colorbar\":{\"outlinewidth\":0,\"ticks\":\"\"},\"type\":\"choropleth\"}],\"contour\":[{\"colorbar\":{\"outlinewidth\":0,\"ticks\":\"\"},\"colorscale\":[[0.0,\"#0d0887\"],[0.1111111111111111,\"#46039f\"],[0.2222222222222222,\"#7201a8\"],[0.3333333333333333,\"#9c179e\"],[0.4444444444444444,\"#bd3786\"],[0.5555555555555556,\"#d8576b\"],[0.6666666666666666,\"#ed7953\"],[0.7777777777777778,\"#fb9f3a\"],[0.8888888888888888,\"#fdca26\"],[1.0,\"#f0f921\"]],\"type\":\"contour\"}],\"contourcarpet\":[{\"colorbar\":{\"outlinewidth\":0,\"ticks\":\"\"},\"type\":\"contourcarpet\"}],\"heatmap\":[{\"colorbar\":{\"outlinewidth\":0,\"ticks\":\"\"},\"colorscale\":[[0.0,\"#0d0887\"],[0.1111111111111111,\"#46039f\"],[0.2222222222222222,\"#7201a8\"],[0.3333333333333333,\"#9c179e\"],[0.4444444444444444,\"#bd3786\"],[0.5555555555555556,\"#d8576b\"],[0.6666666666666666,\"#ed7953\"],[0.7777777777777778,\"#fb9f3a\"],[0.8888888888888888,\"#fdca26\"],[1.0,\"#f0f921\"]],\"type\":\"heatmap\"}],\"heatmapgl\":[{\"colorbar\":{\"outlinewidth\":0,\"ticks\":\"\"},\"colorscale\":[[0.0,\"#0d0887\"],[0.1111111111111111,\"#46039f\"],[0.2222222222222222,\"#7201a8\"],[0.3333333333333333,\"#9c179e\"],[0.4444444444444444,\"#bd3786\"],[0.5555555555555556,\"#d8576b\"],[0.6666666666666666,\"#ed7953\"],[0.7777777777777778,\"#fb9f3a\"],[0.8888888888888888,\"#fdca26\"],[1.0,\"#f0f921\"]],\"type\":\"heatmapgl\"}],\"histogram\":[{\"marker\":{\"pattern\":{\"fillmode\":\"overlay\",\"size\":10,\"solidity\":0.2}},\"type\":\"histogram\"}],\"histogram2d\":[{\"colorbar\":{\"outlinewidth\":0,\"ticks\":\"\"},\"colorscale\":[[0.0,\"#0d0887\"],[0.1111111111111111,\"#46039f\"],[0.2222222222222222,\"#7201a8\"],[0.3333333333333333,\"#9c179e\"],[0.4444444444444444,\"#bd3786\"],[0.5555555555555556,\"#d8576b\"],[0.6666666666666666,\"#ed7953\"],[0.7777777777777778,\"#fb9f3a\"],[0.8888888888888888,\"#fdca26\"],[1.0,\"#f0f921\"]],\"type\":\"histogram2d\"}],\"histogram2dcontour\":[{\"colorbar\":{\"outlinewidth\":0,\"ticks\":\"\"},\"colorscale\":[[0.0,\"#0d0887\"],[0.1111111111111111,\"#46039f\"],[0.2222222222222222,\"#7201a8\"],[0.3333333333333333,\"#9c179e\"],[0.4444444444444444,\"#bd3786\"],[0.5555555555555556,\"#d8576b\"],[0.6666666666666666,\"#ed7953\"],[0.7777777777777778,\"#fb9f3a\"],[0.8888888888888888,\"#fdca26\"],[1.0,\"#f0f921\"]],\"type\":\"histogram2dcontour\"}],\"mesh3d\":[{\"colorbar\":{\"outlinewidth\":0,\"ticks\":\"\"},\"type\":\"mesh3d\"}],\"parcoords\":[{\"line\":{\"colorbar\":{\"outlinewidth\":0,\"ticks\":\"\"}},\"type\":\"parcoords\"}],\"pie\":[{\"automargin\":true,\"type\":\"pie\"}],\"scatter\":[{\"marker\":{\"colorbar\":{\"outlinewidth\":0,\"ticks\":\"\"}},\"type\":\"scatter\"}],\"scatter3d\":[{\"line\":{\"colorbar\":{\"outlinewidth\":0,\"ticks\":\"\"}},\"marker\":{\"colorbar\":{\"outlinewidth\":0,\"ticks\":\"\"}},\"type\":\"scatter3d\"}],\"scattercarpet\":[{\"marker\":{\"colorbar\":{\"outlinewidth\":0,\"ticks\":\"\"}},\"type\":\"scattercarpet\"}],\"scattergeo\":[{\"marker\":{\"colorbar\":{\"outlinewidth\":0,\"ticks\":\"\"}},\"type\":\"scattergeo\"}],\"scattergl\":[{\"marker\":{\"colorbar\":{\"outlinewidth\":0,\"ticks\":\"\"}},\"type\":\"scattergl\"}],\"scattermapbox\":[{\"marker\":{\"colorbar\":{\"outlinewidth\":0,\"ticks\":\"\"}},\"type\":\"scattermapbox\"}],\"scatterpolar\":[{\"marker\":{\"colorbar\":{\"outlinewidth\":0,\"ticks\":\"\"}},\"type\":\"scatterpolar\"}],\"scatterpolargl\":[{\"marker\":{\"colorbar\":{\"outlinewidth\":0,\"ticks\":\"\"}},\"type\":\"scatterpolargl\"}],\"scatterternary\":[{\"marker\":{\"colorbar\":{\"outlinewidth\":0,\"ticks\":\"\"}},\"type\":\"scatterternary\"}],\"surface\":[{\"colorbar\":{\"outlinewidth\":0,\"ticks\":\"\"},\"colorscale\":[[0.0,\"#0d0887\"],[0.1111111111111111,\"#46039f\"],[0.2222222222222222,\"#7201a8\"],[0.3333333333333333,\"#9c179e\"],[0.4444444444444444,\"#bd3786\"],[0.5555555555555556,\"#d8576b\"],[0.6666666666666666,\"#ed7953\"],[0.7777777777777778,\"#fb9f3a\"],[0.8888888888888888,\"#fdca26\"],[1.0,\"#f0f921\"]],\"type\":\"surface\"}],\"table\":[{\"cells\":{\"fill\":{\"color\":\"#EBF0F8\"},\"line\":{\"color\":\"white\"}},\"header\":{\"fill\":{\"color\":\"#C8D4E3\"},\"line\":{\"color\":\"white\"}},\"type\":\"table\"}]},\"layout\":{\"annotationdefaults\":{\"arrowcolor\":\"#2a3f5f\",\"arrowhead\":0,\"arrowwidth\":1},\"autotypenumbers\":\"strict\",\"coloraxis\":{\"colorbar\":{\"outlinewidth\":0,\"ticks\":\"\"}},\"colorscale\":{\"diverging\":[[0,\"#8e0152\"],[0.1,\"#c51b7d\"],[0.2,\"#de77ae\"],[0.3,\"#f1b6da\"],[0.4,\"#fde0ef\"],[0.5,\"#f7f7f7\"],[0.6,\"#e6f5d0\"],[0.7,\"#b8e186\"],[0.8,\"#7fbc41\"],[0.9,\"#4d9221\"],[1,\"#276419\"]],\"sequential\":[[0.0,\"#0d0887\"],[0.1111111111111111,\"#46039f\"],[0.2222222222222222,\"#7201a8\"],[0.3333333333333333,\"#9c179e\"],[0.4444444444444444,\"#bd3786\"],[0.5555555555555556,\"#d8576b\"],[0.6666666666666666,\"#ed7953\"],[0.7777777777777778,\"#fb9f3a\"],[0.8888888888888888,\"#fdca26\"],[1.0,\"#f0f921\"]],\"sequentialminus\":[[0.0,\"#0d0887\"],[0.1111111111111111,\"#46039f\"],[0.2222222222222222,\"#7201a8\"],[0.3333333333333333,\"#9c179e\"],[0.4444444444444444,\"#bd3786\"],[0.5555555555555556,\"#d8576b\"],[0.6666666666666666,\"#ed7953\"],[0.7777777777777778,\"#fb9f3a\"],[0.8888888888888888,\"#fdca26\"],[1.0,\"#f0f921\"]]},\"colorway\":[\"#636efa\",\"#EF553B\",\"#00cc96\",\"#ab63fa\",\"#FFA15A\",\"#19d3f3\",\"#FF6692\",\"#B6E880\",\"#FF97FF\",\"#FECB52\"],\"font\":{\"color\":\"#2a3f5f\"},\"geo\":{\"bgcolor\":\"white\",\"lakecolor\":\"white\",\"landcolor\":\"#E5ECF6\",\"showlakes\":true,\"showland\":true,\"subunitcolor\":\"white\"},\"hoverlabel\":{\"align\":\"left\"},\"hovermode\":\"closest\",\"mapbox\":{\"style\":\"light\"},\"paper_bgcolor\":\"white\",\"plot_bgcolor\":\"#E5ECF6\",\"polar\":{\"angularaxis\":{\"gridcolor\":\"white\",\"linecolor\":\"white\",\"ticks\":\"\"},\"bgcolor\":\"#E5ECF6\",\"radialaxis\":{\"gridcolor\":\"white\",\"linecolor\":\"white\",\"ticks\":\"\"}},\"scene\":{\"xaxis\":{\"backgroundcolor\":\"#E5ECF6\",\"gridcolor\":\"white\",\"gridwidth\":2,\"linecolor\":\"white\",\"showbackground\":true,\"ticks\":\"\",\"zerolinecolor\":\"white\"},\"yaxis\":{\"backgroundcolor\":\"#E5ECF6\",\"gridcolor\":\"white\",\"gridwidth\":2,\"linecolor\":\"white\",\"showbackground\":true,\"ticks\":\"\",\"zerolinecolor\":\"white\"},\"zaxis\":{\"backgroundcolor\":\"#E5ECF6\",\"gridcolor\":\"white\",\"gridwidth\":2,\"linecolor\":\"white\",\"showbackground\":true,\"ticks\":\"\",\"zerolinecolor\":\"white\"}},\"shapedefaults\":{\"line\":{\"color\":\"#2a3f5f\"}},\"ternary\":{\"aaxis\":{\"gridcolor\":\"white\",\"linecolor\":\"white\",\"ticks\":\"\"},\"baxis\":{\"gridcolor\":\"white\",\"linecolor\":\"white\",\"ticks\":\"\"},\"bgcolor\":\"#E5ECF6\",\"caxis\":{\"gridcolor\":\"white\",\"linecolor\":\"white\",\"ticks\":\"\"}},\"title\":{\"x\":0.05},\"xaxis\":{\"automargin\":true,\"gridcolor\":\"white\",\"linecolor\":\"white\",\"ticks\":\"\",\"title\":{\"standoff\":15},\"zerolinecolor\":\"white\",\"zerolinewidth\":2},\"yaxis\":{\"automargin\":true,\"gridcolor\":\"white\",\"linecolor\":\"white\",\"ticks\":\"\",\"title\":{\"standoff\":15},\"zerolinecolor\":\"white\",\"zerolinewidth\":2}}},\"xaxis\":{\"anchor\":\"y\",\"domain\":[0.0,1.0],\"title\":{\"text\":\"channel_id\"}},\"yaxis\":{\"anchor\":\"x\",\"domain\":[0.0,1.0],\"title\":{\"text\":\"video_id\"}},\"legend\":{\"title\":{\"text\":\"category_name\"},\"tracegroupgap\":0},\"margin\":{\"t\":60},\"barmode\":\"stack\"},                        {\"responsive\": true}                    ).then(function(){\n",
       "                            \n",
       "var gd = document.getElementById('19df33d5-1f89-467e-a7bc-79988a553472');\n",
       "var x = new MutationObserver(function (mutations, observer) {{\n",
       "        var display = window.getComputedStyle(gd).display;\n",
       "        if (!display || display === 'none') {{\n",
       "            console.log([gd, 'removed!']);\n",
       "            Plotly.purge(gd);\n",
       "            observer.disconnect();\n",
       "        }}\n",
       "}});\n",
       "\n",
       "// Listen for the removal of the full notebook cells\n",
       "var notebookContainer = gd.closest('#notebook-container');\n",
       "if (notebookContainer) {{\n",
       "    x.observe(notebookContainer, {childList: true});\n",
       "}}\n",
       "\n",
       "// Listen for the clearing of the current output cell\n",
       "var outputEl = gd.closest('.output');\n",
       "if (outputEl) {{\n",
       "    x.observe(outputEl, {childList: true});\n",
       "}}\n",
       "\n",
       "                        })                };                });            </script>        </div>"
      ]
     },
     "metadata": {},
     "output_type": "display_data"
    }
   ],
   "source": [
    "import plotly.express as px\n",
    "\n",
    "fig = px.bar(q1_1, y='video_id',x='channel_id' ,color='category_name',orientation='v',barmode='stack')\n",
    "fig.show()"
   ]
  },
  {
   "cell_type": "code",
   "execution_count": 36,
   "metadata": {},
   "outputs": [
    {
     "data": {
      "application/vnd.plotly.v1+json": {
       "config": {
        "plotlyServerURL": "https://plot.ly"
       },
       "data": [
        {
         "alignmentgroup": "True",
         "hovertemplate": "category_name=Sports<br>year_month=2021-06<br>channel_id=%{x}<br>video_id=%{y}<extra></extra>",
         "legendgroup": "Sports",
         "marker": {
          "color": "#636efa",
          "pattern": {
           "shape": ""
          }
         },
         "name": "Sports",
         "offsetgroup": "Sports",
         "orientation": "v",
         "showlegend": true,
         "textposition": "auto",
         "type": "bar",
         "x": [
          "CHtybqq",
          "CHpjOmw",
          "CHdtRAc",
          "CH218FQ",
          "CHdhukF",
          "CHdTDdy",
          "CHQ4eZw",
          "CHUQVGX",
          "CHtctOX",
          "CHoe-0E",
          "CHqsKWT",
          "CHvMwK5",
          "CHfHsXd",
          "CHgp0KT",
          "CHhg51l",
          "CH4yq3F",
          "CH2qVOO",
          "CH7YF5m",
          "CHnXNuk",
          "CHkFGfv",
          "CHi84e1",
          "CHunsfa",
          "CHtm_Qo",
          "CHoLrcj",
          "CHINRJx",
          "CHI0FxD",
          "CHDIB1D",
          "CHBKMc4",
          "CHc7o0O",
          "CHZeHMS",
          "CHTqenv",
          "CHYJDUe"
         ],
         "xaxis": "x5",
         "y": [
          15,
          6,
          4,
          3,
          3,
          3,
          2,
          2,
          2,
          2,
          2,
          2,
          2,
          2,
          2,
          1,
          1,
          1,
          1,
          1,
          1,
          1,
          1,
          1,
          1,
          1,
          1,
          1,
          1,
          1,
          1,
          1
         ],
         "yaxis": "y5"
        },
        {
         "alignmentgroup": "True",
         "hovertemplate": "category_name=Sports<br>year_month=2021-05<br>channel_id=%{x}<br>video_id=%{y}<extra></extra>",
         "legendgroup": "Sports",
         "marker": {
          "color": "#636efa",
          "pattern": {
           "shape": ""
          }
         },
         "name": "Sports",
         "offsetgroup": "Sports",
         "orientation": "v",
         "showlegend": false,
         "textposition": "auto",
         "type": "bar",
         "x": [
          "CHunsfa",
          "CHtm_Qo",
          "CHdTDdy",
          "CHdtRAc",
          "CHkFGfv",
          "CH7JbUm",
          "CH2qVOO",
          "CH9LQwH",
          "CHgp0KT",
          "CHnXNuk",
          "CHn9mJ4",
          "CHhb4gt",
          "CHhI3EX",
          "CHh4APi",
          "CHoHirU",
          "CHoLrcj",
          "CHt8iRt",
          "CHqsKWT",
          "CHgIArN",
          "CHP6Cn6",
          "CHChcWq",
          "CHRDowc",
          "CHdhukF",
          "CHZeHMS",
          "CHUQVGX"
         ],
         "xaxis": "x4",
         "y": [
          5,
          2,
          2,
          2,
          2,
          1,
          1,
          1,
          1,
          1,
          1,
          1,
          1,
          1,
          1,
          1,
          1,
          1,
          1,
          1,
          1,
          1,
          1,
          1,
          1
         ],
         "yaxis": "y4"
        },
        {
         "alignmentgroup": "True",
         "hovertemplate": "category_name=Sports<br>year_month=2021-07<br>channel_id=%{x}<br>video_id=%{y}<extra></extra>",
         "legendgroup": "Sports",
         "marker": {
          "color": "#636efa",
          "pattern": {
           "shape": ""
          }
         },
         "name": "Sports",
         "offsetgroup": "Sports",
         "orientation": "v",
         "showlegend": false,
         "textposition": "auto",
         "type": "bar",
         "x": [
          "CHYRrUD",
          "CHk4XjB",
          "CHUQVGX",
          "CHArK9M",
          "CHDIB1D",
          "CHcQTRi",
          "CHtm_Qo",
          "CHoe-0E",
          "CHQ2TX8",
          "CHEg25r",
          "CHoLrcj",
          "CHnXNuk",
          "CHkFGfv",
          "CH218FQ",
          "CHhg51l",
          "CHhb4gt",
          "CHhI3EX",
          "CHunsfa",
          "CHqsKWT",
          "CHpjOmw",
          "CHgp0KT",
          "CHdhukF",
          "CHPxCAB",
          "CHG-Q7s",
          "CHQ4eZw",
          "CHRDowc",
          "CHc7o0O",
          "CHbhuEJ"
         ],
         "xaxis": "x3",
         "y": [
          8,
          6,
          6,
          5,
          4,
          4,
          4,
          3,
          2,
          2,
          2,
          2,
          2,
          1,
          1,
          1,
          1,
          1,
          1,
          1,
          1,
          1,
          1,
          1,
          1,
          1,
          1,
          1
         ],
         "yaxis": "y3"
        },
        {
         "alignmentgroup": "True",
         "hovertemplate": "category_name=Sports<br>year_month=2021-04<br>channel_id=%{x}<br>video_id=%{y}<extra></extra>",
         "legendgroup": "Sports",
         "marker": {
          "color": "#636efa",
          "pattern": {
           "shape": ""
          }
         },
         "name": "Sports",
         "offsetgroup": "Sports",
         "orientation": "v",
         "showlegend": false,
         "textposition": "auto",
         "type": "bar",
         "x": [
          "CHtm_Qo",
          "CH2qVOO",
          "CHhg51l",
          "CHhb4gt",
          "CHnXNuk",
          "CHc7o0O",
          "CHoLrcj",
          "CHunsfa",
          "CHdTDdy",
          "CHgp0KT",
          "CH7JbUm",
          "CH4_uws",
          "CH3GEDF",
          "CH9pdRy",
          "CHn9mJ4",
          "CHmKTwX",
          "CHkFGfv",
          "CHh4APi",
          "CHt7dVd",
          "CHqsKWT",
          "CHArK9M",
          "CHQ4eZw",
          "CHKHLAo",
          "CHEg25r",
          "CHET00Y",
          "CHD902z",
          "CHCA4-e",
          "CHZeHMS",
          "CHX0xc2",
          "CHUXDKi",
          "CHUQVGX",
          "CHTv-Xv"
         ],
         "xaxis": "x2",
         "y": [
          5,
          4,
          4,
          3,
          3,
          2,
          2,
          2,
          2,
          2,
          1,
          1,
          1,
          1,
          1,
          1,
          1,
          1,
          1,
          1,
          1,
          1,
          1,
          1,
          1,
          1,
          1,
          1,
          1,
          1,
          1,
          1
         ],
         "yaxis": "y2"
        },
        {
         "alignmentgroup": "True",
         "hovertemplate": "category_name=Sports<br>year_month=2021-03<br>channel_id=%{x}<br>video_id=%{y}<extra></extra>",
         "legendgroup": "Sports",
         "marker": {
          "color": "#636efa",
          "pattern": {
           "shape": ""
          }
         },
         "name": "Sports",
         "offsetgroup": "Sports",
         "orientation": "v",
         "showlegend": false,
         "textposition": "auto",
         "type": "bar",
         "x": [
          "CH2qVOO",
          "CHoHirU",
          "CHCA4-e",
          "CHZSNhO"
         ],
         "xaxis": "x",
         "y": [
          1,
          1,
          1,
          1
         ],
         "yaxis": "y"
        },
        {
         "alignmentgroup": "True",
         "hovertemplate": "category_name=Entertainment<br>year_month=2021-06<br>channel_id=%{x}<br>video_id=%{y}<extra></extra>",
         "legendgroup": "Entertainment",
         "marker": {
          "color": "#EF553B",
          "pattern": {
           "shape": ""
          }
         },
         "name": "Entertainment",
         "offsetgroup": "Entertainment",
         "orientation": "v",
         "showlegend": true,
         "textposition": "auto",
         "type": "bar",
         "x": [
          "CHUyfkq",
          "CHVWmCR",
          "CHlzB2i",
          "CHj-dur",
          "CHcOYEm",
          "CH0PsUG",
          "CH2E-9A",
          "CH0VR2v",
          "CHIA-LP",
          "CH6erID",
          "CHF8W68",
          "CH78PMQ",
          "CHiwQRG",
          "CHZVD--",
          "CH3re3u",
          "CHiBKp3",
          "CHPx-7A",
          "CHqHP70",
          "CHTQVIX",
          "CHaNGiz",
          "CHaKod3",
          "CHYgUhR",
          "CHXZx95",
          "CHUj6rr",
          "CHUnSdg",
          "CHVyhgR",
          "CHbuks6",
          "CHrhH1d",
          "CHrSase",
          "CHyozK5",
          "CHqq-ov",
          "CHmgt7e",
          "CHpjm6R",
          "CHnx4Fi",
          "CHnNNN_",
          "CHwNVDl",
          "CHwx6n_",
          "CHuTKrQ",
          "CHx6jsZ",
          "CHtDcEb",
          "CHs8R3n",
          "CHgiO7K",
          "CHdWgRS",
          "CHhgOgR",
          "CHk6bX-",
          "CHk5bhZ",
          "CHjToDB",
          "CHiEEF5",
          "CHiBr0b",
          "CHi9Sl8",
          "CHweOkP",
          "CHDih-8",
          "CHKxLXX",
          "CHOHM2N",
          "CHQ2O-i",
          "CH9HNi_",
          "CHRMA_N",
          "CHHzW_7",
          "CHObJpv",
          "CHCfQK8",
          "CHIueAL",
          "CHIn1p2",
          "CHJmcPV",
          "CHLtOnh",
          "CHLKugl",
          "CHK1sVu",
          "CHKdfNL",
          "CHK3p1w",
          "CHGWhMp",
          "CHC1LvV",
          "CH9nLq3",
          "CH9idb-",
          "CH8WoHU",
          "CHDb1t5",
          "CHF3UEV",
          "CHEwOn7",
          "CHEX1cZ",
          "CHEIi7z",
          "CHEI4rb",
          "CHYtjW8",
          "CHYZv9v",
          "CHY2uWQ",
          "CHXiyTP",
          "CHbY7nf",
          "CHbD8Ep",
          "CHbCr1d",
          "CHb2wZp",
          "CHZf4ZE",
          "CHWYzc_",
          "CHQNRHp",
          "CHOzWaj",
          "CHOJplh",
          "CHTuthm",
          "CHTnafh",
          "CHT2X19",
          "CH8RGSE",
          "CH8OUSY",
          "CH3W3kE",
          "CH2qjHK",
          "CH81Kll",
          "CH73yn5",
          "CH68buD",
          "CH5bUcn",
          "CH2KEmF",
          "CH2IIBY",
          "CH1cWTE",
          "CH1-lwA",
          "CHkjXq1",
          "CHkbJc8",
          "CHmbGE7",
          "CHoQIdt",
          "CHp0hYY",
          "CHoUDrz",
          "CHmjNKt",
          "CHjGoJb",
          "CHfugxK",
          "CHfWZns",
          "CHgeeQu",
          "CHclwLh",
          "CHgsffS",
          "CHhY4PX",
          "CHhE5nZ",
          "CHybzQL",
          "CHybPxZ",
          "CHy1fru",
          "CHy-NrX",
          "CHxQXvv",
          "CHzt24f",
          "CHrnPse",
          "CHsNVs6",
          "CHsM07d",
          "CHs1R9z",
          "CHriPmQ",
          "CHr0ade",
          "CHsOW9T",
          "CHsRIHt",
          "CHudezj",
          "CHtp1ok"
         ],
         "xaxis": "x5",
         "y": [
          5,
          4,
          4,
          3,
          3,
          3,
          3,
          3,
          3,
          3,
          3,
          3,
          3,
          3,
          3,
          3,
          3,
          3,
          3,
          2,
          2,
          2,
          2,
          2,
          2,
          2,
          2,
          2,
          2,
          2,
          2,
          2,
          2,
          2,
          2,
          2,
          2,
          2,
          2,
          2,
          2,
          2,
          2,
          2,
          2,
          2,
          2,
          2,
          2,
          2,
          2,
          2,
          2,
          2,
          2,
          2,
          2,
          2,
          2,
          2,
          1,
          1,
          1,
          1,
          1,
          1,
          1,
          1,
          1,
          1,
          1,
          1,
          1,
          1,
          1,
          1,
          1,
          1,
          1,
          1,
          1,
          1,
          1,
          1,
          1,
          1,
          1,
          1,
          1,
          1,
          1,
          1,
          1,
          1,
          1,
          1,
          1,
          1,
          1,
          1,
          1,
          1,
          1,
          1,
          1,
          1,
          1,
          1,
          1,
          1,
          1,
          1,
          1,
          1,
          1,
          1,
          1,
          1,
          1,
          1,
          1,
          1,
          1,
          1,
          1,
          1,
          1,
          1,
          1,
          1,
          1,
          1,
          1,
          1,
          1,
          1,
          1,
          1
         ],
         "yaxis": "y5"
        },
        {
         "alignmentgroup": "True",
         "hovertemplate": "category_name=Entertainment<br>year_month=2021-05<br>channel_id=%{x}<br>video_id=%{y}<extra></extra>",
         "legendgroup": "Entertainment",
         "marker": {
          "color": "#EF553B",
          "pattern": {
           "shape": ""
          }
         },
         "name": "Entertainment",
         "offsetgroup": "Entertainment",
         "orientation": "v",
         "showlegend": false,
         "textposition": "auto",
         "type": "bar",
         "x": [
          "CHQ2O-i",
          "CHPde4g",
          "CHiwQRG",
          "CHExw7_",
          "CHoXoV4",
          "CHIUfR-",
          "CHMGn0N",
          "CHlzB2i",
          "CHkxbPw",
          "CHbCr1d",
          "CH_Fxf0",
          "CH8OUSY",
          "CHEIi7z",
          "CHH1oRy",
          "CHy-swB",
          "CHs8R3n",
          "CHWYzc_",
          "CHpPXYy",
          "CHsRIHt",
          "CHy1fru",
          "CHKxLXX",
          "CHUXYT0",
          "CHS_hnp",
          "CHTnafh",
          "CHYSjF7",
          "CHqHP70",
          "CHyozK5",
          "CHqq-ov",
          "CHpjm6R",
          "CHs1R9z",
          "CHwx6n_",
          "CHu9BCt",
          "CHbEp_Z",
          "CHhE5nZ",
          "CHgZlBR",
          "CHg3Ydm",
          "CHem8l1",
          "CHe-gh0",
          "CHbVRtq",
          "CHhgOgR",
          "CHl_tB4",
          "CHj28Fv",
          "CHM31rB",
          "CH1HHeT",
          "CH0PsUG",
          "CH-giR4",
          "CH-VbFg",
          "CH3re3u",
          "CH8WoHU",
          "CHHlSeJ",
          "CHHzW_7",
          "CHMtFAi",
          "CHNIiH_",
          "CHFL1sC",
          "CHEwOn7",
          "CHBI8xZ",
          "CHCfQK8",
          "CHIueAL",
          "CHI5WgF",
          "CHGrfaH",
          "CHGrAnV",
          "CHGnfBj",
          "CHLKugl",
          "CHLF1hN",
          "CHKdfNL",
          "CHG0Jec",
          "CHFg6o2",
          "CHCCjbf",
          "CHBOs39",
          "CH9kUsu",
          "CH920m3",
          "CHF3UEV",
          "CHDhM2k",
          "CHEI4rb",
          "CHNQL3R",
          "CHNl-TU",
          "CHYyLIl",
          "CHYtjW8",
          "CHYmo0H",
          "CHXaYpH",
          "CHXZx95",
          "CHZCH_G",
          "CHbs5PG",
          "CHaZS_X",
          "CHaKod3",
          "CHZf4ZE",
          "CHWhiqH",
          "CHPx-7A",
          "CHRMA_N",
          "CHR5cyf",
          "CHQNRHp",
          "CHRWzK4",
          "CHPKNKl",
          "CHOtCBu",
          "CHVXN28",
          "CHTuthm",
          "CHTS3Lw",
          "CHTQVIX",
          "CHTOUUd",
          "CH88r6m",
          "CH4nEQI",
          "CH46BbE",
          "CH3SyT4",
          "CH35HKv",
          "CH2qjHK",
          "CH5Ida8",
          "CH73yn5",
          "CH5bUcn",
          "CH6erID",
          "CH1LWEy",
          "CH1cWTE",
          "CH-Jblc",
          "CH1L79y",
          "CH0VR2v",
          "CHpK0ae",
          "CHmbGE7",
          "CHm2PiW",
          "CHkjXq1",
          "CHkQCwn",
          "CHk6bX-",
          "CHk5bhZ",
          "CHmgt7e",
          "CHoW9qW",
          "CHoUDrz",
          "CHoQIdt",
          "CHmjNKt",
          "CHnx4Fi",
          "CHnLeqv",
          "CHfnMSb",
          "CHffY-g",
          "CHchRZl",
          "CHj-dur",
          "CHiEEF5",
          "CHiBKp3",
          "CHi9Sl8",
          "CHhLGxP",
          "CHhK2Dh",
          "CHpBkdV",
          "CHy-NrX",
          "CHxmBxN",
          "CHxQXvv",
          "CHx6jsZ",
          "CHweOkP",
          "CHwNVDl",
          "CHvScwM",
          "CHsOW9T",
          "CHsNVs6",
          "CHrLUuZ",
          "CHvAewW",
          "CHudezj",
          "CHtckgm",
          "CHtDcEb",
          "CHseQwR"
         ],
         "xaxis": "x4",
         "y": [
          9,
          5,
          5,
          5,
          4,
          4,
          4,
          3,
          3,
          3,
          3,
          3,
          3,
          3,
          3,
          3,
          3,
          3,
          3,
          3,
          3,
          2,
          2,
          2,
          2,
          2,
          2,
          2,
          2,
          2,
          2,
          2,
          2,
          2,
          2,
          2,
          2,
          2,
          2,
          2,
          2,
          2,
          2,
          2,
          2,
          2,
          2,
          2,
          2,
          2,
          2,
          2,
          2,
          2,
          2,
          2,
          2,
          1,
          1,
          1,
          1,
          1,
          1,
          1,
          1,
          1,
          1,
          1,
          1,
          1,
          1,
          1,
          1,
          1,
          1,
          1,
          1,
          1,
          1,
          1,
          1,
          1,
          1,
          1,
          1,
          1,
          1,
          1,
          1,
          1,
          1,
          1,
          1,
          1,
          1,
          1,
          1,
          1,
          1,
          1,
          1,
          1,
          1,
          1,
          1,
          1,
          1,
          1,
          1,
          1,
          1,
          1,
          1,
          1,
          1,
          1,
          1,
          1,
          1,
          1,
          1,
          1,
          1,
          1,
          1,
          1,
          1,
          1,
          1,
          1,
          1,
          1,
          1,
          1,
          1,
          1,
          1,
          1,
          1,
          1,
          1,
          1,
          1,
          1,
          1,
          1,
          1,
          1,
          1,
          1,
          1,
          1,
          1
         ],
         "yaxis": "y4"
        },
        {
         "alignmentgroup": "True",
         "hovertemplate": "category_name=Entertainment<br>year_month=2021-07<br>channel_id=%{x}<br>video_id=%{y}<extra></extra>",
         "legendgroup": "Entertainment",
         "marker": {
          "color": "#EF553B",
          "pattern": {
           "shape": ""
          }
         },
         "name": "Entertainment",
         "offsetgroup": "Entertainment",
         "orientation": "v",
         "showlegend": false,
         "textposition": "auto",
         "type": "bar",
         "x": [
          "CHk6bX-",
          "CHaKod3",
          "CHlzB2i",
          "CHYtjW8",
          "CHYn09y",
          "CHZf4ZE",
          "CH9idb-",
          "CHtDcEb",
          "CHOHM2N",
          "CHy-swB",
          "CHybPxZ",
          "CHWYzc_",
          "CHnLeqv",
          "CHoCvTl",
          "CHnx4Fi",
          "CHYZv9v",
          "CHmjNKt",
          "CHTuthm",
          "CHbCr1d",
          "CHb-y7Y",
          "CH_pOKL",
          "CHiEEF5",
          "CHbD8Ep",
          "CHrhgVH",
          "CHrSase",
          "CHr0ade",
          "CHqq-ov",
          "CHqHP70",
          "CHpjm6R",
          "CHyozK5",
          "CHriPmQ",
          "CHwx6n_",
          "CHx6jsZ",
          "CHxLc0z",
          "CHs1R9z",
          "CHhE5nZ",
          "CHgsffS",
          "CHepUWU",
          "CHdWgRS",
          "CHbEp_Z",
          "CHhgOgR",
          "CHkxbPw",
          "CHkbJc8",
          "CHiwQRG",
          "CH0VR2v",
          "CH0PsUG",
          "CH4JAFO",
          "CH2tfQf",
          "CH2E-9A",
          "CHEX1cZ",
          "CHEwOn7",
          "CHRLM0M",
          "CHQ2O-i",
          "CHIUfR-",
          "CH920m3",
          "CHGMHKj",
          "CHIuteB",
          "CHIY5oU",
          "CHHcDLO",
          "CHGrfaH",
          "CHJmcPV",
          "CHNIiH_",
          "CHNE1pY",
          "CHLynj-",
          "CHKxLXX",
          "CHK1sVu",
          "CHbuks6",
          "CHBpzJv",
          "CH9w-h_",
          "CH9HNi_",
          "CHFL1sC",
          "CHF8W68",
          "CHF3UEV",
          "CHEkcg9",
          "CHEIi7z",
          "CHEI4rb",
          "CHNQL3R",
          "CHYyLIl",
          "CHXaYpH",
          "CHZECMC",
          "CHZTPmB",
          "CHQNRHp",
          "CHPx-7A",
          "CHObJpv",
          "CHRMA_N",
          "CHVWmCR",
          "CHU8MOm",
          "CHTnafh",
          "CHTmrCB",
          "CH81Kll",
          "CH4qc3p",
          "CH49ta0",
          "CH3re3u",
          "CH3m0s5",
          "CH3SyT4",
          "CH2qjHK",
          "CH5Ida8",
          "CH78PMQ",
          "CH6erID",
          "CH5zXl0",
          "CH5q0PI",
          "CH5bUcn",
          "CH2IIBY",
          "CH2DoAr",
          "CH2DHU9",
          "CH1cWTE",
          "CH1L79y",
          "CHcTWmz",
          "CHm2PiW",
          "CHkQCwn",
          "CHjToDB",
          "CHmbGE7",
          "CHnNfsL",
          "CHjGoJb",
          "CHfWZns",
          "CHg8U-Z",
          "CHfela5",
          "CHed3O-",
          "CHgZlBR",
          "CHid83o",
          "CHiBKp3",
          "CHhLGxP",
          "CHy-NrX",
          "CHwNVDl",
          "CHsNVs6",
          "CHuTKrQ",
          "CHtckgm",
          "CHsRIHt",
          "CHsU2Rl"
         ],
         "xaxis": "x3",
         "y": [
          4,
          4,
          3,
          3,
          3,
          3,
          3,
          3,
          3,
          3,
          3,
          3,
          3,
          3,
          3,
          3,
          3,
          2,
          2,
          2,
          2,
          2,
          2,
          2,
          2,
          2,
          2,
          2,
          2,
          2,
          2,
          2,
          2,
          2,
          2,
          2,
          2,
          2,
          2,
          2,
          2,
          2,
          2,
          2,
          2,
          2,
          2,
          2,
          2,
          2,
          2,
          2,
          2,
          2,
          2,
          1,
          1,
          1,
          1,
          1,
          1,
          1,
          1,
          1,
          1,
          1,
          1,
          1,
          1,
          1,
          1,
          1,
          1,
          1,
          1,
          1,
          1,
          1,
          1,
          1,
          1,
          1,
          1,
          1,
          1,
          1,
          1,
          1,
          1,
          1,
          1,
          1,
          1,
          1,
          1,
          1,
          1,
          1,
          1,
          1,
          1,
          1,
          1,
          1,
          1,
          1,
          1,
          1,
          1,
          1,
          1,
          1,
          1,
          1,
          1,
          1,
          1,
          1,
          1,
          1,
          1,
          1,
          1,
          1,
          1,
          1,
          1,
          1,
          1
         ],
         "yaxis": "y3"
        },
        {
         "alignmentgroup": "True",
         "hovertemplate": "category_name=Entertainment<br>year_month=2021-04<br>channel_id=%{x}<br>video_id=%{y}<extra></extra>",
         "legendgroup": "Entertainment",
         "marker": {
          "color": "#EF553B",
          "pattern": {
           "shape": ""
          }
         },
         "name": "Entertainment",
         "offsetgroup": "Entertainment",
         "orientation": "v",
         "showlegend": false,
         "textposition": "auto",
         "type": "bar",
         "x": [
          "CHUyfkq",
          "CH1L79y",
          "CHeSHil",
          "CHx6jsZ",
          "CHiwQRG",
          "CHkxbPw",
          "CHFL1sC",
          "CHQ2O-i",
          "CHmONdw",
          "CH1cWTE",
          "CHIA-LP",
          "CHcOYEm",
          "CH0VR2v",
          "CHlzB2i",
          "CHbD8Ep",
          "CHhY4PX",
          "CH5Ida8",
          "CH3SyT4",
          "CHGsJRp",
          "CHPx-7A",
          "CHVWmCR",
          "CHNIiH_",
          "CHK1sVu",
          "CHmjNKt",
          "CHpjm6R",
          "CHwNVDl",
          "CHaKod3",
          "CHZf4ZE",
          "CH_plsx",
          "CHXaYpH",
          "CHYyLIl",
          "CHY2uWQ",
          "CHYC3ZZ",
          "CHYgUhR",
          "CHWhiqH",
          "CHXZx95",
          "CHZCH_G",
          "CHreX6A",
          "CHod5V2",
          "CHxQXvv",
          "CHy-swB",
          "CHgeeQu",
          "CHhgOgR",
          "CHmApNd",
          "CHm2PiW",
          "CHiBr0b",
          "CHiBKp3",
          "CH0PsUG",
          "CH-BqPA",
          "CH8OUSY",
          "CH78PMQ",
          "CH3m0s5",
          "CHKxLXX",
          "CHEwOn7",
          "CHwx6n_",
          "CHLVwgJ",
          "CHB9e3p",
          "CHQNRHp",
          "CHJmcPV",
          "CHCfQK8",
          "CH9nLq3",
          "CHIueAL",
          "CHIY5oU",
          "CHIUfR-",
          "CHHzW_7",
          "CHGrfaH",
          "CHLynj-",
          "CHKuwp5",
          "CHKdfNL",
          "CHBwCGr",
          "CHB-ogY",
          "CHAP8OK",
          "CH9w-h_",
          "CH9HNi_",
          "CHDb1t5",
          "CHDhM2k",
          "CHF3UEV",
          "CHEIi7z",
          "CHOHM2N",
          "CHYtjW8",
          "CHYn09y",
          "CHYeeEw",
          "CHYZv9v",
          "CHYIxlZ",
          "CHaZS_X",
          "CHbCr1d",
          "CHaNGiz",
          "CHZVD--",
          "CHa56qk",
          "CH_pOKL",
          "CH_6zPf",
          "CHZtpUg",
          "CHWstBK",
          "CHR5cyf",
          "CHPde4g",
          "CHPECLB",
          "CHObJpv",
          "CHSB5FO",
          "CHWYzc_",
          "CHTuthm",
          "CHWJg0Q",
          "CHSQ55i",
          "CH4nEQI",
          "CH46BbE",
          "CH3Ea2-",
          "CH5bUcn",
          "CH6wiUw",
          "CH7QX2Y",
          "CH2aMxQ",
          "CH271vX",
          "CH2-Lri",
          "CH18g7g",
          "CH-VbFg",
          "CH-VOS6",
          "CHbuks6",
          "CHcTWmz",
          "CHmbGE7",
          "CHkjXq1",
          "CHkPp7P",
          "CHk6bX-",
          "CHjkoqt",
          "CHp0hYY",
          "CHoW9qW",
          "CHoUDrz",
          "CHnx4Fi",
          "CHnNfsL",
          "CHnLeqv",
          "CHg8U-Z",
          "CHfdYUR",
          "CHepUWU",
          "CHe_oTY",
          "CHdWgRS",
          "CHgiO7K",
          "CHhqMfc",
          "CHj-dur",
          "CHiP6DC",
          "CHhpiLQ",
          "CHhLGxP",
          "CHhE5nZ",
          "CHpPXYy",
          "CHyozK5",
          "CHy-NrX",
          "CHxmBxN",
          "CHxjERP",
          "CHwZTee",
          "CHsOW9T",
          "CHrjVVh",
          "CHsRIHt",
          "CHriPmQ",
          "CHrLUuZ",
          "CHtgggh",
          "CHvAewW",
          "CHuw1hx",
          "CHtkQiK",
          "CHtckgm",
          "CHtDcEb",
          "CHtCW8q"
         ],
         "xaxis": "x2",
         "y": [
          5,
          5,
          5,
          5,
          4,
          4,
          4,
          4,
          3,
          3,
          3,
          3,
          3,
          3,
          3,
          3,
          3,
          3,
          3,
          3,
          3,
          3,
          3,
          3,
          3,
          3,
          2,
          2,
          2,
          2,
          2,
          2,
          2,
          2,
          2,
          2,
          2,
          2,
          2,
          2,
          2,
          2,
          2,
          2,
          2,
          2,
          2,
          2,
          2,
          2,
          2,
          2,
          2,
          2,
          2,
          2,
          2,
          2,
          2,
          2,
          2,
          1,
          1,
          1,
          1,
          1,
          1,
          1,
          1,
          1,
          1,
          1,
          1,
          1,
          1,
          1,
          1,
          1,
          1,
          1,
          1,
          1,
          1,
          1,
          1,
          1,
          1,
          1,
          1,
          1,
          1,
          1,
          1,
          1,
          1,
          1,
          1,
          1,
          1,
          1,
          1,
          1,
          1,
          1,
          1,
          1,
          1,
          1,
          1,
          1,
          1,
          1,
          1,
          1,
          1,
          1,
          1,
          1,
          1,
          1,
          1,
          1,
          1,
          1,
          1,
          1,
          1,
          1,
          1,
          1,
          1,
          1,
          1,
          1,
          1,
          1,
          1,
          1,
          1,
          1,
          1,
          1,
          1,
          1,
          1,
          1,
          1,
          1,
          1,
          1,
          1,
          1,
          1,
          1,
          1,
          1,
          1
         ],
         "yaxis": "y2"
        },
        {
         "alignmentgroup": "True",
         "hovertemplate": "category_name=Entertainment<br>year_month=2021-03<br>channel_id=%{x}<br>video_id=%{y}<extra></extra>",
         "legendgroup": "Entertainment",
         "marker": {
          "color": "#EF553B",
          "pattern": {
           "shape": ""
          }
         },
         "name": "Entertainment",
         "offsetgroup": "Entertainment",
         "orientation": "v",
         "showlegend": false,
         "textposition": "auto",
         "type": "bar",
         "x": [
          "CHaKod3",
          "CH5BMQO",
          "CH46BbE",
          "CH920m3",
          "CHIY5oU",
          "CHJmcPV",
          "CHLVwgJ",
          "CHDb1t5",
          "CHEwOn7",
          "CHYyLIl",
          "CHUnSdg",
          "CHTnafh",
          "CH4LW3s",
          "CH7Krez",
          "CH78PMQ",
          "CH68buD",
          "CH12YJZ",
          "CHlzB2i",
          "CHjGoJb",
          "CHdUlCa",
          "CHqq-ov",
          "CHweOkP",
          "CHriPmQ",
          "CHrhH1d"
         ],
         "xaxis": "x",
         "y": [
          2,
          2,
          2,
          2,
          1,
          1,
          1,
          1,
          1,
          1,
          1,
          1,
          1,
          1,
          1,
          1,
          1,
          1,
          1,
          1,
          1,
          1,
          1,
          1
         ],
         "yaxis": "y"
        },
        {
         "alignmentgroup": "True",
         "hovertemplate": "category_name=People & Blogs<br>year_month=2021-06<br>channel_id=%{x}<br>video_id=%{y}<extra></extra>",
         "legendgroup": "People & Blogs",
         "marker": {
          "color": "#00cc96",
          "pattern": {
           "shape": ""
          }
         },
         "name": "People & Blogs",
         "offsetgroup": "People & Blogs",
         "orientation": "v",
         "showlegend": true,
         "textposition": "auto",
         "type": "bar",
         "x": [
          "CHtfriF",
          "CHuDLnJ",
          "CHfpaSr",
          "CHXTyJZ",
          "CHkkWd0",
          "CHpH3rU",
          "CHASfMq",
          "CHtkRVa",
          "CH1EiHI",
          "CHoQy2w",
          "CHdfhK0",
          "CHoPTIa",
          "CH26QQC",
          "CHIG4gr",
          "CH0ssa8",
          "CH4sIlW",
          "CH6lNIb",
          "CH48NSS",
          "CH31-nU",
          "CHBkXIe",
          "CHXURHJ",
          "CHPZ4e8",
          "CHPhHBE",
          "CHppou5",
          "CHrLQ0o",
          "CHychoc",
          "CH26M8b",
          "CH2tbZf",
          "CH2XG0i",
          "CH0wTMg",
          "CHzRDCw",
          "CHUsoow",
          "CHTx3aC",
          "CHSiGNr",
          "CHRzS1N",
          "CHQWylD",
          "CHOOKj-",
          "CHM64Ik",
          "CHyje3j",
          "CHYnfy2",
          "CHW945U",
          "CHVyMrl",
          "CHUyr50",
          "CHCJ2b2",
          "CHC4Qcw",
          "CHBoQ8_",
          "CHAhKKb",
          "CHA6KBB",
          "CH8MVMe",
          "CHHR4kW",
          "CHKFvox",
          "CHK72hq",
          "CHJko7d",
          "CHFLlNL",
          "CHYt4St",
          "CHZ1wYQ",
          "CHZwG8g",
          "CHrh6bu",
          "CHrFlv9",
          "CHqNN-b",
          "CHs9H--",
          "CHsP57H",
          "CHuZu8N",
          "CHvjhQp",
          "CHtfGLm",
          "CHmfVvm",
          "CH_EngQ",
          "CHknfGX",
          "CHcxK1U",
          "CHaPqda",
          "CHaPILm",
          "CHelPbn",
          "CHkJNt3",
          "CHjn-Vb",
          "CHjHn_O",
          "CHiMq04",
          "CHhna8l",
          "CHhji-o",
          "CHhK2Dh"
         ],
         "xaxis": "x5",
         "y": [
          6,
          5,
          3,
          3,
          3,
          3,
          3,
          3,
          3,
          2,
          2,
          2,
          2,
          2,
          2,
          2,
          2,
          2,
          2,
          2,
          2,
          2,
          2,
          2,
          2,
          2,
          1,
          1,
          1,
          1,
          1,
          1,
          1,
          1,
          1,
          1,
          1,
          1,
          1,
          1,
          1,
          1,
          1,
          1,
          1,
          1,
          1,
          1,
          1,
          1,
          1,
          1,
          1,
          1,
          1,
          1,
          1,
          1,
          1,
          1,
          1,
          1,
          1,
          1,
          1,
          1,
          1,
          1,
          1,
          1,
          1,
          1,
          1,
          1,
          1,
          1,
          1,
          1,
          1
         ],
         "yaxis": "y5"
        },
        {
         "alignmentgroup": "True",
         "hovertemplate": "category_name=People & Blogs<br>year_month=2021-05<br>channel_id=%{x}<br>video_id=%{y}<extra></extra>",
         "legendgroup": "People & Blogs",
         "marker": {
          "color": "#00cc96",
          "pattern": {
           "shape": ""
          }
         },
         "name": "People & Blogs",
         "offsetgroup": "People & Blogs",
         "orientation": "v",
         "showlegend": false,
         "textposition": "auto",
         "type": "bar",
         "x": [
          "CHIG4gr",
          "CHDV9zg",
          "CHRzS1N",
          "CHRofX4",
          "CHbFzvz",
          "CH4DnB5",
          "CHkkWd0",
          "CHK72hq",
          "CHoQy2w",
          "CHheR9R",
          "CHfpaSr",
          "CHmt37g",
          "CHld0ct",
          "CHh-1iA",
          "CHZ1wYQ",
          "CHYnfy2",
          "CHXTQWs",
          "CHtkRVa",
          "CHsP57H",
          "CHwW_qU",
          "CHzRDCw",
          "CH2Q9aM",
          "CH2KUew",
          "CH26M8b",
          "CH1GHhg",
          "CH-swYD",
          "CH-YRx5",
          "CH-Bsa2",
          "CH-KafR",
          "CHzhyI5",
          "CHQTqoE",
          "CHOOKj-",
          "CHNYi_z",
          "CHLItMt",
          "CHUyr50",
          "CHYt4St",
          "CHXXlcP",
          "CHWqWR1",
          "CHW9DtK",
          "CHKmQlV",
          "CHA6KBB",
          "CHET3I7",
          "CHHR4kW",
          "CHEu_YK",
          "CHF8W68",
          "CHlSUMM",
          "CHrh6bu",
          "CHrRn4V",
          "CHqsPmf",
          "CHqNN-b",
          "CHpH3rU",
          "CHoLQZ4",
          "CHyG7zA",
          "CHtfriF",
          "CHl-tyx",
          "CHaZS_X",
          "CHhtdyq",
          "CHfqVrM"
         ],
         "xaxis": "x4",
         "y": [
          7,
          7,
          4,
          3,
          3,
          3,
          3,
          3,
          2,
          2,
          2,
          2,
          2,
          2,
          2,
          2,
          2,
          2,
          2,
          2,
          2,
          1,
          1,
          1,
          1,
          1,
          1,
          1,
          1,
          1,
          1,
          1,
          1,
          1,
          1,
          1,
          1,
          1,
          1,
          1,
          1,
          1,
          1,
          1,
          1,
          1,
          1,
          1,
          1,
          1,
          1,
          1,
          1,
          1,
          1,
          1,
          1,
          1
         ],
         "yaxis": "y4"
        },
        {
         "alignmentgroup": "True",
         "hovertemplate": "category_name=People & Blogs<br>year_month=2021-07<br>channel_id=%{x}<br>video_id=%{y}<extra></extra>",
         "legendgroup": "People & Blogs",
         "marker": {
          "color": "#00cc96",
          "pattern": {
           "shape": ""
          }
         },
         "name": "People & Blogs",
         "offsetgroup": "People & Blogs",
         "orientation": "v",
         "showlegend": false,
         "textposition": "auto",
         "type": "bar",
         "x": [
          "CHZ1wYQ",
          "CHONPqk",
          "CHppou5",
          "CHfpaSr",
          "CHs9H--",
          "CHoQy2w",
          "CHpH3rU",
          "CHd1TDy",
          "CHjpCOk",
          "CHkkWd0",
          "CH0wNau",
          "CHKFvox",
          "CH26QQC",
          "CH4MfUq",
          "CH4sIlW",
          "CHD2KRO",
          "CHE8SAl",
          "CHYnfy2",
          "CHSiGNr",
          "CHtfriF",
          "CHrFlv9",
          "CHyG7zA",
          "CHqNN-b",
          "CH31-nU",
          "CH0PsUG",
          "CH7Krez",
          "CHRzS1N",
          "CHYDyvq",
          "CHXXlcP",
          "CHUyr50",
          "CHL-AUQ",
          "CHBoQ8_",
          "CHASfMq",
          "CHA6KBB",
          "CH9G7V6",
          "CHDV9zg",
          "CHET3I7",
          "CHJfDSu",
          "CHIG4gr",
          "CHGInHR",
          "CHrRn4V",
          "CHqsPmf",
          "CHoLQZ4",
          "CHychoc",
          "CHv0QY4",
          "CHtn-l7",
          "CHsP57H",
          "CHtkRVa",
          "CHcxK1U",
          "CHc7een",
          "CHbzDJ6",
          "CHbFzvz",
          "CH_EngQ",
          "CHicKQU",
          "CHhK2Dh",
          "CHfqVrM"
         ],
         "xaxis": "x3",
         "y": [
          4,
          3,
          3,
          3,
          3,
          3,
          2,
          2,
          2,
          2,
          2,
          2,
          2,
          2,
          2,
          2,
          2,
          2,
          2,
          2,
          2,
          2,
          2,
          1,
          1,
          1,
          1,
          1,
          1,
          1,
          1,
          1,
          1,
          1,
          1,
          1,
          1,
          1,
          1,
          1,
          1,
          1,
          1,
          1,
          1,
          1,
          1,
          1,
          1,
          1,
          1,
          1,
          1,
          1,
          1,
          1
         ],
         "yaxis": "y3"
        },
        {
         "alignmentgroup": "True",
         "hovertemplate": "category_name=People & Blogs<br>year_month=2021-04<br>channel_id=%{x}<br>video_id=%{y}<extra></extra>",
         "legendgroup": "People & Blogs",
         "marker": {
          "color": "#00cc96",
          "pattern": {
           "shape": ""
          }
         },
         "name": "People & Blogs",
         "offsetgroup": "People & Blogs",
         "orientation": "v",
         "showlegend": false,
         "textposition": "auto",
         "type": "bar",
         "x": [
          "CHXTyJZ",
          "CH680xb",
          "CHIG4gr",
          "CHZ1wYQ",
          "CHtfriF",
          "CHKUz_7",
          "CHpH3rU",
          "CHoPTIa",
          "CHoQy2w",
          "CHkkWd0",
          "CHkh6Tl",
          "CHfpaSr",
          "CH2KUew",
          "CH4MfUq",
          "CH5QSBl",
          "CH5RION",
          "CH6lNIb",
          "CHLJNGm",
          "CHNBfRy",
          "CHYnfy2",
          "CHOOKj-",
          "CHbFzvz",
          "CHXTQWs",
          "CHtkRVa",
          "CHu38Cq",
          "CH47HAk",
          "CH31-nU",
          "CH-Bsa2",
          "CHzRDCw",
          "CH7bRo3",
          "CHPZ4e8",
          "CHM64Ik",
          "CHUWU2s",
          "CHUyr50",
          "CHYt4St",
          "CHXXlcP",
          "CHXURHJ",
          "CHWycwu",
          "CHBHJlM",
          "CHAhKKb",
          "CHA6KBB",
          "CH9gxOp",
          "CHKFvox",
          "CHHR4kW",
          "CHH7JoV",
          "CHrh6bu",
          "CHrRn4V",
          "CHrIxxm",
          "CHs29NQ",
          "CHx_kYu",
          "CHvG7co",
          "CHtn-l7",
          "CHtctOX",
          "CHcQ3rs",
          "CHb_-Xu",
          "CHa_ZCX",
          "CHaZS_X",
          "CHdQk6g",
          "CHemKWU",
          "CHfqVrM",
          "CHhK2Dh"
         ],
         "xaxis": "x2",
         "y": [
          5,
          4,
          4,
          3,
          3,
          3,
          2,
          2,
          2,
          2,
          2,
          2,
          2,
          2,
          2,
          2,
          2,
          2,
          2,
          2,
          2,
          2,
          2,
          2,
          2,
          1,
          1,
          1,
          1,
          1,
          1,
          1,
          1,
          1,
          1,
          1,
          1,
          1,
          1,
          1,
          1,
          1,
          1,
          1,
          1,
          1,
          1,
          1,
          1,
          1,
          1,
          1,
          1,
          1,
          1,
          1,
          1,
          1,
          1,
          1,
          1
         ],
         "yaxis": "y2"
        },
        {
         "alignmentgroup": "True",
         "hovertemplate": "category_name=People & Blogs<br>year_month=2021-03<br>channel_id=%{x}<br>video_id=%{y}<extra></extra>",
         "legendgroup": "People & Blogs",
         "marker": {
          "color": "#00cc96",
          "pattern": {
           "shape": ""
          }
         },
         "name": "People & Blogs",
         "offsetgroup": "People & Blogs",
         "orientation": "v",
         "showlegend": false,
         "textposition": "auto",
         "type": "bar",
         "x": [
          "CHnet0I",
          "CHaZS_X",
          "CHyuL_X",
          "CHyn-K7",
          "CHPZ4e8",
          "CHNBfRy",
          "CHKkxVS",
          "CHKUz_7",
          "CHGiqkg",
          "CHtfriF",
          "CH_Fq5K",
          "CHkh6Tl"
         ],
         "xaxis": "x",
         "y": [
          2,
          2,
          1,
          1,
          1,
          1,
          1,
          1,
          1,
          1,
          1,
          1
         ],
         "yaxis": "y"
        },
        {
         "alignmentgroup": "True",
         "hovertemplate": "category_name=Music<br>year_month=2021-06<br>channel_id=%{x}<br>video_id=%{y}<extra></extra>",
         "legendgroup": "Music",
         "marker": {
          "color": "#ab63fa",
          "pattern": {
           "shape": ""
          }
         },
         "name": "Music",
         "offsetgroup": "Music",
         "orientation": "v",
         "showlegend": true,
         "textposition": "auto",
         "type": "bar",
         "x": [
          "CHaO6TY",
          "CHuKdaT",
          "CHviI9l",
          "CHfkXDY",
          "CHeLPm9",
          "CHe52oe",
          "CHabon8",
          "CH3WZlO",
          "CHtCiO5",
          "CHoRXPc",
          "CHzCedB",
          "CHmQdC1",
          "CHk2E0d",
          "CHEf_Bc",
          "CHhm_d4",
          "CHe_56k",
          "CHeQlMQ",
          "CHwgtOR",
          "CHzgxx_",
          "CHuhAUM",
          "CHoNq-k",
          "CHo-E2l",
          "CH_pwIX",
          "CHaEIlQ",
          "CHYDmx2",
          "CHEUX9t",
          "CHDPM_n",
          "CHAq0pF",
          "CHACvSk",
          "CH9GtSL",
          "CHEbRSm",
          "CHXIF1a",
          "CHR5cyf",
          "CHGrAnV",
          "CH6nxfR",
          "CH6TJkB",
          "CH3-ec2"
         ],
         "xaxis": "x5",
         "y": [
          4,
          3,
          3,
          3,
          3,
          3,
          3,
          2,
          2,
          2,
          2,
          2,
          2,
          2,
          1,
          1,
          1,
          1,
          1,
          1,
          1,
          1,
          1,
          1,
          1,
          1,
          1,
          1,
          1,
          1,
          1,
          1,
          1,
          1,
          1,
          1,
          1
         ],
         "yaxis": "y5"
        },
        {
         "alignmentgroup": "True",
         "hovertemplate": "category_name=Music<br>year_month=2021-05<br>channel_id=%{x}<br>video_id=%{y}<extra></extra>",
         "legendgroup": "Music",
         "marker": {
          "color": "#ab63fa",
          "pattern": {
           "shape": ""
          }
         },
         "name": "Music",
         "offsetgroup": "Music",
         "orientation": "v",
         "showlegend": false,
         "textposition": "auto",
         "type": "bar",
         "x": [
          "CH9GtSL",
          "CH3IZKs",
          "CHtCiO5",
          "CHEf_Bc",
          "CHLkAep",
          "CH3WZlO",
          "CH66yQ1",
          "CHsXigG",
          "CH6nxfR",
          "CHzCedB",
          "CHyPwRg",
          "CH-qYkz",
          "CHlYq3P",
          "CHeLPm9",
          "CHFipx4",
          "CHk9Gmd",
          "CHhu7d9",
          "CHaO6TY",
          "CHcVEkH",
          "CHe52oe",
          "CHoRXPc",
          "CHviI9l",
          "CHmTdAl",
          "CHkJ1rb",
          "CHsVcse",
          "CHuKdaT",
          "CHCEi5r",
          "CHArTAX",
          "CH9vrvN",
          "CH9LcN9",
          "CH8qO5r",
          "CHEdZAd",
          "CHTEWSE",
          "CHRp-tG",
          "CHGdZ_-",
          "CHG1kwS",
          "CH4htMX",
          "CH2KmG_",
          "CH-jHB5"
         ],
         "xaxis": "x4",
         "y": [
          6,
          5,
          4,
          4,
          4,
          2,
          2,
          2,
          2,
          2,
          2,
          2,
          2,
          2,
          2,
          1,
          1,
          1,
          1,
          1,
          1,
          1,
          1,
          1,
          1,
          1,
          1,
          1,
          1,
          1,
          1,
          1,
          1,
          1,
          1,
          1,
          1,
          1,
          1
         ],
         "yaxis": "y4"
        },
        {
         "alignmentgroup": "True",
         "hovertemplate": "category_name=Music<br>year_month=2021-07<br>channel_id=%{x}<br>video_id=%{y}<extra></extra>",
         "legendgroup": "Music",
         "marker": {
          "color": "#ab63fa",
          "pattern": {
           "shape": ""
          }
         },
         "name": "Music",
         "offsetgroup": "Music",
         "orientation": "v",
         "showlegend": false,
         "textposition": "auto",
         "type": "bar",
         "x": [
          "CHEbRSm",
          "CHLkAep",
          "CHzCedB",
          "CH-FQUI",
          "CHIcXK1",
          "CH3IZKs",
          "CHPENYt",
          "CHEf_Bc",
          "CHk2E0d",
          "CHcM_a-",
          "CHe52oe",
          "CHk9Gmd",
          "CHwzCuK",
          "CHwgtOR",
          "CHvolP1",
          "CHviI9l",
          "CHxOZuU",
          "CHzxXBQ",
          "CHkYFO5",
          "CHtCiO5",
          "CHritGV",
          "CH9vrvN",
          "CH9GtSL",
          "CH7Qts0",
          "CHY7unn",
          "CHMIUx2",
          "CHJVA-s",
          "CHI3Z79",
          "CHHX_FN",
          "CH66yQ1",
          "CH3WZlO",
          "CH2TjEZ",
          "CH0D7tP",
          "CH-IG_h"
         ],
         "xaxis": "x3",
         "y": [
          4,
          4,
          3,
          3,
          3,
          2,
          2,
          2,
          1,
          1,
          1,
          1,
          1,
          1,
          1,
          1,
          1,
          1,
          1,
          1,
          1,
          1,
          1,
          1,
          1,
          1,
          1,
          1,
          1,
          1,
          1,
          1,
          1,
          1
         ],
         "yaxis": "y3"
        },
        {
         "alignmentgroup": "True",
         "hovertemplate": "category_name=Music<br>year_month=2021-04<br>channel_id=%{x}<br>video_id=%{y}<extra></extra>",
         "legendgroup": "Music",
         "marker": {
          "color": "#ab63fa",
          "pattern": {
           "shape": ""
          }
         },
         "name": "Music",
         "offsetgroup": "Music",
         "orientation": "v",
         "showlegend": false,
         "textposition": "auto",
         "type": "bar",
         "x": [
          "CHLkAep",
          "CHfkXDY",
          "CHHGJwr",
          "CHaO6TY",
          "CHabon8",
          "CHpbTKp",
          "CHoRXPc",
          "CHuhAUM",
          "CHviI9l",
          "CHzCedB",
          "CHdNMDR",
          "CHRQ7Rw",
          "CHkJ1rb",
          "CHEf_Bc",
          "CHeLPm9",
          "CHyPwRg",
          "CHwgtOR",
          "CHwZMmI",
          "CHvNA_f",
          "CHq4isO",
          "CH_pwIX",
          "CHEbRSm",
          "CHAkWpy",
          "CHACsUr",
          "CH6tU41",
          "CHFEVXX",
          "CHKNZsA",
          "CH6c5iD",
          "CH2KmG_",
          "CH3QWks",
          "CH3IZKs"
         ],
         "xaxis": "x2",
         "y": [
          5,
          5,
          3,
          3,
          3,
          2,
          2,
          2,
          2,
          2,
          2,
          2,
          2,
          2,
          1,
          1,
          1,
          1,
          1,
          1,
          1,
          1,
          1,
          1,
          1,
          1,
          1,
          1,
          1,
          1,
          1
         ],
         "yaxis": "y2"
        },
        {
         "alignmentgroup": "True",
         "hovertemplate": "category_name=Music<br>year_month=2021-03<br>channel_id=%{x}<br>video_id=%{y}<extra></extra>",
         "legendgroup": "Music",
         "marker": {
          "color": "#ab63fa",
          "pattern": {
           "shape": ""
          }
         },
         "name": "Music",
         "offsetgroup": "Music",
         "orientation": "v",
         "showlegend": false,
         "textposition": "auto",
         "type": "bar",
         "x": [
          "CHtCiO5",
          "CHEf_Bc",
          "CHNk_Ik",
          "CHYDmx2",
          "CHRQ7Rw"
         ],
         "xaxis": "x",
         "y": [
          1,
          1,
          1,
          1,
          1
         ],
         "yaxis": "y"
        },
        {
         "alignmentgroup": "True",
         "hovertemplate": "category_name=Pets & Animals<br>year_month=2021-06<br>channel_id=%{x}<br>video_id=%{y}<extra></extra>",
         "legendgroup": "Pets & Animals",
         "marker": {
          "color": "#FFA15A",
          "pattern": {
           "shape": ""
          }
         },
         "name": "Pets & Animals",
         "offsetgroup": "Pets & Animals",
         "orientation": "v",
         "showlegend": true,
         "textposition": "auto",
         "type": "bar",
         "x": [
          "CH3PSZi",
          "CH69l_r",
          "CHETBLy",
          "CHHLDBh",
          "CHkuA_g",
          "CHHgL0B",
          "CHHXnna",
          "CHAhKKb",
          "CH04-af",
          "CHOp66V",
          "CHOv1v2",
          "CHf0Mkc",
          "CHj-rqv",
          "CHi_IoQ",
          "CHgsgpE",
          "CHPTM-N"
         ],
         "xaxis": "x5",
         "y": [
          2,
          2,
          2,
          2,
          2,
          1,
          1,
          1,
          1,
          1,
          1,
          1,
          1,
          1,
          1,
          1
         ],
         "yaxis": "y5"
        },
        {
         "alignmentgroup": "True",
         "hovertemplate": "category_name=Pets & Animals<br>year_month=2021-05<br>channel_id=%{x}<br>video_id=%{y}<extra></extra>",
         "legendgroup": "Pets & Animals",
         "marker": {
          "color": "#FFA15A",
          "pattern": {
           "shape": ""
          }
         },
         "name": "Pets & Animals",
         "offsetgroup": "Pets & Animals",
         "orientation": "v",
         "showlegend": false,
         "textposition": "auto",
         "type": "bar",
         "x": [
          "CHi_IoQ",
          "CH22go5",
          "CH69l_r",
          "CHAhKKb",
          "CHOv1v2",
          "CHgsgpE"
         ],
         "xaxis": "x4",
         "y": [
          3,
          3,
          2,
          1,
          1,
          1
         ],
         "yaxis": "y4"
        },
        {
         "alignmentgroup": "True",
         "hovertemplate": "category_name=Pets & Animals<br>year_month=2021-07<br>channel_id=%{x}<br>video_id=%{y}<extra></extra>",
         "legendgroup": "Pets & Animals",
         "marker": {
          "color": "#FFA15A",
          "pattern": {
           "shape": ""
          }
         },
         "name": "Pets & Animals",
         "offsetgroup": "Pets & Animals",
         "orientation": "v",
         "showlegend": false,
         "textposition": "auto",
         "type": "bar",
         "x": [
          "CH29-Il",
          "CHAhKKb",
          "CHOp66V",
          "CH89A41",
          "CHHLDBh",
          "CH69l_r",
          "CH5AAf4",
          "CH3PSZi",
          "CH-IYpd",
          "CHgsgpE",
          "CHd1TDy",
          "CHOv1v2",
          "CHa2LU4",
          "CHPTM-N"
         ],
         "xaxis": "x3",
         "y": [
          6,
          3,
          2,
          2,
          1,
          1,
          1,
          1,
          1,
          1,
          1,
          1,
          1,
          1
         ],
         "yaxis": "y3"
        },
        {
         "alignmentgroup": "True",
         "hovertemplate": "category_name=Pets & Animals<br>year_month=2021-04<br>channel_id=%{x}<br>video_id=%{y}<extra></extra>",
         "legendgroup": "Pets & Animals",
         "marker": {
          "color": "#FFA15A",
          "pattern": {
           "shape": ""
          }
         },
         "name": "Pets & Animals",
         "offsetgroup": "Pets & Animals",
         "orientation": "v",
         "showlegend": false,
         "textposition": "auto",
         "type": "bar",
         "x": [
          "CHzjDgV",
          "CHtbOb9",
          "CHkuA_g",
          "CHHXnna",
          "CH22go5",
          "CHgsgpE",
          "CHX2laR",
          "CHPTM-N"
         ],
         "xaxis": "x2",
         "y": [
          1,
          1,
          1,
          1,
          1,
          1,
          1,
          1
         ],
         "yaxis": "y2"
        },
        {
         "alignmentgroup": "True",
         "hovertemplate": "category_name=Pets & Animals<br>year_month=2021-03<br>channel_id=%{x}<br>video_id=%{y}<extra></extra>",
         "legendgroup": "Pets & Animals",
         "marker": {
          "color": "#FFA15A",
          "pattern": {
           "shape": ""
          }
         },
         "name": "Pets & Animals",
         "offsetgroup": "Pets & Animals",
         "orientation": "v",
         "showlegend": false,
         "textposition": "auto",
         "type": "bar",
         "x": [
          "CHOp66V",
          "CHP1CQH"
         ],
         "xaxis": "x",
         "y": [
          1,
          1
         ],
         "yaxis": "y"
        },
        {
         "alignmentgroup": "True",
         "hovertemplate": "category_name=News & Politics<br>year_month=2021-06<br>channel_id=%{x}<br>video_id=%{y}<extra></extra>",
         "legendgroup": "News & Politics",
         "marker": {
          "color": "#19d3f3",
          "pattern": {
           "shape": ""
          }
         },
         "name": "News & Politics",
         "offsetgroup": "News & Politics",
         "orientation": "v",
         "showlegend": true,
         "textposition": "auto",
         "type": "bar",
         "x": [
          "CHhlgI3",
          "CH_U34U",
          "CHcQTRi",
          "CHkinYT",
          "CHF4Wxd",
          "CHQabOR",
          "CHKhcMX",
          "CHTHCOP",
          "CHMGn0N",
          "CHMEbRp",
          "CHAySce",
          "CH88r6m",
          "CHnfwIK",
          "CH1aS5C",
          "CH2fNt6",
          "CH-0C8y",
          "CHy-6oZ",
          "CHbMjg2",
          "CHzz58-",
          "CHG9aFJ",
          "CHWskYk"
         ],
         "xaxis": "x5",
         "y": [
          2,
          2,
          2,
          2,
          2,
          2,
          1,
          1,
          1,
          1,
          1,
          1,
          1,
          1,
          1,
          1,
          1,
          1,
          1,
          1,
          1
         ],
         "yaxis": "y5"
        },
        {
         "alignmentgroup": "True",
         "hovertemplate": "category_name=News & Politics<br>year_month=2021-05<br>channel_id=%{x}<br>video_id=%{y}<extra></extra>",
         "legendgroup": "News & Politics",
         "marker": {
          "color": "#19d3f3",
          "pattern": {
           "shape": ""
          }
         },
         "name": "News & Politics",
         "offsetgroup": "News & Politics",
         "orientation": "v",
         "showlegend": false,
         "textposition": "auto",
         "type": "bar",
         "x": [
          "CHsU-I-",
          "CHHBvfB",
          "CHhlgI3",
          "CHH3mJ-",
          "CHfq4V1",
          "CHF4Wxd",
          "CHAySce",
          "CHizGMt",
          "CHcQTRi",
          "CHwRljh",
          "CHWlV3L",
          "CH8d0Zg",
          "CHMLJc_",
          "CHIDOGT",
          "CHIIpmD",
          "CHIMOyt",
          "CHPfxQo",
          "CHTTmtS",
          "CHYRrUD",
          "CHTHCOP",
          "CHQabOR",
          "CHwCrPg",
          "CHj3_t5",
          "CHnfwIK",
          "CHomhAm",
          "CH4Aa3O",
          "CH-0C8y",
          "CH7cF2Z",
          "CHGCGxs",
          "CHeFUGS",
          "CHawCv9",
          "CHG9aFJ"
         ],
         "xaxis": "x4",
         "y": [
          6,
          4,
          4,
          3,
          3,
          3,
          3,
          2,
          2,
          2,
          2,
          2,
          2,
          1,
          1,
          1,
          1,
          1,
          1,
          1,
          1,
          1,
          1,
          1,
          1,
          1,
          1,
          1,
          1,
          1,
          1,
          1
         ],
         "yaxis": "y4"
        },
        {
         "alignmentgroup": "True",
         "hovertemplate": "category_name=News & Politics<br>year_month=2021-07<br>channel_id=%{x}<br>video_id=%{y}<extra></extra>",
         "legendgroup": "News & Politics",
         "marker": {
          "color": "#19d3f3",
          "pattern": {
           "shape": ""
          }
         },
         "name": "News & Politics",
         "offsetgroup": "News & Politics",
         "orientation": "v",
         "showlegend": false,
         "textposition": "auto",
         "type": "bar",
         "x": [
          "CHkinYT",
          "CH-0C8y",
          "CHoxT1k",
          "CHsU-I-",
          "CH_U34U",
          "CHj3_t5",
          "CH0imOR",
          "CHMEbRp",
          "CHF4Wxd",
          "CHLKugl",
          "CHTHCOP",
          "CHYRrUD",
          "CHQabOR",
          "CHMGn0N",
          "CHHBvfB",
          "CH8d0Zg",
          "CHjg8Yu",
          "CHy-6oZ",
          "CHzz58-"
         ],
         "xaxis": "x3",
         "y": [
          3,
          3,
          3,
          3,
          2,
          2,
          2,
          2,
          2,
          1,
          1,
          1,
          1,
          1,
          1,
          1,
          1,
          1,
          1
         ],
         "yaxis": "y3"
        },
        {
         "alignmentgroup": "True",
         "hovertemplate": "category_name=News & Politics<br>year_month=2021-04<br>channel_id=%{x}<br>video_id=%{y}<extra></extra>",
         "legendgroup": "News & Politics",
         "marker": {
          "color": "#19d3f3",
          "pattern": {
           "shape": ""
          }
         },
         "name": "News & Politics",
         "offsetgroup": "News & Politics",
         "orientation": "v",
         "showlegend": false,
         "textposition": "auto",
         "type": "bar",
         "x": [
          "CHMEbRp",
          "CHIDOGT",
          "CHPTy0B",
          "CHhlgI3",
          "CHcQTRi",
          "CHsU-I-",
          "CH-0C8y",
          "CHF4Wxd",
          "CHF8AeL",
          "CHAySce",
          "CH1aS5C",
          "CH_U34U",
          "CHIipmg",
          "CHZQj9d",
          "CHYRrUD",
          "CHawCv9",
          "CHj3_t5",
          "CHu35od",
          "CH0imOR",
          "CH5GZQW",
          "CHliLFb",
          "CHHBvfB",
          "CHfq4V1",
          "CHizGMt"
         ],
         "xaxis": "x2",
         "y": [
          4,
          3,
          3,
          2,
          2,
          2,
          2,
          2,
          2,
          2,
          2,
          1,
          1,
          1,
          1,
          1,
          1,
          1,
          1,
          1,
          1,
          1,
          1,
          1
         ],
         "yaxis": "y2"
        },
        {
         "alignmentgroup": "True",
         "hovertemplate": "category_name=News & Politics<br>year_month=2021-03<br>channel_id=%{x}<br>video_id=%{y}<extra></extra>",
         "legendgroup": "News & Politics",
         "marker": {
          "color": "#19d3f3",
          "pattern": {
           "shape": ""
          }
         },
         "name": "News & Politics",
         "offsetgroup": "News & Politics",
         "orientation": "v",
         "showlegend": false,
         "textposition": "auto",
         "type": "bar",
         "x": [
          "CHG9aFJ",
          "CH_U34U",
          "CHj3_t5",
          "CH9thBC",
          "CHkinYT",
          "CHH3mJ-"
         ],
         "xaxis": "x",
         "y": [
          2,
          1,
          1,
          1,
          1,
          1
         ],
         "yaxis": "y"
        },
        {
         "alignmentgroup": "True",
         "hovertemplate": "category_name=Comedy<br>year_month=2021-06<br>channel_id=%{x}<br>video_id=%{y}<extra></extra>",
         "legendgroup": "Comedy",
         "marker": {
          "color": "#FF6692",
          "pattern": {
           "shape": ""
          }
         },
         "name": "Comedy",
         "offsetgroup": "Comedy",
         "orientation": "v",
         "showlegend": true,
         "textposition": "auto",
         "type": "bar",
         "x": [
          "CHg-p3l",
          "CH9ZLv1",
          "CHN8CPz",
          "CHGX5sP",
          "CH6KwCU",
          "CHR-qpX",
          "CHzjiRW",
          "CHyCL5k",
          "CHhbE5O",
          "CHZ0dIs",
          "CHYACix",
          "CHVsBCf",
          "CHRykAt",
          "CHghP93",
          "CHyh4ZG",
          "CHr9-Mp",
          "CHmzMtX",
          "CHCjJV_",
          "CH9nFMA"
         ],
         "xaxis": "x5",
         "y": [
          4,
          3,
          2,
          2,
          2,
          2,
          2,
          2,
          2,
          1,
          1,
          1,
          1,
          1,
          1,
          1,
          1,
          1,
          1
         ],
         "yaxis": "y5"
        },
        {
         "alignmentgroup": "True",
         "hovertemplate": "category_name=Comedy<br>year_month=2021-05<br>channel_id=%{x}<br>video_id=%{y}<extra></extra>",
         "legendgroup": "Comedy",
         "marker": {
          "color": "#FF6692",
          "pattern": {
           "shape": ""
          }
         },
         "name": "Comedy",
         "offsetgroup": "Comedy",
         "orientation": "v",
         "showlegend": false,
         "textposition": "auto",
         "type": "bar",
         "x": [
          "CHgBLs7",
          "CHmzMtX",
          "CHEUL40",
          "CHyCL5k",
          "CHqsPmf",
          "CHhbE5O",
          "CHZ0dIs",
          "CHRykAt",
          "CHg-p3l",
          "CHfU6o0",
          "CHe9f9M",
          "CHd-Sfb",
          "CHbGXAe",
          "CH_gaUd",
          "CHV3i3l",
          "CHSc2Dc",
          "CHR-qpX",
          "CHt_UFh",
          "CHsJ6Ru",
          "CHoe_Vp",
          "CHmCNgL",
          "CHQmu3U",
          "CHK3p1w",
          "CHGX5sP",
          "CHD2YO_",
          "CH9nFMA",
          "CH6KwCU",
          "CH69uMh"
         ],
         "xaxis": "x4",
         "y": [
          3,
          3,
          2,
          2,
          2,
          2,
          2,
          2,
          1,
          1,
          1,
          1,
          1,
          1,
          1,
          1,
          1,
          1,
          1,
          1,
          1,
          1,
          1,
          1,
          1,
          1,
          1,
          1
         ],
         "yaxis": "y4"
        },
        {
         "alignmentgroup": "True",
         "hovertemplate": "category_name=Comedy<br>year_month=2021-07<br>channel_id=%{x}<br>video_id=%{y}<extra></extra>",
         "legendgroup": "Comedy",
         "marker": {
          "color": "#FF6692",
          "pattern": {
           "shape": ""
          }
         },
         "name": "Comedy",
         "offsetgroup": "Comedy",
         "orientation": "v",
         "showlegend": false,
         "textposition": "auto",
         "type": "bar",
         "x": [
          "CHZ0dIs",
          "CHmzMtX",
          "CHhbE5O",
          "CHhvXm5",
          "CHSc2Dc",
          "CH8-Th8",
          "CHyCL5k",
          "CHg-p3l",
          "CHt_UFh",
          "CHN8CPz",
          "CHMVC92",
          "CHGX5sP",
          "CHDCAyS",
          "CH9nFMA"
         ],
         "xaxis": "x3",
         "y": [
          4,
          4,
          3,
          3,
          3,
          3,
          3,
          2,
          1,
          1,
          1,
          1,
          1,
          1
         ],
         "yaxis": "y3"
        },
        {
         "alignmentgroup": "True",
         "hovertemplate": "category_name=Comedy<br>year_month=2021-04<br>channel_id=%{x}<br>video_id=%{y}<extra></extra>",
         "legendgroup": "Comedy",
         "marker": {
          "color": "#FF6692",
          "pattern": {
           "shape": ""
          }
         },
         "name": "Comedy",
         "offsetgroup": "Comedy",
         "orientation": "v",
         "showlegend": false,
         "textposition": "auto",
         "type": "bar",
         "x": [
          "CHmzMtX",
          "CH20WKI",
          "CHhbE5O",
          "CHIuFnJ",
          "CHqsPmf",
          "CHg-p3l",
          "CHSc2Dc",
          "CH0SoPw",
          "CHe9f9M",
          "CHt_UFh",
          "CHGX5sP",
          "CHPwGQu",
          "CHEUL40",
          "CH9nFMA",
          "CHR-qpX",
          "CHZ0dIs",
          "CHRykAt",
          "CHg8U-Z",
          "CHVsBCf",
          "CHgBLs7",
          "CHghP93",
          "CHyCL5k",
          "CHivkx6",
          "CHsJ6Ru",
          "CHmHMsJ",
          "CHK3p1w",
          "CHJpGg1",
          "CH9ZLv1",
          "CH2o_y8"
         ],
         "xaxis": "x2",
         "y": [
          6,
          4,
          4,
          4,
          3,
          3,
          3,
          3,
          3,
          3,
          3,
          2,
          2,
          2,
          2,
          2,
          2,
          1,
          1,
          1,
          1,
          1,
          1,
          1,
          1,
          1,
          1,
          1,
          1
         ],
         "yaxis": "y2"
        },
        {
         "alignmentgroup": "True",
         "hovertemplate": "category_name=Comedy<br>year_month=2021-03<br>channel_id=%{x}<br>video_id=%{y}<extra></extra>",
         "legendgroup": "Comedy",
         "marker": {
          "color": "#FF6692",
          "pattern": {
           "shape": ""
          }
         },
         "name": "Comedy",
         "offsetgroup": "Comedy",
         "orientation": "v",
         "showlegend": false,
         "textposition": "auto",
         "type": "bar",
         "x": [
          "CHgBLs7",
          "CHV3i3l",
          "CHyCL5k",
          "CHEUL40"
         ],
         "xaxis": "x",
         "y": [
          1,
          1,
          1,
          1
         ],
         "yaxis": "y"
        },
        {
         "alignmentgroup": "True",
         "hovertemplate": "category_name=Film & Animation<br>year_month=2021-06<br>channel_id=%{x}<br>video_id=%{y}<extra></extra>",
         "legendgroup": "Film & Animation",
         "marker": {
          "color": "#B6E880",
          "pattern": {
           "shape": ""
          }
         },
         "name": "Film & Animation",
         "offsetgroup": "Film & Animation",
         "orientation": "v",
         "showlegend": true,
         "textposition": "auto",
         "type": "bar",
         "x": [
          "CHUK4Yj",
          "CHRuSxV",
          "CHszFjh",
          "CHz2Kbg",
          "CHgmmc5",
          "CHuRZ7_",
          "CHSB5FO",
          "CH6u3fo"
         ],
         "xaxis": "x5",
         "y": [
          3,
          3,
          2,
          2,
          2,
          1,
          1,
          1
         ],
         "yaxis": "y5"
        },
        {
         "alignmentgroup": "True",
         "hovertemplate": "category_name=Film & Animation<br>year_month=2021-05<br>channel_id=%{x}<br>video_id=%{y}<extra></extra>",
         "legendgroup": "Film & Animation",
         "marker": {
          "color": "#B6E880",
          "pattern": {
           "shape": ""
          }
         },
         "name": "Film & Animation",
         "offsetgroup": "Film & Animation",
         "orientation": "v",
         "showlegend": false,
         "textposition": "auto",
         "type": "bar",
         "x": [
          "CHszFjh",
          "CHi-XI2",
          "CHHj3qb",
          "CH6u3fo",
          "CHRuSxV",
          "CHSB5FO",
          "CHz2Kbg",
          "CHxlv4a",
          "CHlN3o2",
          "CHY2wHB",
          "CHRI5Ze",
          "CHK9PdJ",
          "CHCcE8B"
         ],
         "xaxis": "x4",
         "y": [
          3,
          3,
          3,
          2,
          2,
          2,
          1,
          1,
          1,
          1,
          1,
          1,
          1
         ],
         "yaxis": "y4"
        },
        {
         "alignmentgroup": "True",
         "hovertemplate": "category_name=Film & Animation<br>year_month=2021-07<br>channel_id=%{x}<br>video_id=%{y}<extra></extra>",
         "legendgroup": "Film & Animation",
         "marker": {
          "color": "#B6E880",
          "pattern": {
           "shape": ""
          }
         },
         "name": "Film & Animation",
         "offsetgroup": "Film & Animation",
         "orientation": "v",
         "showlegend": false,
         "textposition": "auto",
         "type": "bar",
         "x": [
          "CHszFjh",
          "CH6u3fo",
          "CHRuSxV",
          "CHaT8jY",
          "CHuKKkB",
          "CHs0P4G",
          "CHi-XI2",
          "CH3zQwS",
          "CHUK4Yj",
          "CHFnuC4",
          "CH6q6s6"
         ],
         "xaxis": "x3",
         "y": [
          5,
          2,
          2,
          2,
          1,
          1,
          1,
          1,
          1,
          1,
          1
         ],
         "yaxis": "y3"
        },
        {
         "alignmentgroup": "True",
         "hovertemplate": "category_name=Film & Animation<br>year_month=2021-04<br>channel_id=%{x}<br>video_id=%{y}<extra></extra>",
         "legendgroup": "Film & Animation",
         "marker": {
          "color": "#B6E880",
          "pattern": {
           "shape": ""
          }
         },
         "name": "Film & Animation",
         "offsetgroup": "Film & Animation",
         "orientation": "v",
         "showlegend": false,
         "textposition": "auto",
         "type": "bar",
         "x": [
          "CHszFjh",
          "CH6u3fo",
          "CHRuSxV",
          "CHz2Kbg",
          "CHym553",
          "CHxDsmO",
          "CHi-XI2",
          "CHdq61m",
          "CHW0gUN",
          "CHUK4Yj",
          "CH6q6s6",
          "CHK9PdJ",
          "CHH3mJ-"
         ],
         "xaxis": "x2",
         "y": [
          3,
          2,
          2,
          1,
          1,
          1,
          1,
          1,
          1,
          1,
          1,
          1,
          1
         ],
         "yaxis": "y2"
        },
        {
         "alignmentgroup": "True",
         "hovertemplate": "category_name=Film & Animation<br>year_month=2021-03<br>channel_id=%{x}<br>video_id=%{y}<extra></extra>",
         "legendgroup": "Film & Animation",
         "marker": {
          "color": "#B6E880",
          "pattern": {
           "shape": ""
          }
         },
         "name": "Film & Animation",
         "offsetgroup": "Film & Animation",
         "orientation": "v",
         "showlegend": false,
         "textposition": "auto",
         "type": "bar",
         "x": [
          "CH6q6s6",
          "CHRuSxV"
         ],
         "xaxis": "x",
         "y": [
          1,
          1
         ],
         "yaxis": "y"
        },
        {
         "alignmentgroup": "True",
         "hovertemplate": "category_name=Education<br>year_month=2021-06<br>channel_id=%{x}<br>video_id=%{y}<extra></extra>",
         "legendgroup": "Education",
         "marker": {
          "color": "#FF97FF",
          "pattern": {
           "shape": ""
          }
         },
         "name": "Education",
         "offsetgroup": "Education",
         "orientation": "v",
         "showlegend": true,
         "textposition": "auto",
         "type": "bar",
         "x": [
          "CHuh6Br",
          "CHvW8no",
          "CHl7MKZ",
          "CH6xugt",
          "CH1-lwA",
          "CH-9RQC",
          "CH7F6UD",
          "CHnaGfD",
          "CHjPqSb",
          "CHiV4_c",
          "CHPvwqh",
          "CHD902z"
         ],
         "xaxis": "x5",
         "y": [
          4,
          2,
          2,
          2,
          1,
          1,
          1,
          1,
          1,
          1,
          1,
          1
         ],
         "yaxis": "y5"
        },
        {
         "alignmentgroup": "True",
         "hovertemplate": "category_name=Education<br>year_month=2021-05<br>channel_id=%{x}<br>video_id=%{y}<extra></extra>",
         "legendgroup": "Education",
         "marker": {
          "color": "#FF97FF",
          "pattern": {
           "shape": ""
          }
         },
         "name": "Education",
         "offsetgroup": "Education",
         "orientation": "v",
         "showlegend": false,
         "textposition": "auto",
         "type": "bar",
         "x": [
          "CHl7MKZ",
          "CHicKQU",
          "CHJ7LVh",
          "CHHpIHu",
          "CHBJs8l",
          "CHnLO88",
          "CHma37f",
          "CHcWXel",
          "CHO0OSA",
          "CHuh6Br",
          "CHznImS"
         ],
         "xaxis": "x4",
         "y": [
          3,
          3,
          2,
          2,
          2,
          1,
          1,
          1,
          1,
          1,
          1
         ],
         "yaxis": "y4"
        },
        {
         "alignmentgroup": "True",
         "hovertemplate": "category_name=Education<br>year_month=2021-07<br>channel_id=%{x}<br>video_id=%{y}<extra></extra>",
         "legendgroup": "Education",
         "marker": {
          "color": "#FF97FF",
          "pattern": {
           "shape": ""
          }
         },
         "name": "Education",
         "offsetgroup": "Education",
         "orientation": "v",
         "showlegend": false,
         "textposition": "auto",
         "type": "bar",
         "x": [
          "CH7F6UD",
          "CHBJs8l",
          "CHZ4T91",
          "CHMFk5S",
          "CHD902z",
          "CHCt6iN"
         ],
         "xaxis": "x3",
         "y": [
          3,
          1,
          1,
          1,
          1,
          1
         ],
         "yaxis": "y3"
        },
        {
         "alignmentgroup": "True",
         "hovertemplate": "category_name=Education<br>year_month=2021-04<br>channel_id=%{x}<br>video_id=%{y}<extra></extra>",
         "legendgroup": "Education",
         "marker": {
          "color": "#FF97FF",
          "pattern": {
           "shape": ""
          }
         },
         "name": "Education",
         "offsetgroup": "Education",
         "orientation": "v",
         "showlegend": false,
         "textposition": "auto",
         "type": "bar",
         "x": [
          "CHicKQU",
          "CHuh6Br",
          "CHnaGfD",
          "CHl7MKZ",
          "CH1-lwA",
          "CHBM86J",
          "CHCt6iN",
          "CHgheNM",
          "CHJ7LVh",
          "CHHpIHu"
         ],
         "xaxis": "x2",
         "y": [
          5,
          2,
          2,
          2,
          1,
          1,
          1,
          1,
          1,
          1
         ],
         "yaxis": "y2"
        },
        {
         "alignmentgroup": "True",
         "hovertemplate": "category_name=Education<br>year_month=2021-03<br>channel_id=%{x}<br>video_id=%{y}<extra></extra>",
         "legendgroup": "Education",
         "marker": {
          "color": "#FF97FF",
          "pattern": {
           "shape": ""
          }
         },
         "name": "Education",
         "offsetgroup": "Education",
         "orientation": "v",
         "showlegend": false,
         "textposition": "auto",
         "type": "bar",
         "x": [
          "CHicKQU",
          "CH5YHB-",
          "CHvW8no"
         ],
         "xaxis": "x",
         "y": [
          2,
          1,
          1
         ],
         "yaxis": "y"
        },
        {
         "alignmentgroup": "True",
         "hovertemplate": "category_name=Travel & Events<br>year_month=2021-06<br>channel_id=%{x}<br>video_id=%{y}<extra></extra>",
         "legendgroup": "Travel & Events",
         "marker": {
          "color": "#FECB52",
          "pattern": {
           "shape": ""
          }
         },
         "name": "Travel & Events",
         "offsetgroup": "Travel & Events",
         "orientation": "v",
         "showlegend": true,
         "textposition": "auto",
         "type": "bar",
         "x": [
          "CHPll9Z",
          "CHFCtZJ"
         ],
         "xaxis": "x5",
         "y": [
          2,
          1
         ],
         "yaxis": "y5"
        },
        {
         "alignmentgroup": "True",
         "hovertemplate": "category_name=Travel & Events<br>year_month=2021-05<br>channel_id=%{x}<br>video_id=%{y}<extra></extra>",
         "legendgroup": "Travel & Events",
         "marker": {
          "color": "#FECB52",
          "pattern": {
           "shape": ""
          }
         },
         "name": "Travel & Events",
         "offsetgroup": "Travel & Events",
         "orientation": "v",
         "showlegend": false,
         "textposition": "auto",
         "type": "bar",
         "x": [
          "CHFw4M1",
          "CHa0aTy",
          "CHFCtZJ",
          "CH673sG",
          "CHsLoTw"
         ],
         "xaxis": "x4",
         "y": [
          2,
          2,
          1,
          1,
          1
         ],
         "yaxis": "y4"
        },
        {
         "alignmentgroup": "True",
         "hovertemplate": "category_name=Travel & Events<br>year_month=2021-07<br>channel_id=%{x}<br>video_id=%{y}<extra></extra>",
         "legendgroup": "Travel & Events",
         "marker": {
          "color": "#FECB52",
          "pattern": {
           "shape": ""
          }
         },
         "name": "Travel & Events",
         "offsetgroup": "Travel & Events",
         "orientation": "v",
         "showlegend": false,
         "textposition": "auto",
         "type": "bar",
         "x": [
          "CHlRNDV"
         ],
         "xaxis": "x3",
         "y": [
          5
         ],
         "yaxis": "y3"
        },
        {
         "alignmentgroup": "True",
         "hovertemplate": "category_name=Travel & Events<br>year_month=2021-04<br>channel_id=%{x}<br>video_id=%{y}<extra></extra>",
         "legendgroup": "Travel & Events",
         "marker": {
          "color": "#FECB52",
          "pattern": {
           "shape": ""
          }
         },
         "name": "Travel & Events",
         "offsetgroup": "Travel & Events",
         "orientation": "v",
         "showlegend": false,
         "textposition": "auto",
         "type": "bar",
         "x": [
          "CH4KYnI",
          "CHPDdt9",
          "CHlRNDV",
          "CHMZO-3",
          "CHFw4M1"
         ],
         "xaxis": "x2",
         "y": [
          2,
          2,
          2,
          1,
          1
         ],
         "yaxis": "y2"
        },
        {
         "alignmentgroup": "True",
         "hovertemplate": "category_name=Howto & Style<br>year_month=2021-06<br>channel_id=%{x}<br>video_id=%{y}<extra></extra>",
         "legendgroup": "Howto & Style",
         "marker": {
          "color": "#636efa",
          "pattern": {
           "shape": ""
          }
         },
         "name": "Howto & Style",
         "offsetgroup": "Howto & Style",
         "orientation": "v",
         "showlegend": true,
         "textposition": "auto",
         "type": "bar",
         "x": [
          "CH2gasv",
          "CHd4Fmc",
          "CHiNS0K",
          "CHIZ5rC",
          "CHWrh9h",
          "CH2DHU9",
          "CH2xkO7",
          "CHKrhyP",
          "CHWdmhZ",
          "CHVXx89",
          "CHKm-cu",
          "CH8wHwv",
          "CHXGh59",
          "CHZCvbW",
          "CHj8zZ1",
          "CHuFGPh",
          "CHvil4O",
          "CHxjZ0G",
          "CHzIOIS",
          "CHz72_x",
          "CHy2WX3"
         ],
         "xaxis": "x5",
         "y": [
          3,
          2,
          2,
          2,
          2,
          1,
          1,
          1,
          1,
          1,
          1,
          1,
          1,
          1,
          1,
          1,
          1,
          1,
          1,
          1,
          1
         ],
         "yaxis": "y5"
        },
        {
         "alignmentgroup": "True",
         "hovertemplate": "category_name=Howto & Style<br>year_month=2021-05<br>channel_id=%{x}<br>video_id=%{y}<extra></extra>",
         "legendgroup": "Howto & Style",
         "marker": {
          "color": "#636efa",
          "pattern": {
           "shape": ""
          }
         },
         "name": "Howto & Style",
         "offsetgroup": "Howto & Style",
         "orientation": "v",
         "showlegend": false,
         "textposition": "auto",
         "type": "bar",
         "x": [
          "CHn64fS",
          "CH6LBdA",
          "CHzIOIS",
          "CHBTytr",
          "CHpg89Y",
          "CHy2WX3",
          "CHKrhyP",
          "CHVXx89",
          "CHZCvbW",
          "CH2xkO7",
          "CHKm-cu",
          "CHWrh9h",
          "CHnZ8qy",
          "CHuFGPh",
          "CHrpB5P",
          "CHp94pz",
          "CHj8zZ1"
         ],
         "xaxis": "x4",
         "y": [
          4,
          3,
          3,
          3,
          2,
          2,
          2,
          2,
          2,
          1,
          1,
          1,
          1,
          1,
          1,
          1,
          1
         ],
         "yaxis": "y4"
        },
        {
         "alignmentgroup": "True",
         "hovertemplate": "category_name=Howto & Style<br>year_month=2021-07<br>channel_id=%{x}<br>video_id=%{y}<extra></extra>",
         "legendgroup": "Howto & Style",
         "marker": {
          "color": "#636efa",
          "pattern": {
           "shape": ""
          }
         },
         "name": "Howto & Style",
         "offsetgroup": "Howto & Style",
         "orientation": "v",
         "showlegend": false,
         "textposition": "auto",
         "type": "bar",
         "x": [
          "CHKrhyP",
          "CHd4Fmc",
          "CHkxvX8",
          "CHn64fS",
          "CHyn7ao",
          "CHL01un",
          "CH8wHwv",
          "CHVXx89",
          "CH1g9Ja",
          "CH1EEpE",
          "CHWRb5Q",
          "CH5q0PI",
          "CHIZ5rC",
          "CHBTytr",
          "CHrxSR4",
          "CHrpB5P",
          "CHp94pz",
          "CHiNS0K",
          "CHzIOIS"
         ],
         "xaxis": "x3",
         "y": [
          3,
          2,
          2,
          2,
          2,
          2,
          2,
          2,
          1,
          1,
          1,
          1,
          1,
          1,
          1,
          1,
          1,
          1,
          1
         ],
         "yaxis": "y3"
        },
        {
         "alignmentgroup": "True",
         "hovertemplate": "category_name=Howto & Style<br>year_month=2021-04<br>channel_id=%{x}<br>video_id=%{y}<extra></extra>",
         "legendgroup": "Howto & Style",
         "marker": {
          "color": "#636efa",
          "pattern": {
           "shape": ""
          }
         },
         "name": "Howto & Style",
         "offsetgroup": "Howto & Style",
         "orientation": "v",
         "showlegend": false,
         "textposition": "auto",
         "type": "bar",
         "x": [
          "CHIZ5rC",
          "CHd4Fmc",
          "CHy2WX3",
          "CHj8zZ1",
          "CHp94pz",
          "CHBTytr",
          "CH1g9Ja",
          "CH1UebY",
          "CH2gasv",
          "CHWrh9h",
          "CHVXx89",
          "CHLduRr",
          "CHKm-cu",
          "CHCG6BE",
          "CH5xK2X",
          "CHZCvbW",
          "CHnekLi",
          "CHnCyCL",
          "CHvil4O",
          "CHn64fS",
          "CHcTWmz",
          "CHayVh6",
          "CHyn7ao"
         ],
         "xaxis": "x2",
         "y": [
          3,
          3,
          2,
          2,
          2,
          2,
          1,
          1,
          1,
          1,
          1,
          1,
          1,
          1,
          1,
          1,
          1,
          1,
          1,
          1,
          1,
          1,
          1
         ],
         "yaxis": "y2"
        },
        {
         "alignmentgroup": "True",
         "hovertemplate": "category_name=Howto & Style<br>year_month=2021-03<br>channel_id=%{x}<br>video_id=%{y}<extra></extra>",
         "legendgroup": "Howto & Style",
         "marker": {
          "color": "#636efa",
          "pattern": {
           "shape": ""
          }
         },
         "name": "Howto & Style",
         "offsetgroup": "Howto & Style",
         "orientation": "v",
         "showlegend": false,
         "textposition": "auto",
         "type": "bar",
         "x": [
          "CHWrh9h",
          "CHd4Fmc"
         ],
         "xaxis": "x",
         "y": [
          1,
          1
         ],
         "yaxis": "y"
        },
        {
         "alignmentgroup": "True",
         "hovertemplate": "category_name=Gaming<br>year_month=2021-06<br>channel_id=%{x}<br>video_id=%{y}<extra></extra>",
         "legendgroup": "Gaming",
         "marker": {
          "color": "#EF553B",
          "pattern": {
           "shape": ""
          }
         },
         "name": "Gaming",
         "offsetgroup": "Gaming",
         "orientation": "v",
         "showlegend": true,
         "textposition": "auto",
         "type": "bar",
         "x": [
          "CHefUNE",
          "CHAOTbN",
          "CHBUNoF",
          "CHU_hKD",
          "CHdrBnB",
          "CHw1Dsw",
          "CHcum1r",
          "CHzgNzU",
          "CHnss3B",
          "CHms8Ge",
          "CHBA9Xa",
          "CH9aEa6",
          "CH9_093",
          "CH9-LID",
          "CH8C0Yd",
          "CHDyc0_",
          "CHGIY_O",
          "CHmMxEF",
          "CHj-6sZ",
          "CHfycsf",
          "CHSOeJW",
          "CHOKQpm",
          "CHMPM0h",
          "CHK3p1w"
         ],
         "xaxis": "x5",
         "y": [
          3,
          2,
          2,
          2,
          2,
          2,
          1,
          1,
          1,
          1,
          1,
          1,
          1,
          1,
          1,
          1,
          1,
          1,
          1,
          1,
          1,
          1,
          1,
          1
         ],
         "yaxis": "y5"
        },
        {
         "alignmentgroup": "True",
         "hovertemplate": "category_name=Gaming<br>year_month=2021-05<br>channel_id=%{x}<br>video_id=%{y}<extra></extra>",
         "legendgroup": "Gaming",
         "marker": {
          "color": "#EF553B",
          "pattern": {
           "shape": ""
          }
         },
         "name": "Gaming",
         "offsetgroup": "Gaming",
         "orientation": "v",
         "showlegend": false,
         "textposition": "auto",
         "type": "bar",
         "x": [
          "CH8CIM3",
          "CHdrBnB",
          "CHxM_h0",
          "CHmCNgL",
          "CHom6Yh",
          "CHpDtPd",
          "CH48NSS",
          "CH2NFRq",
          "CHeudxd",
          "CHHxKSi",
          "CHNzcxC"
         ],
         "xaxis": "x4",
         "y": [
          3,
          2,
          2,
          2,
          1,
          1,
          1,
          1,
          1,
          1,
          1
         ],
         "yaxis": "y4"
        },
        {
         "alignmentgroup": "True",
         "hovertemplate": "category_name=Gaming<br>year_month=2021-07<br>channel_id=%{x}<br>video_id=%{y}<extra></extra>",
         "legendgroup": "Gaming",
         "marker": {
          "color": "#EF553B",
          "pattern": {
           "shape": ""
          }
         },
         "name": "Gaming",
         "offsetgroup": "Gaming",
         "orientation": "v",
         "showlegend": false,
         "textposition": "auto",
         "type": "bar",
         "x": [
          "CH8CIM3",
          "CH31ypO",
          "CH9_093",
          "CHzgNzU",
          "CHta_NR",
          "CHoyaxd",
          "CHooLkG",
          "CHom6Yh",
          "CHBrb8H",
          "CHBUNoF",
          "CHDBAVz",
          "CHdrBnB",
          "CHg7rkx",
          "CHY9pEH"
         ],
         "xaxis": "x3",
         "y": [
          3,
          2,
          2,
          2,
          1,
          1,
          1,
          1,
          1,
          1,
          1,
          1,
          1,
          1
         ],
         "yaxis": "y3"
        },
        {
         "alignmentgroup": "True",
         "hovertemplate": "category_name=Gaming<br>year_month=2021-04<br>channel_id=%{x}<br>video_id=%{y}<extra></extra>",
         "legendgroup": "Gaming",
         "marker": {
          "color": "#EF553B",
          "pattern": {
           "shape": ""
          }
         },
         "name": "Gaming",
         "offsetgroup": "Gaming",
         "orientation": "v",
         "showlegend": false,
         "textposition": "auto",
         "type": "bar",
         "x": [
          "CHDBAVz",
          "CHyTB7U",
          "CHxM_h0",
          "CHw1Dsw",
          "CHuOUU4",
          "CHpYaDy",
          "CHooLkG",
          "CHBA9Xa",
          "CH8CIM3",
          "CHlJspS",
          "CHeHFCf",
          "CHdrBnB"
         ],
         "xaxis": "x2",
         "y": [
          2,
          1,
          1,
          1,
          1,
          1,
          1,
          1,
          1,
          1,
          1,
          1
         ],
         "yaxis": "y2"
        },
        {
         "alignmentgroup": "True",
         "hovertemplate": "category_name=Gaming<br>year_month=2021-03<br>channel_id=%{x}<br>video_id=%{y}<extra></extra>",
         "legendgroup": "Gaming",
         "marker": {
          "color": "#EF553B",
          "pattern": {
           "shape": ""
          }
         },
         "name": "Gaming",
         "offsetgroup": "Gaming",
         "orientation": "v",
         "showlegend": false,
         "textposition": "auto",
         "type": "bar",
         "x": [
          "CHooLkG"
         ],
         "xaxis": "x",
         "y": [
          1
         ],
         "yaxis": "y"
        },
        {
         "alignmentgroup": "True",
         "hovertemplate": "category_name=Science & Technology<br>year_month=2021-06<br>channel_id=%{x}<br>video_id=%{y}<extra></extra>",
         "legendgroup": "Science & Technology",
         "marker": {
          "color": "#00cc96",
          "pattern": {
           "shape": ""
          }
         },
         "name": "Science & Technology",
         "offsetgroup": "Science & Technology",
         "orientation": "v",
         "showlegend": true,
         "textposition": "auto",
         "type": "bar",
         "x": [
          "CH3dJKw",
          "CHJiv3w",
          "CHJKZoV",
          "CHJJ_n7",
          "CHE_M8A",
          "CHYAvG7"
         ],
         "xaxis": "x5",
         "y": [
          2,
          1,
          1,
          1,
          1,
          1
         ],
         "yaxis": "y5"
        },
        {
         "alignmentgroup": "True",
         "hovertemplate": "category_name=Science & Technology<br>year_month=2021-05<br>channel_id=%{x}<br>video_id=%{y}<extra></extra>",
         "legendgroup": "Science & Technology",
         "marker": {
          "color": "#00cc96",
          "pattern": {
           "shape": ""
          }
         },
         "name": "Science & Technology",
         "offsetgroup": "Science & Technology",
         "orientation": "v",
         "showlegend": false,
         "textposition": "auto",
         "type": "bar",
         "x": [
          "CHWwgaK",
          "CHIk1-y",
          "CHWnC1r",
          "CHrBpV_",
          "CHdpbqw",
          "CHdUcjk",
          "CHb-Abq",
          "CH_0oo0"
         ],
         "xaxis": "x4",
         "y": [
          1,
          1,
          1,
          1,
          1,
          1,
          1,
          1
         ],
         "yaxis": "y4"
        },
        {
         "alignmentgroup": "True",
         "hovertemplate": "category_name=Science & Technology<br>year_month=2021-07<br>channel_id=%{x}<br>video_id=%{y}<extra></extra>",
         "legendgroup": "Science & Technology",
         "marker": {
          "color": "#00cc96",
          "pattern": {
           "shape": ""
          }
         },
         "name": "Science & Technology",
         "offsetgroup": "Science & Technology",
         "orientation": "v",
         "showlegend": false,
         "textposition": "auto",
         "type": "bar",
         "x": [
          "CHdUcjk",
          "CHJJ_n7",
          "CHFX6ad",
          "CHB11SA",
          "CHj-MI9",
          "CH3dJKw"
         ],
         "xaxis": "x3",
         "y": [
          3,
          2,
          1,
          1,
          1,
          1
         ],
         "yaxis": "y3"
        },
        {
         "alignmentgroup": "True",
         "hovertemplate": "category_name=Science & Technology<br>year_month=2021-04<br>channel_id=%{x}<br>video_id=%{y}<extra></extra>",
         "legendgroup": "Science & Technology",
         "marker": {
          "color": "#00cc96",
          "pattern": {
           "shape": ""
          }
         },
         "name": "Science & Technology",
         "offsetgroup": "Science & Technology",
         "orientation": "v",
         "showlegend": false,
         "textposition": "auto",
         "type": "bar",
         "x": [
          "CHdUcjk",
          "CHUkuuo",
          "CHO4RG1",
          "CHIk1-y",
          "CHFX6ad",
          "CHE_M8A",
          "CHB11SA",
          "CH5aNQ6",
          "CH_0oo0"
         ],
         "xaxis": "x2",
         "y": [
          3,
          1,
          1,
          1,
          1,
          1,
          1,
          1,
          1
         ],
         "yaxis": "y2"
        },
        {
         "alignmentgroup": "True",
         "hovertemplate": "category_name=Science & Technology<br>year_month=2021-03<br>channel_id=%{x}<br>video_id=%{y}<extra></extra>",
         "legendgroup": "Science & Technology",
         "marker": {
          "color": "#00cc96",
          "pattern": {
           "shape": ""
          }
         },
         "name": "Science & Technology",
         "offsetgroup": "Science & Technology",
         "orientation": "v",
         "showlegend": false,
         "textposition": "auto",
         "type": "bar",
         "x": [
          "CHUkuuo"
         ],
         "xaxis": "x",
         "y": [
          1
         ],
         "yaxis": "y"
        },
        {
         "alignmentgroup": "True",
         "hovertemplate": "category_name=Autos & Vehicles<br>year_month=2021-06<br>channel_id=%{x}<br>video_id=%{y}<extra></extra>",
         "legendgroup": "Autos & Vehicles",
         "marker": {
          "color": "#ab63fa",
          "pattern": {
           "shape": ""
          }
         },
         "name": "Autos & Vehicles",
         "offsetgroup": "Autos & Vehicles",
         "orientation": "v",
         "showlegend": true,
         "textposition": "auto",
         "type": "bar",
         "x": [
          "CHiubh7",
          "CHd5CdY",
          "CHYVZ6z",
          "CHKnKi2",
          "CH5f97D",
          "CH2xkO7",
          "CHyF14S"
         ],
         "xaxis": "x5",
         "y": [
          1,
          1,
          1,
          1,
          1,
          1,
          1
         ],
         "yaxis": "y5"
        },
        {
         "alignmentgroup": "True",
         "hovertemplate": "category_name=Autos & Vehicles<br>year_month=2021-05<br>channel_id=%{x}<br>video_id=%{y}<extra></extra>",
         "legendgroup": "Autos & Vehicles",
         "marker": {
          "color": "#ab63fa",
          "pattern": {
           "shape": ""
          }
         },
         "name": "Autos & Vehicles",
         "offsetgroup": "Autos & Vehicles",
         "orientation": "v",
         "showlegend": false,
         "textposition": "auto",
         "type": "bar",
         "x": [
          "CHH5U89",
          "CHSkpiP",
          "CHPbxBh",
          "CHs2TmE"
         ],
         "xaxis": "x4",
         "y": [
          2,
          1,
          1,
          1
         ],
         "yaxis": "y4"
        },
        {
         "alignmentgroup": "True",
         "hovertemplate": "category_name=Autos & Vehicles<br>year_month=2021-07<br>channel_id=%{x}<br>video_id=%{y}<extra></extra>",
         "legendgroup": "Autos & Vehicles",
         "marker": {
          "color": "#ab63fa",
          "pattern": {
           "shape": ""
          }
         },
         "name": "Autos & Vehicles",
         "offsetgroup": "Autos & Vehicles",
         "orientation": "v",
         "showlegend": false,
         "textposition": "auto",
         "type": "bar",
         "x": [
          "CHDpnvN",
          "CHiubh7",
          "CH_rBRr",
          "CHp0B9n",
          "CHPbxBh",
          "CHkGHfa",
          "CHrOl7I"
         ],
         "xaxis": "x3",
         "y": [
          2,
          1,
          1,
          1,
          1,
          1,
          1
         ],
         "yaxis": "y3"
        },
        {
         "alignmentgroup": "True",
         "hovertemplate": "category_name=Autos & Vehicles<br>year_month=2021-04<br>channel_id=%{x}<br>video_id=%{y}<extra></extra>",
         "legendgroup": "Autos & Vehicles",
         "marker": {
          "color": "#ab63fa",
          "pattern": {
           "shape": ""
          }
         },
         "name": "Autos & Vehicles",
         "offsetgroup": "Autos & Vehicles",
         "orientation": "v",
         "showlegend": false,
         "textposition": "auto",
         "type": "bar",
         "x": [
          "CHrXkDA",
          "CHrOl7I",
          "CH-IBt8",
          "CHWY41Q",
          "CHiubh7",
          "CHd5CdY",
          "CHPbxBh",
          "CH5f97D",
          "CH2xkO7"
         ],
         "xaxis": "x2",
         "y": [
          2,
          2,
          1,
          1,
          1,
          1,
          1,
          1,
          1
         ],
         "yaxis": "y2"
        },
        {
         "alignmentgroup": "True",
         "hovertemplate": "category_name=Nonprofits & Activism<br>year_month=2021-05<br>channel_id=%{x}<br>video_id=%{y}<extra></extra>",
         "legendgroup": "Nonprofits & Activism",
         "marker": {
          "color": "#FFA15A",
          "pattern": {
           "shape": ""
          }
         },
         "name": "Nonprofits & Activism",
         "offsetgroup": "Nonprofits & Activism",
         "orientation": "v",
         "showlegend": true,
         "textposition": "auto",
         "type": "bar",
         "x": [
          "CHSsWdU"
         ],
         "xaxis": "x4",
         "y": [
          1
         ],
         "yaxis": "y4"
        }
       ],
       "layout": {
        "annotations": [
         {
          "font": {},
          "showarrow": false,
          "text": "2021-03",
          "textangle": 90,
          "x": 0.98,
          "xanchor": "left",
          "xref": "paper",
          "y": 0.08800000000000001,
          "yanchor": "middle",
          "yref": "paper"
         },
         {
          "font": {},
          "showarrow": false,
          "text": "2021-04",
          "textangle": 90,
          "x": 0.98,
          "xanchor": "left",
          "xref": "paper",
          "y": 0.29400000000000004,
          "yanchor": "middle",
          "yref": "paper"
         },
         {
          "font": {},
          "showarrow": false,
          "text": "2021-07",
          "textangle": 90,
          "x": 0.98,
          "xanchor": "left",
          "xref": "paper",
          "y": 0.5,
          "yanchor": "middle",
          "yref": "paper"
         },
         {
          "font": {},
          "showarrow": false,
          "text": "2021-05",
          "textangle": 90,
          "x": 0.98,
          "xanchor": "left",
          "xref": "paper",
          "y": 0.706,
          "yanchor": "middle",
          "yref": "paper"
         },
         {
          "font": {},
          "showarrow": false,
          "text": "2021-06",
          "textangle": 90,
          "x": 0.98,
          "xanchor": "left",
          "xref": "paper",
          "y": 0.912,
          "yanchor": "middle",
          "yref": "paper"
         }
        ],
        "barmode": "stack",
        "height": 800,
        "legend": {
         "title": {
          "text": "category_name"
         },
         "tracegroupgap": 0
        },
        "margin": {
         "t": 60
        },
        "template": {
         "data": {
          "bar": [
           {
            "error_x": {
             "color": "#2a3f5f"
            },
            "error_y": {
             "color": "#2a3f5f"
            },
            "marker": {
             "line": {
              "color": "#E5ECF6",
              "width": 0.5
             },
             "pattern": {
              "fillmode": "overlay",
              "size": 10,
              "solidity": 0.2
             }
            },
            "type": "bar"
           }
          ],
          "barpolar": [
           {
            "marker": {
             "line": {
              "color": "#E5ECF6",
              "width": 0.5
             },
             "pattern": {
              "fillmode": "overlay",
              "size": 10,
              "solidity": 0.2
             }
            },
            "type": "barpolar"
           }
          ],
          "carpet": [
           {
            "aaxis": {
             "endlinecolor": "#2a3f5f",
             "gridcolor": "white",
             "linecolor": "white",
             "minorgridcolor": "white",
             "startlinecolor": "#2a3f5f"
            },
            "baxis": {
             "endlinecolor": "#2a3f5f",
             "gridcolor": "white",
             "linecolor": "white",
             "minorgridcolor": "white",
             "startlinecolor": "#2a3f5f"
            },
            "type": "carpet"
           }
          ],
          "choropleth": [
           {
            "colorbar": {
             "outlinewidth": 0,
             "ticks": ""
            },
            "type": "choropleth"
           }
          ],
          "contour": [
           {
            "colorbar": {
             "outlinewidth": 0,
             "ticks": ""
            },
            "colorscale": [
             [
              0,
              "#0d0887"
             ],
             [
              0.1111111111111111,
              "#46039f"
             ],
             [
              0.2222222222222222,
              "#7201a8"
             ],
             [
              0.3333333333333333,
              "#9c179e"
             ],
             [
              0.4444444444444444,
              "#bd3786"
             ],
             [
              0.5555555555555556,
              "#d8576b"
             ],
             [
              0.6666666666666666,
              "#ed7953"
             ],
             [
              0.7777777777777778,
              "#fb9f3a"
             ],
             [
              0.8888888888888888,
              "#fdca26"
             ],
             [
              1,
              "#f0f921"
             ]
            ],
            "type": "contour"
           }
          ],
          "contourcarpet": [
           {
            "colorbar": {
             "outlinewidth": 0,
             "ticks": ""
            },
            "type": "contourcarpet"
           }
          ],
          "heatmap": [
           {
            "colorbar": {
             "outlinewidth": 0,
             "ticks": ""
            },
            "colorscale": [
             [
              0,
              "#0d0887"
             ],
             [
              0.1111111111111111,
              "#46039f"
             ],
             [
              0.2222222222222222,
              "#7201a8"
             ],
             [
              0.3333333333333333,
              "#9c179e"
             ],
             [
              0.4444444444444444,
              "#bd3786"
             ],
             [
              0.5555555555555556,
              "#d8576b"
             ],
             [
              0.6666666666666666,
              "#ed7953"
             ],
             [
              0.7777777777777778,
              "#fb9f3a"
             ],
             [
              0.8888888888888888,
              "#fdca26"
             ],
             [
              1,
              "#f0f921"
             ]
            ],
            "type": "heatmap"
           }
          ],
          "heatmapgl": [
           {
            "colorbar": {
             "outlinewidth": 0,
             "ticks": ""
            },
            "colorscale": [
             [
              0,
              "#0d0887"
             ],
             [
              0.1111111111111111,
              "#46039f"
             ],
             [
              0.2222222222222222,
              "#7201a8"
             ],
             [
              0.3333333333333333,
              "#9c179e"
             ],
             [
              0.4444444444444444,
              "#bd3786"
             ],
             [
              0.5555555555555556,
              "#d8576b"
             ],
             [
              0.6666666666666666,
              "#ed7953"
             ],
             [
              0.7777777777777778,
              "#fb9f3a"
             ],
             [
              0.8888888888888888,
              "#fdca26"
             ],
             [
              1,
              "#f0f921"
             ]
            ],
            "type": "heatmapgl"
           }
          ],
          "histogram": [
           {
            "marker": {
             "pattern": {
              "fillmode": "overlay",
              "size": 10,
              "solidity": 0.2
             }
            },
            "type": "histogram"
           }
          ],
          "histogram2d": [
           {
            "colorbar": {
             "outlinewidth": 0,
             "ticks": ""
            },
            "colorscale": [
             [
              0,
              "#0d0887"
             ],
             [
              0.1111111111111111,
              "#46039f"
             ],
             [
              0.2222222222222222,
              "#7201a8"
             ],
             [
              0.3333333333333333,
              "#9c179e"
             ],
             [
              0.4444444444444444,
              "#bd3786"
             ],
             [
              0.5555555555555556,
              "#d8576b"
             ],
             [
              0.6666666666666666,
              "#ed7953"
             ],
             [
              0.7777777777777778,
              "#fb9f3a"
             ],
             [
              0.8888888888888888,
              "#fdca26"
             ],
             [
              1,
              "#f0f921"
             ]
            ],
            "type": "histogram2d"
           }
          ],
          "histogram2dcontour": [
           {
            "colorbar": {
             "outlinewidth": 0,
             "ticks": ""
            },
            "colorscale": [
             [
              0,
              "#0d0887"
             ],
             [
              0.1111111111111111,
              "#46039f"
             ],
             [
              0.2222222222222222,
              "#7201a8"
             ],
             [
              0.3333333333333333,
              "#9c179e"
             ],
             [
              0.4444444444444444,
              "#bd3786"
             ],
             [
              0.5555555555555556,
              "#d8576b"
             ],
             [
              0.6666666666666666,
              "#ed7953"
             ],
             [
              0.7777777777777778,
              "#fb9f3a"
             ],
             [
              0.8888888888888888,
              "#fdca26"
             ],
             [
              1,
              "#f0f921"
             ]
            ],
            "type": "histogram2dcontour"
           }
          ],
          "mesh3d": [
           {
            "colorbar": {
             "outlinewidth": 0,
             "ticks": ""
            },
            "type": "mesh3d"
           }
          ],
          "parcoords": [
           {
            "line": {
             "colorbar": {
              "outlinewidth": 0,
              "ticks": ""
             }
            },
            "type": "parcoords"
           }
          ],
          "pie": [
           {
            "automargin": true,
            "type": "pie"
           }
          ],
          "scatter": [
           {
            "marker": {
             "colorbar": {
              "outlinewidth": 0,
              "ticks": ""
             }
            },
            "type": "scatter"
           }
          ],
          "scatter3d": [
           {
            "line": {
             "colorbar": {
              "outlinewidth": 0,
              "ticks": ""
             }
            },
            "marker": {
             "colorbar": {
              "outlinewidth": 0,
              "ticks": ""
             }
            },
            "type": "scatter3d"
           }
          ],
          "scattercarpet": [
           {
            "marker": {
             "colorbar": {
              "outlinewidth": 0,
              "ticks": ""
             }
            },
            "type": "scattercarpet"
           }
          ],
          "scattergeo": [
           {
            "marker": {
             "colorbar": {
              "outlinewidth": 0,
              "ticks": ""
             }
            },
            "type": "scattergeo"
           }
          ],
          "scattergl": [
           {
            "marker": {
             "colorbar": {
              "outlinewidth": 0,
              "ticks": ""
             }
            },
            "type": "scattergl"
           }
          ],
          "scattermapbox": [
           {
            "marker": {
             "colorbar": {
              "outlinewidth": 0,
              "ticks": ""
             }
            },
            "type": "scattermapbox"
           }
          ],
          "scatterpolar": [
           {
            "marker": {
             "colorbar": {
              "outlinewidth": 0,
              "ticks": ""
             }
            },
            "type": "scatterpolar"
           }
          ],
          "scatterpolargl": [
           {
            "marker": {
             "colorbar": {
              "outlinewidth": 0,
              "ticks": ""
             }
            },
            "type": "scatterpolargl"
           }
          ],
          "scatterternary": [
           {
            "marker": {
             "colorbar": {
              "outlinewidth": 0,
              "ticks": ""
             }
            },
            "type": "scatterternary"
           }
          ],
          "surface": [
           {
            "colorbar": {
             "outlinewidth": 0,
             "ticks": ""
            },
            "colorscale": [
             [
              0,
              "#0d0887"
             ],
             [
              0.1111111111111111,
              "#46039f"
             ],
             [
              0.2222222222222222,
              "#7201a8"
             ],
             [
              0.3333333333333333,
              "#9c179e"
             ],
             [
              0.4444444444444444,
              "#bd3786"
             ],
             [
              0.5555555555555556,
              "#d8576b"
             ],
             [
              0.6666666666666666,
              "#ed7953"
             ],
             [
              0.7777777777777778,
              "#fb9f3a"
             ],
             [
              0.8888888888888888,
              "#fdca26"
             ],
             [
              1,
              "#f0f921"
             ]
            ],
            "type": "surface"
           }
          ],
          "table": [
           {
            "cells": {
             "fill": {
              "color": "#EBF0F8"
             },
             "line": {
              "color": "white"
             }
            },
            "header": {
             "fill": {
              "color": "#C8D4E3"
             },
             "line": {
              "color": "white"
             }
            },
            "type": "table"
           }
          ]
         },
         "layout": {
          "annotationdefaults": {
           "arrowcolor": "#2a3f5f",
           "arrowhead": 0,
           "arrowwidth": 1
          },
          "autotypenumbers": "strict",
          "coloraxis": {
           "colorbar": {
            "outlinewidth": 0,
            "ticks": ""
           }
          },
          "colorscale": {
           "diverging": [
            [
             0,
             "#8e0152"
            ],
            [
             0.1,
             "#c51b7d"
            ],
            [
             0.2,
             "#de77ae"
            ],
            [
             0.3,
             "#f1b6da"
            ],
            [
             0.4,
             "#fde0ef"
            ],
            [
             0.5,
             "#f7f7f7"
            ],
            [
             0.6,
             "#e6f5d0"
            ],
            [
             0.7,
             "#b8e186"
            ],
            [
             0.8,
             "#7fbc41"
            ],
            [
             0.9,
             "#4d9221"
            ],
            [
             1,
             "#276419"
            ]
           ],
           "sequential": [
            [
             0,
             "#0d0887"
            ],
            [
             0.1111111111111111,
             "#46039f"
            ],
            [
             0.2222222222222222,
             "#7201a8"
            ],
            [
             0.3333333333333333,
             "#9c179e"
            ],
            [
             0.4444444444444444,
             "#bd3786"
            ],
            [
             0.5555555555555556,
             "#d8576b"
            ],
            [
             0.6666666666666666,
             "#ed7953"
            ],
            [
             0.7777777777777778,
             "#fb9f3a"
            ],
            [
             0.8888888888888888,
             "#fdca26"
            ],
            [
             1,
             "#f0f921"
            ]
           ],
           "sequentialminus": [
            [
             0,
             "#0d0887"
            ],
            [
             0.1111111111111111,
             "#46039f"
            ],
            [
             0.2222222222222222,
             "#7201a8"
            ],
            [
             0.3333333333333333,
             "#9c179e"
            ],
            [
             0.4444444444444444,
             "#bd3786"
            ],
            [
             0.5555555555555556,
             "#d8576b"
            ],
            [
             0.6666666666666666,
             "#ed7953"
            ],
            [
             0.7777777777777778,
             "#fb9f3a"
            ],
            [
             0.8888888888888888,
             "#fdca26"
            ],
            [
             1,
             "#f0f921"
            ]
           ]
          },
          "colorway": [
           "#636efa",
           "#EF553B",
           "#00cc96",
           "#ab63fa",
           "#FFA15A",
           "#19d3f3",
           "#FF6692",
           "#B6E880",
           "#FF97FF",
           "#FECB52"
          ],
          "font": {
           "color": "#2a3f5f"
          },
          "geo": {
           "bgcolor": "white",
           "lakecolor": "white",
           "landcolor": "#E5ECF6",
           "showlakes": true,
           "showland": true,
           "subunitcolor": "white"
          },
          "hoverlabel": {
           "align": "left"
          },
          "hovermode": "closest",
          "mapbox": {
           "style": "light"
          },
          "paper_bgcolor": "white",
          "plot_bgcolor": "#E5ECF6",
          "polar": {
           "angularaxis": {
            "gridcolor": "white",
            "linecolor": "white",
            "ticks": ""
           },
           "bgcolor": "#E5ECF6",
           "radialaxis": {
            "gridcolor": "white",
            "linecolor": "white",
            "ticks": ""
           }
          },
          "scene": {
           "xaxis": {
            "backgroundcolor": "#E5ECF6",
            "gridcolor": "white",
            "gridwidth": 2,
            "linecolor": "white",
            "showbackground": true,
            "ticks": "",
            "zerolinecolor": "white"
           },
           "yaxis": {
            "backgroundcolor": "#E5ECF6",
            "gridcolor": "white",
            "gridwidth": 2,
            "linecolor": "white",
            "showbackground": true,
            "ticks": "",
            "zerolinecolor": "white"
           },
           "zaxis": {
            "backgroundcolor": "#E5ECF6",
            "gridcolor": "white",
            "gridwidth": 2,
            "linecolor": "white",
            "showbackground": true,
            "ticks": "",
            "zerolinecolor": "white"
           }
          },
          "shapedefaults": {
           "line": {
            "color": "#2a3f5f"
           }
          },
          "ternary": {
           "aaxis": {
            "gridcolor": "white",
            "linecolor": "white",
            "ticks": ""
           },
           "baxis": {
            "gridcolor": "white",
            "linecolor": "white",
            "ticks": ""
           },
           "bgcolor": "#E5ECF6",
           "caxis": {
            "gridcolor": "white",
            "linecolor": "white",
            "ticks": ""
           }
          },
          "title": {
           "x": 0.05
          },
          "xaxis": {
           "automargin": true,
           "gridcolor": "white",
           "linecolor": "white",
           "ticks": "",
           "title": {
            "standoff": 15
           },
           "zerolinecolor": "white",
           "zerolinewidth": 2
          },
          "yaxis": {
           "automargin": true,
           "gridcolor": "white",
           "linecolor": "white",
           "ticks": "",
           "title": {
            "standoff": 15
           },
           "zerolinecolor": "white",
           "zerolinewidth": 2
          }
         }
        },
        "title": {
         "text": "Video Count by Category and Channel"
        },
        "width": 1600,
        "xaxis": {
         "anchor": "y",
         "domain": [
          0,
          0.98
         ],
         "title": {
          "text": "Channel"
         }
        },
        "xaxis2": {
         "anchor": "y2",
         "domain": [
          0,
          0.98
         ],
         "matches": "x",
         "showticklabels": false
        },
        "xaxis3": {
         "anchor": "y3",
         "domain": [
          0,
          0.98
         ],
         "matches": "x",
         "showticklabels": false
        },
        "xaxis4": {
         "anchor": "y4",
         "domain": [
          0,
          0.98
         ],
         "matches": "x",
         "showticklabels": false
        },
        "xaxis5": {
         "anchor": "y5",
         "domain": [
          0,
          0.98
         ],
         "matches": "x",
         "showticklabels": false
        },
        "yaxis": {
         "anchor": "x",
         "domain": [
          0,
          0.17600000000000002
         ],
         "title": {
          "text": "Video Count"
         }
        },
        "yaxis2": {
         "anchor": "x2",
         "domain": [
          0.20600000000000002,
          0.382
         ],
         "matches": "y",
         "title": {
          "text": "Video Count"
         }
        },
        "yaxis3": {
         "anchor": "x3",
         "domain": [
          0.41200000000000003,
          0.5880000000000001
         ],
         "matches": "y",
         "title": {
          "text": "Video Count"
         }
        },
        "yaxis4": {
         "anchor": "x4",
         "domain": [
          0.618,
          0.794
         ],
         "matches": "y",
         "title": {
          "text": "Video Count"
         }
        },
        "yaxis5": {
         "anchor": "x5",
         "domain": [
          0.8240000000000001,
          1
         ],
         "matches": "y",
         "title": {
          "text": "Video Count"
         }
        }
       }
      },
      "text/html": [
       "<div>                            <div id=\"cb9f9d5e-0a61-4f72-a123-3a61e3415726\" class=\"plotly-graph-div\" style=\"height:800px; width:1600px;\"></div>            <script type=\"text/javascript\">                require([\"plotly\"], function(Plotly) {                    window.PLOTLYENV=window.PLOTLYENV || {};                                    if (document.getElementById(\"cb9f9d5e-0a61-4f72-a123-3a61e3415726\")) {                    Plotly.newPlot(                        \"cb9f9d5e-0a61-4f72-a123-3a61e3415726\",                        [{\"alignmentgroup\":\"True\",\"hovertemplate\":\"category_name=Sports<br>year_month=2021-06<br>channel_id=%{x}<br>video_id=%{y}<extra></extra>\",\"legendgroup\":\"Sports\",\"marker\":{\"color\":\"#636efa\",\"pattern\":{\"shape\":\"\"}},\"name\":\"Sports\",\"offsetgroup\":\"Sports\",\"orientation\":\"v\",\"showlegend\":true,\"textposition\":\"auto\",\"x\":[\"CHtybqq\",\"CHpjOmw\",\"CHdtRAc\",\"CH218FQ\",\"CHdhukF\",\"CHdTDdy\",\"CHQ4eZw\",\"CHUQVGX\",\"CHtctOX\",\"CHoe-0E\",\"CHqsKWT\",\"CHvMwK5\",\"CHfHsXd\",\"CHgp0KT\",\"CHhg51l\",\"CH4yq3F\",\"CH2qVOO\",\"CH7YF5m\",\"CHnXNuk\",\"CHkFGfv\",\"CHi84e1\",\"CHunsfa\",\"CHtm_Qo\",\"CHoLrcj\",\"CHINRJx\",\"CHI0FxD\",\"CHDIB1D\",\"CHBKMc4\",\"CHc7o0O\",\"CHZeHMS\",\"CHTqenv\",\"CHYJDUe\"],\"xaxis\":\"x5\",\"y\":[15,6,4,3,3,3,2,2,2,2,2,2,2,2,2,1,1,1,1,1,1,1,1,1,1,1,1,1,1,1,1,1],\"yaxis\":\"y5\",\"type\":\"bar\"},{\"alignmentgroup\":\"True\",\"hovertemplate\":\"category_name=Sports<br>year_month=2021-05<br>channel_id=%{x}<br>video_id=%{y}<extra></extra>\",\"legendgroup\":\"Sports\",\"marker\":{\"color\":\"#636efa\",\"pattern\":{\"shape\":\"\"}},\"name\":\"Sports\",\"offsetgroup\":\"Sports\",\"orientation\":\"v\",\"showlegend\":false,\"textposition\":\"auto\",\"x\":[\"CHunsfa\",\"CHtm_Qo\",\"CHdTDdy\",\"CHdtRAc\",\"CHkFGfv\",\"CH7JbUm\",\"CH2qVOO\",\"CH9LQwH\",\"CHgp0KT\",\"CHnXNuk\",\"CHn9mJ4\",\"CHhb4gt\",\"CHhI3EX\",\"CHh4APi\",\"CHoHirU\",\"CHoLrcj\",\"CHt8iRt\",\"CHqsKWT\",\"CHgIArN\",\"CHP6Cn6\",\"CHChcWq\",\"CHRDowc\",\"CHdhukF\",\"CHZeHMS\",\"CHUQVGX\"],\"xaxis\":\"x4\",\"y\":[5,2,2,2,2,1,1,1,1,1,1,1,1,1,1,1,1,1,1,1,1,1,1,1,1],\"yaxis\":\"y4\",\"type\":\"bar\"},{\"alignmentgroup\":\"True\",\"hovertemplate\":\"category_name=Sports<br>year_month=2021-07<br>channel_id=%{x}<br>video_id=%{y}<extra></extra>\",\"legendgroup\":\"Sports\",\"marker\":{\"color\":\"#636efa\",\"pattern\":{\"shape\":\"\"}},\"name\":\"Sports\",\"offsetgroup\":\"Sports\",\"orientation\":\"v\",\"showlegend\":false,\"textposition\":\"auto\",\"x\":[\"CHYRrUD\",\"CHk4XjB\",\"CHUQVGX\",\"CHArK9M\",\"CHDIB1D\",\"CHcQTRi\",\"CHtm_Qo\",\"CHoe-0E\",\"CHQ2TX8\",\"CHEg25r\",\"CHoLrcj\",\"CHnXNuk\",\"CHkFGfv\",\"CH218FQ\",\"CHhg51l\",\"CHhb4gt\",\"CHhI3EX\",\"CHunsfa\",\"CHqsKWT\",\"CHpjOmw\",\"CHgp0KT\",\"CHdhukF\",\"CHPxCAB\",\"CHG-Q7s\",\"CHQ4eZw\",\"CHRDowc\",\"CHc7o0O\",\"CHbhuEJ\"],\"xaxis\":\"x3\",\"y\":[8,6,6,5,4,4,4,3,2,2,2,2,2,1,1,1,1,1,1,1,1,1,1,1,1,1,1,1],\"yaxis\":\"y3\",\"type\":\"bar\"},{\"alignmentgroup\":\"True\",\"hovertemplate\":\"category_name=Sports<br>year_month=2021-04<br>channel_id=%{x}<br>video_id=%{y}<extra></extra>\",\"legendgroup\":\"Sports\",\"marker\":{\"color\":\"#636efa\",\"pattern\":{\"shape\":\"\"}},\"name\":\"Sports\",\"offsetgroup\":\"Sports\",\"orientation\":\"v\",\"showlegend\":false,\"textposition\":\"auto\",\"x\":[\"CHtm_Qo\",\"CH2qVOO\",\"CHhg51l\",\"CHhb4gt\",\"CHnXNuk\",\"CHc7o0O\",\"CHoLrcj\",\"CHunsfa\",\"CHdTDdy\",\"CHgp0KT\",\"CH7JbUm\",\"CH4_uws\",\"CH3GEDF\",\"CH9pdRy\",\"CHn9mJ4\",\"CHmKTwX\",\"CHkFGfv\",\"CHh4APi\",\"CHt7dVd\",\"CHqsKWT\",\"CHArK9M\",\"CHQ4eZw\",\"CHKHLAo\",\"CHEg25r\",\"CHET00Y\",\"CHD902z\",\"CHCA4-e\",\"CHZeHMS\",\"CHX0xc2\",\"CHUXDKi\",\"CHUQVGX\",\"CHTv-Xv\"],\"xaxis\":\"x2\",\"y\":[5,4,4,3,3,2,2,2,2,2,1,1,1,1,1,1,1,1,1,1,1,1,1,1,1,1,1,1,1,1,1,1],\"yaxis\":\"y2\",\"type\":\"bar\"},{\"alignmentgroup\":\"True\",\"hovertemplate\":\"category_name=Sports<br>year_month=2021-03<br>channel_id=%{x}<br>video_id=%{y}<extra></extra>\",\"legendgroup\":\"Sports\",\"marker\":{\"color\":\"#636efa\",\"pattern\":{\"shape\":\"\"}},\"name\":\"Sports\",\"offsetgroup\":\"Sports\",\"orientation\":\"v\",\"showlegend\":false,\"textposition\":\"auto\",\"x\":[\"CH2qVOO\",\"CHoHirU\",\"CHCA4-e\",\"CHZSNhO\"],\"xaxis\":\"x\",\"y\":[1,1,1,1],\"yaxis\":\"y\",\"type\":\"bar\"},{\"alignmentgroup\":\"True\",\"hovertemplate\":\"category_name=Entertainment<br>year_month=2021-06<br>channel_id=%{x}<br>video_id=%{y}<extra></extra>\",\"legendgroup\":\"Entertainment\",\"marker\":{\"color\":\"#EF553B\",\"pattern\":{\"shape\":\"\"}},\"name\":\"Entertainment\",\"offsetgroup\":\"Entertainment\",\"orientation\":\"v\",\"showlegend\":true,\"textposition\":\"auto\",\"x\":[\"CHUyfkq\",\"CHVWmCR\",\"CHlzB2i\",\"CHj-dur\",\"CHcOYEm\",\"CH0PsUG\",\"CH2E-9A\",\"CH0VR2v\",\"CHIA-LP\",\"CH6erID\",\"CHF8W68\",\"CH78PMQ\",\"CHiwQRG\",\"CHZVD--\",\"CH3re3u\",\"CHiBKp3\",\"CHPx-7A\",\"CHqHP70\",\"CHTQVIX\",\"CHaNGiz\",\"CHaKod3\",\"CHYgUhR\",\"CHXZx95\",\"CHUj6rr\",\"CHUnSdg\",\"CHVyhgR\",\"CHbuks6\",\"CHrhH1d\",\"CHrSase\",\"CHyozK5\",\"CHqq-ov\",\"CHmgt7e\",\"CHpjm6R\",\"CHnx4Fi\",\"CHnNNN_\",\"CHwNVDl\",\"CHwx6n_\",\"CHuTKrQ\",\"CHx6jsZ\",\"CHtDcEb\",\"CHs8R3n\",\"CHgiO7K\",\"CHdWgRS\",\"CHhgOgR\",\"CHk6bX-\",\"CHk5bhZ\",\"CHjToDB\",\"CHiEEF5\",\"CHiBr0b\",\"CHi9Sl8\",\"CHweOkP\",\"CHDih-8\",\"CHKxLXX\",\"CHOHM2N\",\"CHQ2O-i\",\"CH9HNi_\",\"CHRMA_N\",\"CHHzW_7\",\"CHObJpv\",\"CHCfQK8\",\"CHIueAL\",\"CHIn1p2\",\"CHJmcPV\",\"CHLtOnh\",\"CHLKugl\",\"CHK1sVu\",\"CHKdfNL\",\"CHK3p1w\",\"CHGWhMp\",\"CHC1LvV\",\"CH9nLq3\",\"CH9idb-\",\"CH8WoHU\",\"CHDb1t5\",\"CHF3UEV\",\"CHEwOn7\",\"CHEX1cZ\",\"CHEIi7z\",\"CHEI4rb\",\"CHYtjW8\",\"CHYZv9v\",\"CHY2uWQ\",\"CHXiyTP\",\"CHbY7nf\",\"CHbD8Ep\",\"CHbCr1d\",\"CHb2wZp\",\"CHZf4ZE\",\"CHWYzc_\",\"CHQNRHp\",\"CHOzWaj\",\"CHOJplh\",\"CHTuthm\",\"CHTnafh\",\"CHT2X19\",\"CH8RGSE\",\"CH8OUSY\",\"CH3W3kE\",\"CH2qjHK\",\"CH81Kll\",\"CH73yn5\",\"CH68buD\",\"CH5bUcn\",\"CH2KEmF\",\"CH2IIBY\",\"CH1cWTE\",\"CH1-lwA\",\"CHkjXq1\",\"CHkbJc8\",\"CHmbGE7\",\"CHoQIdt\",\"CHp0hYY\",\"CHoUDrz\",\"CHmjNKt\",\"CHjGoJb\",\"CHfugxK\",\"CHfWZns\",\"CHgeeQu\",\"CHclwLh\",\"CHgsffS\",\"CHhY4PX\",\"CHhE5nZ\",\"CHybzQL\",\"CHybPxZ\",\"CHy1fru\",\"CHy-NrX\",\"CHxQXvv\",\"CHzt24f\",\"CHrnPse\",\"CHsNVs6\",\"CHsM07d\",\"CHs1R9z\",\"CHriPmQ\",\"CHr0ade\",\"CHsOW9T\",\"CHsRIHt\",\"CHudezj\",\"CHtp1ok\"],\"xaxis\":\"x5\",\"y\":[5,4,4,3,3,3,3,3,3,3,3,3,3,3,3,3,3,3,3,2,2,2,2,2,2,2,2,2,2,2,2,2,2,2,2,2,2,2,2,2,2,2,2,2,2,2,2,2,2,2,2,2,2,2,2,2,2,2,2,2,1,1,1,1,1,1,1,1,1,1,1,1,1,1,1,1,1,1,1,1,1,1,1,1,1,1,1,1,1,1,1,1,1,1,1,1,1,1,1,1,1,1,1,1,1,1,1,1,1,1,1,1,1,1,1,1,1,1,1,1,1,1,1,1,1,1,1,1,1,1,1,1,1,1,1,1,1,1],\"yaxis\":\"y5\",\"type\":\"bar\"},{\"alignmentgroup\":\"True\",\"hovertemplate\":\"category_name=Entertainment<br>year_month=2021-05<br>channel_id=%{x}<br>video_id=%{y}<extra></extra>\",\"legendgroup\":\"Entertainment\",\"marker\":{\"color\":\"#EF553B\",\"pattern\":{\"shape\":\"\"}},\"name\":\"Entertainment\",\"offsetgroup\":\"Entertainment\",\"orientation\":\"v\",\"showlegend\":false,\"textposition\":\"auto\",\"x\":[\"CHQ2O-i\",\"CHPde4g\",\"CHiwQRG\",\"CHExw7_\",\"CHoXoV4\",\"CHIUfR-\",\"CHMGn0N\",\"CHlzB2i\",\"CHkxbPw\",\"CHbCr1d\",\"CH_Fxf0\",\"CH8OUSY\",\"CHEIi7z\",\"CHH1oRy\",\"CHy-swB\",\"CHs8R3n\",\"CHWYzc_\",\"CHpPXYy\",\"CHsRIHt\",\"CHy1fru\",\"CHKxLXX\",\"CHUXYT0\",\"CHS_hnp\",\"CHTnafh\",\"CHYSjF7\",\"CHqHP70\",\"CHyozK5\",\"CHqq-ov\",\"CHpjm6R\",\"CHs1R9z\",\"CHwx6n_\",\"CHu9BCt\",\"CHbEp_Z\",\"CHhE5nZ\",\"CHgZlBR\",\"CHg3Ydm\",\"CHem8l1\",\"CHe-gh0\",\"CHbVRtq\",\"CHhgOgR\",\"CHl_tB4\",\"CHj28Fv\",\"CHM31rB\",\"CH1HHeT\",\"CH0PsUG\",\"CH-giR4\",\"CH-VbFg\",\"CH3re3u\",\"CH8WoHU\",\"CHHlSeJ\",\"CHHzW_7\",\"CHMtFAi\",\"CHNIiH_\",\"CHFL1sC\",\"CHEwOn7\",\"CHBI8xZ\",\"CHCfQK8\",\"CHIueAL\",\"CHI5WgF\",\"CHGrfaH\",\"CHGrAnV\",\"CHGnfBj\",\"CHLKugl\",\"CHLF1hN\",\"CHKdfNL\",\"CHG0Jec\",\"CHFg6o2\",\"CHCCjbf\",\"CHBOs39\",\"CH9kUsu\",\"CH920m3\",\"CHF3UEV\",\"CHDhM2k\",\"CHEI4rb\",\"CHNQL3R\",\"CHNl-TU\",\"CHYyLIl\",\"CHYtjW8\",\"CHYmo0H\",\"CHXaYpH\",\"CHXZx95\",\"CHZCH_G\",\"CHbs5PG\",\"CHaZS_X\",\"CHaKod3\",\"CHZf4ZE\",\"CHWhiqH\",\"CHPx-7A\",\"CHRMA_N\",\"CHR5cyf\",\"CHQNRHp\",\"CHRWzK4\",\"CHPKNKl\",\"CHOtCBu\",\"CHVXN28\",\"CHTuthm\",\"CHTS3Lw\",\"CHTQVIX\",\"CHTOUUd\",\"CH88r6m\",\"CH4nEQI\",\"CH46BbE\",\"CH3SyT4\",\"CH35HKv\",\"CH2qjHK\",\"CH5Ida8\",\"CH73yn5\",\"CH5bUcn\",\"CH6erID\",\"CH1LWEy\",\"CH1cWTE\",\"CH-Jblc\",\"CH1L79y\",\"CH0VR2v\",\"CHpK0ae\",\"CHmbGE7\",\"CHm2PiW\",\"CHkjXq1\",\"CHkQCwn\",\"CHk6bX-\",\"CHk5bhZ\",\"CHmgt7e\",\"CHoW9qW\",\"CHoUDrz\",\"CHoQIdt\",\"CHmjNKt\",\"CHnx4Fi\",\"CHnLeqv\",\"CHfnMSb\",\"CHffY-g\",\"CHchRZl\",\"CHj-dur\",\"CHiEEF5\",\"CHiBKp3\",\"CHi9Sl8\",\"CHhLGxP\",\"CHhK2Dh\",\"CHpBkdV\",\"CHy-NrX\",\"CHxmBxN\",\"CHxQXvv\",\"CHx6jsZ\",\"CHweOkP\",\"CHwNVDl\",\"CHvScwM\",\"CHsOW9T\",\"CHsNVs6\",\"CHrLUuZ\",\"CHvAewW\",\"CHudezj\",\"CHtckgm\",\"CHtDcEb\",\"CHseQwR\"],\"xaxis\":\"x4\",\"y\":[9,5,5,5,4,4,4,3,3,3,3,3,3,3,3,3,3,3,3,3,3,2,2,2,2,2,2,2,2,2,2,2,2,2,2,2,2,2,2,2,2,2,2,2,2,2,2,2,2,2,2,2,2,2,2,2,2,1,1,1,1,1,1,1,1,1,1,1,1,1,1,1,1,1,1,1,1,1,1,1,1,1,1,1,1,1,1,1,1,1,1,1,1,1,1,1,1,1,1,1,1,1,1,1,1,1,1,1,1,1,1,1,1,1,1,1,1,1,1,1,1,1,1,1,1,1,1,1,1,1,1,1,1,1,1,1,1,1,1,1,1,1,1,1,1,1,1,1,1,1,1,1,1],\"yaxis\":\"y4\",\"type\":\"bar\"},{\"alignmentgroup\":\"True\",\"hovertemplate\":\"category_name=Entertainment<br>year_month=2021-07<br>channel_id=%{x}<br>video_id=%{y}<extra></extra>\",\"legendgroup\":\"Entertainment\",\"marker\":{\"color\":\"#EF553B\",\"pattern\":{\"shape\":\"\"}},\"name\":\"Entertainment\",\"offsetgroup\":\"Entertainment\",\"orientation\":\"v\",\"showlegend\":false,\"textposition\":\"auto\",\"x\":[\"CHk6bX-\",\"CHaKod3\",\"CHlzB2i\",\"CHYtjW8\",\"CHYn09y\",\"CHZf4ZE\",\"CH9idb-\",\"CHtDcEb\",\"CHOHM2N\",\"CHy-swB\",\"CHybPxZ\",\"CHWYzc_\",\"CHnLeqv\",\"CHoCvTl\",\"CHnx4Fi\",\"CHYZv9v\",\"CHmjNKt\",\"CHTuthm\",\"CHbCr1d\",\"CHb-y7Y\",\"CH_pOKL\",\"CHiEEF5\",\"CHbD8Ep\",\"CHrhgVH\",\"CHrSase\",\"CHr0ade\",\"CHqq-ov\",\"CHqHP70\",\"CHpjm6R\",\"CHyozK5\",\"CHriPmQ\",\"CHwx6n_\",\"CHx6jsZ\",\"CHxLc0z\",\"CHs1R9z\",\"CHhE5nZ\",\"CHgsffS\",\"CHepUWU\",\"CHdWgRS\",\"CHbEp_Z\",\"CHhgOgR\",\"CHkxbPw\",\"CHkbJc8\",\"CHiwQRG\",\"CH0VR2v\",\"CH0PsUG\",\"CH4JAFO\",\"CH2tfQf\",\"CH2E-9A\",\"CHEX1cZ\",\"CHEwOn7\",\"CHRLM0M\",\"CHQ2O-i\",\"CHIUfR-\",\"CH920m3\",\"CHGMHKj\",\"CHIuteB\",\"CHIY5oU\",\"CHHcDLO\",\"CHGrfaH\",\"CHJmcPV\",\"CHNIiH_\",\"CHNE1pY\",\"CHLynj-\",\"CHKxLXX\",\"CHK1sVu\",\"CHbuks6\",\"CHBpzJv\",\"CH9w-h_\",\"CH9HNi_\",\"CHFL1sC\",\"CHF8W68\",\"CHF3UEV\",\"CHEkcg9\",\"CHEIi7z\",\"CHEI4rb\",\"CHNQL3R\",\"CHYyLIl\",\"CHXaYpH\",\"CHZECMC\",\"CHZTPmB\",\"CHQNRHp\",\"CHPx-7A\",\"CHObJpv\",\"CHRMA_N\",\"CHVWmCR\",\"CHU8MOm\",\"CHTnafh\",\"CHTmrCB\",\"CH81Kll\",\"CH4qc3p\",\"CH49ta0\",\"CH3re3u\",\"CH3m0s5\",\"CH3SyT4\",\"CH2qjHK\",\"CH5Ida8\",\"CH78PMQ\",\"CH6erID\",\"CH5zXl0\",\"CH5q0PI\",\"CH5bUcn\",\"CH2IIBY\",\"CH2DoAr\",\"CH2DHU9\",\"CH1cWTE\",\"CH1L79y\",\"CHcTWmz\",\"CHm2PiW\",\"CHkQCwn\",\"CHjToDB\",\"CHmbGE7\",\"CHnNfsL\",\"CHjGoJb\",\"CHfWZns\",\"CHg8U-Z\",\"CHfela5\",\"CHed3O-\",\"CHgZlBR\",\"CHid83o\",\"CHiBKp3\",\"CHhLGxP\",\"CHy-NrX\",\"CHwNVDl\",\"CHsNVs6\",\"CHuTKrQ\",\"CHtckgm\",\"CHsRIHt\",\"CHsU2Rl\"],\"xaxis\":\"x3\",\"y\":[4,4,3,3,3,3,3,3,3,3,3,3,3,3,3,3,3,2,2,2,2,2,2,2,2,2,2,2,2,2,2,2,2,2,2,2,2,2,2,2,2,2,2,2,2,2,2,2,2,2,2,2,2,2,2,1,1,1,1,1,1,1,1,1,1,1,1,1,1,1,1,1,1,1,1,1,1,1,1,1,1,1,1,1,1,1,1,1,1,1,1,1,1,1,1,1,1,1,1,1,1,1,1,1,1,1,1,1,1,1,1,1,1,1,1,1,1,1,1,1,1,1,1,1,1,1,1,1,1],\"yaxis\":\"y3\",\"type\":\"bar\"},{\"alignmentgroup\":\"True\",\"hovertemplate\":\"category_name=Entertainment<br>year_month=2021-04<br>channel_id=%{x}<br>video_id=%{y}<extra></extra>\",\"legendgroup\":\"Entertainment\",\"marker\":{\"color\":\"#EF553B\",\"pattern\":{\"shape\":\"\"}},\"name\":\"Entertainment\",\"offsetgroup\":\"Entertainment\",\"orientation\":\"v\",\"showlegend\":false,\"textposition\":\"auto\",\"x\":[\"CHUyfkq\",\"CH1L79y\",\"CHeSHil\",\"CHx6jsZ\",\"CHiwQRG\",\"CHkxbPw\",\"CHFL1sC\",\"CHQ2O-i\",\"CHmONdw\",\"CH1cWTE\",\"CHIA-LP\",\"CHcOYEm\",\"CH0VR2v\",\"CHlzB2i\",\"CHbD8Ep\",\"CHhY4PX\",\"CH5Ida8\",\"CH3SyT4\",\"CHGsJRp\",\"CHPx-7A\",\"CHVWmCR\",\"CHNIiH_\",\"CHK1sVu\",\"CHmjNKt\",\"CHpjm6R\",\"CHwNVDl\",\"CHaKod3\",\"CHZf4ZE\",\"CH_plsx\",\"CHXaYpH\",\"CHYyLIl\",\"CHY2uWQ\",\"CHYC3ZZ\",\"CHYgUhR\",\"CHWhiqH\",\"CHXZx95\",\"CHZCH_G\",\"CHreX6A\",\"CHod5V2\",\"CHxQXvv\",\"CHy-swB\",\"CHgeeQu\",\"CHhgOgR\",\"CHmApNd\",\"CHm2PiW\",\"CHiBr0b\",\"CHiBKp3\",\"CH0PsUG\",\"CH-BqPA\",\"CH8OUSY\",\"CH78PMQ\",\"CH3m0s5\",\"CHKxLXX\",\"CHEwOn7\",\"CHwx6n_\",\"CHLVwgJ\",\"CHB9e3p\",\"CHQNRHp\",\"CHJmcPV\",\"CHCfQK8\",\"CH9nLq3\",\"CHIueAL\",\"CHIY5oU\",\"CHIUfR-\",\"CHHzW_7\",\"CHGrfaH\",\"CHLynj-\",\"CHKuwp5\",\"CHKdfNL\",\"CHBwCGr\",\"CHB-ogY\",\"CHAP8OK\",\"CH9w-h_\",\"CH9HNi_\",\"CHDb1t5\",\"CHDhM2k\",\"CHF3UEV\",\"CHEIi7z\",\"CHOHM2N\",\"CHYtjW8\",\"CHYn09y\",\"CHYeeEw\",\"CHYZv9v\",\"CHYIxlZ\",\"CHaZS_X\",\"CHbCr1d\",\"CHaNGiz\",\"CHZVD--\",\"CHa56qk\",\"CH_pOKL\",\"CH_6zPf\",\"CHZtpUg\",\"CHWstBK\",\"CHR5cyf\",\"CHPde4g\",\"CHPECLB\",\"CHObJpv\",\"CHSB5FO\",\"CHWYzc_\",\"CHTuthm\",\"CHWJg0Q\",\"CHSQ55i\",\"CH4nEQI\",\"CH46BbE\",\"CH3Ea2-\",\"CH5bUcn\",\"CH6wiUw\",\"CH7QX2Y\",\"CH2aMxQ\",\"CH271vX\",\"CH2-Lri\",\"CH18g7g\",\"CH-VbFg\",\"CH-VOS6\",\"CHbuks6\",\"CHcTWmz\",\"CHmbGE7\",\"CHkjXq1\",\"CHkPp7P\",\"CHk6bX-\",\"CHjkoqt\",\"CHp0hYY\",\"CHoW9qW\",\"CHoUDrz\",\"CHnx4Fi\",\"CHnNfsL\",\"CHnLeqv\",\"CHg8U-Z\",\"CHfdYUR\",\"CHepUWU\",\"CHe_oTY\",\"CHdWgRS\",\"CHgiO7K\",\"CHhqMfc\",\"CHj-dur\",\"CHiP6DC\",\"CHhpiLQ\",\"CHhLGxP\",\"CHhE5nZ\",\"CHpPXYy\",\"CHyozK5\",\"CHy-NrX\",\"CHxmBxN\",\"CHxjERP\",\"CHwZTee\",\"CHsOW9T\",\"CHrjVVh\",\"CHsRIHt\",\"CHriPmQ\",\"CHrLUuZ\",\"CHtgggh\",\"CHvAewW\",\"CHuw1hx\",\"CHtkQiK\",\"CHtckgm\",\"CHtDcEb\",\"CHtCW8q\"],\"xaxis\":\"x2\",\"y\":[5,5,5,5,4,4,4,4,3,3,3,3,3,3,3,3,3,3,3,3,3,3,3,3,3,3,2,2,2,2,2,2,2,2,2,2,2,2,2,2,2,2,2,2,2,2,2,2,2,2,2,2,2,2,2,2,2,2,2,2,2,1,1,1,1,1,1,1,1,1,1,1,1,1,1,1,1,1,1,1,1,1,1,1,1,1,1,1,1,1,1,1,1,1,1,1,1,1,1,1,1,1,1,1,1,1,1,1,1,1,1,1,1,1,1,1,1,1,1,1,1,1,1,1,1,1,1,1,1,1,1,1,1,1,1,1,1,1,1,1,1,1,1,1,1,1,1,1,1,1,1,1,1,1,1,1,1],\"yaxis\":\"y2\",\"type\":\"bar\"},{\"alignmentgroup\":\"True\",\"hovertemplate\":\"category_name=Entertainment<br>year_month=2021-03<br>channel_id=%{x}<br>video_id=%{y}<extra></extra>\",\"legendgroup\":\"Entertainment\",\"marker\":{\"color\":\"#EF553B\",\"pattern\":{\"shape\":\"\"}},\"name\":\"Entertainment\",\"offsetgroup\":\"Entertainment\",\"orientation\":\"v\",\"showlegend\":false,\"textposition\":\"auto\",\"x\":[\"CHaKod3\",\"CH5BMQO\",\"CH46BbE\",\"CH920m3\",\"CHIY5oU\",\"CHJmcPV\",\"CHLVwgJ\",\"CHDb1t5\",\"CHEwOn7\",\"CHYyLIl\",\"CHUnSdg\",\"CHTnafh\",\"CH4LW3s\",\"CH7Krez\",\"CH78PMQ\",\"CH68buD\",\"CH12YJZ\",\"CHlzB2i\",\"CHjGoJb\",\"CHdUlCa\",\"CHqq-ov\",\"CHweOkP\",\"CHriPmQ\",\"CHrhH1d\"],\"xaxis\":\"x\",\"y\":[2,2,2,2,1,1,1,1,1,1,1,1,1,1,1,1,1,1,1,1,1,1,1,1],\"yaxis\":\"y\",\"type\":\"bar\"},{\"alignmentgroup\":\"True\",\"hovertemplate\":\"category_name=People & Blogs<br>year_month=2021-06<br>channel_id=%{x}<br>video_id=%{y}<extra></extra>\",\"legendgroup\":\"People & Blogs\",\"marker\":{\"color\":\"#00cc96\",\"pattern\":{\"shape\":\"\"}},\"name\":\"People & Blogs\",\"offsetgroup\":\"People & Blogs\",\"orientation\":\"v\",\"showlegend\":true,\"textposition\":\"auto\",\"x\":[\"CHtfriF\",\"CHuDLnJ\",\"CHfpaSr\",\"CHXTyJZ\",\"CHkkWd0\",\"CHpH3rU\",\"CHASfMq\",\"CHtkRVa\",\"CH1EiHI\",\"CHoQy2w\",\"CHdfhK0\",\"CHoPTIa\",\"CH26QQC\",\"CHIG4gr\",\"CH0ssa8\",\"CH4sIlW\",\"CH6lNIb\",\"CH48NSS\",\"CH31-nU\",\"CHBkXIe\",\"CHXURHJ\",\"CHPZ4e8\",\"CHPhHBE\",\"CHppou5\",\"CHrLQ0o\",\"CHychoc\",\"CH26M8b\",\"CH2tbZf\",\"CH2XG0i\",\"CH0wTMg\",\"CHzRDCw\",\"CHUsoow\",\"CHTx3aC\",\"CHSiGNr\",\"CHRzS1N\",\"CHQWylD\",\"CHOOKj-\",\"CHM64Ik\",\"CHyje3j\",\"CHYnfy2\",\"CHW945U\",\"CHVyMrl\",\"CHUyr50\",\"CHCJ2b2\",\"CHC4Qcw\",\"CHBoQ8_\",\"CHAhKKb\",\"CHA6KBB\",\"CH8MVMe\",\"CHHR4kW\",\"CHKFvox\",\"CHK72hq\",\"CHJko7d\",\"CHFLlNL\",\"CHYt4St\",\"CHZ1wYQ\",\"CHZwG8g\",\"CHrh6bu\",\"CHrFlv9\",\"CHqNN-b\",\"CHs9H--\",\"CHsP57H\",\"CHuZu8N\",\"CHvjhQp\",\"CHtfGLm\",\"CHmfVvm\",\"CH_EngQ\",\"CHknfGX\",\"CHcxK1U\",\"CHaPqda\",\"CHaPILm\",\"CHelPbn\",\"CHkJNt3\",\"CHjn-Vb\",\"CHjHn_O\",\"CHiMq04\",\"CHhna8l\",\"CHhji-o\",\"CHhK2Dh\"],\"xaxis\":\"x5\",\"y\":[6,5,3,3,3,3,3,3,3,2,2,2,2,2,2,2,2,2,2,2,2,2,2,2,2,2,1,1,1,1,1,1,1,1,1,1,1,1,1,1,1,1,1,1,1,1,1,1,1,1,1,1,1,1,1,1,1,1,1,1,1,1,1,1,1,1,1,1,1,1,1,1,1,1,1,1,1,1,1],\"yaxis\":\"y5\",\"type\":\"bar\"},{\"alignmentgroup\":\"True\",\"hovertemplate\":\"category_name=People & Blogs<br>year_month=2021-05<br>channel_id=%{x}<br>video_id=%{y}<extra></extra>\",\"legendgroup\":\"People & Blogs\",\"marker\":{\"color\":\"#00cc96\",\"pattern\":{\"shape\":\"\"}},\"name\":\"People & Blogs\",\"offsetgroup\":\"People & Blogs\",\"orientation\":\"v\",\"showlegend\":false,\"textposition\":\"auto\",\"x\":[\"CHIG4gr\",\"CHDV9zg\",\"CHRzS1N\",\"CHRofX4\",\"CHbFzvz\",\"CH4DnB5\",\"CHkkWd0\",\"CHK72hq\",\"CHoQy2w\",\"CHheR9R\",\"CHfpaSr\",\"CHmt37g\",\"CHld0ct\",\"CHh-1iA\",\"CHZ1wYQ\",\"CHYnfy2\",\"CHXTQWs\",\"CHtkRVa\",\"CHsP57H\",\"CHwW_qU\",\"CHzRDCw\",\"CH2Q9aM\",\"CH2KUew\",\"CH26M8b\",\"CH1GHhg\",\"CH-swYD\",\"CH-YRx5\",\"CH-Bsa2\",\"CH-KafR\",\"CHzhyI5\",\"CHQTqoE\",\"CHOOKj-\",\"CHNYi_z\",\"CHLItMt\",\"CHUyr50\",\"CHYt4St\",\"CHXXlcP\",\"CHWqWR1\",\"CHW9DtK\",\"CHKmQlV\",\"CHA6KBB\",\"CHET3I7\",\"CHHR4kW\",\"CHEu_YK\",\"CHF8W68\",\"CHlSUMM\",\"CHrh6bu\",\"CHrRn4V\",\"CHqsPmf\",\"CHqNN-b\",\"CHpH3rU\",\"CHoLQZ4\",\"CHyG7zA\",\"CHtfriF\",\"CHl-tyx\",\"CHaZS_X\",\"CHhtdyq\",\"CHfqVrM\"],\"xaxis\":\"x4\",\"y\":[7,7,4,3,3,3,3,3,2,2,2,2,2,2,2,2,2,2,2,2,2,1,1,1,1,1,1,1,1,1,1,1,1,1,1,1,1,1,1,1,1,1,1,1,1,1,1,1,1,1,1,1,1,1,1,1,1,1],\"yaxis\":\"y4\",\"type\":\"bar\"},{\"alignmentgroup\":\"True\",\"hovertemplate\":\"category_name=People & Blogs<br>year_month=2021-07<br>channel_id=%{x}<br>video_id=%{y}<extra></extra>\",\"legendgroup\":\"People & Blogs\",\"marker\":{\"color\":\"#00cc96\",\"pattern\":{\"shape\":\"\"}},\"name\":\"People & Blogs\",\"offsetgroup\":\"People & Blogs\",\"orientation\":\"v\",\"showlegend\":false,\"textposition\":\"auto\",\"x\":[\"CHZ1wYQ\",\"CHONPqk\",\"CHppou5\",\"CHfpaSr\",\"CHs9H--\",\"CHoQy2w\",\"CHpH3rU\",\"CHd1TDy\",\"CHjpCOk\",\"CHkkWd0\",\"CH0wNau\",\"CHKFvox\",\"CH26QQC\",\"CH4MfUq\",\"CH4sIlW\",\"CHD2KRO\",\"CHE8SAl\",\"CHYnfy2\",\"CHSiGNr\",\"CHtfriF\",\"CHrFlv9\",\"CHyG7zA\",\"CHqNN-b\",\"CH31-nU\",\"CH0PsUG\",\"CH7Krez\",\"CHRzS1N\",\"CHYDyvq\",\"CHXXlcP\",\"CHUyr50\",\"CHL-AUQ\",\"CHBoQ8_\",\"CHASfMq\",\"CHA6KBB\",\"CH9G7V6\",\"CHDV9zg\",\"CHET3I7\",\"CHJfDSu\",\"CHIG4gr\",\"CHGInHR\",\"CHrRn4V\",\"CHqsPmf\",\"CHoLQZ4\",\"CHychoc\",\"CHv0QY4\",\"CHtn-l7\",\"CHsP57H\",\"CHtkRVa\",\"CHcxK1U\",\"CHc7een\",\"CHbzDJ6\",\"CHbFzvz\",\"CH_EngQ\",\"CHicKQU\",\"CHhK2Dh\",\"CHfqVrM\"],\"xaxis\":\"x3\",\"y\":[4,3,3,3,3,3,2,2,2,2,2,2,2,2,2,2,2,2,2,2,2,2,2,1,1,1,1,1,1,1,1,1,1,1,1,1,1,1,1,1,1,1,1,1,1,1,1,1,1,1,1,1,1,1,1,1],\"yaxis\":\"y3\",\"type\":\"bar\"},{\"alignmentgroup\":\"True\",\"hovertemplate\":\"category_name=People & Blogs<br>year_month=2021-04<br>channel_id=%{x}<br>video_id=%{y}<extra></extra>\",\"legendgroup\":\"People & Blogs\",\"marker\":{\"color\":\"#00cc96\",\"pattern\":{\"shape\":\"\"}},\"name\":\"People & Blogs\",\"offsetgroup\":\"People & Blogs\",\"orientation\":\"v\",\"showlegend\":false,\"textposition\":\"auto\",\"x\":[\"CHXTyJZ\",\"CH680xb\",\"CHIG4gr\",\"CHZ1wYQ\",\"CHtfriF\",\"CHKUz_7\",\"CHpH3rU\",\"CHoPTIa\",\"CHoQy2w\",\"CHkkWd0\",\"CHkh6Tl\",\"CHfpaSr\",\"CH2KUew\",\"CH4MfUq\",\"CH5QSBl\",\"CH5RION\",\"CH6lNIb\",\"CHLJNGm\",\"CHNBfRy\",\"CHYnfy2\",\"CHOOKj-\",\"CHbFzvz\",\"CHXTQWs\",\"CHtkRVa\",\"CHu38Cq\",\"CH47HAk\",\"CH31-nU\",\"CH-Bsa2\",\"CHzRDCw\",\"CH7bRo3\",\"CHPZ4e8\",\"CHM64Ik\",\"CHUWU2s\",\"CHUyr50\",\"CHYt4St\",\"CHXXlcP\",\"CHXURHJ\",\"CHWycwu\",\"CHBHJlM\",\"CHAhKKb\",\"CHA6KBB\",\"CH9gxOp\",\"CHKFvox\",\"CHHR4kW\",\"CHH7JoV\",\"CHrh6bu\",\"CHrRn4V\",\"CHrIxxm\",\"CHs29NQ\",\"CHx_kYu\",\"CHvG7co\",\"CHtn-l7\",\"CHtctOX\",\"CHcQ3rs\",\"CHb_-Xu\",\"CHa_ZCX\",\"CHaZS_X\",\"CHdQk6g\",\"CHemKWU\",\"CHfqVrM\",\"CHhK2Dh\"],\"xaxis\":\"x2\",\"y\":[5,4,4,3,3,3,2,2,2,2,2,2,2,2,2,2,2,2,2,2,2,2,2,2,2,1,1,1,1,1,1,1,1,1,1,1,1,1,1,1,1,1,1,1,1,1,1,1,1,1,1,1,1,1,1,1,1,1,1,1,1],\"yaxis\":\"y2\",\"type\":\"bar\"},{\"alignmentgroup\":\"True\",\"hovertemplate\":\"category_name=People & Blogs<br>year_month=2021-03<br>channel_id=%{x}<br>video_id=%{y}<extra></extra>\",\"legendgroup\":\"People & Blogs\",\"marker\":{\"color\":\"#00cc96\",\"pattern\":{\"shape\":\"\"}},\"name\":\"People & Blogs\",\"offsetgroup\":\"People & Blogs\",\"orientation\":\"v\",\"showlegend\":false,\"textposition\":\"auto\",\"x\":[\"CHnet0I\",\"CHaZS_X\",\"CHyuL_X\",\"CHyn-K7\",\"CHPZ4e8\",\"CHNBfRy\",\"CHKkxVS\",\"CHKUz_7\",\"CHGiqkg\",\"CHtfriF\",\"CH_Fq5K\",\"CHkh6Tl\"],\"xaxis\":\"x\",\"y\":[2,2,1,1,1,1,1,1,1,1,1,1],\"yaxis\":\"y\",\"type\":\"bar\"},{\"alignmentgroup\":\"True\",\"hovertemplate\":\"category_name=Music<br>year_month=2021-06<br>channel_id=%{x}<br>video_id=%{y}<extra></extra>\",\"legendgroup\":\"Music\",\"marker\":{\"color\":\"#ab63fa\",\"pattern\":{\"shape\":\"\"}},\"name\":\"Music\",\"offsetgroup\":\"Music\",\"orientation\":\"v\",\"showlegend\":true,\"textposition\":\"auto\",\"x\":[\"CHaO6TY\",\"CHuKdaT\",\"CHviI9l\",\"CHfkXDY\",\"CHeLPm9\",\"CHe52oe\",\"CHabon8\",\"CH3WZlO\",\"CHtCiO5\",\"CHoRXPc\",\"CHzCedB\",\"CHmQdC1\",\"CHk2E0d\",\"CHEf_Bc\",\"CHhm_d4\",\"CHe_56k\",\"CHeQlMQ\",\"CHwgtOR\",\"CHzgxx_\",\"CHuhAUM\",\"CHoNq-k\",\"CHo-E2l\",\"CH_pwIX\",\"CHaEIlQ\",\"CHYDmx2\",\"CHEUX9t\",\"CHDPM_n\",\"CHAq0pF\",\"CHACvSk\",\"CH9GtSL\",\"CHEbRSm\",\"CHXIF1a\",\"CHR5cyf\",\"CHGrAnV\",\"CH6nxfR\",\"CH6TJkB\",\"CH3-ec2\"],\"xaxis\":\"x5\",\"y\":[4,3,3,3,3,3,3,2,2,2,2,2,2,2,1,1,1,1,1,1,1,1,1,1,1,1,1,1,1,1,1,1,1,1,1,1,1],\"yaxis\":\"y5\",\"type\":\"bar\"},{\"alignmentgroup\":\"True\",\"hovertemplate\":\"category_name=Music<br>year_month=2021-05<br>channel_id=%{x}<br>video_id=%{y}<extra></extra>\",\"legendgroup\":\"Music\",\"marker\":{\"color\":\"#ab63fa\",\"pattern\":{\"shape\":\"\"}},\"name\":\"Music\",\"offsetgroup\":\"Music\",\"orientation\":\"v\",\"showlegend\":false,\"textposition\":\"auto\",\"x\":[\"CH9GtSL\",\"CH3IZKs\",\"CHtCiO5\",\"CHEf_Bc\",\"CHLkAep\",\"CH3WZlO\",\"CH66yQ1\",\"CHsXigG\",\"CH6nxfR\",\"CHzCedB\",\"CHyPwRg\",\"CH-qYkz\",\"CHlYq3P\",\"CHeLPm9\",\"CHFipx4\",\"CHk9Gmd\",\"CHhu7d9\",\"CHaO6TY\",\"CHcVEkH\",\"CHe52oe\",\"CHoRXPc\",\"CHviI9l\",\"CHmTdAl\",\"CHkJ1rb\",\"CHsVcse\",\"CHuKdaT\",\"CHCEi5r\",\"CHArTAX\",\"CH9vrvN\",\"CH9LcN9\",\"CH8qO5r\",\"CHEdZAd\",\"CHTEWSE\",\"CHRp-tG\",\"CHGdZ_-\",\"CHG1kwS\",\"CH4htMX\",\"CH2KmG_\",\"CH-jHB5\"],\"xaxis\":\"x4\",\"y\":[6,5,4,4,4,2,2,2,2,2,2,2,2,2,2,1,1,1,1,1,1,1,1,1,1,1,1,1,1,1,1,1,1,1,1,1,1,1,1],\"yaxis\":\"y4\",\"type\":\"bar\"},{\"alignmentgroup\":\"True\",\"hovertemplate\":\"category_name=Music<br>year_month=2021-07<br>channel_id=%{x}<br>video_id=%{y}<extra></extra>\",\"legendgroup\":\"Music\",\"marker\":{\"color\":\"#ab63fa\",\"pattern\":{\"shape\":\"\"}},\"name\":\"Music\",\"offsetgroup\":\"Music\",\"orientation\":\"v\",\"showlegend\":false,\"textposition\":\"auto\",\"x\":[\"CHEbRSm\",\"CHLkAep\",\"CHzCedB\",\"CH-FQUI\",\"CHIcXK1\",\"CH3IZKs\",\"CHPENYt\",\"CHEf_Bc\",\"CHk2E0d\",\"CHcM_a-\",\"CHe52oe\",\"CHk9Gmd\",\"CHwzCuK\",\"CHwgtOR\",\"CHvolP1\",\"CHviI9l\",\"CHxOZuU\",\"CHzxXBQ\",\"CHkYFO5\",\"CHtCiO5\",\"CHritGV\",\"CH9vrvN\",\"CH9GtSL\",\"CH7Qts0\",\"CHY7unn\",\"CHMIUx2\",\"CHJVA-s\",\"CHI3Z79\",\"CHHX_FN\",\"CH66yQ1\",\"CH3WZlO\",\"CH2TjEZ\",\"CH0D7tP\",\"CH-IG_h\"],\"xaxis\":\"x3\",\"y\":[4,4,3,3,3,2,2,2,1,1,1,1,1,1,1,1,1,1,1,1,1,1,1,1,1,1,1,1,1,1,1,1,1,1],\"yaxis\":\"y3\",\"type\":\"bar\"},{\"alignmentgroup\":\"True\",\"hovertemplate\":\"category_name=Music<br>year_month=2021-04<br>channel_id=%{x}<br>video_id=%{y}<extra></extra>\",\"legendgroup\":\"Music\",\"marker\":{\"color\":\"#ab63fa\",\"pattern\":{\"shape\":\"\"}},\"name\":\"Music\",\"offsetgroup\":\"Music\",\"orientation\":\"v\",\"showlegend\":false,\"textposition\":\"auto\",\"x\":[\"CHLkAep\",\"CHfkXDY\",\"CHHGJwr\",\"CHaO6TY\",\"CHabon8\",\"CHpbTKp\",\"CHoRXPc\",\"CHuhAUM\",\"CHviI9l\",\"CHzCedB\",\"CHdNMDR\",\"CHRQ7Rw\",\"CHkJ1rb\",\"CHEf_Bc\",\"CHeLPm9\",\"CHyPwRg\",\"CHwgtOR\",\"CHwZMmI\",\"CHvNA_f\",\"CHq4isO\",\"CH_pwIX\",\"CHEbRSm\",\"CHAkWpy\",\"CHACsUr\",\"CH6tU41\",\"CHFEVXX\",\"CHKNZsA\",\"CH6c5iD\",\"CH2KmG_\",\"CH3QWks\",\"CH3IZKs\"],\"xaxis\":\"x2\",\"y\":[5,5,3,3,3,2,2,2,2,2,2,2,2,2,1,1,1,1,1,1,1,1,1,1,1,1,1,1,1,1,1],\"yaxis\":\"y2\",\"type\":\"bar\"},{\"alignmentgroup\":\"True\",\"hovertemplate\":\"category_name=Music<br>year_month=2021-03<br>channel_id=%{x}<br>video_id=%{y}<extra></extra>\",\"legendgroup\":\"Music\",\"marker\":{\"color\":\"#ab63fa\",\"pattern\":{\"shape\":\"\"}},\"name\":\"Music\",\"offsetgroup\":\"Music\",\"orientation\":\"v\",\"showlegend\":false,\"textposition\":\"auto\",\"x\":[\"CHtCiO5\",\"CHEf_Bc\",\"CHNk_Ik\",\"CHYDmx2\",\"CHRQ7Rw\"],\"xaxis\":\"x\",\"y\":[1,1,1,1,1],\"yaxis\":\"y\",\"type\":\"bar\"},{\"alignmentgroup\":\"True\",\"hovertemplate\":\"category_name=Pets & Animals<br>year_month=2021-06<br>channel_id=%{x}<br>video_id=%{y}<extra></extra>\",\"legendgroup\":\"Pets & Animals\",\"marker\":{\"color\":\"#FFA15A\",\"pattern\":{\"shape\":\"\"}},\"name\":\"Pets & Animals\",\"offsetgroup\":\"Pets & Animals\",\"orientation\":\"v\",\"showlegend\":true,\"textposition\":\"auto\",\"x\":[\"CH3PSZi\",\"CH69l_r\",\"CHETBLy\",\"CHHLDBh\",\"CHkuA_g\",\"CHHgL0B\",\"CHHXnna\",\"CHAhKKb\",\"CH04-af\",\"CHOp66V\",\"CHOv1v2\",\"CHf0Mkc\",\"CHj-rqv\",\"CHi_IoQ\",\"CHgsgpE\",\"CHPTM-N\"],\"xaxis\":\"x5\",\"y\":[2,2,2,2,2,1,1,1,1,1,1,1,1,1,1,1],\"yaxis\":\"y5\",\"type\":\"bar\"},{\"alignmentgroup\":\"True\",\"hovertemplate\":\"category_name=Pets & Animals<br>year_month=2021-05<br>channel_id=%{x}<br>video_id=%{y}<extra></extra>\",\"legendgroup\":\"Pets & Animals\",\"marker\":{\"color\":\"#FFA15A\",\"pattern\":{\"shape\":\"\"}},\"name\":\"Pets & Animals\",\"offsetgroup\":\"Pets & Animals\",\"orientation\":\"v\",\"showlegend\":false,\"textposition\":\"auto\",\"x\":[\"CHi_IoQ\",\"CH22go5\",\"CH69l_r\",\"CHAhKKb\",\"CHOv1v2\",\"CHgsgpE\"],\"xaxis\":\"x4\",\"y\":[3,3,2,1,1,1],\"yaxis\":\"y4\",\"type\":\"bar\"},{\"alignmentgroup\":\"True\",\"hovertemplate\":\"category_name=Pets & Animals<br>year_month=2021-07<br>channel_id=%{x}<br>video_id=%{y}<extra></extra>\",\"legendgroup\":\"Pets & Animals\",\"marker\":{\"color\":\"#FFA15A\",\"pattern\":{\"shape\":\"\"}},\"name\":\"Pets & Animals\",\"offsetgroup\":\"Pets & Animals\",\"orientation\":\"v\",\"showlegend\":false,\"textposition\":\"auto\",\"x\":[\"CH29-Il\",\"CHAhKKb\",\"CHOp66V\",\"CH89A41\",\"CHHLDBh\",\"CH69l_r\",\"CH5AAf4\",\"CH3PSZi\",\"CH-IYpd\",\"CHgsgpE\",\"CHd1TDy\",\"CHOv1v2\",\"CHa2LU4\",\"CHPTM-N\"],\"xaxis\":\"x3\",\"y\":[6,3,2,2,1,1,1,1,1,1,1,1,1,1],\"yaxis\":\"y3\",\"type\":\"bar\"},{\"alignmentgroup\":\"True\",\"hovertemplate\":\"category_name=Pets & Animals<br>year_month=2021-04<br>channel_id=%{x}<br>video_id=%{y}<extra></extra>\",\"legendgroup\":\"Pets & Animals\",\"marker\":{\"color\":\"#FFA15A\",\"pattern\":{\"shape\":\"\"}},\"name\":\"Pets & Animals\",\"offsetgroup\":\"Pets & Animals\",\"orientation\":\"v\",\"showlegend\":false,\"textposition\":\"auto\",\"x\":[\"CHzjDgV\",\"CHtbOb9\",\"CHkuA_g\",\"CHHXnna\",\"CH22go5\",\"CHgsgpE\",\"CHX2laR\",\"CHPTM-N\"],\"xaxis\":\"x2\",\"y\":[1,1,1,1,1,1,1,1],\"yaxis\":\"y2\",\"type\":\"bar\"},{\"alignmentgroup\":\"True\",\"hovertemplate\":\"category_name=Pets & Animals<br>year_month=2021-03<br>channel_id=%{x}<br>video_id=%{y}<extra></extra>\",\"legendgroup\":\"Pets & Animals\",\"marker\":{\"color\":\"#FFA15A\",\"pattern\":{\"shape\":\"\"}},\"name\":\"Pets & Animals\",\"offsetgroup\":\"Pets & Animals\",\"orientation\":\"v\",\"showlegend\":false,\"textposition\":\"auto\",\"x\":[\"CHOp66V\",\"CHP1CQH\"],\"xaxis\":\"x\",\"y\":[1,1],\"yaxis\":\"y\",\"type\":\"bar\"},{\"alignmentgroup\":\"True\",\"hovertemplate\":\"category_name=News & Politics<br>year_month=2021-06<br>channel_id=%{x}<br>video_id=%{y}<extra></extra>\",\"legendgroup\":\"News & Politics\",\"marker\":{\"color\":\"#19d3f3\",\"pattern\":{\"shape\":\"\"}},\"name\":\"News & Politics\",\"offsetgroup\":\"News & Politics\",\"orientation\":\"v\",\"showlegend\":true,\"textposition\":\"auto\",\"x\":[\"CHhlgI3\",\"CH_U34U\",\"CHcQTRi\",\"CHkinYT\",\"CHF4Wxd\",\"CHQabOR\",\"CHKhcMX\",\"CHTHCOP\",\"CHMGn0N\",\"CHMEbRp\",\"CHAySce\",\"CH88r6m\",\"CHnfwIK\",\"CH1aS5C\",\"CH2fNt6\",\"CH-0C8y\",\"CHy-6oZ\",\"CHbMjg2\",\"CHzz58-\",\"CHG9aFJ\",\"CHWskYk\"],\"xaxis\":\"x5\",\"y\":[2,2,2,2,2,2,1,1,1,1,1,1,1,1,1,1,1,1,1,1,1],\"yaxis\":\"y5\",\"type\":\"bar\"},{\"alignmentgroup\":\"True\",\"hovertemplate\":\"category_name=News & Politics<br>year_month=2021-05<br>channel_id=%{x}<br>video_id=%{y}<extra></extra>\",\"legendgroup\":\"News & Politics\",\"marker\":{\"color\":\"#19d3f3\",\"pattern\":{\"shape\":\"\"}},\"name\":\"News & Politics\",\"offsetgroup\":\"News & Politics\",\"orientation\":\"v\",\"showlegend\":false,\"textposition\":\"auto\",\"x\":[\"CHsU-I-\",\"CHHBvfB\",\"CHhlgI3\",\"CHH3mJ-\",\"CHfq4V1\",\"CHF4Wxd\",\"CHAySce\",\"CHizGMt\",\"CHcQTRi\",\"CHwRljh\",\"CHWlV3L\",\"CH8d0Zg\",\"CHMLJc_\",\"CHIDOGT\",\"CHIIpmD\",\"CHIMOyt\",\"CHPfxQo\",\"CHTTmtS\",\"CHYRrUD\",\"CHTHCOP\",\"CHQabOR\",\"CHwCrPg\",\"CHj3_t5\",\"CHnfwIK\",\"CHomhAm\",\"CH4Aa3O\",\"CH-0C8y\",\"CH7cF2Z\",\"CHGCGxs\",\"CHeFUGS\",\"CHawCv9\",\"CHG9aFJ\"],\"xaxis\":\"x4\",\"y\":[6,4,4,3,3,3,3,2,2,2,2,2,2,1,1,1,1,1,1,1,1,1,1,1,1,1,1,1,1,1,1,1],\"yaxis\":\"y4\",\"type\":\"bar\"},{\"alignmentgroup\":\"True\",\"hovertemplate\":\"category_name=News & Politics<br>year_month=2021-07<br>channel_id=%{x}<br>video_id=%{y}<extra></extra>\",\"legendgroup\":\"News & Politics\",\"marker\":{\"color\":\"#19d3f3\",\"pattern\":{\"shape\":\"\"}},\"name\":\"News & Politics\",\"offsetgroup\":\"News & Politics\",\"orientation\":\"v\",\"showlegend\":false,\"textposition\":\"auto\",\"x\":[\"CHkinYT\",\"CH-0C8y\",\"CHoxT1k\",\"CHsU-I-\",\"CH_U34U\",\"CHj3_t5\",\"CH0imOR\",\"CHMEbRp\",\"CHF4Wxd\",\"CHLKugl\",\"CHTHCOP\",\"CHYRrUD\",\"CHQabOR\",\"CHMGn0N\",\"CHHBvfB\",\"CH8d0Zg\",\"CHjg8Yu\",\"CHy-6oZ\",\"CHzz58-\"],\"xaxis\":\"x3\",\"y\":[3,3,3,3,2,2,2,2,2,1,1,1,1,1,1,1,1,1,1],\"yaxis\":\"y3\",\"type\":\"bar\"},{\"alignmentgroup\":\"True\",\"hovertemplate\":\"category_name=News & Politics<br>year_month=2021-04<br>channel_id=%{x}<br>video_id=%{y}<extra></extra>\",\"legendgroup\":\"News & Politics\",\"marker\":{\"color\":\"#19d3f3\",\"pattern\":{\"shape\":\"\"}},\"name\":\"News & Politics\",\"offsetgroup\":\"News & Politics\",\"orientation\":\"v\",\"showlegend\":false,\"textposition\":\"auto\",\"x\":[\"CHMEbRp\",\"CHIDOGT\",\"CHPTy0B\",\"CHhlgI3\",\"CHcQTRi\",\"CHsU-I-\",\"CH-0C8y\",\"CHF4Wxd\",\"CHF8AeL\",\"CHAySce\",\"CH1aS5C\",\"CH_U34U\",\"CHIipmg\",\"CHZQj9d\",\"CHYRrUD\",\"CHawCv9\",\"CHj3_t5\",\"CHu35od\",\"CH0imOR\",\"CH5GZQW\",\"CHliLFb\",\"CHHBvfB\",\"CHfq4V1\",\"CHizGMt\"],\"xaxis\":\"x2\",\"y\":[4,3,3,2,2,2,2,2,2,2,2,1,1,1,1,1,1,1,1,1,1,1,1,1],\"yaxis\":\"y2\",\"type\":\"bar\"},{\"alignmentgroup\":\"True\",\"hovertemplate\":\"category_name=News & Politics<br>year_month=2021-03<br>channel_id=%{x}<br>video_id=%{y}<extra></extra>\",\"legendgroup\":\"News & Politics\",\"marker\":{\"color\":\"#19d3f3\",\"pattern\":{\"shape\":\"\"}},\"name\":\"News & Politics\",\"offsetgroup\":\"News & Politics\",\"orientation\":\"v\",\"showlegend\":false,\"textposition\":\"auto\",\"x\":[\"CHG9aFJ\",\"CH_U34U\",\"CHj3_t5\",\"CH9thBC\",\"CHkinYT\",\"CHH3mJ-\"],\"xaxis\":\"x\",\"y\":[2,1,1,1,1,1],\"yaxis\":\"y\",\"type\":\"bar\"},{\"alignmentgroup\":\"True\",\"hovertemplate\":\"category_name=Comedy<br>year_month=2021-06<br>channel_id=%{x}<br>video_id=%{y}<extra></extra>\",\"legendgroup\":\"Comedy\",\"marker\":{\"color\":\"#FF6692\",\"pattern\":{\"shape\":\"\"}},\"name\":\"Comedy\",\"offsetgroup\":\"Comedy\",\"orientation\":\"v\",\"showlegend\":true,\"textposition\":\"auto\",\"x\":[\"CHg-p3l\",\"CH9ZLv1\",\"CHN8CPz\",\"CHGX5sP\",\"CH6KwCU\",\"CHR-qpX\",\"CHzjiRW\",\"CHyCL5k\",\"CHhbE5O\",\"CHZ0dIs\",\"CHYACix\",\"CHVsBCf\",\"CHRykAt\",\"CHghP93\",\"CHyh4ZG\",\"CHr9-Mp\",\"CHmzMtX\",\"CHCjJV_\",\"CH9nFMA\"],\"xaxis\":\"x5\",\"y\":[4,3,2,2,2,2,2,2,2,1,1,1,1,1,1,1,1,1,1],\"yaxis\":\"y5\",\"type\":\"bar\"},{\"alignmentgroup\":\"True\",\"hovertemplate\":\"category_name=Comedy<br>year_month=2021-05<br>channel_id=%{x}<br>video_id=%{y}<extra></extra>\",\"legendgroup\":\"Comedy\",\"marker\":{\"color\":\"#FF6692\",\"pattern\":{\"shape\":\"\"}},\"name\":\"Comedy\",\"offsetgroup\":\"Comedy\",\"orientation\":\"v\",\"showlegend\":false,\"textposition\":\"auto\",\"x\":[\"CHgBLs7\",\"CHmzMtX\",\"CHEUL40\",\"CHyCL5k\",\"CHqsPmf\",\"CHhbE5O\",\"CHZ0dIs\",\"CHRykAt\",\"CHg-p3l\",\"CHfU6o0\",\"CHe9f9M\",\"CHd-Sfb\",\"CHbGXAe\",\"CH_gaUd\",\"CHV3i3l\",\"CHSc2Dc\",\"CHR-qpX\",\"CHt_UFh\",\"CHsJ6Ru\",\"CHoe_Vp\",\"CHmCNgL\",\"CHQmu3U\",\"CHK3p1w\",\"CHGX5sP\",\"CHD2YO_\",\"CH9nFMA\",\"CH6KwCU\",\"CH69uMh\"],\"xaxis\":\"x4\",\"y\":[3,3,2,2,2,2,2,2,1,1,1,1,1,1,1,1,1,1,1,1,1,1,1,1,1,1,1,1],\"yaxis\":\"y4\",\"type\":\"bar\"},{\"alignmentgroup\":\"True\",\"hovertemplate\":\"category_name=Comedy<br>year_month=2021-07<br>channel_id=%{x}<br>video_id=%{y}<extra></extra>\",\"legendgroup\":\"Comedy\",\"marker\":{\"color\":\"#FF6692\",\"pattern\":{\"shape\":\"\"}},\"name\":\"Comedy\",\"offsetgroup\":\"Comedy\",\"orientation\":\"v\",\"showlegend\":false,\"textposition\":\"auto\",\"x\":[\"CHZ0dIs\",\"CHmzMtX\",\"CHhbE5O\",\"CHhvXm5\",\"CHSc2Dc\",\"CH8-Th8\",\"CHyCL5k\",\"CHg-p3l\",\"CHt_UFh\",\"CHN8CPz\",\"CHMVC92\",\"CHGX5sP\",\"CHDCAyS\",\"CH9nFMA\"],\"xaxis\":\"x3\",\"y\":[4,4,3,3,3,3,3,2,1,1,1,1,1,1],\"yaxis\":\"y3\",\"type\":\"bar\"},{\"alignmentgroup\":\"True\",\"hovertemplate\":\"category_name=Comedy<br>year_month=2021-04<br>channel_id=%{x}<br>video_id=%{y}<extra></extra>\",\"legendgroup\":\"Comedy\",\"marker\":{\"color\":\"#FF6692\",\"pattern\":{\"shape\":\"\"}},\"name\":\"Comedy\",\"offsetgroup\":\"Comedy\",\"orientation\":\"v\",\"showlegend\":false,\"textposition\":\"auto\",\"x\":[\"CHmzMtX\",\"CH20WKI\",\"CHhbE5O\",\"CHIuFnJ\",\"CHqsPmf\",\"CHg-p3l\",\"CHSc2Dc\",\"CH0SoPw\",\"CHe9f9M\",\"CHt_UFh\",\"CHGX5sP\",\"CHPwGQu\",\"CHEUL40\",\"CH9nFMA\",\"CHR-qpX\",\"CHZ0dIs\",\"CHRykAt\",\"CHg8U-Z\",\"CHVsBCf\",\"CHgBLs7\",\"CHghP93\",\"CHyCL5k\",\"CHivkx6\",\"CHsJ6Ru\",\"CHmHMsJ\",\"CHK3p1w\",\"CHJpGg1\",\"CH9ZLv1\",\"CH2o_y8\"],\"xaxis\":\"x2\",\"y\":[6,4,4,4,3,3,3,3,3,3,3,2,2,2,2,2,2,1,1,1,1,1,1,1,1,1,1,1,1],\"yaxis\":\"y2\",\"type\":\"bar\"},{\"alignmentgroup\":\"True\",\"hovertemplate\":\"category_name=Comedy<br>year_month=2021-03<br>channel_id=%{x}<br>video_id=%{y}<extra></extra>\",\"legendgroup\":\"Comedy\",\"marker\":{\"color\":\"#FF6692\",\"pattern\":{\"shape\":\"\"}},\"name\":\"Comedy\",\"offsetgroup\":\"Comedy\",\"orientation\":\"v\",\"showlegend\":false,\"textposition\":\"auto\",\"x\":[\"CHgBLs7\",\"CHV3i3l\",\"CHyCL5k\",\"CHEUL40\"],\"xaxis\":\"x\",\"y\":[1,1,1,1],\"yaxis\":\"y\",\"type\":\"bar\"},{\"alignmentgroup\":\"True\",\"hovertemplate\":\"category_name=Film & Animation<br>year_month=2021-06<br>channel_id=%{x}<br>video_id=%{y}<extra></extra>\",\"legendgroup\":\"Film & Animation\",\"marker\":{\"color\":\"#B6E880\",\"pattern\":{\"shape\":\"\"}},\"name\":\"Film & Animation\",\"offsetgroup\":\"Film & Animation\",\"orientation\":\"v\",\"showlegend\":true,\"textposition\":\"auto\",\"x\":[\"CHUK4Yj\",\"CHRuSxV\",\"CHszFjh\",\"CHz2Kbg\",\"CHgmmc5\",\"CHuRZ7_\",\"CHSB5FO\",\"CH6u3fo\"],\"xaxis\":\"x5\",\"y\":[3,3,2,2,2,1,1,1],\"yaxis\":\"y5\",\"type\":\"bar\"},{\"alignmentgroup\":\"True\",\"hovertemplate\":\"category_name=Film & Animation<br>year_month=2021-05<br>channel_id=%{x}<br>video_id=%{y}<extra></extra>\",\"legendgroup\":\"Film & Animation\",\"marker\":{\"color\":\"#B6E880\",\"pattern\":{\"shape\":\"\"}},\"name\":\"Film & Animation\",\"offsetgroup\":\"Film & Animation\",\"orientation\":\"v\",\"showlegend\":false,\"textposition\":\"auto\",\"x\":[\"CHszFjh\",\"CHi-XI2\",\"CHHj3qb\",\"CH6u3fo\",\"CHRuSxV\",\"CHSB5FO\",\"CHz2Kbg\",\"CHxlv4a\",\"CHlN3o2\",\"CHY2wHB\",\"CHRI5Ze\",\"CHK9PdJ\",\"CHCcE8B\"],\"xaxis\":\"x4\",\"y\":[3,3,3,2,2,2,1,1,1,1,1,1,1],\"yaxis\":\"y4\",\"type\":\"bar\"},{\"alignmentgroup\":\"True\",\"hovertemplate\":\"category_name=Film & Animation<br>year_month=2021-07<br>channel_id=%{x}<br>video_id=%{y}<extra></extra>\",\"legendgroup\":\"Film & Animation\",\"marker\":{\"color\":\"#B6E880\",\"pattern\":{\"shape\":\"\"}},\"name\":\"Film & Animation\",\"offsetgroup\":\"Film & Animation\",\"orientation\":\"v\",\"showlegend\":false,\"textposition\":\"auto\",\"x\":[\"CHszFjh\",\"CH6u3fo\",\"CHRuSxV\",\"CHaT8jY\",\"CHuKKkB\",\"CHs0P4G\",\"CHi-XI2\",\"CH3zQwS\",\"CHUK4Yj\",\"CHFnuC4\",\"CH6q6s6\"],\"xaxis\":\"x3\",\"y\":[5,2,2,2,1,1,1,1,1,1,1],\"yaxis\":\"y3\",\"type\":\"bar\"},{\"alignmentgroup\":\"True\",\"hovertemplate\":\"category_name=Film & Animation<br>year_month=2021-04<br>channel_id=%{x}<br>video_id=%{y}<extra></extra>\",\"legendgroup\":\"Film & Animation\",\"marker\":{\"color\":\"#B6E880\",\"pattern\":{\"shape\":\"\"}},\"name\":\"Film & Animation\",\"offsetgroup\":\"Film & Animation\",\"orientation\":\"v\",\"showlegend\":false,\"textposition\":\"auto\",\"x\":[\"CHszFjh\",\"CH6u3fo\",\"CHRuSxV\",\"CHz2Kbg\",\"CHym553\",\"CHxDsmO\",\"CHi-XI2\",\"CHdq61m\",\"CHW0gUN\",\"CHUK4Yj\",\"CH6q6s6\",\"CHK9PdJ\",\"CHH3mJ-\"],\"xaxis\":\"x2\",\"y\":[3,2,2,1,1,1,1,1,1,1,1,1,1],\"yaxis\":\"y2\",\"type\":\"bar\"},{\"alignmentgroup\":\"True\",\"hovertemplate\":\"category_name=Film & Animation<br>year_month=2021-03<br>channel_id=%{x}<br>video_id=%{y}<extra></extra>\",\"legendgroup\":\"Film & Animation\",\"marker\":{\"color\":\"#B6E880\",\"pattern\":{\"shape\":\"\"}},\"name\":\"Film & Animation\",\"offsetgroup\":\"Film & Animation\",\"orientation\":\"v\",\"showlegend\":false,\"textposition\":\"auto\",\"x\":[\"CH6q6s6\",\"CHRuSxV\"],\"xaxis\":\"x\",\"y\":[1,1],\"yaxis\":\"y\",\"type\":\"bar\"},{\"alignmentgroup\":\"True\",\"hovertemplate\":\"category_name=Education<br>year_month=2021-06<br>channel_id=%{x}<br>video_id=%{y}<extra></extra>\",\"legendgroup\":\"Education\",\"marker\":{\"color\":\"#FF97FF\",\"pattern\":{\"shape\":\"\"}},\"name\":\"Education\",\"offsetgroup\":\"Education\",\"orientation\":\"v\",\"showlegend\":true,\"textposition\":\"auto\",\"x\":[\"CHuh6Br\",\"CHvW8no\",\"CHl7MKZ\",\"CH6xugt\",\"CH1-lwA\",\"CH-9RQC\",\"CH7F6UD\",\"CHnaGfD\",\"CHjPqSb\",\"CHiV4_c\",\"CHPvwqh\",\"CHD902z\"],\"xaxis\":\"x5\",\"y\":[4,2,2,2,1,1,1,1,1,1,1,1],\"yaxis\":\"y5\",\"type\":\"bar\"},{\"alignmentgroup\":\"True\",\"hovertemplate\":\"category_name=Education<br>year_month=2021-05<br>channel_id=%{x}<br>video_id=%{y}<extra></extra>\",\"legendgroup\":\"Education\",\"marker\":{\"color\":\"#FF97FF\",\"pattern\":{\"shape\":\"\"}},\"name\":\"Education\",\"offsetgroup\":\"Education\",\"orientation\":\"v\",\"showlegend\":false,\"textposition\":\"auto\",\"x\":[\"CHl7MKZ\",\"CHicKQU\",\"CHJ7LVh\",\"CHHpIHu\",\"CHBJs8l\",\"CHnLO88\",\"CHma37f\",\"CHcWXel\",\"CHO0OSA\",\"CHuh6Br\",\"CHznImS\"],\"xaxis\":\"x4\",\"y\":[3,3,2,2,2,1,1,1,1,1,1],\"yaxis\":\"y4\",\"type\":\"bar\"},{\"alignmentgroup\":\"True\",\"hovertemplate\":\"category_name=Education<br>year_month=2021-07<br>channel_id=%{x}<br>video_id=%{y}<extra></extra>\",\"legendgroup\":\"Education\",\"marker\":{\"color\":\"#FF97FF\",\"pattern\":{\"shape\":\"\"}},\"name\":\"Education\",\"offsetgroup\":\"Education\",\"orientation\":\"v\",\"showlegend\":false,\"textposition\":\"auto\",\"x\":[\"CH7F6UD\",\"CHBJs8l\",\"CHZ4T91\",\"CHMFk5S\",\"CHD902z\",\"CHCt6iN\"],\"xaxis\":\"x3\",\"y\":[3,1,1,1,1,1],\"yaxis\":\"y3\",\"type\":\"bar\"},{\"alignmentgroup\":\"True\",\"hovertemplate\":\"category_name=Education<br>year_month=2021-04<br>channel_id=%{x}<br>video_id=%{y}<extra></extra>\",\"legendgroup\":\"Education\",\"marker\":{\"color\":\"#FF97FF\",\"pattern\":{\"shape\":\"\"}},\"name\":\"Education\",\"offsetgroup\":\"Education\",\"orientation\":\"v\",\"showlegend\":false,\"textposition\":\"auto\",\"x\":[\"CHicKQU\",\"CHuh6Br\",\"CHnaGfD\",\"CHl7MKZ\",\"CH1-lwA\",\"CHBM86J\",\"CHCt6iN\",\"CHgheNM\",\"CHJ7LVh\",\"CHHpIHu\"],\"xaxis\":\"x2\",\"y\":[5,2,2,2,1,1,1,1,1,1],\"yaxis\":\"y2\",\"type\":\"bar\"},{\"alignmentgroup\":\"True\",\"hovertemplate\":\"category_name=Education<br>year_month=2021-03<br>channel_id=%{x}<br>video_id=%{y}<extra></extra>\",\"legendgroup\":\"Education\",\"marker\":{\"color\":\"#FF97FF\",\"pattern\":{\"shape\":\"\"}},\"name\":\"Education\",\"offsetgroup\":\"Education\",\"orientation\":\"v\",\"showlegend\":false,\"textposition\":\"auto\",\"x\":[\"CHicKQU\",\"CH5YHB-\",\"CHvW8no\"],\"xaxis\":\"x\",\"y\":[2,1,1],\"yaxis\":\"y\",\"type\":\"bar\"},{\"alignmentgroup\":\"True\",\"hovertemplate\":\"category_name=Travel & Events<br>year_month=2021-06<br>channel_id=%{x}<br>video_id=%{y}<extra></extra>\",\"legendgroup\":\"Travel & Events\",\"marker\":{\"color\":\"#FECB52\",\"pattern\":{\"shape\":\"\"}},\"name\":\"Travel & Events\",\"offsetgroup\":\"Travel & Events\",\"orientation\":\"v\",\"showlegend\":true,\"textposition\":\"auto\",\"x\":[\"CHPll9Z\",\"CHFCtZJ\"],\"xaxis\":\"x5\",\"y\":[2,1],\"yaxis\":\"y5\",\"type\":\"bar\"},{\"alignmentgroup\":\"True\",\"hovertemplate\":\"category_name=Travel & Events<br>year_month=2021-05<br>channel_id=%{x}<br>video_id=%{y}<extra></extra>\",\"legendgroup\":\"Travel & Events\",\"marker\":{\"color\":\"#FECB52\",\"pattern\":{\"shape\":\"\"}},\"name\":\"Travel & Events\",\"offsetgroup\":\"Travel & Events\",\"orientation\":\"v\",\"showlegend\":false,\"textposition\":\"auto\",\"x\":[\"CHFw4M1\",\"CHa0aTy\",\"CHFCtZJ\",\"CH673sG\",\"CHsLoTw\"],\"xaxis\":\"x4\",\"y\":[2,2,1,1,1],\"yaxis\":\"y4\",\"type\":\"bar\"},{\"alignmentgroup\":\"True\",\"hovertemplate\":\"category_name=Travel & Events<br>year_month=2021-07<br>channel_id=%{x}<br>video_id=%{y}<extra></extra>\",\"legendgroup\":\"Travel & Events\",\"marker\":{\"color\":\"#FECB52\",\"pattern\":{\"shape\":\"\"}},\"name\":\"Travel & Events\",\"offsetgroup\":\"Travel & Events\",\"orientation\":\"v\",\"showlegend\":false,\"textposition\":\"auto\",\"x\":[\"CHlRNDV\"],\"xaxis\":\"x3\",\"y\":[5],\"yaxis\":\"y3\",\"type\":\"bar\"},{\"alignmentgroup\":\"True\",\"hovertemplate\":\"category_name=Travel & Events<br>year_month=2021-04<br>channel_id=%{x}<br>video_id=%{y}<extra></extra>\",\"legendgroup\":\"Travel & Events\",\"marker\":{\"color\":\"#FECB52\",\"pattern\":{\"shape\":\"\"}},\"name\":\"Travel & Events\",\"offsetgroup\":\"Travel & Events\",\"orientation\":\"v\",\"showlegend\":false,\"textposition\":\"auto\",\"x\":[\"CH4KYnI\",\"CHPDdt9\",\"CHlRNDV\",\"CHMZO-3\",\"CHFw4M1\"],\"xaxis\":\"x2\",\"y\":[2,2,2,1,1],\"yaxis\":\"y2\",\"type\":\"bar\"},{\"alignmentgroup\":\"True\",\"hovertemplate\":\"category_name=Howto & Style<br>year_month=2021-06<br>channel_id=%{x}<br>video_id=%{y}<extra></extra>\",\"legendgroup\":\"Howto & Style\",\"marker\":{\"color\":\"#636efa\",\"pattern\":{\"shape\":\"\"}},\"name\":\"Howto & Style\",\"offsetgroup\":\"Howto & Style\",\"orientation\":\"v\",\"showlegend\":true,\"textposition\":\"auto\",\"x\":[\"CH2gasv\",\"CHd4Fmc\",\"CHiNS0K\",\"CHIZ5rC\",\"CHWrh9h\",\"CH2DHU9\",\"CH2xkO7\",\"CHKrhyP\",\"CHWdmhZ\",\"CHVXx89\",\"CHKm-cu\",\"CH8wHwv\",\"CHXGh59\",\"CHZCvbW\",\"CHj8zZ1\",\"CHuFGPh\",\"CHvil4O\",\"CHxjZ0G\",\"CHzIOIS\",\"CHz72_x\",\"CHy2WX3\"],\"xaxis\":\"x5\",\"y\":[3,2,2,2,2,1,1,1,1,1,1,1,1,1,1,1,1,1,1,1,1],\"yaxis\":\"y5\",\"type\":\"bar\"},{\"alignmentgroup\":\"True\",\"hovertemplate\":\"category_name=Howto & Style<br>year_month=2021-05<br>channel_id=%{x}<br>video_id=%{y}<extra></extra>\",\"legendgroup\":\"Howto & Style\",\"marker\":{\"color\":\"#636efa\",\"pattern\":{\"shape\":\"\"}},\"name\":\"Howto & Style\",\"offsetgroup\":\"Howto & Style\",\"orientation\":\"v\",\"showlegend\":false,\"textposition\":\"auto\",\"x\":[\"CHn64fS\",\"CH6LBdA\",\"CHzIOIS\",\"CHBTytr\",\"CHpg89Y\",\"CHy2WX3\",\"CHKrhyP\",\"CHVXx89\",\"CHZCvbW\",\"CH2xkO7\",\"CHKm-cu\",\"CHWrh9h\",\"CHnZ8qy\",\"CHuFGPh\",\"CHrpB5P\",\"CHp94pz\",\"CHj8zZ1\"],\"xaxis\":\"x4\",\"y\":[4,3,3,3,2,2,2,2,2,1,1,1,1,1,1,1,1],\"yaxis\":\"y4\",\"type\":\"bar\"},{\"alignmentgroup\":\"True\",\"hovertemplate\":\"category_name=Howto & Style<br>year_month=2021-07<br>channel_id=%{x}<br>video_id=%{y}<extra></extra>\",\"legendgroup\":\"Howto & Style\",\"marker\":{\"color\":\"#636efa\",\"pattern\":{\"shape\":\"\"}},\"name\":\"Howto & Style\",\"offsetgroup\":\"Howto & Style\",\"orientation\":\"v\",\"showlegend\":false,\"textposition\":\"auto\",\"x\":[\"CHKrhyP\",\"CHd4Fmc\",\"CHkxvX8\",\"CHn64fS\",\"CHyn7ao\",\"CHL01un\",\"CH8wHwv\",\"CHVXx89\",\"CH1g9Ja\",\"CH1EEpE\",\"CHWRb5Q\",\"CH5q0PI\",\"CHIZ5rC\",\"CHBTytr\",\"CHrxSR4\",\"CHrpB5P\",\"CHp94pz\",\"CHiNS0K\",\"CHzIOIS\"],\"xaxis\":\"x3\",\"y\":[3,2,2,2,2,2,2,2,1,1,1,1,1,1,1,1,1,1,1],\"yaxis\":\"y3\",\"type\":\"bar\"},{\"alignmentgroup\":\"True\",\"hovertemplate\":\"category_name=Howto & Style<br>year_month=2021-04<br>channel_id=%{x}<br>video_id=%{y}<extra></extra>\",\"legendgroup\":\"Howto & Style\",\"marker\":{\"color\":\"#636efa\",\"pattern\":{\"shape\":\"\"}},\"name\":\"Howto & Style\",\"offsetgroup\":\"Howto & Style\",\"orientation\":\"v\",\"showlegend\":false,\"textposition\":\"auto\",\"x\":[\"CHIZ5rC\",\"CHd4Fmc\",\"CHy2WX3\",\"CHj8zZ1\",\"CHp94pz\",\"CHBTytr\",\"CH1g9Ja\",\"CH1UebY\",\"CH2gasv\",\"CHWrh9h\",\"CHVXx89\",\"CHLduRr\",\"CHKm-cu\",\"CHCG6BE\",\"CH5xK2X\",\"CHZCvbW\",\"CHnekLi\",\"CHnCyCL\",\"CHvil4O\",\"CHn64fS\",\"CHcTWmz\",\"CHayVh6\",\"CHyn7ao\"],\"xaxis\":\"x2\",\"y\":[3,3,2,2,2,2,1,1,1,1,1,1,1,1,1,1,1,1,1,1,1,1,1],\"yaxis\":\"y2\",\"type\":\"bar\"},{\"alignmentgroup\":\"True\",\"hovertemplate\":\"category_name=Howto & Style<br>year_month=2021-03<br>channel_id=%{x}<br>video_id=%{y}<extra></extra>\",\"legendgroup\":\"Howto & Style\",\"marker\":{\"color\":\"#636efa\",\"pattern\":{\"shape\":\"\"}},\"name\":\"Howto & Style\",\"offsetgroup\":\"Howto & Style\",\"orientation\":\"v\",\"showlegend\":false,\"textposition\":\"auto\",\"x\":[\"CHWrh9h\",\"CHd4Fmc\"],\"xaxis\":\"x\",\"y\":[1,1],\"yaxis\":\"y\",\"type\":\"bar\"},{\"alignmentgroup\":\"True\",\"hovertemplate\":\"category_name=Gaming<br>year_month=2021-06<br>channel_id=%{x}<br>video_id=%{y}<extra></extra>\",\"legendgroup\":\"Gaming\",\"marker\":{\"color\":\"#EF553B\",\"pattern\":{\"shape\":\"\"}},\"name\":\"Gaming\",\"offsetgroup\":\"Gaming\",\"orientation\":\"v\",\"showlegend\":true,\"textposition\":\"auto\",\"x\":[\"CHefUNE\",\"CHAOTbN\",\"CHBUNoF\",\"CHU_hKD\",\"CHdrBnB\",\"CHw1Dsw\",\"CHcum1r\",\"CHzgNzU\",\"CHnss3B\",\"CHms8Ge\",\"CHBA9Xa\",\"CH9aEa6\",\"CH9_093\",\"CH9-LID\",\"CH8C0Yd\",\"CHDyc0_\",\"CHGIY_O\",\"CHmMxEF\",\"CHj-6sZ\",\"CHfycsf\",\"CHSOeJW\",\"CHOKQpm\",\"CHMPM0h\",\"CHK3p1w\"],\"xaxis\":\"x5\",\"y\":[3,2,2,2,2,2,1,1,1,1,1,1,1,1,1,1,1,1,1,1,1,1,1,1],\"yaxis\":\"y5\",\"type\":\"bar\"},{\"alignmentgroup\":\"True\",\"hovertemplate\":\"category_name=Gaming<br>year_month=2021-05<br>channel_id=%{x}<br>video_id=%{y}<extra></extra>\",\"legendgroup\":\"Gaming\",\"marker\":{\"color\":\"#EF553B\",\"pattern\":{\"shape\":\"\"}},\"name\":\"Gaming\",\"offsetgroup\":\"Gaming\",\"orientation\":\"v\",\"showlegend\":false,\"textposition\":\"auto\",\"x\":[\"CH8CIM3\",\"CHdrBnB\",\"CHxM_h0\",\"CHmCNgL\",\"CHom6Yh\",\"CHpDtPd\",\"CH48NSS\",\"CH2NFRq\",\"CHeudxd\",\"CHHxKSi\",\"CHNzcxC\"],\"xaxis\":\"x4\",\"y\":[3,2,2,2,1,1,1,1,1,1,1],\"yaxis\":\"y4\",\"type\":\"bar\"},{\"alignmentgroup\":\"True\",\"hovertemplate\":\"category_name=Gaming<br>year_month=2021-07<br>channel_id=%{x}<br>video_id=%{y}<extra></extra>\",\"legendgroup\":\"Gaming\",\"marker\":{\"color\":\"#EF553B\",\"pattern\":{\"shape\":\"\"}},\"name\":\"Gaming\",\"offsetgroup\":\"Gaming\",\"orientation\":\"v\",\"showlegend\":false,\"textposition\":\"auto\",\"x\":[\"CH8CIM3\",\"CH31ypO\",\"CH9_093\",\"CHzgNzU\",\"CHta_NR\",\"CHoyaxd\",\"CHooLkG\",\"CHom6Yh\",\"CHBrb8H\",\"CHBUNoF\",\"CHDBAVz\",\"CHdrBnB\",\"CHg7rkx\",\"CHY9pEH\"],\"xaxis\":\"x3\",\"y\":[3,2,2,2,1,1,1,1,1,1,1,1,1,1],\"yaxis\":\"y3\",\"type\":\"bar\"},{\"alignmentgroup\":\"True\",\"hovertemplate\":\"category_name=Gaming<br>year_month=2021-04<br>channel_id=%{x}<br>video_id=%{y}<extra></extra>\",\"legendgroup\":\"Gaming\",\"marker\":{\"color\":\"#EF553B\",\"pattern\":{\"shape\":\"\"}},\"name\":\"Gaming\",\"offsetgroup\":\"Gaming\",\"orientation\":\"v\",\"showlegend\":false,\"textposition\":\"auto\",\"x\":[\"CHDBAVz\",\"CHyTB7U\",\"CHxM_h0\",\"CHw1Dsw\",\"CHuOUU4\",\"CHpYaDy\",\"CHooLkG\",\"CHBA9Xa\",\"CH8CIM3\",\"CHlJspS\",\"CHeHFCf\",\"CHdrBnB\"],\"xaxis\":\"x2\",\"y\":[2,1,1,1,1,1,1,1,1,1,1,1],\"yaxis\":\"y2\",\"type\":\"bar\"},{\"alignmentgroup\":\"True\",\"hovertemplate\":\"category_name=Gaming<br>year_month=2021-03<br>channel_id=%{x}<br>video_id=%{y}<extra></extra>\",\"legendgroup\":\"Gaming\",\"marker\":{\"color\":\"#EF553B\",\"pattern\":{\"shape\":\"\"}},\"name\":\"Gaming\",\"offsetgroup\":\"Gaming\",\"orientation\":\"v\",\"showlegend\":false,\"textposition\":\"auto\",\"x\":[\"CHooLkG\"],\"xaxis\":\"x\",\"y\":[1],\"yaxis\":\"y\",\"type\":\"bar\"},{\"alignmentgroup\":\"True\",\"hovertemplate\":\"category_name=Science & Technology<br>year_month=2021-06<br>channel_id=%{x}<br>video_id=%{y}<extra></extra>\",\"legendgroup\":\"Science & Technology\",\"marker\":{\"color\":\"#00cc96\",\"pattern\":{\"shape\":\"\"}},\"name\":\"Science & Technology\",\"offsetgroup\":\"Science & Technology\",\"orientation\":\"v\",\"showlegend\":true,\"textposition\":\"auto\",\"x\":[\"CH3dJKw\",\"CHJiv3w\",\"CHJKZoV\",\"CHJJ_n7\",\"CHE_M8A\",\"CHYAvG7\"],\"xaxis\":\"x5\",\"y\":[2,1,1,1,1,1],\"yaxis\":\"y5\",\"type\":\"bar\"},{\"alignmentgroup\":\"True\",\"hovertemplate\":\"category_name=Science & Technology<br>year_month=2021-05<br>channel_id=%{x}<br>video_id=%{y}<extra></extra>\",\"legendgroup\":\"Science & Technology\",\"marker\":{\"color\":\"#00cc96\",\"pattern\":{\"shape\":\"\"}},\"name\":\"Science & Technology\",\"offsetgroup\":\"Science & Technology\",\"orientation\":\"v\",\"showlegend\":false,\"textposition\":\"auto\",\"x\":[\"CHWwgaK\",\"CHIk1-y\",\"CHWnC1r\",\"CHrBpV_\",\"CHdpbqw\",\"CHdUcjk\",\"CHb-Abq\",\"CH_0oo0\"],\"xaxis\":\"x4\",\"y\":[1,1,1,1,1,1,1,1],\"yaxis\":\"y4\",\"type\":\"bar\"},{\"alignmentgroup\":\"True\",\"hovertemplate\":\"category_name=Science & Technology<br>year_month=2021-07<br>channel_id=%{x}<br>video_id=%{y}<extra></extra>\",\"legendgroup\":\"Science & Technology\",\"marker\":{\"color\":\"#00cc96\",\"pattern\":{\"shape\":\"\"}},\"name\":\"Science & Technology\",\"offsetgroup\":\"Science & Technology\",\"orientation\":\"v\",\"showlegend\":false,\"textposition\":\"auto\",\"x\":[\"CHdUcjk\",\"CHJJ_n7\",\"CHFX6ad\",\"CHB11SA\",\"CHj-MI9\",\"CH3dJKw\"],\"xaxis\":\"x3\",\"y\":[3,2,1,1,1,1],\"yaxis\":\"y3\",\"type\":\"bar\"},{\"alignmentgroup\":\"True\",\"hovertemplate\":\"category_name=Science & Technology<br>year_month=2021-04<br>channel_id=%{x}<br>video_id=%{y}<extra></extra>\",\"legendgroup\":\"Science & Technology\",\"marker\":{\"color\":\"#00cc96\",\"pattern\":{\"shape\":\"\"}},\"name\":\"Science & Technology\",\"offsetgroup\":\"Science & Technology\",\"orientation\":\"v\",\"showlegend\":false,\"textposition\":\"auto\",\"x\":[\"CHdUcjk\",\"CHUkuuo\",\"CHO4RG1\",\"CHIk1-y\",\"CHFX6ad\",\"CHE_M8A\",\"CHB11SA\",\"CH5aNQ6\",\"CH_0oo0\"],\"xaxis\":\"x2\",\"y\":[3,1,1,1,1,1,1,1,1],\"yaxis\":\"y2\",\"type\":\"bar\"},{\"alignmentgroup\":\"True\",\"hovertemplate\":\"category_name=Science & Technology<br>year_month=2021-03<br>channel_id=%{x}<br>video_id=%{y}<extra></extra>\",\"legendgroup\":\"Science & Technology\",\"marker\":{\"color\":\"#00cc96\",\"pattern\":{\"shape\":\"\"}},\"name\":\"Science & Technology\",\"offsetgroup\":\"Science & Technology\",\"orientation\":\"v\",\"showlegend\":false,\"textposition\":\"auto\",\"x\":[\"CHUkuuo\"],\"xaxis\":\"x\",\"y\":[1],\"yaxis\":\"y\",\"type\":\"bar\"},{\"alignmentgroup\":\"True\",\"hovertemplate\":\"category_name=Autos & Vehicles<br>year_month=2021-06<br>channel_id=%{x}<br>video_id=%{y}<extra></extra>\",\"legendgroup\":\"Autos & Vehicles\",\"marker\":{\"color\":\"#ab63fa\",\"pattern\":{\"shape\":\"\"}},\"name\":\"Autos & Vehicles\",\"offsetgroup\":\"Autos & Vehicles\",\"orientation\":\"v\",\"showlegend\":true,\"textposition\":\"auto\",\"x\":[\"CHiubh7\",\"CHd5CdY\",\"CHYVZ6z\",\"CHKnKi2\",\"CH5f97D\",\"CH2xkO7\",\"CHyF14S\"],\"xaxis\":\"x5\",\"y\":[1,1,1,1,1,1,1],\"yaxis\":\"y5\",\"type\":\"bar\"},{\"alignmentgroup\":\"True\",\"hovertemplate\":\"category_name=Autos & Vehicles<br>year_month=2021-05<br>channel_id=%{x}<br>video_id=%{y}<extra></extra>\",\"legendgroup\":\"Autos & Vehicles\",\"marker\":{\"color\":\"#ab63fa\",\"pattern\":{\"shape\":\"\"}},\"name\":\"Autos & Vehicles\",\"offsetgroup\":\"Autos & Vehicles\",\"orientation\":\"v\",\"showlegend\":false,\"textposition\":\"auto\",\"x\":[\"CHH5U89\",\"CHSkpiP\",\"CHPbxBh\",\"CHs2TmE\"],\"xaxis\":\"x4\",\"y\":[2,1,1,1],\"yaxis\":\"y4\",\"type\":\"bar\"},{\"alignmentgroup\":\"True\",\"hovertemplate\":\"category_name=Autos & Vehicles<br>year_month=2021-07<br>channel_id=%{x}<br>video_id=%{y}<extra></extra>\",\"legendgroup\":\"Autos & Vehicles\",\"marker\":{\"color\":\"#ab63fa\",\"pattern\":{\"shape\":\"\"}},\"name\":\"Autos & Vehicles\",\"offsetgroup\":\"Autos & Vehicles\",\"orientation\":\"v\",\"showlegend\":false,\"textposition\":\"auto\",\"x\":[\"CHDpnvN\",\"CHiubh7\",\"CH_rBRr\",\"CHp0B9n\",\"CHPbxBh\",\"CHkGHfa\",\"CHrOl7I\"],\"xaxis\":\"x3\",\"y\":[2,1,1,1,1,1,1],\"yaxis\":\"y3\",\"type\":\"bar\"},{\"alignmentgroup\":\"True\",\"hovertemplate\":\"category_name=Autos & Vehicles<br>year_month=2021-04<br>channel_id=%{x}<br>video_id=%{y}<extra></extra>\",\"legendgroup\":\"Autos & Vehicles\",\"marker\":{\"color\":\"#ab63fa\",\"pattern\":{\"shape\":\"\"}},\"name\":\"Autos & Vehicles\",\"offsetgroup\":\"Autos & Vehicles\",\"orientation\":\"v\",\"showlegend\":false,\"textposition\":\"auto\",\"x\":[\"CHrXkDA\",\"CHrOl7I\",\"CH-IBt8\",\"CHWY41Q\",\"CHiubh7\",\"CHd5CdY\",\"CHPbxBh\",\"CH5f97D\",\"CH2xkO7\"],\"xaxis\":\"x2\",\"y\":[2,2,1,1,1,1,1,1,1],\"yaxis\":\"y2\",\"type\":\"bar\"},{\"alignmentgroup\":\"True\",\"hovertemplate\":\"category_name=Nonprofits & Activism<br>year_month=2021-05<br>channel_id=%{x}<br>video_id=%{y}<extra></extra>\",\"legendgroup\":\"Nonprofits & Activism\",\"marker\":{\"color\":\"#FFA15A\",\"pattern\":{\"shape\":\"\"}},\"name\":\"Nonprofits & Activism\",\"offsetgroup\":\"Nonprofits & Activism\",\"orientation\":\"v\",\"showlegend\":true,\"textposition\":\"auto\",\"x\":[\"CHSsWdU\"],\"xaxis\":\"x4\",\"y\":[1],\"yaxis\":\"y4\",\"type\":\"bar\"}],                        {\"template\":{\"data\":{\"bar\":[{\"error_x\":{\"color\":\"#2a3f5f\"},\"error_y\":{\"color\":\"#2a3f5f\"},\"marker\":{\"line\":{\"color\":\"#E5ECF6\",\"width\":0.5},\"pattern\":{\"fillmode\":\"overlay\",\"size\":10,\"solidity\":0.2}},\"type\":\"bar\"}],\"barpolar\":[{\"marker\":{\"line\":{\"color\":\"#E5ECF6\",\"width\":0.5},\"pattern\":{\"fillmode\":\"overlay\",\"size\":10,\"solidity\":0.2}},\"type\":\"barpolar\"}],\"carpet\":[{\"aaxis\":{\"endlinecolor\":\"#2a3f5f\",\"gridcolor\":\"white\",\"linecolor\":\"white\",\"minorgridcolor\":\"white\",\"startlinecolor\":\"#2a3f5f\"},\"baxis\":{\"endlinecolor\":\"#2a3f5f\",\"gridcolor\":\"white\",\"linecolor\":\"white\",\"minorgridcolor\":\"white\",\"startlinecolor\":\"#2a3f5f\"},\"type\":\"carpet\"}],\"choropleth\":[{\"colorbar\":{\"outlinewidth\":0,\"ticks\":\"\"},\"type\":\"choropleth\"}],\"contour\":[{\"colorbar\":{\"outlinewidth\":0,\"ticks\":\"\"},\"colorscale\":[[0.0,\"#0d0887\"],[0.1111111111111111,\"#46039f\"],[0.2222222222222222,\"#7201a8\"],[0.3333333333333333,\"#9c179e\"],[0.4444444444444444,\"#bd3786\"],[0.5555555555555556,\"#d8576b\"],[0.6666666666666666,\"#ed7953\"],[0.7777777777777778,\"#fb9f3a\"],[0.8888888888888888,\"#fdca26\"],[1.0,\"#f0f921\"]],\"type\":\"contour\"}],\"contourcarpet\":[{\"colorbar\":{\"outlinewidth\":0,\"ticks\":\"\"},\"type\":\"contourcarpet\"}],\"heatmap\":[{\"colorbar\":{\"outlinewidth\":0,\"ticks\":\"\"},\"colorscale\":[[0.0,\"#0d0887\"],[0.1111111111111111,\"#46039f\"],[0.2222222222222222,\"#7201a8\"],[0.3333333333333333,\"#9c179e\"],[0.4444444444444444,\"#bd3786\"],[0.5555555555555556,\"#d8576b\"],[0.6666666666666666,\"#ed7953\"],[0.7777777777777778,\"#fb9f3a\"],[0.8888888888888888,\"#fdca26\"],[1.0,\"#f0f921\"]],\"type\":\"heatmap\"}],\"heatmapgl\":[{\"colorbar\":{\"outlinewidth\":0,\"ticks\":\"\"},\"colorscale\":[[0.0,\"#0d0887\"],[0.1111111111111111,\"#46039f\"],[0.2222222222222222,\"#7201a8\"],[0.3333333333333333,\"#9c179e\"],[0.4444444444444444,\"#bd3786\"],[0.5555555555555556,\"#d8576b\"],[0.6666666666666666,\"#ed7953\"],[0.7777777777777778,\"#fb9f3a\"],[0.8888888888888888,\"#fdca26\"],[1.0,\"#f0f921\"]],\"type\":\"heatmapgl\"}],\"histogram\":[{\"marker\":{\"pattern\":{\"fillmode\":\"overlay\",\"size\":10,\"solidity\":0.2}},\"type\":\"histogram\"}],\"histogram2d\":[{\"colorbar\":{\"outlinewidth\":0,\"ticks\":\"\"},\"colorscale\":[[0.0,\"#0d0887\"],[0.1111111111111111,\"#46039f\"],[0.2222222222222222,\"#7201a8\"],[0.3333333333333333,\"#9c179e\"],[0.4444444444444444,\"#bd3786\"],[0.5555555555555556,\"#d8576b\"],[0.6666666666666666,\"#ed7953\"],[0.7777777777777778,\"#fb9f3a\"],[0.8888888888888888,\"#fdca26\"],[1.0,\"#f0f921\"]],\"type\":\"histogram2d\"}],\"histogram2dcontour\":[{\"colorbar\":{\"outlinewidth\":0,\"ticks\":\"\"},\"colorscale\":[[0.0,\"#0d0887\"],[0.1111111111111111,\"#46039f\"],[0.2222222222222222,\"#7201a8\"],[0.3333333333333333,\"#9c179e\"],[0.4444444444444444,\"#bd3786\"],[0.5555555555555556,\"#d8576b\"],[0.6666666666666666,\"#ed7953\"],[0.7777777777777778,\"#fb9f3a\"],[0.8888888888888888,\"#fdca26\"],[1.0,\"#f0f921\"]],\"type\":\"histogram2dcontour\"}],\"mesh3d\":[{\"colorbar\":{\"outlinewidth\":0,\"ticks\":\"\"},\"type\":\"mesh3d\"}],\"parcoords\":[{\"line\":{\"colorbar\":{\"outlinewidth\":0,\"ticks\":\"\"}},\"type\":\"parcoords\"}],\"pie\":[{\"automargin\":true,\"type\":\"pie\"}],\"scatter\":[{\"marker\":{\"colorbar\":{\"outlinewidth\":0,\"ticks\":\"\"}},\"type\":\"scatter\"}],\"scatter3d\":[{\"line\":{\"colorbar\":{\"outlinewidth\":0,\"ticks\":\"\"}},\"marker\":{\"colorbar\":{\"outlinewidth\":0,\"ticks\":\"\"}},\"type\":\"scatter3d\"}],\"scattercarpet\":[{\"marker\":{\"colorbar\":{\"outlinewidth\":0,\"ticks\":\"\"}},\"type\":\"scattercarpet\"}],\"scattergeo\":[{\"marker\":{\"colorbar\":{\"outlinewidth\":0,\"ticks\":\"\"}},\"type\":\"scattergeo\"}],\"scattergl\":[{\"marker\":{\"colorbar\":{\"outlinewidth\":0,\"ticks\":\"\"}},\"type\":\"scattergl\"}],\"scattermapbox\":[{\"marker\":{\"colorbar\":{\"outlinewidth\":0,\"ticks\":\"\"}},\"type\":\"scattermapbox\"}],\"scatterpolar\":[{\"marker\":{\"colorbar\":{\"outlinewidth\":0,\"ticks\":\"\"}},\"type\":\"scatterpolar\"}],\"scatterpolargl\":[{\"marker\":{\"colorbar\":{\"outlinewidth\":0,\"ticks\":\"\"}},\"type\":\"scatterpolargl\"}],\"scatterternary\":[{\"marker\":{\"colorbar\":{\"outlinewidth\":0,\"ticks\":\"\"}},\"type\":\"scatterternary\"}],\"surface\":[{\"colorbar\":{\"outlinewidth\":0,\"ticks\":\"\"},\"colorscale\":[[0.0,\"#0d0887\"],[0.1111111111111111,\"#46039f\"],[0.2222222222222222,\"#7201a8\"],[0.3333333333333333,\"#9c179e\"],[0.4444444444444444,\"#bd3786\"],[0.5555555555555556,\"#d8576b\"],[0.6666666666666666,\"#ed7953\"],[0.7777777777777778,\"#fb9f3a\"],[0.8888888888888888,\"#fdca26\"],[1.0,\"#f0f921\"]],\"type\":\"surface\"}],\"table\":[{\"cells\":{\"fill\":{\"color\":\"#EBF0F8\"},\"line\":{\"color\":\"white\"}},\"header\":{\"fill\":{\"color\":\"#C8D4E3\"},\"line\":{\"color\":\"white\"}},\"type\":\"table\"}]},\"layout\":{\"annotationdefaults\":{\"arrowcolor\":\"#2a3f5f\",\"arrowhead\":0,\"arrowwidth\":1},\"autotypenumbers\":\"strict\",\"coloraxis\":{\"colorbar\":{\"outlinewidth\":0,\"ticks\":\"\"}},\"colorscale\":{\"diverging\":[[0,\"#8e0152\"],[0.1,\"#c51b7d\"],[0.2,\"#de77ae\"],[0.3,\"#f1b6da\"],[0.4,\"#fde0ef\"],[0.5,\"#f7f7f7\"],[0.6,\"#e6f5d0\"],[0.7,\"#b8e186\"],[0.8,\"#7fbc41\"],[0.9,\"#4d9221\"],[1,\"#276419\"]],\"sequential\":[[0.0,\"#0d0887\"],[0.1111111111111111,\"#46039f\"],[0.2222222222222222,\"#7201a8\"],[0.3333333333333333,\"#9c179e\"],[0.4444444444444444,\"#bd3786\"],[0.5555555555555556,\"#d8576b\"],[0.6666666666666666,\"#ed7953\"],[0.7777777777777778,\"#fb9f3a\"],[0.8888888888888888,\"#fdca26\"],[1.0,\"#f0f921\"]],\"sequentialminus\":[[0.0,\"#0d0887\"],[0.1111111111111111,\"#46039f\"],[0.2222222222222222,\"#7201a8\"],[0.3333333333333333,\"#9c179e\"],[0.4444444444444444,\"#bd3786\"],[0.5555555555555556,\"#d8576b\"],[0.6666666666666666,\"#ed7953\"],[0.7777777777777778,\"#fb9f3a\"],[0.8888888888888888,\"#fdca26\"],[1.0,\"#f0f921\"]]},\"colorway\":[\"#636efa\",\"#EF553B\",\"#00cc96\",\"#ab63fa\",\"#FFA15A\",\"#19d3f3\",\"#FF6692\",\"#B6E880\",\"#FF97FF\",\"#FECB52\"],\"font\":{\"color\":\"#2a3f5f\"},\"geo\":{\"bgcolor\":\"white\",\"lakecolor\":\"white\",\"landcolor\":\"#E5ECF6\",\"showlakes\":true,\"showland\":true,\"subunitcolor\":\"white\"},\"hoverlabel\":{\"align\":\"left\"},\"hovermode\":\"closest\",\"mapbox\":{\"style\":\"light\"},\"paper_bgcolor\":\"white\",\"plot_bgcolor\":\"#E5ECF6\",\"polar\":{\"angularaxis\":{\"gridcolor\":\"white\",\"linecolor\":\"white\",\"ticks\":\"\"},\"bgcolor\":\"#E5ECF6\",\"radialaxis\":{\"gridcolor\":\"white\",\"linecolor\":\"white\",\"ticks\":\"\"}},\"scene\":{\"xaxis\":{\"backgroundcolor\":\"#E5ECF6\",\"gridcolor\":\"white\",\"gridwidth\":2,\"linecolor\":\"white\",\"showbackground\":true,\"ticks\":\"\",\"zerolinecolor\":\"white\"},\"yaxis\":{\"backgroundcolor\":\"#E5ECF6\",\"gridcolor\":\"white\",\"gridwidth\":2,\"linecolor\":\"white\",\"showbackground\":true,\"ticks\":\"\",\"zerolinecolor\":\"white\"},\"zaxis\":{\"backgroundcolor\":\"#E5ECF6\",\"gridcolor\":\"white\",\"gridwidth\":2,\"linecolor\":\"white\",\"showbackground\":true,\"ticks\":\"\",\"zerolinecolor\":\"white\"}},\"shapedefaults\":{\"line\":{\"color\":\"#2a3f5f\"}},\"ternary\":{\"aaxis\":{\"gridcolor\":\"white\",\"linecolor\":\"white\",\"ticks\":\"\"},\"baxis\":{\"gridcolor\":\"white\",\"linecolor\":\"white\",\"ticks\":\"\"},\"bgcolor\":\"#E5ECF6\",\"caxis\":{\"gridcolor\":\"white\",\"linecolor\":\"white\",\"ticks\":\"\"}},\"title\":{\"x\":0.05},\"xaxis\":{\"automargin\":true,\"gridcolor\":\"white\",\"linecolor\":\"white\",\"ticks\":\"\",\"title\":{\"standoff\":15},\"zerolinecolor\":\"white\",\"zerolinewidth\":2},\"yaxis\":{\"automargin\":true,\"gridcolor\":\"white\",\"linecolor\":\"white\",\"ticks\":\"\",\"title\":{\"standoff\":15},\"zerolinecolor\":\"white\",\"zerolinewidth\":2}}},\"xaxis\":{\"anchor\":\"y\",\"domain\":[0.0,0.98],\"title\":{\"text\":\"Channel\"}},\"yaxis\":{\"anchor\":\"x\",\"domain\":[0.0,0.17600000000000002],\"title\":{\"text\":\"Video Count\"}},\"xaxis2\":{\"anchor\":\"y2\",\"domain\":[0.0,0.98],\"matches\":\"x\",\"showticklabels\":false},\"yaxis2\":{\"anchor\":\"x2\",\"domain\":[0.20600000000000002,0.382],\"matches\":\"y\",\"title\":{\"text\":\"Video Count\"}},\"xaxis3\":{\"anchor\":\"y3\",\"domain\":[0.0,0.98],\"matches\":\"x\",\"showticklabels\":false},\"yaxis3\":{\"anchor\":\"x3\",\"domain\":[0.41200000000000003,0.5880000000000001],\"matches\":\"y\",\"title\":{\"text\":\"Video Count\"}},\"xaxis4\":{\"anchor\":\"y4\",\"domain\":[0.0,0.98],\"matches\":\"x\",\"showticklabels\":false},\"yaxis4\":{\"anchor\":\"x4\",\"domain\":[0.618,0.794],\"matches\":\"y\",\"title\":{\"text\":\"Video Count\"}},\"xaxis5\":{\"anchor\":\"y5\",\"domain\":[0.0,0.98],\"matches\":\"x\",\"showticklabels\":false},\"yaxis5\":{\"anchor\":\"x5\",\"domain\":[0.8240000000000001,1.0],\"matches\":\"y\",\"title\":{\"text\":\"Video Count\"}},\"annotations\":[{\"font\":{},\"showarrow\":false,\"text\":\"2021-03\",\"textangle\":90,\"x\":0.98,\"xanchor\":\"left\",\"xref\":\"paper\",\"y\":0.08800000000000001,\"yanchor\":\"middle\",\"yref\":\"paper\"},{\"font\":{},\"showarrow\":false,\"text\":\"2021-04\",\"textangle\":90,\"x\":0.98,\"xanchor\":\"left\",\"xref\":\"paper\",\"y\":0.29400000000000004,\"yanchor\":\"middle\",\"yref\":\"paper\"},{\"font\":{},\"showarrow\":false,\"text\":\"2021-07\",\"textangle\":90,\"x\":0.98,\"xanchor\":\"left\",\"xref\":\"paper\",\"y\":0.5,\"yanchor\":\"middle\",\"yref\":\"paper\"},{\"font\":{},\"showarrow\":false,\"text\":\"2021-05\",\"textangle\":90,\"x\":0.98,\"xanchor\":\"left\",\"xref\":\"paper\",\"y\":0.706,\"yanchor\":\"middle\",\"yref\":\"paper\"},{\"font\":{},\"showarrow\":false,\"text\":\"2021-06\",\"textangle\":90,\"x\":0.98,\"xanchor\":\"left\",\"xref\":\"paper\",\"y\":0.912,\"yanchor\":\"middle\",\"yref\":\"paper\"}],\"legend\":{\"title\":{\"text\":\"category_name\"},\"tracegroupgap\":0},\"margin\":{\"t\":60},\"barmode\":\"stack\",\"title\":{\"text\":\"Video Count by Category and Channel\"},\"width\":1600,\"height\":800},                        {\"responsive\": true}                    ).then(function(){\n",
       "                            \n",
       "var gd = document.getElementById('cb9f9d5e-0a61-4f72-a123-3a61e3415726');\n",
       "var x = new MutationObserver(function (mutations, observer) {{\n",
       "        var display = window.getComputedStyle(gd).display;\n",
       "        if (!display || display === 'none') {{\n",
       "            console.log([gd, 'removed!']);\n",
       "            Plotly.purge(gd);\n",
       "            observer.disconnect();\n",
       "        }}\n",
       "}});\n",
       "\n",
       "// Listen for the removal of the full notebook cells\n",
       "var notebookContainer = gd.closest('#notebook-container');\n",
       "if (notebookContainer) {{\n",
       "    x.observe(notebookContainer, {childList: true});\n",
       "}}\n",
       "\n",
       "// Listen for the clearing of the current output cell\n",
       "var outputEl = gd.closest('.output');\n",
       "if (outputEl) {{\n",
       "    x.observe(outputEl, {childList: true});\n",
       "}}\n",
       "\n",
       "                        })                };                });            </script>        </div>"
      ]
     },
     "metadata": {},
     "output_type": "display_data"
    }
   ],
   "source": [
    "fig_q1_2 = px.bar(q1_2, y='video_id',x='channel_id' ,color='category_name',facet_row=\"year_month\",orientation='v',barmode='stack',facet_col_wrap=2)\n",
    "fig_q1_2.for_each_annotation(lambda a: a.update(text=a.text.split(\"=\")[-1]))\n",
    "fig_q1_2.for_each_yaxis(lambda y: y.update(title='Video Count'))\n",
    "fig_q1_2.update_layout(title_text='Video Count by Category and Channel',\n",
    "                       xaxis_title='Channel',\n",
    "                       width=1600,\n",
    "                       height=800)\n",
    "fig_q1_2.show()"
   ]
  },
  {
   "cell_type": "code",
   "execution_count": null,
   "metadata": {},
   "outputs": [],
   "source": []
  },
  {
   "cell_type": "code",
   "execution_count": null,
   "metadata": {},
   "outputs": [],
   "source": []
  },
  {
   "cell_type": "code",
   "execution_count": 31,
   "metadata": {},
   "outputs": [],
   "source": [
    "# faceting \n",
    "import plotly.graph_objects as go\n",
    "from plotly.subplots import make_subplots\n"
   ]
  },
  {
   "cell_type": "code",
   "execution_count": 79,
   "metadata": {},
   "outputs": [],
   "source": [
    "from dash import dcc"
   ]
  },
  {
   "cell_type": "code",
   "execution_count": 87,
   "metadata": {},
   "outputs": [
    {
     "data": {
      "application/vnd.plotly.v1+json": {
       "config": {
        "plotlyServerURL": "https://plot.ly"
       },
       "data": [
        {
         "alignmentgroup": "True",
         "hovertemplate": "category_name=Entertainment<br>channel_id=%{x}<br>video_id=%{y}<extra></extra>",
         "legendgroup": "Entertainment",
         "marker": {
          "color": "#636efa",
          "pattern": {
           "shape": ""
          }
         },
         "name": "Entertainment",
         "offsetgroup": "Entertainment",
         "orientation": "v",
         "showlegend": true,
         "textposition": "auto",
         "type": "bar",
         "x": [
          "CHQ2O-i",
          "CHlzB2i",
          "CHiwQRG",
          "CHaKod3",
          "CHx6jsZ",
          "CHUyfkq",
          "CHkxbPw",
          "CH0PsUG",
          "CH0VR2v",
          "CHpjm6R",
          "CHPx-7A",
          "CHwx6n_",
          "CHEwOn7",
          "CHKxLXX",
          "CHk6bX-",
          "CHVWmCR",
          "CHhgOgR",
          "CHy-swB",
          "CHWYzc_",
          "CHmjNKt",
          "CHwNVDl",
          "CH1L79y",
          "CHIUfR-",
          "CHbCr1d",
          "CH78PMQ",
          "CHtDcEb",
          "CHiBKp3",
          "CHFL1sC",
          "CHyozK5",
          "CHqHP70",
          "CHZf4ZE",
          "CHqq-ov",
          "CHnx4Fi",
          "CHsRIHt",
          "CHIA-LP",
          "CH3re3u",
          "CHCfQK8",
          "CH8OUSY",
          "CHEIi7z",
          "CH1cWTE",
          "CHcOYEm",
          "CHYtjW8",
          "CHhE5nZ",
          "CHPde4g",
          "CHOHM2N",
          "CHNIiH_",
          "CHbD8Ep",
          "CH920m3",
          "CHdWgRS",
          "CHeSHil",
          "CHYyLIl",
          "CHJmcPV",
          "CHYZv9v",
          "CHnLeqv",
          "CHXZx95",
          "CHK1sVu",
          "CHExw7_",
          "CHTuthm",
          "CHTnafh",
          "CHQNRHp",
          "CHHzW_7",
          "CHiEEF5",
          "CHj-dur",
          "CH3SyT4",
          "CHriPmQ",
          "CHs1R9z",
          "CHs8R3n",
          "CH2E-9A",
          "CH6erID",
          "CH5Ida8",
          "CHxQXvv",
          "CH9idb-",
          "CH5bUcn",
          "CHy-NrX",
          "CHoXoV4",
          "CHTQVIX",
          "CHRMA_N",
          "CHweOkP",
          "CHXaYpH",
          "CHmbGE7",
          "CHybPxZ",
          "CHbuks6",
          "CHbEp_Z",
          "CHZVD--",
          "CHpPXYy",
          "CH9HNi_",
          "CHYn09y",
          "CHYgUhR",
          "CHy1fru",
          "CHhY4PX",
          "CHObJpv",
          "CHm2PiW",
          "CHMGn0N",
          "CHrSase",
          "CH46BbE",
          "CHiBr0b",
          "CHF3UEV",
          "CHF8W68",
          "CHkbJc8",
          "CHmONdw",
          "CHsNVs6",
          "CHmgt7e",
          "CHr0ade",
          "CHsOW9T",
          "CHi9Sl8",
          "CHepUWU",
          "CHk5bhZ",
          "CHoCvTl",
          "CHoUDrz",
          "CHuTKrQ",
          "CHrhH1d",
          "CHhLGxP",
          "CHgsffS",
          "CHgiO7K",
          "CHgeeQu",
          "CHgZlBR",
          "CHjGoJb",
          "CHjToDB",
          "CHtckgm",
          "CHkjXq1",
          "CH-VbFg",
          "CH2qjHK",
          "CH3m0s5",
          "CH8WoHU",
          "CH9nLq3",
          "CHDb1t5",
          "CHEI4rb",
          "CHEX1cZ",
          "CHGrfaH",
          "CHGsJRp",
          "CHH1oRy",
          "CHUnSdg",
          "CHWhiqH",
          "CHY2uWQ",
          "CHZCH_G",
          "CH_Fxf0",
          "CH_pOKL",
          "CHaNGiz",
          "CHKdfNL",
          "CHLVwgJ",
          "CHIueAL",
          "CHIY5oU",
          "CHB9e3p",
          "CH-BqPA",
          "CH_plsx",
          "CHaZS_X",
          "CHb-y7Y",
          "CHbVRtq",
          "CHcTWmz",
          "CH73yn5",
          "CHe-gh0",
          "CHem8l1",
          "CHfWZns",
          "CHg3Ydm",
          "CH68buD",
          "CHYSjF7",
          "CH2tfQf",
          "CHLynj-",
          "CH2IIBY",
          "CHM31rB",
          "CHMtFAi",
          "CHNQL3R",
          "CH4JAFO",
          "CHR5cyf",
          "CHRLM0M",
          "CH1HHeT",
          "CHS_hnp",
          "CH4nEQI",
          "CHHlSeJ",
          "CH5BMQO",
          "CH-giR4",
          "CHUXYT0",
          "CHUj6rr",
          "CHVyhgR",
          "CHYC3ZZ",
          "CHg8U-Z",
          "CHrhgVH",
          "CHu9BCt",
          "CHudezj",
          "CHvAewW",
          "CHxLc0z",
          "CHxmBxN",
          "CH9w-h_",
          "CHBI8xZ",
          "CHLKugl",
          "CHreX6A",
          "CHoW9qW",
          "CHj28Fv",
          "CHkQCwn",
          "CHDih-8",
          "CHl_tB4",
          "CH81Kll",
          "CHmApNd",
          "CHnNNN_",
          "CHnNfsL",
          "CHoQIdt",
          "CHrLUuZ",
          "CHDhM2k",
          "CHp0hYY",
          "CHod5V2",
          "CHNE1pY",
          "CHOJplh",
          "CHOtCBu",
          "CHOzWaj",
          "CHPECLB",
          "CHPKNKl",
          "CHRWzK4",
          "CHSB5FO",
          "CHSQ55i",
          "CHT2X19",
          "CHTOUUd",
          "CHTS3Lw",
          "CHTmrCB",
          "CHU8MOm",
          "CHVXN28",
          "CHWJg0Q",
          "CHNl-TU",
          "CHLtOnh",
          "CHtgggh",
          "CHLF1hN",
          "CHC1LvV",
          "CHCCjbf",
          "CHEkcg9",
          "CHFg6o2",
          "CHG0Jec",
          "CHGMHKj",
          "CHGWhMp",
          "CHGnfBj",
          "CHGrAnV",
          "CHHcDLO",
          "CHI5WgF",
          "CHIn1p2",
          "CHIuteB",
          "CHK3p1w",
          "CHKuwp5",
          "CHWstBK",
          "CHXiyTP",
          "CHYIxlZ",
          "CHYeeEw",
          "CHfugxK",
          "CHhK2Dh",
          "CHhpiLQ",
          "CHhqMfc",
          "CHiP6DC",
          "CHid83o",
          "CHjkoqt",
          "CHkPp7P",
          "CHpBkdV",
          "CHpK0ae",
          "CHrjVVh",
          "CHrnPse",
          "CHsM07d",
          "CHsU2Rl",
          "CHseQwR",
          "CHfnMSb",
          "CHffY-g",
          "CHfela5",
          "CHb2wZp",
          "CHYmo0H",
          "CHZECMC",
          "CHZTPmB",
          "CHZtpUg",
          "CH_6zPf",
          "CHa56qk",
          "CHbY7nf",
          "CHfdYUR",
          "CHbs5PG",
          "CHchRZl",
          "CHclwLh",
          "CHdUlCa",
          "CHe_oTY",
          "CHed3O-",
          "CHBwCGr",
          "CHBpzJv",
          "CHBOs39",
          "CHB-ogY",
          "CH35HKv",
          "CH3Ea2-",
          "CH3W3kE",
          "CH49ta0",
          "CH4LW3s",
          "CH4qc3p",
          "CH5q0PI",
          "CH5zXl0",
          "CH6wiUw",
          "CH7Krez",
          "CH7QX2Y",
          "CH88r6m",
          "CH8RGSE",
          "CH9kUsu",
          "CHAP8OK",
          "CH2aMxQ",
          "CH2KEmF",
          "CH2DoAr",
          "CH-Jblc",
          "CH-VOS6",
          "CH2DHU9",
          "CH1-lwA",
          "CH12YJZ",
          "CH18g7g",
          "CH1LWEy",
          "CH2-Lri",
          "CH271vX",
          "CHtCW8q",
          "CHtkQiK",
          "CHtp1ok",
          "CHuw1hx",
          "CHvScwM",
          "CHwZTee",
          "CHxjERP",
          "CHybzQL",
          "CHzt24f"
         ],
         "xaxis": "x",
         "y": [
          17,
          14,
          14,
          11,
          10,
          10,
          9,
          9,
          9,
          9,
          8,
          8,
          8,
          8,
          8,
          8,
          8,
          8,
          8,
          8,
          7,
          7,
          7,
          7,
          7,
          7,
          7,
          7,
          7,
          7,
          7,
          7,
          7,
          6,
          6,
          6,
          6,
          6,
          6,
          6,
          6,
          6,
          6,
          6,
          6,
          6,
          6,
          5,
          5,
          5,
          5,
          5,
          5,
          5,
          5,
          5,
          5,
          5,
          5,
          5,
          5,
          5,
          5,
          5,
          5,
          5,
          5,
          5,
          5,
          5,
          4,
          4,
          4,
          4,
          4,
          4,
          4,
          4,
          4,
          4,
          4,
          4,
          4,
          4,
          4,
          4,
          4,
          4,
          4,
          4,
          4,
          4,
          4,
          4,
          4,
          4,
          4,
          4,
          3,
          3,
          3,
          3,
          3,
          3,
          3,
          3,
          3,
          3,
          3,
          3,
          3,
          3,
          3,
          3,
          3,
          3,
          3,
          3,
          3,
          3,
          3,
          3,
          3,
          3,
          3,
          3,
          3,
          3,
          3,
          3,
          3,
          3,
          3,
          3,
          3,
          3,
          3,
          3,
          3,
          3,
          3,
          3,
          2,
          2,
          2,
          2,
          2,
          2,
          2,
          2,
          2,
          2,
          2,
          2,
          2,
          2,
          2,
          2,
          2,
          2,
          2,
          2,
          2,
          2,
          2,
          2,
          2,
          2,
          2,
          2,
          2,
          2,
          2,
          2,
          2,
          2,
          2,
          2,
          2,
          2,
          2,
          2,
          2,
          2,
          2,
          2,
          2,
          2,
          2,
          2,
          2,
          2,
          2,
          2,
          2,
          2,
          2,
          2,
          2,
          2,
          1,
          1,
          1,
          1,
          1,
          1,
          1,
          1,
          1,
          1,
          1,
          1,
          1,
          1,
          1,
          1,
          1,
          1,
          1,
          1,
          1,
          1,
          1,
          1,
          1,
          1,
          1,
          1,
          1,
          1,
          1,
          1,
          1,
          1,
          1,
          1,
          1,
          1,
          1,
          1,
          1,
          1,
          1,
          1,
          1,
          1,
          1,
          1,
          1,
          1,
          1,
          1,
          1,
          1,
          1,
          1,
          1,
          1,
          1,
          1,
          1,
          1,
          1,
          1,
          1,
          1,
          1,
          1,
          1,
          1,
          1,
          1,
          1,
          1,
          1,
          1,
          1,
          1,
          1,
          1,
          1,
          1,
          1,
          1,
          1,
          1,
          1,
          1,
          1,
          1,
          1,
          1,
          1,
          1,
          1,
          1,
          1,
          1,
          1,
          1,
          1,
          1,
          1,
          1,
          1,
          1,
          1,
          1,
          1,
          1,
          1,
          1
         ],
         "yaxis": "y"
        },
        {
         "alignmentgroup": "True",
         "hovertemplate": "category_name=Sports<br>channel_id=%{x}<br>video_id=%{y}<extra></extra>",
         "legendgroup": "Sports",
         "marker": {
          "color": "#EF553B",
          "pattern": {
           "shape": ""
          }
         },
         "name": "Sports",
         "offsetgroup": "Sports",
         "orientation": "v",
         "showlegend": true,
         "textposition": "auto",
         "type": "bar",
         "x": [
          "CHtybqq",
          "CHtm_Qo",
          "CHUQVGX",
          "CHunsfa",
          "CHYRrUD",
          "CHpjOmw",
          "CHdTDdy",
          "CHhg51l",
          "CHnXNuk",
          "CH2qVOO",
          "CHArK9M",
          "CHoLrcj",
          "CHkFGfv",
          "CHk4XjB",
          "CHgp0KT",
          "CHdtRAc",
          "CHdhukF",
          "CHhb4gt",
          "CHoe-0E",
          "CHqsKWT",
          "CHDIB1D",
          "CHQ4eZw",
          "CH218FQ",
          "CHc7o0O",
          "CHcQTRi",
          "CHEg25r",
          "CHZeHMS",
          "CHCA4-e",
          "CHfHsXd",
          "CH7JbUm",
          "CHh4APi",
          "CHhI3EX",
          "CHQ2TX8",
          "CHRDowc",
          "CHvMwK5",
          "CHtctOX",
          "CHn9mJ4",
          "CHoHirU",
          "CH9pdRy",
          "CHG-Q7s",
          "CHD902z",
          "CHET00Y",
          "CHChcWq",
          "CH9LQwH",
          "CHBKMc4",
          "CHI0FxD",
          "CH7YF5m",
          "CHINRJx",
          "CHKHLAo",
          "CHP6Cn6",
          "CHt8iRt",
          "CHt7dVd",
          "CHmKTwX",
          "CHi84e1",
          "CHgIArN",
          "CHbhuEJ",
          "CHZSNhO",
          "CHYJDUe",
          "CHX0xc2",
          "CHUXDKi",
          "CHTv-Xv",
          "CHTqenv",
          "CHPxCAB",
          "CH4yq3F",
          "CH3GEDF",
          "CH4_uws"
         ],
         "xaxis": "x",
         "y": [
          15,
          12,
          10,
          9,
          8,
          7,
          7,
          7,
          7,
          7,
          6,
          6,
          6,
          6,
          6,
          6,
          5,
          5,
          5,
          5,
          5,
          4,
          4,
          4,
          4,
          3,
          3,
          2,
          2,
          2,
          2,
          2,
          2,
          2,
          2,
          2,
          2,
          2,
          1,
          1,
          1,
          1,
          1,
          1,
          1,
          1,
          1,
          1,
          1,
          1,
          1,
          1,
          1,
          1,
          1,
          1,
          1,
          1,
          1,
          1,
          1,
          1,
          1,
          1,
          1,
          1
         ],
         "yaxis": "y"
        },
        {
         "alignmentgroup": "True",
         "hovertemplate": "category_name=Comedy<br>channel_id=%{x}<br>video_id=%{y}<extra></extra>",
         "legendgroup": "Comedy",
         "marker": {
          "color": "#00cc96",
          "pattern": {
           "shape": ""
          }
         },
         "name": "Comedy",
         "offsetgroup": "Comedy",
         "orientation": "v",
         "showlegend": true,
         "textposition": "auto",
         "type": "bar",
         "x": [
          "CHmzMtX",
          "CHhbE5O",
          "CHg-p3l",
          "CHyCL5k",
          "CHZ0dIs",
          "CHGX5sP",
          "CHSc2Dc",
          "CHt_UFh",
          "CHqsPmf",
          "CHgBLs7",
          "CHRykAt",
          "CHR-qpX",
          "CHEUL40",
          "CH9nFMA",
          "CHe9f9M",
          "CH20WKI",
          "CH9ZLv1",
          "CHIuFnJ",
          "CH0SoPw",
          "CH6KwCU",
          "CH8-Th8",
          "CHN8CPz",
          "CHhvXm5",
          "CHzjiRW",
          "CHsJ6Ru",
          "CHghP93",
          "CHVsBCf",
          "CHV3i3l",
          "CHPwGQu",
          "CHK3p1w",
          "CH_gaUd",
          "CHbGXAe",
          "CHd-Sfb",
          "CHfU6o0",
          "CHg8U-Z",
          "CHivkx6",
          "CHmCNgL",
          "CHmHMsJ",
          "CHoe_Vp",
          "CHr9-Mp",
          "CHyh4ZG",
          "CHYACix",
          "CHQmu3U",
          "CHMVC92",
          "CHJpGg1",
          "CH2o_y8",
          "CH69uMh",
          "CHCjJV_",
          "CHD2YO_",
          "CHDCAyS"
         ],
         "xaxis": "x",
         "y": [
          14,
          11,
          10,
          9,
          9,
          7,
          7,
          5,
          5,
          5,
          5,
          5,
          5,
          5,
          4,
          4,
          4,
          4,
          3,
          3,
          3,
          3,
          3,
          2,
          2,
          2,
          2,
          2,
          2,
          2,
          1,
          1,
          1,
          1,
          1,
          1,
          1,
          1,
          1,
          1,
          1,
          1,
          1,
          1,
          1,
          1,
          1,
          1,
          1,
          1
         ],
         "yaxis": "y"
        },
        {
         "alignmentgroup": "True",
         "hovertemplate": "category_name=People & Blogs<br>channel_id=%{x}<br>video_id=%{y}<extra></extra>",
         "legendgroup": "People & Blogs",
         "marker": {
          "color": "#ab63fa",
          "pattern": {
           "shape": ""
          }
         },
         "name": "People & Blogs",
         "offsetgroup": "People & Blogs",
         "orientation": "v",
         "showlegend": true,
         "textposition": "auto",
         "type": "bar",
         "x": [
          "CHIG4gr",
          "CHtfriF",
          "CHZ1wYQ",
          "CHfpaSr",
          "CHkkWd0",
          "CHoQy2w",
          "CHtkRVa",
          "CHDV9zg",
          "CHXTyJZ",
          "CHpH3rU",
          "CHYnfy2",
          "CHbFzvz",
          "CHRzS1N",
          "CHuDLnJ",
          "CHppou5",
          "CH6lNIb",
          "CHASfMq",
          "CHPZ4e8",
          "CHOOKj-",
          "CHaZS_X",
          "CHXTQWs",
          "CHUyr50",
          "CHA6KBB",
          "CHzRDCw",
          "CHoPTIa",
          "CHqNN-b",
          "CH680xb",
          "CHs9H--",
          "CHsP57H",
          "CHK72hq",
          "CHKFvox",
          "CHKUz_7",
          "CH4MfUq",
          "CH4sIlW",
          "CH31-nU",
          "CH26QQC",
          "CHkh6Tl",
          "CHYt4St",
          "CHrFlv9",
          "CHXXlcP",
          "CHhK2Dh",
          "CHXURHJ",
          "CHfqVrM",
          "CHrRn4V",
          "CHrh6bu",
          "CHyG7zA",
          "CHychoc",
          "CH2KUew",
          "CH4DnB5",
          "CH1EiHI",
          "CHNBfRy",
          "CHONPqk",
          "CHRofX4",
          "CHSiGNr",
          "CHHR4kW",
          "CH-Bsa2",
          "CH0ssa8",
          "CH0wNau",
          "CHD2KRO",
          "CHjpCOk",
          "CH_EngQ",
          "CHE8SAl",
          "CHET3I7",
          "CHLJNGm",
          "CH5RION",
          "CHM64Ik",
          "CHcxK1U",
          "CH5QSBl",
          "CHd1TDy",
          "CHdfhK0",
          "CH48NSS",
          "CHheR9R",
          "CHPhHBE",
          "CHh-1iA",
          "CHAhKKb",
          "CH26M8b",
          "CHBkXIe",
          "CHBoQ8_",
          "CHwW_qU",
          "CHrLQ0o",
          "CHqsPmf",
          "CHoLQZ4",
          "CHnet0I",
          "CHmt37g",
          "CHld0ct",
          "CHu38Cq",
          "CHtn-l7",
          "CH7bRo3",
          "CH9gxOp",
          "CH7Krez",
          "CH8MVMe",
          "CH9G7V6",
          "CHl-tyx",
          "CH-KafR",
          "CH-YRx5",
          "CH-swYD",
          "CH0PsUG",
          "CH0wTMg",
          "CH2Q9aM",
          "CH2XG0i",
          "CH2tbZf",
          "CH47HAk",
          "CH1GHhg",
          "CHKkxVS",
          "CHa_ZCX",
          "CHaPILm",
          "CH_Fq5K",
          "CHZwG8g",
          "CHYDyvq",
          "CHuZu8N",
          "CHv0QY4",
          "CHvG7co",
          "CHvjhQp",
          "CHx_kYu",
          "CHyje3j",
          "CHyn-K7",
          "CHyuL_X",
          "CHzhyI5",
          "CHWycwu",
          "CHWqWR1",
          "CHW9DtK",
          "CHW945U",
          "CHaPqda",
          "CHb_-Xu",
          "CHBHJlM",
          "CHbzDJ6",
          "CHlSUMM",
          "CHkJNt3",
          "CHmfVvm",
          "CHjn-Vb",
          "CHjHn_O",
          "CHicKQU",
          "CHiMq04",
          "CHhtdyq",
          "CHhna8l",
          "CHhji-o",
          "CHrIxxm",
          "CHs29NQ",
          "CHemKWU",
          "CHelPbn",
          "CHtctOX",
          "CHdQk6g",
          "CHtfGLm",
          "CHcQ3rs",
          "CHc7een",
          "CHVyMrl",
          "CHUsoow",
          "CHH7JoV",
          "CHGiqkg",
          "CHGInHR",
          "CHFLlNL",
          "CHF8W68",
          "CHEu_YK",
          "CHCJ2b2",
          "CHC4Qcw",
          "CHJfDSu",
          "CHJko7d",
          "CHQTqoE",
          "CHUWU2s",
          "CHTx3aC",
          "CHQWylD",
          "CHknfGX",
          "CHNYi_z",
          "CHLItMt",
          "CHL-AUQ",
          "CHKmQlV"
         ],
         "xaxis": "x",
         "y": [
          14,
          13,
          10,
          10,
          10,
          9,
          8,
          8,
          8,
          8,
          7,
          6,
          6,
          5,
          5,
          4,
          4,
          4,
          4,
          4,
          4,
          4,
          4,
          4,
          4,
          4,
          4,
          4,
          4,
          4,
          4,
          4,
          4,
          4,
          4,
          4,
          3,
          3,
          3,
          3,
          3,
          3,
          3,
          3,
          3,
          3,
          3,
          3,
          3,
          3,
          3,
          3,
          3,
          3,
          3,
          2,
          2,
          2,
          2,
          2,
          2,
          2,
          2,
          2,
          2,
          2,
          2,
          2,
          2,
          2,
          2,
          2,
          2,
          2,
          2,
          2,
          2,
          2,
          2,
          2,
          2,
          2,
          2,
          2,
          2,
          2,
          2,
          1,
          1,
          1,
          1,
          1,
          1,
          1,
          1,
          1,
          1,
          1,
          1,
          1,
          1,
          1,
          1,
          1,
          1,
          1,
          1,
          1,
          1,
          1,
          1,
          1,
          1,
          1,
          1,
          1,
          1,
          1,
          1,
          1,
          1,
          1,
          1,
          1,
          1,
          1,
          1,
          1,
          1,
          1,
          1,
          1,
          1,
          1,
          1,
          1,
          1,
          1,
          1,
          1,
          1,
          1,
          1,
          1,
          1,
          1,
          1,
          1,
          1,
          1,
          1,
          1,
          1,
          1,
          1,
          1,
          1,
          1,
          1,
          1,
          1,
          1,
          1,
          1,
          1,
          1
         ],
         "yaxis": "y"
        },
        {
         "alignmentgroup": "True",
         "hovertemplate": "category_name=Music<br>channel_id=%{x}<br>video_id=%{y}<extra></extra>",
         "legendgroup": "Music",
         "marker": {
          "color": "#FFA15A",
          "pattern": {
           "shape": ""
          }
         },
         "name": "Music",
         "offsetgroup": "Music",
         "orientation": "v",
         "showlegend": true,
         "textposition": "auto",
         "type": "bar",
         "x": [
          "CHLkAep",
          "CHEf_Bc",
          "CHzCedB",
          "CHtCiO5",
          "CH3IZKs",
          "CH9GtSL",
          "CHaO6TY",
          "CHfkXDY",
          "CHviI9l",
          "CHeLPm9",
          "CHEbRSm",
          "CHabon8",
          "CH3WZlO",
          "CHoRXPc",
          "CHe52oe",
          "CHuKdaT",
          "CHyPwRg",
          "CHwgtOR",
          "CHuhAUM",
          "CHkJ1rb",
          "CHk2E0d",
          "CHRQ7Rw",
          "CHIcXK1",
          "CHHGJwr",
          "CH-FQUI",
          "CH6nxfR",
          "CH66yQ1",
          "CHPENYt",
          "CH9vrvN",
          "CHFipx4",
          "CHk9Gmd",
          "CHsXigG",
          "CHlYq3P",
          "CHmQdC1",
          "CHpbTKp",
          "CH_pwIX",
          "CH2KmG_",
          "CH-qYkz",
          "CHYDmx2",
          "CHdNMDR",
          "CHFEVXX",
          "CHGdZ_-",
          "CHGrAnV",
          "CHHX_FN",
          "CHI3Z79",
          "CHJVA-s",
          "CHKNZsA",
          "CHMIUx2",
          "CHNk_Ik",
          "CHR5cyf",
          "CHRp-tG",
          "CHTEWSE",
          "CHXIF1a",
          "CHY7unn",
          "CHaEIlQ",
          "CHcM_a-",
          "CHG1kwS",
          "CHEdZAd",
          "CHEUX9t",
          "CH3QWks",
          "CH4htMX",
          "CH6TJkB",
          "CH6c5iD",
          "CH6tU41",
          "CH7Qts0",
          "CH8qO5r",
          "CH9LcN9",
          "CHACsUr",
          "CHACvSk",
          "CHAkWpy",
          "CHAq0pF",
          "CHArTAX",
          "CHCEi5r",
          "CHDPM_n",
          "CHcVEkH",
          "CHeQlMQ",
          "CHe_56k",
          "CHhm_d4",
          "CHritGV",
          "CHhu7d9",
          "CHkYFO5",
          "CHmTdAl",
          "CHo-E2l",
          "CHoNq-k",
          "CHq4isO",
          "CHsVcse",
          "CHzxXBQ",
          "CHvNA_f",
          "CHvolP1",
          "CHwZMmI",
          "CHwzCuK",
          "CHxOZuU",
          "CHzgxx_",
          "CH3-ec2",
          "CH2TjEZ",
          "CH0D7tP",
          "CH-jHB5",
          "CH-IG_h"
         ],
         "xaxis": "x",
         "y": [
          13,
          11,
          9,
          8,
          8,
          8,
          8,
          8,
          7,
          6,
          6,
          6,
          5,
          5,
          5,
          4,
          3,
          3,
          3,
          3,
          3,
          3,
          3,
          3,
          3,
          3,
          3,
          2,
          2,
          2,
          2,
          2,
          2,
          2,
          2,
          2,
          2,
          2,
          2,
          2,
          1,
          1,
          1,
          1,
          1,
          1,
          1,
          1,
          1,
          1,
          1,
          1,
          1,
          1,
          1,
          1,
          1,
          1,
          1,
          1,
          1,
          1,
          1,
          1,
          1,
          1,
          1,
          1,
          1,
          1,
          1,
          1,
          1,
          1,
          1,
          1,
          1,
          1,
          1,
          1,
          1,
          1,
          1,
          1,
          1,
          1,
          1,
          1,
          1,
          1,
          1,
          1,
          1,
          1,
          1,
          1,
          1,
          1
         ],
         "yaxis": "y"
        },
        {
         "alignmentgroup": "True",
         "hovertemplate": "category_name=Film & Animation<br>channel_id=%{x}<br>video_id=%{y}<extra></extra>",
         "legendgroup": "Film & Animation",
         "marker": {
          "color": "#19d3f3",
          "pattern": {
           "shape": ""
          }
         },
         "name": "Film & Animation",
         "offsetgroup": "Film & Animation",
         "orientation": "v",
         "showlegend": true,
         "textposition": "auto",
         "type": "bar",
         "x": [
          "CHszFjh",
          "CHRuSxV",
          "CH6u3fo",
          "CHi-XI2",
          "CHUK4Yj",
          "CHz2Kbg",
          "CHSB5FO",
          "CHHj3qb",
          "CH6q6s6",
          "CHgmmc5",
          "CHK9PdJ",
          "CHaT8jY",
          "CHxDsmO",
          "CHxlv4a",
          "CHym553",
          "CHuRZ7_",
          "CHuKKkB",
          "CHs0P4G",
          "CH3zQwS",
          "CHCcE8B",
          "CHlN3o2",
          "CHFnuC4",
          "CHH3mJ-",
          "CHRI5Ze",
          "CHW0gUN",
          "CHY2wHB",
          "CHdq61m"
         ],
         "xaxis": "x",
         "y": [
          13,
          10,
          7,
          5,
          5,
          4,
          3,
          3,
          3,
          2,
          2,
          2,
          1,
          1,
          1,
          1,
          1,
          1,
          1,
          1,
          1,
          1,
          1,
          1,
          1,
          1,
          1
         ],
         "yaxis": "y"
        },
        {
         "alignmentgroup": "True",
         "hovertemplate": "category_name=News & Politics<br>channel_id=%{x}<br>video_id=%{y}<extra></extra>",
         "legendgroup": "News & Politics",
         "marker": {
          "color": "#FF6692",
          "pattern": {
           "shape": ""
          }
         },
         "name": "News & Politics",
         "offsetgroup": "News & Politics",
         "orientation": "v",
         "showlegend": true,
         "textposition": "auto",
         "type": "bar",
         "x": [
          "CHsU-I-",
          "CHF4Wxd",
          "CHhlgI3",
          "CH-0C8y",
          "CHMEbRp",
          "CH_U34U",
          "CHHBvfB",
          "CHAySce",
          "CHcQTRi",
          "CHkinYT",
          "CHj3_t5",
          "CHIDOGT",
          "CHH3mJ-",
          "CHG9aFJ",
          "CHfq4V1",
          "CHQabOR",
          "CH0imOR",
          "CH1aS5C",
          "CHoxT1k",
          "CHizGMt",
          "CHYRrUD",
          "CHTHCOP",
          "CHPTy0B",
          "CH8d0Zg",
          "CHWlV3L",
          "CHMGn0N",
          "CHMLJc_",
          "CHF8AeL",
          "CHzz58-",
          "CHy-6oZ",
          "CHwRljh",
          "CHawCv9",
          "CHnfwIK",
          "CHu35od",
          "CHwCrPg",
          "CHomhAm",
          "CHliLFb",
          "CHjg8Yu",
          "CH7cF2Z",
          "CH88r6m",
          "CH9thBC",
          "CHGCGxs",
          "CHIIpmD",
          "CHIMOyt",
          "CHIipmg",
          "CHKhcMX",
          "CHLKugl",
          "CHPfxQo",
          "CHTTmtS",
          "CHWskYk",
          "CHZQj9d",
          "CHbMjg2",
          "CHeFUGS",
          "CH5GZQW",
          "CH4Aa3O",
          "CH2fNt6"
         ],
         "xaxis": "x",
         "y": [
          11,
          9,
          8,
          7,
          7,
          6,
          6,
          6,
          6,
          6,
          5,
          4,
          4,
          4,
          4,
          4,
          3,
          3,
          3,
          3,
          3,
          3,
          3,
          3,
          2,
          2,
          2,
          2,
          2,
          2,
          2,
          2,
          2,
          1,
          1,
          1,
          1,
          1,
          1,
          1,
          1,
          1,
          1,
          1,
          1,
          1,
          1,
          1,
          1,
          1,
          1,
          1,
          1,
          1,
          1,
          1
         ],
         "yaxis": "y"
        },
        {
         "alignmentgroup": "True",
         "hovertemplate": "category_name=Education<br>channel_id=%{x}<br>video_id=%{y}<extra></extra>",
         "legendgroup": "Education",
         "marker": {
          "color": "#B6E880",
          "pattern": {
           "shape": ""
          }
         },
         "name": "Education",
         "offsetgroup": "Education",
         "orientation": "v",
         "showlegend": true,
         "textposition": "auto",
         "type": "bar",
         "x": [
          "CHicKQU",
          "CHl7MKZ",
          "CHuh6Br",
          "CH7F6UD",
          "CHvW8no",
          "CHnaGfD",
          "CHBJs8l",
          "CHHpIHu",
          "CHJ7LVh",
          "CHD902z",
          "CHCt6iN",
          "CH6xugt",
          "CH1-lwA",
          "CHPvwqh",
          "CH-9RQC",
          "CH5YHB-",
          "CHBM86J",
          "CHMFk5S",
          "CHO0OSA",
          "CHZ4T91",
          "CHcWXel",
          "CHgheNM",
          "CHiV4_c",
          "CHjPqSb",
          "CHma37f",
          "CHnLO88",
          "CHznImS"
         ],
         "xaxis": "x",
         "y": [
          10,
          7,
          7,
          4,
          3,
          3,
          3,
          3,
          3,
          2,
          2,
          2,
          2,
          1,
          1,
          1,
          1,
          1,
          1,
          1,
          1,
          1,
          1,
          1,
          1,
          1,
          1
         ],
         "yaxis": "y"
        },
        {
         "alignmentgroup": "True",
         "hovertemplate": "category_name=Howto & Style<br>channel_id=%{x}<br>video_id=%{y}<extra></extra>",
         "legendgroup": "Howto & Style",
         "marker": {
          "color": "#FF97FF",
          "pattern": {
           "shape": ""
          }
         },
         "name": "Howto & Style",
         "offsetgroup": "Howto & Style",
         "orientation": "v",
         "showlegend": true,
         "textposition": "auto",
         "type": "bar",
         "x": [
          "CHd4Fmc",
          "CHn64fS",
          "CHVXx89",
          "CHIZ5rC",
          "CHBTytr",
          "CHKrhyP",
          "CHzIOIS",
          "CHy2WX3",
          "CHWrh9h",
          "CH2gasv",
          "CHZCvbW",
          "CHj8zZ1",
          "CHp94pz",
          "CHKm-cu",
          "CH6LBdA",
          "CH8wHwv",
          "CHiNS0K",
          "CHyn7ao",
          "CHuFGPh",
          "CH2xkO7",
          "CHrpB5P",
          "CHpg89Y",
          "CHkxvX8",
          "CHvil4O",
          "CHL01un",
          "CH1g9Ja",
          "CH2DHU9",
          "CH5xK2X",
          "CHCG6BE",
          "CHLduRr",
          "CHWRb5Q",
          "CHWdmhZ",
          "CHXGh59",
          "CHayVh6",
          "CHcTWmz",
          "CHnCyCL",
          "CHnZ8qy",
          "CHnekLi",
          "CHrxSR4",
          "CHxjZ0G",
          "CHz72_x",
          "CH5q0PI",
          "CH1UebY",
          "CH1EEpE"
         ],
         "xaxis": "x",
         "y": [
          8,
          7,
          6,
          6,
          6,
          6,
          5,
          5,
          5,
          4,
          4,
          4,
          4,
          3,
          3,
          3,
          3,
          3,
          2,
          2,
          2,
          2,
          2,
          2,
          2,
          2,
          1,
          1,
          1,
          1,
          1,
          1,
          1,
          1,
          1,
          1,
          1,
          1,
          1,
          1,
          1,
          1,
          1,
          1
         ],
         "yaxis": "y"
        },
        {
         "alignmentgroup": "True",
         "hovertemplate": "category_name=Gaming<br>channel_id=%{x}<br>video_id=%{y}<extra></extra>",
         "legendgroup": "Gaming",
         "marker": {
          "color": "#FECB52",
          "pattern": {
           "shape": ""
          }
         },
         "name": "Gaming",
         "offsetgroup": "Gaming",
         "orientation": "v",
         "showlegend": true,
         "textposition": "auto",
         "type": "bar",
         "x": [
          "CH8CIM3",
          "CHdrBnB",
          "CHxM_h0",
          "CHw1Dsw",
          "CHefUNE",
          "CHooLkG",
          "CH9_093",
          "CHBUNoF",
          "CHDBAVz",
          "CHzgNzU",
          "CHBA9Xa",
          "CHAOTbN",
          "CH31ypO",
          "CHom6Yh",
          "CHU_hKD",
          "CHmCNgL",
          "CHSOeJW",
          "CH2NFRq",
          "CH48NSS",
          "CH8C0Yd",
          "CH9-LID",
          "CH9aEa6",
          "CHBrb8H",
          "CHDyc0_",
          "CHGIY_O",
          "CHHxKSi",
          "CHK3p1w",
          "CHMPM0h",
          "CHNzcxC",
          "CHOKQpm",
          "CHY9pEH",
          "CHcum1r",
          "CHmMxEF",
          "CHeHFCf",
          "CHeudxd",
          "CHfycsf",
          "CHg7rkx",
          "CHj-6sZ",
          "CHlJspS",
          "CHms8Ge",
          "CHyTB7U",
          "CHnss3B",
          "CHoyaxd",
          "CHpDtPd",
          "CHpYaDy",
          "CHta_NR",
          "CHuOUU4"
         ],
         "xaxis": "x",
         "y": [
          7,
          6,
          3,
          3,
          3,
          3,
          3,
          3,
          3,
          3,
          2,
          2,
          2,
          2,
          2,
          2,
          1,
          1,
          1,
          1,
          1,
          1,
          1,
          1,
          1,
          1,
          1,
          1,
          1,
          1,
          1,
          1,
          1,
          1,
          1,
          1,
          1,
          1,
          1,
          1,
          1,
          1,
          1,
          1,
          1,
          1,
          1
         ],
         "yaxis": "y"
        },
        {
         "alignmentgroup": "True",
         "hovertemplate": "category_name=Travel & Events<br>channel_id=%{x}<br>video_id=%{y}<extra></extra>",
         "legendgroup": "Travel & Events",
         "marker": {
          "color": "#636efa",
          "pattern": {
           "shape": ""
          }
         },
         "name": "Travel & Events",
         "offsetgroup": "Travel & Events",
         "orientation": "v",
         "showlegend": true,
         "textposition": "auto",
         "type": "bar",
         "x": [
          "CHlRNDV",
          "CHFw4M1",
          "CH4KYnI",
          "CHFCtZJ",
          "CHPDdt9",
          "CHPll9Z",
          "CHa0aTy",
          "CHMZO-3",
          "CH673sG",
          "CHsLoTw"
         ],
         "xaxis": "x",
         "y": [
          7,
          3,
          2,
          2,
          2,
          2,
          2,
          1,
          1,
          1
         ],
         "yaxis": "y"
        },
        {
         "alignmentgroup": "True",
         "hovertemplate": "category_name=Science & Technology<br>channel_id=%{x}<br>video_id=%{y}<extra></extra>",
         "legendgroup": "Science & Technology",
         "marker": {
          "color": "#EF553B",
          "pattern": {
           "shape": ""
          }
         },
         "name": "Science & Technology",
         "offsetgroup": "Science & Technology",
         "orientation": "v",
         "showlegend": true,
         "textposition": "auto",
         "type": "bar",
         "x": [
          "CHdUcjk",
          "CH3dJKw",
          "CHJJ_n7",
          "CHIk1-y",
          "CHFX6ad",
          "CHE_M8A",
          "CHB11SA",
          "CHUkuuo",
          "CH_0oo0",
          "CHJiv3w",
          "CHO4RG1",
          "CHWnC1r",
          "CHWwgaK",
          "CHYAvG7",
          "CHb-Abq",
          "CHdpbqw",
          "CHj-MI9",
          "CHrBpV_",
          "CHJKZoV",
          "CH5aNQ6"
         ],
         "xaxis": "x",
         "y": [
          7,
          3,
          3,
          2,
          2,
          2,
          2,
          2,
          2,
          1,
          1,
          1,
          1,
          1,
          1,
          1,
          1,
          1,
          1,
          1
         ],
         "yaxis": "y"
        },
        {
         "alignmentgroup": "True",
         "hovertemplate": "category_name=Pets & Animals<br>channel_id=%{x}<br>video_id=%{y}<extra></extra>",
         "legendgroup": "Pets & Animals",
         "marker": {
          "color": "#00cc96",
          "pattern": {
           "shape": ""
          }
         },
         "name": "Pets & Animals",
         "offsetgroup": "Pets & Animals",
         "orientation": "v",
         "showlegend": true,
         "textposition": "auto",
         "type": "bar",
         "x": [
          "CH29-Il",
          "CH69l_r",
          "CHAhKKb",
          "CHOp66V",
          "CHgsgpE",
          "CHi_IoQ",
          "CH22go5",
          "CHOv1v2",
          "CHPTM-N",
          "CHHLDBh",
          "CH3PSZi",
          "CHkuA_g",
          "CHETBLy",
          "CH89A41",
          "CHHXnna",
          "CH-IYpd",
          "CH04-af",
          "CH5AAf4",
          "CHHgL0B",
          "CHP1CQH",
          "CHX2laR",
          "CHa2LU4",
          "CHd1TDy",
          "CHf0Mkc",
          "CHj-rqv",
          "CHtbOb9",
          "CHzjDgV"
         ],
         "xaxis": "x",
         "y": [
          6,
          5,
          5,
          4,
          4,
          4,
          4,
          3,
          3,
          3,
          3,
          3,
          2,
          2,
          2,
          1,
          1,
          1,
          1,
          1,
          1,
          1,
          1,
          1,
          1,
          1,
          1
         ],
         "yaxis": "y"
        },
        {
         "alignmentgroup": "True",
         "hovertemplate": "category_name=Autos & Vehicles<br>channel_id=%{x}<br>video_id=%{y}<extra></extra>",
         "legendgroup": "Autos & Vehicles",
         "marker": {
          "color": "#ab63fa",
          "pattern": {
           "shape": ""
          }
         },
         "name": "Autos & Vehicles",
         "offsetgroup": "Autos & Vehicles",
         "orientation": "v",
         "showlegend": true,
         "textposition": "auto",
         "type": "bar",
         "x": [
          "CHPbxBh",
          "CHiubh7",
          "CHrOl7I",
          "CH2xkO7",
          "CHrXkDA",
          "CHd5CdY",
          "CHH5U89",
          "CHDpnvN",
          "CH5f97D",
          "CH-IBt8",
          "CHp0B9n",
          "CHKnKi2",
          "CHSkpiP",
          "CHWY41Q",
          "CHYVZ6z",
          "CH_rBRr",
          "CHkGHfa",
          "CHs2TmE",
          "CHyF14S"
         ],
         "xaxis": "x",
         "y": [
          3,
          3,
          3,
          2,
          2,
          2,
          2,
          2,
          2,
          1,
          1,
          1,
          1,
          1,
          1,
          1,
          1,
          1,
          1
         ],
         "yaxis": "y"
        },
        {
         "alignmentgroup": "True",
         "hovertemplate": "category_name=Nonprofits & Activism<br>channel_id=%{x}<br>video_id=%{y}<extra></extra>",
         "legendgroup": "Nonprofits & Activism",
         "marker": {
          "color": "#FFA15A",
          "pattern": {
           "shape": ""
          }
         },
         "name": "Nonprofits & Activism",
         "offsetgroup": "Nonprofits & Activism",
         "orientation": "v",
         "showlegend": true,
         "textposition": "auto",
         "type": "bar",
         "x": [
          "CHSsWdU"
         ],
         "xaxis": "x",
         "y": [
          1
         ],
         "yaxis": "y"
        },
        {
         "cells": {
          "align": "left",
          "fill": {
           "color": "lavender"
          },
          "values": [
           [
            "Autos & Vehicles",
            "Comedy",
            "Education",
            "Entertainment",
            "Film & Animation",
            "Gaming",
            "Howto & Style",
            "Music",
            "News & Politics",
            "Nonprofits & Activism",
            "People & Blogs",
            "Pets & Animals",
            "Science & Technology",
            "Sports",
            "Travel & Events"
           ],
           [
            19,
            50,
            27,
            312,
            27,
            47,
            44,
            98,
            56,
            1,
            166,
            27,
            20,
            66,
            10
           ],
           [
            1.63,
            3.34,
            2.41,
            3.06,
            2.74,
            1.7,
            2.7,
            2.39,
            2.89,
            1,
            2.48,
            2.41,
            1.8,
            3.36,
            2.3
           ],
           [
            3,
            14,
            10,
            17,
            13,
            7,
            8,
            13,
            11,
            1,
            14,
            6,
            7,
            15,
            7
           ],
           [
            1,
            1,
            1,
            1,
            1,
            1,
            1,
            1,
            1,
            1,
            1,
            1,
            1,
            1,
            1
           ],
           [
            31,
            167,
            65,
            954,
            74,
            80,
            119,
            234,
            162,
            1,
            411,
            65,
            36,
            222,
            23
           ]
          ]
         },
         "domain": {
          "x": [
           0,
           1
          ],
          "y": [
           0,
           0.25
          ]
         },
         "header": {
          "align": "left",
          "fill": {
           "color": "paleturquoise"
          },
          "values": [
           "category_name",
           "video_id size",
           "video_id mean",
           "video_id max",
           "video_id min",
           "video_id sum"
          ]
         },
         "type": "table"
        }
       ],
       "layout": {
        "template": {
         "data": {
          "bar": [
           {
            "error_x": {
             "color": "#2a3f5f"
            },
            "error_y": {
             "color": "#2a3f5f"
            },
            "marker": {
             "line": {
              "color": "#E5ECF6",
              "width": 0.5
             },
             "pattern": {
              "fillmode": "overlay",
              "size": 10,
              "solidity": 0.2
             }
            },
            "type": "bar"
           }
          ],
          "barpolar": [
           {
            "marker": {
             "line": {
              "color": "#E5ECF6",
              "width": 0.5
             },
             "pattern": {
              "fillmode": "overlay",
              "size": 10,
              "solidity": 0.2
             }
            },
            "type": "barpolar"
           }
          ],
          "carpet": [
           {
            "aaxis": {
             "endlinecolor": "#2a3f5f",
             "gridcolor": "white",
             "linecolor": "white",
             "minorgridcolor": "white",
             "startlinecolor": "#2a3f5f"
            },
            "baxis": {
             "endlinecolor": "#2a3f5f",
             "gridcolor": "white",
             "linecolor": "white",
             "minorgridcolor": "white",
             "startlinecolor": "#2a3f5f"
            },
            "type": "carpet"
           }
          ],
          "choropleth": [
           {
            "colorbar": {
             "outlinewidth": 0,
             "ticks": ""
            },
            "type": "choropleth"
           }
          ],
          "contour": [
           {
            "colorbar": {
             "outlinewidth": 0,
             "ticks": ""
            },
            "colorscale": [
             [
              0,
              "#0d0887"
             ],
             [
              0.1111111111111111,
              "#46039f"
             ],
             [
              0.2222222222222222,
              "#7201a8"
             ],
             [
              0.3333333333333333,
              "#9c179e"
             ],
             [
              0.4444444444444444,
              "#bd3786"
             ],
             [
              0.5555555555555556,
              "#d8576b"
             ],
             [
              0.6666666666666666,
              "#ed7953"
             ],
             [
              0.7777777777777778,
              "#fb9f3a"
             ],
             [
              0.8888888888888888,
              "#fdca26"
             ],
             [
              1,
              "#f0f921"
             ]
            ],
            "type": "contour"
           }
          ],
          "contourcarpet": [
           {
            "colorbar": {
             "outlinewidth": 0,
             "ticks": ""
            },
            "type": "contourcarpet"
           }
          ],
          "heatmap": [
           {
            "colorbar": {
             "outlinewidth": 0,
             "ticks": ""
            },
            "colorscale": [
             [
              0,
              "#0d0887"
             ],
             [
              0.1111111111111111,
              "#46039f"
             ],
             [
              0.2222222222222222,
              "#7201a8"
             ],
             [
              0.3333333333333333,
              "#9c179e"
             ],
             [
              0.4444444444444444,
              "#bd3786"
             ],
             [
              0.5555555555555556,
              "#d8576b"
             ],
             [
              0.6666666666666666,
              "#ed7953"
             ],
             [
              0.7777777777777778,
              "#fb9f3a"
             ],
             [
              0.8888888888888888,
              "#fdca26"
             ],
             [
              1,
              "#f0f921"
             ]
            ],
            "type": "heatmap"
           }
          ],
          "heatmapgl": [
           {
            "colorbar": {
             "outlinewidth": 0,
             "ticks": ""
            },
            "colorscale": [
             [
              0,
              "#0d0887"
             ],
             [
              0.1111111111111111,
              "#46039f"
             ],
             [
              0.2222222222222222,
              "#7201a8"
             ],
             [
              0.3333333333333333,
              "#9c179e"
             ],
             [
              0.4444444444444444,
              "#bd3786"
             ],
             [
              0.5555555555555556,
              "#d8576b"
             ],
             [
              0.6666666666666666,
              "#ed7953"
             ],
             [
              0.7777777777777778,
              "#fb9f3a"
             ],
             [
              0.8888888888888888,
              "#fdca26"
             ],
             [
              1,
              "#f0f921"
             ]
            ],
            "type": "heatmapgl"
           }
          ],
          "histogram": [
           {
            "marker": {
             "pattern": {
              "fillmode": "overlay",
              "size": 10,
              "solidity": 0.2
             }
            },
            "type": "histogram"
           }
          ],
          "histogram2d": [
           {
            "colorbar": {
             "outlinewidth": 0,
             "ticks": ""
            },
            "colorscale": [
             [
              0,
              "#0d0887"
             ],
             [
              0.1111111111111111,
              "#46039f"
             ],
             [
              0.2222222222222222,
              "#7201a8"
             ],
             [
              0.3333333333333333,
              "#9c179e"
             ],
             [
              0.4444444444444444,
              "#bd3786"
             ],
             [
              0.5555555555555556,
              "#d8576b"
             ],
             [
              0.6666666666666666,
              "#ed7953"
             ],
             [
              0.7777777777777778,
              "#fb9f3a"
             ],
             [
              0.8888888888888888,
              "#fdca26"
             ],
             [
              1,
              "#f0f921"
             ]
            ],
            "type": "histogram2d"
           }
          ],
          "histogram2dcontour": [
           {
            "colorbar": {
             "outlinewidth": 0,
             "ticks": ""
            },
            "colorscale": [
             [
              0,
              "#0d0887"
             ],
             [
              0.1111111111111111,
              "#46039f"
             ],
             [
              0.2222222222222222,
              "#7201a8"
             ],
             [
              0.3333333333333333,
              "#9c179e"
             ],
             [
              0.4444444444444444,
              "#bd3786"
             ],
             [
              0.5555555555555556,
              "#d8576b"
             ],
             [
              0.6666666666666666,
              "#ed7953"
             ],
             [
              0.7777777777777778,
              "#fb9f3a"
             ],
             [
              0.8888888888888888,
              "#fdca26"
             ],
             [
              1,
              "#f0f921"
             ]
            ],
            "type": "histogram2dcontour"
           }
          ],
          "mesh3d": [
           {
            "colorbar": {
             "outlinewidth": 0,
             "ticks": ""
            },
            "type": "mesh3d"
           }
          ],
          "parcoords": [
           {
            "line": {
             "colorbar": {
              "outlinewidth": 0,
              "ticks": ""
             }
            },
            "type": "parcoords"
           }
          ],
          "pie": [
           {
            "automargin": true,
            "type": "pie"
           }
          ],
          "scatter": [
           {
            "marker": {
             "colorbar": {
              "outlinewidth": 0,
              "ticks": ""
             }
            },
            "type": "scatter"
           }
          ],
          "scatter3d": [
           {
            "line": {
             "colorbar": {
              "outlinewidth": 0,
              "ticks": ""
             }
            },
            "marker": {
             "colorbar": {
              "outlinewidth": 0,
              "ticks": ""
             }
            },
            "type": "scatter3d"
           }
          ],
          "scattercarpet": [
           {
            "marker": {
             "colorbar": {
              "outlinewidth": 0,
              "ticks": ""
             }
            },
            "type": "scattercarpet"
           }
          ],
          "scattergeo": [
           {
            "marker": {
             "colorbar": {
              "outlinewidth": 0,
              "ticks": ""
             }
            },
            "type": "scattergeo"
           }
          ],
          "scattergl": [
           {
            "marker": {
             "colorbar": {
              "outlinewidth": 0,
              "ticks": ""
             }
            },
            "type": "scattergl"
           }
          ],
          "scattermapbox": [
           {
            "marker": {
             "colorbar": {
              "outlinewidth": 0,
              "ticks": ""
             }
            },
            "type": "scattermapbox"
           }
          ],
          "scatterpolar": [
           {
            "marker": {
             "colorbar": {
              "outlinewidth": 0,
              "ticks": ""
             }
            },
            "type": "scatterpolar"
           }
          ],
          "scatterpolargl": [
           {
            "marker": {
             "colorbar": {
              "outlinewidth": 0,
              "ticks": ""
             }
            },
            "type": "scatterpolargl"
           }
          ],
          "scatterternary": [
           {
            "marker": {
             "colorbar": {
              "outlinewidth": 0,
              "ticks": ""
             }
            },
            "type": "scatterternary"
           }
          ],
          "surface": [
           {
            "colorbar": {
             "outlinewidth": 0,
             "ticks": ""
            },
            "colorscale": [
             [
              0,
              "#0d0887"
             ],
             [
              0.1111111111111111,
              "#46039f"
             ],
             [
              0.2222222222222222,
              "#7201a8"
             ],
             [
              0.3333333333333333,
              "#9c179e"
             ],
             [
              0.4444444444444444,
              "#bd3786"
             ],
             [
              0.5555555555555556,
              "#d8576b"
             ],
             [
              0.6666666666666666,
              "#ed7953"
             ],
             [
              0.7777777777777778,
              "#fb9f3a"
             ],
             [
              0.8888888888888888,
              "#fdca26"
             ],
             [
              1,
              "#f0f921"
             ]
            ],
            "type": "surface"
           }
          ],
          "table": [
           {
            "cells": {
             "fill": {
              "color": "#EBF0F8"
             },
             "line": {
              "color": "white"
             }
            },
            "header": {
             "fill": {
              "color": "#C8D4E3"
             },
             "line": {
              "color": "white"
             }
            },
            "type": "table"
           }
          ]
         },
         "layout": {
          "annotationdefaults": {
           "arrowcolor": "#2a3f5f",
           "arrowhead": 0,
           "arrowwidth": 1
          },
          "autotypenumbers": "strict",
          "coloraxis": {
           "colorbar": {
            "outlinewidth": 0,
            "ticks": ""
           }
          },
          "colorscale": {
           "diverging": [
            [
             0,
             "#8e0152"
            ],
            [
             0.1,
             "#c51b7d"
            ],
            [
             0.2,
             "#de77ae"
            ],
            [
             0.3,
             "#f1b6da"
            ],
            [
             0.4,
             "#fde0ef"
            ],
            [
             0.5,
             "#f7f7f7"
            ],
            [
             0.6,
             "#e6f5d0"
            ],
            [
             0.7,
             "#b8e186"
            ],
            [
             0.8,
             "#7fbc41"
            ],
            [
             0.9,
             "#4d9221"
            ],
            [
             1,
             "#276419"
            ]
           ],
           "sequential": [
            [
             0,
             "#0d0887"
            ],
            [
             0.1111111111111111,
             "#46039f"
            ],
            [
             0.2222222222222222,
             "#7201a8"
            ],
            [
             0.3333333333333333,
             "#9c179e"
            ],
            [
             0.4444444444444444,
             "#bd3786"
            ],
            [
             0.5555555555555556,
             "#d8576b"
            ],
            [
             0.6666666666666666,
             "#ed7953"
            ],
            [
             0.7777777777777778,
             "#fb9f3a"
            ],
            [
             0.8888888888888888,
             "#fdca26"
            ],
            [
             1,
             "#f0f921"
            ]
           ],
           "sequentialminus": [
            [
             0,
             "#0d0887"
            ],
            [
             0.1111111111111111,
             "#46039f"
            ],
            [
             0.2222222222222222,
             "#7201a8"
            ],
            [
             0.3333333333333333,
             "#9c179e"
            ],
            [
             0.4444444444444444,
             "#bd3786"
            ],
            [
             0.5555555555555556,
             "#d8576b"
            ],
            [
             0.6666666666666666,
             "#ed7953"
            ],
            [
             0.7777777777777778,
             "#fb9f3a"
            ],
            [
             0.8888888888888888,
             "#fdca26"
            ],
            [
             1,
             "#f0f921"
            ]
           ]
          },
          "colorway": [
           "#636efa",
           "#EF553B",
           "#00cc96",
           "#ab63fa",
           "#FFA15A",
           "#19d3f3",
           "#FF6692",
           "#B6E880",
           "#FF97FF",
           "#FECB52"
          ],
          "font": {
           "color": "#2a3f5f"
          },
          "geo": {
           "bgcolor": "white",
           "lakecolor": "white",
           "landcolor": "#E5ECF6",
           "showlakes": true,
           "showland": true,
           "subunitcolor": "white"
          },
          "hoverlabel": {
           "align": "left"
          },
          "hovermode": "closest",
          "mapbox": {
           "style": "light"
          },
          "paper_bgcolor": "white",
          "plot_bgcolor": "#E5ECF6",
          "polar": {
           "angularaxis": {
            "gridcolor": "white",
            "linecolor": "white",
            "ticks": ""
           },
           "bgcolor": "#E5ECF6",
           "radialaxis": {
            "gridcolor": "white",
            "linecolor": "white",
            "ticks": ""
           }
          },
          "scene": {
           "xaxis": {
            "backgroundcolor": "#E5ECF6",
            "gridcolor": "white",
            "gridwidth": 2,
            "linecolor": "white",
            "showbackground": true,
            "ticks": "",
            "zerolinecolor": "white"
           },
           "yaxis": {
            "backgroundcolor": "#E5ECF6",
            "gridcolor": "white",
            "gridwidth": 2,
            "linecolor": "white",
            "showbackground": true,
            "ticks": "",
            "zerolinecolor": "white"
           },
           "zaxis": {
            "backgroundcolor": "#E5ECF6",
            "gridcolor": "white",
            "gridwidth": 2,
            "linecolor": "white",
            "showbackground": true,
            "ticks": "",
            "zerolinecolor": "white"
           }
          },
          "shapedefaults": {
           "line": {
            "color": "#2a3f5f"
           }
          },
          "ternary": {
           "aaxis": {
            "gridcolor": "white",
            "linecolor": "white",
            "ticks": ""
           },
           "baxis": {
            "gridcolor": "white",
            "linecolor": "white",
            "ticks": ""
           },
           "bgcolor": "#E5ECF6",
           "caxis": {
            "gridcolor": "white",
            "linecolor": "white",
            "ticks": ""
           }
          },
          "title": {
           "x": 0.05
          },
          "xaxis": {
           "automargin": true,
           "gridcolor": "white",
           "linecolor": "white",
           "ticks": "",
           "title": {
            "standoff": 15
           },
           "zerolinecolor": "white",
           "zerolinewidth": 2
          },
          "yaxis": {
           "automargin": true,
           "gridcolor": "white",
           "linecolor": "white",
           "ticks": "",
           "title": {
            "standoff": 15
           },
           "zerolinecolor": "white",
           "zerolinewidth": 2
          }
         }
        },
        "xaxis": {
         "anchor": "y",
         "domain": [
          0,
          1
         ]
        },
        "yaxis": {
         "anchor": "x",
         "domain": [
          0.75,
          1
         ]
        }
       }
      },
      "text/html": [
       "<div>                            <div id=\"ae817c42-9b18-47c9-8bac-d774c9a2504b\" class=\"plotly-graph-div\" style=\"height:525px; width:100%;\"></div>            <script type=\"text/javascript\">                require([\"plotly\"], function(Plotly) {                    window.PLOTLYENV=window.PLOTLYENV || {};                                    if (document.getElementById(\"ae817c42-9b18-47c9-8bac-d774c9a2504b\")) {                    Plotly.newPlot(                        \"ae817c42-9b18-47c9-8bac-d774c9a2504b\",                        [{\"alignmentgroup\":\"True\",\"hovertemplate\":\"category_name=Entertainment<br>channel_id=%{x}<br>video_id=%{y}<extra></extra>\",\"legendgroup\":\"Entertainment\",\"marker\":{\"color\":\"#636efa\",\"pattern\":{\"shape\":\"\"}},\"name\":\"Entertainment\",\"offsetgroup\":\"Entertainment\",\"orientation\":\"v\",\"showlegend\":true,\"textposition\":\"auto\",\"x\":[\"CHQ2O-i\",\"CHlzB2i\",\"CHiwQRG\",\"CHaKod3\",\"CHx6jsZ\",\"CHUyfkq\",\"CHkxbPw\",\"CH0PsUG\",\"CH0VR2v\",\"CHpjm6R\",\"CHPx-7A\",\"CHwx6n_\",\"CHEwOn7\",\"CHKxLXX\",\"CHk6bX-\",\"CHVWmCR\",\"CHhgOgR\",\"CHy-swB\",\"CHWYzc_\",\"CHmjNKt\",\"CHwNVDl\",\"CH1L79y\",\"CHIUfR-\",\"CHbCr1d\",\"CH78PMQ\",\"CHtDcEb\",\"CHiBKp3\",\"CHFL1sC\",\"CHyozK5\",\"CHqHP70\",\"CHZf4ZE\",\"CHqq-ov\",\"CHnx4Fi\",\"CHsRIHt\",\"CHIA-LP\",\"CH3re3u\",\"CHCfQK8\",\"CH8OUSY\",\"CHEIi7z\",\"CH1cWTE\",\"CHcOYEm\",\"CHYtjW8\",\"CHhE5nZ\",\"CHPde4g\",\"CHOHM2N\",\"CHNIiH_\",\"CHbD8Ep\",\"CH920m3\",\"CHdWgRS\",\"CHeSHil\",\"CHYyLIl\",\"CHJmcPV\",\"CHYZv9v\",\"CHnLeqv\",\"CHXZx95\",\"CHK1sVu\",\"CHExw7_\",\"CHTuthm\",\"CHTnafh\",\"CHQNRHp\",\"CHHzW_7\",\"CHiEEF5\",\"CHj-dur\",\"CH3SyT4\",\"CHriPmQ\",\"CHs1R9z\",\"CHs8R3n\",\"CH2E-9A\",\"CH6erID\",\"CH5Ida8\",\"CHxQXvv\",\"CH9idb-\",\"CH5bUcn\",\"CHy-NrX\",\"CHoXoV4\",\"CHTQVIX\",\"CHRMA_N\",\"CHweOkP\",\"CHXaYpH\",\"CHmbGE7\",\"CHybPxZ\",\"CHbuks6\",\"CHbEp_Z\",\"CHZVD--\",\"CHpPXYy\",\"CH9HNi_\",\"CHYn09y\",\"CHYgUhR\",\"CHy1fru\",\"CHhY4PX\",\"CHObJpv\",\"CHm2PiW\",\"CHMGn0N\",\"CHrSase\",\"CH46BbE\",\"CHiBr0b\",\"CHF3UEV\",\"CHF8W68\",\"CHkbJc8\",\"CHmONdw\",\"CHsNVs6\",\"CHmgt7e\",\"CHr0ade\",\"CHsOW9T\",\"CHi9Sl8\",\"CHepUWU\",\"CHk5bhZ\",\"CHoCvTl\",\"CHoUDrz\",\"CHuTKrQ\",\"CHrhH1d\",\"CHhLGxP\",\"CHgsffS\",\"CHgiO7K\",\"CHgeeQu\",\"CHgZlBR\",\"CHjGoJb\",\"CHjToDB\",\"CHtckgm\",\"CHkjXq1\",\"CH-VbFg\",\"CH2qjHK\",\"CH3m0s5\",\"CH8WoHU\",\"CH9nLq3\",\"CHDb1t5\",\"CHEI4rb\",\"CHEX1cZ\",\"CHGrfaH\",\"CHGsJRp\",\"CHH1oRy\",\"CHUnSdg\",\"CHWhiqH\",\"CHY2uWQ\",\"CHZCH_G\",\"CH_Fxf0\",\"CH_pOKL\",\"CHaNGiz\",\"CHKdfNL\",\"CHLVwgJ\",\"CHIueAL\",\"CHIY5oU\",\"CHB9e3p\",\"CH-BqPA\",\"CH_plsx\",\"CHaZS_X\",\"CHb-y7Y\",\"CHbVRtq\",\"CHcTWmz\",\"CH73yn5\",\"CHe-gh0\",\"CHem8l1\",\"CHfWZns\",\"CHg3Ydm\",\"CH68buD\",\"CHYSjF7\",\"CH2tfQf\",\"CHLynj-\",\"CH2IIBY\",\"CHM31rB\",\"CHMtFAi\",\"CHNQL3R\",\"CH4JAFO\",\"CHR5cyf\",\"CHRLM0M\",\"CH1HHeT\",\"CHS_hnp\",\"CH4nEQI\",\"CHHlSeJ\",\"CH5BMQO\",\"CH-giR4\",\"CHUXYT0\",\"CHUj6rr\",\"CHVyhgR\",\"CHYC3ZZ\",\"CHg8U-Z\",\"CHrhgVH\",\"CHu9BCt\",\"CHudezj\",\"CHvAewW\",\"CHxLc0z\",\"CHxmBxN\",\"CH9w-h_\",\"CHBI8xZ\",\"CHLKugl\",\"CHreX6A\",\"CHoW9qW\",\"CHj28Fv\",\"CHkQCwn\",\"CHDih-8\",\"CHl_tB4\",\"CH81Kll\",\"CHmApNd\",\"CHnNNN_\",\"CHnNfsL\",\"CHoQIdt\",\"CHrLUuZ\",\"CHDhM2k\",\"CHp0hYY\",\"CHod5V2\",\"CHNE1pY\",\"CHOJplh\",\"CHOtCBu\",\"CHOzWaj\",\"CHPECLB\",\"CHPKNKl\",\"CHRWzK4\",\"CHSB5FO\",\"CHSQ55i\",\"CHT2X19\",\"CHTOUUd\",\"CHTS3Lw\",\"CHTmrCB\",\"CHU8MOm\",\"CHVXN28\",\"CHWJg0Q\",\"CHNl-TU\",\"CHLtOnh\",\"CHtgggh\",\"CHLF1hN\",\"CHC1LvV\",\"CHCCjbf\",\"CHEkcg9\",\"CHFg6o2\",\"CHG0Jec\",\"CHGMHKj\",\"CHGWhMp\",\"CHGnfBj\",\"CHGrAnV\",\"CHHcDLO\",\"CHI5WgF\",\"CHIn1p2\",\"CHIuteB\",\"CHK3p1w\",\"CHKuwp5\",\"CHWstBK\",\"CHXiyTP\",\"CHYIxlZ\",\"CHYeeEw\",\"CHfugxK\",\"CHhK2Dh\",\"CHhpiLQ\",\"CHhqMfc\",\"CHiP6DC\",\"CHid83o\",\"CHjkoqt\",\"CHkPp7P\",\"CHpBkdV\",\"CHpK0ae\",\"CHrjVVh\",\"CHrnPse\",\"CHsM07d\",\"CHsU2Rl\",\"CHseQwR\",\"CHfnMSb\",\"CHffY-g\",\"CHfela5\",\"CHb2wZp\",\"CHYmo0H\",\"CHZECMC\",\"CHZTPmB\",\"CHZtpUg\",\"CH_6zPf\",\"CHa56qk\",\"CHbY7nf\",\"CHfdYUR\",\"CHbs5PG\",\"CHchRZl\",\"CHclwLh\",\"CHdUlCa\",\"CHe_oTY\",\"CHed3O-\",\"CHBwCGr\",\"CHBpzJv\",\"CHBOs39\",\"CHB-ogY\",\"CH35HKv\",\"CH3Ea2-\",\"CH3W3kE\",\"CH49ta0\",\"CH4LW3s\",\"CH4qc3p\",\"CH5q0PI\",\"CH5zXl0\",\"CH6wiUw\",\"CH7Krez\",\"CH7QX2Y\",\"CH88r6m\",\"CH8RGSE\",\"CH9kUsu\",\"CHAP8OK\",\"CH2aMxQ\",\"CH2KEmF\",\"CH2DoAr\",\"CH-Jblc\",\"CH-VOS6\",\"CH2DHU9\",\"CH1-lwA\",\"CH12YJZ\",\"CH18g7g\",\"CH1LWEy\",\"CH2-Lri\",\"CH271vX\",\"CHtCW8q\",\"CHtkQiK\",\"CHtp1ok\",\"CHuw1hx\",\"CHvScwM\",\"CHwZTee\",\"CHxjERP\",\"CHybzQL\",\"CHzt24f\"],\"xaxis\":\"x\",\"y\":[17,14,14,11,10,10,9,9,9,9,8,8,8,8,8,8,8,8,8,8,7,7,7,7,7,7,7,7,7,7,7,7,7,6,6,6,6,6,6,6,6,6,6,6,6,6,6,5,5,5,5,5,5,5,5,5,5,5,5,5,5,5,5,5,5,5,5,5,5,5,4,4,4,4,4,4,4,4,4,4,4,4,4,4,4,4,4,4,4,4,4,4,4,4,4,4,4,4,3,3,3,3,3,3,3,3,3,3,3,3,3,3,3,3,3,3,3,3,3,3,3,3,3,3,3,3,3,3,3,3,3,3,3,3,3,3,3,3,3,3,3,3,2,2,2,2,2,2,2,2,2,2,2,2,2,2,2,2,2,2,2,2,2,2,2,2,2,2,2,2,2,2,2,2,2,2,2,2,2,2,2,2,2,2,2,2,2,2,2,2,2,2,2,2,2,2,2,2,2,2,1,1,1,1,1,1,1,1,1,1,1,1,1,1,1,1,1,1,1,1,1,1,1,1,1,1,1,1,1,1,1,1,1,1,1,1,1,1,1,1,1,1,1,1,1,1,1,1,1,1,1,1,1,1,1,1,1,1,1,1,1,1,1,1,1,1,1,1,1,1,1,1,1,1,1,1,1,1,1,1,1,1,1,1,1,1,1,1,1,1,1,1,1,1,1,1,1,1,1,1,1,1,1,1,1,1,1,1,1,1,1,1],\"yaxis\":\"y\",\"type\":\"bar\"},{\"alignmentgroup\":\"True\",\"hovertemplate\":\"category_name=Sports<br>channel_id=%{x}<br>video_id=%{y}<extra></extra>\",\"legendgroup\":\"Sports\",\"marker\":{\"color\":\"#EF553B\",\"pattern\":{\"shape\":\"\"}},\"name\":\"Sports\",\"offsetgroup\":\"Sports\",\"orientation\":\"v\",\"showlegend\":true,\"textposition\":\"auto\",\"x\":[\"CHtybqq\",\"CHtm_Qo\",\"CHUQVGX\",\"CHunsfa\",\"CHYRrUD\",\"CHpjOmw\",\"CHdTDdy\",\"CHhg51l\",\"CHnXNuk\",\"CH2qVOO\",\"CHArK9M\",\"CHoLrcj\",\"CHkFGfv\",\"CHk4XjB\",\"CHgp0KT\",\"CHdtRAc\",\"CHdhukF\",\"CHhb4gt\",\"CHoe-0E\",\"CHqsKWT\",\"CHDIB1D\",\"CHQ4eZw\",\"CH218FQ\",\"CHc7o0O\",\"CHcQTRi\",\"CHEg25r\",\"CHZeHMS\",\"CHCA4-e\",\"CHfHsXd\",\"CH7JbUm\",\"CHh4APi\",\"CHhI3EX\",\"CHQ2TX8\",\"CHRDowc\",\"CHvMwK5\",\"CHtctOX\",\"CHn9mJ4\",\"CHoHirU\",\"CH9pdRy\",\"CHG-Q7s\",\"CHD902z\",\"CHET00Y\",\"CHChcWq\",\"CH9LQwH\",\"CHBKMc4\",\"CHI0FxD\",\"CH7YF5m\",\"CHINRJx\",\"CHKHLAo\",\"CHP6Cn6\",\"CHt8iRt\",\"CHt7dVd\",\"CHmKTwX\",\"CHi84e1\",\"CHgIArN\",\"CHbhuEJ\",\"CHZSNhO\",\"CHYJDUe\",\"CHX0xc2\",\"CHUXDKi\",\"CHTv-Xv\",\"CHTqenv\",\"CHPxCAB\",\"CH4yq3F\",\"CH3GEDF\",\"CH4_uws\"],\"xaxis\":\"x\",\"y\":[15,12,10,9,8,7,7,7,7,7,6,6,6,6,6,6,5,5,5,5,5,4,4,4,4,3,3,2,2,2,2,2,2,2,2,2,2,2,1,1,1,1,1,1,1,1,1,1,1,1,1,1,1,1,1,1,1,1,1,1,1,1,1,1,1,1],\"yaxis\":\"y\",\"type\":\"bar\"},{\"alignmentgroup\":\"True\",\"hovertemplate\":\"category_name=Comedy<br>channel_id=%{x}<br>video_id=%{y}<extra></extra>\",\"legendgroup\":\"Comedy\",\"marker\":{\"color\":\"#00cc96\",\"pattern\":{\"shape\":\"\"}},\"name\":\"Comedy\",\"offsetgroup\":\"Comedy\",\"orientation\":\"v\",\"showlegend\":true,\"textposition\":\"auto\",\"x\":[\"CHmzMtX\",\"CHhbE5O\",\"CHg-p3l\",\"CHyCL5k\",\"CHZ0dIs\",\"CHGX5sP\",\"CHSc2Dc\",\"CHt_UFh\",\"CHqsPmf\",\"CHgBLs7\",\"CHRykAt\",\"CHR-qpX\",\"CHEUL40\",\"CH9nFMA\",\"CHe9f9M\",\"CH20WKI\",\"CH9ZLv1\",\"CHIuFnJ\",\"CH0SoPw\",\"CH6KwCU\",\"CH8-Th8\",\"CHN8CPz\",\"CHhvXm5\",\"CHzjiRW\",\"CHsJ6Ru\",\"CHghP93\",\"CHVsBCf\",\"CHV3i3l\",\"CHPwGQu\",\"CHK3p1w\",\"CH_gaUd\",\"CHbGXAe\",\"CHd-Sfb\",\"CHfU6o0\",\"CHg8U-Z\",\"CHivkx6\",\"CHmCNgL\",\"CHmHMsJ\",\"CHoe_Vp\",\"CHr9-Mp\",\"CHyh4ZG\",\"CHYACix\",\"CHQmu3U\",\"CHMVC92\",\"CHJpGg1\",\"CH2o_y8\",\"CH69uMh\",\"CHCjJV_\",\"CHD2YO_\",\"CHDCAyS\"],\"xaxis\":\"x\",\"y\":[14,11,10,9,9,7,7,5,5,5,5,5,5,5,4,4,4,4,3,3,3,3,3,2,2,2,2,2,2,2,1,1,1,1,1,1,1,1,1,1,1,1,1,1,1,1,1,1,1,1],\"yaxis\":\"y\",\"type\":\"bar\"},{\"alignmentgroup\":\"True\",\"hovertemplate\":\"category_name=People & Blogs<br>channel_id=%{x}<br>video_id=%{y}<extra></extra>\",\"legendgroup\":\"People & Blogs\",\"marker\":{\"color\":\"#ab63fa\",\"pattern\":{\"shape\":\"\"}},\"name\":\"People & Blogs\",\"offsetgroup\":\"People & Blogs\",\"orientation\":\"v\",\"showlegend\":true,\"textposition\":\"auto\",\"x\":[\"CHIG4gr\",\"CHtfriF\",\"CHZ1wYQ\",\"CHfpaSr\",\"CHkkWd0\",\"CHoQy2w\",\"CHtkRVa\",\"CHDV9zg\",\"CHXTyJZ\",\"CHpH3rU\",\"CHYnfy2\",\"CHbFzvz\",\"CHRzS1N\",\"CHuDLnJ\",\"CHppou5\",\"CH6lNIb\",\"CHASfMq\",\"CHPZ4e8\",\"CHOOKj-\",\"CHaZS_X\",\"CHXTQWs\",\"CHUyr50\",\"CHA6KBB\",\"CHzRDCw\",\"CHoPTIa\",\"CHqNN-b\",\"CH680xb\",\"CHs9H--\",\"CHsP57H\",\"CHK72hq\",\"CHKFvox\",\"CHKUz_7\",\"CH4MfUq\",\"CH4sIlW\",\"CH31-nU\",\"CH26QQC\",\"CHkh6Tl\",\"CHYt4St\",\"CHrFlv9\",\"CHXXlcP\",\"CHhK2Dh\",\"CHXURHJ\",\"CHfqVrM\",\"CHrRn4V\",\"CHrh6bu\",\"CHyG7zA\",\"CHychoc\",\"CH2KUew\",\"CH4DnB5\",\"CH1EiHI\",\"CHNBfRy\",\"CHONPqk\",\"CHRofX4\",\"CHSiGNr\",\"CHHR4kW\",\"CH-Bsa2\",\"CH0ssa8\",\"CH0wNau\",\"CHD2KRO\",\"CHjpCOk\",\"CH_EngQ\",\"CHE8SAl\",\"CHET3I7\",\"CHLJNGm\",\"CH5RION\",\"CHM64Ik\",\"CHcxK1U\",\"CH5QSBl\",\"CHd1TDy\",\"CHdfhK0\",\"CH48NSS\",\"CHheR9R\",\"CHPhHBE\",\"CHh-1iA\",\"CHAhKKb\",\"CH26M8b\",\"CHBkXIe\",\"CHBoQ8_\",\"CHwW_qU\",\"CHrLQ0o\",\"CHqsPmf\",\"CHoLQZ4\",\"CHnet0I\",\"CHmt37g\",\"CHld0ct\",\"CHu38Cq\",\"CHtn-l7\",\"CH7bRo3\",\"CH9gxOp\",\"CH7Krez\",\"CH8MVMe\",\"CH9G7V6\",\"CHl-tyx\",\"CH-KafR\",\"CH-YRx5\",\"CH-swYD\",\"CH0PsUG\",\"CH0wTMg\",\"CH2Q9aM\",\"CH2XG0i\",\"CH2tbZf\",\"CH47HAk\",\"CH1GHhg\",\"CHKkxVS\",\"CHa_ZCX\",\"CHaPILm\",\"CH_Fq5K\",\"CHZwG8g\",\"CHYDyvq\",\"CHuZu8N\",\"CHv0QY4\",\"CHvG7co\",\"CHvjhQp\",\"CHx_kYu\",\"CHyje3j\",\"CHyn-K7\",\"CHyuL_X\",\"CHzhyI5\",\"CHWycwu\",\"CHWqWR1\",\"CHW9DtK\",\"CHW945U\",\"CHaPqda\",\"CHb_-Xu\",\"CHBHJlM\",\"CHbzDJ6\",\"CHlSUMM\",\"CHkJNt3\",\"CHmfVvm\",\"CHjn-Vb\",\"CHjHn_O\",\"CHicKQU\",\"CHiMq04\",\"CHhtdyq\",\"CHhna8l\",\"CHhji-o\",\"CHrIxxm\",\"CHs29NQ\",\"CHemKWU\",\"CHelPbn\",\"CHtctOX\",\"CHdQk6g\",\"CHtfGLm\",\"CHcQ3rs\",\"CHc7een\",\"CHVyMrl\",\"CHUsoow\",\"CHH7JoV\",\"CHGiqkg\",\"CHGInHR\",\"CHFLlNL\",\"CHF8W68\",\"CHEu_YK\",\"CHCJ2b2\",\"CHC4Qcw\",\"CHJfDSu\",\"CHJko7d\",\"CHQTqoE\",\"CHUWU2s\",\"CHTx3aC\",\"CHQWylD\",\"CHknfGX\",\"CHNYi_z\",\"CHLItMt\",\"CHL-AUQ\",\"CHKmQlV\"],\"xaxis\":\"x\",\"y\":[14,13,10,10,10,9,8,8,8,8,7,6,6,5,5,4,4,4,4,4,4,4,4,4,4,4,4,4,4,4,4,4,4,4,4,4,3,3,3,3,3,3,3,3,3,3,3,3,3,3,3,3,3,3,3,2,2,2,2,2,2,2,2,2,2,2,2,2,2,2,2,2,2,2,2,2,2,2,2,2,2,2,2,2,2,2,2,1,1,1,1,1,1,1,1,1,1,1,1,1,1,1,1,1,1,1,1,1,1,1,1,1,1,1,1,1,1,1,1,1,1,1,1,1,1,1,1,1,1,1,1,1,1,1,1,1,1,1,1,1,1,1,1,1,1,1,1,1,1,1,1,1,1,1,1,1,1,1,1,1,1,1,1,1,1,1],\"yaxis\":\"y\",\"type\":\"bar\"},{\"alignmentgroup\":\"True\",\"hovertemplate\":\"category_name=Music<br>channel_id=%{x}<br>video_id=%{y}<extra></extra>\",\"legendgroup\":\"Music\",\"marker\":{\"color\":\"#FFA15A\",\"pattern\":{\"shape\":\"\"}},\"name\":\"Music\",\"offsetgroup\":\"Music\",\"orientation\":\"v\",\"showlegend\":true,\"textposition\":\"auto\",\"x\":[\"CHLkAep\",\"CHEf_Bc\",\"CHzCedB\",\"CHtCiO5\",\"CH3IZKs\",\"CH9GtSL\",\"CHaO6TY\",\"CHfkXDY\",\"CHviI9l\",\"CHeLPm9\",\"CHEbRSm\",\"CHabon8\",\"CH3WZlO\",\"CHoRXPc\",\"CHe52oe\",\"CHuKdaT\",\"CHyPwRg\",\"CHwgtOR\",\"CHuhAUM\",\"CHkJ1rb\",\"CHk2E0d\",\"CHRQ7Rw\",\"CHIcXK1\",\"CHHGJwr\",\"CH-FQUI\",\"CH6nxfR\",\"CH66yQ1\",\"CHPENYt\",\"CH9vrvN\",\"CHFipx4\",\"CHk9Gmd\",\"CHsXigG\",\"CHlYq3P\",\"CHmQdC1\",\"CHpbTKp\",\"CH_pwIX\",\"CH2KmG_\",\"CH-qYkz\",\"CHYDmx2\",\"CHdNMDR\",\"CHFEVXX\",\"CHGdZ_-\",\"CHGrAnV\",\"CHHX_FN\",\"CHI3Z79\",\"CHJVA-s\",\"CHKNZsA\",\"CHMIUx2\",\"CHNk_Ik\",\"CHR5cyf\",\"CHRp-tG\",\"CHTEWSE\",\"CHXIF1a\",\"CHY7unn\",\"CHaEIlQ\",\"CHcM_a-\",\"CHG1kwS\",\"CHEdZAd\",\"CHEUX9t\",\"CH3QWks\",\"CH4htMX\",\"CH6TJkB\",\"CH6c5iD\",\"CH6tU41\",\"CH7Qts0\",\"CH8qO5r\",\"CH9LcN9\",\"CHACsUr\",\"CHACvSk\",\"CHAkWpy\",\"CHAq0pF\",\"CHArTAX\",\"CHCEi5r\",\"CHDPM_n\",\"CHcVEkH\",\"CHeQlMQ\",\"CHe_56k\",\"CHhm_d4\",\"CHritGV\",\"CHhu7d9\",\"CHkYFO5\",\"CHmTdAl\",\"CHo-E2l\",\"CHoNq-k\",\"CHq4isO\",\"CHsVcse\",\"CHzxXBQ\",\"CHvNA_f\",\"CHvolP1\",\"CHwZMmI\",\"CHwzCuK\",\"CHxOZuU\",\"CHzgxx_\",\"CH3-ec2\",\"CH2TjEZ\",\"CH0D7tP\",\"CH-jHB5\",\"CH-IG_h\"],\"xaxis\":\"x\",\"y\":[13,11,9,8,8,8,8,8,7,6,6,6,5,5,5,4,3,3,3,3,3,3,3,3,3,3,3,2,2,2,2,2,2,2,2,2,2,2,2,2,1,1,1,1,1,1,1,1,1,1,1,1,1,1,1,1,1,1,1,1,1,1,1,1,1,1,1,1,1,1,1,1,1,1,1,1,1,1,1,1,1,1,1,1,1,1,1,1,1,1,1,1,1,1,1,1,1,1],\"yaxis\":\"y\",\"type\":\"bar\"},{\"alignmentgroup\":\"True\",\"hovertemplate\":\"category_name=Film & Animation<br>channel_id=%{x}<br>video_id=%{y}<extra></extra>\",\"legendgroup\":\"Film & Animation\",\"marker\":{\"color\":\"#19d3f3\",\"pattern\":{\"shape\":\"\"}},\"name\":\"Film & Animation\",\"offsetgroup\":\"Film & Animation\",\"orientation\":\"v\",\"showlegend\":true,\"textposition\":\"auto\",\"x\":[\"CHszFjh\",\"CHRuSxV\",\"CH6u3fo\",\"CHi-XI2\",\"CHUK4Yj\",\"CHz2Kbg\",\"CHSB5FO\",\"CHHj3qb\",\"CH6q6s6\",\"CHgmmc5\",\"CHK9PdJ\",\"CHaT8jY\",\"CHxDsmO\",\"CHxlv4a\",\"CHym553\",\"CHuRZ7_\",\"CHuKKkB\",\"CHs0P4G\",\"CH3zQwS\",\"CHCcE8B\",\"CHlN3o2\",\"CHFnuC4\",\"CHH3mJ-\",\"CHRI5Ze\",\"CHW0gUN\",\"CHY2wHB\",\"CHdq61m\"],\"xaxis\":\"x\",\"y\":[13,10,7,5,5,4,3,3,3,2,2,2,1,1,1,1,1,1,1,1,1,1,1,1,1,1,1],\"yaxis\":\"y\",\"type\":\"bar\"},{\"alignmentgroup\":\"True\",\"hovertemplate\":\"category_name=News & Politics<br>channel_id=%{x}<br>video_id=%{y}<extra></extra>\",\"legendgroup\":\"News & Politics\",\"marker\":{\"color\":\"#FF6692\",\"pattern\":{\"shape\":\"\"}},\"name\":\"News & Politics\",\"offsetgroup\":\"News & Politics\",\"orientation\":\"v\",\"showlegend\":true,\"textposition\":\"auto\",\"x\":[\"CHsU-I-\",\"CHF4Wxd\",\"CHhlgI3\",\"CH-0C8y\",\"CHMEbRp\",\"CH_U34U\",\"CHHBvfB\",\"CHAySce\",\"CHcQTRi\",\"CHkinYT\",\"CHj3_t5\",\"CHIDOGT\",\"CHH3mJ-\",\"CHG9aFJ\",\"CHfq4V1\",\"CHQabOR\",\"CH0imOR\",\"CH1aS5C\",\"CHoxT1k\",\"CHizGMt\",\"CHYRrUD\",\"CHTHCOP\",\"CHPTy0B\",\"CH8d0Zg\",\"CHWlV3L\",\"CHMGn0N\",\"CHMLJc_\",\"CHF8AeL\",\"CHzz58-\",\"CHy-6oZ\",\"CHwRljh\",\"CHawCv9\",\"CHnfwIK\",\"CHu35od\",\"CHwCrPg\",\"CHomhAm\",\"CHliLFb\",\"CHjg8Yu\",\"CH7cF2Z\",\"CH88r6m\",\"CH9thBC\",\"CHGCGxs\",\"CHIIpmD\",\"CHIMOyt\",\"CHIipmg\",\"CHKhcMX\",\"CHLKugl\",\"CHPfxQo\",\"CHTTmtS\",\"CHWskYk\",\"CHZQj9d\",\"CHbMjg2\",\"CHeFUGS\",\"CH5GZQW\",\"CH4Aa3O\",\"CH2fNt6\"],\"xaxis\":\"x\",\"y\":[11,9,8,7,7,6,6,6,6,6,5,4,4,4,4,4,3,3,3,3,3,3,3,3,2,2,2,2,2,2,2,2,2,1,1,1,1,1,1,1,1,1,1,1,1,1,1,1,1,1,1,1,1,1,1,1],\"yaxis\":\"y\",\"type\":\"bar\"},{\"alignmentgroup\":\"True\",\"hovertemplate\":\"category_name=Education<br>channel_id=%{x}<br>video_id=%{y}<extra></extra>\",\"legendgroup\":\"Education\",\"marker\":{\"color\":\"#B6E880\",\"pattern\":{\"shape\":\"\"}},\"name\":\"Education\",\"offsetgroup\":\"Education\",\"orientation\":\"v\",\"showlegend\":true,\"textposition\":\"auto\",\"x\":[\"CHicKQU\",\"CHl7MKZ\",\"CHuh6Br\",\"CH7F6UD\",\"CHvW8no\",\"CHnaGfD\",\"CHBJs8l\",\"CHHpIHu\",\"CHJ7LVh\",\"CHD902z\",\"CHCt6iN\",\"CH6xugt\",\"CH1-lwA\",\"CHPvwqh\",\"CH-9RQC\",\"CH5YHB-\",\"CHBM86J\",\"CHMFk5S\",\"CHO0OSA\",\"CHZ4T91\",\"CHcWXel\",\"CHgheNM\",\"CHiV4_c\",\"CHjPqSb\",\"CHma37f\",\"CHnLO88\",\"CHznImS\"],\"xaxis\":\"x\",\"y\":[10,7,7,4,3,3,3,3,3,2,2,2,2,1,1,1,1,1,1,1,1,1,1,1,1,1,1],\"yaxis\":\"y\",\"type\":\"bar\"},{\"alignmentgroup\":\"True\",\"hovertemplate\":\"category_name=Howto & Style<br>channel_id=%{x}<br>video_id=%{y}<extra></extra>\",\"legendgroup\":\"Howto & Style\",\"marker\":{\"color\":\"#FF97FF\",\"pattern\":{\"shape\":\"\"}},\"name\":\"Howto & Style\",\"offsetgroup\":\"Howto & Style\",\"orientation\":\"v\",\"showlegend\":true,\"textposition\":\"auto\",\"x\":[\"CHd4Fmc\",\"CHn64fS\",\"CHVXx89\",\"CHIZ5rC\",\"CHBTytr\",\"CHKrhyP\",\"CHzIOIS\",\"CHy2WX3\",\"CHWrh9h\",\"CH2gasv\",\"CHZCvbW\",\"CHj8zZ1\",\"CHp94pz\",\"CHKm-cu\",\"CH6LBdA\",\"CH8wHwv\",\"CHiNS0K\",\"CHyn7ao\",\"CHuFGPh\",\"CH2xkO7\",\"CHrpB5P\",\"CHpg89Y\",\"CHkxvX8\",\"CHvil4O\",\"CHL01un\",\"CH1g9Ja\",\"CH2DHU9\",\"CH5xK2X\",\"CHCG6BE\",\"CHLduRr\",\"CHWRb5Q\",\"CHWdmhZ\",\"CHXGh59\",\"CHayVh6\",\"CHcTWmz\",\"CHnCyCL\",\"CHnZ8qy\",\"CHnekLi\",\"CHrxSR4\",\"CHxjZ0G\",\"CHz72_x\",\"CH5q0PI\",\"CH1UebY\",\"CH1EEpE\"],\"xaxis\":\"x\",\"y\":[8,7,6,6,6,6,5,5,5,4,4,4,4,3,3,3,3,3,2,2,2,2,2,2,2,2,1,1,1,1,1,1,1,1,1,1,1,1,1,1,1,1,1,1],\"yaxis\":\"y\",\"type\":\"bar\"},{\"alignmentgroup\":\"True\",\"hovertemplate\":\"category_name=Gaming<br>channel_id=%{x}<br>video_id=%{y}<extra></extra>\",\"legendgroup\":\"Gaming\",\"marker\":{\"color\":\"#FECB52\",\"pattern\":{\"shape\":\"\"}},\"name\":\"Gaming\",\"offsetgroup\":\"Gaming\",\"orientation\":\"v\",\"showlegend\":true,\"textposition\":\"auto\",\"x\":[\"CH8CIM3\",\"CHdrBnB\",\"CHxM_h0\",\"CHw1Dsw\",\"CHefUNE\",\"CHooLkG\",\"CH9_093\",\"CHBUNoF\",\"CHDBAVz\",\"CHzgNzU\",\"CHBA9Xa\",\"CHAOTbN\",\"CH31ypO\",\"CHom6Yh\",\"CHU_hKD\",\"CHmCNgL\",\"CHSOeJW\",\"CH2NFRq\",\"CH48NSS\",\"CH8C0Yd\",\"CH9-LID\",\"CH9aEa6\",\"CHBrb8H\",\"CHDyc0_\",\"CHGIY_O\",\"CHHxKSi\",\"CHK3p1w\",\"CHMPM0h\",\"CHNzcxC\",\"CHOKQpm\",\"CHY9pEH\",\"CHcum1r\",\"CHmMxEF\",\"CHeHFCf\",\"CHeudxd\",\"CHfycsf\",\"CHg7rkx\",\"CHj-6sZ\",\"CHlJspS\",\"CHms8Ge\",\"CHyTB7U\",\"CHnss3B\",\"CHoyaxd\",\"CHpDtPd\",\"CHpYaDy\",\"CHta_NR\",\"CHuOUU4\"],\"xaxis\":\"x\",\"y\":[7,6,3,3,3,3,3,3,3,3,2,2,2,2,2,2,1,1,1,1,1,1,1,1,1,1,1,1,1,1,1,1,1,1,1,1,1,1,1,1,1,1,1,1,1,1,1],\"yaxis\":\"y\",\"type\":\"bar\"},{\"alignmentgroup\":\"True\",\"hovertemplate\":\"category_name=Travel & Events<br>channel_id=%{x}<br>video_id=%{y}<extra></extra>\",\"legendgroup\":\"Travel & Events\",\"marker\":{\"color\":\"#636efa\",\"pattern\":{\"shape\":\"\"}},\"name\":\"Travel & Events\",\"offsetgroup\":\"Travel & Events\",\"orientation\":\"v\",\"showlegend\":true,\"textposition\":\"auto\",\"x\":[\"CHlRNDV\",\"CHFw4M1\",\"CH4KYnI\",\"CHFCtZJ\",\"CHPDdt9\",\"CHPll9Z\",\"CHa0aTy\",\"CHMZO-3\",\"CH673sG\",\"CHsLoTw\"],\"xaxis\":\"x\",\"y\":[7,3,2,2,2,2,2,1,1,1],\"yaxis\":\"y\",\"type\":\"bar\"},{\"alignmentgroup\":\"True\",\"hovertemplate\":\"category_name=Science & Technology<br>channel_id=%{x}<br>video_id=%{y}<extra></extra>\",\"legendgroup\":\"Science & Technology\",\"marker\":{\"color\":\"#EF553B\",\"pattern\":{\"shape\":\"\"}},\"name\":\"Science & Technology\",\"offsetgroup\":\"Science & Technology\",\"orientation\":\"v\",\"showlegend\":true,\"textposition\":\"auto\",\"x\":[\"CHdUcjk\",\"CH3dJKw\",\"CHJJ_n7\",\"CHIk1-y\",\"CHFX6ad\",\"CHE_M8A\",\"CHB11SA\",\"CHUkuuo\",\"CH_0oo0\",\"CHJiv3w\",\"CHO4RG1\",\"CHWnC1r\",\"CHWwgaK\",\"CHYAvG7\",\"CHb-Abq\",\"CHdpbqw\",\"CHj-MI9\",\"CHrBpV_\",\"CHJKZoV\",\"CH5aNQ6\"],\"xaxis\":\"x\",\"y\":[7,3,3,2,2,2,2,2,2,1,1,1,1,1,1,1,1,1,1,1],\"yaxis\":\"y\",\"type\":\"bar\"},{\"alignmentgroup\":\"True\",\"hovertemplate\":\"category_name=Pets & Animals<br>channel_id=%{x}<br>video_id=%{y}<extra></extra>\",\"legendgroup\":\"Pets & Animals\",\"marker\":{\"color\":\"#00cc96\",\"pattern\":{\"shape\":\"\"}},\"name\":\"Pets & Animals\",\"offsetgroup\":\"Pets & Animals\",\"orientation\":\"v\",\"showlegend\":true,\"textposition\":\"auto\",\"x\":[\"CH29-Il\",\"CH69l_r\",\"CHAhKKb\",\"CHOp66V\",\"CHgsgpE\",\"CHi_IoQ\",\"CH22go5\",\"CHOv1v2\",\"CHPTM-N\",\"CHHLDBh\",\"CH3PSZi\",\"CHkuA_g\",\"CHETBLy\",\"CH89A41\",\"CHHXnna\",\"CH-IYpd\",\"CH04-af\",\"CH5AAf4\",\"CHHgL0B\",\"CHP1CQH\",\"CHX2laR\",\"CHa2LU4\",\"CHd1TDy\",\"CHf0Mkc\",\"CHj-rqv\",\"CHtbOb9\",\"CHzjDgV\"],\"xaxis\":\"x\",\"y\":[6,5,5,4,4,4,4,3,3,3,3,3,2,2,2,1,1,1,1,1,1,1,1,1,1,1,1],\"yaxis\":\"y\",\"type\":\"bar\"},{\"alignmentgroup\":\"True\",\"hovertemplate\":\"category_name=Autos & Vehicles<br>channel_id=%{x}<br>video_id=%{y}<extra></extra>\",\"legendgroup\":\"Autos & Vehicles\",\"marker\":{\"color\":\"#ab63fa\",\"pattern\":{\"shape\":\"\"}},\"name\":\"Autos & Vehicles\",\"offsetgroup\":\"Autos & Vehicles\",\"orientation\":\"v\",\"showlegend\":true,\"textposition\":\"auto\",\"x\":[\"CHPbxBh\",\"CHiubh7\",\"CHrOl7I\",\"CH2xkO7\",\"CHrXkDA\",\"CHd5CdY\",\"CHH5U89\",\"CHDpnvN\",\"CH5f97D\",\"CH-IBt8\",\"CHp0B9n\",\"CHKnKi2\",\"CHSkpiP\",\"CHWY41Q\",\"CHYVZ6z\",\"CH_rBRr\",\"CHkGHfa\",\"CHs2TmE\",\"CHyF14S\"],\"xaxis\":\"x\",\"y\":[3,3,3,2,2,2,2,2,2,1,1,1,1,1,1,1,1,1,1],\"yaxis\":\"y\",\"type\":\"bar\"},{\"alignmentgroup\":\"True\",\"hovertemplate\":\"category_name=Nonprofits & Activism<br>channel_id=%{x}<br>video_id=%{y}<extra></extra>\",\"legendgroup\":\"Nonprofits & Activism\",\"marker\":{\"color\":\"#FFA15A\",\"pattern\":{\"shape\":\"\"}},\"name\":\"Nonprofits & Activism\",\"offsetgroup\":\"Nonprofits & Activism\",\"orientation\":\"v\",\"showlegend\":true,\"textposition\":\"auto\",\"x\":[\"CHSsWdU\"],\"xaxis\":\"x\",\"y\":[1],\"yaxis\":\"y\",\"type\":\"bar\"},{\"cells\":{\"align\":\"left\",\"fill\":{\"color\":\"lavender\"},\"values\":[[\"Autos & Vehicles\",\"Comedy\",\"Education\",\"Entertainment\",\"Film & Animation\",\"Gaming\",\"Howto & Style\",\"Music\",\"News & Politics\",\"Nonprofits & Activism\",\"People & Blogs\",\"Pets & Animals\",\"Science & Technology\",\"Sports\",\"Travel & Events\"],[19,50,27,312,27,47,44,98,56,1,166,27,20,66,10],[1.63,3.34,2.41,3.06,2.74,1.7,2.7,2.39,2.89,1.0,2.48,2.41,1.8,3.36,2.3],[3,14,10,17,13,7,8,13,11,1,14,6,7,15,7],[1,1,1,1,1,1,1,1,1,1,1,1,1,1,1],[31,167,65,954,74,80,119,234,162,1,411,65,36,222,23]]},\"header\":{\"align\":\"left\",\"fill\":{\"color\":\"paleturquoise\"},\"values\":[\"category_name\",\"video_id size\",\"video_id mean\",\"video_id max\",\"video_id min\",\"video_id sum\"]},\"type\":\"table\",\"domain\":{\"x\":[0.0,1.0],\"y\":[0.0,0.25]}}],                        {\"template\":{\"data\":{\"bar\":[{\"error_x\":{\"color\":\"#2a3f5f\"},\"error_y\":{\"color\":\"#2a3f5f\"},\"marker\":{\"line\":{\"color\":\"#E5ECF6\",\"width\":0.5},\"pattern\":{\"fillmode\":\"overlay\",\"size\":10,\"solidity\":0.2}},\"type\":\"bar\"}],\"barpolar\":[{\"marker\":{\"line\":{\"color\":\"#E5ECF6\",\"width\":0.5},\"pattern\":{\"fillmode\":\"overlay\",\"size\":10,\"solidity\":0.2}},\"type\":\"barpolar\"}],\"carpet\":[{\"aaxis\":{\"endlinecolor\":\"#2a3f5f\",\"gridcolor\":\"white\",\"linecolor\":\"white\",\"minorgridcolor\":\"white\",\"startlinecolor\":\"#2a3f5f\"},\"baxis\":{\"endlinecolor\":\"#2a3f5f\",\"gridcolor\":\"white\",\"linecolor\":\"white\",\"minorgridcolor\":\"white\",\"startlinecolor\":\"#2a3f5f\"},\"type\":\"carpet\"}],\"choropleth\":[{\"colorbar\":{\"outlinewidth\":0,\"ticks\":\"\"},\"type\":\"choropleth\"}],\"contour\":[{\"colorbar\":{\"outlinewidth\":0,\"ticks\":\"\"},\"colorscale\":[[0.0,\"#0d0887\"],[0.1111111111111111,\"#46039f\"],[0.2222222222222222,\"#7201a8\"],[0.3333333333333333,\"#9c179e\"],[0.4444444444444444,\"#bd3786\"],[0.5555555555555556,\"#d8576b\"],[0.6666666666666666,\"#ed7953\"],[0.7777777777777778,\"#fb9f3a\"],[0.8888888888888888,\"#fdca26\"],[1.0,\"#f0f921\"]],\"type\":\"contour\"}],\"contourcarpet\":[{\"colorbar\":{\"outlinewidth\":0,\"ticks\":\"\"},\"type\":\"contourcarpet\"}],\"heatmap\":[{\"colorbar\":{\"outlinewidth\":0,\"ticks\":\"\"},\"colorscale\":[[0.0,\"#0d0887\"],[0.1111111111111111,\"#46039f\"],[0.2222222222222222,\"#7201a8\"],[0.3333333333333333,\"#9c179e\"],[0.4444444444444444,\"#bd3786\"],[0.5555555555555556,\"#d8576b\"],[0.6666666666666666,\"#ed7953\"],[0.7777777777777778,\"#fb9f3a\"],[0.8888888888888888,\"#fdca26\"],[1.0,\"#f0f921\"]],\"type\":\"heatmap\"}],\"heatmapgl\":[{\"colorbar\":{\"outlinewidth\":0,\"ticks\":\"\"},\"colorscale\":[[0.0,\"#0d0887\"],[0.1111111111111111,\"#46039f\"],[0.2222222222222222,\"#7201a8\"],[0.3333333333333333,\"#9c179e\"],[0.4444444444444444,\"#bd3786\"],[0.5555555555555556,\"#d8576b\"],[0.6666666666666666,\"#ed7953\"],[0.7777777777777778,\"#fb9f3a\"],[0.8888888888888888,\"#fdca26\"],[1.0,\"#f0f921\"]],\"type\":\"heatmapgl\"}],\"histogram\":[{\"marker\":{\"pattern\":{\"fillmode\":\"overlay\",\"size\":10,\"solidity\":0.2}},\"type\":\"histogram\"}],\"histogram2d\":[{\"colorbar\":{\"outlinewidth\":0,\"ticks\":\"\"},\"colorscale\":[[0.0,\"#0d0887\"],[0.1111111111111111,\"#46039f\"],[0.2222222222222222,\"#7201a8\"],[0.3333333333333333,\"#9c179e\"],[0.4444444444444444,\"#bd3786\"],[0.5555555555555556,\"#d8576b\"],[0.6666666666666666,\"#ed7953\"],[0.7777777777777778,\"#fb9f3a\"],[0.8888888888888888,\"#fdca26\"],[1.0,\"#f0f921\"]],\"type\":\"histogram2d\"}],\"histogram2dcontour\":[{\"colorbar\":{\"outlinewidth\":0,\"ticks\":\"\"},\"colorscale\":[[0.0,\"#0d0887\"],[0.1111111111111111,\"#46039f\"],[0.2222222222222222,\"#7201a8\"],[0.3333333333333333,\"#9c179e\"],[0.4444444444444444,\"#bd3786\"],[0.5555555555555556,\"#d8576b\"],[0.6666666666666666,\"#ed7953\"],[0.7777777777777778,\"#fb9f3a\"],[0.8888888888888888,\"#fdca26\"],[1.0,\"#f0f921\"]],\"type\":\"histogram2dcontour\"}],\"mesh3d\":[{\"colorbar\":{\"outlinewidth\":0,\"ticks\":\"\"},\"type\":\"mesh3d\"}],\"parcoords\":[{\"line\":{\"colorbar\":{\"outlinewidth\":0,\"ticks\":\"\"}},\"type\":\"parcoords\"}],\"pie\":[{\"automargin\":true,\"type\":\"pie\"}],\"scatter\":[{\"marker\":{\"colorbar\":{\"outlinewidth\":0,\"ticks\":\"\"}},\"type\":\"scatter\"}],\"scatter3d\":[{\"line\":{\"colorbar\":{\"outlinewidth\":0,\"ticks\":\"\"}},\"marker\":{\"colorbar\":{\"outlinewidth\":0,\"ticks\":\"\"}},\"type\":\"scatter3d\"}],\"scattercarpet\":[{\"marker\":{\"colorbar\":{\"outlinewidth\":0,\"ticks\":\"\"}},\"type\":\"scattercarpet\"}],\"scattergeo\":[{\"marker\":{\"colorbar\":{\"outlinewidth\":0,\"ticks\":\"\"}},\"type\":\"scattergeo\"}],\"scattergl\":[{\"marker\":{\"colorbar\":{\"outlinewidth\":0,\"ticks\":\"\"}},\"type\":\"scattergl\"}],\"scattermapbox\":[{\"marker\":{\"colorbar\":{\"outlinewidth\":0,\"ticks\":\"\"}},\"type\":\"scattermapbox\"}],\"scatterpolar\":[{\"marker\":{\"colorbar\":{\"outlinewidth\":0,\"ticks\":\"\"}},\"type\":\"scatterpolar\"}],\"scatterpolargl\":[{\"marker\":{\"colorbar\":{\"outlinewidth\":0,\"ticks\":\"\"}},\"type\":\"scatterpolargl\"}],\"scatterternary\":[{\"marker\":{\"colorbar\":{\"outlinewidth\":0,\"ticks\":\"\"}},\"type\":\"scatterternary\"}],\"surface\":[{\"colorbar\":{\"outlinewidth\":0,\"ticks\":\"\"},\"colorscale\":[[0.0,\"#0d0887\"],[0.1111111111111111,\"#46039f\"],[0.2222222222222222,\"#7201a8\"],[0.3333333333333333,\"#9c179e\"],[0.4444444444444444,\"#bd3786\"],[0.5555555555555556,\"#d8576b\"],[0.6666666666666666,\"#ed7953\"],[0.7777777777777778,\"#fb9f3a\"],[0.8888888888888888,\"#fdca26\"],[1.0,\"#f0f921\"]],\"type\":\"surface\"}],\"table\":[{\"cells\":{\"fill\":{\"color\":\"#EBF0F8\"},\"line\":{\"color\":\"white\"}},\"header\":{\"fill\":{\"color\":\"#C8D4E3\"},\"line\":{\"color\":\"white\"}},\"type\":\"table\"}]},\"layout\":{\"annotationdefaults\":{\"arrowcolor\":\"#2a3f5f\",\"arrowhead\":0,\"arrowwidth\":1},\"autotypenumbers\":\"strict\",\"coloraxis\":{\"colorbar\":{\"outlinewidth\":0,\"ticks\":\"\"}},\"colorscale\":{\"diverging\":[[0,\"#8e0152\"],[0.1,\"#c51b7d\"],[0.2,\"#de77ae\"],[0.3,\"#f1b6da\"],[0.4,\"#fde0ef\"],[0.5,\"#f7f7f7\"],[0.6,\"#e6f5d0\"],[0.7,\"#b8e186\"],[0.8,\"#7fbc41\"],[0.9,\"#4d9221\"],[1,\"#276419\"]],\"sequential\":[[0.0,\"#0d0887\"],[0.1111111111111111,\"#46039f\"],[0.2222222222222222,\"#7201a8\"],[0.3333333333333333,\"#9c179e\"],[0.4444444444444444,\"#bd3786\"],[0.5555555555555556,\"#d8576b\"],[0.6666666666666666,\"#ed7953\"],[0.7777777777777778,\"#fb9f3a\"],[0.8888888888888888,\"#fdca26\"],[1.0,\"#f0f921\"]],\"sequentialminus\":[[0.0,\"#0d0887\"],[0.1111111111111111,\"#46039f\"],[0.2222222222222222,\"#7201a8\"],[0.3333333333333333,\"#9c179e\"],[0.4444444444444444,\"#bd3786\"],[0.5555555555555556,\"#d8576b\"],[0.6666666666666666,\"#ed7953\"],[0.7777777777777778,\"#fb9f3a\"],[0.8888888888888888,\"#fdca26\"],[1.0,\"#f0f921\"]]},\"colorway\":[\"#636efa\",\"#EF553B\",\"#00cc96\",\"#ab63fa\",\"#FFA15A\",\"#19d3f3\",\"#FF6692\",\"#B6E880\",\"#FF97FF\",\"#FECB52\"],\"font\":{\"color\":\"#2a3f5f\"},\"geo\":{\"bgcolor\":\"white\",\"lakecolor\":\"white\",\"landcolor\":\"#E5ECF6\",\"showlakes\":true,\"showland\":true,\"subunitcolor\":\"white\"},\"hoverlabel\":{\"align\":\"left\"},\"hovermode\":\"closest\",\"mapbox\":{\"style\":\"light\"},\"paper_bgcolor\":\"white\",\"plot_bgcolor\":\"#E5ECF6\",\"polar\":{\"angularaxis\":{\"gridcolor\":\"white\",\"linecolor\":\"white\",\"ticks\":\"\"},\"bgcolor\":\"#E5ECF6\",\"radialaxis\":{\"gridcolor\":\"white\",\"linecolor\":\"white\",\"ticks\":\"\"}},\"scene\":{\"xaxis\":{\"backgroundcolor\":\"#E5ECF6\",\"gridcolor\":\"white\",\"gridwidth\":2,\"linecolor\":\"white\",\"showbackground\":true,\"ticks\":\"\",\"zerolinecolor\":\"white\"},\"yaxis\":{\"backgroundcolor\":\"#E5ECF6\",\"gridcolor\":\"white\",\"gridwidth\":2,\"linecolor\":\"white\",\"showbackground\":true,\"ticks\":\"\",\"zerolinecolor\":\"white\"},\"zaxis\":{\"backgroundcolor\":\"#E5ECF6\",\"gridcolor\":\"white\",\"gridwidth\":2,\"linecolor\":\"white\",\"showbackground\":true,\"ticks\":\"\",\"zerolinecolor\":\"white\"}},\"shapedefaults\":{\"line\":{\"color\":\"#2a3f5f\"}},\"ternary\":{\"aaxis\":{\"gridcolor\":\"white\",\"linecolor\":\"white\",\"ticks\":\"\"},\"baxis\":{\"gridcolor\":\"white\",\"linecolor\":\"white\",\"ticks\":\"\"},\"bgcolor\":\"#E5ECF6\",\"caxis\":{\"gridcolor\":\"white\",\"linecolor\":\"white\",\"ticks\":\"\"}},\"title\":{\"x\":0.05},\"xaxis\":{\"automargin\":true,\"gridcolor\":\"white\",\"linecolor\":\"white\",\"ticks\":\"\",\"title\":{\"standoff\":15},\"zerolinecolor\":\"white\",\"zerolinewidth\":2},\"yaxis\":{\"automargin\":true,\"gridcolor\":\"white\",\"linecolor\":\"white\",\"ticks\":\"\",\"title\":{\"standoff\":15},\"zerolinecolor\":\"white\",\"zerolinewidth\":2}}},\"xaxis\":{\"anchor\":\"y\",\"domain\":[0.0,1.0]},\"yaxis\":{\"anchor\":\"x\",\"domain\":[0.75,1.0]}},                        {\"responsive\": true}                    ).then(function(){\n",
       "                            \n",
       "var gd = document.getElementById('ae817c42-9b18-47c9-8bac-d774c9a2504b');\n",
       "var x = new MutationObserver(function (mutations, observer) {{\n",
       "        var display = window.getComputedStyle(gd).display;\n",
       "        if (!display || display === 'none') {{\n",
       "            console.log([gd, 'removed!']);\n",
       "            Plotly.purge(gd);\n",
       "            observer.disconnect();\n",
       "        }}\n",
       "}});\n",
       "\n",
       "// Listen for the removal of the full notebook cells\n",
       "var notebookContainer = gd.closest('#notebook-container');\n",
       "if (notebookContainer) {{\n",
       "    x.observe(notebookContainer, {childList: true});\n",
       "}}\n",
       "\n",
       "// Listen for the clearing of the current output cell\n",
       "var outputEl = gd.closest('.output');\n",
       "if (outputEl) {{\n",
       "    x.observe(outputEl, {childList: true});\n",
       "}}\n",
       "\n",
       "                        })                };                });            </script>        </div>"
      ]
     },
     "metadata": {},
     "output_type": "display_data"
    }
   ],
   "source": [
    "## 여기다 그리기\n",
    "import plotly.graph_objects as go\n",
    "from plotly.subplots import make_subplots\n",
    "\n",
    "# bar\n",
    "fig_1 = px.bar(q1_1, y='video_id',x='channel_id' ,color='category_name',orientation='v',barmode='stack')\n",
    "\n",
    "# table\n",
    "fig_2 = go.Figure(data=[go.Table(\n",
    "    header=dict(values=list(q1_1_agg.columns),\n",
    "                fill_color='paleturquoise',\n",
    "                align='left'),\n",
    "    cells=dict(values=[q1_1_agg[k].tolist() for k in q1_1_agg.columns],\n",
    "            fill_color='lavender',\n",
    "            align='left'))])\n",
    "\n",
    "\n",
    "fig_1_trace = []\n",
    "\n",
    "for trace in range(len(fig_1[\"data\"])):\n",
    "    fig_1_trace.append(fig_1[\"data\"][trace])\n",
    "\n",
    "\n",
    "\n",
    "this_fig = make_subplots(rows=2, cols=1, \n",
    "                    vertical_spacing=0.5,\n",
    "                    specs=[\n",
    "                        [{\"type\": \"bar\"}],\n",
    "                        [{\"type\": \"table\"}]\n",
    "                    ]\n",
    ")\n",
    "\n",
    "for traces in fig_1_trace:\n",
    "    this_fig.append_trace(traces, row=1, col=1)\n",
    "\n",
    "this_fig.append_trace(fig_2[\"data\"][0], row=2, col=1)\n",
    "\n",
    "\n",
    "final = dcc.Graph(figure=this_fig)\n",
    "\n",
    "\n",
    "this_fig.show()"
   ]
  },
  {
   "cell_type": "code",
   "execution_count": null,
   "metadata": {},
   "outputs": [],
   "source": [
    "import plotly.graph_objects as go\n",
    "import pandas as pd\n",
    "\n",
    "#q1_1_agg\n",
    "\n",
    "fig_1 = go.Figure(data=[go.Table(\n",
    "    header=dict(values=list(q1_1_agg.columns),\n",
    "                fill_color='paleturquoise',\n",
    "                align='left'),\n",
    "    cells=dict(values=[q1_1_agg[k].tolist() for k in q1_1_agg.columns],\n",
    "            fill_color='lavender',\n",
    "            align='left'))])\n",
    "\n",
    "fig.show()"
   ]
  },
  {
   "cell_type": "code",
   "execution_count": 67,
   "metadata": {},
   "outputs": [
    {
     "data": {
      "application/vnd.plotly.v1+json": {
       "config": {
        "plotlyServerURL": "https://plot.ly"
       },
       "data": [
        {
         "alignmentgroup": "True",
         "hovertemplate": "category_name=Entertainment<br>channel_id=%{x}<br>video_id=%{y}<extra></extra>",
         "legendgroup": "Entertainment",
         "marker": {
          "color": "#636efa",
          "pattern": {
           "shape": ""
          }
         },
         "name": "Entertainment",
         "offsetgroup": "Entertainment",
         "orientation": "v",
         "showlegend": true,
         "textposition": "auto",
         "type": "bar",
         "x": [
          "CHQ2O-i",
          "CHlzB2i",
          "CHiwQRG",
          "CHaKod3",
          "CHx6jsZ",
          "CHUyfkq",
          "CHkxbPw",
          "CH0PsUG",
          "CH0VR2v",
          "CHpjm6R",
          "CHPx-7A",
          "CHwx6n_",
          "CHEwOn7",
          "CHKxLXX",
          "CHk6bX-",
          "CHVWmCR",
          "CHhgOgR",
          "CHy-swB",
          "CHWYzc_",
          "CHmjNKt",
          "CHwNVDl",
          "CH1L79y",
          "CHIUfR-",
          "CHbCr1d",
          "CH78PMQ",
          "CHtDcEb",
          "CHiBKp3",
          "CHFL1sC",
          "CHyozK5",
          "CHqHP70",
          "CHZf4ZE",
          "CHqq-ov",
          "CHnx4Fi",
          "CHsRIHt",
          "CHIA-LP",
          "CH3re3u",
          "CHCfQK8",
          "CH8OUSY",
          "CHEIi7z",
          "CH1cWTE",
          "CHcOYEm",
          "CHYtjW8",
          "CHhE5nZ",
          "CHPde4g",
          "CHOHM2N",
          "CHNIiH_",
          "CHbD8Ep",
          "CH920m3",
          "CHdWgRS",
          "CHeSHil",
          "CHYyLIl",
          "CHJmcPV",
          "CHYZv9v",
          "CHnLeqv",
          "CHXZx95",
          "CHK1sVu",
          "CHExw7_",
          "CHTuthm",
          "CHTnafh",
          "CHQNRHp",
          "CHHzW_7",
          "CHiEEF5",
          "CHj-dur",
          "CH3SyT4",
          "CHriPmQ",
          "CHs1R9z",
          "CHs8R3n",
          "CH2E-9A",
          "CH6erID",
          "CH5Ida8",
          "CHxQXvv",
          "CH9idb-",
          "CH5bUcn",
          "CHy-NrX",
          "CHoXoV4",
          "CHTQVIX",
          "CHRMA_N",
          "CHweOkP",
          "CHXaYpH",
          "CHmbGE7",
          "CHybPxZ",
          "CHbuks6",
          "CHbEp_Z",
          "CHZVD--",
          "CHpPXYy",
          "CH9HNi_",
          "CHYn09y",
          "CHYgUhR",
          "CHy1fru",
          "CHhY4PX",
          "CHObJpv",
          "CHm2PiW",
          "CHMGn0N",
          "CHrSase",
          "CH46BbE",
          "CHiBr0b",
          "CHF3UEV",
          "CHF8W68",
          "CHkbJc8",
          "CHmONdw",
          "CHsNVs6",
          "CHmgt7e",
          "CHr0ade",
          "CHsOW9T",
          "CHi9Sl8",
          "CHepUWU",
          "CHk5bhZ",
          "CHoCvTl",
          "CHoUDrz",
          "CHuTKrQ",
          "CHrhH1d",
          "CHhLGxP",
          "CHgsffS",
          "CHgiO7K",
          "CHgeeQu",
          "CHgZlBR",
          "CHjGoJb",
          "CHjToDB",
          "CHtckgm",
          "CHkjXq1",
          "CH-VbFg",
          "CH2qjHK",
          "CH3m0s5",
          "CH8WoHU",
          "CH9nLq3",
          "CHDb1t5",
          "CHEI4rb",
          "CHEX1cZ",
          "CHGrfaH",
          "CHGsJRp",
          "CHH1oRy",
          "CHUnSdg",
          "CHWhiqH",
          "CHY2uWQ",
          "CHZCH_G",
          "CH_Fxf0",
          "CH_pOKL",
          "CHaNGiz",
          "CHKdfNL",
          "CHLVwgJ",
          "CHIueAL",
          "CHIY5oU",
          "CHB9e3p",
          "CH-BqPA",
          "CH_plsx",
          "CHaZS_X",
          "CHb-y7Y",
          "CHbVRtq",
          "CHcTWmz",
          "CH73yn5",
          "CHe-gh0",
          "CHem8l1",
          "CHfWZns",
          "CHg3Ydm",
          "CH68buD",
          "CHYSjF7",
          "CH2tfQf",
          "CHLynj-",
          "CH2IIBY",
          "CHM31rB",
          "CHMtFAi",
          "CHNQL3R",
          "CH4JAFO",
          "CHR5cyf",
          "CHRLM0M",
          "CH1HHeT",
          "CHS_hnp",
          "CH4nEQI",
          "CHHlSeJ",
          "CH5BMQO",
          "CH-giR4",
          "CHUXYT0",
          "CHUj6rr",
          "CHVyhgR",
          "CHYC3ZZ",
          "CHg8U-Z",
          "CHrhgVH",
          "CHu9BCt",
          "CHudezj",
          "CHvAewW",
          "CHxLc0z",
          "CHxmBxN",
          "CH9w-h_",
          "CHBI8xZ",
          "CHLKugl",
          "CHreX6A",
          "CHoW9qW",
          "CHj28Fv",
          "CHkQCwn",
          "CHDih-8",
          "CHl_tB4",
          "CH81Kll",
          "CHmApNd",
          "CHnNNN_",
          "CHnNfsL",
          "CHoQIdt",
          "CHrLUuZ",
          "CHDhM2k",
          "CHp0hYY",
          "CHod5V2",
          "CHNE1pY",
          "CHOJplh",
          "CHOtCBu",
          "CHOzWaj",
          "CHPECLB",
          "CHPKNKl",
          "CHRWzK4",
          "CHSB5FO",
          "CHSQ55i",
          "CHT2X19",
          "CHTOUUd",
          "CHTS3Lw",
          "CHTmrCB",
          "CHU8MOm",
          "CHVXN28",
          "CHWJg0Q",
          "CHNl-TU",
          "CHLtOnh",
          "CHtgggh",
          "CHLF1hN",
          "CHC1LvV",
          "CHCCjbf",
          "CHEkcg9",
          "CHFg6o2",
          "CHG0Jec",
          "CHGMHKj",
          "CHGWhMp",
          "CHGnfBj",
          "CHGrAnV",
          "CHHcDLO",
          "CHI5WgF",
          "CHIn1p2",
          "CHIuteB",
          "CHK3p1w",
          "CHKuwp5",
          "CHWstBK",
          "CHXiyTP",
          "CHYIxlZ",
          "CHYeeEw",
          "CHfugxK",
          "CHhK2Dh",
          "CHhpiLQ",
          "CHhqMfc",
          "CHiP6DC",
          "CHid83o",
          "CHjkoqt",
          "CHkPp7P",
          "CHpBkdV",
          "CHpK0ae",
          "CHrjVVh",
          "CHrnPse",
          "CHsM07d",
          "CHsU2Rl",
          "CHseQwR",
          "CHfnMSb",
          "CHffY-g",
          "CHfela5",
          "CHb2wZp",
          "CHYmo0H",
          "CHZECMC",
          "CHZTPmB",
          "CHZtpUg",
          "CH_6zPf",
          "CHa56qk",
          "CHbY7nf",
          "CHfdYUR",
          "CHbs5PG",
          "CHchRZl",
          "CHclwLh",
          "CHdUlCa",
          "CHe_oTY",
          "CHed3O-",
          "CHBwCGr",
          "CHBpzJv",
          "CHBOs39",
          "CHB-ogY",
          "CH35HKv",
          "CH3Ea2-",
          "CH3W3kE",
          "CH49ta0",
          "CH4LW3s",
          "CH4qc3p",
          "CH5q0PI",
          "CH5zXl0",
          "CH6wiUw",
          "CH7Krez",
          "CH7QX2Y",
          "CH88r6m",
          "CH8RGSE",
          "CH9kUsu",
          "CHAP8OK",
          "CH2aMxQ",
          "CH2KEmF",
          "CH2DoAr",
          "CH-Jblc",
          "CH-VOS6",
          "CH2DHU9",
          "CH1-lwA",
          "CH12YJZ",
          "CH18g7g",
          "CH1LWEy",
          "CH2-Lri",
          "CH271vX",
          "CHtCW8q",
          "CHtkQiK",
          "CHtp1ok",
          "CHuw1hx",
          "CHvScwM",
          "CHwZTee",
          "CHxjERP",
          "CHybzQL",
          "CHzt24f"
         ],
         "xaxis": "x",
         "y": [
          17,
          14,
          14,
          11,
          10,
          10,
          9,
          9,
          9,
          9,
          8,
          8,
          8,
          8,
          8,
          8,
          8,
          8,
          8,
          8,
          7,
          7,
          7,
          7,
          7,
          7,
          7,
          7,
          7,
          7,
          7,
          7,
          7,
          6,
          6,
          6,
          6,
          6,
          6,
          6,
          6,
          6,
          6,
          6,
          6,
          6,
          6,
          5,
          5,
          5,
          5,
          5,
          5,
          5,
          5,
          5,
          5,
          5,
          5,
          5,
          5,
          5,
          5,
          5,
          5,
          5,
          5,
          5,
          5,
          5,
          4,
          4,
          4,
          4,
          4,
          4,
          4,
          4,
          4,
          4,
          4,
          4,
          4,
          4,
          4,
          4,
          4,
          4,
          4,
          4,
          4,
          4,
          4,
          4,
          4,
          4,
          4,
          4,
          3,
          3,
          3,
          3,
          3,
          3,
          3,
          3,
          3,
          3,
          3,
          3,
          3,
          3,
          3,
          3,
          3,
          3,
          3,
          3,
          3,
          3,
          3,
          3,
          3,
          3,
          3,
          3,
          3,
          3,
          3,
          3,
          3,
          3,
          3,
          3,
          3,
          3,
          3,
          3,
          3,
          3,
          3,
          3,
          2,
          2,
          2,
          2,
          2,
          2,
          2,
          2,
          2,
          2,
          2,
          2,
          2,
          2,
          2,
          2,
          2,
          2,
          2,
          2,
          2,
          2,
          2,
          2,
          2,
          2,
          2,
          2,
          2,
          2,
          2,
          2,
          2,
          2,
          2,
          2,
          2,
          2,
          2,
          2,
          2,
          2,
          2,
          2,
          2,
          2,
          2,
          2,
          2,
          2,
          2,
          2,
          2,
          2,
          2,
          2,
          2,
          2,
          1,
          1,
          1,
          1,
          1,
          1,
          1,
          1,
          1,
          1,
          1,
          1,
          1,
          1,
          1,
          1,
          1,
          1,
          1,
          1,
          1,
          1,
          1,
          1,
          1,
          1,
          1,
          1,
          1,
          1,
          1,
          1,
          1,
          1,
          1,
          1,
          1,
          1,
          1,
          1,
          1,
          1,
          1,
          1,
          1,
          1,
          1,
          1,
          1,
          1,
          1,
          1,
          1,
          1,
          1,
          1,
          1,
          1,
          1,
          1,
          1,
          1,
          1,
          1,
          1,
          1,
          1,
          1,
          1,
          1,
          1,
          1,
          1,
          1,
          1,
          1,
          1,
          1,
          1,
          1,
          1,
          1,
          1,
          1,
          1,
          1,
          1,
          1,
          1,
          1,
          1,
          1,
          1,
          1,
          1,
          1,
          1,
          1,
          1,
          1,
          1,
          1,
          1,
          1,
          1,
          1,
          1,
          1,
          1,
          1,
          1,
          1
         ],
         "yaxis": "y"
        }
       ],
       "layout": {
        "barmode": "relative",
        "legend": {
         "title": {
          "text": "category_name"
         },
         "tracegroupgap": 0
        },
        "margin": {
         "t": 60
        },
        "template": {
         "data": {
          "bar": [
           {
            "error_x": {
             "color": "#2a3f5f"
            },
            "error_y": {
             "color": "#2a3f5f"
            },
            "marker": {
             "line": {
              "color": "#E5ECF6",
              "width": 0.5
             },
             "pattern": {
              "fillmode": "overlay",
              "size": 10,
              "solidity": 0.2
             }
            },
            "type": "bar"
           }
          ],
          "barpolar": [
           {
            "marker": {
             "line": {
              "color": "#E5ECF6",
              "width": 0.5
             },
             "pattern": {
              "fillmode": "overlay",
              "size": 10,
              "solidity": 0.2
             }
            },
            "type": "barpolar"
           }
          ],
          "carpet": [
           {
            "aaxis": {
             "endlinecolor": "#2a3f5f",
             "gridcolor": "white",
             "linecolor": "white",
             "minorgridcolor": "white",
             "startlinecolor": "#2a3f5f"
            },
            "baxis": {
             "endlinecolor": "#2a3f5f",
             "gridcolor": "white",
             "linecolor": "white",
             "minorgridcolor": "white",
             "startlinecolor": "#2a3f5f"
            },
            "type": "carpet"
           }
          ],
          "choropleth": [
           {
            "colorbar": {
             "outlinewidth": 0,
             "ticks": ""
            },
            "type": "choropleth"
           }
          ],
          "contour": [
           {
            "colorbar": {
             "outlinewidth": 0,
             "ticks": ""
            },
            "colorscale": [
             [
              0,
              "#0d0887"
             ],
             [
              0.1111111111111111,
              "#46039f"
             ],
             [
              0.2222222222222222,
              "#7201a8"
             ],
             [
              0.3333333333333333,
              "#9c179e"
             ],
             [
              0.4444444444444444,
              "#bd3786"
             ],
             [
              0.5555555555555556,
              "#d8576b"
             ],
             [
              0.6666666666666666,
              "#ed7953"
             ],
             [
              0.7777777777777778,
              "#fb9f3a"
             ],
             [
              0.8888888888888888,
              "#fdca26"
             ],
             [
              1,
              "#f0f921"
             ]
            ],
            "type": "contour"
           }
          ],
          "contourcarpet": [
           {
            "colorbar": {
             "outlinewidth": 0,
             "ticks": ""
            },
            "type": "contourcarpet"
           }
          ],
          "heatmap": [
           {
            "colorbar": {
             "outlinewidth": 0,
             "ticks": ""
            },
            "colorscale": [
             [
              0,
              "#0d0887"
             ],
             [
              0.1111111111111111,
              "#46039f"
             ],
             [
              0.2222222222222222,
              "#7201a8"
             ],
             [
              0.3333333333333333,
              "#9c179e"
             ],
             [
              0.4444444444444444,
              "#bd3786"
             ],
             [
              0.5555555555555556,
              "#d8576b"
             ],
             [
              0.6666666666666666,
              "#ed7953"
             ],
             [
              0.7777777777777778,
              "#fb9f3a"
             ],
             [
              0.8888888888888888,
              "#fdca26"
             ],
             [
              1,
              "#f0f921"
             ]
            ],
            "type": "heatmap"
           }
          ],
          "heatmapgl": [
           {
            "colorbar": {
             "outlinewidth": 0,
             "ticks": ""
            },
            "colorscale": [
             [
              0,
              "#0d0887"
             ],
             [
              0.1111111111111111,
              "#46039f"
             ],
             [
              0.2222222222222222,
              "#7201a8"
             ],
             [
              0.3333333333333333,
              "#9c179e"
             ],
             [
              0.4444444444444444,
              "#bd3786"
             ],
             [
              0.5555555555555556,
              "#d8576b"
             ],
             [
              0.6666666666666666,
              "#ed7953"
             ],
             [
              0.7777777777777778,
              "#fb9f3a"
             ],
             [
              0.8888888888888888,
              "#fdca26"
             ],
             [
              1,
              "#f0f921"
             ]
            ],
            "type": "heatmapgl"
           }
          ],
          "histogram": [
           {
            "marker": {
             "pattern": {
              "fillmode": "overlay",
              "size": 10,
              "solidity": 0.2
             }
            },
            "type": "histogram"
           }
          ],
          "histogram2d": [
           {
            "colorbar": {
             "outlinewidth": 0,
             "ticks": ""
            },
            "colorscale": [
             [
              0,
              "#0d0887"
             ],
             [
              0.1111111111111111,
              "#46039f"
             ],
             [
              0.2222222222222222,
              "#7201a8"
             ],
             [
              0.3333333333333333,
              "#9c179e"
             ],
             [
              0.4444444444444444,
              "#bd3786"
             ],
             [
              0.5555555555555556,
              "#d8576b"
             ],
             [
              0.6666666666666666,
              "#ed7953"
             ],
             [
              0.7777777777777778,
              "#fb9f3a"
             ],
             [
              0.8888888888888888,
              "#fdca26"
             ],
             [
              1,
              "#f0f921"
             ]
            ],
            "type": "histogram2d"
           }
          ],
          "histogram2dcontour": [
           {
            "colorbar": {
             "outlinewidth": 0,
             "ticks": ""
            },
            "colorscale": [
             [
              0,
              "#0d0887"
             ],
             [
              0.1111111111111111,
              "#46039f"
             ],
             [
              0.2222222222222222,
              "#7201a8"
             ],
             [
              0.3333333333333333,
              "#9c179e"
             ],
             [
              0.4444444444444444,
              "#bd3786"
             ],
             [
              0.5555555555555556,
              "#d8576b"
             ],
             [
              0.6666666666666666,
              "#ed7953"
             ],
             [
              0.7777777777777778,
              "#fb9f3a"
             ],
             [
              0.8888888888888888,
              "#fdca26"
             ],
             [
              1,
              "#f0f921"
             ]
            ],
            "type": "histogram2dcontour"
           }
          ],
          "mesh3d": [
           {
            "colorbar": {
             "outlinewidth": 0,
             "ticks": ""
            },
            "type": "mesh3d"
           }
          ],
          "parcoords": [
           {
            "line": {
             "colorbar": {
              "outlinewidth": 0,
              "ticks": ""
             }
            },
            "type": "parcoords"
           }
          ],
          "pie": [
           {
            "automargin": true,
            "type": "pie"
           }
          ],
          "scatter": [
           {
            "marker": {
             "colorbar": {
              "outlinewidth": 0,
              "ticks": ""
             }
            },
            "type": "scatter"
           }
          ],
          "scatter3d": [
           {
            "line": {
             "colorbar": {
              "outlinewidth": 0,
              "ticks": ""
             }
            },
            "marker": {
             "colorbar": {
              "outlinewidth": 0,
              "ticks": ""
             }
            },
            "type": "scatter3d"
           }
          ],
          "scattercarpet": [
           {
            "marker": {
             "colorbar": {
              "outlinewidth": 0,
              "ticks": ""
             }
            },
            "type": "scattercarpet"
           }
          ],
          "scattergeo": [
           {
            "marker": {
             "colorbar": {
              "outlinewidth": 0,
              "ticks": ""
             }
            },
            "type": "scattergeo"
           }
          ],
          "scattergl": [
           {
            "marker": {
             "colorbar": {
              "outlinewidth": 0,
              "ticks": ""
             }
            },
            "type": "scattergl"
           }
          ],
          "scattermapbox": [
           {
            "marker": {
             "colorbar": {
              "outlinewidth": 0,
              "ticks": ""
             }
            },
            "type": "scattermapbox"
           }
          ],
          "scatterpolar": [
           {
            "marker": {
             "colorbar": {
              "outlinewidth": 0,
              "ticks": ""
             }
            },
            "type": "scatterpolar"
           }
          ],
          "scatterpolargl": [
           {
            "marker": {
             "colorbar": {
              "outlinewidth": 0,
              "ticks": ""
             }
            },
            "type": "scatterpolargl"
           }
          ],
          "scatterternary": [
           {
            "marker": {
             "colorbar": {
              "outlinewidth": 0,
              "ticks": ""
             }
            },
            "type": "scatterternary"
           }
          ],
          "surface": [
           {
            "colorbar": {
             "outlinewidth": 0,
             "ticks": ""
            },
            "colorscale": [
             [
              0,
              "#0d0887"
             ],
             [
              0.1111111111111111,
              "#46039f"
             ],
             [
              0.2222222222222222,
              "#7201a8"
             ],
             [
              0.3333333333333333,
              "#9c179e"
             ],
             [
              0.4444444444444444,
              "#bd3786"
             ],
             [
              0.5555555555555556,
              "#d8576b"
             ],
             [
              0.6666666666666666,
              "#ed7953"
             ],
             [
              0.7777777777777778,
              "#fb9f3a"
             ],
             [
              0.8888888888888888,
              "#fdca26"
             ],
             [
              1,
              "#f0f921"
             ]
            ],
            "type": "surface"
           }
          ],
          "table": [
           {
            "cells": {
             "fill": {
              "color": "#EBF0F8"
             },
             "line": {
              "color": "white"
             }
            },
            "header": {
             "fill": {
              "color": "#C8D4E3"
             },
             "line": {
              "color": "white"
             }
            },
            "type": "table"
           }
          ]
         },
         "layout": {
          "annotationdefaults": {
           "arrowcolor": "#2a3f5f",
           "arrowhead": 0,
           "arrowwidth": 1
          },
          "autotypenumbers": "strict",
          "coloraxis": {
           "colorbar": {
            "outlinewidth": 0,
            "ticks": ""
           }
          },
          "colorscale": {
           "diverging": [
            [
             0,
             "#8e0152"
            ],
            [
             0.1,
             "#c51b7d"
            ],
            [
             0.2,
             "#de77ae"
            ],
            [
             0.3,
             "#f1b6da"
            ],
            [
             0.4,
             "#fde0ef"
            ],
            [
             0.5,
             "#f7f7f7"
            ],
            [
             0.6,
             "#e6f5d0"
            ],
            [
             0.7,
             "#b8e186"
            ],
            [
             0.8,
             "#7fbc41"
            ],
            [
             0.9,
             "#4d9221"
            ],
            [
             1,
             "#276419"
            ]
           ],
           "sequential": [
            [
             0,
             "#0d0887"
            ],
            [
             0.1111111111111111,
             "#46039f"
            ],
            [
             0.2222222222222222,
             "#7201a8"
            ],
            [
             0.3333333333333333,
             "#9c179e"
            ],
            [
             0.4444444444444444,
             "#bd3786"
            ],
            [
             0.5555555555555556,
             "#d8576b"
            ],
            [
             0.6666666666666666,
             "#ed7953"
            ],
            [
             0.7777777777777778,
             "#fb9f3a"
            ],
            [
             0.8888888888888888,
             "#fdca26"
            ],
            [
             1,
             "#f0f921"
            ]
           ],
           "sequentialminus": [
            [
             0,
             "#0d0887"
            ],
            [
             0.1111111111111111,
             "#46039f"
            ],
            [
             0.2222222222222222,
             "#7201a8"
            ],
            [
             0.3333333333333333,
             "#9c179e"
            ],
            [
             0.4444444444444444,
             "#bd3786"
            ],
            [
             0.5555555555555556,
             "#d8576b"
            ],
            [
             0.6666666666666666,
             "#ed7953"
            ],
            [
             0.7777777777777778,
             "#fb9f3a"
            ],
            [
             0.8888888888888888,
             "#fdca26"
            ],
            [
             1,
             "#f0f921"
            ]
           ]
          },
          "colorway": [
           "#636efa",
           "#EF553B",
           "#00cc96",
           "#ab63fa",
           "#FFA15A",
           "#19d3f3",
           "#FF6692",
           "#B6E880",
           "#FF97FF",
           "#FECB52"
          ],
          "font": {
           "color": "#2a3f5f"
          },
          "geo": {
           "bgcolor": "white",
           "lakecolor": "white",
           "landcolor": "#E5ECF6",
           "showlakes": true,
           "showland": true,
           "subunitcolor": "white"
          },
          "hoverlabel": {
           "align": "left"
          },
          "hovermode": "closest",
          "mapbox": {
           "style": "light"
          },
          "paper_bgcolor": "white",
          "plot_bgcolor": "#E5ECF6",
          "polar": {
           "angularaxis": {
            "gridcolor": "white",
            "linecolor": "white",
            "ticks": ""
           },
           "bgcolor": "#E5ECF6",
           "radialaxis": {
            "gridcolor": "white",
            "linecolor": "white",
            "ticks": ""
           }
          },
          "scene": {
           "xaxis": {
            "backgroundcolor": "#E5ECF6",
            "gridcolor": "white",
            "gridwidth": 2,
            "linecolor": "white",
            "showbackground": true,
            "ticks": "",
            "zerolinecolor": "white"
           },
           "yaxis": {
            "backgroundcolor": "#E5ECF6",
            "gridcolor": "white",
            "gridwidth": 2,
            "linecolor": "white",
            "showbackground": true,
            "ticks": "",
            "zerolinecolor": "white"
           },
           "zaxis": {
            "backgroundcolor": "#E5ECF6",
            "gridcolor": "white",
            "gridwidth": 2,
            "linecolor": "white",
            "showbackground": true,
            "ticks": "",
            "zerolinecolor": "white"
           }
          },
          "shapedefaults": {
           "line": {
            "color": "#2a3f5f"
           }
          },
          "ternary": {
           "aaxis": {
            "gridcolor": "white",
            "linecolor": "white",
            "ticks": ""
           },
           "baxis": {
            "gridcolor": "white",
            "linecolor": "white",
            "ticks": ""
           },
           "bgcolor": "#E5ECF6",
           "caxis": {
            "gridcolor": "white",
            "linecolor": "white",
            "ticks": ""
           }
          },
          "title": {
           "x": 0.05
          },
          "xaxis": {
           "automargin": true,
           "gridcolor": "white",
           "linecolor": "white",
           "ticks": "",
           "title": {
            "standoff": 15
           },
           "zerolinecolor": "white",
           "zerolinewidth": 2
          },
          "yaxis": {
           "automargin": true,
           "gridcolor": "white",
           "linecolor": "white",
           "ticks": "",
           "title": {
            "standoff": 15
           },
           "zerolinecolor": "white",
           "zerolinewidth": 2
          }
         }
        },
        "xaxis": {
         "anchor": "y",
         "domain": [
          0,
          1
         ],
         "title": {
          "text": "channel_id"
         }
        },
        "yaxis": {
         "anchor": "x",
         "domain": [
          0,
          1
         ],
         "title": {
          "text": "video_id"
         }
        }
       }
      },
      "text/html": [
       "<div>                            <div id=\"5f1b2ec8-4795-43fe-83f9-a7d4fa0afee0\" class=\"plotly-graph-div\" style=\"height:525px; width:100%;\"></div>            <script type=\"text/javascript\">                require([\"plotly\"], function(Plotly) {                    window.PLOTLYENV=window.PLOTLYENV || {};                                    if (document.getElementById(\"5f1b2ec8-4795-43fe-83f9-a7d4fa0afee0\")) {                    Plotly.newPlot(                        \"5f1b2ec8-4795-43fe-83f9-a7d4fa0afee0\",                        [{\"alignmentgroup\":\"True\",\"hovertemplate\":\"category_name=Entertainment<br>channel_id=%{x}<br>video_id=%{y}<extra></extra>\",\"legendgroup\":\"Entertainment\",\"marker\":{\"color\":\"#636efa\",\"pattern\":{\"shape\":\"\"}},\"name\":\"Entertainment\",\"offsetgroup\":\"Entertainment\",\"orientation\":\"v\",\"showlegend\":true,\"textposition\":\"auto\",\"x\":[\"CHQ2O-i\",\"CHlzB2i\",\"CHiwQRG\",\"CHaKod3\",\"CHx6jsZ\",\"CHUyfkq\",\"CHkxbPw\",\"CH0PsUG\",\"CH0VR2v\",\"CHpjm6R\",\"CHPx-7A\",\"CHwx6n_\",\"CHEwOn7\",\"CHKxLXX\",\"CHk6bX-\",\"CHVWmCR\",\"CHhgOgR\",\"CHy-swB\",\"CHWYzc_\",\"CHmjNKt\",\"CHwNVDl\",\"CH1L79y\",\"CHIUfR-\",\"CHbCr1d\",\"CH78PMQ\",\"CHtDcEb\",\"CHiBKp3\",\"CHFL1sC\",\"CHyozK5\",\"CHqHP70\",\"CHZf4ZE\",\"CHqq-ov\",\"CHnx4Fi\",\"CHsRIHt\",\"CHIA-LP\",\"CH3re3u\",\"CHCfQK8\",\"CH8OUSY\",\"CHEIi7z\",\"CH1cWTE\",\"CHcOYEm\",\"CHYtjW8\",\"CHhE5nZ\",\"CHPde4g\",\"CHOHM2N\",\"CHNIiH_\",\"CHbD8Ep\",\"CH920m3\",\"CHdWgRS\",\"CHeSHil\",\"CHYyLIl\",\"CHJmcPV\",\"CHYZv9v\",\"CHnLeqv\",\"CHXZx95\",\"CHK1sVu\",\"CHExw7_\",\"CHTuthm\",\"CHTnafh\",\"CHQNRHp\",\"CHHzW_7\",\"CHiEEF5\",\"CHj-dur\",\"CH3SyT4\",\"CHriPmQ\",\"CHs1R9z\",\"CHs8R3n\",\"CH2E-9A\",\"CH6erID\",\"CH5Ida8\",\"CHxQXvv\",\"CH9idb-\",\"CH5bUcn\",\"CHy-NrX\",\"CHoXoV4\",\"CHTQVIX\",\"CHRMA_N\",\"CHweOkP\",\"CHXaYpH\",\"CHmbGE7\",\"CHybPxZ\",\"CHbuks6\",\"CHbEp_Z\",\"CHZVD--\",\"CHpPXYy\",\"CH9HNi_\",\"CHYn09y\",\"CHYgUhR\",\"CHy1fru\",\"CHhY4PX\",\"CHObJpv\",\"CHm2PiW\",\"CHMGn0N\",\"CHrSase\",\"CH46BbE\",\"CHiBr0b\",\"CHF3UEV\",\"CHF8W68\",\"CHkbJc8\",\"CHmONdw\",\"CHsNVs6\",\"CHmgt7e\",\"CHr0ade\",\"CHsOW9T\",\"CHi9Sl8\",\"CHepUWU\",\"CHk5bhZ\",\"CHoCvTl\",\"CHoUDrz\",\"CHuTKrQ\",\"CHrhH1d\",\"CHhLGxP\",\"CHgsffS\",\"CHgiO7K\",\"CHgeeQu\",\"CHgZlBR\",\"CHjGoJb\",\"CHjToDB\",\"CHtckgm\",\"CHkjXq1\",\"CH-VbFg\",\"CH2qjHK\",\"CH3m0s5\",\"CH8WoHU\",\"CH9nLq3\",\"CHDb1t5\",\"CHEI4rb\",\"CHEX1cZ\",\"CHGrfaH\",\"CHGsJRp\",\"CHH1oRy\",\"CHUnSdg\",\"CHWhiqH\",\"CHY2uWQ\",\"CHZCH_G\",\"CH_Fxf0\",\"CH_pOKL\",\"CHaNGiz\",\"CHKdfNL\",\"CHLVwgJ\",\"CHIueAL\",\"CHIY5oU\",\"CHB9e3p\",\"CH-BqPA\",\"CH_plsx\",\"CHaZS_X\",\"CHb-y7Y\",\"CHbVRtq\",\"CHcTWmz\",\"CH73yn5\",\"CHe-gh0\",\"CHem8l1\",\"CHfWZns\",\"CHg3Ydm\",\"CH68buD\",\"CHYSjF7\",\"CH2tfQf\",\"CHLynj-\",\"CH2IIBY\",\"CHM31rB\",\"CHMtFAi\",\"CHNQL3R\",\"CH4JAFO\",\"CHR5cyf\",\"CHRLM0M\",\"CH1HHeT\",\"CHS_hnp\",\"CH4nEQI\",\"CHHlSeJ\",\"CH5BMQO\",\"CH-giR4\",\"CHUXYT0\",\"CHUj6rr\",\"CHVyhgR\",\"CHYC3ZZ\",\"CHg8U-Z\",\"CHrhgVH\",\"CHu9BCt\",\"CHudezj\",\"CHvAewW\",\"CHxLc0z\",\"CHxmBxN\",\"CH9w-h_\",\"CHBI8xZ\",\"CHLKugl\",\"CHreX6A\",\"CHoW9qW\",\"CHj28Fv\",\"CHkQCwn\",\"CHDih-8\",\"CHl_tB4\",\"CH81Kll\",\"CHmApNd\",\"CHnNNN_\",\"CHnNfsL\",\"CHoQIdt\",\"CHrLUuZ\",\"CHDhM2k\",\"CHp0hYY\",\"CHod5V2\",\"CHNE1pY\",\"CHOJplh\",\"CHOtCBu\",\"CHOzWaj\",\"CHPECLB\",\"CHPKNKl\",\"CHRWzK4\",\"CHSB5FO\",\"CHSQ55i\",\"CHT2X19\",\"CHTOUUd\",\"CHTS3Lw\",\"CHTmrCB\",\"CHU8MOm\",\"CHVXN28\",\"CHWJg0Q\",\"CHNl-TU\",\"CHLtOnh\",\"CHtgggh\",\"CHLF1hN\",\"CHC1LvV\",\"CHCCjbf\",\"CHEkcg9\",\"CHFg6o2\",\"CHG0Jec\",\"CHGMHKj\",\"CHGWhMp\",\"CHGnfBj\",\"CHGrAnV\",\"CHHcDLO\",\"CHI5WgF\",\"CHIn1p2\",\"CHIuteB\",\"CHK3p1w\",\"CHKuwp5\",\"CHWstBK\",\"CHXiyTP\",\"CHYIxlZ\",\"CHYeeEw\",\"CHfugxK\",\"CHhK2Dh\",\"CHhpiLQ\",\"CHhqMfc\",\"CHiP6DC\",\"CHid83o\",\"CHjkoqt\",\"CHkPp7P\",\"CHpBkdV\",\"CHpK0ae\",\"CHrjVVh\",\"CHrnPse\",\"CHsM07d\",\"CHsU2Rl\",\"CHseQwR\",\"CHfnMSb\",\"CHffY-g\",\"CHfela5\",\"CHb2wZp\",\"CHYmo0H\",\"CHZECMC\",\"CHZTPmB\",\"CHZtpUg\",\"CH_6zPf\",\"CHa56qk\",\"CHbY7nf\",\"CHfdYUR\",\"CHbs5PG\",\"CHchRZl\",\"CHclwLh\",\"CHdUlCa\",\"CHe_oTY\",\"CHed3O-\",\"CHBwCGr\",\"CHBpzJv\",\"CHBOs39\",\"CHB-ogY\",\"CH35HKv\",\"CH3Ea2-\",\"CH3W3kE\",\"CH49ta0\",\"CH4LW3s\",\"CH4qc3p\",\"CH5q0PI\",\"CH5zXl0\",\"CH6wiUw\",\"CH7Krez\",\"CH7QX2Y\",\"CH88r6m\",\"CH8RGSE\",\"CH9kUsu\",\"CHAP8OK\",\"CH2aMxQ\",\"CH2KEmF\",\"CH2DoAr\",\"CH-Jblc\",\"CH-VOS6\",\"CH2DHU9\",\"CH1-lwA\",\"CH12YJZ\",\"CH18g7g\",\"CH1LWEy\",\"CH2-Lri\",\"CH271vX\",\"CHtCW8q\",\"CHtkQiK\",\"CHtp1ok\",\"CHuw1hx\",\"CHvScwM\",\"CHwZTee\",\"CHxjERP\",\"CHybzQL\",\"CHzt24f\"],\"xaxis\":\"x\",\"y\":[17,14,14,11,10,10,9,9,9,9,8,8,8,8,8,8,8,8,8,8,7,7,7,7,7,7,7,7,7,7,7,7,7,6,6,6,6,6,6,6,6,6,6,6,6,6,6,5,5,5,5,5,5,5,5,5,5,5,5,5,5,5,5,5,5,5,5,5,5,5,4,4,4,4,4,4,4,4,4,4,4,4,4,4,4,4,4,4,4,4,4,4,4,4,4,4,4,4,3,3,3,3,3,3,3,3,3,3,3,3,3,3,3,3,3,3,3,3,3,3,3,3,3,3,3,3,3,3,3,3,3,3,3,3,3,3,3,3,3,3,3,3,2,2,2,2,2,2,2,2,2,2,2,2,2,2,2,2,2,2,2,2,2,2,2,2,2,2,2,2,2,2,2,2,2,2,2,2,2,2,2,2,2,2,2,2,2,2,2,2,2,2,2,2,2,2,2,2,2,2,1,1,1,1,1,1,1,1,1,1,1,1,1,1,1,1,1,1,1,1,1,1,1,1,1,1,1,1,1,1,1,1,1,1,1,1,1,1,1,1,1,1,1,1,1,1,1,1,1,1,1,1,1,1,1,1,1,1,1,1,1,1,1,1,1,1,1,1,1,1,1,1,1,1,1,1,1,1,1,1,1,1,1,1,1,1,1,1,1,1,1,1,1,1,1,1,1,1,1,1,1,1,1,1,1,1,1,1,1,1,1,1],\"yaxis\":\"y\",\"type\":\"bar\"}],                        {\"template\":{\"data\":{\"bar\":[{\"error_x\":{\"color\":\"#2a3f5f\"},\"error_y\":{\"color\":\"#2a3f5f\"},\"marker\":{\"line\":{\"color\":\"#E5ECF6\",\"width\":0.5},\"pattern\":{\"fillmode\":\"overlay\",\"size\":10,\"solidity\":0.2}},\"type\":\"bar\"}],\"barpolar\":[{\"marker\":{\"line\":{\"color\":\"#E5ECF6\",\"width\":0.5},\"pattern\":{\"fillmode\":\"overlay\",\"size\":10,\"solidity\":0.2}},\"type\":\"barpolar\"}],\"carpet\":[{\"aaxis\":{\"endlinecolor\":\"#2a3f5f\",\"gridcolor\":\"white\",\"linecolor\":\"white\",\"minorgridcolor\":\"white\",\"startlinecolor\":\"#2a3f5f\"},\"baxis\":{\"endlinecolor\":\"#2a3f5f\",\"gridcolor\":\"white\",\"linecolor\":\"white\",\"minorgridcolor\":\"white\",\"startlinecolor\":\"#2a3f5f\"},\"type\":\"carpet\"}],\"choropleth\":[{\"colorbar\":{\"outlinewidth\":0,\"ticks\":\"\"},\"type\":\"choropleth\"}],\"contour\":[{\"colorbar\":{\"outlinewidth\":0,\"ticks\":\"\"},\"colorscale\":[[0.0,\"#0d0887\"],[0.1111111111111111,\"#46039f\"],[0.2222222222222222,\"#7201a8\"],[0.3333333333333333,\"#9c179e\"],[0.4444444444444444,\"#bd3786\"],[0.5555555555555556,\"#d8576b\"],[0.6666666666666666,\"#ed7953\"],[0.7777777777777778,\"#fb9f3a\"],[0.8888888888888888,\"#fdca26\"],[1.0,\"#f0f921\"]],\"type\":\"contour\"}],\"contourcarpet\":[{\"colorbar\":{\"outlinewidth\":0,\"ticks\":\"\"},\"type\":\"contourcarpet\"}],\"heatmap\":[{\"colorbar\":{\"outlinewidth\":0,\"ticks\":\"\"},\"colorscale\":[[0.0,\"#0d0887\"],[0.1111111111111111,\"#46039f\"],[0.2222222222222222,\"#7201a8\"],[0.3333333333333333,\"#9c179e\"],[0.4444444444444444,\"#bd3786\"],[0.5555555555555556,\"#d8576b\"],[0.6666666666666666,\"#ed7953\"],[0.7777777777777778,\"#fb9f3a\"],[0.8888888888888888,\"#fdca26\"],[1.0,\"#f0f921\"]],\"type\":\"heatmap\"}],\"heatmapgl\":[{\"colorbar\":{\"outlinewidth\":0,\"ticks\":\"\"},\"colorscale\":[[0.0,\"#0d0887\"],[0.1111111111111111,\"#46039f\"],[0.2222222222222222,\"#7201a8\"],[0.3333333333333333,\"#9c179e\"],[0.4444444444444444,\"#bd3786\"],[0.5555555555555556,\"#d8576b\"],[0.6666666666666666,\"#ed7953\"],[0.7777777777777778,\"#fb9f3a\"],[0.8888888888888888,\"#fdca26\"],[1.0,\"#f0f921\"]],\"type\":\"heatmapgl\"}],\"histogram\":[{\"marker\":{\"pattern\":{\"fillmode\":\"overlay\",\"size\":10,\"solidity\":0.2}},\"type\":\"histogram\"}],\"histogram2d\":[{\"colorbar\":{\"outlinewidth\":0,\"ticks\":\"\"},\"colorscale\":[[0.0,\"#0d0887\"],[0.1111111111111111,\"#46039f\"],[0.2222222222222222,\"#7201a8\"],[0.3333333333333333,\"#9c179e\"],[0.4444444444444444,\"#bd3786\"],[0.5555555555555556,\"#d8576b\"],[0.6666666666666666,\"#ed7953\"],[0.7777777777777778,\"#fb9f3a\"],[0.8888888888888888,\"#fdca26\"],[1.0,\"#f0f921\"]],\"type\":\"histogram2d\"}],\"histogram2dcontour\":[{\"colorbar\":{\"outlinewidth\":0,\"ticks\":\"\"},\"colorscale\":[[0.0,\"#0d0887\"],[0.1111111111111111,\"#46039f\"],[0.2222222222222222,\"#7201a8\"],[0.3333333333333333,\"#9c179e\"],[0.4444444444444444,\"#bd3786\"],[0.5555555555555556,\"#d8576b\"],[0.6666666666666666,\"#ed7953\"],[0.7777777777777778,\"#fb9f3a\"],[0.8888888888888888,\"#fdca26\"],[1.0,\"#f0f921\"]],\"type\":\"histogram2dcontour\"}],\"mesh3d\":[{\"colorbar\":{\"outlinewidth\":0,\"ticks\":\"\"},\"type\":\"mesh3d\"}],\"parcoords\":[{\"line\":{\"colorbar\":{\"outlinewidth\":0,\"ticks\":\"\"}},\"type\":\"parcoords\"}],\"pie\":[{\"automargin\":true,\"type\":\"pie\"}],\"scatter\":[{\"marker\":{\"colorbar\":{\"outlinewidth\":0,\"ticks\":\"\"}},\"type\":\"scatter\"}],\"scatter3d\":[{\"line\":{\"colorbar\":{\"outlinewidth\":0,\"ticks\":\"\"}},\"marker\":{\"colorbar\":{\"outlinewidth\":0,\"ticks\":\"\"}},\"type\":\"scatter3d\"}],\"scattercarpet\":[{\"marker\":{\"colorbar\":{\"outlinewidth\":0,\"ticks\":\"\"}},\"type\":\"scattercarpet\"}],\"scattergeo\":[{\"marker\":{\"colorbar\":{\"outlinewidth\":0,\"ticks\":\"\"}},\"type\":\"scattergeo\"}],\"scattergl\":[{\"marker\":{\"colorbar\":{\"outlinewidth\":0,\"ticks\":\"\"}},\"type\":\"scattergl\"}],\"scattermapbox\":[{\"marker\":{\"colorbar\":{\"outlinewidth\":0,\"ticks\":\"\"}},\"type\":\"scattermapbox\"}],\"scatterpolar\":[{\"marker\":{\"colorbar\":{\"outlinewidth\":0,\"ticks\":\"\"}},\"type\":\"scatterpolar\"}],\"scatterpolargl\":[{\"marker\":{\"colorbar\":{\"outlinewidth\":0,\"ticks\":\"\"}},\"type\":\"scatterpolargl\"}],\"scatterternary\":[{\"marker\":{\"colorbar\":{\"outlinewidth\":0,\"ticks\":\"\"}},\"type\":\"scatterternary\"}],\"surface\":[{\"colorbar\":{\"outlinewidth\":0,\"ticks\":\"\"},\"colorscale\":[[0.0,\"#0d0887\"],[0.1111111111111111,\"#46039f\"],[0.2222222222222222,\"#7201a8\"],[0.3333333333333333,\"#9c179e\"],[0.4444444444444444,\"#bd3786\"],[0.5555555555555556,\"#d8576b\"],[0.6666666666666666,\"#ed7953\"],[0.7777777777777778,\"#fb9f3a\"],[0.8888888888888888,\"#fdca26\"],[1.0,\"#f0f921\"]],\"type\":\"surface\"}],\"table\":[{\"cells\":{\"fill\":{\"color\":\"#EBF0F8\"},\"line\":{\"color\":\"white\"}},\"header\":{\"fill\":{\"color\":\"#C8D4E3\"},\"line\":{\"color\":\"white\"}},\"type\":\"table\"}]},\"layout\":{\"annotationdefaults\":{\"arrowcolor\":\"#2a3f5f\",\"arrowhead\":0,\"arrowwidth\":1},\"autotypenumbers\":\"strict\",\"coloraxis\":{\"colorbar\":{\"outlinewidth\":0,\"ticks\":\"\"}},\"colorscale\":{\"diverging\":[[0,\"#8e0152\"],[0.1,\"#c51b7d\"],[0.2,\"#de77ae\"],[0.3,\"#f1b6da\"],[0.4,\"#fde0ef\"],[0.5,\"#f7f7f7\"],[0.6,\"#e6f5d0\"],[0.7,\"#b8e186\"],[0.8,\"#7fbc41\"],[0.9,\"#4d9221\"],[1,\"#276419\"]],\"sequential\":[[0.0,\"#0d0887\"],[0.1111111111111111,\"#46039f\"],[0.2222222222222222,\"#7201a8\"],[0.3333333333333333,\"#9c179e\"],[0.4444444444444444,\"#bd3786\"],[0.5555555555555556,\"#d8576b\"],[0.6666666666666666,\"#ed7953\"],[0.7777777777777778,\"#fb9f3a\"],[0.8888888888888888,\"#fdca26\"],[1.0,\"#f0f921\"]],\"sequentialminus\":[[0.0,\"#0d0887\"],[0.1111111111111111,\"#46039f\"],[0.2222222222222222,\"#7201a8\"],[0.3333333333333333,\"#9c179e\"],[0.4444444444444444,\"#bd3786\"],[0.5555555555555556,\"#d8576b\"],[0.6666666666666666,\"#ed7953\"],[0.7777777777777778,\"#fb9f3a\"],[0.8888888888888888,\"#fdca26\"],[1.0,\"#f0f921\"]]},\"colorway\":[\"#636efa\",\"#EF553B\",\"#00cc96\",\"#ab63fa\",\"#FFA15A\",\"#19d3f3\",\"#FF6692\",\"#B6E880\",\"#FF97FF\",\"#FECB52\"],\"font\":{\"color\":\"#2a3f5f\"},\"geo\":{\"bgcolor\":\"white\",\"lakecolor\":\"white\",\"landcolor\":\"#E5ECF6\",\"showlakes\":true,\"showland\":true,\"subunitcolor\":\"white\"},\"hoverlabel\":{\"align\":\"left\"},\"hovermode\":\"closest\",\"mapbox\":{\"style\":\"light\"},\"paper_bgcolor\":\"white\",\"plot_bgcolor\":\"#E5ECF6\",\"polar\":{\"angularaxis\":{\"gridcolor\":\"white\",\"linecolor\":\"white\",\"ticks\":\"\"},\"bgcolor\":\"#E5ECF6\",\"radialaxis\":{\"gridcolor\":\"white\",\"linecolor\":\"white\",\"ticks\":\"\"}},\"scene\":{\"xaxis\":{\"backgroundcolor\":\"#E5ECF6\",\"gridcolor\":\"white\",\"gridwidth\":2,\"linecolor\":\"white\",\"showbackground\":true,\"ticks\":\"\",\"zerolinecolor\":\"white\"},\"yaxis\":{\"backgroundcolor\":\"#E5ECF6\",\"gridcolor\":\"white\",\"gridwidth\":2,\"linecolor\":\"white\",\"showbackground\":true,\"ticks\":\"\",\"zerolinecolor\":\"white\"},\"zaxis\":{\"backgroundcolor\":\"#E5ECF6\",\"gridcolor\":\"white\",\"gridwidth\":2,\"linecolor\":\"white\",\"showbackground\":true,\"ticks\":\"\",\"zerolinecolor\":\"white\"}},\"shapedefaults\":{\"line\":{\"color\":\"#2a3f5f\"}},\"ternary\":{\"aaxis\":{\"gridcolor\":\"white\",\"linecolor\":\"white\",\"ticks\":\"\"},\"baxis\":{\"gridcolor\":\"white\",\"linecolor\":\"white\",\"ticks\":\"\"},\"bgcolor\":\"#E5ECF6\",\"caxis\":{\"gridcolor\":\"white\",\"linecolor\":\"white\",\"ticks\":\"\"}},\"title\":{\"x\":0.05},\"xaxis\":{\"automargin\":true,\"gridcolor\":\"white\",\"linecolor\":\"white\",\"ticks\":\"\",\"title\":{\"standoff\":15},\"zerolinecolor\":\"white\",\"zerolinewidth\":2},\"yaxis\":{\"automargin\":true,\"gridcolor\":\"white\",\"linecolor\":\"white\",\"ticks\":\"\",\"title\":{\"standoff\":15},\"zerolinecolor\":\"white\",\"zerolinewidth\":2}}},\"xaxis\":{\"anchor\":\"y\",\"domain\":[0.0,1.0],\"title\":{\"text\":\"channel_id\"}},\"yaxis\":{\"anchor\":\"x\",\"domain\":[0.0,1.0],\"title\":{\"text\":\"video_id\"}},\"legend\":{\"title\":{\"text\":\"category_name\"},\"tracegroupgap\":0},\"margin\":{\"t\":60},\"barmode\":\"relative\"},                        {\"responsive\": true}                    ).then(function(){\n",
       "                            \n",
       "var gd = document.getElementById('5f1b2ec8-4795-43fe-83f9-a7d4fa0afee0');\n",
       "var x = new MutationObserver(function (mutations, observer) {{\n",
       "        var display = window.getComputedStyle(gd).display;\n",
       "        if (!display || display === 'none') {{\n",
       "            console.log([gd, 'removed!']);\n",
       "            Plotly.purge(gd);\n",
       "            observer.disconnect();\n",
       "        }}\n",
       "}});\n",
       "\n",
       "// Listen for the removal of the full notebook cells\n",
       "var notebookContainer = gd.closest('#notebook-container');\n",
       "if (notebookContainer) {{\n",
       "    x.observe(notebookContainer, {childList: true});\n",
       "}}\n",
       "\n",
       "// Listen for the clearing of the current output cell\n",
       "var outputEl = gd.closest('.output');\n",
       "if (outputEl) {{\n",
       "    x.observe(outputEl, {childList: true});\n",
       "}}\n",
       "\n",
       "                        })                };                });            </script>        </div>"
      ]
     },
     "metadata": {},
     "output_type": "display_data"
    }
   ],
   "source": [
    "import plotly.express as px\n",
    "\n",
    "fig = px.bar(q1_1[q1_1['category_name']=='Entertainment'], y='video_id',x='channel_id' ,color='category_name',orientation='v')\n",
    "fig.show()"
   ]
  },
  {
   "cell_type": "code",
   "execution_count": 73,
   "metadata": {},
   "outputs": [
    {
     "data": {
      "text/plain": [
       "'\\nimport plotly.graph_objects as go\\nfrom plotly.subplots import make_subplots\\n\\nfig = make_subplots(rows=2, cols=1, \\n                    vertical_spacing=0.05,\\n                    specs=[\\n                        [{\"type\": \"bar\"}],\\n                        [{\"type\": \"table\"}]\\n                    ]\\n)\\n\\n# px.bar(q1_1, y=\\'video_id\\',x=\\'channel_id\\' ,color=\\'category_name\\',orientation=\\'v\\',barmode=\\'stack\\')\\n\\nfig.add_traces(go.Bar(y=q1_1[\\'video_id\\'],x=q1_1[\\'channel_id\\'] ,color=q1_1[\\'category_name\\'],orientation=\\'v\\',barmode=\\'stack\\'),\\n            row=1, col=1)\\n\\n# q1_1_summarize\\nfig.add_trace(go.Table(\\n    header=dict(values=list(q1_1_summarize.columns,\\n                            align=\\'left\\'),\\n    cells=dict(values=[q1_1_summarize[k].tolist() for k in q1_1_summarize.columns[0:]],\\n            aling=\\'left\\')),\\n    row=2, col=1))\\n'"
      ]
     },
     "execution_count": 73,
     "metadata": {},
     "output_type": "execute_result"
    }
   ],
   "source": [
    "# make subplots with tables\n",
    "\"\"\"\n",
    "import plotly.graph_objects as go\n",
    "from plotly.subplots import make_subplots\n",
    "\n",
    "fig = make_subplots(rows=2, cols=1, \n",
    "                    vertical_spacing=0.05,\n",
    "                    specs=[\n",
    "                        [{\"type\": \"bar\"}],\n",
    "                        [{\"type\": \"table\"}]\n",
    "                    ]\n",
    ")\n",
    "\n",
    "# px.bar(q1_1, y='video_id',x='channel_id' ,color='category_name',orientation='v',barmode='stack')\n",
    "\n",
    "fig.add_traces(go.Bar(y=q1_1['video_id'],x=q1_1['channel_id'] ,color=q1_1['category_name'],orientation='v',barmode='stack'),\n",
    "            row=1, col=1)\n",
    "\n",
    "# q1_1_summarize\n",
    "fig.add_trace(go.Table(\n",
    "    header=dict(values=list(q1_1_summarize.columns,\n",
    "                            align='left'),\n",
    "    cells=dict(values=[q1_1_summarize[k].tolist() for k in q1_1_summarize.columns[0:]],\n",
    "            aling='left')),\n",
    "    row=2, col=1))\n",
    "\"\"\""
   ]
  },
  {
   "cell_type": "code",
   "execution_count": 64,
   "metadata": {},
   "outputs": [
    {
     "data": {
      "application/vnd.plotly.v1+json": {
       "config": {
        "plotlyServerURL": "https://plot.ly"
       },
       "data": [
        {
         "alignmentgroup": "True",
         "hovertemplate": "category_name=Entertainment<br>channel_id=%{x}<br>video_id=%{y}<extra></extra>",
         "legendgroup": "Entertainment",
         "marker": {
          "color": "#636efa",
          "pattern": {
           "shape": ""
          }
         },
         "name": "Entertainment",
         "offsetgroup": "Entertainment",
         "orientation": "v",
         "showlegend": true,
         "textposition": "auto",
         "type": "bar",
         "x": [
          "CHQ2O-i",
          "CHlzB2i",
          "CHiwQRG",
          "CHaKod3",
          "CHx6jsZ",
          "CHUyfkq",
          "CHkxbPw",
          "CH0PsUG",
          "CH0VR2v",
          "CHpjm6R",
          "CHPx-7A",
          "CHwx6n_",
          "CHEwOn7",
          "CHKxLXX",
          "CHk6bX-",
          "CHVWmCR",
          "CHhgOgR",
          "CHy-swB",
          "CHWYzc_",
          "CHmjNKt",
          "CHwNVDl",
          "CH1L79y",
          "CHIUfR-",
          "CHbCr1d",
          "CH78PMQ",
          "CHtDcEb",
          "CHiBKp3",
          "CHFL1sC",
          "CHyozK5",
          "CHqHP70",
          "CHZf4ZE",
          "CHqq-ov",
          "CHnx4Fi",
          "CHsRIHt",
          "CHIA-LP",
          "CH3re3u",
          "CHCfQK8",
          "CH8OUSY",
          "CHEIi7z",
          "CH1cWTE",
          "CHcOYEm",
          "CHYtjW8",
          "CHhE5nZ",
          "CHPde4g",
          "CHOHM2N",
          "CHNIiH_",
          "CHbD8Ep",
          "CH920m3",
          "CHdWgRS",
          "CHeSHil",
          "CHYyLIl",
          "CHJmcPV",
          "CHYZv9v",
          "CHnLeqv",
          "CHXZx95",
          "CHK1sVu",
          "CHExw7_",
          "CHTuthm",
          "CHTnafh",
          "CHQNRHp",
          "CHHzW_7",
          "CHiEEF5",
          "CHj-dur",
          "CH3SyT4",
          "CHriPmQ",
          "CHs1R9z",
          "CHs8R3n",
          "CH2E-9A",
          "CH6erID",
          "CH5Ida8",
          "CHxQXvv",
          "CH9idb-",
          "CH5bUcn",
          "CHy-NrX",
          "CHoXoV4",
          "CHTQVIX",
          "CHRMA_N",
          "CHweOkP",
          "CHXaYpH",
          "CHmbGE7",
          "CHybPxZ",
          "CHbuks6",
          "CHbEp_Z",
          "CHZVD--",
          "CHpPXYy",
          "CH9HNi_",
          "CHYn09y",
          "CHYgUhR",
          "CHy1fru",
          "CHhY4PX",
          "CHObJpv",
          "CHm2PiW",
          "CHMGn0N",
          "CHrSase",
          "CH46BbE",
          "CHiBr0b",
          "CHF3UEV",
          "CHF8W68",
          "CHkbJc8",
          "CHmONdw",
          "CHsNVs6",
          "CHmgt7e",
          "CHr0ade",
          "CHsOW9T",
          "CHi9Sl8",
          "CHepUWU",
          "CHk5bhZ",
          "CHoCvTl",
          "CHoUDrz",
          "CHuTKrQ",
          "CHrhH1d",
          "CHhLGxP",
          "CHgsffS",
          "CHgiO7K",
          "CHgeeQu",
          "CHgZlBR",
          "CHjGoJb",
          "CHjToDB",
          "CHtckgm",
          "CHkjXq1",
          "CH-VbFg",
          "CH2qjHK",
          "CH3m0s5",
          "CH8WoHU",
          "CH9nLq3",
          "CHDb1t5",
          "CHEI4rb",
          "CHEX1cZ",
          "CHGrfaH",
          "CHGsJRp",
          "CHH1oRy",
          "CHUnSdg",
          "CHWhiqH",
          "CHY2uWQ",
          "CHZCH_G",
          "CH_Fxf0",
          "CH_pOKL",
          "CHaNGiz",
          "CHKdfNL",
          "CHLVwgJ",
          "CHIueAL",
          "CHIY5oU",
          "CHB9e3p",
          "CH-BqPA",
          "CH_plsx",
          "CHaZS_X",
          "CHb-y7Y",
          "CHbVRtq",
          "CHcTWmz",
          "CH73yn5",
          "CHe-gh0",
          "CHem8l1",
          "CHfWZns",
          "CHg3Ydm",
          "CH68buD",
          "CHYSjF7",
          "CH2tfQf",
          "CHLynj-",
          "CH2IIBY",
          "CHM31rB",
          "CHMtFAi",
          "CHNQL3R",
          "CH4JAFO",
          "CHR5cyf",
          "CHRLM0M",
          "CH1HHeT",
          "CHS_hnp",
          "CH4nEQI",
          "CHHlSeJ",
          "CH5BMQO",
          "CH-giR4",
          "CHUXYT0",
          "CHUj6rr",
          "CHVyhgR",
          "CHYC3ZZ",
          "CHg8U-Z",
          "CHrhgVH",
          "CHu9BCt",
          "CHudezj",
          "CHvAewW",
          "CHxLc0z",
          "CHxmBxN",
          "CH9w-h_",
          "CHBI8xZ",
          "CHLKugl",
          "CHreX6A",
          "CHoW9qW",
          "CHj28Fv",
          "CHkQCwn",
          "CHDih-8",
          "CHl_tB4",
          "CH81Kll",
          "CHmApNd",
          "CHnNNN_",
          "CHnNfsL",
          "CHoQIdt",
          "CHrLUuZ",
          "CHDhM2k",
          "CHp0hYY",
          "CHod5V2",
          "CHNE1pY",
          "CHOJplh",
          "CHOtCBu",
          "CHOzWaj",
          "CHPECLB",
          "CHPKNKl",
          "CHRWzK4",
          "CHSB5FO",
          "CHSQ55i",
          "CHT2X19",
          "CHTOUUd",
          "CHTS3Lw",
          "CHTmrCB",
          "CHU8MOm",
          "CHVXN28",
          "CHWJg0Q",
          "CHNl-TU",
          "CHLtOnh",
          "CHtgggh",
          "CHLF1hN",
          "CHC1LvV",
          "CHCCjbf",
          "CHEkcg9",
          "CHFg6o2",
          "CHG0Jec",
          "CHGMHKj",
          "CHGWhMp",
          "CHGnfBj",
          "CHGrAnV",
          "CHHcDLO",
          "CHI5WgF",
          "CHIn1p2",
          "CHIuteB",
          "CHK3p1w",
          "CHKuwp5",
          "CHWstBK",
          "CHXiyTP",
          "CHYIxlZ",
          "CHYeeEw",
          "CHfugxK",
          "CHhK2Dh",
          "CHhpiLQ",
          "CHhqMfc",
          "CHiP6DC",
          "CHid83o",
          "CHjkoqt",
          "CHkPp7P",
          "CHpBkdV",
          "CHpK0ae",
          "CHrjVVh",
          "CHrnPse",
          "CHsM07d",
          "CHsU2Rl",
          "CHseQwR",
          "CHfnMSb",
          "CHffY-g",
          "CHfela5",
          "CHb2wZp",
          "CHYmo0H",
          "CHZECMC",
          "CHZTPmB",
          "CHZtpUg",
          "CH_6zPf",
          "CHa56qk",
          "CHbY7nf",
          "CHfdYUR",
          "CHbs5PG",
          "CHchRZl",
          "CHclwLh",
          "CHdUlCa",
          "CHe_oTY",
          "CHed3O-",
          "CHBwCGr",
          "CHBpzJv",
          "CHBOs39",
          "CHB-ogY",
          "CH35HKv",
          "CH3Ea2-",
          "CH3W3kE",
          "CH49ta0",
          "CH4LW3s",
          "CH4qc3p",
          "CH5q0PI",
          "CH5zXl0",
          "CH6wiUw",
          "CH7Krez",
          "CH7QX2Y",
          "CH88r6m",
          "CH8RGSE",
          "CH9kUsu",
          "CHAP8OK",
          "CH2aMxQ",
          "CH2KEmF",
          "CH2DoAr",
          "CH-Jblc",
          "CH-VOS6",
          "CH2DHU9",
          "CH1-lwA",
          "CH12YJZ",
          "CH18g7g",
          "CH1LWEy",
          "CH2-Lri",
          "CH271vX",
          "CHtCW8q",
          "CHtkQiK",
          "CHtp1ok",
          "CHuw1hx",
          "CHvScwM",
          "CHwZTee",
          "CHxjERP",
          "CHybzQL",
          "CHzt24f"
         ],
         "xaxis": "x",
         "y": [
          17,
          14,
          14,
          11,
          10,
          10,
          9,
          9,
          9,
          9,
          8,
          8,
          8,
          8,
          8,
          8,
          8,
          8,
          8,
          8,
          7,
          7,
          7,
          7,
          7,
          7,
          7,
          7,
          7,
          7,
          7,
          7,
          7,
          6,
          6,
          6,
          6,
          6,
          6,
          6,
          6,
          6,
          6,
          6,
          6,
          6,
          6,
          5,
          5,
          5,
          5,
          5,
          5,
          5,
          5,
          5,
          5,
          5,
          5,
          5,
          5,
          5,
          5,
          5,
          5,
          5,
          5,
          5,
          5,
          5,
          4,
          4,
          4,
          4,
          4,
          4,
          4,
          4,
          4,
          4,
          4,
          4,
          4,
          4,
          4,
          4,
          4,
          4,
          4,
          4,
          4,
          4,
          4,
          4,
          4,
          4,
          4,
          4,
          3,
          3,
          3,
          3,
          3,
          3,
          3,
          3,
          3,
          3,
          3,
          3,
          3,
          3,
          3,
          3,
          3,
          3,
          3,
          3,
          3,
          3,
          3,
          3,
          3,
          3,
          3,
          3,
          3,
          3,
          3,
          3,
          3,
          3,
          3,
          3,
          3,
          3,
          3,
          3,
          3,
          3,
          3,
          3,
          2,
          2,
          2,
          2,
          2,
          2,
          2,
          2,
          2,
          2,
          2,
          2,
          2,
          2,
          2,
          2,
          2,
          2,
          2,
          2,
          2,
          2,
          2,
          2,
          2,
          2,
          2,
          2,
          2,
          2,
          2,
          2,
          2,
          2,
          2,
          2,
          2,
          2,
          2,
          2,
          2,
          2,
          2,
          2,
          2,
          2,
          2,
          2,
          2,
          2,
          2,
          2,
          2,
          2,
          2,
          2,
          2,
          2,
          1,
          1,
          1,
          1,
          1,
          1,
          1,
          1,
          1,
          1,
          1,
          1,
          1,
          1,
          1,
          1,
          1,
          1,
          1,
          1,
          1,
          1,
          1,
          1,
          1,
          1,
          1,
          1,
          1,
          1,
          1,
          1,
          1,
          1,
          1,
          1,
          1,
          1,
          1,
          1,
          1,
          1,
          1,
          1,
          1,
          1,
          1,
          1,
          1,
          1,
          1,
          1,
          1,
          1,
          1,
          1,
          1,
          1,
          1,
          1,
          1,
          1,
          1,
          1,
          1,
          1,
          1,
          1,
          1,
          1,
          1,
          1,
          1,
          1,
          1,
          1,
          1,
          1,
          1,
          1,
          1,
          1,
          1,
          1,
          1,
          1,
          1,
          1,
          1,
          1,
          1,
          1,
          1,
          1,
          1,
          1,
          1,
          1,
          1,
          1,
          1,
          1,
          1,
          1,
          1,
          1,
          1,
          1,
          1,
          1,
          1,
          1
         ],
         "yaxis": "y"
        },
        {
         "alignmentgroup": "True",
         "hovertemplate": "category_name=Sports<br>channel_id=%{x}<br>video_id=%{y}<extra></extra>",
         "legendgroup": "Sports",
         "marker": {
          "color": "#EF553B",
          "pattern": {
           "shape": ""
          }
         },
         "name": "Sports",
         "offsetgroup": "Sports",
         "orientation": "v",
         "showlegend": true,
         "textposition": "auto",
         "type": "bar",
         "x": [
          "CHtybqq",
          "CHtm_Qo",
          "CHUQVGX",
          "CHunsfa",
          "CHYRrUD",
          "CHpjOmw",
          "CHdTDdy",
          "CHhg51l",
          "CHnXNuk",
          "CH2qVOO",
          "CHArK9M",
          "CHoLrcj",
          "CHkFGfv",
          "CHk4XjB",
          "CHgp0KT",
          "CHdtRAc",
          "CHdhukF",
          "CHhb4gt",
          "CHoe-0E",
          "CHqsKWT",
          "CHDIB1D",
          "CHQ4eZw",
          "CH218FQ",
          "CHc7o0O",
          "CHcQTRi",
          "CHEg25r",
          "CHZeHMS",
          "CHCA4-e",
          "CHfHsXd",
          "CH7JbUm",
          "CHh4APi",
          "CHhI3EX",
          "CHQ2TX8",
          "CHRDowc",
          "CHvMwK5",
          "CHtctOX",
          "CHn9mJ4",
          "CHoHirU",
          "CH9pdRy",
          "CHG-Q7s",
          "CHD902z",
          "CHET00Y",
          "CHChcWq",
          "CH9LQwH",
          "CHBKMc4",
          "CHI0FxD",
          "CH7YF5m",
          "CHINRJx",
          "CHKHLAo",
          "CHP6Cn6",
          "CHt8iRt",
          "CHt7dVd",
          "CHmKTwX",
          "CHi84e1",
          "CHgIArN",
          "CHbhuEJ",
          "CHZSNhO",
          "CHYJDUe",
          "CHX0xc2",
          "CHUXDKi",
          "CHTv-Xv",
          "CHTqenv",
          "CHPxCAB",
          "CH4yq3F",
          "CH3GEDF",
          "CH4_uws"
         ],
         "xaxis": "x",
         "y": [
          15,
          12,
          10,
          9,
          8,
          7,
          7,
          7,
          7,
          7,
          6,
          6,
          6,
          6,
          6,
          6,
          5,
          5,
          5,
          5,
          5,
          4,
          4,
          4,
          4,
          3,
          3,
          2,
          2,
          2,
          2,
          2,
          2,
          2,
          2,
          2,
          2,
          2,
          1,
          1,
          1,
          1,
          1,
          1,
          1,
          1,
          1,
          1,
          1,
          1,
          1,
          1,
          1,
          1,
          1,
          1,
          1,
          1,
          1,
          1,
          1,
          1,
          1,
          1,
          1,
          1
         ],
         "yaxis": "y"
        },
        {
         "alignmentgroup": "True",
         "hovertemplate": "category_name=Comedy<br>channel_id=%{x}<br>video_id=%{y}<extra></extra>",
         "legendgroup": "Comedy",
         "marker": {
          "color": "#00cc96",
          "pattern": {
           "shape": ""
          }
         },
         "name": "Comedy",
         "offsetgroup": "Comedy",
         "orientation": "v",
         "showlegend": true,
         "textposition": "auto",
         "type": "bar",
         "x": [
          "CHmzMtX",
          "CHhbE5O",
          "CHg-p3l",
          "CHyCL5k",
          "CHZ0dIs",
          "CHGX5sP",
          "CHSc2Dc",
          "CHt_UFh",
          "CHqsPmf",
          "CHgBLs7",
          "CHRykAt",
          "CHR-qpX",
          "CHEUL40",
          "CH9nFMA",
          "CHe9f9M",
          "CH20WKI",
          "CH9ZLv1",
          "CHIuFnJ",
          "CH0SoPw",
          "CH6KwCU",
          "CH8-Th8",
          "CHN8CPz",
          "CHhvXm5",
          "CHzjiRW",
          "CHsJ6Ru",
          "CHghP93",
          "CHVsBCf",
          "CHV3i3l",
          "CHPwGQu",
          "CHK3p1w",
          "CH_gaUd",
          "CHbGXAe",
          "CHd-Sfb",
          "CHfU6o0",
          "CHg8U-Z",
          "CHivkx6",
          "CHmCNgL",
          "CHmHMsJ",
          "CHoe_Vp",
          "CHr9-Mp",
          "CHyh4ZG",
          "CHYACix",
          "CHQmu3U",
          "CHMVC92",
          "CHJpGg1",
          "CH2o_y8",
          "CH69uMh",
          "CHCjJV_",
          "CHD2YO_",
          "CHDCAyS"
         ],
         "xaxis": "x",
         "y": [
          14,
          11,
          10,
          9,
          9,
          7,
          7,
          5,
          5,
          5,
          5,
          5,
          5,
          5,
          4,
          4,
          4,
          4,
          3,
          3,
          3,
          3,
          3,
          2,
          2,
          2,
          2,
          2,
          2,
          2,
          1,
          1,
          1,
          1,
          1,
          1,
          1,
          1,
          1,
          1,
          1,
          1,
          1,
          1,
          1,
          1,
          1,
          1,
          1,
          1
         ],
         "yaxis": "y"
        },
        {
         "alignmentgroup": "True",
         "hovertemplate": "category_name=People & Blogs<br>channel_id=%{x}<br>video_id=%{y}<extra></extra>",
         "legendgroup": "People & Blogs",
         "marker": {
          "color": "#ab63fa",
          "pattern": {
           "shape": ""
          }
         },
         "name": "People & Blogs",
         "offsetgroup": "People & Blogs",
         "orientation": "v",
         "showlegend": true,
         "textposition": "auto",
         "type": "bar",
         "x": [
          "CHIG4gr",
          "CHtfriF",
          "CHZ1wYQ",
          "CHfpaSr",
          "CHkkWd0",
          "CHoQy2w",
          "CHtkRVa",
          "CHDV9zg",
          "CHXTyJZ",
          "CHpH3rU",
          "CHYnfy2",
          "CHbFzvz",
          "CHRzS1N",
          "CHuDLnJ",
          "CHppou5",
          "CH6lNIb",
          "CHASfMq",
          "CHPZ4e8",
          "CHOOKj-",
          "CHaZS_X",
          "CHXTQWs",
          "CHUyr50",
          "CHA6KBB",
          "CHzRDCw",
          "CHoPTIa",
          "CHqNN-b",
          "CH680xb",
          "CHs9H--",
          "CHsP57H",
          "CHK72hq",
          "CHKFvox",
          "CHKUz_7",
          "CH4MfUq",
          "CH4sIlW",
          "CH31-nU",
          "CH26QQC",
          "CHkh6Tl",
          "CHYt4St",
          "CHrFlv9",
          "CHXXlcP",
          "CHhK2Dh",
          "CHXURHJ",
          "CHfqVrM",
          "CHrRn4V",
          "CHrh6bu",
          "CHyG7zA",
          "CHychoc",
          "CH2KUew",
          "CH4DnB5",
          "CH1EiHI",
          "CHNBfRy",
          "CHONPqk",
          "CHRofX4",
          "CHSiGNr",
          "CHHR4kW",
          "CH-Bsa2",
          "CH0ssa8",
          "CH0wNau",
          "CHD2KRO",
          "CHjpCOk",
          "CH_EngQ",
          "CHE8SAl",
          "CHET3I7",
          "CHLJNGm",
          "CH5RION",
          "CHM64Ik",
          "CHcxK1U",
          "CH5QSBl",
          "CHd1TDy",
          "CHdfhK0",
          "CH48NSS",
          "CHheR9R",
          "CHPhHBE",
          "CHh-1iA",
          "CHAhKKb",
          "CH26M8b",
          "CHBkXIe",
          "CHBoQ8_",
          "CHwW_qU",
          "CHrLQ0o",
          "CHqsPmf",
          "CHoLQZ4",
          "CHnet0I",
          "CHmt37g",
          "CHld0ct",
          "CHu38Cq",
          "CHtn-l7",
          "CH7bRo3",
          "CH9gxOp",
          "CH7Krez",
          "CH8MVMe",
          "CH9G7V6",
          "CHl-tyx",
          "CH-KafR",
          "CH-YRx5",
          "CH-swYD",
          "CH0PsUG",
          "CH0wTMg",
          "CH2Q9aM",
          "CH2XG0i",
          "CH2tbZf",
          "CH47HAk",
          "CH1GHhg",
          "CHKkxVS",
          "CHa_ZCX",
          "CHaPILm",
          "CH_Fq5K",
          "CHZwG8g",
          "CHYDyvq",
          "CHuZu8N",
          "CHv0QY4",
          "CHvG7co",
          "CHvjhQp",
          "CHx_kYu",
          "CHyje3j",
          "CHyn-K7",
          "CHyuL_X",
          "CHzhyI5",
          "CHWycwu",
          "CHWqWR1",
          "CHW9DtK",
          "CHW945U",
          "CHaPqda",
          "CHb_-Xu",
          "CHBHJlM",
          "CHbzDJ6",
          "CHlSUMM",
          "CHkJNt3",
          "CHmfVvm",
          "CHjn-Vb",
          "CHjHn_O",
          "CHicKQU",
          "CHiMq04",
          "CHhtdyq",
          "CHhna8l",
          "CHhji-o",
          "CHrIxxm",
          "CHs29NQ",
          "CHemKWU",
          "CHelPbn",
          "CHtctOX",
          "CHdQk6g",
          "CHtfGLm",
          "CHcQ3rs",
          "CHc7een",
          "CHVyMrl",
          "CHUsoow",
          "CHH7JoV",
          "CHGiqkg",
          "CHGInHR",
          "CHFLlNL",
          "CHF8W68",
          "CHEu_YK",
          "CHCJ2b2",
          "CHC4Qcw",
          "CHJfDSu",
          "CHJko7d",
          "CHQTqoE",
          "CHUWU2s",
          "CHTx3aC",
          "CHQWylD",
          "CHknfGX",
          "CHNYi_z",
          "CHLItMt",
          "CHL-AUQ",
          "CHKmQlV"
         ],
         "xaxis": "x",
         "y": [
          14,
          13,
          10,
          10,
          10,
          9,
          8,
          8,
          8,
          8,
          7,
          6,
          6,
          5,
          5,
          4,
          4,
          4,
          4,
          4,
          4,
          4,
          4,
          4,
          4,
          4,
          4,
          4,
          4,
          4,
          4,
          4,
          4,
          4,
          4,
          4,
          3,
          3,
          3,
          3,
          3,
          3,
          3,
          3,
          3,
          3,
          3,
          3,
          3,
          3,
          3,
          3,
          3,
          3,
          3,
          2,
          2,
          2,
          2,
          2,
          2,
          2,
          2,
          2,
          2,
          2,
          2,
          2,
          2,
          2,
          2,
          2,
          2,
          2,
          2,
          2,
          2,
          2,
          2,
          2,
          2,
          2,
          2,
          2,
          2,
          2,
          2,
          1,
          1,
          1,
          1,
          1,
          1,
          1,
          1,
          1,
          1,
          1,
          1,
          1,
          1,
          1,
          1,
          1,
          1,
          1,
          1,
          1,
          1,
          1,
          1,
          1,
          1,
          1,
          1,
          1,
          1,
          1,
          1,
          1,
          1,
          1,
          1,
          1,
          1,
          1,
          1,
          1,
          1,
          1,
          1,
          1,
          1,
          1,
          1,
          1,
          1,
          1,
          1,
          1,
          1,
          1,
          1,
          1,
          1,
          1,
          1,
          1,
          1,
          1,
          1,
          1,
          1,
          1,
          1,
          1,
          1,
          1,
          1,
          1,
          1,
          1,
          1,
          1,
          1,
          1
         ],
         "yaxis": "y"
        },
        {
         "alignmentgroup": "True",
         "hovertemplate": "category_name=Music<br>channel_id=%{x}<br>video_id=%{y}<extra></extra>",
         "legendgroup": "Music",
         "marker": {
          "color": "#FFA15A",
          "pattern": {
           "shape": ""
          }
         },
         "name": "Music",
         "offsetgroup": "Music",
         "orientation": "v",
         "showlegend": true,
         "textposition": "auto",
         "type": "bar",
         "x": [
          "CHLkAep",
          "CHEf_Bc",
          "CHzCedB",
          "CHtCiO5",
          "CH3IZKs",
          "CH9GtSL",
          "CHaO6TY",
          "CHfkXDY",
          "CHviI9l",
          "CHeLPm9",
          "CHEbRSm",
          "CHabon8",
          "CH3WZlO",
          "CHoRXPc",
          "CHe52oe",
          "CHuKdaT",
          "CHyPwRg",
          "CHwgtOR",
          "CHuhAUM",
          "CHkJ1rb",
          "CHk2E0d",
          "CHRQ7Rw",
          "CHIcXK1",
          "CHHGJwr",
          "CH-FQUI",
          "CH6nxfR",
          "CH66yQ1",
          "CHPENYt",
          "CH9vrvN",
          "CHFipx4",
          "CHk9Gmd",
          "CHsXigG",
          "CHlYq3P",
          "CHmQdC1",
          "CHpbTKp",
          "CH_pwIX",
          "CH2KmG_",
          "CH-qYkz",
          "CHYDmx2",
          "CHdNMDR",
          "CHFEVXX",
          "CHGdZ_-",
          "CHGrAnV",
          "CHHX_FN",
          "CHI3Z79",
          "CHJVA-s",
          "CHKNZsA",
          "CHMIUx2",
          "CHNk_Ik",
          "CHR5cyf",
          "CHRp-tG",
          "CHTEWSE",
          "CHXIF1a",
          "CHY7unn",
          "CHaEIlQ",
          "CHcM_a-",
          "CHG1kwS",
          "CHEdZAd",
          "CHEUX9t",
          "CH3QWks",
          "CH4htMX",
          "CH6TJkB",
          "CH6c5iD",
          "CH6tU41",
          "CH7Qts0",
          "CH8qO5r",
          "CH9LcN9",
          "CHACsUr",
          "CHACvSk",
          "CHAkWpy",
          "CHAq0pF",
          "CHArTAX",
          "CHCEi5r",
          "CHDPM_n",
          "CHcVEkH",
          "CHeQlMQ",
          "CHe_56k",
          "CHhm_d4",
          "CHritGV",
          "CHhu7d9",
          "CHkYFO5",
          "CHmTdAl",
          "CHo-E2l",
          "CHoNq-k",
          "CHq4isO",
          "CHsVcse",
          "CHzxXBQ",
          "CHvNA_f",
          "CHvolP1",
          "CHwZMmI",
          "CHwzCuK",
          "CHxOZuU",
          "CHzgxx_",
          "CH3-ec2",
          "CH2TjEZ",
          "CH0D7tP",
          "CH-jHB5",
          "CH-IG_h"
         ],
         "xaxis": "x",
         "y": [
          13,
          11,
          9,
          8,
          8,
          8,
          8,
          8,
          7,
          6,
          6,
          6,
          5,
          5,
          5,
          4,
          3,
          3,
          3,
          3,
          3,
          3,
          3,
          3,
          3,
          3,
          3,
          2,
          2,
          2,
          2,
          2,
          2,
          2,
          2,
          2,
          2,
          2,
          2,
          2,
          1,
          1,
          1,
          1,
          1,
          1,
          1,
          1,
          1,
          1,
          1,
          1,
          1,
          1,
          1,
          1,
          1,
          1,
          1,
          1,
          1,
          1,
          1,
          1,
          1,
          1,
          1,
          1,
          1,
          1,
          1,
          1,
          1,
          1,
          1,
          1,
          1,
          1,
          1,
          1,
          1,
          1,
          1,
          1,
          1,
          1,
          1,
          1,
          1,
          1,
          1,
          1,
          1,
          1,
          1,
          1,
          1,
          1
         ],
         "yaxis": "y"
        },
        {
         "alignmentgroup": "True",
         "hovertemplate": "category_name=Film & Animation<br>channel_id=%{x}<br>video_id=%{y}<extra></extra>",
         "legendgroup": "Film & Animation",
         "marker": {
          "color": "#19d3f3",
          "pattern": {
           "shape": ""
          }
         },
         "name": "Film & Animation",
         "offsetgroup": "Film & Animation",
         "orientation": "v",
         "showlegend": true,
         "textposition": "auto",
         "type": "bar",
         "x": [
          "CHszFjh",
          "CHRuSxV",
          "CH6u3fo",
          "CHi-XI2",
          "CHUK4Yj",
          "CHz2Kbg",
          "CHSB5FO",
          "CHHj3qb",
          "CH6q6s6",
          "CHgmmc5",
          "CHK9PdJ",
          "CHaT8jY",
          "CHxDsmO",
          "CHxlv4a",
          "CHym553",
          "CHuRZ7_",
          "CHuKKkB",
          "CHs0P4G",
          "CH3zQwS",
          "CHCcE8B",
          "CHlN3o2",
          "CHFnuC4",
          "CHH3mJ-",
          "CHRI5Ze",
          "CHW0gUN",
          "CHY2wHB",
          "CHdq61m"
         ],
         "xaxis": "x",
         "y": [
          13,
          10,
          7,
          5,
          5,
          4,
          3,
          3,
          3,
          2,
          2,
          2,
          1,
          1,
          1,
          1,
          1,
          1,
          1,
          1,
          1,
          1,
          1,
          1,
          1,
          1,
          1
         ],
         "yaxis": "y"
        },
        {
         "alignmentgroup": "True",
         "hovertemplate": "category_name=News & Politics<br>channel_id=%{x}<br>video_id=%{y}<extra></extra>",
         "legendgroup": "News & Politics",
         "marker": {
          "color": "#FF6692",
          "pattern": {
           "shape": ""
          }
         },
         "name": "News & Politics",
         "offsetgroup": "News & Politics",
         "orientation": "v",
         "showlegend": true,
         "textposition": "auto",
         "type": "bar",
         "x": [
          "CHsU-I-",
          "CHF4Wxd",
          "CHhlgI3",
          "CH-0C8y",
          "CHMEbRp",
          "CH_U34U",
          "CHHBvfB",
          "CHAySce",
          "CHcQTRi",
          "CHkinYT",
          "CHj3_t5",
          "CHIDOGT",
          "CHH3mJ-",
          "CHG9aFJ",
          "CHfq4V1",
          "CHQabOR",
          "CH0imOR",
          "CH1aS5C",
          "CHoxT1k",
          "CHizGMt",
          "CHYRrUD",
          "CHTHCOP",
          "CHPTy0B",
          "CH8d0Zg",
          "CHWlV3L",
          "CHMGn0N",
          "CHMLJc_",
          "CHF8AeL",
          "CHzz58-",
          "CHy-6oZ",
          "CHwRljh",
          "CHawCv9",
          "CHnfwIK",
          "CHu35od",
          "CHwCrPg",
          "CHomhAm",
          "CHliLFb",
          "CHjg8Yu",
          "CH7cF2Z",
          "CH88r6m",
          "CH9thBC",
          "CHGCGxs",
          "CHIIpmD",
          "CHIMOyt",
          "CHIipmg",
          "CHKhcMX",
          "CHLKugl",
          "CHPfxQo",
          "CHTTmtS",
          "CHWskYk",
          "CHZQj9d",
          "CHbMjg2",
          "CHeFUGS",
          "CH5GZQW",
          "CH4Aa3O",
          "CH2fNt6"
         ],
         "xaxis": "x",
         "y": [
          11,
          9,
          8,
          7,
          7,
          6,
          6,
          6,
          6,
          6,
          5,
          4,
          4,
          4,
          4,
          4,
          3,
          3,
          3,
          3,
          3,
          3,
          3,
          3,
          2,
          2,
          2,
          2,
          2,
          2,
          2,
          2,
          2,
          1,
          1,
          1,
          1,
          1,
          1,
          1,
          1,
          1,
          1,
          1,
          1,
          1,
          1,
          1,
          1,
          1,
          1,
          1,
          1,
          1,
          1,
          1
         ],
         "yaxis": "y"
        },
        {
         "alignmentgroup": "True",
         "hovertemplate": "category_name=Education<br>channel_id=%{x}<br>video_id=%{y}<extra></extra>",
         "legendgroup": "Education",
         "marker": {
          "color": "#B6E880",
          "pattern": {
           "shape": ""
          }
         },
         "name": "Education",
         "offsetgroup": "Education",
         "orientation": "v",
         "showlegend": true,
         "textposition": "auto",
         "type": "bar",
         "x": [
          "CHicKQU",
          "CHl7MKZ",
          "CHuh6Br",
          "CH7F6UD",
          "CHvW8no",
          "CHnaGfD",
          "CHBJs8l",
          "CHHpIHu",
          "CHJ7LVh",
          "CHD902z",
          "CHCt6iN",
          "CH6xugt",
          "CH1-lwA",
          "CHPvwqh",
          "CH-9RQC",
          "CH5YHB-",
          "CHBM86J",
          "CHMFk5S",
          "CHO0OSA",
          "CHZ4T91",
          "CHcWXel",
          "CHgheNM",
          "CHiV4_c",
          "CHjPqSb",
          "CHma37f",
          "CHnLO88",
          "CHznImS"
         ],
         "xaxis": "x",
         "y": [
          10,
          7,
          7,
          4,
          3,
          3,
          3,
          3,
          3,
          2,
          2,
          2,
          2,
          1,
          1,
          1,
          1,
          1,
          1,
          1,
          1,
          1,
          1,
          1,
          1,
          1,
          1
         ],
         "yaxis": "y"
        },
        {
         "alignmentgroup": "True",
         "hovertemplate": "category_name=Howto & Style<br>channel_id=%{x}<br>video_id=%{y}<extra></extra>",
         "legendgroup": "Howto & Style",
         "marker": {
          "color": "#FF97FF",
          "pattern": {
           "shape": ""
          }
         },
         "name": "Howto & Style",
         "offsetgroup": "Howto & Style",
         "orientation": "v",
         "showlegend": true,
         "textposition": "auto",
         "type": "bar",
         "x": [
          "CHd4Fmc",
          "CHn64fS",
          "CHVXx89",
          "CHIZ5rC",
          "CHBTytr",
          "CHKrhyP",
          "CHzIOIS",
          "CHy2WX3",
          "CHWrh9h",
          "CH2gasv",
          "CHZCvbW",
          "CHj8zZ1",
          "CHp94pz",
          "CHKm-cu",
          "CH6LBdA",
          "CH8wHwv",
          "CHiNS0K",
          "CHyn7ao",
          "CHuFGPh",
          "CH2xkO7",
          "CHrpB5P",
          "CHpg89Y",
          "CHkxvX8",
          "CHvil4O",
          "CHL01un",
          "CH1g9Ja",
          "CH2DHU9",
          "CH5xK2X",
          "CHCG6BE",
          "CHLduRr",
          "CHWRb5Q",
          "CHWdmhZ",
          "CHXGh59",
          "CHayVh6",
          "CHcTWmz",
          "CHnCyCL",
          "CHnZ8qy",
          "CHnekLi",
          "CHrxSR4",
          "CHxjZ0G",
          "CHz72_x",
          "CH5q0PI",
          "CH1UebY",
          "CH1EEpE"
         ],
         "xaxis": "x",
         "y": [
          8,
          7,
          6,
          6,
          6,
          6,
          5,
          5,
          5,
          4,
          4,
          4,
          4,
          3,
          3,
          3,
          3,
          3,
          2,
          2,
          2,
          2,
          2,
          2,
          2,
          2,
          1,
          1,
          1,
          1,
          1,
          1,
          1,
          1,
          1,
          1,
          1,
          1,
          1,
          1,
          1,
          1,
          1,
          1
         ],
         "yaxis": "y"
        },
        {
         "alignmentgroup": "True",
         "hovertemplate": "category_name=Gaming<br>channel_id=%{x}<br>video_id=%{y}<extra></extra>",
         "legendgroup": "Gaming",
         "marker": {
          "color": "#FECB52",
          "pattern": {
           "shape": ""
          }
         },
         "name": "Gaming",
         "offsetgroup": "Gaming",
         "orientation": "v",
         "showlegend": true,
         "textposition": "auto",
         "type": "bar",
         "x": [
          "CH8CIM3",
          "CHdrBnB",
          "CHxM_h0",
          "CHw1Dsw",
          "CHefUNE",
          "CHooLkG",
          "CH9_093",
          "CHBUNoF",
          "CHDBAVz",
          "CHzgNzU",
          "CHBA9Xa",
          "CHAOTbN",
          "CH31ypO",
          "CHom6Yh",
          "CHU_hKD",
          "CHmCNgL",
          "CHSOeJW",
          "CH2NFRq",
          "CH48NSS",
          "CH8C0Yd",
          "CH9-LID",
          "CH9aEa6",
          "CHBrb8H",
          "CHDyc0_",
          "CHGIY_O",
          "CHHxKSi",
          "CHK3p1w",
          "CHMPM0h",
          "CHNzcxC",
          "CHOKQpm",
          "CHY9pEH",
          "CHcum1r",
          "CHmMxEF",
          "CHeHFCf",
          "CHeudxd",
          "CHfycsf",
          "CHg7rkx",
          "CHj-6sZ",
          "CHlJspS",
          "CHms8Ge",
          "CHyTB7U",
          "CHnss3B",
          "CHoyaxd",
          "CHpDtPd",
          "CHpYaDy",
          "CHta_NR",
          "CHuOUU4"
         ],
         "xaxis": "x",
         "y": [
          7,
          6,
          3,
          3,
          3,
          3,
          3,
          3,
          3,
          3,
          2,
          2,
          2,
          2,
          2,
          2,
          1,
          1,
          1,
          1,
          1,
          1,
          1,
          1,
          1,
          1,
          1,
          1,
          1,
          1,
          1,
          1,
          1,
          1,
          1,
          1,
          1,
          1,
          1,
          1,
          1,
          1,
          1,
          1,
          1,
          1,
          1
         ],
         "yaxis": "y"
        },
        {
         "alignmentgroup": "True",
         "hovertemplate": "category_name=Travel & Events<br>channel_id=%{x}<br>video_id=%{y}<extra></extra>",
         "legendgroup": "Travel & Events",
         "marker": {
          "color": "#636efa",
          "pattern": {
           "shape": ""
          }
         },
         "name": "Travel & Events",
         "offsetgroup": "Travel & Events",
         "orientation": "v",
         "showlegend": true,
         "textposition": "auto",
         "type": "bar",
         "x": [
          "CHlRNDV",
          "CHFw4M1",
          "CH4KYnI",
          "CHFCtZJ",
          "CHPDdt9",
          "CHPll9Z",
          "CHa0aTy",
          "CHMZO-3",
          "CH673sG",
          "CHsLoTw"
         ],
         "xaxis": "x",
         "y": [
          7,
          3,
          2,
          2,
          2,
          2,
          2,
          1,
          1,
          1
         ],
         "yaxis": "y"
        },
        {
         "alignmentgroup": "True",
         "hovertemplate": "category_name=Science & Technology<br>channel_id=%{x}<br>video_id=%{y}<extra></extra>",
         "legendgroup": "Science & Technology",
         "marker": {
          "color": "#EF553B",
          "pattern": {
           "shape": ""
          }
         },
         "name": "Science & Technology",
         "offsetgroup": "Science & Technology",
         "orientation": "v",
         "showlegend": true,
         "textposition": "auto",
         "type": "bar",
         "x": [
          "CHdUcjk",
          "CH3dJKw",
          "CHJJ_n7",
          "CHIk1-y",
          "CHFX6ad",
          "CHE_M8A",
          "CHB11SA",
          "CHUkuuo",
          "CH_0oo0",
          "CHJiv3w",
          "CHO4RG1",
          "CHWnC1r",
          "CHWwgaK",
          "CHYAvG7",
          "CHb-Abq",
          "CHdpbqw",
          "CHj-MI9",
          "CHrBpV_",
          "CHJKZoV",
          "CH5aNQ6"
         ],
         "xaxis": "x",
         "y": [
          7,
          3,
          3,
          2,
          2,
          2,
          2,
          2,
          2,
          1,
          1,
          1,
          1,
          1,
          1,
          1,
          1,
          1,
          1,
          1
         ],
         "yaxis": "y"
        },
        {
         "alignmentgroup": "True",
         "hovertemplate": "category_name=Pets & Animals<br>channel_id=%{x}<br>video_id=%{y}<extra></extra>",
         "legendgroup": "Pets & Animals",
         "marker": {
          "color": "#00cc96",
          "pattern": {
           "shape": ""
          }
         },
         "name": "Pets & Animals",
         "offsetgroup": "Pets & Animals",
         "orientation": "v",
         "showlegend": true,
         "textposition": "auto",
         "type": "bar",
         "x": [
          "CH29-Il",
          "CH69l_r",
          "CHAhKKb",
          "CHOp66V",
          "CHgsgpE",
          "CHi_IoQ",
          "CH22go5",
          "CHOv1v2",
          "CHPTM-N",
          "CHHLDBh",
          "CH3PSZi",
          "CHkuA_g",
          "CHETBLy",
          "CH89A41",
          "CHHXnna",
          "CH-IYpd",
          "CH04-af",
          "CH5AAf4",
          "CHHgL0B",
          "CHP1CQH",
          "CHX2laR",
          "CHa2LU4",
          "CHd1TDy",
          "CHf0Mkc",
          "CHj-rqv",
          "CHtbOb9",
          "CHzjDgV"
         ],
         "xaxis": "x",
         "y": [
          6,
          5,
          5,
          4,
          4,
          4,
          4,
          3,
          3,
          3,
          3,
          3,
          2,
          2,
          2,
          1,
          1,
          1,
          1,
          1,
          1,
          1,
          1,
          1,
          1,
          1,
          1
         ],
         "yaxis": "y"
        },
        {
         "alignmentgroup": "True",
         "hovertemplate": "category_name=Autos & Vehicles<br>channel_id=%{x}<br>video_id=%{y}<extra></extra>",
         "legendgroup": "Autos & Vehicles",
         "marker": {
          "color": "#ab63fa",
          "pattern": {
           "shape": ""
          }
         },
         "name": "Autos & Vehicles",
         "offsetgroup": "Autos & Vehicles",
         "orientation": "v",
         "showlegend": true,
         "textposition": "auto",
         "type": "bar",
         "x": [
          "CHPbxBh",
          "CHiubh7",
          "CHrOl7I",
          "CH2xkO7",
          "CHrXkDA",
          "CHd5CdY",
          "CHH5U89",
          "CHDpnvN",
          "CH5f97D",
          "CH-IBt8",
          "CHp0B9n",
          "CHKnKi2",
          "CHSkpiP",
          "CHWY41Q",
          "CHYVZ6z",
          "CH_rBRr",
          "CHkGHfa",
          "CHs2TmE",
          "CHyF14S"
         ],
         "xaxis": "x",
         "y": [
          3,
          3,
          3,
          2,
          2,
          2,
          2,
          2,
          2,
          1,
          1,
          1,
          1,
          1,
          1,
          1,
          1,
          1,
          1
         ],
         "yaxis": "y"
        },
        {
         "alignmentgroup": "True",
         "hovertemplate": "category_name=Nonprofits & Activism<br>channel_id=%{x}<br>video_id=%{y}<extra></extra>",
         "legendgroup": "Nonprofits & Activism",
         "marker": {
          "color": "#FFA15A",
          "pattern": {
           "shape": ""
          }
         },
         "name": "Nonprofits & Activism",
         "offsetgroup": "Nonprofits & Activism",
         "orientation": "v",
         "showlegend": true,
         "textposition": "auto",
         "type": "bar",
         "x": [
          "CHSsWdU"
         ],
         "xaxis": "x",
         "y": [
          1
         ],
         "yaxis": "y"
        },
        {
         "cells": {
          "align": "left",
          "values": [
           [
            "Autos & Vehicles",
            "Comedy",
            "Education",
            "Entertainment",
            "Film & Animation",
            "Gaming",
            "Howto & Style",
            "Music",
            "News & Politics",
            "Nonprofits & Activism",
            "People & Blogs",
            "Pets & Animals",
            "Science & Technology",
            "Sports",
            "Travel & Events"
           ],
           [
            19,
            50,
            27,
            312,
            27,
            47,
            44,
            98,
            56,
            1,
            166,
            27,
            20,
            66,
            10
           ],
           [
            1.63,
            3.34,
            2.41,
            3.06,
            2.74,
            1.7,
            2.7,
            2.39,
            2.89,
            1,
            2.48,
            2.41,
            1.8,
            3.36,
            2.3
           ],
           [
            3,
            14,
            10,
            17,
            13,
            7,
            8,
            13,
            11,
            1,
            14,
            6,
            7,
            15,
            7
           ],
           [
            1,
            1,
            1,
            1,
            1,
            1,
            1,
            1,
            1,
            1,
            1,
            1,
            1,
            1,
            1
           ],
           [
            31,
            167,
            65,
            954,
            74,
            80,
            119,
            234,
            162,
            1,
            411,
            65,
            36,
            222,
            23
           ]
          ]
         },
         "domain": {
          "x": [
           0,
           1
          ],
          "y": [
           0,
           0.475
          ]
         },
         "header": {
          "align": "left",
          "values": [
           "category_name",
           "video_id size",
           "video_id mean",
           "video_id max",
           "video_id min",
           "video_id sum"
          ]
         },
         "type": "table"
        }
       ],
       "layout": {
        "template": {
         "data": {
          "bar": [
           {
            "error_x": {
             "color": "#2a3f5f"
            },
            "error_y": {
             "color": "#2a3f5f"
            },
            "marker": {
             "line": {
              "color": "#E5ECF6",
              "width": 0.5
             },
             "pattern": {
              "fillmode": "overlay",
              "size": 10,
              "solidity": 0.2
             }
            },
            "type": "bar"
           }
          ],
          "barpolar": [
           {
            "marker": {
             "line": {
              "color": "#E5ECF6",
              "width": 0.5
             },
             "pattern": {
              "fillmode": "overlay",
              "size": 10,
              "solidity": 0.2
             }
            },
            "type": "barpolar"
           }
          ],
          "carpet": [
           {
            "aaxis": {
             "endlinecolor": "#2a3f5f",
             "gridcolor": "white",
             "linecolor": "white",
             "minorgridcolor": "white",
             "startlinecolor": "#2a3f5f"
            },
            "baxis": {
             "endlinecolor": "#2a3f5f",
             "gridcolor": "white",
             "linecolor": "white",
             "minorgridcolor": "white",
             "startlinecolor": "#2a3f5f"
            },
            "type": "carpet"
           }
          ],
          "choropleth": [
           {
            "colorbar": {
             "outlinewidth": 0,
             "ticks": ""
            },
            "type": "choropleth"
           }
          ],
          "contour": [
           {
            "colorbar": {
             "outlinewidth": 0,
             "ticks": ""
            },
            "colorscale": [
             [
              0,
              "#0d0887"
             ],
             [
              0.1111111111111111,
              "#46039f"
             ],
             [
              0.2222222222222222,
              "#7201a8"
             ],
             [
              0.3333333333333333,
              "#9c179e"
             ],
             [
              0.4444444444444444,
              "#bd3786"
             ],
             [
              0.5555555555555556,
              "#d8576b"
             ],
             [
              0.6666666666666666,
              "#ed7953"
             ],
             [
              0.7777777777777778,
              "#fb9f3a"
             ],
             [
              0.8888888888888888,
              "#fdca26"
             ],
             [
              1,
              "#f0f921"
             ]
            ],
            "type": "contour"
           }
          ],
          "contourcarpet": [
           {
            "colorbar": {
             "outlinewidth": 0,
             "ticks": ""
            },
            "type": "contourcarpet"
           }
          ],
          "heatmap": [
           {
            "colorbar": {
             "outlinewidth": 0,
             "ticks": ""
            },
            "colorscale": [
             [
              0,
              "#0d0887"
             ],
             [
              0.1111111111111111,
              "#46039f"
             ],
             [
              0.2222222222222222,
              "#7201a8"
             ],
             [
              0.3333333333333333,
              "#9c179e"
             ],
             [
              0.4444444444444444,
              "#bd3786"
             ],
             [
              0.5555555555555556,
              "#d8576b"
             ],
             [
              0.6666666666666666,
              "#ed7953"
             ],
             [
              0.7777777777777778,
              "#fb9f3a"
             ],
             [
              0.8888888888888888,
              "#fdca26"
             ],
             [
              1,
              "#f0f921"
             ]
            ],
            "type": "heatmap"
           }
          ],
          "heatmapgl": [
           {
            "colorbar": {
             "outlinewidth": 0,
             "ticks": ""
            },
            "colorscale": [
             [
              0,
              "#0d0887"
             ],
             [
              0.1111111111111111,
              "#46039f"
             ],
             [
              0.2222222222222222,
              "#7201a8"
             ],
             [
              0.3333333333333333,
              "#9c179e"
             ],
             [
              0.4444444444444444,
              "#bd3786"
             ],
             [
              0.5555555555555556,
              "#d8576b"
             ],
             [
              0.6666666666666666,
              "#ed7953"
             ],
             [
              0.7777777777777778,
              "#fb9f3a"
             ],
             [
              0.8888888888888888,
              "#fdca26"
             ],
             [
              1,
              "#f0f921"
             ]
            ],
            "type": "heatmapgl"
           }
          ],
          "histogram": [
           {
            "marker": {
             "pattern": {
              "fillmode": "overlay",
              "size": 10,
              "solidity": 0.2
             }
            },
            "type": "histogram"
           }
          ],
          "histogram2d": [
           {
            "colorbar": {
             "outlinewidth": 0,
             "ticks": ""
            },
            "colorscale": [
             [
              0,
              "#0d0887"
             ],
             [
              0.1111111111111111,
              "#46039f"
             ],
             [
              0.2222222222222222,
              "#7201a8"
             ],
             [
              0.3333333333333333,
              "#9c179e"
             ],
             [
              0.4444444444444444,
              "#bd3786"
             ],
             [
              0.5555555555555556,
              "#d8576b"
             ],
             [
              0.6666666666666666,
              "#ed7953"
             ],
             [
              0.7777777777777778,
              "#fb9f3a"
             ],
             [
              0.8888888888888888,
              "#fdca26"
             ],
             [
              1,
              "#f0f921"
             ]
            ],
            "type": "histogram2d"
           }
          ],
          "histogram2dcontour": [
           {
            "colorbar": {
             "outlinewidth": 0,
             "ticks": ""
            },
            "colorscale": [
             [
              0,
              "#0d0887"
             ],
             [
              0.1111111111111111,
              "#46039f"
             ],
             [
              0.2222222222222222,
              "#7201a8"
             ],
             [
              0.3333333333333333,
              "#9c179e"
             ],
             [
              0.4444444444444444,
              "#bd3786"
             ],
             [
              0.5555555555555556,
              "#d8576b"
             ],
             [
              0.6666666666666666,
              "#ed7953"
             ],
             [
              0.7777777777777778,
              "#fb9f3a"
             ],
             [
              0.8888888888888888,
              "#fdca26"
             ],
             [
              1,
              "#f0f921"
             ]
            ],
            "type": "histogram2dcontour"
           }
          ],
          "mesh3d": [
           {
            "colorbar": {
             "outlinewidth": 0,
             "ticks": ""
            },
            "type": "mesh3d"
           }
          ],
          "parcoords": [
           {
            "line": {
             "colorbar": {
              "outlinewidth": 0,
              "ticks": ""
             }
            },
            "type": "parcoords"
           }
          ],
          "pie": [
           {
            "automargin": true,
            "type": "pie"
           }
          ],
          "scatter": [
           {
            "marker": {
             "colorbar": {
              "outlinewidth": 0,
              "ticks": ""
             }
            },
            "type": "scatter"
           }
          ],
          "scatter3d": [
           {
            "line": {
             "colorbar": {
              "outlinewidth": 0,
              "ticks": ""
             }
            },
            "marker": {
             "colorbar": {
              "outlinewidth": 0,
              "ticks": ""
             }
            },
            "type": "scatter3d"
           }
          ],
          "scattercarpet": [
           {
            "marker": {
             "colorbar": {
              "outlinewidth": 0,
              "ticks": ""
             }
            },
            "type": "scattercarpet"
           }
          ],
          "scattergeo": [
           {
            "marker": {
             "colorbar": {
              "outlinewidth": 0,
              "ticks": ""
             }
            },
            "type": "scattergeo"
           }
          ],
          "scattergl": [
           {
            "marker": {
             "colorbar": {
              "outlinewidth": 0,
              "ticks": ""
             }
            },
            "type": "scattergl"
           }
          ],
          "scattermapbox": [
           {
            "marker": {
             "colorbar": {
              "outlinewidth": 0,
              "ticks": ""
             }
            },
            "type": "scattermapbox"
           }
          ],
          "scatterpolar": [
           {
            "marker": {
             "colorbar": {
              "outlinewidth": 0,
              "ticks": ""
             }
            },
            "type": "scatterpolar"
           }
          ],
          "scatterpolargl": [
           {
            "marker": {
             "colorbar": {
              "outlinewidth": 0,
              "ticks": ""
             }
            },
            "type": "scatterpolargl"
           }
          ],
          "scatterternary": [
           {
            "marker": {
             "colorbar": {
              "outlinewidth": 0,
              "ticks": ""
             }
            },
            "type": "scatterternary"
           }
          ],
          "surface": [
           {
            "colorbar": {
             "outlinewidth": 0,
             "ticks": ""
            },
            "colorscale": [
             [
              0,
              "#0d0887"
             ],
             [
              0.1111111111111111,
              "#46039f"
             ],
             [
              0.2222222222222222,
              "#7201a8"
             ],
             [
              0.3333333333333333,
              "#9c179e"
             ],
             [
              0.4444444444444444,
              "#bd3786"
             ],
             [
              0.5555555555555556,
              "#d8576b"
             ],
             [
              0.6666666666666666,
              "#ed7953"
             ],
             [
              0.7777777777777778,
              "#fb9f3a"
             ],
             [
              0.8888888888888888,
              "#fdca26"
             ],
             [
              1,
              "#f0f921"
             ]
            ],
            "type": "surface"
           }
          ],
          "table": [
           {
            "cells": {
             "fill": {
              "color": "#EBF0F8"
             },
             "line": {
              "color": "white"
             }
            },
            "header": {
             "fill": {
              "color": "#C8D4E3"
             },
             "line": {
              "color": "white"
             }
            },
            "type": "table"
           }
          ]
         },
         "layout": {
          "annotationdefaults": {
           "arrowcolor": "#2a3f5f",
           "arrowhead": 0,
           "arrowwidth": 1
          },
          "autotypenumbers": "strict",
          "coloraxis": {
           "colorbar": {
            "outlinewidth": 0,
            "ticks": ""
           }
          },
          "colorscale": {
           "diverging": [
            [
             0,
             "#8e0152"
            ],
            [
             0.1,
             "#c51b7d"
            ],
            [
             0.2,
             "#de77ae"
            ],
            [
             0.3,
             "#f1b6da"
            ],
            [
             0.4,
             "#fde0ef"
            ],
            [
             0.5,
             "#f7f7f7"
            ],
            [
             0.6,
             "#e6f5d0"
            ],
            [
             0.7,
             "#b8e186"
            ],
            [
             0.8,
             "#7fbc41"
            ],
            [
             0.9,
             "#4d9221"
            ],
            [
             1,
             "#276419"
            ]
           ],
           "sequential": [
            [
             0,
             "#0d0887"
            ],
            [
             0.1111111111111111,
             "#46039f"
            ],
            [
             0.2222222222222222,
             "#7201a8"
            ],
            [
             0.3333333333333333,
             "#9c179e"
            ],
            [
             0.4444444444444444,
             "#bd3786"
            ],
            [
             0.5555555555555556,
             "#d8576b"
            ],
            [
             0.6666666666666666,
             "#ed7953"
            ],
            [
             0.7777777777777778,
             "#fb9f3a"
            ],
            [
             0.8888888888888888,
             "#fdca26"
            ],
            [
             1,
             "#f0f921"
            ]
           ],
           "sequentialminus": [
            [
             0,
             "#0d0887"
            ],
            [
             0.1111111111111111,
             "#46039f"
            ],
            [
             0.2222222222222222,
             "#7201a8"
            ],
            [
             0.3333333333333333,
             "#9c179e"
            ],
            [
             0.4444444444444444,
             "#bd3786"
            ],
            [
             0.5555555555555556,
             "#d8576b"
            ],
            [
             0.6666666666666666,
             "#ed7953"
            ],
            [
             0.7777777777777778,
             "#fb9f3a"
            ],
            [
             0.8888888888888888,
             "#fdca26"
            ],
            [
             1,
             "#f0f921"
            ]
           ]
          },
          "colorway": [
           "#636efa",
           "#EF553B",
           "#00cc96",
           "#ab63fa",
           "#FFA15A",
           "#19d3f3",
           "#FF6692",
           "#B6E880",
           "#FF97FF",
           "#FECB52"
          ],
          "font": {
           "color": "#2a3f5f"
          },
          "geo": {
           "bgcolor": "white",
           "lakecolor": "white",
           "landcolor": "#E5ECF6",
           "showlakes": true,
           "showland": true,
           "subunitcolor": "white"
          },
          "hoverlabel": {
           "align": "left"
          },
          "hovermode": "closest",
          "mapbox": {
           "style": "light"
          },
          "paper_bgcolor": "white",
          "plot_bgcolor": "#E5ECF6",
          "polar": {
           "angularaxis": {
            "gridcolor": "white",
            "linecolor": "white",
            "ticks": ""
           },
           "bgcolor": "#E5ECF6",
           "radialaxis": {
            "gridcolor": "white",
            "linecolor": "white",
            "ticks": ""
           }
          },
          "scene": {
           "xaxis": {
            "backgroundcolor": "#E5ECF6",
            "gridcolor": "white",
            "gridwidth": 2,
            "linecolor": "white",
            "showbackground": true,
            "ticks": "",
            "zerolinecolor": "white"
           },
           "yaxis": {
            "backgroundcolor": "#E5ECF6",
            "gridcolor": "white",
            "gridwidth": 2,
            "linecolor": "white",
            "showbackground": true,
            "ticks": "",
            "zerolinecolor": "white"
           },
           "zaxis": {
            "backgroundcolor": "#E5ECF6",
            "gridcolor": "white",
            "gridwidth": 2,
            "linecolor": "white",
            "showbackground": true,
            "ticks": "",
            "zerolinecolor": "white"
           }
          },
          "shapedefaults": {
           "line": {
            "color": "#2a3f5f"
           }
          },
          "ternary": {
           "aaxis": {
            "gridcolor": "white",
            "linecolor": "white",
            "ticks": ""
           },
           "baxis": {
            "gridcolor": "white",
            "linecolor": "white",
            "ticks": ""
           },
           "bgcolor": "#E5ECF6",
           "caxis": {
            "gridcolor": "white",
            "linecolor": "white",
            "ticks": ""
           }
          },
          "title": {
           "x": 0.05
          },
          "xaxis": {
           "automargin": true,
           "gridcolor": "white",
           "linecolor": "white",
           "ticks": "",
           "title": {
            "standoff": 15
           },
           "zerolinecolor": "white",
           "zerolinewidth": 2
          },
          "yaxis": {
           "automargin": true,
           "gridcolor": "white",
           "linecolor": "white",
           "ticks": "",
           "title": {
            "standoff": 15
           },
           "zerolinecolor": "white",
           "zerolinewidth": 2
          }
         }
        },
        "xaxis": {
         "anchor": "y",
         "domain": [
          0,
          1
         ]
        },
        "yaxis": {
         "anchor": "x",
         "domain": [
          0.525,
          1
         ]
        }
       }
      },
      "text/html": [
       "<div>                            <div id=\"81cb35c1-5229-407f-9dca-06840f2c5ab3\" class=\"plotly-graph-div\" style=\"height:525px; width:100%;\"></div>            <script type=\"text/javascript\">                require([\"plotly\"], function(Plotly) {                    window.PLOTLYENV=window.PLOTLYENV || {};                                    if (document.getElementById(\"81cb35c1-5229-407f-9dca-06840f2c5ab3\")) {                    Plotly.newPlot(                        \"81cb35c1-5229-407f-9dca-06840f2c5ab3\",                        [{\"alignmentgroup\":\"True\",\"hovertemplate\":\"category_name=Entertainment<br>channel_id=%{x}<br>video_id=%{y}<extra></extra>\",\"legendgroup\":\"Entertainment\",\"marker\":{\"color\":\"#636efa\",\"pattern\":{\"shape\":\"\"}},\"name\":\"Entertainment\",\"offsetgroup\":\"Entertainment\",\"orientation\":\"v\",\"showlegend\":true,\"textposition\":\"auto\",\"x\":[\"CHQ2O-i\",\"CHlzB2i\",\"CHiwQRG\",\"CHaKod3\",\"CHx6jsZ\",\"CHUyfkq\",\"CHkxbPw\",\"CH0PsUG\",\"CH0VR2v\",\"CHpjm6R\",\"CHPx-7A\",\"CHwx6n_\",\"CHEwOn7\",\"CHKxLXX\",\"CHk6bX-\",\"CHVWmCR\",\"CHhgOgR\",\"CHy-swB\",\"CHWYzc_\",\"CHmjNKt\",\"CHwNVDl\",\"CH1L79y\",\"CHIUfR-\",\"CHbCr1d\",\"CH78PMQ\",\"CHtDcEb\",\"CHiBKp3\",\"CHFL1sC\",\"CHyozK5\",\"CHqHP70\",\"CHZf4ZE\",\"CHqq-ov\",\"CHnx4Fi\",\"CHsRIHt\",\"CHIA-LP\",\"CH3re3u\",\"CHCfQK8\",\"CH8OUSY\",\"CHEIi7z\",\"CH1cWTE\",\"CHcOYEm\",\"CHYtjW8\",\"CHhE5nZ\",\"CHPde4g\",\"CHOHM2N\",\"CHNIiH_\",\"CHbD8Ep\",\"CH920m3\",\"CHdWgRS\",\"CHeSHil\",\"CHYyLIl\",\"CHJmcPV\",\"CHYZv9v\",\"CHnLeqv\",\"CHXZx95\",\"CHK1sVu\",\"CHExw7_\",\"CHTuthm\",\"CHTnafh\",\"CHQNRHp\",\"CHHzW_7\",\"CHiEEF5\",\"CHj-dur\",\"CH3SyT4\",\"CHriPmQ\",\"CHs1R9z\",\"CHs8R3n\",\"CH2E-9A\",\"CH6erID\",\"CH5Ida8\",\"CHxQXvv\",\"CH9idb-\",\"CH5bUcn\",\"CHy-NrX\",\"CHoXoV4\",\"CHTQVIX\",\"CHRMA_N\",\"CHweOkP\",\"CHXaYpH\",\"CHmbGE7\",\"CHybPxZ\",\"CHbuks6\",\"CHbEp_Z\",\"CHZVD--\",\"CHpPXYy\",\"CH9HNi_\",\"CHYn09y\",\"CHYgUhR\",\"CHy1fru\",\"CHhY4PX\",\"CHObJpv\",\"CHm2PiW\",\"CHMGn0N\",\"CHrSase\",\"CH46BbE\",\"CHiBr0b\",\"CHF3UEV\",\"CHF8W68\",\"CHkbJc8\",\"CHmONdw\",\"CHsNVs6\",\"CHmgt7e\",\"CHr0ade\",\"CHsOW9T\",\"CHi9Sl8\",\"CHepUWU\",\"CHk5bhZ\",\"CHoCvTl\",\"CHoUDrz\",\"CHuTKrQ\",\"CHrhH1d\",\"CHhLGxP\",\"CHgsffS\",\"CHgiO7K\",\"CHgeeQu\",\"CHgZlBR\",\"CHjGoJb\",\"CHjToDB\",\"CHtckgm\",\"CHkjXq1\",\"CH-VbFg\",\"CH2qjHK\",\"CH3m0s5\",\"CH8WoHU\",\"CH9nLq3\",\"CHDb1t5\",\"CHEI4rb\",\"CHEX1cZ\",\"CHGrfaH\",\"CHGsJRp\",\"CHH1oRy\",\"CHUnSdg\",\"CHWhiqH\",\"CHY2uWQ\",\"CHZCH_G\",\"CH_Fxf0\",\"CH_pOKL\",\"CHaNGiz\",\"CHKdfNL\",\"CHLVwgJ\",\"CHIueAL\",\"CHIY5oU\",\"CHB9e3p\",\"CH-BqPA\",\"CH_plsx\",\"CHaZS_X\",\"CHb-y7Y\",\"CHbVRtq\",\"CHcTWmz\",\"CH73yn5\",\"CHe-gh0\",\"CHem8l1\",\"CHfWZns\",\"CHg3Ydm\",\"CH68buD\",\"CHYSjF7\",\"CH2tfQf\",\"CHLynj-\",\"CH2IIBY\",\"CHM31rB\",\"CHMtFAi\",\"CHNQL3R\",\"CH4JAFO\",\"CHR5cyf\",\"CHRLM0M\",\"CH1HHeT\",\"CHS_hnp\",\"CH4nEQI\",\"CHHlSeJ\",\"CH5BMQO\",\"CH-giR4\",\"CHUXYT0\",\"CHUj6rr\",\"CHVyhgR\",\"CHYC3ZZ\",\"CHg8U-Z\",\"CHrhgVH\",\"CHu9BCt\",\"CHudezj\",\"CHvAewW\",\"CHxLc0z\",\"CHxmBxN\",\"CH9w-h_\",\"CHBI8xZ\",\"CHLKugl\",\"CHreX6A\",\"CHoW9qW\",\"CHj28Fv\",\"CHkQCwn\",\"CHDih-8\",\"CHl_tB4\",\"CH81Kll\",\"CHmApNd\",\"CHnNNN_\",\"CHnNfsL\",\"CHoQIdt\",\"CHrLUuZ\",\"CHDhM2k\",\"CHp0hYY\",\"CHod5V2\",\"CHNE1pY\",\"CHOJplh\",\"CHOtCBu\",\"CHOzWaj\",\"CHPECLB\",\"CHPKNKl\",\"CHRWzK4\",\"CHSB5FO\",\"CHSQ55i\",\"CHT2X19\",\"CHTOUUd\",\"CHTS3Lw\",\"CHTmrCB\",\"CHU8MOm\",\"CHVXN28\",\"CHWJg0Q\",\"CHNl-TU\",\"CHLtOnh\",\"CHtgggh\",\"CHLF1hN\",\"CHC1LvV\",\"CHCCjbf\",\"CHEkcg9\",\"CHFg6o2\",\"CHG0Jec\",\"CHGMHKj\",\"CHGWhMp\",\"CHGnfBj\",\"CHGrAnV\",\"CHHcDLO\",\"CHI5WgF\",\"CHIn1p2\",\"CHIuteB\",\"CHK3p1w\",\"CHKuwp5\",\"CHWstBK\",\"CHXiyTP\",\"CHYIxlZ\",\"CHYeeEw\",\"CHfugxK\",\"CHhK2Dh\",\"CHhpiLQ\",\"CHhqMfc\",\"CHiP6DC\",\"CHid83o\",\"CHjkoqt\",\"CHkPp7P\",\"CHpBkdV\",\"CHpK0ae\",\"CHrjVVh\",\"CHrnPse\",\"CHsM07d\",\"CHsU2Rl\",\"CHseQwR\",\"CHfnMSb\",\"CHffY-g\",\"CHfela5\",\"CHb2wZp\",\"CHYmo0H\",\"CHZECMC\",\"CHZTPmB\",\"CHZtpUg\",\"CH_6zPf\",\"CHa56qk\",\"CHbY7nf\",\"CHfdYUR\",\"CHbs5PG\",\"CHchRZl\",\"CHclwLh\",\"CHdUlCa\",\"CHe_oTY\",\"CHed3O-\",\"CHBwCGr\",\"CHBpzJv\",\"CHBOs39\",\"CHB-ogY\",\"CH35HKv\",\"CH3Ea2-\",\"CH3W3kE\",\"CH49ta0\",\"CH4LW3s\",\"CH4qc3p\",\"CH5q0PI\",\"CH5zXl0\",\"CH6wiUw\",\"CH7Krez\",\"CH7QX2Y\",\"CH88r6m\",\"CH8RGSE\",\"CH9kUsu\",\"CHAP8OK\",\"CH2aMxQ\",\"CH2KEmF\",\"CH2DoAr\",\"CH-Jblc\",\"CH-VOS6\",\"CH2DHU9\",\"CH1-lwA\",\"CH12YJZ\",\"CH18g7g\",\"CH1LWEy\",\"CH2-Lri\",\"CH271vX\",\"CHtCW8q\",\"CHtkQiK\",\"CHtp1ok\",\"CHuw1hx\",\"CHvScwM\",\"CHwZTee\",\"CHxjERP\",\"CHybzQL\",\"CHzt24f\"],\"xaxis\":\"x\",\"y\":[17,14,14,11,10,10,9,9,9,9,8,8,8,8,8,8,8,8,8,8,7,7,7,7,7,7,7,7,7,7,7,7,7,6,6,6,6,6,6,6,6,6,6,6,6,6,6,5,5,5,5,5,5,5,5,5,5,5,5,5,5,5,5,5,5,5,5,5,5,5,4,4,4,4,4,4,4,4,4,4,4,4,4,4,4,4,4,4,4,4,4,4,4,4,4,4,4,4,3,3,3,3,3,3,3,3,3,3,3,3,3,3,3,3,3,3,3,3,3,3,3,3,3,3,3,3,3,3,3,3,3,3,3,3,3,3,3,3,3,3,3,3,2,2,2,2,2,2,2,2,2,2,2,2,2,2,2,2,2,2,2,2,2,2,2,2,2,2,2,2,2,2,2,2,2,2,2,2,2,2,2,2,2,2,2,2,2,2,2,2,2,2,2,2,2,2,2,2,2,2,1,1,1,1,1,1,1,1,1,1,1,1,1,1,1,1,1,1,1,1,1,1,1,1,1,1,1,1,1,1,1,1,1,1,1,1,1,1,1,1,1,1,1,1,1,1,1,1,1,1,1,1,1,1,1,1,1,1,1,1,1,1,1,1,1,1,1,1,1,1,1,1,1,1,1,1,1,1,1,1,1,1,1,1,1,1,1,1,1,1,1,1,1,1,1,1,1,1,1,1,1,1,1,1,1,1,1,1,1,1,1,1],\"yaxis\":\"y\",\"type\":\"bar\"},{\"alignmentgroup\":\"True\",\"hovertemplate\":\"category_name=Sports<br>channel_id=%{x}<br>video_id=%{y}<extra></extra>\",\"legendgroup\":\"Sports\",\"marker\":{\"color\":\"#EF553B\",\"pattern\":{\"shape\":\"\"}},\"name\":\"Sports\",\"offsetgroup\":\"Sports\",\"orientation\":\"v\",\"showlegend\":true,\"textposition\":\"auto\",\"x\":[\"CHtybqq\",\"CHtm_Qo\",\"CHUQVGX\",\"CHunsfa\",\"CHYRrUD\",\"CHpjOmw\",\"CHdTDdy\",\"CHhg51l\",\"CHnXNuk\",\"CH2qVOO\",\"CHArK9M\",\"CHoLrcj\",\"CHkFGfv\",\"CHk4XjB\",\"CHgp0KT\",\"CHdtRAc\",\"CHdhukF\",\"CHhb4gt\",\"CHoe-0E\",\"CHqsKWT\",\"CHDIB1D\",\"CHQ4eZw\",\"CH218FQ\",\"CHc7o0O\",\"CHcQTRi\",\"CHEg25r\",\"CHZeHMS\",\"CHCA4-e\",\"CHfHsXd\",\"CH7JbUm\",\"CHh4APi\",\"CHhI3EX\",\"CHQ2TX8\",\"CHRDowc\",\"CHvMwK5\",\"CHtctOX\",\"CHn9mJ4\",\"CHoHirU\",\"CH9pdRy\",\"CHG-Q7s\",\"CHD902z\",\"CHET00Y\",\"CHChcWq\",\"CH9LQwH\",\"CHBKMc4\",\"CHI0FxD\",\"CH7YF5m\",\"CHINRJx\",\"CHKHLAo\",\"CHP6Cn6\",\"CHt8iRt\",\"CHt7dVd\",\"CHmKTwX\",\"CHi84e1\",\"CHgIArN\",\"CHbhuEJ\",\"CHZSNhO\",\"CHYJDUe\",\"CHX0xc2\",\"CHUXDKi\",\"CHTv-Xv\",\"CHTqenv\",\"CHPxCAB\",\"CH4yq3F\",\"CH3GEDF\",\"CH4_uws\"],\"xaxis\":\"x\",\"y\":[15,12,10,9,8,7,7,7,7,7,6,6,6,6,6,6,5,5,5,5,5,4,4,4,4,3,3,2,2,2,2,2,2,2,2,2,2,2,1,1,1,1,1,1,1,1,1,1,1,1,1,1,1,1,1,1,1,1,1,1,1,1,1,1,1,1],\"yaxis\":\"y\",\"type\":\"bar\"},{\"alignmentgroup\":\"True\",\"hovertemplate\":\"category_name=Comedy<br>channel_id=%{x}<br>video_id=%{y}<extra></extra>\",\"legendgroup\":\"Comedy\",\"marker\":{\"color\":\"#00cc96\",\"pattern\":{\"shape\":\"\"}},\"name\":\"Comedy\",\"offsetgroup\":\"Comedy\",\"orientation\":\"v\",\"showlegend\":true,\"textposition\":\"auto\",\"x\":[\"CHmzMtX\",\"CHhbE5O\",\"CHg-p3l\",\"CHyCL5k\",\"CHZ0dIs\",\"CHGX5sP\",\"CHSc2Dc\",\"CHt_UFh\",\"CHqsPmf\",\"CHgBLs7\",\"CHRykAt\",\"CHR-qpX\",\"CHEUL40\",\"CH9nFMA\",\"CHe9f9M\",\"CH20WKI\",\"CH9ZLv1\",\"CHIuFnJ\",\"CH0SoPw\",\"CH6KwCU\",\"CH8-Th8\",\"CHN8CPz\",\"CHhvXm5\",\"CHzjiRW\",\"CHsJ6Ru\",\"CHghP93\",\"CHVsBCf\",\"CHV3i3l\",\"CHPwGQu\",\"CHK3p1w\",\"CH_gaUd\",\"CHbGXAe\",\"CHd-Sfb\",\"CHfU6o0\",\"CHg8U-Z\",\"CHivkx6\",\"CHmCNgL\",\"CHmHMsJ\",\"CHoe_Vp\",\"CHr9-Mp\",\"CHyh4ZG\",\"CHYACix\",\"CHQmu3U\",\"CHMVC92\",\"CHJpGg1\",\"CH2o_y8\",\"CH69uMh\",\"CHCjJV_\",\"CHD2YO_\",\"CHDCAyS\"],\"xaxis\":\"x\",\"y\":[14,11,10,9,9,7,7,5,5,5,5,5,5,5,4,4,4,4,3,3,3,3,3,2,2,2,2,2,2,2,1,1,1,1,1,1,1,1,1,1,1,1,1,1,1,1,1,1,1,1],\"yaxis\":\"y\",\"type\":\"bar\"},{\"alignmentgroup\":\"True\",\"hovertemplate\":\"category_name=People & Blogs<br>channel_id=%{x}<br>video_id=%{y}<extra></extra>\",\"legendgroup\":\"People & Blogs\",\"marker\":{\"color\":\"#ab63fa\",\"pattern\":{\"shape\":\"\"}},\"name\":\"People & Blogs\",\"offsetgroup\":\"People & Blogs\",\"orientation\":\"v\",\"showlegend\":true,\"textposition\":\"auto\",\"x\":[\"CHIG4gr\",\"CHtfriF\",\"CHZ1wYQ\",\"CHfpaSr\",\"CHkkWd0\",\"CHoQy2w\",\"CHtkRVa\",\"CHDV9zg\",\"CHXTyJZ\",\"CHpH3rU\",\"CHYnfy2\",\"CHbFzvz\",\"CHRzS1N\",\"CHuDLnJ\",\"CHppou5\",\"CH6lNIb\",\"CHASfMq\",\"CHPZ4e8\",\"CHOOKj-\",\"CHaZS_X\",\"CHXTQWs\",\"CHUyr50\",\"CHA6KBB\",\"CHzRDCw\",\"CHoPTIa\",\"CHqNN-b\",\"CH680xb\",\"CHs9H--\",\"CHsP57H\",\"CHK72hq\",\"CHKFvox\",\"CHKUz_7\",\"CH4MfUq\",\"CH4sIlW\",\"CH31-nU\",\"CH26QQC\",\"CHkh6Tl\",\"CHYt4St\",\"CHrFlv9\",\"CHXXlcP\",\"CHhK2Dh\",\"CHXURHJ\",\"CHfqVrM\",\"CHrRn4V\",\"CHrh6bu\",\"CHyG7zA\",\"CHychoc\",\"CH2KUew\",\"CH4DnB5\",\"CH1EiHI\",\"CHNBfRy\",\"CHONPqk\",\"CHRofX4\",\"CHSiGNr\",\"CHHR4kW\",\"CH-Bsa2\",\"CH0ssa8\",\"CH0wNau\",\"CHD2KRO\",\"CHjpCOk\",\"CH_EngQ\",\"CHE8SAl\",\"CHET3I7\",\"CHLJNGm\",\"CH5RION\",\"CHM64Ik\",\"CHcxK1U\",\"CH5QSBl\",\"CHd1TDy\",\"CHdfhK0\",\"CH48NSS\",\"CHheR9R\",\"CHPhHBE\",\"CHh-1iA\",\"CHAhKKb\",\"CH26M8b\",\"CHBkXIe\",\"CHBoQ8_\",\"CHwW_qU\",\"CHrLQ0o\",\"CHqsPmf\",\"CHoLQZ4\",\"CHnet0I\",\"CHmt37g\",\"CHld0ct\",\"CHu38Cq\",\"CHtn-l7\",\"CH7bRo3\",\"CH9gxOp\",\"CH7Krez\",\"CH8MVMe\",\"CH9G7V6\",\"CHl-tyx\",\"CH-KafR\",\"CH-YRx5\",\"CH-swYD\",\"CH0PsUG\",\"CH0wTMg\",\"CH2Q9aM\",\"CH2XG0i\",\"CH2tbZf\",\"CH47HAk\",\"CH1GHhg\",\"CHKkxVS\",\"CHa_ZCX\",\"CHaPILm\",\"CH_Fq5K\",\"CHZwG8g\",\"CHYDyvq\",\"CHuZu8N\",\"CHv0QY4\",\"CHvG7co\",\"CHvjhQp\",\"CHx_kYu\",\"CHyje3j\",\"CHyn-K7\",\"CHyuL_X\",\"CHzhyI5\",\"CHWycwu\",\"CHWqWR1\",\"CHW9DtK\",\"CHW945U\",\"CHaPqda\",\"CHb_-Xu\",\"CHBHJlM\",\"CHbzDJ6\",\"CHlSUMM\",\"CHkJNt3\",\"CHmfVvm\",\"CHjn-Vb\",\"CHjHn_O\",\"CHicKQU\",\"CHiMq04\",\"CHhtdyq\",\"CHhna8l\",\"CHhji-o\",\"CHrIxxm\",\"CHs29NQ\",\"CHemKWU\",\"CHelPbn\",\"CHtctOX\",\"CHdQk6g\",\"CHtfGLm\",\"CHcQ3rs\",\"CHc7een\",\"CHVyMrl\",\"CHUsoow\",\"CHH7JoV\",\"CHGiqkg\",\"CHGInHR\",\"CHFLlNL\",\"CHF8W68\",\"CHEu_YK\",\"CHCJ2b2\",\"CHC4Qcw\",\"CHJfDSu\",\"CHJko7d\",\"CHQTqoE\",\"CHUWU2s\",\"CHTx3aC\",\"CHQWylD\",\"CHknfGX\",\"CHNYi_z\",\"CHLItMt\",\"CHL-AUQ\",\"CHKmQlV\"],\"xaxis\":\"x\",\"y\":[14,13,10,10,10,9,8,8,8,8,7,6,6,5,5,4,4,4,4,4,4,4,4,4,4,4,4,4,4,4,4,4,4,4,4,4,3,3,3,3,3,3,3,3,3,3,3,3,3,3,3,3,3,3,3,2,2,2,2,2,2,2,2,2,2,2,2,2,2,2,2,2,2,2,2,2,2,2,2,2,2,2,2,2,2,2,2,1,1,1,1,1,1,1,1,1,1,1,1,1,1,1,1,1,1,1,1,1,1,1,1,1,1,1,1,1,1,1,1,1,1,1,1,1,1,1,1,1,1,1,1,1,1,1,1,1,1,1,1,1,1,1,1,1,1,1,1,1,1,1,1,1,1,1,1,1,1,1,1,1,1,1,1,1,1,1],\"yaxis\":\"y\",\"type\":\"bar\"},{\"alignmentgroup\":\"True\",\"hovertemplate\":\"category_name=Music<br>channel_id=%{x}<br>video_id=%{y}<extra></extra>\",\"legendgroup\":\"Music\",\"marker\":{\"color\":\"#FFA15A\",\"pattern\":{\"shape\":\"\"}},\"name\":\"Music\",\"offsetgroup\":\"Music\",\"orientation\":\"v\",\"showlegend\":true,\"textposition\":\"auto\",\"x\":[\"CHLkAep\",\"CHEf_Bc\",\"CHzCedB\",\"CHtCiO5\",\"CH3IZKs\",\"CH9GtSL\",\"CHaO6TY\",\"CHfkXDY\",\"CHviI9l\",\"CHeLPm9\",\"CHEbRSm\",\"CHabon8\",\"CH3WZlO\",\"CHoRXPc\",\"CHe52oe\",\"CHuKdaT\",\"CHyPwRg\",\"CHwgtOR\",\"CHuhAUM\",\"CHkJ1rb\",\"CHk2E0d\",\"CHRQ7Rw\",\"CHIcXK1\",\"CHHGJwr\",\"CH-FQUI\",\"CH6nxfR\",\"CH66yQ1\",\"CHPENYt\",\"CH9vrvN\",\"CHFipx4\",\"CHk9Gmd\",\"CHsXigG\",\"CHlYq3P\",\"CHmQdC1\",\"CHpbTKp\",\"CH_pwIX\",\"CH2KmG_\",\"CH-qYkz\",\"CHYDmx2\",\"CHdNMDR\",\"CHFEVXX\",\"CHGdZ_-\",\"CHGrAnV\",\"CHHX_FN\",\"CHI3Z79\",\"CHJVA-s\",\"CHKNZsA\",\"CHMIUx2\",\"CHNk_Ik\",\"CHR5cyf\",\"CHRp-tG\",\"CHTEWSE\",\"CHXIF1a\",\"CHY7unn\",\"CHaEIlQ\",\"CHcM_a-\",\"CHG1kwS\",\"CHEdZAd\",\"CHEUX9t\",\"CH3QWks\",\"CH4htMX\",\"CH6TJkB\",\"CH6c5iD\",\"CH6tU41\",\"CH7Qts0\",\"CH8qO5r\",\"CH9LcN9\",\"CHACsUr\",\"CHACvSk\",\"CHAkWpy\",\"CHAq0pF\",\"CHArTAX\",\"CHCEi5r\",\"CHDPM_n\",\"CHcVEkH\",\"CHeQlMQ\",\"CHe_56k\",\"CHhm_d4\",\"CHritGV\",\"CHhu7d9\",\"CHkYFO5\",\"CHmTdAl\",\"CHo-E2l\",\"CHoNq-k\",\"CHq4isO\",\"CHsVcse\",\"CHzxXBQ\",\"CHvNA_f\",\"CHvolP1\",\"CHwZMmI\",\"CHwzCuK\",\"CHxOZuU\",\"CHzgxx_\",\"CH3-ec2\",\"CH2TjEZ\",\"CH0D7tP\",\"CH-jHB5\",\"CH-IG_h\"],\"xaxis\":\"x\",\"y\":[13,11,9,8,8,8,8,8,7,6,6,6,5,5,5,4,3,3,3,3,3,3,3,3,3,3,3,2,2,2,2,2,2,2,2,2,2,2,2,2,1,1,1,1,1,1,1,1,1,1,1,1,1,1,1,1,1,1,1,1,1,1,1,1,1,1,1,1,1,1,1,1,1,1,1,1,1,1,1,1,1,1,1,1,1,1,1,1,1,1,1,1,1,1,1,1,1,1],\"yaxis\":\"y\",\"type\":\"bar\"},{\"alignmentgroup\":\"True\",\"hovertemplate\":\"category_name=Film & Animation<br>channel_id=%{x}<br>video_id=%{y}<extra></extra>\",\"legendgroup\":\"Film & Animation\",\"marker\":{\"color\":\"#19d3f3\",\"pattern\":{\"shape\":\"\"}},\"name\":\"Film & Animation\",\"offsetgroup\":\"Film & Animation\",\"orientation\":\"v\",\"showlegend\":true,\"textposition\":\"auto\",\"x\":[\"CHszFjh\",\"CHRuSxV\",\"CH6u3fo\",\"CHi-XI2\",\"CHUK4Yj\",\"CHz2Kbg\",\"CHSB5FO\",\"CHHj3qb\",\"CH6q6s6\",\"CHgmmc5\",\"CHK9PdJ\",\"CHaT8jY\",\"CHxDsmO\",\"CHxlv4a\",\"CHym553\",\"CHuRZ7_\",\"CHuKKkB\",\"CHs0P4G\",\"CH3zQwS\",\"CHCcE8B\",\"CHlN3o2\",\"CHFnuC4\",\"CHH3mJ-\",\"CHRI5Ze\",\"CHW0gUN\",\"CHY2wHB\",\"CHdq61m\"],\"xaxis\":\"x\",\"y\":[13,10,7,5,5,4,3,3,3,2,2,2,1,1,1,1,1,1,1,1,1,1,1,1,1,1,1],\"yaxis\":\"y\",\"type\":\"bar\"},{\"alignmentgroup\":\"True\",\"hovertemplate\":\"category_name=News & Politics<br>channel_id=%{x}<br>video_id=%{y}<extra></extra>\",\"legendgroup\":\"News & Politics\",\"marker\":{\"color\":\"#FF6692\",\"pattern\":{\"shape\":\"\"}},\"name\":\"News & Politics\",\"offsetgroup\":\"News & Politics\",\"orientation\":\"v\",\"showlegend\":true,\"textposition\":\"auto\",\"x\":[\"CHsU-I-\",\"CHF4Wxd\",\"CHhlgI3\",\"CH-0C8y\",\"CHMEbRp\",\"CH_U34U\",\"CHHBvfB\",\"CHAySce\",\"CHcQTRi\",\"CHkinYT\",\"CHj3_t5\",\"CHIDOGT\",\"CHH3mJ-\",\"CHG9aFJ\",\"CHfq4V1\",\"CHQabOR\",\"CH0imOR\",\"CH1aS5C\",\"CHoxT1k\",\"CHizGMt\",\"CHYRrUD\",\"CHTHCOP\",\"CHPTy0B\",\"CH8d0Zg\",\"CHWlV3L\",\"CHMGn0N\",\"CHMLJc_\",\"CHF8AeL\",\"CHzz58-\",\"CHy-6oZ\",\"CHwRljh\",\"CHawCv9\",\"CHnfwIK\",\"CHu35od\",\"CHwCrPg\",\"CHomhAm\",\"CHliLFb\",\"CHjg8Yu\",\"CH7cF2Z\",\"CH88r6m\",\"CH9thBC\",\"CHGCGxs\",\"CHIIpmD\",\"CHIMOyt\",\"CHIipmg\",\"CHKhcMX\",\"CHLKugl\",\"CHPfxQo\",\"CHTTmtS\",\"CHWskYk\",\"CHZQj9d\",\"CHbMjg2\",\"CHeFUGS\",\"CH5GZQW\",\"CH4Aa3O\",\"CH2fNt6\"],\"xaxis\":\"x\",\"y\":[11,9,8,7,7,6,6,6,6,6,5,4,4,4,4,4,3,3,3,3,3,3,3,3,2,2,2,2,2,2,2,2,2,1,1,1,1,1,1,1,1,1,1,1,1,1,1,1,1,1,1,1,1,1,1,1],\"yaxis\":\"y\",\"type\":\"bar\"},{\"alignmentgroup\":\"True\",\"hovertemplate\":\"category_name=Education<br>channel_id=%{x}<br>video_id=%{y}<extra></extra>\",\"legendgroup\":\"Education\",\"marker\":{\"color\":\"#B6E880\",\"pattern\":{\"shape\":\"\"}},\"name\":\"Education\",\"offsetgroup\":\"Education\",\"orientation\":\"v\",\"showlegend\":true,\"textposition\":\"auto\",\"x\":[\"CHicKQU\",\"CHl7MKZ\",\"CHuh6Br\",\"CH7F6UD\",\"CHvW8no\",\"CHnaGfD\",\"CHBJs8l\",\"CHHpIHu\",\"CHJ7LVh\",\"CHD902z\",\"CHCt6iN\",\"CH6xugt\",\"CH1-lwA\",\"CHPvwqh\",\"CH-9RQC\",\"CH5YHB-\",\"CHBM86J\",\"CHMFk5S\",\"CHO0OSA\",\"CHZ4T91\",\"CHcWXel\",\"CHgheNM\",\"CHiV4_c\",\"CHjPqSb\",\"CHma37f\",\"CHnLO88\",\"CHznImS\"],\"xaxis\":\"x\",\"y\":[10,7,7,4,3,3,3,3,3,2,2,2,2,1,1,1,1,1,1,1,1,1,1,1,1,1,1],\"yaxis\":\"y\",\"type\":\"bar\"},{\"alignmentgroup\":\"True\",\"hovertemplate\":\"category_name=Howto & Style<br>channel_id=%{x}<br>video_id=%{y}<extra></extra>\",\"legendgroup\":\"Howto & Style\",\"marker\":{\"color\":\"#FF97FF\",\"pattern\":{\"shape\":\"\"}},\"name\":\"Howto & Style\",\"offsetgroup\":\"Howto & Style\",\"orientation\":\"v\",\"showlegend\":true,\"textposition\":\"auto\",\"x\":[\"CHd4Fmc\",\"CHn64fS\",\"CHVXx89\",\"CHIZ5rC\",\"CHBTytr\",\"CHKrhyP\",\"CHzIOIS\",\"CHy2WX3\",\"CHWrh9h\",\"CH2gasv\",\"CHZCvbW\",\"CHj8zZ1\",\"CHp94pz\",\"CHKm-cu\",\"CH6LBdA\",\"CH8wHwv\",\"CHiNS0K\",\"CHyn7ao\",\"CHuFGPh\",\"CH2xkO7\",\"CHrpB5P\",\"CHpg89Y\",\"CHkxvX8\",\"CHvil4O\",\"CHL01un\",\"CH1g9Ja\",\"CH2DHU9\",\"CH5xK2X\",\"CHCG6BE\",\"CHLduRr\",\"CHWRb5Q\",\"CHWdmhZ\",\"CHXGh59\",\"CHayVh6\",\"CHcTWmz\",\"CHnCyCL\",\"CHnZ8qy\",\"CHnekLi\",\"CHrxSR4\",\"CHxjZ0G\",\"CHz72_x\",\"CH5q0PI\",\"CH1UebY\",\"CH1EEpE\"],\"xaxis\":\"x\",\"y\":[8,7,6,6,6,6,5,5,5,4,4,4,4,3,3,3,3,3,2,2,2,2,2,2,2,2,1,1,1,1,1,1,1,1,1,1,1,1,1,1,1,1,1,1],\"yaxis\":\"y\",\"type\":\"bar\"},{\"alignmentgroup\":\"True\",\"hovertemplate\":\"category_name=Gaming<br>channel_id=%{x}<br>video_id=%{y}<extra></extra>\",\"legendgroup\":\"Gaming\",\"marker\":{\"color\":\"#FECB52\",\"pattern\":{\"shape\":\"\"}},\"name\":\"Gaming\",\"offsetgroup\":\"Gaming\",\"orientation\":\"v\",\"showlegend\":true,\"textposition\":\"auto\",\"x\":[\"CH8CIM3\",\"CHdrBnB\",\"CHxM_h0\",\"CHw1Dsw\",\"CHefUNE\",\"CHooLkG\",\"CH9_093\",\"CHBUNoF\",\"CHDBAVz\",\"CHzgNzU\",\"CHBA9Xa\",\"CHAOTbN\",\"CH31ypO\",\"CHom6Yh\",\"CHU_hKD\",\"CHmCNgL\",\"CHSOeJW\",\"CH2NFRq\",\"CH48NSS\",\"CH8C0Yd\",\"CH9-LID\",\"CH9aEa6\",\"CHBrb8H\",\"CHDyc0_\",\"CHGIY_O\",\"CHHxKSi\",\"CHK3p1w\",\"CHMPM0h\",\"CHNzcxC\",\"CHOKQpm\",\"CHY9pEH\",\"CHcum1r\",\"CHmMxEF\",\"CHeHFCf\",\"CHeudxd\",\"CHfycsf\",\"CHg7rkx\",\"CHj-6sZ\",\"CHlJspS\",\"CHms8Ge\",\"CHyTB7U\",\"CHnss3B\",\"CHoyaxd\",\"CHpDtPd\",\"CHpYaDy\",\"CHta_NR\",\"CHuOUU4\"],\"xaxis\":\"x\",\"y\":[7,6,3,3,3,3,3,3,3,3,2,2,2,2,2,2,1,1,1,1,1,1,1,1,1,1,1,1,1,1,1,1,1,1,1,1,1,1,1,1,1,1,1,1,1,1,1],\"yaxis\":\"y\",\"type\":\"bar\"},{\"alignmentgroup\":\"True\",\"hovertemplate\":\"category_name=Travel & Events<br>channel_id=%{x}<br>video_id=%{y}<extra></extra>\",\"legendgroup\":\"Travel & Events\",\"marker\":{\"color\":\"#636efa\",\"pattern\":{\"shape\":\"\"}},\"name\":\"Travel & Events\",\"offsetgroup\":\"Travel & Events\",\"orientation\":\"v\",\"showlegend\":true,\"textposition\":\"auto\",\"x\":[\"CHlRNDV\",\"CHFw4M1\",\"CH4KYnI\",\"CHFCtZJ\",\"CHPDdt9\",\"CHPll9Z\",\"CHa0aTy\",\"CHMZO-3\",\"CH673sG\",\"CHsLoTw\"],\"xaxis\":\"x\",\"y\":[7,3,2,2,2,2,2,1,1,1],\"yaxis\":\"y\",\"type\":\"bar\"},{\"alignmentgroup\":\"True\",\"hovertemplate\":\"category_name=Science & Technology<br>channel_id=%{x}<br>video_id=%{y}<extra></extra>\",\"legendgroup\":\"Science & Technology\",\"marker\":{\"color\":\"#EF553B\",\"pattern\":{\"shape\":\"\"}},\"name\":\"Science & Technology\",\"offsetgroup\":\"Science & Technology\",\"orientation\":\"v\",\"showlegend\":true,\"textposition\":\"auto\",\"x\":[\"CHdUcjk\",\"CH3dJKw\",\"CHJJ_n7\",\"CHIk1-y\",\"CHFX6ad\",\"CHE_M8A\",\"CHB11SA\",\"CHUkuuo\",\"CH_0oo0\",\"CHJiv3w\",\"CHO4RG1\",\"CHWnC1r\",\"CHWwgaK\",\"CHYAvG7\",\"CHb-Abq\",\"CHdpbqw\",\"CHj-MI9\",\"CHrBpV_\",\"CHJKZoV\",\"CH5aNQ6\"],\"xaxis\":\"x\",\"y\":[7,3,3,2,2,2,2,2,2,1,1,1,1,1,1,1,1,1,1,1],\"yaxis\":\"y\",\"type\":\"bar\"},{\"alignmentgroup\":\"True\",\"hovertemplate\":\"category_name=Pets & Animals<br>channel_id=%{x}<br>video_id=%{y}<extra></extra>\",\"legendgroup\":\"Pets & Animals\",\"marker\":{\"color\":\"#00cc96\",\"pattern\":{\"shape\":\"\"}},\"name\":\"Pets & Animals\",\"offsetgroup\":\"Pets & Animals\",\"orientation\":\"v\",\"showlegend\":true,\"textposition\":\"auto\",\"x\":[\"CH29-Il\",\"CH69l_r\",\"CHAhKKb\",\"CHOp66V\",\"CHgsgpE\",\"CHi_IoQ\",\"CH22go5\",\"CHOv1v2\",\"CHPTM-N\",\"CHHLDBh\",\"CH3PSZi\",\"CHkuA_g\",\"CHETBLy\",\"CH89A41\",\"CHHXnna\",\"CH-IYpd\",\"CH04-af\",\"CH5AAf4\",\"CHHgL0B\",\"CHP1CQH\",\"CHX2laR\",\"CHa2LU4\",\"CHd1TDy\",\"CHf0Mkc\",\"CHj-rqv\",\"CHtbOb9\",\"CHzjDgV\"],\"xaxis\":\"x\",\"y\":[6,5,5,4,4,4,4,3,3,3,3,3,2,2,2,1,1,1,1,1,1,1,1,1,1,1,1],\"yaxis\":\"y\",\"type\":\"bar\"},{\"alignmentgroup\":\"True\",\"hovertemplate\":\"category_name=Autos & Vehicles<br>channel_id=%{x}<br>video_id=%{y}<extra></extra>\",\"legendgroup\":\"Autos & Vehicles\",\"marker\":{\"color\":\"#ab63fa\",\"pattern\":{\"shape\":\"\"}},\"name\":\"Autos & Vehicles\",\"offsetgroup\":\"Autos & Vehicles\",\"orientation\":\"v\",\"showlegend\":true,\"textposition\":\"auto\",\"x\":[\"CHPbxBh\",\"CHiubh7\",\"CHrOl7I\",\"CH2xkO7\",\"CHrXkDA\",\"CHd5CdY\",\"CHH5U89\",\"CHDpnvN\",\"CH5f97D\",\"CH-IBt8\",\"CHp0B9n\",\"CHKnKi2\",\"CHSkpiP\",\"CHWY41Q\",\"CHYVZ6z\",\"CH_rBRr\",\"CHkGHfa\",\"CHs2TmE\",\"CHyF14S\"],\"xaxis\":\"x\",\"y\":[3,3,3,2,2,2,2,2,2,1,1,1,1,1,1,1,1,1,1],\"yaxis\":\"y\",\"type\":\"bar\"},{\"alignmentgroup\":\"True\",\"hovertemplate\":\"category_name=Nonprofits & Activism<br>channel_id=%{x}<br>video_id=%{y}<extra></extra>\",\"legendgroup\":\"Nonprofits & Activism\",\"marker\":{\"color\":\"#FFA15A\",\"pattern\":{\"shape\":\"\"}},\"name\":\"Nonprofits & Activism\",\"offsetgroup\":\"Nonprofits & Activism\",\"orientation\":\"v\",\"showlegend\":true,\"textposition\":\"auto\",\"x\":[\"CHSsWdU\"],\"xaxis\":\"x\",\"y\":[1],\"yaxis\":\"y\",\"type\":\"bar\"},{\"cells\":{\"align\":\"left\",\"values\":[[\"Autos & Vehicles\",\"Comedy\",\"Education\",\"Entertainment\",\"Film & Animation\",\"Gaming\",\"Howto & Style\",\"Music\",\"News & Politics\",\"Nonprofits & Activism\",\"People & Blogs\",\"Pets & Animals\",\"Science & Technology\",\"Sports\",\"Travel & Events\"],[19,50,27,312,27,47,44,98,56,1,166,27,20,66,10],[1.63,3.34,2.41,3.06,2.74,1.7,2.7,2.39,2.89,1.0,2.48,2.41,1.8,3.36,2.3],[3,14,10,17,13,7,8,13,11,1,14,6,7,15,7],[1,1,1,1,1,1,1,1,1,1,1,1,1,1,1],[31,167,65,954,74,80,119,234,162,1,411,65,36,222,23]]},\"header\":{\"align\":\"left\",\"values\":[\"category_name\",\"video_id size\",\"video_id mean\",\"video_id max\",\"video_id min\",\"video_id sum\"]},\"type\":\"table\",\"domain\":{\"x\":[0.0,1.0],\"y\":[0.0,0.475]}}],                        {\"template\":{\"data\":{\"bar\":[{\"error_x\":{\"color\":\"#2a3f5f\"},\"error_y\":{\"color\":\"#2a3f5f\"},\"marker\":{\"line\":{\"color\":\"#E5ECF6\",\"width\":0.5},\"pattern\":{\"fillmode\":\"overlay\",\"size\":10,\"solidity\":0.2}},\"type\":\"bar\"}],\"barpolar\":[{\"marker\":{\"line\":{\"color\":\"#E5ECF6\",\"width\":0.5},\"pattern\":{\"fillmode\":\"overlay\",\"size\":10,\"solidity\":0.2}},\"type\":\"barpolar\"}],\"carpet\":[{\"aaxis\":{\"endlinecolor\":\"#2a3f5f\",\"gridcolor\":\"white\",\"linecolor\":\"white\",\"minorgridcolor\":\"white\",\"startlinecolor\":\"#2a3f5f\"},\"baxis\":{\"endlinecolor\":\"#2a3f5f\",\"gridcolor\":\"white\",\"linecolor\":\"white\",\"minorgridcolor\":\"white\",\"startlinecolor\":\"#2a3f5f\"},\"type\":\"carpet\"}],\"choropleth\":[{\"colorbar\":{\"outlinewidth\":0,\"ticks\":\"\"},\"type\":\"choropleth\"}],\"contour\":[{\"colorbar\":{\"outlinewidth\":0,\"ticks\":\"\"},\"colorscale\":[[0.0,\"#0d0887\"],[0.1111111111111111,\"#46039f\"],[0.2222222222222222,\"#7201a8\"],[0.3333333333333333,\"#9c179e\"],[0.4444444444444444,\"#bd3786\"],[0.5555555555555556,\"#d8576b\"],[0.6666666666666666,\"#ed7953\"],[0.7777777777777778,\"#fb9f3a\"],[0.8888888888888888,\"#fdca26\"],[1.0,\"#f0f921\"]],\"type\":\"contour\"}],\"contourcarpet\":[{\"colorbar\":{\"outlinewidth\":0,\"ticks\":\"\"},\"type\":\"contourcarpet\"}],\"heatmap\":[{\"colorbar\":{\"outlinewidth\":0,\"ticks\":\"\"},\"colorscale\":[[0.0,\"#0d0887\"],[0.1111111111111111,\"#46039f\"],[0.2222222222222222,\"#7201a8\"],[0.3333333333333333,\"#9c179e\"],[0.4444444444444444,\"#bd3786\"],[0.5555555555555556,\"#d8576b\"],[0.6666666666666666,\"#ed7953\"],[0.7777777777777778,\"#fb9f3a\"],[0.8888888888888888,\"#fdca26\"],[1.0,\"#f0f921\"]],\"type\":\"heatmap\"}],\"heatmapgl\":[{\"colorbar\":{\"outlinewidth\":0,\"ticks\":\"\"},\"colorscale\":[[0.0,\"#0d0887\"],[0.1111111111111111,\"#46039f\"],[0.2222222222222222,\"#7201a8\"],[0.3333333333333333,\"#9c179e\"],[0.4444444444444444,\"#bd3786\"],[0.5555555555555556,\"#d8576b\"],[0.6666666666666666,\"#ed7953\"],[0.7777777777777778,\"#fb9f3a\"],[0.8888888888888888,\"#fdca26\"],[1.0,\"#f0f921\"]],\"type\":\"heatmapgl\"}],\"histogram\":[{\"marker\":{\"pattern\":{\"fillmode\":\"overlay\",\"size\":10,\"solidity\":0.2}},\"type\":\"histogram\"}],\"histogram2d\":[{\"colorbar\":{\"outlinewidth\":0,\"ticks\":\"\"},\"colorscale\":[[0.0,\"#0d0887\"],[0.1111111111111111,\"#46039f\"],[0.2222222222222222,\"#7201a8\"],[0.3333333333333333,\"#9c179e\"],[0.4444444444444444,\"#bd3786\"],[0.5555555555555556,\"#d8576b\"],[0.6666666666666666,\"#ed7953\"],[0.7777777777777778,\"#fb9f3a\"],[0.8888888888888888,\"#fdca26\"],[1.0,\"#f0f921\"]],\"type\":\"histogram2d\"}],\"histogram2dcontour\":[{\"colorbar\":{\"outlinewidth\":0,\"ticks\":\"\"},\"colorscale\":[[0.0,\"#0d0887\"],[0.1111111111111111,\"#46039f\"],[0.2222222222222222,\"#7201a8\"],[0.3333333333333333,\"#9c179e\"],[0.4444444444444444,\"#bd3786\"],[0.5555555555555556,\"#d8576b\"],[0.6666666666666666,\"#ed7953\"],[0.7777777777777778,\"#fb9f3a\"],[0.8888888888888888,\"#fdca26\"],[1.0,\"#f0f921\"]],\"type\":\"histogram2dcontour\"}],\"mesh3d\":[{\"colorbar\":{\"outlinewidth\":0,\"ticks\":\"\"},\"type\":\"mesh3d\"}],\"parcoords\":[{\"line\":{\"colorbar\":{\"outlinewidth\":0,\"ticks\":\"\"}},\"type\":\"parcoords\"}],\"pie\":[{\"automargin\":true,\"type\":\"pie\"}],\"scatter\":[{\"marker\":{\"colorbar\":{\"outlinewidth\":0,\"ticks\":\"\"}},\"type\":\"scatter\"}],\"scatter3d\":[{\"line\":{\"colorbar\":{\"outlinewidth\":0,\"ticks\":\"\"}},\"marker\":{\"colorbar\":{\"outlinewidth\":0,\"ticks\":\"\"}},\"type\":\"scatter3d\"}],\"scattercarpet\":[{\"marker\":{\"colorbar\":{\"outlinewidth\":0,\"ticks\":\"\"}},\"type\":\"scattercarpet\"}],\"scattergeo\":[{\"marker\":{\"colorbar\":{\"outlinewidth\":0,\"ticks\":\"\"}},\"type\":\"scattergeo\"}],\"scattergl\":[{\"marker\":{\"colorbar\":{\"outlinewidth\":0,\"ticks\":\"\"}},\"type\":\"scattergl\"}],\"scattermapbox\":[{\"marker\":{\"colorbar\":{\"outlinewidth\":0,\"ticks\":\"\"}},\"type\":\"scattermapbox\"}],\"scatterpolar\":[{\"marker\":{\"colorbar\":{\"outlinewidth\":0,\"ticks\":\"\"}},\"type\":\"scatterpolar\"}],\"scatterpolargl\":[{\"marker\":{\"colorbar\":{\"outlinewidth\":0,\"ticks\":\"\"}},\"type\":\"scatterpolargl\"}],\"scatterternary\":[{\"marker\":{\"colorbar\":{\"outlinewidth\":0,\"ticks\":\"\"}},\"type\":\"scatterternary\"}],\"surface\":[{\"colorbar\":{\"outlinewidth\":0,\"ticks\":\"\"},\"colorscale\":[[0.0,\"#0d0887\"],[0.1111111111111111,\"#46039f\"],[0.2222222222222222,\"#7201a8\"],[0.3333333333333333,\"#9c179e\"],[0.4444444444444444,\"#bd3786\"],[0.5555555555555556,\"#d8576b\"],[0.6666666666666666,\"#ed7953\"],[0.7777777777777778,\"#fb9f3a\"],[0.8888888888888888,\"#fdca26\"],[1.0,\"#f0f921\"]],\"type\":\"surface\"}],\"table\":[{\"cells\":{\"fill\":{\"color\":\"#EBF0F8\"},\"line\":{\"color\":\"white\"}},\"header\":{\"fill\":{\"color\":\"#C8D4E3\"},\"line\":{\"color\":\"white\"}},\"type\":\"table\"}]},\"layout\":{\"annotationdefaults\":{\"arrowcolor\":\"#2a3f5f\",\"arrowhead\":0,\"arrowwidth\":1},\"autotypenumbers\":\"strict\",\"coloraxis\":{\"colorbar\":{\"outlinewidth\":0,\"ticks\":\"\"}},\"colorscale\":{\"diverging\":[[0,\"#8e0152\"],[0.1,\"#c51b7d\"],[0.2,\"#de77ae\"],[0.3,\"#f1b6da\"],[0.4,\"#fde0ef\"],[0.5,\"#f7f7f7\"],[0.6,\"#e6f5d0\"],[0.7,\"#b8e186\"],[0.8,\"#7fbc41\"],[0.9,\"#4d9221\"],[1,\"#276419\"]],\"sequential\":[[0.0,\"#0d0887\"],[0.1111111111111111,\"#46039f\"],[0.2222222222222222,\"#7201a8\"],[0.3333333333333333,\"#9c179e\"],[0.4444444444444444,\"#bd3786\"],[0.5555555555555556,\"#d8576b\"],[0.6666666666666666,\"#ed7953\"],[0.7777777777777778,\"#fb9f3a\"],[0.8888888888888888,\"#fdca26\"],[1.0,\"#f0f921\"]],\"sequentialminus\":[[0.0,\"#0d0887\"],[0.1111111111111111,\"#46039f\"],[0.2222222222222222,\"#7201a8\"],[0.3333333333333333,\"#9c179e\"],[0.4444444444444444,\"#bd3786\"],[0.5555555555555556,\"#d8576b\"],[0.6666666666666666,\"#ed7953\"],[0.7777777777777778,\"#fb9f3a\"],[0.8888888888888888,\"#fdca26\"],[1.0,\"#f0f921\"]]},\"colorway\":[\"#636efa\",\"#EF553B\",\"#00cc96\",\"#ab63fa\",\"#FFA15A\",\"#19d3f3\",\"#FF6692\",\"#B6E880\",\"#FF97FF\",\"#FECB52\"],\"font\":{\"color\":\"#2a3f5f\"},\"geo\":{\"bgcolor\":\"white\",\"lakecolor\":\"white\",\"landcolor\":\"#E5ECF6\",\"showlakes\":true,\"showland\":true,\"subunitcolor\":\"white\"},\"hoverlabel\":{\"align\":\"left\"},\"hovermode\":\"closest\",\"mapbox\":{\"style\":\"light\"},\"paper_bgcolor\":\"white\",\"plot_bgcolor\":\"#E5ECF6\",\"polar\":{\"angularaxis\":{\"gridcolor\":\"white\",\"linecolor\":\"white\",\"ticks\":\"\"},\"bgcolor\":\"#E5ECF6\",\"radialaxis\":{\"gridcolor\":\"white\",\"linecolor\":\"white\",\"ticks\":\"\"}},\"scene\":{\"xaxis\":{\"backgroundcolor\":\"#E5ECF6\",\"gridcolor\":\"white\",\"gridwidth\":2,\"linecolor\":\"white\",\"showbackground\":true,\"ticks\":\"\",\"zerolinecolor\":\"white\"},\"yaxis\":{\"backgroundcolor\":\"#E5ECF6\",\"gridcolor\":\"white\",\"gridwidth\":2,\"linecolor\":\"white\",\"showbackground\":true,\"ticks\":\"\",\"zerolinecolor\":\"white\"},\"zaxis\":{\"backgroundcolor\":\"#E5ECF6\",\"gridcolor\":\"white\",\"gridwidth\":2,\"linecolor\":\"white\",\"showbackground\":true,\"ticks\":\"\",\"zerolinecolor\":\"white\"}},\"shapedefaults\":{\"line\":{\"color\":\"#2a3f5f\"}},\"ternary\":{\"aaxis\":{\"gridcolor\":\"white\",\"linecolor\":\"white\",\"ticks\":\"\"},\"baxis\":{\"gridcolor\":\"white\",\"linecolor\":\"white\",\"ticks\":\"\"},\"bgcolor\":\"#E5ECF6\",\"caxis\":{\"gridcolor\":\"white\",\"linecolor\":\"white\",\"ticks\":\"\"}},\"title\":{\"x\":0.05},\"xaxis\":{\"automargin\":true,\"gridcolor\":\"white\",\"linecolor\":\"white\",\"ticks\":\"\",\"title\":{\"standoff\":15},\"zerolinecolor\":\"white\",\"zerolinewidth\":2},\"yaxis\":{\"automargin\":true,\"gridcolor\":\"white\",\"linecolor\":\"white\",\"ticks\":\"\",\"title\":{\"standoff\":15},\"zerolinecolor\":\"white\",\"zerolinewidth\":2}}},\"xaxis\":{\"anchor\":\"y\",\"domain\":[0.0,1.0]},\"yaxis\":{\"anchor\":\"x\",\"domain\":[0.525,1.0]}},                        {\"responsive\": true}                    ).then(function(){\n",
       "                            \n",
       "var gd = document.getElementById('81cb35c1-5229-407f-9dca-06840f2c5ab3');\n",
       "var x = new MutationObserver(function (mutations, observer) {{\n",
       "        var display = window.getComputedStyle(gd).display;\n",
       "        if (!display || display === 'none') {{\n",
       "            console.log([gd, 'removed!']);\n",
       "            Plotly.purge(gd);\n",
       "            observer.disconnect();\n",
       "        }}\n",
       "}});\n",
       "\n",
       "// Listen for the removal of the full notebook cells\n",
       "var notebookContainer = gd.closest('#notebook-container');\n",
       "if (notebookContainer) {{\n",
       "    x.observe(notebookContainer, {childList: true});\n",
       "}}\n",
       "\n",
       "// Listen for the clearing of the current output cell\n",
       "var outputEl = gd.closest('.output');\n",
       "if (outputEl) {{\n",
       "    x.observe(outputEl, {childList: true});\n",
       "}}\n",
       "\n",
       "                        })                };                });            </script>        </div>"
      ]
     },
     "metadata": {},
     "output_type": "display_data"
    }
   ],
   "source": [
    "# make subplots with tables\n",
    "\n",
    "import plotly.graph_objects as go\n",
    "from plotly.subplots import make_subplots\n",
    "\n",
    "fig = make_subplots(rows=8, cols=2, \n",
    "                    vertical_spacing=0.05,\n",
    "                    specs=[\n",
    "                        [{\"type\": \"bar\"}],\n",
    "                        [{\"type\": \"table\"}]\n",
    "                    ]\n",
    ")\n",
    "\n",
    "#bar1 = px.bar(q1_1, y='video_id',x='channel_id' ,color='category_name',orientation='v',barmode='stack')\n",
    "\n",
    "#for trace in bar1.data:\n",
    "#    fig.add_trace(trace, row=1, col=1)\n",
    "\n",
    "\n",
    "\n",
    "\n",
    "\n",
    "\n",
    "\n",
    "\n",
    "# q1_1_summarize\n",
    "fig.add_trace(go.Table(\n",
    "    header=dict(values=list(q1_1_summarize.columns),\n",
    "                            align='left'),\n",
    "    cells=dict(values=[q1_1_summarize[k].tolist() for k in q1_1_summarize.columns[0:]],\n",
    "            align='left')),row = 2, col=1)"
   ]
  },
  {
   "cell_type": "code",
   "execution_count": 15,
   "metadata": {},
   "outputs": [
    {
     "data": {
      "text/plain": [
       "(940,)"
      ]
     },
     "execution_count": 15,
     "metadata": {},
     "output_type": "execute_result"
    }
   ],
   "source": [
    "pd.unique(q1_1['channel_id']).shape"
   ]
  },
  {
   "cell_type": "code",
   "execution_count": 93,
   "metadata": {},
   "outputs": [
    {
     "data": {
      "image/png": "[encoded data removed]",
      "text/plain": [
       "<Figure size 1080x72 with 1 Axes>"
      ]
     },
     "metadata": {
      "needs_background": "light"
     },
     "output_type": "display_data"
    }
   ],
   "source": [
    "### 그림 설정 \n",
    "\n",
    "# 색상 설정\n",
    "color_cat = sns.color_palette(\"Set1\", 15)\n",
    "sns.palplot(color_cat)"
   ]
  },
  {
   "cell_type": "code",
   "execution_count": null,
   "metadata": {},
   "outputs": [],
   "source": []
  },
  {
   "cell_type": "code",
   "execution_count": 47,
   "metadata": {},
   "outputs": [
    {
     "data": {
      "text/plain": [
       "<AxesSubplot:title={'center':'Video Count per Categories'}, xlabel='Video Count', ylabel='Category'>"
      ]
     },
     "execution_count": 47,
     "metadata": {},
     "output_type": "execute_result"
    }
   ],
   "source": [
    "ax "
   ]
  },
  {
   "cell_type": "code",
   "execution_count": 48,
   "metadata": {},
   "outputs": [
    {
     "data": {
      "image/png": "[encoded data removed]",
      "text/plain": [
       "<Figure size 1152x720 with 1 Axes>"
      ]
     },
     "metadata": {
      "needs_background": "light"
     },
     "output_type": "display_data"
    }
   ],
   "source": [
    "fig2, ax2 = plt.subplots(figsize=(16,10))\n",
    "sns.set_palette(qualitative_colors)\n",
    "sns.barplot(x=q1_1['video_id'], y=q1_1.index, ax=ax, orient='h')\n",
    "ax.bar_label(ax.containers[0], label_type='edge')  # bar label 추가\n",
    "plt.tight_layout()\n",
    "# label\n",
    "plt.gca().set(title='Video Count per Channel',xlabel='Video Count', ylabel='Category')\n",
    "plt.show()"
   ]
  },
  {
   "cell_type": "code",
   "execution_count": 49,
   "metadata": {},
   "outputs": [
    {
     "data": {
      "text/plain": [
       "<AxesSubplot:title={'center':'Video Count per Channel'}, xlabel='Video Count', ylabel='Category'>"
      ]
     },
     "execution_count": 49,
     "metadata": {},
     "output_type": "execute_result"
    }
   ],
   "source": [
    "ax2"
   ]
  },
  {
   "cell_type": "code",
   "execution_count": null,
   "metadata": {},
   "outputs": [],
   "source": []
  }
 ],
 "metadata": {
  "interpreter": {
   "hash": "af10c12910fe547a104a4e7054f6b738e5a585692cba659c6842421994a84dc5"
  },
  "kernelspec": {
   "display_name": "Python 3.8.12 ('datamind')",
   "language": "python",
   "name": "python3"
  },
  "language_info": {
   "codemirror_mode": {
    "name": "ipython",
    "version": 3
   },
   "file_extension": ".py",
   "mimetype": "text/x-python",
   "name": "python",
   "nbconvert_exporter": "python",
   "pygments_lexer": "ipython3",
   "version": "3.8.12"
  },
  "orig_nbformat": 4
 },
 "nbformat": 4,
 "nbformat_minor": 2
}
