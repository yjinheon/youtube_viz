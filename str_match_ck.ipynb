{
 "cells": [
  {
   "cell_type": "markdown",
   "metadata": {},
   "source": [
    "## 기업과제 1 문자열 매칭"
   ]
  },
  {
   "cell_type": "code",
   "execution_count": 3,
   "metadata": {},
   "outputs": [
    {
     "data": {
      "text/plain": [
       "'\\nimport sys\\n\\n\\nstr_list = [] # 패턴문자열 list\\n\\nn = int(input()) # 패턴문자열\\n\\nfor i in range(n):\\n    str_list.append(str(input()))\\n\\nn_match = int(input())  # 매칭대상 문자열 수\\n\\nmatch_list = [] # 매칭대상 문자열 리스트\\n\\nfor i in range(n_match):\\n    match_list.append(str(input()))\\n\\n# Q1 부분문자열 소속 여부에 따라 YES/NO 출력\\ndef str_match(match_list,str_list):\\n    for i in match_list:\\n            res = [\"YES\" if j in i else \"NO\" for j in str_list]\\n            print(\" \".join(res))\\n\\n# Q2 첫번째로 매칭된 패턴의 시작포지션과 문자열 패턴을 출력\\ndef pos_patten(match_list,string_list):\\n    for i in match_list:\\n        for (_,item) in enumerate(string_list):\\n            if item in i:\\n                print(f\"#pos= {i.index(item)}, pattern={item}\")\\n                            \\n\\n'"
      ]
     },
     "execution_count": 3,
     "metadata": {},
     "output_type": "execute_result"
    }
   ],
   "source": [
    "##string matching\n",
    "\n",
    "import sys\n",
    "\n",
    "\n",
    "str_list = [] # 패턴문자열 list\n",
    "\n",
    "n = int(input()) # 패턴문자열\n",
    "\n",
    "for i in range(n):\n",
    "    str_list.append(str(input()))\n",
    "\n",
    "n_match = int(input())  # 매칭대상 문자열 수\n",
    "\n",
    "match_list = [] # 매칭대상 문자열 리스트\n",
    "\n",
    "for i in range(n_match):\n",
    "    match_list.append(str(input()))\n"
   ]
  },
  {
   "cell_type": "code",
   "execution_count": 41,
   "metadata": {},
   "outputs": [],
   "source": [
    "# Q1 부분문자열 소속 여부에 따라 YES/NO 출력\n",
    "def str_match(match_list,str_list):\n",
    "    for i in match_list:\n",
    "            res = [\"YES\" if j in i else \"NO\" for j in str_list]\n",
    "            print(\" \".join(res))\n",
    "\n",
    "# Q2 첫번째로 매칭된 패턴의 시작포지션과 문자열 패턴을 출력\n",
    "def pos_patten(match_list,string_list):\n",
    "    for i in match_list:\n",
    "        for (_,item) in enumerate(string_list):\n",
    "            if item in i:\n",
    "                print(f\"#pos= {i.index(item)}, pattern={item}\")\n",
    "                \n",
    "\n",
    "# Q3  모믄 문자열 패턴 출력\n",
    "def count_pattern(pattern, string):\n",
    "    res = [m.start() for m in re.finditer(\n",
    "        '(?={0})'.format(re.escape(pattern)), string)]\n",
    "    for r in res:\n",
    "            print(f\"#pos= {r}, pattern={pattern}\")\n",
    "\n"
   ]
  },
  {
   "cell_type": "code",
   "execution_count": 42,
   "metadata": {},
   "outputs": [
    {
     "name": "stdout",
     "output_type": "stream",
     "text": [
      "Q1\n",
      "YES YES YES YES YES YES YES YES NO\n",
      "NO NO YES YES YES YES YES NO NO\n",
      "\n",
      "\n",
      "Q2\n",
      "#pos= 0, pattern=aaa\n",
      "#pos= 0, pattern=aaaabb\n",
      "#pos= 6, pattern=aabbcc\n",
      "#pos= 3, pattern=abb\n",
      "#pos= 9, pattern=bcc\n",
      "#pos= 8, pattern=bbcc\n",
      "#pos= 6, pattern=aabbccdd\n",
      "#pos= 1, pattern=aaabb\n",
      "#pos= 0, pattern=aabbcc\n",
      "#pos= 1, pattern=abb\n",
      "#pos= 3, pattern=bcc\n",
      "#pos= 2, pattern=bbcc\n",
      "#pos= 0, pattern=aabbccdd\n",
      "\n",
      "\n",
      "Q3\n",
      "#pos= 0, pattern=aaa\n",
      "#pos= 1, pattern=aaa\n",
      "#pos= 0, pattern=aaaabb\n",
      "#pos= 6, pattern=aabbcc\n",
      "#pos= 3, pattern=abb\n",
      "#pos= 7, pattern=abb\n",
      "#pos= 9, pattern=bcc\n",
      "#pos= 8, pattern=bbcc\n",
      "#pos= 6, pattern=aabbccdd\n",
      "#pos= 1, pattern=aaabb\n"
     ]
    }
   ],
   "source": [
    "# test \n",
    "\n",
    "# 테스트 패턴\n",
    "test_string = [\"aaa\",\"aaaabb\", \"aabbcc\", \"abb\", \"bcc\", \"bbcc\", \"aabbccdd\", \"aaabb\", \"cccd\"]\n",
    "\n",
    "# 매칭문자열\n",
    "match_string = \"aaaabbaabbccdd\"\n",
    "match_string2 = \"aabbccdd\"\n",
    "\n",
    "match_l = [match_string, match_string2]\n",
    "\n",
    "print(\"Q1\")\n",
    "str_match(match_l,test_string)\n",
    "print(\"\\n\")\n",
    "print(\"Q2\")\n",
    "pos_patten(match_l,test_string)\n",
    "print(\"\\n\")\n",
    "print(\"Q3\")\n",
    "for p in test_string:\n",
    "    count_pattern(p,match_string)\n"
   ]
  },
  {
   "cell_type": "code",
   "execution_count": null,
   "metadata": {},
   "outputs": [],
   "source": []
  }
 ],
 "metadata": {
  "interpreter": {
   "hash": "af10c12910fe547a104a4e7054f6b738e5a585692cba659c6842421994a84dc5"
  },
  "kernelspec": {
   "display_name": "Python 3.8.12 ('datamind')",
   "language": "python",
   "name": "python3"
  },
  "language_info": {
   "codemirror_mode": {
    "name": "ipython",
    "version": 3
   },
   "file_extension": ".py",
   "mimetype": "text/x-python",
   "name": "python",
   "nbconvert_exporter": "python",
   "pygments_lexer": "ipython3",
   "version": "3.8.12"
  },
  "orig_nbformat": 4
 },
 "nbformat": 4,
 "nbformat_minor": 2
}
