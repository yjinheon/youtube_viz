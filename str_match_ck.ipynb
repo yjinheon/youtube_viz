{
 "cells": [
  {
   "cell_type": "code",
   "execution_count": null,
   "metadata": {},
   "outputs": [],
   "source": [
    "# string matching\n",
    "\n",
    "import sys\n",
    "\n",
    "str_list = []\n",
    "\n",
    "# \n",
    "n = int(sys.stdin.readline())\n",
    "\n",
    "for i in range(n):\n",
    "    str_list.append(list(map(int,sys.stdin.readLine().split())))\n",
    "\n",
    "# number of matching strings\n",
    "\n",
    "n_match = int(sys.stdin.readline())\n",
    "\n",
    "match_list = []\n",
    "\n",
    "for i in range(n_match):\n",
    "    match_list.append(list(map(int,sys.stdin.readline().split())))\n",
    "\n",
    "\n",
    "# Q1\n",
    "def str_match(match_list,str_list):\n",
    "    for i in match_list:\n",
    "            res = [\"YES\" if j in i else \"NO\" for j in str_list]\n",
    "            print(\" \".join(res))\n",
    "\n",
    "\n"
   ]
  },
  {
   "cell_type": "code",
   "execution_count": 13,
   "metadata": {},
   "outputs": [],
   "source": [
    "ex_string = [\"aaa\",\"aaaabb\", \"aabbcc\", \"abb\", \"bcc\", \"bbcc\", \"aabbccdd\", \"aaabb\", \"cccd\"]\n",
    "\n",
    "match_string=\"aaaabbaabbccdd\"\n",
    "\n",
    "match_string2 = \"aabbccdd\"\n",
    "\n",
    "match_l = [match_string, match_string2]\n",
    "\n"
   ]
  },
  {
   "cell_type": "code",
   "execution_count": 11,
   "metadata": {},
   "outputs": [
    {
     "name": "stdout",
     "output_type": "stream",
     "text": [
      "str_list: ['aaa', 'bbb', 'ccc']\n",
      "n: 3\n"
     ]
    },
    {
     "ename": "ValueError",
     "evalue": "invalid literal for int() with base 10: ''",
     "output_type": "error",
     "traceback": [
      "\u001b[0;31m---------------------------------------------------------------------------\u001b[0m",
      "\u001b[0;31mValueError\u001b[0m                                Traceback (most recent call last)",
      "\u001b[0;32m/tmp/ipykernel_1493195/3585162783.py\u001b[0m in \u001b[0;36m<module>\u001b[0;34m\u001b[0m\n\u001b[1;32m     10\u001b[0m \u001b[0mprint\u001b[0m\u001b[0;34m(\u001b[0m\u001b[0;34mf\"n: {n}\"\u001b[0m\u001b[0;34m)\u001b[0m\u001b[0;34m\u001b[0m\u001b[0;34m\u001b[0m\u001b[0m\n\u001b[1;32m     11\u001b[0m \u001b[0;34m\u001b[0m\u001b[0m\n\u001b[0;32m---> 12\u001b[0;31m \u001b[0mn_match\u001b[0m \u001b[0;34m=\u001b[0m \u001b[0mint\u001b[0m\u001b[0;34m(\u001b[0m\u001b[0minput\u001b[0m\u001b[0;34m(\u001b[0m\u001b[0;34m)\u001b[0m\u001b[0;34m)\u001b[0m\u001b[0;34m\u001b[0m\u001b[0;34m\u001b[0m\u001b[0m\n\u001b[0m\u001b[1;32m     13\u001b[0m \u001b[0;34m\u001b[0m\u001b[0m\n\u001b[1;32m     14\u001b[0m \u001b[0;34m\u001b[0m\u001b[0m\n",
      "\u001b[0;31mValueError\u001b[0m: invalid literal for int() with base 10: ''"
     ]
    }
   ],
   "source": [
    "str_list = []\n",
    "\n",
    "n = int(input())\n",
    "\n",
    "for i in range(n):\n",
    "    str_list.append(str(input()))\n",
    "\n",
    "    \n",
    "print(f\"str_list: {str_list}\")\n",
    "print(f\"n: {n}\")\n",
    "    \n",
    "n_match = int(input())\n",
    "\n",
    "\n",
    "match_list = []\n",
    "\n",
    "# [\"a\",\"b\",\"c\"]\n",
    "for i in range(n_match):\n",
    "    match_list.append(str(input()))\n",
    "    \n"
   ]
  },
  {
   "cell_type": "code",
   "execution_count": 14,
   "metadata": {},
   "outputs": [
    {
     "name": "stdout",
     "output_type": "stream",
     "text": [
      "YES YES YES YES YES YES YES YES NO\n",
      "NO NO YES YES YES YES YES NO NO\n"
     ]
    }
   ],
   "source": [
    "def str_match(match_list,str_list):\n",
    "    for i in match_list:\n",
    "            res = [\"YES\" if j in i else \"NO\" for j in str_list]\n",
    "            print(\" \".join(res))\n",
    "            \n",
    "str_match(match_l,ex_string)"
   ]
  },
  {
   "cell_type": "code",
   "execution_count": 26,
   "metadata": {},
   "outputs": [
    {
     "name": "stdout",
     "output_type": "stream",
     "text": [
      "#pos = 0, pattern =aaa\n",
      "#pos = 0, pattern =aaaabb\n",
      "#pos = 6, pattern =aabbcc\n",
      "#pos = 3, pattern =abb\n",
      "#pos = 9, pattern =bcc\n",
      "#pos = 8, pattern =bbcc\n",
      "#pos = 6, pattern =aabbccdd\n",
      "#pos = 1, pattern =aaabb\n"
     ]
    }
   ],
   "source": [
    "def get_pos_idx(match_string, ex_string):\n",
    "    for (i,item) in enumerate(ex_string):\n",
    "        if item in match_string:\n",
    "            print(f\"#pos = {match_string.index(item)}, pattern ={item}\")\n",
    "            \n",
    "get_pos_idx(match_string, ex_string)"
   ]
  },
  {
   "cell_type": "code",
   "execution_count": 27,
   "metadata": {},
   "outputs": [
    {
     "name": "stdout",
     "output_type": "stream",
     "text": [
      "#pos = 0, pattern =aaa\n",
      "#pos = 0, pattern =aaaabb\n",
      "#pos = 6, pattern =aabbcc\n",
      "#pos = 3, pattern =abb\n",
      "#pos = 9, pattern =bcc\n",
      "#pos = 8, pattern =bbcc\n",
      "#pos = 6, pattern =aabbccdd\n",
      "#pos = 1, pattern =aaabb\n",
      "#pos = 0, pattern =aabbcc\n",
      "#pos = 1, pattern =abb\n",
      "#pos = 3, pattern =bcc\n",
      "#pos = 2, pattern =bbcc\n",
      "#pos = 0, pattern =aabbccdd\n"
     ]
    }
   ],
   "source": [
    "for i in match_l:\n",
    "    get_pos_idx(i, ex_string)"
   ]
  },
  {
   "cell_type": "code",
   "execution_count": 22,
   "metadata": {},
   "outputs": [
    {
     "name": "stdout",
     "output_type": "stream",
     "text": [
      "#pos= 0, pattern=aaa\n",
      "#pos= 0, pattern=aaaabb\n",
      "#pos= 6, pattern=aabbcc\n",
      "#pos= 3, pattern=abb\n",
      "#pos= 9, pattern=bcc\n",
      "#pos= 8, pattern=bbcc\n",
      "#pos= 6, pattern=aabbccdd\n",
      "#pos= 1, pattern=aaabb\n",
      "#pos= 0, pattern=aabbcc\n",
      "#pos= 1, pattern=abb\n",
      "#pos= 3, pattern=bcc\n",
      "#pos= 2, pattern=bbcc\n",
      "#pos= 0, pattern=aabbccdd\n"
     ]
    }
   ],
   "source": [
    "def pos_patten(match_list,string_list):\n",
    "    for i in match_list:\n",
    "        for (j,item) in enumerate(string_list):\n",
    "            if item in i:\n",
    "                print(f\"#pos= {i.index(item)}, pattern={item}\")\n",
    "                \n",
    "pos_patten(match_l,ex_string)"
   ]
  },
  {
   "cell_type": "code",
   "execution_count": 24,
   "metadata": {},
   "outputs": [],
   "source": [
    "pos_patten(match_string,str_list)"
   ]
  },
  {
   "cell_type": "code",
   "execution_count": 23,
   "metadata": {},
   "outputs": [],
   "source": [
    "# print every possible and index of pattern in string\n",
    "def string_pattern(match_list,string_list):\n",
    "    for i in match_list:\n",
    "        for (j,item) in enumerate(string_list):\n",
    "            if item in i:\n",
    "                print(f\"#pos= {i.index(item)}, pattern={item}\")"
   ]
  },
  {
   "cell_type": "code",
   "execution_count": null,
   "metadata": {},
   "outputs": [],
   "source": []
  }
 ],
 "metadata": {
  "interpreter": {
   "hash": "af10c12910fe547a104a4e7054f6b738e5a585692cba659c6842421994a84dc5"
  },
  "kernelspec": {
   "display_name": "Python 3.8.12 ('datamind')",
   "language": "python",
   "name": "python3"
  },
  "language_info": {
   "codemirror_mode": {
    "name": "ipython",
    "version": 3
   },
   "file_extension": ".py",
   "mimetype": "text/x-python",
   "name": "python",
   "nbconvert_exporter": "python",
   "pygments_lexer": "ipython3",
   "version": "3.8.12"
  },
  "orig_nbformat": 4
 },
 "nbformat": 4,
 "nbformat_minor": 2
}
